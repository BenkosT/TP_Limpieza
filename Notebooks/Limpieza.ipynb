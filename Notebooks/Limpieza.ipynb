{
 "cells": [
  {
   "cell_type": "markdown",
   "id": "5dce77e0",
   "metadata": {},
   "source": [
    "# **Estandarizacion de nombres de mascaras, dataset y demas:**\n",
    "- Al aplicarle una mascara a un dataset seria conveniente primero definir la mascara y en otra linea de codigo aplicarsela al dataset. Esto para que podamos ver bien que le estamos aplicando y que condiciones tiene esa mascara.\n",
    "- Ojo con utilizar mascaras o alguna otra variable, dataframe y demas, definida mucho mas arriba. No vaya a ser que le cambiemos el nombre por x motivo y nos ollvidamos que mas abajo la usamos para otra cosa y se rompa todo\n",
    "- Los nombres para las cosas que sean en ingles, separando las palabras con \" _ \" y en lo posible que se pueda intuir mediante el nombre a que se refiere\n",
    "- Como practica totalmente arbitraria intentar que los nombres no tengan mas de 5 palabras. ej: \" mask_rooms_zeros \" , \" mask_rooms_surf_zeros \" y asi\n",
    "- Si le llamamos \" mask \" a algo, que realmente lo sea. No que sea ya una mascara aplicada a un dataset. Eso es el dataset data filtrado por la mascara\n",
    "- A estos nuevos dataset llamemosle igual que la mascara que le aplicamos solo que reemplazamos el nombre mask por data. ej:  \" mask_rooms_zeros \"=  \" data_rooms_zeros \";                   \" data_rooms_surf_zeros \" = \" data_rooms_surf_zeros \"\n",
    "- Cuando creemos un nuevo dataset, un array, una lista, una serie, mascara o lo que sea poner primero el nombre del tipo de objeto y despues lo que hace, para saber lo que es eso\n",
    "- Cuando hacemos una mascara para ver si algo es nulo o cero ponemos solo \" null \". Es para no alargar los nombres\n",
    "\n"
   ]
  },
  {
   "cell_type": "markdown",
   "id": "fa1c0ec1",
   "metadata": {},
   "source": [
    "## Hasta aca realizamos\n",
    "- Transformacion de todos los ceros a nulos\n",
    "- Limpieza de filas nulas\n",
    "- Eliminacion de columnas sin informacion relevante y con informacion redundante\n",
    "- Eliminacion de state_name que representen menos del 1% del total de instancias\n",
    "- Correccion en las variables surface_covered_in_m2 y surface_total_in_m2 en los casos que la primera era mayor que la segunda no siendo posible esto\n",
    "- Imputacion de nulos en la columna place_name (si hacemos el paso del split de place_with_parent_names ese paso hay que eliminarlo)\n",
    "- imputacion de datos de price_aprox_usd, surface_total_in_m2 y rooms mediante expresiones regulares de las columnas description y title\n",
    "- Imputacion de datos en surface_covered_in_m2 y surface_total_in_m2 cuando uno era nulo pero el otro no\n",
    "- Imputacion de las variables surface_total_in_m2, price_aprox_usd y price_usd_per_m2 mediante deduccion de otras variables conocidas\n",
    "- Definir si se desechan las instancias que representen menos del 1% en funcion del state_name. Este es un problema de granulacion, ya que con la actual nos quedamos con muy pocas instancias para el modelo, pero aumentando la granulacion (haciendo una agregacion de todas estas en una nueva categoria, ej: resto del pais), no desechamos las instancias y solo perdemos granularidad pero no toda la informacion.\n",
    "- Corregir el patron con el que se busca el precio, para encontrar valores en pesos tambien, haciendo dos grupos, de esta manera el que matchee el grupo dolar se imputa directamente y el que matchee el grupo pesos imputarlo haciendo una conversion del valor. Por facilidad de codigo se imputa el primer grupo que matchea. **GERA , BENKOS Y ERICK**\n",
    "- Sofisticar los patrones de las expresiones regulares para encontrar mas valores, especialmente en superficie. **GERA , BENKOS Y ERICK**\n",
    "- La columna operation y country_name contienen una unica variable, en el caso de operation es sell y en el caso de country_name es argentina. No tiene sentido mantener las columnas siendo que no aportan informacion. Definir su tratamiento **PREGUNTAR A FABRI**\n",
    "- Realizar una imputacion con media condicionada en rooms por superficie, y lugar. **GERA , BENKOS y ERICK** (falta la imputacion que no se bien como hacerla)\n",
    "- Realizar una imputacion por media condicionada en superficie por media condicionada en rooms y lugar **GERA , BENKOS y ERICK** (falta la imputacion que no se bien como hacerla)\n",
    "- Revisar si no hay otra forma de determinar el price y el price por metro cuadrado y si no lo hay tirar estas instancias que sean nulas **GERA , BENKOS y ERICK**\n",
    "- Darle un tratamiento a expensas y floor. En propiedades tipo casas esta bien que sean nulas pero en departamentos no. Igualmente hay informacion ahi, quizas no sea bueno tirarla. *Como propuesta podriamos buscarlo con expresiones regulares en description y title ya que no tenemos de donde mas sacarla* *Tambien se podria ver la correlacion entre las expensas y el lugar y la superficie y si se encuentra una correlacion imputarlo por media condicionada por ejemplo **GERA , BENKOS y ERICK** **PREGUNTAR A FABRI**\n",
    "## Falta realizar\n",
    "- Darle un tratamiento a lat y lon y geonames id **VIERNES GERA**\n",
    "- Creacion de nuevas columnas estilo **Cercania a un espacio verde** **Cercania a un subte** **Mapa de delito** **GERA, BENKOS y ERICK**\n",
    "- deteccion de outliers\n",
    "- Desechar las instancias que son outliers y que tienen nulos que no deberian tener\n",
    "- EDA:  y representacion de datos y medidas estadisticas **PABLO Y ALE**\n",
    "- Presentacion, formato revision de integridad de informacion **PABLO Y ALE**"
   ]
  },
  {
   "cell_type": "markdown",
   "id": "b7253f57",
   "metadata": {},
   "source": [
    "# Importacion de librerias utilizadas"
   ]
  },
  {
   "cell_type": "code",
   "execution_count": 1,
   "id": "f38f08c7",
   "metadata": {},
   "outputs": [],
   "source": [
    "import pandas as pd\n",
    "import numpy as np\n",
    "import re"
   ]
  },
  {
   "cell_type": "markdown",
   "id": "481f8ae7",
   "metadata": {},
   "source": [
    "# Carga de la data de Properatti como un DataFrame de Pandas"
   ]
  },
  {
   "cell_type": "code",
   "execution_count": 2,
   "id": "79f55bdc",
   "metadata": {},
   "outputs": [
    {
     "data": {
      "text/html": [
       "<div>\n",
       "<style scoped>\n",
       "    .dataframe tbody tr th:only-of-type {\n",
       "        vertical-align: middle;\n",
       "    }\n",
       "\n",
       "    .dataframe tbody tr th {\n",
       "        vertical-align: top;\n",
       "    }\n",
       "\n",
       "    .dataframe thead th {\n",
       "        text-align: right;\n",
       "    }\n",
       "</style>\n",
       "<table border=\"1\" class=\"dataframe\">\n",
       "  <thead>\n",
       "    <tr style=\"text-align: right;\">\n",
       "      <th></th>\n",
       "      <th>operation</th>\n",
       "      <th>property_type</th>\n",
       "      <th>place_name</th>\n",
       "      <th>place_with_parent_names</th>\n",
       "      <th>country_name</th>\n",
       "      <th>state_name</th>\n",
       "      <th>geonames_id</th>\n",
       "      <th>lat-lon</th>\n",
       "      <th>lat</th>\n",
       "      <th>lon</th>\n",
       "      <th>...</th>\n",
       "      <th>surface_covered_in_m2</th>\n",
       "      <th>price_usd_per_m2</th>\n",
       "      <th>price_per_m2</th>\n",
       "      <th>floor</th>\n",
       "      <th>rooms</th>\n",
       "      <th>expenses</th>\n",
       "      <th>properati_url</th>\n",
       "      <th>description</th>\n",
       "      <th>title</th>\n",
       "      <th>image_thumbnail</th>\n",
       "    </tr>\n",
       "  </thead>\n",
       "  <tbody>\n",
       "    <tr>\n",
       "      <th>0</th>\n",
       "      <td>sell</td>\n",
       "      <td>PH</td>\n",
       "      <td>Mataderos</td>\n",
       "      <td>|Argentina|Capital Federal|Mataderos|</td>\n",
       "      <td>Argentina</td>\n",
       "      <td>Capital Federal</td>\n",
       "      <td>3430787.0</td>\n",
       "      <td>-34.6618237,-58.5088387</td>\n",
       "      <td>-34.661824</td>\n",
       "      <td>-58.508839</td>\n",
       "      <td>...</td>\n",
       "      <td>40.0</td>\n",
       "      <td>1127.272727</td>\n",
       "      <td>1550.000000</td>\n",
       "      <td>NaN</td>\n",
       "      <td>NaN</td>\n",
       "      <td>NaN</td>\n",
       "      <td>http://www.properati.com.ar/15bo8_venta_ph_mat...</td>\n",
       "      <td>2 AMBIENTES TIPO CASA PLANTA BAJA POR PASILLO,...</td>\n",
       "      <td>2 AMB TIPO CASA SIN EXPENSAS EN PB</td>\n",
       "      <td>https://thumbs4.properati.com/8/BluUYiHJLhgIIK...</td>\n",
       "    </tr>\n",
       "    <tr>\n",
       "      <th>1</th>\n",
       "      <td>sell</td>\n",
       "      <td>apartment</td>\n",
       "      <td>La Plata</td>\n",
       "      <td>|Argentina|Bs.As. G.B.A. Zona Sur|La Plata|</td>\n",
       "      <td>Argentina</td>\n",
       "      <td>Bs.As. G.B.A. Zona Sur</td>\n",
       "      <td>3432039.0</td>\n",
       "      <td>-34.9038831,-57.9643295</td>\n",
       "      <td>-34.903883</td>\n",
       "      <td>-57.964330</td>\n",
       "      <td>...</td>\n",
       "      <td>NaN</td>\n",
       "      <td>NaN</td>\n",
       "      <td>NaN</td>\n",
       "      <td>NaN</td>\n",
       "      <td>NaN</td>\n",
       "      <td>NaN</td>\n",
       "      <td>http://www.properati.com.ar/15bob_venta_depart...</td>\n",
       "      <td>Venta de departamento en décimo piso al frente...</td>\n",
       "      <td>VENTA Depto 2 dorm. a estrenar 7 e/ 36 y 37   ...</td>\n",
       "      <td>https://thumbs4.properati.com/7/ikpVBu2ztHA7jv...</td>\n",
       "    </tr>\n",
       "    <tr>\n",
       "      <th>2</th>\n",
       "      <td>sell</td>\n",
       "      <td>apartment</td>\n",
       "      <td>Mataderos</td>\n",
       "      <td>|Argentina|Capital Federal|Mataderos|</td>\n",
       "      <td>Argentina</td>\n",
       "      <td>Capital Federal</td>\n",
       "      <td>3430787.0</td>\n",
       "      <td>-34.6522615,-58.5229825</td>\n",
       "      <td>-34.652262</td>\n",
       "      <td>-58.522982</td>\n",
       "      <td>...</td>\n",
       "      <td>55.0</td>\n",
       "      <td>1309.090909</td>\n",
       "      <td>1309.090909</td>\n",
       "      <td>NaN</td>\n",
       "      <td>NaN</td>\n",
       "      <td>NaN</td>\n",
       "      <td>http://www.properati.com.ar/15bod_venta_depart...</td>\n",
       "      <td>2 AMBIENTES 3ER PISO LATERAL LIVING COMEDOR AM...</td>\n",
       "      <td>2 AMB 3ER PISO CON ASCENSOR APTO CREDITO</td>\n",
       "      <td>https://thumbs4.properati.com/5/SXKr34F_IwG3W_...</td>\n",
       "    </tr>\n",
       "  </tbody>\n",
       "</table>\n",
       "<p>3 rows × 25 columns</p>\n",
       "</div>"
      ],
      "text/plain": [
       "  operation property_type place_name  \\\n",
       "0      sell            PH  Mataderos   \n",
       "1      sell     apartment   La Plata   \n",
       "2      sell     apartment  Mataderos   \n",
       "\n",
       "                       place_with_parent_names country_name  \\\n",
       "0        |Argentina|Capital Federal|Mataderos|    Argentina   \n",
       "1  |Argentina|Bs.As. G.B.A. Zona Sur|La Plata|    Argentina   \n",
       "2        |Argentina|Capital Federal|Mataderos|    Argentina   \n",
       "\n",
       "               state_name  geonames_id                  lat-lon        lat  \\\n",
       "0         Capital Federal    3430787.0  -34.6618237,-58.5088387 -34.661824   \n",
       "1  Bs.As. G.B.A. Zona Sur    3432039.0  -34.9038831,-57.9643295 -34.903883   \n",
       "2         Capital Federal    3430787.0  -34.6522615,-58.5229825 -34.652262   \n",
       "\n",
       "         lon  ...  surface_covered_in_m2 price_usd_per_m2  price_per_m2  \\\n",
       "0 -58.508839  ...                   40.0      1127.272727   1550.000000   \n",
       "1 -57.964330  ...                    NaN              NaN           NaN   \n",
       "2 -58.522982  ...                   55.0      1309.090909   1309.090909   \n",
       "\n",
       "   floor  rooms  expenses                                      properati_url  \\\n",
       "0    NaN    NaN       NaN  http://www.properati.com.ar/15bo8_venta_ph_mat...   \n",
       "1    NaN    NaN       NaN  http://www.properati.com.ar/15bob_venta_depart...   \n",
       "2    NaN    NaN       NaN  http://www.properati.com.ar/15bod_venta_depart...   \n",
       "\n",
       "                                         description  \\\n",
       "0  2 AMBIENTES TIPO CASA PLANTA BAJA POR PASILLO,...   \n",
       "1  Venta de departamento en décimo piso al frente...   \n",
       "2  2 AMBIENTES 3ER PISO LATERAL LIVING COMEDOR AM...   \n",
       "\n",
       "                                               title  \\\n",
       "0                 2 AMB TIPO CASA SIN EXPENSAS EN PB   \n",
       "1  VENTA Depto 2 dorm. a estrenar 7 e/ 36 y 37   ...   \n",
       "2           2 AMB 3ER PISO CON ASCENSOR APTO CREDITO   \n",
       "\n",
       "                                     image_thumbnail  \n",
       "0  https://thumbs4.properati.com/8/BluUYiHJLhgIIK...  \n",
       "1  https://thumbs4.properati.com/7/ikpVBu2ztHA7jv...  \n",
       "2  https://thumbs4.properati.com/5/SXKr34F_IwG3W_...  \n",
       "\n",
       "[3 rows x 25 columns]"
      ]
     },
     "execution_count": 2,
     "metadata": {},
     "output_type": "execute_result"
    }
   ],
   "source": [
    "data_location = \"../Data/properatti.csv\"\n",
    "\n",
    "data = pd.read_csv(data_location, index_col=0)\n",
    "data.head(3)"
   ]
  },
  {
   "cell_type": "markdown",
   "id": "9897c0ce",
   "metadata": {},
   "source": [
    "# Analis preliminar del DataSet"
   ]
  },
  {
   "cell_type": "code",
   "execution_count": 3,
   "id": "65c70010",
   "metadata": {},
   "outputs": [
    {
     "data": {
      "text/plain": [
       "operation                      object\n",
       "property_type                  object\n",
       "place_name                     object\n",
       "place_with_parent_names        object\n",
       "country_name                   object\n",
       "state_name                     object\n",
       "geonames_id                   float64\n",
       "lat-lon                        object\n",
       "lat                           float64\n",
       "lon                           float64\n",
       "price                         float64\n",
       "currency                       object\n",
       "price_aprox_local_currency    float64\n",
       "price_aprox_usd               float64\n",
       "surface_total_in_m2           float64\n",
       "surface_covered_in_m2         float64\n",
       "price_usd_per_m2              float64\n",
       "price_per_m2                  float64\n",
       "floor                         float64\n",
       "rooms                         float64\n",
       "expenses                      float64\n",
       "properati_url                  object\n",
       "description                    object\n",
       "title                          object\n",
       "image_thumbnail                object\n",
       "dtype: object"
      ]
     },
     "execution_count": 3,
     "metadata": {},
     "output_type": "execute_result"
    }
   ],
   "source": [
    "# Se utoliza dtypes para saber que tipo de datos se almacenan en el dataset\n",
    "data.dtypes"
   ]
  },
  {
   "cell_type": "code",
   "execution_count": 4,
   "id": "0378ee1c",
   "metadata": {},
   "outputs": [
    {
     "name": "stdout",
     "output_type": "stream",
     "text": [
      "operation                          0\n",
      "property_type                      0\n",
      "place_name                        23\n",
      "place_with_parent_names            0\n",
      "country_name                       0\n",
      "state_name                         0\n",
      "geonames_id                    18717\n",
      "lat-lon                        51550\n",
      "lat                            51550\n",
      "lon                            51550\n",
      "price                          20410\n",
      "currency                       20411\n",
      "price_aprox_local_currency     20410\n",
      "price_aprox_usd                20410\n",
      "surface_total_in_m2            39328\n",
      "surface_covered_in_m2          19907\n",
      "price_usd_per_m2               52603\n",
      "price_per_m2                   33562\n",
      "floor                         113321\n",
      "rooms                          73830\n",
      "expenses                      106958\n",
      "properati_url                      0\n",
      "description                        2\n",
      "title                              0\n",
      "image_thumbnail                 3112\n",
      "dtype: int64\n"
     ]
    }
   ],
   "source": [
    "# Se ven cuantos valores nulos tenemos por columna\n",
    "is_null_result = data.isnull().sum()\n",
    "print(is_null_result)"
   ]
  },
  {
   "cell_type": "code",
   "execution_count": 5,
   "id": "9df1ca7d",
   "metadata": {},
   "outputs": [
    {
     "data": {
      "text/plain": [
       "operation                      0.000000\n",
       "property_type                  0.000000\n",
       "place_name                     0.018974\n",
       "place_with_parent_names        0.000000\n",
       "country_name                   0.000000\n",
       "state_name                     0.000000\n",
       "geonames_id                   15.440521\n",
       "lat-lon                       42.525986\n",
       "lat                           42.525986\n",
       "lon                           42.525986\n",
       "price                         16.837156\n",
       "currency                      16.837981\n",
       "price_aprox_local_currency    16.837156\n",
       "price_aprox_usd               16.837156\n",
       "surface_total_in_m2           32.443491\n",
       "surface_covered_in_m2         16.422208\n",
       "price_usd_per_m2              43.394654\n",
       "price_per_m2                  27.686850\n",
       "floor                         93.483749\n",
       "rooms                         60.905791\n",
       "expenses                      88.234615\n",
       "properati_url                  0.000000\n",
       "description                    0.001650\n",
       "title                          0.000000\n",
       "image_thumbnail                2.567233\n",
       "dtype: float64"
      ]
     },
     "execution_count": 5,
     "metadata": {},
     "output_type": "execute_result"
    }
   ],
   "source": [
    "# Se ve que porcentaje de nulos tiene cada columna\n",
    "percentage_null = 100*is_null_result/data.shape[0]\n",
    "percentage_null"
   ]
  },
  {
   "cell_type": "markdown",
   "id": "113beac5",
   "metadata": {},
   "source": [
    "## Renombrado de la columna lat-lon"
   ]
  },
  {
   "cell_type": "code",
   "execution_count": 6,
   "id": "54880549",
   "metadata": {},
   "outputs": [],
   "source": [
    "# Se renombra la columna lat-lon para sortear inconvenientes\n",
    "data.rename(columns={'lat-lon': 'lat_lon'}, inplace=True)"
   ]
  },
  {
   "cell_type": "markdown",
   "id": "8ff70c9a",
   "metadata": {},
   "source": [
    "## Verificacion de instancias nulas"
   ]
  },
  {
   "cell_type": "code",
   "execution_count": 7,
   "id": "0150e8ef",
   "metadata": {},
   "outputs": [
    {
     "name": "stdout",
     "output_type": "stream",
     "text": [
      "(121220, 25)\n",
      "(121220, 25)\n"
     ]
    }
   ],
   "source": [
    "# Se comprueban las instancias enteramente nulas y se las desecha \n",
    "data_clean_empty_row = data.dropna(axis = 0, how= 'all')\n",
    "print(data.shape)\n",
    "print(data_clean_empty_row.shape)\n",
    "#En este caso no hay ninguna fila con todos los valores nulos"
   ]
  },
  {
   "cell_type": "markdown",
   "id": "eea186e5",
   "metadata": {},
   "source": [
    "### Reemplazo de valores iguales a cero por Nan"
   ]
  },
  {
   "cell_type": "markdown",
   "id": "c6f99967",
   "metadata": {},
   "source": [
    "##### *Se adopta este criterio ya que no existen variables que puedan tomar el valor cero, por lo que se los interpreta como nulos*"
   ]
  },
  {
   "cell_type": "code",
   "execution_count": 8,
   "id": "8574ec32",
   "metadata": {},
   "outputs": [
    {
     "data": {
      "text/plain": [
       "operation                     0\n",
       "property_type                 0\n",
       "place_name                    0\n",
       "place_with_parent_names       0\n",
       "country_name                  0\n",
       "state_name                    0\n",
       "geonames_id                   0\n",
       "lat_lon                       0\n",
       "lat                           0\n",
       "lon                           0\n",
       "price                         0\n",
       "currency                      0\n",
       "price_aprox_local_currency    0\n",
       "price_aprox_usd               0\n",
       "surface_total_in_m2           0\n",
       "surface_covered_in_m2         0\n",
       "price_usd_per_m2              0\n",
       "price_per_m2                  0\n",
       "floor                         0\n",
       "rooms                         0\n",
       "expenses                      0\n",
       "properati_url                 0\n",
       "description                   0\n",
       "title                         0\n",
       "image_thumbnail               0\n",
       "dtype: int64"
      ]
     },
     "execution_count": 8,
     "metadata": {},
     "output_type": "execute_result"
    }
   ],
   "source": [
    "# Se reemplazan los ceros por NaN\n",
    "data[data==0] = np.nan\n",
    "(data==0).sum()"
   ]
  },
  {
   "cell_type": "markdown",
   "id": "5d62da8a",
   "metadata": {},
   "source": [
    "# Tratamiento de columnas con informacion no util o con informacion redundante"
   ]
  },
  {
   "cell_type": "markdown",
   "id": "b7f93873",
   "metadata": {},
   "source": [
    "## Tratamiento de columnas *properati_url* y *image_thumbnail*"
   ]
  },
  {
   "cell_type": "markdown",
   "id": "65cd8ed6",
   "metadata": {},
   "source": [
    "#### Se desechan las columnas *properati_url* y *image_thumbnail* ya que no aportan informacion util"
   ]
  },
  {
   "cell_type": "code",
   "execution_count": 9,
   "id": "2d4ed5c4",
   "metadata": {},
   "outputs": [
    {
     "name": "stdout",
     "output_type": "stream",
     "text": [
      "cantidad de columnas actuales= 23\n"
     ]
    }
   ],
   "source": [
    "# Se desechan las columnas properati_url y image_thumbnail de data\n",
    "data = data.drop(['properati_url', 'image_thumbnail'], axis=1)\n",
    "print(\"cantidad de columnas actuales=\",data.shape[1])"
   ]
  },
  {
   "cell_type": "markdown",
   "id": "fafd4129",
   "metadata": {},
   "source": [
    "## Tratamiento de columnas *price* , *price_aprox_local_currency* y *price_aprox_usd* "
   ]
  },
  {
   "cell_type": "markdown",
   "id": "f862a27f",
   "metadata": {},
   "source": [
    "#### Como existe redundancia entre las columnas **price_aprox_usd**, **price** y **price_aprox_local_currency** se toma la decision de desechar  **price** y **price_aprox_local_currency**, pudiendo tambien descartar  **currency** ya que no aporta informacion adicional \n",
    "**Se asume igual fiabilidad de los datos en las tres variables**"
   ]
  },
  {
   "cell_type": "code",
   "execution_count": 10,
   "id": "2b8a95cb",
   "metadata": {},
   "outputs": [
    {
     "name": "stdout",
     "output_type": "stream",
     "text": [
      "Cantidad de nulos en price=  20411\n",
      "cantidad de nulos en price_aprox_local_currency=  20411\n",
      "Cantida de nulos en price_aprox_usd=  20411\n",
      "Cantidad de nulos en la interseccion de las mascaras=  20411\n",
      "True\n"
     ]
    }
   ],
   "source": [
    "# Primero se corrobora que no exista mas informacion en las columnas que se van a desechar que en la que va a quedar\n",
    "\n",
    "# Se hacen tres mascaras para encontrar las instancias que tienen un valor nulo en esa columna\n",
    "mask_price_null = data.price.isnull()\n",
    "mask_price_aprox_local_currency_null = data.price_aprox_local_currency.isnull()\n",
    "mask_price_aprox_usd_null = data.price_aprox_usd.isnull()\n",
    "\n",
    "# Se hace una interseccion de las tres mascaras\n",
    "mask_prices_null = mask_price_null & mask_price_aprox_local_currency_null & mask_price_aprox_usd_null\n",
    "\n",
    "# Si las tres mascaras tienen cada una la misma cantidad de elementos que la interseccion significa que los nulos se encuentran en las mismas instancias\n",
    "print(\"Cantidad de nulos en price= \" , mask_price_null.sum())\n",
    "print(\"cantidad de nulos en price_aprox_local_currency= \" , mask_price_aprox_local_currency_null.sum())\n",
    "print(\"Cantida de nulos en price_aprox_usd= \" , mask_price_aprox_usd_null.sum())\n",
    "print(\"Cantidad de nulos en la interseccion de las mascaras= \" , mask_prices_null.sum())\n",
    "\n",
    "# Devuelve un True si la cantidad de nulos es la misma en todas las mascaras por lo que la interseccion es perfecta\n",
    "print(mask_price_null.sum()==mask_price_aprox_local_currency_null.sum()==mask_price_aprox_usd_null.sum()==mask_prices_null.sum())"
   ]
  },
  {
   "cell_type": "code",
   "execution_count": 11,
   "id": "e590786c",
   "metadata": {},
   "outputs": [
    {
     "name": "stdout",
     "output_type": "stream",
     "text": [
      "cantidad de columnas actuales=  20\n"
     ]
    }
   ],
   "source": [
    "# Como se cumple la condicion, se desechan las columnas price, price_aprox_local_currency y currency \n",
    "data = data.drop(['price', 'price_aprox_local_currency' , 'currency'], axis=1)\n",
    "print(\"cantidad de columnas actuales= \",data.shape[1])"
   ]
  },
  {
   "cell_type": "markdown",
   "id": "9b24eed6",
   "metadata": {},
   "source": [
    "## Tratamiento de columnas *price_usd_per_m2* y *price_per_m2*"
   ]
  },
  {
   "cell_type": "markdown",
   "id": "06bd63fd",
   "metadata": {},
   "source": [
    "#### Como existe redundancia entre las columnas *price_per_m2* y *price_usd_per_m2* se toma la decision de desechar la columna price_per_m2\n",
    "**Asumimos igual fiabilidad de datos en ambas variables**"
   ]
  },
  {
   "cell_type": "code",
   "execution_count": 12,
   "id": "688ab734",
   "metadata": {},
   "outputs": [
    {
     "name": "stdout",
     "output_type": "stream",
     "text": [
      "Cantidad de nulos en price_per_m2=  33562\n",
      "cantidad de nulos en price_usd_per_m2=  52603\n",
      "Cantidad de nulos en la interseccion de las mascaras=  28295\n",
      "False\n"
     ]
    }
   ],
   "source": [
    "# Primero se corrobora que no exista mas informacion en la columna que se va a desechar que en la que va a quedar\n",
    "\n",
    "# Se hacen dos mascaras para lencontrar las instancias que tienen un valor nulo en esa columna\n",
    "mask_price_per_m2_null = data.price_per_m2.isnull()\n",
    "mask_price_usd_per_m2_null = data.price_usd_per_m2.isnull()\n",
    "\n",
    "# Se hace una interseccion de las dos mascaras\n",
    "mask_prices_per_m2_null = mask_price_per_m2_null & mask_price_usd_per_m2_null \n",
    "\n",
    "# Si las tres mascaras tienen cada una la misma cantidad de elementos que la interseccion significa que los nulos se encuentran siempre en las mismas instancias\n",
    "print(\"Cantidad de nulos en price_per_m2= \" , mask_price_per_m2_null.sum())\n",
    "print(\"cantidad de nulos en price_usd_per_m2= \" , mask_price_usd_per_m2_null.sum())\n",
    "print(\"Cantidad de nulos en la interseccion de las mascaras= \" , mask_prices_per_m2_null.sum())\n",
    "\n",
    "# Devuelve un True si la cantidad de nulos es la misma en todas las mascaras por lo que la interseccion es perfecta\n",
    "print(mask_price_per_m2_null.sum()==mask_price_usd_per_m2_null.sum()==mask_prices_per_m2_null.sum())"
   ]
  },
  {
   "cell_type": "markdown",
   "id": "f67a05fb",
   "metadata": {},
   "source": [
    "##### *Como hay mas informacion en una columna que en la otra, en las instancias en que price_usd_per_m2 es nulo pero no lo es price_per_m2, se imputa el valor haciendo una conversion de moneda*"
   ]
  },
  {
   "cell_type": "code",
   "execution_count": 13,
   "id": "ebd31d7a",
   "metadata": {},
   "outputs": [],
   "source": [
    "# Se hace una mascara para ver cuando es nula la columna price_usd_per_m2 pero no lo es price_per_m2\n",
    "mask_prices_per_m2 = data.price_usd_per_m2.isnull() & data.price_per_m2.notnull()\n",
    "data_prices_per_m2 = data [mask_prices_per_m2]\n",
    "\n",
    "# Se define una variable que contenga el valor de conversion de pesos a dolar\n",
    "pesos = 1/200\n",
    "\n",
    "# Se imputa en price_usd_per_m2 el valor de price_per_m2 multiplicado por el valor de la conversion de pesos a dolar\n",
    "data.loc[data_prices_per_m2.index,\"price_usd_per_m2\"] = pesos *data.loc[data_prices_per_m2.index, \"price_per_m2\"]"
   ]
  },
  {
   "cell_type": "code",
   "execution_count": 14,
   "id": "b170dbbd",
   "metadata": {},
   "outputs": [
    {
     "name": "stdout",
     "output_type": "stream",
     "text": [
      "cantidad de columnas actuales=  19\n"
     ]
    }
   ],
   "source": [
    "# Se desecha la columna price_per_m2\n",
    "data = data.drop(['price_per_m2'], axis=1)\n",
    "print(\"cantidad de columnas actuales= \",data.shape[1])"
   ]
  },
  {
   "cell_type": "markdown",
   "id": "ef48bc3f",
   "metadata": {},
   "source": [
    "## Tratamiento de columnas *lat-lon*, *lat* y *lon*"
   ]
  },
  {
   "cell_type": "markdown",
   "id": "d290a986",
   "metadata": {},
   "source": [
    "#### Como existe redundancia entre las columnas *lat-lon*, *lat* y *lon* se toma la decision de desechar la columna *lat-lon*\n",
    "**Asumimos igual fiabilidad de datos en las tres variables**"
   ]
  },
  {
   "cell_type": "code",
   "execution_count": 15,
   "id": "e546b515",
   "metadata": {},
   "outputs": [
    {
     "name": "stdout",
     "output_type": "stream",
     "text": [
      "Cantidad de nulos en lat-lon=  51550\n",
      "cantidad de nulos en lat=  51550\n",
      "Cantida de nulos en lon=  51550\n",
      "Cantidad de nulos en la interseccion de las mascaras=  51550\n",
      "True\n"
     ]
    }
   ],
   "source": [
    "# Primero se corrobora que no exista mas informacion en la columna que se va a desechar que en lsa que se van a quedar\n",
    "\n",
    "# Se hacen tres mascaras para encontrar las instancias de latitud y longitud que contengan los nulos de las mismas\n",
    "mask_lat_lon_null = data.lat_lon.isnull()\n",
    "mask_lat_null = data.lat.isnull()\n",
    "mask_lon_null = data.lon.isnull()\n",
    "\n",
    "# Se hace una interseccion de las tres mascaras\n",
    "mask_inter_lat_lon_null = mask_lat_lon_null & mask_lat_null & mask_lon_null\n",
    "\n",
    "# Si las tres mascaras tienen cada una la misma cantidad de elementos que la interseccion significa que los nulos se encuentran siempre en las mismas instancias\n",
    "print(\"Cantidad de nulos en lat-lon= \" , mask_lat_lon_null.sum())\n",
    "print(\"cantidad de nulos en lat= \" , mask_lat_null.sum())\n",
    "print(\"Cantida de nulos en lon= \" , mask_lon_null.sum())\n",
    "print(\"Cantidad de nulos en la interseccion de las mascaras= \" , mask_inter_lat_lon_null.sum())\n",
    "\n",
    "# Devuelve un True si la cantidad de nulos es la misma en todas las mascaras por lo que la interseccion es perfecta\n",
    "print(mask_lat_lon_null.sum()==mask_lat_null.sum()==mask_lon_null.sum()==mask_inter_lat_lon_null.sum())"
   ]
  },
  {
   "cell_type": "code",
   "execution_count": 16,
   "id": "1bd12da2",
   "metadata": {},
   "outputs": [
    {
     "name": "stdout",
     "output_type": "stream",
     "text": [
      "cantidad de columnas actuales=  18\n"
     ]
    }
   ],
   "source": [
    "# Como la condicion se cumple, se desecha la columna lat_lon\n",
    "data = data.drop(['lat_lon'], axis=1)\n",
    "print(\"cantidad de columnas actuales= \",data.shape[1])"
   ]
  },
  {
   "cell_type": "markdown",
   "id": "8adb21d4",
   "metadata": {},
   "source": [
    "# Analisis de instancias en funcion del state_name"
   ]
  },
  {
   "cell_type": "code",
   "execution_count": 17,
   "id": "043cedd0",
   "metadata": {},
   "outputs": [
    {
     "data": {
      "text/plain": [
       "array(['Capital Federal', 'Bs.As. G.B.A. Zona Sur',\n",
       "       'Buenos Aires Costa Atlántica', 'Entre Ríos',\n",
       "       'Bs.As. G.B.A. Zona Norte', 'Santa Fe', 'Córdoba',\n",
       "       'Bs.As. G.B.A. Zona Oeste', 'Misiones', 'Buenos Aires Interior',\n",
       "       'Salta', 'Neuquén', 'Río Negro', 'San Luis', 'Mendoza',\n",
       "       'Corrientes', 'Chubut', 'Tucumán', 'La Pampa', 'Chaco', 'San Juan',\n",
       "       'Santa Cruz', 'Tierra Del Fuego', 'Catamarca',\n",
       "       'Santiago Del Estero', 'Jujuy', 'La Rioja', 'Formosa'],\n",
       "      dtype=object)"
      ]
     },
     "execution_count": 17,
     "metadata": {},
     "output_type": "execute_result"
    }
   ],
   "source": [
    "# Se presentan todos los diferentes state_name que hay en el DataSet\n",
    "data.state_name.unique()"
   ]
  },
  {
   "cell_type": "code",
   "execution_count": 18,
   "id": "7914f50d",
   "metadata": {},
   "outputs": [
    {
     "data": {
      "text/plain": [
       "Capital Federal                 32316\n",
       "Bs.As. G.B.A. Zona Norte        25560\n",
       "Bs.As. G.B.A. Zona Sur          13952\n",
       "Córdoba                         12069\n",
       "Santa Fe                        10172\n",
       "Buenos Aires Costa Atlántica    10006\n",
       "Bs.As. G.B.A. Zona Oeste         9322\n",
       "Buenos Aires Interior            2291\n",
       "Río Negro                         808\n",
       "Neuquén                           733\n",
       "Mendoza                           681\n",
       "Tucumán                           674\n",
       "Corrientes                        583\n",
       "Misiones                          464\n",
       "Entre Ríos                        369\n",
       "Salta                             278\n",
       "Chubut                            259\n",
       "San Luis                          252\n",
       "La Pampa                          157\n",
       "Formosa                            65\n",
       "Chaco                              57\n",
       "San Juan                           40\n",
       "Tierra Del Fuego                   31\n",
       "Catamarca                          27\n",
       "Jujuy                              26\n",
       "Santa Cruz                         20\n",
       "La Rioja                            4\n",
       "Santiago Del Estero                 4\n",
       "Name: state_name, dtype: int64"
      ]
     },
     "execution_count": 18,
     "metadata": {},
     "output_type": "execute_result"
    }
   ],
   "source": [
    "# Se presentan la cantidad de instancias que acumula cada state_name\n",
    "state_name_distribution = pd.value_counts(data.state_name)\n",
    "state_name_distribution"
   ]
  },
  {
   "cell_type": "code",
   "execution_count": 19,
   "id": "f4ba8175",
   "metadata": {},
   "outputs": [
    {
     "data": {
      "text/plain": [
       "Capital Federal                 26.658967\n",
       "Bs.As. G.B.A. Zona Norte        21.085629\n",
       "Bs.As. G.B.A. Zona Sur          11.509652\n",
       "Córdoba                          9.956278\n",
       "Santa Fe                         8.391355\n",
       "Buenos Aires Costa Atlántica     8.254413\n",
       "Bs.As. G.B.A. Zona Oeste         7.690150\n",
       "Buenos Aires Interior            1.889952\n",
       "Río Negro                        0.666557\n",
       "Neuquén                          0.604686\n",
       "Mendoza                          0.561788\n",
       "Tucumán                          0.556014\n",
       "Corrientes                       0.480944\n",
       "Misiones                         0.382775\n",
       "Entre Ríos                       0.304405\n",
       "Salta                            0.229335\n",
       "Chubut                           0.213661\n",
       "San Luis                         0.207886\n",
       "La Pampa                         0.129517\n",
       "Formosa                          0.053622\n",
       "Chaco                            0.047022\n",
       "San Juan                         0.032998\n",
       "Tierra Del Fuego                 0.025573\n",
       "Catamarca                        0.022274\n",
       "Jujuy                            0.021449\n",
       "Santa Cruz                       0.016499\n",
       "La Rioja                         0.003300\n",
       "Santiago Del Estero              0.003300\n",
       "Name: state_name, dtype: float64"
      ]
     },
     "execution_count": 19,
     "metadata": {},
     "output_type": "execute_result"
    }
   ],
   "source": [
    "# Se presentan los porcentajes de la distribucion de los datos por state_name\n",
    "total_data = data.shape[0]\n",
    "percentage_state_name = 100*state_name_distribution/total_data\n",
    "percentage_state_name"
   ]
  },
  {
   "cell_type": "markdown",
   "id": "bdf1e62a",
   "metadata": {},
   "source": [
    "### Se toma la decision de desechar las instancias correspondientes a los *state_name* que representan < 1% del total de instancias."
   ]
  },
  {
   "cell_type": "markdown",
   "id": "63284078",
   "metadata": {},
   "source": [
    "#### **Tomamos esta decision ya que consideramos que en estos state_names no contamos con las instancias suficientes como para realizar un analisis fiable**"
   ]
  },
  {
   "cell_type": "code",
   "execution_count": 20,
   "id": "7cf8c57c",
   "metadata": {},
   "outputs": [
    {
     "name": "stdout",
     "output_type": "stream",
     "text": [
      "Se desecha el  4.56% del total de los datos\n"
     ]
    },
    {
     "data": {
      "text/plain": [
       "Capital Federal                 26.66\n",
       "Bs.As. G.B.A. Zona Norte        21.09\n",
       "Bs.As. G.B.A. Zona Sur          11.51\n",
       "Córdoba                          9.96\n",
       "Santa Fe                         8.39\n",
       "Buenos Aires Costa Atlántica     8.25\n",
       "Bs.As. G.B.A. Zona Oeste         7.69\n",
       "Buenos Aires Interior            1.89\n",
       "Name: state_name, dtype: float64"
      ]
     },
     "execution_count": 20,
     "metadata": {},
     "output_type": "execute_result"
    }
   ],
   "source": [
    "# Se le aplica una mascara a la serie percentage_state_name con la condicion de que el state_name sea mayor a 1%\n",
    "mask_1_percent = percentage_state_name > 1\n",
    "series_1_percent = percentage_state_name [mask_1_percent]\n",
    "print(f'Se desecha el  {round(100 - series_1_percent.sum(), 2)}% del total de los datos')\n",
    "round(series_1_percent, 2)"
   ]
  },
  {
   "cell_type": "code",
   "execution_count": 21,
   "id": "f01f8096",
   "metadata": {},
   "outputs": [],
   "source": [
    "# Se descartan las instancias en las que su state_name no este dentro del indice de la serie series_1_percent\n",
    "data = data[data.state_name.isin(series_1_percent.index)]"
   ]
  },
  {
   "cell_type": "markdown",
   "id": "9cc92f4e",
   "metadata": {},
   "source": [
    "## Desagregacion de la columna place_with_parent_names"
   ]
  },
  {
   "cell_type": "markdown",
   "id": "5e0a5c21",
   "metadata": {},
   "source": [
    "**Consideracion:** *Capital federal esta considerado como state_name, por lo que en city_name iran los barrios de la ciudad*"
   ]
  },
  {
   "cell_type": "markdown",
   "id": "15dc5928",
   "metadata": {},
   "source": [
    "##### **Para realizar esto se asume igual fiabilidad en los datos de las columnas place_name, country_name, state_name y place_with_parent_names**"
   ]
  },
  {
   "cell_type": "code",
   "execution_count": 22,
   "id": "7fdf9e7f",
   "metadata": {},
   "outputs": [
    {
     "data": {
      "text/html": [
       "<div>\n",
       "<style scoped>\n",
       "    .dataframe tbody tr th:only-of-type {\n",
       "        vertical-align: middle;\n",
       "    }\n",
       "\n",
       "    .dataframe tbody tr th {\n",
       "        vertical-align: top;\n",
       "    }\n",
       "\n",
       "    .dataframe thead th {\n",
       "        text-align: right;\n",
       "    }\n",
       "</style>\n",
       "<table border=\"1\" class=\"dataframe\">\n",
       "  <thead>\n",
       "    <tr style=\"text-align: right;\">\n",
       "      <th></th>\n",
       "      <th>0</th>\n",
       "      <th>1</th>\n",
       "      <th>2</th>\n",
       "      <th>3</th>\n",
       "      <th>4</th>\n",
       "      <th>5</th>\n",
       "      <th>6</th>\n",
       "    </tr>\n",
       "  </thead>\n",
       "  <tbody>\n",
       "    <tr>\n",
       "      <th>0</th>\n",
       "      <td></td>\n",
       "      <td>Argentina</td>\n",
       "      <td>Capital Federal</td>\n",
       "      <td>Mataderos</td>\n",
       "      <td></td>\n",
       "      <td>None</td>\n",
       "      <td>None</td>\n",
       "    </tr>\n",
       "    <tr>\n",
       "      <th>1</th>\n",
       "      <td></td>\n",
       "      <td>Argentina</td>\n",
       "      <td>Bs.As. G.B.A. Zona Sur</td>\n",
       "      <td>La Plata</td>\n",
       "      <td></td>\n",
       "      <td>None</td>\n",
       "      <td>None</td>\n",
       "    </tr>\n",
       "    <tr>\n",
       "      <th>2</th>\n",
       "      <td></td>\n",
       "      <td>Argentina</td>\n",
       "      <td>Capital Federal</td>\n",
       "      <td>Mataderos</td>\n",
       "      <td></td>\n",
       "      <td>None</td>\n",
       "      <td>None</td>\n",
       "    </tr>\n",
       "  </tbody>\n",
       "</table>\n",
       "</div>"
      ],
      "text/plain": [
       "  0          1                       2          3 4     5     6\n",
       "0    Argentina         Capital Federal  Mataderos    None  None\n",
       "1    Argentina  Bs.As. G.B.A. Zona Sur   La Plata    None  None\n",
       "2    Argentina         Capital Federal  Mataderos    None  None"
      ]
     },
     "execution_count": 22,
     "metadata": {},
     "output_type": "execute_result"
    }
   ],
   "source": [
    "#  Se realiza un split a la columna place_with_parent_names\n",
    "data_place_with_parent_names = data[\"place_with_parent_names\"].str.split(\"|\", expand=True)\n",
    "data_place_with_parent_names.head(3)"
   ]
  },
  {
   "cell_type": "code",
   "execution_count": 23,
   "id": "51585c17",
   "metadata": {},
   "outputs": [],
   "source": [
    "# Se descartan las columnas 0, 5 y 6 ya que contienen no contienen informacion\n",
    "data_place_with_parent_names = data_place_with_parent_names.drop([0,5,6], axis=1)"
   ]
  },
  {
   "cell_type": "code",
   "execution_count": 24,
   "id": "27b064a6",
   "metadata": {},
   "outputs": [
    {
     "data": {
      "text/plain": [
       "Index(['country_name', 'state_name', 'city_name', 'neighborhood_name'], dtype='object')"
      ]
     },
     "execution_count": 24,
     "metadata": {},
     "output_type": "execute_result"
    }
   ],
   "source": [
    "# Se renombran las columnas\n",
    "data_place_with_parent_names.rename(columns={1: 'country_name' , 2 : 'state_name' , 3 : 'city_name' , 4 : 'neighborhood_name'}, inplace=True)\n",
    "data_place_with_parent_names.columns"
   ]
  },
  {
   "cell_type": "code",
   "execution_count": 25,
   "id": "4ca8f357",
   "metadata": {},
   "outputs": [
    {
     "name": "stdout",
     "output_type": "stream",
     "text": [
      "El total de strings vacios es= \n",
      " country_name            0\n",
      "state_name              0\n",
      "city_name               0\n",
      "neighborhood_name    4422\n",
      "dtype: int64\n",
      "El total de nulos es= \n",
      " country_name             0\n",
      "state_name               0\n",
      "city_name             4422\n",
      "neighborhood_name    71487\n",
      "dtype: int64\n"
     ]
    }
   ],
   "source": [
    "# Se visualiza el total de strings vacios \"\"\n",
    "print( \"El total de strings vacios es= \\n\" , data_place_with_parent_names.isnull().sum())\n",
    "# Se visualiza el total de nulos\n",
    "print( \"El total de nulos es= \\n\" , (data_place_with_parent_names=='').sum())"
   ]
  },
  {
   "cell_type": "code",
   "execution_count": 26,
   "id": "5b69d736",
   "metadata": {},
   "outputs": [],
   "source": [
    "# Se reemplazan las cadenas vacias en city_name a nulos\n",
    "data_city_name_empty = data_place_with_parent_names[data_place_with_parent_names.city_name==\"\"]\n",
    "data_place_with_parent_names.loc[data_city_name_empty.index,\"city_name\"] = None\n",
    "\n",
    "# Se reemplazan las cadenas vacias en neighborhood_name a nulos\n",
    "data_neighborhood_name_empty = data_place_with_parent_names[data_place_with_parent_names.neighborhood_name==\"\"]\n",
    "data_place_with_parent_names.loc[data_neighborhood_name_empty.index,\"neighborhood_name\"] = None"
   ]
  },
  {
   "cell_type": "code",
   "execution_count": 27,
   "id": "77e27427",
   "metadata": {},
   "outputs": [
    {
     "name": "stdout",
     "output_type": "stream",
     "text": [
      "El total de nulos es= \n",
      " country_name             0\n",
      "state_name               0\n",
      "city_name             4422\n",
      "neighborhood_name    75909\n",
      "dtype: int64\n",
      "El total de strings vacios es= \n",
      " country_name         0\n",
      "state_name           0\n",
      "city_name            0\n",
      "neighborhood_name    0\n",
      "dtype: int64\n"
     ]
    }
   ],
   "source": [
    "# Se visualiza el total de strings vacios \"\"\n",
    "print( \"El total de nulos es= \\n\" , data_place_with_parent_names.isnull().sum())\n",
    "\n",
    "# Se visualiza el total de nulos\n",
    "print( \"El total de strings vacios es= \\n\" , (data_place_with_parent_names=='').sum())"
   ]
  },
  {
   "cell_type": "code",
   "execution_count": 28,
   "id": "71ce9d69",
   "metadata": {},
   "outputs": [],
   "source": [
    "# Se eliminan en data las columnas que se van a reemplazar\n",
    "data = data.drop([\"place_name\",\"place_with_parent_names\",\"country_name\",\"state_name\"], axis=1)"
   ]
  },
  {
   "cell_type": "code",
   "execution_count": 29,
   "id": "c6f71e0f",
   "metadata": {},
   "outputs": [
    {
     "data": {
      "text/plain": [
       "Index(['operation', 'property_type', 'geonames_id', 'lat', 'lon',\n",
       "       'price_aprox_usd', 'surface_total_in_m2', 'surface_covered_in_m2',\n",
       "       'price_usd_per_m2', 'floor', 'rooms', 'expenses', 'description',\n",
       "       'title', 'country_name', 'state_name', 'city_name',\n",
       "       'neighborhood_name'],\n",
       "      dtype='object')"
      ]
     },
     "execution_count": 29,
     "metadata": {},
     "output_type": "execute_result"
    }
   ],
   "source": [
    "# Se concatena data con data_place_with_parent_names. Se realiza con concat ya que tienen el mismo orden las instancias \n",
    "data = pd.concat([data, data_place_with_parent_names], axis=1)\n",
    "data.columns"
   ]
  },
  {
   "cell_type": "code",
   "execution_count": 30,
   "id": "9e10f42b",
   "metadata": {},
   "outputs": [],
   "source": [
    "# Se reordenan las columnas para que queden en el orden original\n",
    "data= data[['operation', 'property_type','country_name', 'state_name', 'city_name', \n",
    "            'neighborhood_name', 'geonames_id', 'lat', 'lon','price_aprox_usd', \n",
    "            'surface_total_in_m2', 'surface_covered_in_m2',\n",
    "       'price_usd_per_m2', 'floor', 'rooms', 'expenses', 'description',\n",
    "       'title',]]"
   ]
  },
  {
   "cell_type": "markdown",
   "id": "9d3cfa28",
   "metadata": {},
   "source": [
    "## Correccion de instancias que tienen surface_total_in_m2 < surface_covered_in_m2"
   ]
  },
  {
   "cell_type": "code",
   "execution_count": 31,
   "id": "6154c3c5",
   "metadata": {},
   "outputs": [],
   "source": [
    "# Se corrobora en que casos el valor surface_total_in_m2 es menor que el valor surface_covered_in_m2\n",
    "mask_surface = data.surface_total_in_m2 < data.surface_covered_in_m2\n",
    "data_surface = data[mask_surface]\n",
    "\n",
    "# Se generan dos listas con los valores de surface_total_in_m2 y surface_covered_in_m2 en las instancias con el index de data_surface\n",
    "list_a = data_surface.surface_total_in_m2\n",
    "list_b = data_surface.surface_covered_in_m2\n",
    "\n",
    "# Se le asigna en funcion del index de data_surface, los valores de surface_total_in_m2 a surface_covered_in_m2 y viceversa\n",
    "data.loc[data_surface.index, \"surface_total_in_m2\"] = list_b\n",
    "data.loc[data_surface.index, \"surface_covered_in_m2\"] = list_a"
   ]
  },
  {
   "cell_type": "markdown",
   "id": "02a5db36",
   "metadata": {},
   "source": [
    "# Imputacion de datos faltantes"
   ]
  },
  {
   "cell_type": "markdown",
   "id": "d0b62ec6",
   "metadata": {},
   "source": [
    "# Logica a seguir para la imputacion de datos faltantes\n",
    "1. Imputacion de datos obtenidos mediante expresiones regulares en las columnas description y title\n",
    "2. Imputacion directa mediante deduccion con valores de otras columnas\n",
    "3. Imputacion mediante media condicionada (esta metodologia no se aplica en columnas de precio)"
   ]
  },
  {
   "cell_type": "markdown",
   "id": "07dd869e",
   "metadata": {},
   "source": [
    "## Obtencion de datos con expresiones regulares de las columnas *description* y *title*"
   ]
  },
  {
   "cell_type": "markdown",
   "id": "7910d0ee",
   "metadata": {},
   "source": [
    "## Obtencion de rooms con expresiones regulares"
   ]
  },
  {
   "cell_type": "markdown",
   "id": "56fe45f6",
   "metadata": {},
   "source": [
    "##### *Se obtienen los rooms nulos en primera instancia con expresiones regulares. No se obtienen primero con una media condicionada de la superficie cubierta y el lugar ya que es mas preciso obtenerlos con un dato directo del dataset*"
   ]
  },
  {
   "cell_type": "markdown",
   "id": "16fc94c0",
   "metadata": {},
   "source": [
    "### Obtencion de rooms con expresion regular en *description*"
   ]
  },
  {
   "cell_type": "code",
   "execution_count": 32,
   "id": "c5508abe",
   "metadata": {},
   "outputs": [
    {
     "name": "stdout",
     "output_type": "stream",
     "text": [
      "Cantidad de instancias en las que se va a aplicar la expresion regular=  69989\n"
     ]
    }
   ],
   "source": [
    "# Se obtiene a partir de data una serie que contenga las instancias con rooms nulos\n",
    "mask_rooms_null =  data.rooms.isnull()\n",
    "data_rooms_null = data [mask_rooms_null]\n",
    "series_rooms_null_description = data_rooms_null.description\n",
    "\n",
    "print(\"Cantidad de instancias en las que se va a aplicar la expresion regular= \",series_rooms_null_description.shape[0])"
   ]
  },
  {
   "cell_type": "code",
   "execution_count": 33,
   "id": "799b1fbc",
   "metadata": {},
   "outputs": [
    {
     "name": "stderr",
     "output_type": "stream",
     "text": [
      "C:\\Users\\gtoso\\AppData\\Local\\Temp\\ipykernel_2928\\3898365534.py:3: DeprecationWarning: Flags not at the start of the expression '(?P<rooms>\\\\d+)\\\\s+(?i' (truncated)\n",
      "  pattern_rooms_regex = re.compile(pattern)\n"
     ]
    }
   ],
   "source": [
    "# logica del patron: Toma un numero de un digito o mas,seguido o no de un espacio o mas y de las letras amb no distinguiendo entre mayusculas y minusculas\n",
    "pattern = \"(?P<rooms>\\d+)\\s+(?i)amb\"\n",
    "pattern_rooms_regex = re.compile(pattern)"
   ]
  },
  {
   "cell_type": "code",
   "execution_count": 34,
   "id": "b7f110ca",
   "metadata": {},
   "outputs": [
    {
     "name": "stdout",
     "output_type": "stream",
     "text": [
      "Rooms matcheados= 18608\n",
      "['2' nan '3' '1' '4' '7' '5' '6' '9' '2017' '103' '297' '072' '000' '11'\n",
      " '8' '085' '37' '800' '10' '12' '900' '0002' '400' '20174' '006' '17' '90'\n",
      " '0001' '772' '2004' '14' '24' '50' '20' '23' '65' '20173']\n"
     ]
    }
   ],
   "source": [
    "# Se aplica una funcion lamda para recorrer la serie series_rooms_null_description aplicando la expresion regular\n",
    "description_rooms_result = series_rooms_null_description.apply(lambda x: pattern_rooms_regex.search(str(x)))\n",
    "\n",
    "# Se extraen los datos que usaremos para la imputación\n",
    "description_rooms_match = description_rooms_result.apply(lambda x: np.nan if x is None else x.group('rooms'))\n",
    "\n",
    "print(\"Rooms matcheados=\",(description_rooms_match.notnull()).sum()) # Se ve la cantidad que pudo matchear\n",
    "print(description_rooms_match.unique()) # Se ven todos los rooms unicos que matcheo"
   ]
  },
  {
   "cell_type": "code",
   "execution_count": 35,
   "id": "a263817c",
   "metadata": {},
   "outputs": [],
   "source": [
    "# Se imputa la serie description_rooms_match con su index en data\n",
    "data.loc[description_rooms_match.index, \"rooms\"] = description_rooms_match "
   ]
  },
  {
   "cell_type": "markdown",
   "id": "8ffb3ba6",
   "metadata": {},
   "source": [
    "### Obtencion de rooms con expresion regular en *title*"
   ]
  },
  {
   "cell_type": "code",
   "execution_count": 36,
   "id": "9b569c23",
   "metadata": {},
   "outputs": [
    {
     "name": "stdout",
     "output_type": "stream",
     "text": [
      "Cantidad de instancias en las que se va a aplicar la expresion regular=  51381\n"
     ]
    }
   ],
   "source": [
    "# Se obtiene a partir de data una serie que contenga las instancias con rooms nulos\n",
    "mask_rooms_null = data.rooms.isnull()\n",
    "data_rooms_null = data [mask_rooms_null]\n",
    "series_rooms_null_title = data_rooms_null.title\n",
    "\n",
    "print(\"Cantidad de instancias en las que se va a aplicar la expresion regular= \",series_rooms_null_title.shape[0])"
   ]
  },
  {
   "cell_type": "code",
   "execution_count": 37,
   "id": "c8e0deec",
   "metadata": {},
   "outputs": [
    {
     "name": "stdout",
     "output_type": "stream",
     "text": [
      "Rooms matcheados= 2505\n",
      "[nan '2' '6' '3' '4' '5' '9' '1' '7' '8' '15' '4000' '360' '12']\n"
     ]
    }
   ],
   "source": [
    "# Se aplica una funcion lamda para recorrer la serie series_rooms_null_title aplicando la expresion regular\n",
    "title_rooms_result = series_rooms_null_title.apply(lambda x: pattern_rooms_regex.search(str(x)))\n",
    "\n",
    "# Se extraen los datos que usaremos para la imputación\n",
    "title_rooms_match = title_rooms_result.apply(lambda x: np.nan if x is None else x.group('rooms'))\n",
    "\n",
    "print(\"Rooms matcheados=\",(title_rooms_match.notnull()).sum())  # Se ve la cantidad que pudo matchear\n",
    "print(title_rooms_match.unique()) # Se ven todos los rooms unicos que matcheo"
   ]
  },
  {
   "cell_type": "code",
   "execution_count": 38,
   "id": "3e8713a7",
   "metadata": {},
   "outputs": [],
   "source": [
    "# Se imputa la serie title_rooms_match con su index en data\n",
    "data.loc[title_rooms_match.index, \"rooms\"] = title_rooms_match "
   ]
  },
  {
   "cell_type": "code",
   "execution_count": 39,
   "id": "acb9c734",
   "metadata": {},
   "outputs": [
    {
     "data": {
      "text/plain": [
       "dtype('float64')"
      ]
     },
     "execution_count": 39,
     "metadata": {},
     "output_type": "execute_result"
    }
   ],
   "source": [
    "# Se cambia el tipo de dato de object a float\n",
    "data[\"rooms\"] = data[\"rooms\"].astype(\"float\")\n",
    "data.rooms.dtypes"
   ]
  },
  {
   "cell_type": "markdown",
   "id": "6ee90ff7",
   "metadata": {},
   "source": [
    "## Obtencion de surface_total_in_m2 con expresiones regulares"
   ]
  },
  {
   "cell_type": "markdown",
   "id": "877230fd",
   "metadata": {},
   "source": [
    "##### *Se obtienen la superficie en la que ambas superficies sean nulas y el precio y el precio por metro cuadrado es nulo. De esta manera sabemos que no podemos imputar una superficie con la otra y no podemos inferir la superficie mediante el precio y el precio por metro cuadrado*"
   ]
  },
  {
   "cell_type": "markdown",
   "id": "5a7ce536",
   "metadata": {},
   "source": [
    "### Obtencion de surface_total_in_m2 con expresion regular en *description*"
   ]
  },
  {
   "cell_type": "code",
   "execution_count": 40,
   "id": "2e229584",
   "metadata": {},
   "outputs": [
    {
     "name": "stdout",
     "output_type": "stream",
     "text": [
      "Cantidad de instancias en las que se va a aplicar la expresion regular=  11437\n"
     ]
    }
   ],
   "source": [
    "# Se obtiene a partir de data una serie que contenga las instancias en las que se va a aplicar la expresion regular\n",
    "surfaces_condition = data.surface_total_in_m2.isnull() & data.surface_covered_in_m2.isnull()\n",
    "price_condition = data.price_aprox_usd.isnull()\n",
    "price_per_m2_condition = data.price_usd_per_m2.isnull()\n",
    "mask_surface_total_in_m2_null = surfaces_condition & (price_condition | price_per_m2_condition)\n",
    "data_surface_total_in_m2_null = data [mask_surface_total_in_m2_null]\n",
    "series_surface_total_in_m2_null_description = data_surface_total_in_m2_null.description\n",
    "\n",
    "print(\"Cantidad de instancias en las que se va a aplicar la expresion regular= \",series_surface_total_in_m2_null_description.shape[0])"
   ]
  },
  {
   "cell_type": "code",
   "execution_count": 41,
   "id": "6ef85e09",
   "metadata": {},
   "outputs": [
    {
     "name": "stderr",
     "output_type": "stream",
     "text": [
      "C:\\Users\\gtoso\\AppData\\Local\\Temp\\ipykernel_2928\\786532533.py:3: DeprecationWarning: Flags not at the start of the expression '(?P<surface_total_in' (truncated)\n",
      "  pattern_surface_total_in_m2_regex = re.compile(pattern)\n"
     ]
    }
   ],
   "source": [
    "# logica del patron: Toma un numero de un digito o mas,seguido o no de un espacio o mas y de las letras [m2,mts,metro] no distinguiendo entre mayusculas y minusculas\n",
    "pattern = \"(?P<surface_total_in_m2>\\d+)\\s+(?i)[m2|mts|metro]\"\n",
    "pattern_surface_total_in_m2_regex = re.compile(pattern)"
   ]
  },
  {
   "cell_type": "code",
   "execution_count": 42,
   "id": "c3a4e9a8",
   "metadata": {},
   "outputs": [
    {
     "name": "stdout",
     "output_type": "stream",
     "text": [
      "surfaces matcheados= 4114\n"
     ]
    }
   ],
   "source": [
    "# Se aplica una funcion lamda para recorrer la serie series_surface_total_in_m2_null_description aplicando la expresion regular\n",
    "description_surface_total_in_m2_result = series_surface_total_in_m2_null_description.apply(lambda x: pattern_surface_total_in_m2_regex.search(str(x)))\n",
    "\n",
    "# Se extraen los datos que usaremos para la imputación\n",
    "description_surface_total_in_m2_match = description_surface_total_in_m2_result.apply(lambda x: np.nan if x is None else x.group('surface_total_in_m2'))\n",
    "\n",
    "print(\"surfaces matcheados=\",(description_surface_total_in_m2_match.notnull()).sum()) #aca veo que cantidad pudo matchear"
   ]
  },
  {
   "cell_type": "code",
   "execution_count": 43,
   "id": "0b272396",
   "metadata": {},
   "outputs": [],
   "source": [
    "# Se imputa la serie description_surface_total_in_m2_match con su index en data\n",
    "data.loc[description_surface_total_in_m2_match.index, \"surface_total_in_m2\"] = description_surface_total_in_m2_match "
   ]
  },
  {
   "cell_type": "markdown",
   "id": "5c28b117",
   "metadata": {},
   "source": [
    "### Obtencion de surface_total_in_m2 con expresion regular en *title*"
   ]
  },
  {
   "cell_type": "code",
   "execution_count": 44,
   "id": "1a306cd4",
   "metadata": {},
   "outputs": [
    {
     "name": "stdout",
     "output_type": "stream",
     "text": [
      "Cantidad de instancias en las que se va a aplicar la expresion regular=  11437\n"
     ]
    }
   ],
   "source": [
    "# Se obtiene a partir de data una serie que contenga las instancias en las que se va a aplicar la expresion regular\n",
    "surfaces_condition = data.surface_total_in_m2.isnull() & data.surface_covered_in_m2.isnull()\n",
    "price_condition = data.price_aprox_usd.isnull()\n",
    "price_per_m2_condition = data.price_usd_per_m2.isnull()\n",
    "mask_surface_total_in_m2_null = surfaces_condition & (price_condition | price_per_m2_condition)\n",
    "data_surface_total_in_m2_null = data [mask_surface_total_in_m2_null]\n",
    "series_surface_total_in_m2_null_title = data_surface_total_in_m2_null.title\n",
    "\n",
    "print(\"Cantidad de instancias en las que se va a aplicar la expresion regular= \",series_surface_total_in_m2_null_description.shape[0])"
   ]
  },
  {
   "cell_type": "code",
   "execution_count": 45,
   "id": "220dc28d",
   "metadata": {},
   "outputs": [
    {
     "name": "stdout",
     "output_type": "stream",
     "text": [
      "surfaces matcheados=  113\n"
     ]
    }
   ],
   "source": [
    "# Se aplica una funcion lamda para recorrer la serie series_surface_total_in_m2_null_title aplicando la expresion regular\n",
    "title_surface_total_in_m2_result = series_surface_total_in_m2_null_title.apply(lambda x: pattern_surface_total_in_m2_regex.search(str(x)))\n",
    "\n",
    "# Se extraen los datos que usaremos para la imputación\n",
    "title_surface_total_in_m2_match = title_surface_total_in_m2_result.apply(lambda x: np.nan if x is None else x.group('surface_total_in_m2'))\n",
    "\n",
    "print(\"surfaces matcheados= \",(title_surface_total_in_m2_match.notnull()).sum()) #aca veo que cantidad pudo matchear"
   ]
  },
  {
   "cell_type": "code",
   "execution_count": 46,
   "id": "51b894c9",
   "metadata": {},
   "outputs": [],
   "source": [
    "# Se imputa la serie title_surface_total_in_m2_match con su index en data\n",
    "data.loc[title_surface_total_in_m2_match.index, \"surface_total_in_m2\"] = title_surface_total_in_m2_match "
   ]
  },
  {
   "cell_type": "code",
   "execution_count": 47,
   "id": "1ce6787b",
   "metadata": {},
   "outputs": [
    {
     "data": {
      "text/plain": [
       "dtype('float64')"
      ]
     },
     "execution_count": 47,
     "metadata": {},
     "output_type": "execute_result"
    }
   ],
   "source": [
    "# Se cambia el tipo de dato de object a float\n",
    "data[\"surface_total_in_m2\"] = data[\"surface_total_in_m2\"].astype(\"float\")\n",
    "data.surface_total_in_m2.dtypes"
   ]
  },
  {
   "cell_type": "markdown",
   "id": "ed8ad0f6",
   "metadata": {},
   "source": [
    "## Obtencion de price_aprox_usd mediante expresiones regulares"
   ]
  },
  {
   "cell_type": "markdown",
   "id": "46a361e9",
   "metadata": {},
   "source": [
    "##### *Se quiere obtener el price_aprox_usd para las instancias en las que no tenemos price_aprox_usd y tampoco tenemos surface_total_in_m2 y surface_total_in_m2 o no tenemos price_usd_per_m2 y price_per_m2 *"
   ]
  },
  {
   "cell_type": "markdown",
   "id": "0e58e74a",
   "metadata": {},
   "source": [
    "### Obtencion de price con expresion regular en *description*"
   ]
  },
  {
   "cell_type": "code",
   "execution_count": 48,
   "id": "b61096ff",
   "metadata": {},
   "outputs": [
    {
     "name": "stdout",
     "output_type": "stream",
     "text": [
      "Cantidad de instancias en las que se va a aplicar la expresion regular=  17871\n"
     ]
    }
   ],
   "source": [
    "# Se obtiene a partir de data una serie que contenga las instancias en las que se va a aplicar la expresion regular\n",
    "surface_condition = data.surface_total_in_m2.isnull() & data.surface_covered_in_m2.isnull()\n",
    "price_condition = data.price_aprox_usd.isnull()\n",
    "price_per_m2_condition = data.price_usd_per_m2.isnull()\n",
    "mask_price_null = price_condition & (price_per_m2_condition | surfaces_condition)\n",
    "data_price_null = data [mask_price_null]\n",
    "series_price_null_description = data_price_null.description\n",
    "\n",
    "print(\"Cantidad de instancias en las que se va a aplicar la expresion regular= \",series_price_null_description.shape[0])"
   ]
  },
  {
   "cell_type": "code",
   "execution_count": 49,
   "id": "2dc94478",
   "metadata": {},
   "outputs": [],
   "source": [
    "# logica del patron: toma la combinacion de letras usd indistintamente de ser mayusculas o minusculas seguido o no de un espacio o mas y seguido de un numero de un numero de un digito o mas\n",
    "pattern = \"(?i)usd\\s{0,1}(?P<price_aprox_usd>\\d+)\"\n",
    "pattern_price_regex = re.compile(pattern)"
   ]
  },
  {
   "cell_type": "code",
   "execution_count": 50,
   "id": "ec234c6f",
   "metadata": {},
   "outputs": [
    {
     "name": "stdout",
     "output_type": "stream",
     "text": [
      "price matcheados=  406\n"
     ]
    }
   ],
   "source": [
    "# Se aplica una funcion lamda para recorrer la serie series_surface_total_in_m2_null_description aplicando la expresion regular\n",
    "description_price_result = series_price_null_description.apply(lambda x: pattern_price_regex.search(str(x)))\n",
    "\n",
    "# Se extraen los datos que usaremos para la imputación\n",
    "description_price_match = description_price_result.apply(lambda x: np.nan if x is None else x.group('price_aprox_usd'))\n",
    "\n",
    "print(\"price matcheados= \",(description_price_match.notnull()).sum()) #aca veo que cantidad pudo matchear"
   ]
  },
  {
   "cell_type": "code",
   "execution_count": 51,
   "id": "370b27d6",
   "metadata": {},
   "outputs": [],
   "source": [
    "# Se imputa la serie description_price_match con su index en data\n",
    "data.loc[description_price_match.index, \"price_aprox_usd\"] = description_price_match "
   ]
  },
  {
   "cell_type": "markdown",
   "id": "4f4ed588",
   "metadata": {},
   "source": [
    "### Obtencion de price con expresion regular en *title*"
   ]
  },
  {
   "cell_type": "code",
   "execution_count": 52,
   "id": "0ca4ca55",
   "metadata": {},
   "outputs": [
    {
     "name": "stdout",
     "output_type": "stream",
     "text": [
      "Cantidad de instancias en las que se va a aplicar la expresion regular=  17871\n"
     ]
    }
   ],
   "source": [
    "# Se obtiene a partir de data una serie que contenga las instancias en las que se va a aplicar la expresion regular\n",
    "surface_condition = data.surface_total_in_m2.isnull() & data.surface_covered_in_m2.isnull()\n",
    "price_condition = data.price_aprox_usd.isnull()\n",
    "price_per_m2_condition = data.price_usd_per_m2.isnull()\n",
    "mask_price_null = price_condition & (price_per_m2_condition | surfaces_condition)\n",
    "data_price_null = data [mask_price_null]\n",
    "series_price_null_title = data_price_null.title\n",
    "\n",
    "print(\"Cantidad de instancias en las que se va a aplicar la expresion regular= \",series_price_null_description.shape[0])"
   ]
  },
  {
   "cell_type": "code",
   "execution_count": 53,
   "id": "af7ad13e",
   "metadata": {},
   "outputs": [
    {
     "name": "stdout",
     "output_type": "stream",
     "text": [
      "price matcheados=  1\n"
     ]
    }
   ],
   "source": [
    "# Se aplica una funcion lamda para recorrer la serie series_price_null_title aplicando la expresion regular\n",
    "title_price_result = series_price_null_title.apply(lambda x: pattern_price_regex.search(str(x)))\n",
    "\n",
    "# Se extraen los datos que usaremos para la imputación\n",
    "title_price_match = title_price_result.apply(lambda x: np.nan if x is None else x.group('price_aprox_usd'))\n",
    "\n",
    "print(\"price matcheados= \",(title_price_match.notnull()).sum()) #aca veo que cantidad pudo matchear"
   ]
  },
  {
   "cell_type": "code",
   "execution_count": 54,
   "id": "465e1da7",
   "metadata": {},
   "outputs": [],
   "source": [
    "# Se imputa la serie title_price_match con su index en data\n",
    "data.loc[title_price_match.index, \"price_aprox_usd\"] = title_price_match "
   ]
  },
  {
   "cell_type": "code",
   "execution_count": 55,
   "id": "a389fce5",
   "metadata": {},
   "outputs": [
    {
     "data": {
      "text/plain": [
       "dtype('float64')"
      ]
     },
     "execution_count": 55,
     "metadata": {},
     "output_type": "execute_result"
    }
   ],
   "source": [
    "# Se cambia el tipo de dato de object a float\n",
    "data[\"price_aprox_usd\"] = data[\"price_aprox_usd\"].astype(\"float\")\n",
    "data.price_aprox_usd.dtypes"
   ]
  },
  {
   "cell_type": "markdown",
   "id": "a3efd5c8",
   "metadata": {},
   "source": [
    "## Obtencion de floor mediante expresiones regulares"
   ]
  },
  {
   "cell_type": "markdown",
   "id": "6a3af62f",
   "metadata": {},
   "source": [
    "##### *Se quiere obtener el floor para las instancias en las que es nulo*"
   ]
  },
  {
   "cell_type": "markdown",
   "id": "5fbb1656",
   "metadata": {},
   "source": [
    "### Obtencion de floor con expresion regular en *description*"
   ]
  },
  {
   "cell_type": "code",
   "execution_count": 56,
   "id": "8bc1ece4",
   "metadata": {},
   "outputs": [
    {
     "name": "stdout",
     "output_type": "stream",
     "text": [
      "Cantidad de instancias en las que se va a aplicar la expresion regular=  108073\n"
     ]
    }
   ],
   "source": [
    "# Se obtiene a partir de data una serie que contenga las instancias en las que se va a aplicar la expresion regular\n",
    "data_floor_null = data [data.floor.isnull()]\n",
    "series_floor_null_description = data_floor_null.description\n",
    "\n",
    "print(\"Cantidad de instancias en las que se va a aplicar la expresion regular= \",series_floor_null_description.shape[0])"
   ]
  },
  {
   "cell_type": "code",
   "execution_count": 57,
   "id": "1c54e992",
   "metadata": {},
   "outputs": [
    {
     "name": "stderr",
     "output_type": "stream",
     "text": [
      "C:\\Users\\gtoso\\AppData\\Local\\Temp\\ipykernel_2928\\2505478835.py:3: DeprecationWarning: Flags not at the start of the expression '(?P<floor>\\\\d+)\\\\s+(?i' (truncated)\n",
      "  pattern_floor_regex = re.compile(pattern)\n"
     ]
    }
   ],
   "source": [
    "# logica del patron: Toma un valor numerico o mas, seguido de un espacio o mas o ninguno, seguido de la palabra piso indistintamente que sean mayusculas o minusculas\n",
    "pattern = \"(?P<floor>\\d+)\\s+(?i)piso\" \n",
    "pattern_floor_regex = re.compile(pattern)"
   ]
  },
  {
   "cell_type": "code",
   "execution_count": 58,
   "id": "7d353783",
   "metadata": {},
   "outputs": [
    {
     "name": "stdout",
     "output_type": "stream",
     "text": [
      "floor matcheados=  6842\n"
     ]
    }
   ],
   "source": [
    "# Se aplica una funcion lamda para recorrer la serie series_floor_null_description aplicando la expresion regular\n",
    "description_floor_result = series_floor_null_description.apply(lambda x: pattern_floor_regex.search(str(x)))\n",
    "\n",
    "# Se extraen los datos que usaremos para la imputación\n",
    "description_floor_match = description_floor_result.apply(lambda x: np.nan if x is None else x.group('floor'))\n",
    "\n",
    "print(\"floor matcheados= \",(description_floor_match.notnull()).sum()) #aca veo que cantidad pudo matchear"
   ]
  },
  {
   "cell_type": "code",
   "execution_count": 59,
   "id": "32da2b6c",
   "metadata": {},
   "outputs": [],
   "source": [
    "# Se imputa la serie description_floor_match con su index en data\n",
    "data.loc[description_floor_match.index, \"floor\"] = description_floor_match "
   ]
  },
  {
   "cell_type": "markdown",
   "id": "1e0d1bda",
   "metadata": {},
   "source": [
    "### Obtencion de floor con expresion regular en *title*"
   ]
  },
  {
   "cell_type": "code",
   "execution_count": 60,
   "id": "4b00770a",
   "metadata": {},
   "outputs": [
    {
     "name": "stdout",
     "output_type": "stream",
     "text": [
      "Cantidad de instancias en las que se va a aplicar la expresion regular=  101231\n"
     ]
    }
   ],
   "source": [
    "# Se obtiene a partir de data una serie que contenga las instancias en las que se va a aplicar la expresion regular\n",
    "data_floor_null = data [data.floor.isnull()]\n",
    "series_floor_null_title = data_floor_null.title\n",
    "\n",
    "print(\"Cantidad de instancias en las que se va a aplicar la expresion regular= \",series_floor_null_title.shape[0])"
   ]
  },
  {
   "cell_type": "code",
   "execution_count": 61,
   "id": "7d1459c3",
   "metadata": {},
   "outputs": [
    {
     "name": "stdout",
     "output_type": "stream",
     "text": [
      "floor matcheados=  113\n"
     ]
    }
   ],
   "source": [
    "# Se aplica una funcion lamda para recorrer la serie series_floor_null_title aplicando la expresion regular\n",
    "title_floor_result = series_floor_null_title.apply(lambda x: pattern_floor_regex.search(str(x)))\n",
    "\n",
    "# Se extraen los datos que usaremos para la imputación\n",
    "title_floor_match = title_floor_result.apply(lambda x: np.nan if x is None else x.group('floor'))\n",
    "\n",
    "print(\"floor matcheados= \",(title_floor_match.notnull()).sum()) #aca veo que cantidad pudo matchear"
   ]
  },
  {
   "cell_type": "code",
   "execution_count": 62,
   "id": "716dc0b2",
   "metadata": {},
   "outputs": [],
   "source": [
    "# Se imputa la serie title_floor_match con su index en data\n",
    "data.loc[title_floor_match.index, \"floor\"] = title_floor_match "
   ]
  },
  {
   "cell_type": "code",
   "execution_count": 63,
   "id": "126e979a",
   "metadata": {},
   "outputs": [
    {
     "data": {
      "text/plain": [
       "dtype('float64')"
      ]
     },
     "execution_count": 63,
     "metadata": {},
     "output_type": "execute_result"
    }
   ],
   "source": [
    "# Se cambia el tipo de dato de object a float\n",
    "data[\"floor\"] = data[\"floor\"].astype(\"float\")\n",
    "data.floor.dtypes"
   ]
  },
  {
   "cell_type": "markdown",
   "id": "f178d119",
   "metadata": {},
   "source": [
    "## Obtencion de expenses mediante expresiones regulares"
   ]
  },
  {
   "cell_type": "markdown",
   "id": "8c3d8d08",
   "metadata": {},
   "source": [
    "##### *Se quiere obtener el expensas para las instancias en las que es nulo"
   ]
  },
  {
   "cell_type": "markdown",
   "id": "3c7ee85c",
   "metadata": {},
   "source": [
    "### Obtencion de expenses con expresion regular en *description*"
   ]
  },
  {
   "cell_type": "code",
   "execution_count": 64,
   "id": "4efc2f2a",
   "metadata": {},
   "outputs": [
    {
     "name": "stdout",
     "output_type": "stream",
     "text": [
      "Cantidad de instancias en las que se va a aplicar la expresion regular=  101758\n"
     ]
    }
   ],
   "source": [
    "# Se obtiene a partir de data una serie que contenga las instancias en las que se va a aplicar la expresion regular\n",
    "data_expenses_null = data [data.expenses.isnull()]\n",
    "series_expenses_null_description = data_expenses_null.description\n",
    "\n",
    "print(\"Cantidad de instancias en las que se va a aplicar la expresion regular= \",series_expenses_null_description.shape[0])"
   ]
  },
  {
   "cell_type": "code",
   "execution_count": 65,
   "id": "e71bd23e",
   "metadata": {},
   "outputs": [
    {
     "name": "stderr",
     "output_type": "stream",
     "text": [
      "C:\\Users\\gtoso\\AppData\\Local\\Temp\\ipykernel_2928\\2993959463.py:3: DeprecationWarning: Flags not at the start of the expression '(?P<expenses>\\\\d+)\\\\s+' (truncated)\n",
      "  pattern_expenses_regex = re.compile(pattern)\n"
     ]
    }
   ],
   "source": [
    "# logica del patron: Toma un valor numerico o mas, seguido de un espacio o mas o ninguno, seguido de la palabra exp indistintamente que sean mayusculas o minusculas\n",
    "pattern = \"(?P<expenses>\\d+)\\s+(?i)exp\"\n",
    "pattern_expenses_regex = re.compile(pattern)"
   ]
  },
  {
   "cell_type": "code",
   "execution_count": 66,
   "id": "2028cff3",
   "metadata": {},
   "outputs": [
    {
     "name": "stdout",
     "output_type": "stream",
     "text": [
      "expenses matcheados=  153\n"
     ]
    }
   ],
   "source": [
    "# Se aplica una funcion lamda para recorrer la serie series_expenses_null_description aplicando la expresion regular\n",
    "description_expenses_result = series_expenses_null_description.apply(lambda x: pattern_expenses_regex.search(str(x)))\n",
    "\n",
    "# Se extraen los datos que usaremos para la imputación\n",
    "description_expenses_match = description_expenses_result.apply(lambda x: np.nan if x is None else x.group('expenses'))\n",
    "\n",
    "print(\"expenses matcheados= \",(description_expenses_match.notnull()).sum()) #aca veo que cantidad pudo matchear"
   ]
  },
  {
   "cell_type": "code",
   "execution_count": 67,
   "id": "97bf8f5c",
   "metadata": {},
   "outputs": [],
   "source": [
    "# Se imputa la serie description_expenses_match con su index en data\n",
    "data.loc[description_expenses_match.index, \"floor\"] = description_expenses_match "
   ]
  },
  {
   "cell_type": "markdown",
   "id": "0092969d",
   "metadata": {},
   "source": [
    "### Obtencion de expenses con expresion regular en *title*"
   ]
  },
  {
   "cell_type": "code",
   "execution_count": 68,
   "id": "751a2047",
   "metadata": {},
   "outputs": [
    {
     "name": "stdout",
     "output_type": "stream",
     "text": [
      "Cantidad de instancias en las que se va a aplicar la expresion regular=  101758\n"
     ]
    }
   ],
   "source": [
    "# Se obtiene a partir de data una serie que contenga las instancias en las que se va a aplicar la expresion regular\n",
    "data_expenses_null = data [data.expenses.isnull()]\n",
    "series_expenses_null_title = data_expenses_null.title\n",
    "\n",
    "print(\"Cantidad de instancias en las que se va a aplicar la expresion regular= \",series_expenses_null_title.shape[0])"
   ]
  },
  {
   "cell_type": "code",
   "execution_count": 69,
   "id": "95027504",
   "metadata": {},
   "outputs": [
    {
     "name": "stdout",
     "output_type": "stream",
     "text": [
      "expenses matcheados=  6\n"
     ]
    }
   ],
   "source": [
    "# Se aplica una funcion lamda para recorrer la serie series_expenses_null_title aplicando la expresion regular\n",
    "title_expenses_result = series_expenses_null_title.apply(lambda x: pattern_expenses_regex.search(str(x)))\n",
    "\n",
    "# Se extraen los datos que usaremos para la imputación\n",
    "title_expenses_match = title_expenses_result.apply(lambda x: np.nan if x is None else x.group(\"expenses\"))\n",
    "\n",
    "print(\"expenses matcheados= \",(title_expenses_match.notnull()).sum()) #aca veo que cantidad pudo matchear"
   ]
  },
  {
   "cell_type": "code",
   "execution_count": 70,
   "id": "21ff3dc0",
   "metadata": {},
   "outputs": [],
   "source": [
    "# Se imputa la serie title_expenses_match con su index en data\n",
    "data.loc[title_expenses_match.index, \"expenses\"] = title_expenses_match "
   ]
  },
  {
   "cell_type": "code",
   "execution_count": 71,
   "id": "f5346ead",
   "metadata": {},
   "outputs": [
    {
     "data": {
      "text/plain": [
       "dtype('float64')"
      ]
     },
     "execution_count": 71,
     "metadata": {},
     "output_type": "execute_result"
    }
   ],
   "source": [
    "# Se cambia el tipo de dato de object a float\n",
    "data[\"expenses\"] = data[\"expenses\"].astype(\"float\")\n",
    "data.expenses.dtypes"
   ]
  },
  {
   "cell_type": "markdown",
   "id": "c2f363c3",
   "metadata": {},
   "source": [
    "# Obtencion de datos mediante imputacion directa"
   ]
  },
  {
   "cell_type": "markdown",
   "id": "29b1a9a2",
   "metadata": {},
   "source": [
    "## Obtencion de surface_total_in_m2 y surface_covered_in_m2 mediante imputacion directa"
   ]
  },
  {
   "cell_type": "markdown",
   "id": "1aaf2d53",
   "metadata": {},
   "source": [
    "### Imputacion de surface_total_in_m2 y surface_covered_in_m2"
   ]
  },
  {
   "cell_type": "markdown",
   "id": "4c42ab58",
   "metadata": {},
   "source": [
    "#### *Cuando una sea nula y la otra no se imputara en la nula el valor de la no nula*"
   ]
  },
  {
   "cell_type": "code",
   "execution_count": 72,
   "id": "7587bafd",
   "metadata": {},
   "outputs": [
    {
     "name": "stdout",
     "output_type": "stream",
     "text": [
      "Cantidad de instancias de surface_covered_in_m2 a imputar en surface_total_in_m2=  26000\n",
      "Cantidad de instancias de surface_total_in_m2 a imputar en surface_covered_in_m2=  10536\n"
     ]
    }
   ],
   "source": [
    "# Se obtiene un dataframe con los valores no nulos de surface_covered_in_m2 y nulos de surface_total_in_m2\n",
    "mask_surface_total_in_m2_null = data.surface_total_in_m2.isnull() & data.surface_covered_in_m2.notnull()\n",
    "data_surface_total_in_m2_null = data[mask_surface_total_in_m2_null]\n",
    "\n",
    "# Se obtiene un dataframe con los valores nulos de surface_covered_in_m2 y no nulos de surface_total_in_m2\n",
    "mask_surface_covered_in_m2_null =  data.surface_total_in_m2.notnull() & data.surface_covered_in_m2.isnull()\n",
    "data_surface_covered_in_m2_null = data[mask_surface_covered_in_m2_null]\n",
    "\n",
    "\n",
    "print (\"Cantidad de instancias de surface_covered_in_m2 a imputar en surface_total_in_m2= \", data_surface_total_in_m2_null.shape[0])\n",
    "print (\"Cantidad de instancias de surface_total_in_m2 a imputar en surface_covered_in_m2= \", data_surface_covered_in_m2_null.shape[0])"
   ]
  },
  {
   "cell_type": "code",
   "execution_count": 73,
   "id": "92cc2679",
   "metadata": {},
   "outputs": [],
   "source": [
    "# Imputacion de valores nulos de surface_total_in_m2 con valores no nulos de surface_covered_in_m2\n",
    "data.loc[data_surface_total_in_m2_null.index, \"surface_total_in_m2\"] = data_surface_total_in_m2_null.loc[data_surface_total_in_m2_null.index, \"surface_covered_in_m2\"]\n",
    "\n",
    "# Imputacion de valores nulos de surface_covered_in_m2 con valores no nulos de surface_total_in_m2\n",
    "data.loc[data_surface_covered_in_m2_null.index, \"surface_covered_in_m2\"] = data_surface_covered_in_m2_null.loc[data_surface_covered_in_m2_null.index, \"surface_total_in_m2\"]"
   ]
  },
  {
   "cell_type": "markdown",
   "id": "5df575b1",
   "metadata": {},
   "source": [
    "### Obtención de las surface_total_in_m2 y surface_covered_in_m2 nulas en funcion del price_aprox_usd y de price_usd_per_m2"
   ]
  },
  {
   "cell_type": "markdown",
   "id": "39a2431e",
   "metadata": {},
   "source": [
    "##### El valor de surface_total_in_m2 y surface_covered_in_m2 se obtiene mediante la formula **surface_total_in_m2 = price_aprox_usd / price_usd_per_m2**"
   ]
  },
  {
   "cell_type": "code",
   "execution_count": 74,
   "id": "43824ef6",
   "metadata": {},
   "outputs": [
    {
     "name": "stdout",
     "output_type": "stream",
     "text": [
      "Cantidad de instancias de surface_total_in_m2 a imputar=  0\n"
     ]
    }
   ],
   "source": [
    "# Se obtiene un dataframe con los valores nulos de ambas variables de surfaces, no nulos de price_aprox_usd y no nulos de price_usd_per_m2\n",
    "condition_surfaces_null = data.surface_total_in_m2.isnull() & data.surface_covered_in_m2.isnull()\n",
    "condition_price_notnull = data.price_aprox_usd.notnull()\n",
    "condition_price_per_m2_notnull = data.price_usd_per_m2.notnull()\n",
    "mask_surfaces_imput = condition_surfaces_null & condition_price_notnull & condition_price_per_m2_notnull\n",
    "data_surfaces_imput = data[mask_surfaces_imput]\n",
    "\n",
    "print (\"Cantidad de instancias de surface_total_in_m2 a imputar= \", data_surfaces_imput.shape[0])"
   ]
  },
  {
   "cell_type": "markdown",
   "id": "a99c47cc",
   "metadata": {},
   "source": [
    "### Obtencion de price_aprox_usd mediante imputacion directa en funcion de prices_usd_per_m2 y surface_total_in_m2"
   ]
  },
  {
   "cell_type": "markdown",
   "id": "9f49dbe0",
   "metadata": {},
   "source": [
    "##### El valor de price_aprox_usd se obtiene mediante la formula **price_aprox_usd = price_usd_per_m2 * surface_total_in_m2**"
   ]
  },
  {
   "cell_type": "code",
   "execution_count": 75,
   "id": "7a4b193c",
   "metadata": {},
   "outputs": [
    {
     "name": "stdout",
     "output_type": "stream",
     "text": [
      "Cantidad de instancias de price_aprox_usd a imputar=  0\n"
     ]
    }
   ],
   "source": [
    "# Se obtiene un dataframe con los valores no nulos de cualquiera de las dos surfaces, nulos de price_aprox_usd y no nulos de price_usd_per_m2\n",
    "condition_surfaces_notnull = data.surface_total_in_m2.notnull() | data.surface_covered_in_m2.notnull()\n",
    "condition_price_null =  data.price_aprox_usd.isnull()\n",
    "condition_price_per_m2_notnull = data.price_usd_per_m2.notnull()\n",
    "mask_prices_imput = condition_surfaces_null & condition_price_notnull & condition_price_per_m2_notnull\n",
    "data_prices_imput = data[mask_prices_imput]\n",
    "\n",
    "print (\"Cantidad de instancias de price_aprox_usd a imputar= \", data_prices_imput.shape[0])"
   ]
  },
  {
   "cell_type": "markdown",
   "id": "4f18b558",
   "metadata": {},
   "source": [
    "### Obtencion de price_usd_per_m2 mediante imputacion directa en funcion de surface y price"
   ]
  },
  {
   "cell_type": "markdown",
   "id": "83f780c5",
   "metadata": {},
   "source": [
    "##### El valor de price_usd_per_m2 se obtiene mediante la formula **price_usd_per_m2 = price_aprox_in_usd / surface_total_in_m2**"
   ]
  },
  {
   "cell_type": "code",
   "execution_count": 76,
   "id": "e5d34033",
   "metadata": {},
   "outputs": [
    {
     "name": "stdout",
     "output_type": "stream",
     "text": [
      "Cantidad de instancias de price_usd_per_m2 a imputar=  2826\n"
     ]
    }
   ],
   "source": [
    "# Se obtiene un dataframe con los valores no nulos de cualquiera de las dos surfaces, no nulos de price_aprox_usd y nulos de price_usd_per_m2\n",
    "condition_surfaces_notnull = data.surface_total_in_m2.notnull() | data.surface_covered_in_m2.notnull()\n",
    "condition_price_notnull = data.price_aprox_usd.notnull()\n",
    "condition_price_per_m2_null = data.price_usd_per_m2.isnull()\n",
    "mask_prices_per_m2_imput = condition_surfaces_notnull & condition_price_notnull & condition_price_per_m2_null\n",
    "data_prices_per_m2_imput = data[mask_prices_per_m2_imput]\n",
    "\n",
    "print (\"Cantidad de instancias de price_usd_per_m2 a imputar= \", data_prices_per_m2_imput.shape[0])"
   ]
  },
  {
   "cell_type": "code",
   "execution_count": 77,
   "id": "76501199",
   "metadata": {},
   "outputs": [],
   "source": [
    "# Se imputa el valor de price_usd_per_m2 como price_usd_per_m2 = price_aprox_usd / surface_total_in_m2\n",
    "data.loc[data_prices_per_m2_imput.index,\"price_usd_per_m2\"] = data.loc[data_prices_per_m2_imput.index, \"price_aprox_usd\"] / data.loc[data_prices_per_m2_imput.index, \"surface_total_in_m2\"]"
   ]
  },
  {
   "cell_type": "markdown",
   "id": "a604e960",
   "metadata": {},
   "source": [
    "# Imputacion por medias condicionadas"
   ]
  },
  {
   "cell_type": "markdown",
   "id": "ee811dba",
   "metadata": {},
   "source": [
    "## Obtencion de surface_covered_in_m2 y surface_total-in_m2 por medias condicionadas en funcion de las rooms, del state_name y del property_type"
   ]
  },
  {
   "cell_type": "code",
   "execution_count": 78,
   "id": "4a884cbc",
   "metadata": {},
   "outputs": [
    {
     "name": "stdout",
     "output_type": "stream",
     "text": [
      "Cantidad de instancias con las que se va a hacer el groupby=  66812\n",
      "Cantiedad de nulos en surface_covered_in_m2 (en data_surfaces_imput) =  3527\n",
      "Cantiedad de nulos en surface_total_in_m2 (en data_surfaces_imput)=  3527\n"
     ]
    }
   ],
   "source": [
    "#Obtengo un dataframe con las instancias que tengan las rooms no nulos, state_name no nulo y property_type no nulo\n",
    "data_surfaces_imput = data[data.rooms.notnull() & data.state_name.notnull() & data.property_type.notnull()]\n",
    "\n",
    "print(\"Cantidad de instancias con las que se va a hacer el groupby= \", data_surfaces_imput.shape[0])\n",
    "print(\"Cantiedad de nulos en surface_covered_in_m2 (en data_surfaces_imput) = \", data_surfaces_imput.surface_covered_in_m2.isnull().sum())\n",
    "print(\"Cantiedad de nulos en surface_total_in_m2 (en data_surfaces_imput)= \", data_surfaces_imput.surface_total_in_m2.isnull().sum())"
   ]
  },
  {
   "cell_type": "code",
   "execution_count": 79,
   "id": "70cbac4b",
   "metadata": {},
   "outputs": [
    {
     "data": {
      "text/plain": [
       "property_type  state_name                    rooms  \n",
       "PH             Capital Federal               2.0          51.496241\n",
       "apartment      Capital Federal               2.0          52.668151\n",
       "PH             Capital Federal               3.0          79.983607\n",
       "apartment      Buenos Aires Costa Atlántica  2.0         425.600765\n",
       "house          Bs.As. G.B.A. Zona Norte      1.0         211.633333\n",
       "                                                           ...     \n",
       "store          Córdoba                       5.0         120.000000\n",
       "house          Córdoba                       28.0        625.000000\n",
       "PH             Buenos Aires Interior         6.0         170.000000\n",
       "apartment      Capital Federal               20173.0      63.000000\n",
       "               Córdoba                       18.0       1300.000000\n",
       "Name: surface_covered_in_m2, Length: 347, dtype: float64"
      ]
     },
     "execution_count": 79,
     "metadata": {},
     "output_type": "execute_result"
    }
   ],
   "source": [
    "# Se realiza un groupby para obtener la media de surface_covered_in_m2 en funcion de property_type , state_name y rooms\n",
    "data_surfaces_imput_groupby = data_surfaces_imput.groupby(by = [\"property_type\" , \"state_name\" ,\"rooms\"], sort=False)[\"surface_covered_in_m2\"].mean()\n",
    "data_surfaces_imput_groupby"
   ]
  },
  {
   "cell_type": "code",
   "execution_count": 80,
   "id": "a2197bd1",
   "metadata": {},
   "outputs": [
    {
     "name": "stdout",
     "output_type": "stream",
     "text": [
      "Cantiedad de nulos en surface_covered_in_m2 (en data_surfaces_imput) =  10\n"
     ]
    },
    {
     "name": "stderr",
     "output_type": "stream",
     "text": [
      "C:\\Users\\gtoso\\AppData\\Local\\Temp\\ipykernel_2928\\2139668526.py:2: SettingWithCopyWarning: \n",
      "A value is trying to be set on a copy of a slice from a DataFrame.\n",
      "Try using .loc[row_indexer,col_indexer] = value instead\n",
      "\n",
      "See the caveats in the documentation: https://pandas.pydata.org/pandas-docs/stable/user_guide/indexing.html#returning-a-view-versus-a-copy\n",
      "  data_surfaces_imput[\"surface_covered_in_m2\"] = data_surfaces_imput.groupby([\"property_type\" , \"state_name\" ,\"rooms\"], sort=False)[\"surface_covered_in_m2\"].apply(lambda x: x.fillna(x.mean()))\n"
     ]
    }
   ],
   "source": [
    "# Se realiza un groupby para obtener la media de surface_covered_in_m2 en funcion de property_type , state_name y rooms, imputandolo en los nulos de surface_covered_in_m2 del dataframe data_surfaces_imput\n",
    "data_surfaces_imput[\"surface_covered_in_m2\"] = data_surfaces_imput.groupby([\"property_type\" , \"state_name\" ,\"rooms\"], sort=False)[\"surface_covered_in_m2\"].apply(lambda x: x.fillna(x.mean()))\n",
    "print(\"Cantiedad de nulos en surface_covered_in_m2 (en data_surfaces_imput) = \", data_surfaces_imput.surface_covered_in_m2.isnull().sum())"
   ]
  },
  {
   "cell_type": "markdown",
   "id": "1500135d",
   "metadata": {},
   "source": [
    "## Obtencion de rooms por medias condicionadas en funcion de la surface_covered_in_m2 y del state_name"
   ]
  },
  {
   "cell_type": "markdown",
   "id": "ae352029",
   "metadata": {},
   "source": [
    "##### Primero se discretiza la variable surface_covered_in_m2 en cuatro categorias"
   ]
  },
  {
   "cell_type": "code",
   "execution_count": 81,
   "id": "5c70167d",
   "metadata": {},
   "outputs": [],
   "source": [
    "# Con qcut se discretiza la columa surface_covered_in_m2, creando una serie\n",
    "serie_surfaces_category = pd.qcut(data.surface_covered_in_m2, 4,labels = [\"chico\",\"mediano\",\"grande\",\"muy_grande\"])"
   ]
  },
  {
   "cell_type": "code",
   "execution_count": 82,
   "id": "117bf8c1",
   "metadata": {},
   "outputs": [],
   "source": [
    "# Se crea un dataframe auxiliar y se le inserta la serie serie_surfaces_category\n",
    "data_aux = data.copy()\n",
    "data_aux.insert(12,\"surface_category\",serie_surfaces_category)"
   ]
  },
  {
   "cell_type": "code",
   "execution_count": 83,
   "id": "baf95331",
   "metadata": {},
   "outputs": [
    {
     "name": "stdout",
     "output_type": "stream",
     "text": [
      "Cantidad de instancias con las que se va a hacer el groupby=  108478\n",
      "Cantidad de nulos en rooms (en data_rooms_imput)=  45193\n"
     ]
    }
   ],
   "source": [
    "# Se obtiene un dataframe con las instancias donde surface_category sea no nulo, state_name no nulo y property_type no nulo\n",
    "data_rooms_imput = data_aux[data_aux.surface_category.notnull() & data_aux.state_name.notnull() & data_aux.property_type.notnull()]\n",
    "\n",
    "print(\"Cantidad de instancias con las que se va a hacer el groupby= \", data_rooms_imput.shape[0])\n",
    "print(\"Cantidad de nulos en rooms (en data_rooms_imput)= \", data_rooms_imput.rooms.isnull().sum())"
   ]
  },
  {
   "cell_type": "code",
   "execution_count": 84,
   "id": "9456bdd1",
   "metadata": {},
   "outputs": [
    {
     "data": {
      "text/plain": [
       "property_type  state_name                surface_category\n",
       "PH             Bs.As. G.B.A. Zona Norte  chico               2.636364\n",
       "                                         mediano             2.790000\n",
       "                                         grande              3.468439\n",
       "                                         muy_grande          4.500000\n",
       "               Bs.As. G.B.A. Zona Oeste  chico               2.614754\n",
       "                                                               ...   \n",
       "store          Córdoba                   muy_grande          4.833333\n",
       "               Santa Fe                  chico               2.000000\n",
       "                                         mediano                  NaN\n",
       "                                         grande                   NaN\n",
       "                                         muy_grande          8.000000\n",
       "Name: rooms, Length: 128, dtype: float64"
      ]
     },
     "execution_count": 84,
     "metadata": {},
     "output_type": "execute_result"
    }
   ],
   "source": [
    "# Se realiza un groupby para obtener la media de rooms en funcion de property_type , state_name y surface_category\n",
    "data_rooms_imput_groupby = data_rooms_imput.groupby(by = [\"property_type\" , \"state_name\" , \"surface_category\" ], sort=False)[\"rooms\"].mean()\n",
    "data_rooms_imput_groupby"
   ]
  },
  {
   "cell_type": "code",
   "execution_count": 85,
   "id": "09e45ce9",
   "metadata": {},
   "outputs": [
    {
     "name": "stdout",
     "output_type": "stream",
     "text": [
      "Cantiedad de nulos en rooms (en data_rooms_imput) =  10\n"
     ]
    },
    {
     "name": "stderr",
     "output_type": "stream",
     "text": [
      "C:\\Users\\gtoso\\AppData\\Local\\Temp\\ipykernel_2928\\3435508184.py:2: SettingWithCopyWarning: \n",
      "A value is trying to be set on a copy of a slice from a DataFrame.\n",
      "Try using .loc[row_indexer,col_indexer] = value instead\n",
      "\n",
      "See the caveats in the documentation: https://pandas.pydata.org/pandas-docs/stable/user_guide/indexing.html#returning-a-view-versus-a-copy\n",
      "  data_rooms_imput['rooms'] = data_rooms_imput.groupby([\"property_type\" , \"state_name\" , \"surface_category\"], sort=False)[\"rooms\"].apply(lambda x: x.fillna(x.mean()))\n"
     ]
    }
   ],
   "source": [
    "# Se realiza un groupby para obtener la media de rooms en funcion de property_type , state_name y surface_category, imputandolo en los nulos de rooms del dataframe data_rooms_imput\n",
    "data_rooms_imput['rooms'] = data_rooms_imput.groupby([\"property_type\" , \"state_name\" , \"surface_category\"], sort=False)[\"rooms\"].apply(lambda x: x.fillna(x.mean()))\n",
    "print(\"Cantiedad de nulos en rooms (en data_rooms_imput) = \", data_surfaces_imput.surface_covered_in_m2.isnull().sum())"
   ]
  },
  {
   "cell_type": "markdown",
   "id": "b1864eb9",
   "metadata": {},
   "source": [
    "### Imputacion en data de rooms y surface_covered_in_m2 provenientes de los dataframe data_rooms_imput y data_surfaces_imput"
   ]
  },
  {
   "cell_type": "code",
   "execution_count": 86,
   "id": "2818b25e",
   "metadata": {},
   "outputs": [
    {
     "data": {
      "text/plain": [
       "operation                     0\n",
       "property_type                 0\n",
       "country_name                  0\n",
       "state_name                    0\n",
       "city_name                  4422\n",
       "neighborhood_name         75909\n",
       "geonames_id               18527\n",
       "lat                       48639\n",
       "lon                       48639\n",
       "price_aprox_usd           17464\n",
       "surface_total_in_m2        3693\n",
       "surface_covered_in_m2      3693\n",
       "price_usd_per_m2          22564\n",
       "floor                    113622\n",
       "rooms                      3753\n",
       "expenses                 101752\n",
       "description                   2\n",
       "title                         0\n",
       "dtype: int64"
      ]
     },
     "execution_count": 86,
     "metadata": {},
     "output_type": "execute_result"
    }
   ],
   "source": [
    "# Imputacion en data de rooms y surface_covered_in_m2 de los dataframe data_rooms_imput y data_surfaces_imput\n",
    "data.loc[data_rooms_imput.index,\"rooms\"] = data_rooms_imput.loc[data_rooms_imput.index,\"rooms\"]\n",
    "data.loc[data_surfaces_imput.index,[\"surface_covered_in_m2\",\"surface_total_in_m2\"]] = data_surfaces_imput.loc[data_surfaces_imput.index,\"surface_covered_in_m2\"]\n",
    "data.isnull().sum()"
   ]
  },
  {
   "cell_type": "markdown",
   "id": "5f8bd4a5",
   "metadata": {},
   "source": [
    "## Obtencion de latitud, longitud por media condicionada"
   ]
  },
  {
   "cell_type": "markdown",
   "id": "53da66fd",
   "metadata": {},
   "source": [
    "##### *Se van a realizar tres groupby por cada variable, ya que hay instancias en las que la variable neighborhood_name y otras en las que city_name tambien es nula. Realizandolo de esta forma se obtiene la maxima precision posible* "
   ]
  },
  {
   "cell_type": "code",
   "execution_count": 87,
   "id": "1977aab3",
   "metadata": {},
   "outputs": [],
   "source": [
    "# Se obtienen tres dataframe con las instancias con las que se van a realizar los groupby\n",
    "data_city_neig_groupby = data[ data.city_name.notnull() & data.neighborhood_name.notnull()]\n",
    "data_city_groupby = data[ data.city_name.notnull() & data.neighborhood_name.isnull()]\n",
    "data_groupby = data[data.city_name.isnull() & data.neighborhood_name.isnull()]"
   ]
  },
  {
   "cell_type": "code",
   "execution_count": 88,
   "id": "3936c370",
   "metadata": {},
   "outputs": [
    {
     "name": "stderr",
     "output_type": "stream",
     "text": [
      "C:\\Users\\gtoso\\AppData\\Local\\Temp\\ipykernel_2928\\3561664568.py:3: SettingWithCopyWarning: \n",
      "A value is trying to be set on a copy of a slice from a DataFrame.\n",
      "Try using .loc[row_indexer,col_indexer] = value instead\n",
      "\n",
      "See the caveats in the documentation: https://pandas.pydata.org/pandas-docs/stable/user_guide/indexing.html#returning-a-view-versus-a-copy\n",
      "  data_city_neig_groupby['lat'] = data_city_neig_groupby.groupby([\"state_name\" , \"city_name\" , \"neighborhood_name\"], sort=False)[\"lat\"].apply(lambda x: x.fillna(x.mean()))\n",
      "C:\\Users\\gtoso\\AppData\\Local\\Temp\\ipykernel_2928\\3561664568.py:4: SettingWithCopyWarning: \n",
      "A value is trying to be set on a copy of a slice from a DataFrame.\n",
      "Try using .loc[row_indexer,col_indexer] = value instead\n",
      "\n",
      "See the caveats in the documentation: https://pandas.pydata.org/pandas-docs/stable/user_guide/indexing.html#returning-a-view-versus-a-copy\n",
      "  data_city_groupby['lat'] = data_city_groupby.groupby([\"state_name\" , \"city_name\"], sort=False)[\"lat\"].apply(lambda x: x.fillna(x.mean()))\n",
      "C:\\Users\\gtoso\\AppData\\Local\\Temp\\ipykernel_2928\\3561664568.py:5: SettingWithCopyWarning: \n",
      "A value is trying to be set on a copy of a slice from a DataFrame.\n",
      "Try using .loc[row_indexer,col_indexer] = value instead\n",
      "\n",
      "See the caveats in the documentation: https://pandas.pydata.org/pandas-docs/stable/user_guide/indexing.html#returning-a-view-versus-a-copy\n",
      "  data_groupby['lat'] = data_groupby.groupby([\"state_name\"], sort=False)[\"lat\"].apply(lambda x: x.fillna(x.mean()))\n",
      "C:\\Users\\gtoso\\AppData\\Local\\Temp\\ipykernel_2928\\3561664568.py:9: SettingWithCopyWarning: \n",
      "A value is trying to be set on a copy of a slice from a DataFrame.\n",
      "Try using .loc[row_indexer,col_indexer] = value instead\n",
      "\n",
      "See the caveats in the documentation: https://pandas.pydata.org/pandas-docs/stable/user_guide/indexing.html#returning-a-view-versus-a-copy\n",
      "  data_city_neig_groupby['lon'] = data_city_neig_groupby.groupby([\"state_name\" , \"city_name\" , \"neighborhood_name\"], sort=False)[\"lon\"].apply(lambda x: x.fillna(x.mean()))\n",
      "C:\\Users\\gtoso\\AppData\\Local\\Temp\\ipykernel_2928\\3561664568.py:10: SettingWithCopyWarning: \n",
      "A value is trying to be set on a copy of a slice from a DataFrame.\n",
      "Try using .loc[row_indexer,col_indexer] = value instead\n",
      "\n",
      "See the caveats in the documentation: https://pandas.pydata.org/pandas-docs/stable/user_guide/indexing.html#returning-a-view-versus-a-copy\n",
      "  data_city_groupby['lon'] = data_city_groupby.groupby([\"state_name\" , \"city_name\"], sort=False)[\"lon\"].apply(lambda x: x.fillna(x.mean()))\n",
      "C:\\Users\\gtoso\\AppData\\Local\\Temp\\ipykernel_2928\\3561664568.py:11: SettingWithCopyWarning: \n",
      "A value is trying to be set on a copy of a slice from a DataFrame.\n",
      "Try using .loc[row_indexer,col_indexer] = value instead\n",
      "\n",
      "See the caveats in the documentation: https://pandas.pydata.org/pandas-docs/stable/user_guide/indexing.html#returning-a-view-versus-a-copy\n",
      "  data_groupby['lon'] = data_groupby.groupby([\"state_name\"], sort=False)[\"lon\"].apply(lambda x: x.fillna(x.mean()))\n"
     ]
    }
   ],
   "source": [
    "# Se realizan los tres groupby para obtener la media lat en funcion de state_name , city_name y neighborhood_name (segun sea el caso)...\n",
    "# ... imputandolo en los nulos de lat de los dataframes data_city_neig_groupby, data_city_groupby, data_groupby, segun corresponda \n",
    "data_city_neig_groupby['lat'] = data_city_neig_groupby.groupby([\"state_name\" , \"city_name\" , \"neighborhood_name\"], sort=False)[\"lat\"].apply(lambda x: x.fillna(x.mean()))\n",
    "data_city_groupby['lat'] = data_city_groupby.groupby([\"state_name\" , \"city_name\"], sort=False)[\"lat\"].apply(lambda x: x.fillna(x.mean()))\n",
    "data_groupby['lat'] = data_groupby.groupby([\"state_name\"], sort=False)[\"lat\"].apply(lambda x: x.fillna(x.mean()))\n",
    "\n",
    "# Se realizan los tres groupby para obtener la media lon en funcion de state_name , city_name y neighborhood_name (segun sea el caso)...\n",
    "# ... imputandolo en los nulos de lon de los dataframes data_city_neig_groupby, data_city_groupby, data_groupby, segun corresponda \n",
    "data_city_neig_groupby['lon'] = data_city_neig_groupby.groupby([\"state_name\" , \"city_name\" , \"neighborhood_name\"], sort=False)[\"lon\"].apply(lambda x: x.fillna(x.mean()))\n",
    "data_city_groupby['lon'] = data_city_groupby.groupby([\"state_name\" , \"city_name\"], sort=False)[\"lon\"].apply(lambda x: x.fillna(x.mean()))\n",
    "data_groupby['lon'] = data_groupby.groupby([\"state_name\"], sort=False)[\"lon\"].apply(lambda x: x.fillna(x.mean()))"
   ]
  },
  {
   "cell_type": "code",
   "execution_count": 89,
   "id": "6265759c",
   "metadata": {},
   "outputs": [],
   "source": [
    "# Imputacion en data de lat de los dataframe data_city_neig_groupby, data_city_groupby, data_groupby\n",
    "data.loc[data_city_neig_groupby.index,\"lat\"] = data_city_neig_groupby.loc[data_city_neig_groupby.index,\"lat\"]\n",
    "data.loc[data_city_groupby.index,\"lat\"] = data_city_groupby.loc[data_city_groupby.index,\"lat\"]\n",
    "data.loc[data_groupby.index,\"lat\"] = data_groupby.loc[data_groupby.index,\"lat\"]\n",
    "\n",
    "# Imputacion en data de lon de los dataframe data_city_neig_groupby, data_city_groupby, data_groupby\n",
    "data.loc[data_city_neig_groupby.index,\"lon\"] = data_city_neig_groupby.loc[data_city_neig_groupby.index,\"lon\"]\n",
    "data.loc[data_city_groupby.index,\"lon\"] = data_city_groupby.loc[data_city_groupby.index,\"lon\"]\n",
    "data.loc[data_groupby.index,\"lon\"] = data_groupby.loc[data_groupby.index,\"lon\"]"
   ]
  },
  {
   "cell_type": "markdown",
   "id": "b528e179",
   "metadata": {},
   "source": [
    "# Deteccion de outliers"
   ]
  },
  {
   "cell_type": "markdown",
   "id": "8d834f5e",
   "metadata": {},
   "source": [
    "Se usa el metodo del rango intercuartil\n",
    "\n",
    "outlier = (RI * 1,5 -Q1) Y (RI *1,5 +Q3)"
   ]
  },
  {
   "cell_type": "markdown",
   "id": "21660bd4",
   "metadata": {},
   "source": [
    "## Deteccion de outliers en surface_covered_in_m2 y surface_total_in_m2"
   ]
  }
 ],
 "metadata": {
  "kernelspec": {
   "display_name": "Python 3 (ipykernel)",
   "language": "python",
   "name": "python3"
  },
  "language_info": {
   "codemirror_mode": {
    "name": "ipython",
    "version": 3
   },
   "file_extension": ".py",
   "mimetype": "text/x-python",
   "name": "python",
   "nbconvert_exporter": "python",
   "pygments_lexer": "ipython3",
   "version": "3.8.13"
  }
 },
 "nbformat": 4,
 "nbformat_minor": 5
}
