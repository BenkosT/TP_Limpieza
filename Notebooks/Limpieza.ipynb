{
 "cells": [
  {
   "cell_type": "markdown",
   "id": "df413bb9",
   "metadata": {},
   "source": [
    "# **Estandarizacion de nombres de mascaras, dataset y demas:**\n",
    "- Al aplicarle una mascara a un dataset seria conveniente primero definir la mascara y en otra linea de codigo aplicarsela al dataset. Esto para que podamos ver bien que le estamos aplicando y que condiciones tiene esa mascara.\n",
    "- Ojo con utilizar mascaras o alguna otra variable, dataframe y demas, definida mucho mas arriba. No vaya a ser que le cambiemos el nombre por x motivo y nos ollvidamos que mas abajo la usamos para otra cosa y se rompa todo\n",
    "- Los nombres para las cosas que sean en ingles, separando las palabras con \" _ \" y en lo posible que se pueda intuir mediante el nombre a que se refiere\n",
    "- Como practica totalmente arbitraria intentar que los nombres no tengan mas de 5 palabras. ej: \" mask_rooms_zeros \" , \" mask_rooms_surf_zeros \" y asi\n",
    "- Si le llamamos \" mask \" a algo, que realmente lo sea. No que sea ya una mascara aplicada a un dataset. Eso es el dataset data filtrado por la mascara\n",
    "- A estos nuevos dataset llamemosle igual que la mascara que le aplicamos solo que reemplazamos el nombre mask por data. ej:  \" mask_rooms_zeros \"=  \" data_rooms_zeros \";                   \" data_rooms_surf_zeros \" = \" data_rooms_surf_zeros \"\n",
    "- Cuando creemos un nuevo dataset, un array, una lista, una serie, mascara o lo que sea poner primero el nombre del tipo de objeto y despues lo que hace, para saber lo que es eso\n",
    "- Cuando hacemos una mascara para ver si algo es nulo o cero ponemos solo \" null \". Es para no alargar los nombres\n",
    "\n"
   ]
  },
  {
   "cell_type": "markdown",
   "id": "769bae8d",
   "metadata": {},
   "source": [
    "## Hasta aca realizamos\n",
    "- Transformacion de todos los ceros a nulos\n",
    "- Limpieza de filas nulas\n",
    "- Eliminacion de columnas sin informacion relevante y con informacion redundante\n",
    "- Eliminacion de state_name que representen menos del 1% del total de instancias\n",
    "- Correccion en las variables surface_covered_in_m2 y surface_total_in_m2 en los casos que la primera era mayor que la segunda no siendo posible esto\n",
    "- Imputacion de nulos en la columna place_name (si hacemos el paso del split de place_with_parent_names ese paso hay que eliminarlo)\n",
    "- imputacion de datos de price_aprox_usd, surface_total_in_m2 y rooms mediante expresiones regulares de las columnas description y title\n",
    "- Imputacion de datos en surface_covered_in_m2 y surface_total_in_m2 cuando uno era nulo pero el otro no\n",
    "- Imputacion de las variables surface_total_in_m2, price_aprox_usd y price_usd_per_m2 mediante deduccion de otras variables conocidas\n",
    "- Definir si se desechan las instancias que representen menos del 1% en funcion del state_name. Este es un problema de granulacion, ya que con la actual nos quedamos con muy pocas instancias para el modelo, pero aumentando la granulacion (haciendo una agregacion de todas estas en una nueva categoria, ej: resto del pais), no desechamos las instancias y solo perdemos granularidad pero no toda la informacion.\n",
    "- Corregir el patron con el que se busca el precio, para encontrar valores en pesos tambien, haciendo dos grupos, de esta manera el que matchee el grupo dolar se imputa directamente y el que matchee el grupo pesos imputarlo haciendo una conversion del valor. Por facilidad de codigo se imputa el primer grupo que matchea. **GERA , BENKOS Y ERICK**\n",
    "- Sofisticar los patrones de las expresiones regulares para encontrar mas valores, especialmente en superficie. **GERA , BENKOS Y ERICK**\n",
    "- La columna operation y country_name contienen una unica variable, en el caso de operation es sell y en el caso de country_name es argentina. No tiene sentido mantener las columnas siendo que no aportan informacion. Definir su tratamiento **PREGUNTAR A FABRI**\n",
    "- Realizar una imputacion con media condicionada en rooms por superficie, y lugar. **GERA , BENKOS y ERICK** (falta la imputacion que no se bien como hacerla)\n",
    "- Realizar una imputacion por media condicionada en superficie por media condicionada en rooms y lugar **GERA , BENKOS y ERICK** (falta la imputacion que no se bien como hacerla)\n",
    "- Revisar si no hay otra forma de determinar el price y el price por metro cuadrado y si no lo hay tirar estas instancias que sean nulas **GERA , BENKOS y ERICK**\n",
    "- Darle un tratamiento a expensas y floor. En propiedades tipo casas esta bien que sean nulas pero en departamentos no. Igualmente hay informacion ahi, quizas no sea bueno tirarla. *Como propuesta podriamos buscarlo con expresiones regulares en description y title ya que no tenemos de donde mas sacarla* *Tambien se podria ver la correlacion entre las expensas y el lugar y la superficie y si se encuentra una correlacion imputarlo por media condicionada por ejemplo **GERA , BENKOS y ERICK** **PREGUNTAR A FABRI**\n",
    "## Falta realizar\n",
    "- Darle un tratamiento a lat y lon y geonames id **VIERNES GERA**\n",
    "- Creacion de nuevas columnas estilo **Cercania a un espacio verde** **Cercania a un subte** **Mapa de delito** **GERA, BENKOS y ERICK**\n",
    "- deteccion de outliers\n",
    "- Desechar las instancias que son outliers y que tienen nulos que no deberian tener\n",
    "- EDA:  y representacion de datos y medidas estadisticas **PABLO Y ALE**\n",
    "- Presentacion, formato revision de integridad de informacion **PABLO Y ALE**"
   ]
  },
  {
   "cell_type": "markdown",
   "id": "ec86483b",
   "metadata": {},
   "source": [
    "# Importacion de librerias utilizadas"
   ]
  },
  {
   "cell_type": "code",
   "execution_count": 1,
   "id": "f0da4a8e",
   "metadata": {},
   "outputs": [],
   "source": [
    "import pandas as pd\n",
    "import numpy as np\n",
    "import re\n",
    "import plotly.express as px\n",
    "import seaborn as sns "
   ]
  },
  {
   "cell_type": "markdown",
   "id": "1b5a5f0e",
   "metadata": {},
   "source": [
    "# Carga de la data de Properatti como un DataFrame de Pandas"
   ]
  },
  {
   "cell_type": "code",
   "execution_count": 2,
   "id": "207db6ff",
   "metadata": {},
   "outputs": [
    {
     "data": {
      "text/html": [
       "<div>\n",
       "<style scoped>\n",
       "    .dataframe tbody tr th:only-of-type {\n",
       "        vertical-align: middle;\n",
       "    }\n",
       "\n",
       "    .dataframe tbody tr th {\n",
       "        vertical-align: top;\n",
       "    }\n",
       "\n",
       "    .dataframe thead th {\n",
       "        text-align: right;\n",
       "    }\n",
       "</style>\n",
       "<table border=\"1\" class=\"dataframe\">\n",
       "  <thead>\n",
       "    <tr style=\"text-align: right;\">\n",
       "      <th></th>\n",
       "      <th>operation</th>\n",
       "      <th>property_type</th>\n",
       "      <th>place_name</th>\n",
       "      <th>place_with_parent_names</th>\n",
       "      <th>country_name</th>\n",
       "      <th>state_name</th>\n",
       "      <th>geonames_id</th>\n",
       "      <th>lat-lon</th>\n",
       "      <th>lat</th>\n",
       "      <th>lon</th>\n",
       "      <th>...</th>\n",
       "      <th>surface_covered_in_m2</th>\n",
       "      <th>price_usd_per_m2</th>\n",
       "      <th>price_per_m2</th>\n",
       "      <th>floor</th>\n",
       "      <th>rooms</th>\n",
       "      <th>expenses</th>\n",
       "      <th>properati_url</th>\n",
       "      <th>description</th>\n",
       "      <th>title</th>\n",
       "      <th>image_thumbnail</th>\n",
       "    </tr>\n",
       "  </thead>\n",
       "  <tbody>\n",
       "    <tr>\n",
       "      <th>0</th>\n",
       "      <td>sell</td>\n",
       "      <td>PH</td>\n",
       "      <td>Mataderos</td>\n",
       "      <td>|Argentina|Capital Federal|Mataderos|</td>\n",
       "      <td>Argentina</td>\n",
       "      <td>Capital Federal</td>\n",
       "      <td>3430787.0</td>\n",
       "      <td>-34.6618237,-58.5088387</td>\n",
       "      <td>-34.661824</td>\n",
       "      <td>-58.508839</td>\n",
       "      <td>...</td>\n",
       "      <td>40.0</td>\n",
       "      <td>1127.272727</td>\n",
       "      <td>1550.000000</td>\n",
       "      <td>NaN</td>\n",
       "      <td>NaN</td>\n",
       "      <td>NaN</td>\n",
       "      <td>http://www.properati.com.ar/15bo8_venta_ph_mat...</td>\n",
       "      <td>2 AMBIENTES TIPO CASA PLANTA BAJA POR PASILLO,...</td>\n",
       "      <td>2 AMB TIPO CASA SIN EXPENSAS EN PB</td>\n",
       "      <td>https://thumbs4.properati.com/8/BluUYiHJLhgIIK...</td>\n",
       "    </tr>\n",
       "    <tr>\n",
       "      <th>1</th>\n",
       "      <td>sell</td>\n",
       "      <td>apartment</td>\n",
       "      <td>La Plata</td>\n",
       "      <td>|Argentina|Bs.As. G.B.A. Zona Sur|La Plata|</td>\n",
       "      <td>Argentina</td>\n",
       "      <td>Bs.As. G.B.A. Zona Sur</td>\n",
       "      <td>3432039.0</td>\n",
       "      <td>-34.9038831,-57.9643295</td>\n",
       "      <td>-34.903883</td>\n",
       "      <td>-57.964330</td>\n",
       "      <td>...</td>\n",
       "      <td>NaN</td>\n",
       "      <td>NaN</td>\n",
       "      <td>NaN</td>\n",
       "      <td>NaN</td>\n",
       "      <td>NaN</td>\n",
       "      <td>NaN</td>\n",
       "      <td>http://www.properati.com.ar/15bob_venta_depart...</td>\n",
       "      <td>Venta de departamento en décimo piso al frente...</td>\n",
       "      <td>VENTA Depto 2 dorm. a estrenar 7 e/ 36 y 37   ...</td>\n",
       "      <td>https://thumbs4.properati.com/7/ikpVBu2ztHA7jv...</td>\n",
       "    </tr>\n",
       "    <tr>\n",
       "      <th>2</th>\n",
       "      <td>sell</td>\n",
       "      <td>apartment</td>\n",
       "      <td>Mataderos</td>\n",
       "      <td>|Argentina|Capital Federal|Mataderos|</td>\n",
       "      <td>Argentina</td>\n",
       "      <td>Capital Federal</td>\n",
       "      <td>3430787.0</td>\n",
       "      <td>-34.6522615,-58.5229825</td>\n",
       "      <td>-34.652262</td>\n",
       "      <td>-58.522982</td>\n",
       "      <td>...</td>\n",
       "      <td>55.0</td>\n",
       "      <td>1309.090909</td>\n",
       "      <td>1309.090909</td>\n",
       "      <td>NaN</td>\n",
       "      <td>NaN</td>\n",
       "      <td>NaN</td>\n",
       "      <td>http://www.properati.com.ar/15bod_venta_depart...</td>\n",
       "      <td>2 AMBIENTES 3ER PISO LATERAL LIVING COMEDOR AM...</td>\n",
       "      <td>2 AMB 3ER PISO CON ASCENSOR APTO CREDITO</td>\n",
       "      <td>https://thumbs4.properati.com/5/SXKr34F_IwG3W_...</td>\n",
       "    </tr>\n",
       "  </tbody>\n",
       "</table>\n",
       "<p>3 rows × 25 columns</p>\n",
       "</div>"
      ],
      "text/plain": [
       "  operation property_type place_name  \\\n",
       "0      sell            PH  Mataderos   \n",
       "1      sell     apartment   La Plata   \n",
       "2      sell     apartment  Mataderos   \n",
       "\n",
       "                       place_with_parent_names country_name  \\\n",
       "0        |Argentina|Capital Federal|Mataderos|    Argentina   \n",
       "1  |Argentina|Bs.As. G.B.A. Zona Sur|La Plata|    Argentina   \n",
       "2        |Argentina|Capital Federal|Mataderos|    Argentina   \n",
       "\n",
       "               state_name  geonames_id                  lat-lon        lat  \\\n",
       "0         Capital Federal    3430787.0  -34.6618237,-58.5088387 -34.661824   \n",
       "1  Bs.As. G.B.A. Zona Sur    3432039.0  -34.9038831,-57.9643295 -34.903883   \n",
       "2         Capital Federal    3430787.0  -34.6522615,-58.5229825 -34.652262   \n",
       "\n",
       "         lon  ...  surface_covered_in_m2 price_usd_per_m2  price_per_m2  \\\n",
       "0 -58.508839  ...                   40.0      1127.272727   1550.000000   \n",
       "1 -57.964330  ...                    NaN              NaN           NaN   \n",
       "2 -58.522982  ...                   55.0      1309.090909   1309.090909   \n",
       "\n",
       "   floor  rooms  expenses                                      properati_url  \\\n",
       "0    NaN    NaN       NaN  http://www.properati.com.ar/15bo8_venta_ph_mat...   \n",
       "1    NaN    NaN       NaN  http://www.properati.com.ar/15bob_venta_depart...   \n",
       "2    NaN    NaN       NaN  http://www.properati.com.ar/15bod_venta_depart...   \n",
       "\n",
       "                                         description  \\\n",
       "0  2 AMBIENTES TIPO CASA PLANTA BAJA POR PASILLO,...   \n",
       "1  Venta de departamento en décimo piso al frente...   \n",
       "2  2 AMBIENTES 3ER PISO LATERAL LIVING COMEDOR AM...   \n",
       "\n",
       "                                               title  \\\n",
       "0                 2 AMB TIPO CASA SIN EXPENSAS EN PB   \n",
       "1  VENTA Depto 2 dorm. a estrenar 7 e/ 36 y 37   ...   \n",
       "2           2 AMB 3ER PISO CON ASCENSOR APTO CREDITO   \n",
       "\n",
       "                                     image_thumbnail  \n",
       "0  https://thumbs4.properati.com/8/BluUYiHJLhgIIK...  \n",
       "1  https://thumbs4.properati.com/7/ikpVBu2ztHA7jv...  \n",
       "2  https://thumbs4.properati.com/5/SXKr34F_IwG3W_...  \n",
       "\n",
       "[3 rows x 25 columns]"
      ]
     },
     "execution_count": 2,
     "metadata": {},
     "output_type": "execute_result"
    }
   ],
   "source": [
    "data_location = \"../Data/properatti.csv\"\n",
    "\n",
    "data = pd.read_csv(data_location, index_col=0)\n",
    "data.head(3)"
   ]
  },
  {
   "cell_type": "markdown",
   "id": "f76e4b0c",
   "metadata": {},
   "source": [
    "# Analis preliminar del DataSet"
   ]
  },
  {
   "cell_type": "code",
   "execution_count": 3,
   "id": "d229bba6",
   "metadata": {},
   "outputs": [
    {
     "data": {
      "text/plain": [
       "operation                      object\n",
       "property_type                  object\n",
       "place_name                     object\n",
       "place_with_parent_names        object\n",
       "country_name                   object\n",
       "state_name                     object\n",
       "geonames_id                   float64\n",
       "lat-lon                        object\n",
       "lat                           float64\n",
       "lon                           float64\n",
       "price                         float64\n",
       "currency                       object\n",
       "price_aprox_local_currency    float64\n",
       "price_aprox_usd               float64\n",
       "surface_total_in_m2           float64\n",
       "surface_covered_in_m2         float64\n",
       "price_usd_per_m2              float64\n",
       "price_per_m2                  float64\n",
       "floor                         float64\n",
       "rooms                         float64\n",
       "expenses                      float64\n",
       "properati_url                  object\n",
       "description                    object\n",
       "title                          object\n",
       "image_thumbnail                object\n",
       "dtype: object"
      ]
     },
     "execution_count": 3,
     "metadata": {},
     "output_type": "execute_result"
    }
   ],
   "source": [
    "# Se utoliza dtypes para saber que tipo de datos se almacenan en el dataset\n",
    "data.dtypes"
   ]
  },
  {
   "cell_type": "code",
   "execution_count": 4,
   "id": "1542fa54",
   "metadata": {},
   "outputs": [
    {
     "name": "stdout",
     "output_type": "stream",
     "text": [
      "operation                          0\n",
      "property_type                      0\n",
      "place_name                        23\n",
      "place_with_parent_names            0\n",
      "country_name                       0\n",
      "state_name                         0\n",
      "geonames_id                    18717\n",
      "lat-lon                        51550\n",
      "lat                            51550\n",
      "lon                            51550\n",
      "price                          20410\n",
      "currency                       20411\n",
      "price_aprox_local_currency     20410\n",
      "price_aprox_usd                20410\n",
      "surface_total_in_m2            39328\n",
      "surface_covered_in_m2          19907\n",
      "price_usd_per_m2               52603\n",
      "price_per_m2                   33562\n",
      "floor                         113321\n",
      "rooms                          73830\n",
      "expenses                      106958\n",
      "properati_url                      0\n",
      "description                        2\n",
      "title                              0\n",
      "image_thumbnail                 3112\n",
      "dtype: int64\n"
     ]
    }
   ],
   "source": [
    "# Se ven cuantos valores nulos tenemos por columna\n",
    "is_null_result = data.isnull().sum()\n",
    "print(is_null_result)"
   ]
  },
  {
   "cell_type": "code",
   "execution_count": 5,
   "id": "c6882880",
   "metadata": {},
   "outputs": [
    {
     "data": {
      "text/plain": [
       "operation                      0.000000\n",
       "property_type                  0.000000\n",
       "place_name                     0.018974\n",
       "place_with_parent_names        0.000000\n",
       "country_name                   0.000000\n",
       "state_name                     0.000000\n",
       "geonames_id                   15.440521\n",
       "lat-lon                       42.525986\n",
       "lat                           42.525986\n",
       "lon                           42.525986\n",
       "price                         16.837156\n",
       "currency                      16.837981\n",
       "price_aprox_local_currency    16.837156\n",
       "price_aprox_usd               16.837156\n",
       "surface_total_in_m2           32.443491\n",
       "surface_covered_in_m2         16.422208\n",
       "price_usd_per_m2              43.394654\n",
       "price_per_m2                  27.686850\n",
       "floor                         93.483749\n",
       "rooms                         60.905791\n",
       "expenses                      88.234615\n",
       "properati_url                  0.000000\n",
       "description                    0.001650\n",
       "title                          0.000000\n",
       "image_thumbnail                2.567233\n",
       "dtype: float64"
      ]
     },
     "execution_count": 5,
     "metadata": {},
     "output_type": "execute_result"
    }
   ],
   "source": [
    "# Se ve que porcentaje de nulos tiene cada columna\n",
    "percentage_null = 100*is_null_result/data.shape[0]\n",
    "percentage_null"
   ]
  },
  {
   "cell_type": "markdown",
   "id": "cc8e37d0",
   "metadata": {},
   "source": [
    "## Renombrado de la columna lat-lon"
   ]
  },
  {
   "cell_type": "code",
   "execution_count": 6,
   "id": "c8371a44",
   "metadata": {},
   "outputs": [],
   "source": [
    "# Se renombra la columna lat-lon para sortear inconvenientes\n",
    "data.rename(columns={'lat-lon': 'lat_lon'}, inplace=True)"
   ]
  },
  {
   "cell_type": "markdown",
   "id": "dbe06478",
   "metadata": {},
   "source": [
    "## Verificacion de instancias nulas"
   ]
  },
  {
   "cell_type": "code",
   "execution_count": 7,
   "id": "dedb8663",
   "metadata": {},
   "outputs": [
    {
     "name": "stdout",
     "output_type": "stream",
     "text": [
      "(121220, 25)\n",
      "(121220, 25)\n"
     ]
    }
   ],
   "source": [
    "# Se comprueban las instancias enteramente nulas y se las desecha \n",
    "data_clean_empty_row = data.dropna(axis = 0, how= 'all')\n",
    "print(data.shape)\n",
    "print(data_clean_empty_row.shape)\n",
    "#En este caso no hay ninguna fila con todos los valores nulos"
   ]
  },
  {
   "cell_type": "markdown",
   "id": "44b41c4d",
   "metadata": {},
   "source": [
    "### Reemplazo de valores iguales a cero por Nan"
   ]
  },
  {
   "cell_type": "markdown",
   "id": "4f6cf6c2",
   "metadata": {},
   "source": [
    "##### *Se adopta este criterio ya que no existen variables que puedan tomar el valor cero, por lo que se los interpreta como nulos*"
   ]
  },
  {
   "cell_type": "code",
   "execution_count": 8,
   "id": "55d71dcf",
   "metadata": {},
   "outputs": [
    {
     "data": {
      "text/plain": [
       "operation                     0\n",
       "property_type                 0\n",
       "place_name                    0\n",
       "place_with_parent_names       0\n",
       "country_name                  0\n",
       "state_name                    0\n",
       "geonames_id                   0\n",
       "lat_lon                       0\n",
       "lat                           0\n",
       "lon                           0\n",
       "price                         0\n",
       "currency                      0\n",
       "price_aprox_local_currency    0\n",
       "price_aprox_usd               0\n",
       "surface_total_in_m2           0\n",
       "surface_covered_in_m2         0\n",
       "price_usd_per_m2              0\n",
       "price_per_m2                  0\n",
       "floor                         0\n",
       "rooms                         0\n",
       "expenses                      0\n",
       "properati_url                 0\n",
       "description                   0\n",
       "title                         0\n",
       "image_thumbnail               0\n",
       "dtype: int64"
      ]
     },
     "execution_count": 8,
     "metadata": {},
     "output_type": "execute_result"
    }
   ],
   "source": [
    "# Se reemplazan los ceros por NaN\n",
    "data[data==0] = np.nan\n",
    "(data==0).sum()"
   ]
  },
  {
   "cell_type": "markdown",
   "id": "fb959987",
   "metadata": {},
   "source": [
    "# Tratamiento de columnas con informacion no util o con informacion redundante"
   ]
  },
  {
   "cell_type": "markdown",
   "id": "323df713",
   "metadata": {},
   "source": [
    "## Tratamiento de columnas *properati_url* y *image_thumbnail*"
   ]
  },
  {
   "cell_type": "markdown",
   "id": "a6a3b894",
   "metadata": {},
   "source": [
    "#### Se desechan las columnas *properati_url* y *image_thumbnail* ya que no aportan informacion util"
   ]
  },
  {
   "cell_type": "code",
   "execution_count": 9,
   "id": "323422d0",
   "metadata": {},
   "outputs": [
    {
     "name": "stdout",
     "output_type": "stream",
     "text": [
      "cantidad de columnas actuales= 23\n"
     ]
    }
   ],
   "source": [
    "# Se desechan las columnas properati_url y image_thumbnail de data\n",
    "data = data.drop(['properati_url', 'image_thumbnail'], axis=1)\n",
    "print(\"cantidad de columnas actuales=\",data.shape[1])"
   ]
  },
  {
   "cell_type": "markdown",
   "id": "60e3aa42",
   "metadata": {},
   "source": [
    "## Tratamiento de columnas *price* , *price_aprox_local_currency* y *price_aprox_usd* "
   ]
  },
  {
   "cell_type": "markdown",
   "id": "78a8151c",
   "metadata": {},
   "source": [
    "#### Como existe redundancia entre las columnas **price_aprox_usd**, **price** y **price_aprox_local_currency** se toma la decision de desechar  **price** y **price_aprox_local_currency**, pudiendo tambien descartar  **currency** ya que no aporta informacion adicional \n",
    "**Se asume igual fiabilidad de los datos en las tres variables**"
   ]
  },
  {
   "cell_type": "code",
   "execution_count": 10,
   "id": "51dac100",
   "metadata": {},
   "outputs": [
    {
     "name": "stdout",
     "output_type": "stream",
     "text": [
      "Cantidad de nulos en price=  20411\n",
      "cantidad de nulos en price_aprox_local_currency=  20411\n",
      "Cantida de nulos en price_aprox_usd=  20411\n",
      "Cantidad de nulos en la interseccion de las mascaras=  20411\n",
      "True\n"
     ]
    }
   ],
   "source": [
    "# Primero se corrobora que no exista mas informacion en las columnas que se van a desechar que en la que va a quedar\n",
    "\n",
    "# Se hacen tres mascaras para encontrar las instancias que tienen un valor nulo en esa columna\n",
    "mask_price_null = data.price.isnull()\n",
    "mask_price_aprox_local_currency_null = data.price_aprox_local_currency.isnull()\n",
    "mask_price_aprox_usd_null = data.price_aprox_usd.isnull()\n",
    "\n",
    "# Se hace una interseccion de las tres mascaras\n",
    "mask_prices_null = mask_price_null & mask_price_aprox_local_currency_null & mask_price_aprox_usd_null\n",
    "\n",
    "# Si las tres mascaras tienen cada una la misma cantidad de elementos que la interseccion significa que los nulos se encuentran en las mismas instancias\n",
    "print(\"Cantidad de nulos en price= \" , mask_price_null.sum())\n",
    "print(\"cantidad de nulos en price_aprox_local_currency= \" , mask_price_aprox_local_currency_null.sum())\n",
    "print(\"Cantida de nulos en price_aprox_usd= \" , mask_price_aprox_usd_null.sum())\n",
    "print(\"Cantidad de nulos en la interseccion de las mascaras= \" , mask_prices_null.sum())\n",
    "\n",
    "# Devuelve un True si la cantidad de nulos es la misma en todas las mascaras por lo que la interseccion es perfecta\n",
    "print(mask_price_null.sum()==mask_price_aprox_local_currency_null.sum()==mask_price_aprox_usd_null.sum()==mask_prices_null.sum())"
   ]
  },
  {
   "cell_type": "code",
   "execution_count": 11,
   "id": "c084814b",
   "metadata": {},
   "outputs": [
    {
     "name": "stdout",
     "output_type": "stream",
     "text": [
      "cantidad de columnas actuales=  20\n"
     ]
    }
   ],
   "source": [
    "# Como se cumple la condicion, se desechan las columnas price, price_aprox_local_currency y currency \n",
    "data = data.drop(['price', 'price_aprox_local_currency' , 'currency'], axis=1)\n",
    "print(\"cantidad de columnas actuales= \",data.shape[1])"
   ]
  },
  {
   "cell_type": "markdown",
   "id": "82ac6464",
   "metadata": {},
   "source": [
    "## Tratamiento de columnas *price_usd_per_m2* y *price_per_m2*"
   ]
  },
  {
   "cell_type": "markdown",
   "id": "ec426dfd",
   "metadata": {},
   "source": [
    "#### Como existe redundancia entre las columnas *price_per_m2* y *price_usd_per_m2* se toma la decision de desechar la columna price_per_m2\n",
    "**Asumimos igual fiabilidad de datos en ambas variables**"
   ]
  },
  {
   "cell_type": "code",
   "execution_count": 12,
   "id": "ec7dbf46",
   "metadata": {},
   "outputs": [
    {
     "name": "stdout",
     "output_type": "stream",
     "text": [
      "Cantidad de nulos en price_per_m2=  33562\n",
      "cantidad de nulos en price_usd_per_m2=  52603\n",
      "Cantidad de nulos en la interseccion de las mascaras=  28295\n",
      "False\n"
     ]
    }
   ],
   "source": [
    "# Primero se corrobora que no exista mas informacion en la columna que se va a desechar que en la que va a quedar\n",
    "\n",
    "# Se hacen dos mascaras para lencontrar las instancias que tienen un valor nulo en esa columna\n",
    "mask_price_per_m2_null = data.price_per_m2.isnull()\n",
    "mask_price_usd_per_m2_null = data.price_usd_per_m2.isnull()\n",
    "\n",
    "# Se hace una interseccion de las dos mascaras\n",
    "mask_prices_per_m2_null = mask_price_per_m2_null & mask_price_usd_per_m2_null \n",
    "\n",
    "# Si las tres mascaras tienen cada una la misma cantidad de elementos que la interseccion significa que los nulos se encuentran siempre en las mismas instancias\n",
    "print(\"Cantidad de nulos en price_per_m2= \" , mask_price_per_m2_null.sum())\n",
    "print(\"cantidad de nulos en price_usd_per_m2= \" , mask_price_usd_per_m2_null.sum())\n",
    "print(\"Cantidad de nulos en la interseccion de las mascaras= \" , mask_prices_per_m2_null.sum())\n",
    "\n",
    "# Devuelve un True si la cantidad de nulos es la misma en todas las mascaras por lo que la interseccion es perfecta\n",
    "print(mask_price_per_m2_null.sum()==mask_price_usd_per_m2_null.sum()==mask_prices_per_m2_null.sum())"
   ]
  },
  {
   "cell_type": "markdown",
   "id": "1c72f883",
   "metadata": {},
   "source": [
    "##### *Como hay mas informacion en una columna que en la otra, en las instancias en que price_usd_per_m2 es nulo pero no lo es price_per_m2, se imputa el valor haciendo una conversion de moneda*"
   ]
  },
  {
   "cell_type": "code",
   "execution_count": 13,
   "id": "46279aba",
   "metadata": {},
   "outputs": [],
   "source": [
    "# Se hace una mascara para ver cuando es nula la columna price_usd_per_m2 pero no lo es price_per_m2\n",
    "mask_prices_per_m2 = data.price_usd_per_m2.isnull() & data.price_per_m2.notnull()\n",
    "data_prices_per_m2 = data [mask_prices_per_m2]\n",
    "\n",
    "# Se define una variable que contenga el valor de conversion de pesos a dolar\n",
    "pesos = 1/200\n",
    "\n",
    "# Se imputa en price_usd_per_m2 el valor de price_per_m2 multiplicado por el valor de la conversion de pesos a dolar\n",
    "data.loc[data_prices_per_m2.index,\"price_usd_per_m2\"] = pesos *data.loc[data_prices_per_m2.index, \"price_per_m2\"]"
   ]
  },
  {
   "cell_type": "code",
   "execution_count": 14,
   "id": "e811c591",
   "metadata": {},
   "outputs": [
    {
     "name": "stdout",
     "output_type": "stream",
     "text": [
      "cantidad de columnas actuales=  19\n"
     ]
    }
   ],
   "source": [
    "# Se desecha la columna price_per_m2\n",
    "data = data.drop(['price_per_m2'], axis=1)\n",
    "print(\"cantidad de columnas actuales= \",data.shape[1])"
   ]
  },
  {
   "cell_type": "markdown",
   "id": "63cb7b59",
   "metadata": {},
   "source": [
    "## Tratamiento de columnas *lat-lon*, *lat* y *lon*"
   ]
  },
  {
   "cell_type": "markdown",
   "id": "17f1d98d",
   "metadata": {},
   "source": [
    "#### Como existe redundancia entre las columnas *lat-lon*, *lat* y *lon* se toma la decision de desechar la columna *lat-lon*\n",
    "**Asumimos igual fiabilidad de datos en las tres variables**"
   ]
  },
  {
   "cell_type": "code",
   "execution_count": 15,
   "id": "7a99b0d3",
   "metadata": {},
   "outputs": [
    {
     "name": "stdout",
     "output_type": "stream",
     "text": [
      "Cantidad de nulos en lat-lon=  51550\n",
      "cantidad de nulos en lat=  51550\n",
      "Cantida de nulos en lon=  51550\n",
      "Cantidad de nulos en la interseccion de las mascaras=  51550\n",
      "True\n"
     ]
    }
   ],
   "source": [
    "# Primero se corrobora que no exista mas informacion en la columna que se va a desechar que en lsa que se van a quedar\n",
    "\n",
    "# Se hacen tres mascaras para encontrar las instancias de latitud y longitud que contengan los nulos de las mismas\n",
    "mask_lat_lon_null = data.lat_lon.isnull()\n",
    "mask_lat_null = data.lat.isnull()\n",
    "mask_lon_null = data.lon.isnull()\n",
    "\n",
    "# Se hace una interseccion de las tres mascaras\n",
    "mask_inter_lat_lon_null = mask_lat_lon_null & mask_lat_null & mask_lon_null\n",
    "\n",
    "# Si las tres mascaras tienen cada una la misma cantidad de elementos que la interseccion significa que los nulos se encuentran siempre en las mismas instancias\n",
    "print(\"Cantidad de nulos en lat-lon= \" , mask_lat_lon_null.sum())\n",
    "print(\"cantidad de nulos en lat= \" , mask_lat_null.sum())\n",
    "print(\"Cantida de nulos en lon= \" , mask_lon_null.sum())\n",
    "print(\"Cantidad de nulos en la interseccion de las mascaras= \" , mask_inter_lat_lon_null.sum())\n",
    "\n",
    "# Devuelve un True si la cantidad de nulos es la misma en todas las mascaras por lo que la interseccion es perfecta\n",
    "print(mask_lat_lon_null.sum()==mask_lat_null.sum()==mask_lon_null.sum()==mask_inter_lat_lon_null.sum())"
   ]
  },
  {
   "cell_type": "code",
   "execution_count": 16,
   "id": "90ece70d",
   "metadata": {},
   "outputs": [
    {
     "name": "stdout",
     "output_type": "stream",
     "text": [
      "cantidad de columnas actuales=  18\n"
     ]
    }
   ],
   "source": [
    "# Como la condicion se cumple, se desecha la columna lat_lon\n",
    "data = data.drop(['lat_lon'], axis=1)\n",
    "print(\"cantidad de columnas actuales= \",data.shape[1])"
   ]
  },
  {
   "cell_type": "markdown",
   "id": "1df5470a",
   "metadata": {},
   "source": [
    "# Analisis de instancias en funcion del state_name"
   ]
  },
  {
   "cell_type": "code",
   "execution_count": 17,
   "id": "fd3503c9",
   "metadata": {},
   "outputs": [
    {
     "data": {
      "text/plain": [
       "array(['Capital Federal', 'Bs.As. G.B.A. Zona Sur',\n",
       "       'Buenos Aires Costa Atlántica', 'Entre Ríos',\n",
       "       'Bs.As. G.B.A. Zona Norte', 'Santa Fe', 'Córdoba',\n",
       "       'Bs.As. G.B.A. Zona Oeste', 'Misiones', 'Buenos Aires Interior',\n",
       "       'Salta', 'Neuquén', 'Río Negro', 'San Luis', 'Mendoza',\n",
       "       'Corrientes', 'Chubut', 'Tucumán', 'La Pampa', 'Chaco', 'San Juan',\n",
       "       'Santa Cruz', 'Tierra Del Fuego', 'Catamarca',\n",
       "       'Santiago Del Estero', 'Jujuy', 'La Rioja', 'Formosa'],\n",
       "      dtype=object)"
      ]
     },
     "execution_count": 17,
     "metadata": {},
     "output_type": "execute_result"
    }
   ],
   "source": [
    "# Se presentan todos los diferentes state_name que hay en el DataSet\n",
    "data.state_name.unique()"
   ]
  },
  {
   "cell_type": "code",
   "execution_count": 18,
   "id": "b9e827aa",
   "metadata": {},
   "outputs": [
    {
     "data": {
      "text/plain": [
       "Capital Federal                 32316\n",
       "Bs.As. G.B.A. Zona Norte        25560\n",
       "Bs.As. G.B.A. Zona Sur          13952\n",
       "Córdoba                         12069\n",
       "Santa Fe                        10172\n",
       "Buenos Aires Costa Atlántica    10006\n",
       "Bs.As. G.B.A. Zona Oeste         9322\n",
       "Buenos Aires Interior            2291\n",
       "Río Negro                         808\n",
       "Neuquén                           733\n",
       "Mendoza                           681\n",
       "Tucumán                           674\n",
       "Corrientes                        583\n",
       "Misiones                          464\n",
       "Entre Ríos                        369\n",
       "Salta                             278\n",
       "Chubut                            259\n",
       "San Luis                          252\n",
       "La Pampa                          157\n",
       "Formosa                            65\n",
       "Chaco                              57\n",
       "San Juan                           40\n",
       "Tierra Del Fuego                   31\n",
       "Catamarca                          27\n",
       "Jujuy                              26\n",
       "Santa Cruz                         20\n",
       "La Rioja                            4\n",
       "Santiago Del Estero                 4\n",
       "Name: state_name, dtype: int64"
      ]
     },
     "execution_count": 18,
     "metadata": {},
     "output_type": "execute_result"
    }
   ],
   "source": [
    "# Se presentan la cantidad de instancias que acumula cada state_name\n",
    "state_name_distribution = pd.value_counts(data.state_name)\n",
    "state_name_distribution"
   ]
  },
  {
   "cell_type": "code",
   "execution_count": 19,
   "id": "1cc51c39",
   "metadata": {},
   "outputs": [
    {
     "data": {
      "text/plain": [
       "Capital Federal                 26.658967\n",
       "Bs.As. G.B.A. Zona Norte        21.085629\n",
       "Bs.As. G.B.A. Zona Sur          11.509652\n",
       "Córdoba                          9.956278\n",
       "Santa Fe                         8.391355\n",
       "Buenos Aires Costa Atlántica     8.254413\n",
       "Bs.As. G.B.A. Zona Oeste         7.690150\n",
       "Buenos Aires Interior            1.889952\n",
       "Río Negro                        0.666557\n",
       "Neuquén                          0.604686\n",
       "Mendoza                          0.561788\n",
       "Tucumán                          0.556014\n",
       "Corrientes                       0.480944\n",
       "Misiones                         0.382775\n",
       "Entre Ríos                       0.304405\n",
       "Salta                            0.229335\n",
       "Chubut                           0.213661\n",
       "San Luis                         0.207886\n",
       "La Pampa                         0.129517\n",
       "Formosa                          0.053622\n",
       "Chaco                            0.047022\n",
       "San Juan                         0.032998\n",
       "Tierra Del Fuego                 0.025573\n",
       "Catamarca                        0.022274\n",
       "Jujuy                            0.021449\n",
       "Santa Cruz                       0.016499\n",
       "La Rioja                         0.003300\n",
       "Santiago Del Estero              0.003300\n",
       "Name: state_name, dtype: float64"
      ]
     },
     "execution_count": 19,
     "metadata": {},
     "output_type": "execute_result"
    }
   ],
   "source": [
    "# Se presentan los porcentajes de la distribucion de los datos por state_name\n",
    "total_data = data.shape[0]\n",
    "percentage_state_name = 100*state_name_distribution/total_data\n",
    "percentage_state_name"
   ]
  },
  {
   "cell_type": "markdown",
   "id": "131289a6",
   "metadata": {},
   "source": [
    "### Se toma la decision de desechar las instancias correspondientes a los *state_name* que representan < 1% del total de instancias."
   ]
  },
  {
   "cell_type": "markdown",
   "id": "5d9b71e8",
   "metadata": {},
   "source": [
    "#### **Tomamos esta decision ya que consideramos que en estos state_names no contamos con las instancias suficientes como para realizar un analisis fiable**"
   ]
  },
  {
   "cell_type": "code",
   "execution_count": 20,
   "id": "9c4f3fef",
   "metadata": {},
   "outputs": [
    {
     "name": "stdout",
     "output_type": "stream",
     "text": [
      "Se desecha el  4.56% del total de los datos\n"
     ]
    },
    {
     "data": {
      "text/plain": [
       "Capital Federal                 26.66\n",
       "Bs.As. G.B.A. Zona Norte        21.09\n",
       "Bs.As. G.B.A. Zona Sur          11.51\n",
       "Córdoba                          9.96\n",
       "Santa Fe                         8.39\n",
       "Buenos Aires Costa Atlántica     8.25\n",
       "Bs.As. G.B.A. Zona Oeste         7.69\n",
       "Buenos Aires Interior            1.89\n",
       "Name: state_name, dtype: float64"
      ]
     },
     "execution_count": 20,
     "metadata": {},
     "output_type": "execute_result"
    }
   ],
   "source": [
    "# Se le aplica una mascara a la serie percentage_state_name con la condicion de que el state_name sea mayor a 1%\n",
    "mask_1_percent = percentage_state_name > 1\n",
    "series_1_percent = percentage_state_name [mask_1_percent]\n",
    "print(f'Se desecha el  {round(100 - series_1_percent.sum(), 2)}% del total de los datos')\n",
    "round(series_1_percent, 2)"
   ]
  },
  {
   "cell_type": "code",
   "execution_count": 21,
   "id": "995538df",
   "metadata": {},
   "outputs": [],
   "source": [
    "# Se descartan las instancias en las que su state_name no este dentro del indice de la serie series_1_percent\n",
    "data = data[data.state_name.isin(series_1_percent.index)]"
   ]
  },
  {
   "cell_type": "markdown",
   "id": "7e9f02c7",
   "metadata": {},
   "source": [
    "## Desagregacion de la columna place_with_parent_names"
   ]
  },
  {
   "cell_type": "markdown",
   "id": "3933bf91",
   "metadata": {},
   "source": [
    "**Consideracion:** *Capital federal esta considerado como state_name, por lo que en city_name iran los barrios de la ciudad*"
   ]
  },
  {
   "cell_type": "markdown",
   "id": "97a14611",
   "metadata": {},
   "source": [
    "##### **Para realizar esto se asume igual fiabilidad en los datos de las columnas place_name, country_name, state_name y place_with_parent_names**"
   ]
  },
  {
   "cell_type": "code",
   "execution_count": 22,
   "id": "584ae3e1",
   "metadata": {},
   "outputs": [
    {
     "data": {
      "text/html": [
       "<div>\n",
       "<style scoped>\n",
       "    .dataframe tbody tr th:only-of-type {\n",
       "        vertical-align: middle;\n",
       "    }\n",
       "\n",
       "    .dataframe tbody tr th {\n",
       "        vertical-align: top;\n",
       "    }\n",
       "\n",
       "    .dataframe thead th {\n",
       "        text-align: right;\n",
       "    }\n",
       "</style>\n",
       "<table border=\"1\" class=\"dataframe\">\n",
       "  <thead>\n",
       "    <tr style=\"text-align: right;\">\n",
       "      <th></th>\n",
       "      <th>0</th>\n",
       "      <th>1</th>\n",
       "      <th>2</th>\n",
       "      <th>3</th>\n",
       "      <th>4</th>\n",
       "      <th>5</th>\n",
       "      <th>6</th>\n",
       "    </tr>\n",
       "  </thead>\n",
       "  <tbody>\n",
       "    <tr>\n",
       "      <th>0</th>\n",
       "      <td></td>\n",
       "      <td>Argentina</td>\n",
       "      <td>Capital Federal</td>\n",
       "      <td>Mataderos</td>\n",
       "      <td></td>\n",
       "      <td>None</td>\n",
       "      <td>None</td>\n",
       "    </tr>\n",
       "    <tr>\n",
       "      <th>1</th>\n",
       "      <td></td>\n",
       "      <td>Argentina</td>\n",
       "      <td>Bs.As. G.B.A. Zona Sur</td>\n",
       "      <td>La Plata</td>\n",
       "      <td></td>\n",
       "      <td>None</td>\n",
       "      <td>None</td>\n",
       "    </tr>\n",
       "    <tr>\n",
       "      <th>2</th>\n",
       "      <td></td>\n",
       "      <td>Argentina</td>\n",
       "      <td>Capital Federal</td>\n",
       "      <td>Mataderos</td>\n",
       "      <td></td>\n",
       "      <td>None</td>\n",
       "      <td>None</td>\n",
       "    </tr>\n",
       "  </tbody>\n",
       "</table>\n",
       "</div>"
      ],
      "text/plain": [
       "  0          1                       2          3 4     5     6\n",
       "0    Argentina         Capital Federal  Mataderos    None  None\n",
       "1    Argentina  Bs.As. G.B.A. Zona Sur   La Plata    None  None\n",
       "2    Argentina         Capital Federal  Mataderos    None  None"
      ]
     },
     "execution_count": 22,
     "metadata": {},
     "output_type": "execute_result"
    }
   ],
   "source": [
    "#  Se realiza un split a la columna place_with_parent_names\n",
    "data_place_with_parent_names = data[\"place_with_parent_names\"].str.split(\"|\", expand=True)\n",
    "data_place_with_parent_names.head(3)"
   ]
  },
  {
   "cell_type": "code",
   "execution_count": 23,
   "id": "9795560f",
   "metadata": {},
   "outputs": [],
   "source": [
    "# Se descartan las columnas 0, 5 y 6 ya que contienen no contienen informacion\n",
    "data_place_with_parent_names = data_place_with_parent_names.drop([0,5,6], axis=1)"
   ]
  },
  {
   "cell_type": "code",
   "execution_count": 24,
   "id": "80fe6625",
   "metadata": {},
   "outputs": [
    {
     "data": {
      "text/plain": [
       "Index(['country_name', 'state_name', 'city_name', 'neighborhood_name'], dtype='object')"
      ]
     },
     "execution_count": 24,
     "metadata": {},
     "output_type": "execute_result"
    }
   ],
   "source": [
    "# Se renombran las columnas\n",
    "data_place_with_parent_names.rename(columns={1: 'country_name' , 2 : 'state_name' , 3 : 'city_name' , 4 : 'neighborhood_name'}, inplace=True)\n",
    "data_place_with_parent_names.columns"
   ]
  },
  {
   "cell_type": "code",
   "execution_count": 25,
   "id": "00eb2c75",
   "metadata": {},
   "outputs": [
    {
     "name": "stdout",
     "output_type": "stream",
     "text": [
      "El total de strings vacios es= \n",
      " country_name            0\n",
      "state_name              0\n",
      "city_name               0\n",
      "neighborhood_name    4422\n",
      "dtype: int64\n",
      "El total de nulos es= \n",
      " country_name             0\n",
      "state_name               0\n",
      "city_name             4422\n",
      "neighborhood_name    71487\n",
      "dtype: int64\n"
     ]
    }
   ],
   "source": [
    "# Se visualiza el total de strings vacios \"\"\n",
    "print( \"El total de strings vacios es= \\n\" , data_place_with_parent_names.isnull().sum())\n",
    "# Se visualiza el total de nulos\n",
    "print( \"El total de nulos es= \\n\" , (data_place_with_parent_names=='').sum())"
   ]
  },
  {
   "cell_type": "code",
   "execution_count": 26,
   "id": "b85e3466",
   "metadata": {},
   "outputs": [],
   "source": [
    "# Se reemplazan las cadenas vacias en city_name a nulos\n",
    "data_city_name_empty = data_place_with_parent_names[data_place_with_parent_names.city_name==\"\"]\n",
    "data_place_with_parent_names.loc[data_city_name_empty.index,\"city_name\"] = None\n",
    "\n",
    "# Se reemplazan las cadenas vacias en neighborhood_name a nulos\n",
    "data_neighborhood_name_empty = data_place_with_parent_names[data_place_with_parent_names.neighborhood_name==\"\"]\n",
    "data_place_with_parent_names.loc[data_neighborhood_name_empty.index,\"neighborhood_name\"] = None"
   ]
  },
  {
   "cell_type": "code",
   "execution_count": 27,
   "id": "194cef81",
   "metadata": {},
   "outputs": [
    {
     "name": "stdout",
     "output_type": "stream",
     "text": [
      "El total de nulos es= \n",
      " country_name             0\n",
      "state_name               0\n",
      "city_name             4422\n",
      "neighborhood_name    75909\n",
      "dtype: int64\n",
      "El total de strings vacios es= \n",
      " country_name         0\n",
      "state_name           0\n",
      "city_name            0\n",
      "neighborhood_name    0\n",
      "dtype: int64\n"
     ]
    }
   ],
   "source": [
    "# Se visualiza el total de strings vacios \"\"\n",
    "print( \"El total de nulos es= \\n\" , data_place_with_parent_names.isnull().sum())\n",
    "\n",
    "# Se visualiza el total de nulos\n",
    "print( \"El total de strings vacios es= \\n\" , (data_place_with_parent_names=='').sum())"
   ]
  },
  {
   "cell_type": "code",
   "execution_count": 28,
   "id": "28282c7a",
   "metadata": {},
   "outputs": [],
   "source": [
    "# Se eliminan en data las columnas que se van a reemplazar\n",
    "data = data.drop([\"place_name\",\"place_with_parent_names\",\"country_name\",\"state_name\"], axis=1)"
   ]
  },
  {
   "cell_type": "code",
   "execution_count": 29,
   "id": "0a416b13",
   "metadata": {},
   "outputs": [
    {
     "data": {
      "text/plain": [
       "Index(['operation', 'property_type', 'geonames_id', 'lat', 'lon',\n",
       "       'price_aprox_usd', 'surface_total_in_m2', 'surface_covered_in_m2',\n",
       "       'price_usd_per_m2', 'floor', 'rooms', 'expenses', 'description',\n",
       "       'title', 'country_name', 'state_name', 'city_name',\n",
       "       'neighborhood_name'],\n",
       "      dtype='object')"
      ]
     },
     "execution_count": 29,
     "metadata": {},
     "output_type": "execute_result"
    }
   ],
   "source": [
    "# Se concatena data con data_place_with_parent_names. Se realiza con concat ya que tienen el mismo orden las instancias \n",
    "data = pd.concat([data, data_place_with_parent_names], axis=1)\n",
    "data.columns"
   ]
  },
  {
   "cell_type": "code",
   "execution_count": 30,
   "id": "740142d5",
   "metadata": {},
   "outputs": [],
   "source": [
    "# Se reordenan las columnas para que queden en el orden original\n",
    "data= data[['operation', 'property_type','country_name', 'state_name', 'city_name', \n",
    "            'neighborhood_name', 'geonames_id', 'lat', 'lon','price_aprox_usd', \n",
    "            'surface_total_in_m2', 'surface_covered_in_m2',\n",
    "       'price_usd_per_m2', 'floor', 'rooms', 'expenses', 'description',\n",
    "       'title',]]"
   ]
  },
  {
   "cell_type": "markdown",
   "id": "3db17c40",
   "metadata": {},
   "source": [
    "## Correccion de instancias que tienen surface_total_in_m2 < surface_covered_in_m2"
   ]
  },
  {
   "cell_type": "code",
   "execution_count": 31,
   "id": "999c0c33",
   "metadata": {},
   "outputs": [],
   "source": [
    "# Se corrobora en que casos el valor surface_total_in_m2 es menor que el valor surface_covered_in_m2\n",
    "mask_surface = data.surface_total_in_m2 < data.surface_covered_in_m2\n",
    "data_surface = data[mask_surface]\n",
    "\n",
    "# Se generan dos listas con los valores de surface_total_in_m2 y surface_covered_in_m2 en las instancias con el index de data_surface\n",
    "list_a = data_surface.surface_total_in_m2\n",
    "list_b = data_surface.surface_covered_in_m2\n",
    "\n",
    "# Se le asigna en funcion del index de data_surface, los valores de surface_total_in_m2 a surface_covered_in_m2 y viceversa\n",
    "data.loc[data_surface.index, \"surface_total_in_m2\"] = list_b\n",
    "data.loc[data_surface.index, \"surface_covered_in_m2\"] = list_a"
   ]
  },
  {
   "cell_type": "markdown",
   "id": "f94893c3",
   "metadata": {},
   "source": [
    "# Imputacion de datos faltantes"
   ]
  },
  {
   "cell_type": "markdown",
   "id": "228c62b4",
   "metadata": {},
   "source": [
    "# Logica a seguir para la imputacion de datos faltantes\n",
    "1. Imputacion de datos obtenidos mediante expresiones regulares en las columnas description y title\n",
    "2. Imputacion directa mediante deduccion con valores de otras columnas\n",
    "3. Imputacion mediante media condicionada (esta metodologia no se aplica en columnas de precio)"
   ]
  },
  {
   "cell_type": "markdown",
   "id": "b00d4b17",
   "metadata": {},
   "source": [
    "## Obtencion de datos con expresiones regulares de las columnas *description* y *title*"
   ]
  },
  {
   "cell_type": "markdown",
   "id": "afea2f4f",
   "metadata": {},
   "source": [
    "## Obtencion de rooms con expresiones regulares"
   ]
  },
  {
   "cell_type": "markdown",
   "id": "a853b441",
   "metadata": {},
   "source": [
    "##### *Se obtienen los rooms nulos en primera instancia con expresiones regulares. No se obtienen primero con una media condicionada de la superficie cubierta y el lugar ya que es mas preciso obtenerlos con un dato directo del dataset*"
   ]
  },
  {
   "cell_type": "markdown",
   "id": "bd14f389",
   "metadata": {},
   "source": [
    "### Obtencion de rooms con expresion regular en *description*"
   ]
  },
  {
   "cell_type": "code",
   "execution_count": 32,
   "id": "79c6c5bf",
   "metadata": {},
   "outputs": [
    {
     "name": "stdout",
     "output_type": "stream",
     "text": [
      "Cantidad de instancias en las que se va a aplicar la expresion regular=  69989\n"
     ]
    }
   ],
   "source": [
    "# Se obtiene a partir de data una serie que contenga las instancias con rooms nulos\n",
    "mask_rooms_null =  data.rooms.isnull()\n",
    "data_rooms_null = data [mask_rooms_null]\n",
    "series_rooms_null_description = data_rooms_null.description\n",
    "\n",
    "print(\"Cantidad de instancias en las que se va a aplicar la expresion regular= \",series_rooms_null_description.shape[0])"
   ]
  },
  {
   "cell_type": "code",
   "execution_count": 33,
   "id": "05097b4e",
   "metadata": {},
   "outputs": [
    {
     "name": "stderr",
     "output_type": "stream",
     "text": [
      "C:\\Users\\gtoso\\AppData\\Local\\Temp\\ipykernel_18428\\3898365534.py:3: DeprecationWarning: Flags not at the start of the expression '(?P<rooms>\\\\d+)\\\\s+(?i' (truncated)\n",
      "  pattern_rooms_regex = re.compile(pattern)\n"
     ]
    }
   ],
   "source": [
    "# logica del patron: Toma un numero de un digito o mas,seguido o no de un espacio o mas y de las letras amb no distinguiendo entre mayusculas y minusculas\n",
    "pattern = \"(?P<rooms>\\d+)\\s+(?i)amb\"\n",
    "pattern_rooms_regex = re.compile(pattern)"
   ]
  },
  {
   "cell_type": "code",
   "execution_count": 34,
   "id": "4de86923",
   "metadata": {},
   "outputs": [
    {
     "name": "stdout",
     "output_type": "stream",
     "text": [
      "Rooms matcheados= 18608\n",
      "['2' nan '3' '1' '4' '7' '5' '6' '9' '2017' '103' '297' '072' '000' '11'\n",
      " '8' '085' '37' '800' '10' '12' '900' '0002' '400' '20174' '006' '17' '90'\n",
      " '0001' '772' '2004' '14' '24' '50' '20' '23' '65' '20173']\n"
     ]
    }
   ],
   "source": [
    "# Se aplica una funcion lamda para recorrer la serie series_rooms_null_description aplicando la expresion regular\n",
    "description_rooms_result = series_rooms_null_description.apply(lambda x: pattern_rooms_regex.search(str(x)))\n",
    "\n",
    "# Se extraen los datos que usaremos para la imputación\n",
    "description_rooms_match = description_rooms_result.apply(lambda x: np.nan if x is None else x.group('rooms'))\n",
    "\n",
    "print(\"Rooms matcheados=\",(description_rooms_match.notnull()).sum()) # Se ve la cantidad que pudo matchear\n",
    "print(description_rooms_match.unique()) # Se ven todos los rooms unicos que matcheo"
   ]
  },
  {
   "cell_type": "code",
   "execution_count": 35,
   "id": "88ab3e83",
   "metadata": {},
   "outputs": [],
   "source": [
    "# Se imputa la serie description_rooms_match con su index en data\n",
    "data.loc[description_rooms_match.index, \"rooms\"] = description_rooms_match "
   ]
  },
  {
   "cell_type": "markdown",
   "id": "e281f1b6",
   "metadata": {},
   "source": [
    "### Obtencion de rooms con expresion regular en *title*"
   ]
  },
  {
   "cell_type": "code",
   "execution_count": 36,
   "id": "323b3fbb",
   "metadata": {},
   "outputs": [
    {
     "name": "stdout",
     "output_type": "stream",
     "text": [
      "Cantidad de instancias en las que se va a aplicar la expresion regular=  51381\n"
     ]
    }
   ],
   "source": [
    "# Se obtiene a partir de data una serie que contenga las instancias con rooms nulos\n",
    "mask_rooms_null = data.rooms.isnull()\n",
    "data_rooms_null = data [mask_rooms_null]\n",
    "series_rooms_null_title = data_rooms_null.title\n",
    "\n",
    "print(\"Cantidad de instancias en las que se va a aplicar la expresion regular= \",series_rooms_null_title.shape[0])"
   ]
  },
  {
   "cell_type": "code",
   "execution_count": 37,
   "id": "b91ea209",
   "metadata": {},
   "outputs": [
    {
     "name": "stdout",
     "output_type": "stream",
     "text": [
      "Rooms matcheados= 2505\n",
      "[nan '2' '6' '3' '4' '5' '9' '1' '7' '8' '15' '4000' '360' '12']\n"
     ]
    }
   ],
   "source": [
    "# Se aplica una funcion lamda para recorrer la serie series_rooms_null_title aplicando la expresion regular\n",
    "title_rooms_result = series_rooms_null_title.apply(lambda x: pattern_rooms_regex.search(str(x)))\n",
    "\n",
    "# Se extraen los datos que usaremos para la imputación\n",
    "title_rooms_match = title_rooms_result.apply(lambda x: np.nan if x is None else x.group('rooms'))\n",
    "\n",
    "print(\"Rooms matcheados=\",(title_rooms_match.notnull()).sum())  # Se ve la cantidad que pudo matchear\n",
    "print(title_rooms_match.unique()) # Se ven todos los rooms unicos que matcheo"
   ]
  },
  {
   "cell_type": "code",
   "execution_count": 38,
   "id": "9fd2b0aa",
   "metadata": {},
   "outputs": [],
   "source": [
    "# Se imputa la serie title_rooms_match con su index en data\n",
    "data.loc[title_rooms_match.index, \"rooms\"] = title_rooms_match "
   ]
  },
  {
   "cell_type": "code",
   "execution_count": 39,
   "id": "bd3e79cd",
   "metadata": {},
   "outputs": [
    {
     "data": {
      "text/plain": [
       "dtype('float64')"
      ]
     },
     "execution_count": 39,
     "metadata": {},
     "output_type": "execute_result"
    }
   ],
   "source": [
    "# Se cambia el tipo de dato de object a float\n",
    "data[\"rooms\"] = data[\"rooms\"].astype(\"float\")\n",
    "data.rooms.dtypes"
   ]
  },
  {
   "cell_type": "markdown",
   "id": "5eba37a3",
   "metadata": {},
   "source": [
    "## Obtencion de surface_total_in_m2 con expresiones regulares"
   ]
  },
  {
   "cell_type": "markdown",
   "id": "1ef69311",
   "metadata": {},
   "source": [
    "##### *Se obtienen la superficie en la que ambas superficies sean nulas y el precio y el precio por metro cuadrado es nulo. De esta manera sabemos que no podemos imputar una superficie con la otra y no podemos inferir la superficie mediante el precio y el precio por metro cuadrado*"
   ]
  },
  {
   "cell_type": "markdown",
   "id": "84a2bc0a",
   "metadata": {},
   "source": [
    "### Obtencion de surface_total_in_m2 con expresion regular en *description*"
   ]
  },
  {
   "cell_type": "code",
   "execution_count": 40,
   "id": "9aa14332",
   "metadata": {},
   "outputs": [
    {
     "name": "stdout",
     "output_type": "stream",
     "text": [
      "Cantidad de instancias en las que se va a aplicar la expresion regular=  11437\n"
     ]
    }
   ],
   "source": [
    "# Se obtiene a partir de data una serie que contenga las instancias en las que se va a aplicar la expresion regular\n",
    "surfaces_condition = data.surface_total_in_m2.isnull() & data.surface_covered_in_m2.isnull()\n",
    "price_condition = data.price_aprox_usd.isnull()\n",
    "price_per_m2_condition = data.price_usd_per_m2.isnull()\n",
    "mask_surface_total_in_m2_null = surfaces_condition & (price_condition | price_per_m2_condition)\n",
    "data_surface_total_in_m2_null = data [mask_surface_total_in_m2_null]\n",
    "series_surface_total_in_m2_null_description = data_surface_total_in_m2_null.description\n",
    "\n",
    "print(\"Cantidad de instancias en las que se va a aplicar la expresion regular= \",series_surface_total_in_m2_null_description.shape[0])"
   ]
  },
  {
   "cell_type": "code",
   "execution_count": 41,
   "id": "de117957",
   "metadata": {},
   "outputs": [
    {
     "name": "stderr",
     "output_type": "stream",
     "text": [
      "C:\\Users\\gtoso\\AppData\\Local\\Temp\\ipykernel_18428\\786532533.py:3: DeprecationWarning: Flags not at the start of the expression '(?P<surface_total_in' (truncated)\n",
      "  pattern_surface_total_in_m2_regex = re.compile(pattern)\n"
     ]
    }
   ],
   "source": [
    "# logica del patron: Toma un numero de un digito o mas,seguido o no de un espacio o mas y de las letras [m2,mts,metro] no distinguiendo entre mayusculas y minusculas\n",
    "pattern = \"(?P<surface_total_in_m2>\\d+)\\s+(?i)[m2|mts|metro]\"\n",
    "pattern_surface_total_in_m2_regex = re.compile(pattern)"
   ]
  },
  {
   "cell_type": "code",
   "execution_count": 42,
   "id": "6fd82ead",
   "metadata": {},
   "outputs": [
    {
     "name": "stdout",
     "output_type": "stream",
     "text": [
      "surfaces matcheados= 4114\n"
     ]
    }
   ],
   "source": [
    "# Se aplica una funcion lamda para recorrer la serie series_surface_total_in_m2_null_description aplicando la expresion regular\n",
    "description_surface_total_in_m2_result = series_surface_total_in_m2_null_description.apply(lambda x: pattern_surface_total_in_m2_regex.search(str(x)))\n",
    "\n",
    "# Se extraen los datos que usaremos para la imputación\n",
    "description_surface_total_in_m2_match = description_surface_total_in_m2_result.apply(lambda x: np.nan if x is None else x.group('surface_total_in_m2'))\n",
    "\n",
    "print(\"surfaces matcheados=\",(description_surface_total_in_m2_match.notnull()).sum()) #aca veo que cantidad pudo matchear"
   ]
  },
  {
   "cell_type": "code",
   "execution_count": 43,
   "id": "c3ca1016",
   "metadata": {},
   "outputs": [],
   "source": [
    "# Se imputa la serie description_surface_total_in_m2_match con su index en data\n",
    "data.loc[description_surface_total_in_m2_match.index, \"surface_total_in_m2\"] = description_surface_total_in_m2_match "
   ]
  },
  {
   "cell_type": "markdown",
   "id": "c5b11a55",
   "metadata": {},
   "source": [
    "### Obtencion de surface_total_in_m2 con expresion regular en *title*"
   ]
  },
  {
   "cell_type": "code",
   "execution_count": 44,
   "id": "4cc70efe",
   "metadata": {},
   "outputs": [
    {
     "name": "stdout",
     "output_type": "stream",
     "text": [
      "Cantidad de instancias en las que se va a aplicar la expresion regular=  11437\n"
     ]
    }
   ],
   "source": [
    "# Se obtiene a partir de data una serie que contenga las instancias en las que se va a aplicar la expresion regular\n",
    "surfaces_condition = data.surface_total_in_m2.isnull() & data.surface_covered_in_m2.isnull()\n",
    "price_condition = data.price_aprox_usd.isnull()\n",
    "price_per_m2_condition = data.price_usd_per_m2.isnull()\n",
    "mask_surface_total_in_m2_null = surfaces_condition & (price_condition | price_per_m2_condition)\n",
    "data_surface_total_in_m2_null = data [mask_surface_total_in_m2_null]\n",
    "series_surface_total_in_m2_null_title = data_surface_total_in_m2_null.title\n",
    "\n",
    "print(\"Cantidad de instancias en las que se va a aplicar la expresion regular= \",series_surface_total_in_m2_null_description.shape[0])"
   ]
  },
  {
   "cell_type": "code",
   "execution_count": 45,
   "id": "39f80cf2",
   "metadata": {},
   "outputs": [
    {
     "name": "stdout",
     "output_type": "stream",
     "text": [
      "surfaces matcheados=  113\n"
     ]
    }
   ],
   "source": [
    "# Se aplica una funcion lamda para recorrer la serie series_surface_total_in_m2_null_title aplicando la expresion regular\n",
    "title_surface_total_in_m2_result = series_surface_total_in_m2_null_title.apply(lambda x: pattern_surface_total_in_m2_regex.search(str(x)))\n",
    "\n",
    "# Se extraen los datos que usaremos para la imputación\n",
    "title_surface_total_in_m2_match = title_surface_total_in_m2_result.apply(lambda x: np.nan if x is None else x.group('surface_total_in_m2'))\n",
    "\n",
    "print(\"surfaces matcheados= \",(title_surface_total_in_m2_match.notnull()).sum()) #aca veo que cantidad pudo matchear"
   ]
  },
  {
   "cell_type": "code",
   "execution_count": 46,
   "id": "5a9a1005",
   "metadata": {},
   "outputs": [],
   "source": [
    "# Se imputa la serie title_surface_total_in_m2_match con su index en data\n",
    "data.loc[title_surface_total_in_m2_match.index, \"surface_total_in_m2\"] = title_surface_total_in_m2_match "
   ]
  },
  {
   "cell_type": "code",
   "execution_count": 47,
   "id": "40d72192",
   "metadata": {},
   "outputs": [
    {
     "data": {
      "text/plain": [
       "dtype('float64')"
      ]
     },
     "execution_count": 47,
     "metadata": {},
     "output_type": "execute_result"
    }
   ],
   "source": [
    "# Se cambia el tipo de dato de object a float\n",
    "data[\"surface_total_in_m2\"] = data[\"surface_total_in_m2\"].astype(\"float\")\n",
    "data.surface_total_in_m2.dtypes"
   ]
  },
  {
   "cell_type": "markdown",
   "id": "390ff075",
   "metadata": {},
   "source": [
    "## Obtencion de price_aprox_usd mediante expresiones regulares"
   ]
  },
  {
   "cell_type": "markdown",
   "id": "1ef783a3",
   "metadata": {},
   "source": [
    "##### *Se quiere obtener el price_aprox_usd para las instancias en las que no tenemos price_aprox_usd y tampoco tenemos surface_total_in_m2 y surface_total_in_m2 o no tenemos price_usd_per_m2 y price_per_m2 *"
   ]
  },
  {
   "cell_type": "markdown",
   "id": "a6edd38b",
   "metadata": {},
   "source": [
    "### Obtencion de price con expresion regular en *description*"
   ]
  },
  {
   "cell_type": "code",
   "execution_count": 48,
   "id": "f09cc41e",
   "metadata": {},
   "outputs": [
    {
     "name": "stdout",
     "output_type": "stream",
     "text": [
      "Cantidad de instancias en las que se va a aplicar la expresion regular=  17871\n"
     ]
    }
   ],
   "source": [
    "# Se obtiene a partir de data una serie que contenga las instancias en las que se va a aplicar la expresion regular\n",
    "surface_condition = data.surface_total_in_m2.isnull() & data.surface_covered_in_m2.isnull()\n",
    "price_condition = data.price_aprox_usd.isnull()\n",
    "price_per_m2_condition = data.price_usd_per_m2.isnull()\n",
    "mask_price_null = price_condition & (price_per_m2_condition | surfaces_condition)\n",
    "data_price_null = data [mask_price_null]\n",
    "series_price_null_description = data_price_null.description\n",
    "\n",
    "print(\"Cantidad de instancias en las que se va a aplicar la expresion regular= \",series_price_null_description.shape[0])"
   ]
  },
  {
   "cell_type": "code",
   "execution_count": 49,
   "id": "7e0303e6",
   "metadata": {},
   "outputs": [],
   "source": [
    "# logica del patron: toma la combinacion de letras usd indistintamente de ser mayusculas o minusculas seguido o no de un espacio o mas y seguido de un numero de un numero de un digito o mas\n",
    "pattern = \"(?i)usd\\s{0,1}(?P<price_aprox_usd>\\d+)\"\n",
    "pattern_price_regex = re.compile(pattern)"
   ]
  },
  {
   "cell_type": "code",
   "execution_count": 50,
   "id": "c4bd9f0f",
   "metadata": {},
   "outputs": [
    {
     "name": "stdout",
     "output_type": "stream",
     "text": [
      "price matcheados=  406\n"
     ]
    }
   ],
   "source": [
    "# Se aplica una funcion lamda para recorrer la serie series_surface_total_in_m2_null_description aplicando la expresion regular\n",
    "description_price_result = series_price_null_description.apply(lambda x: pattern_price_regex.search(str(x)))\n",
    "\n",
    "# Se extraen los datos que usaremos para la imputación\n",
    "description_price_match = description_price_result.apply(lambda x: np.nan if x is None else x.group('price_aprox_usd'))\n",
    "\n",
    "print(\"price matcheados= \",(description_price_match.notnull()).sum()) #aca veo que cantidad pudo matchear"
   ]
  },
  {
   "cell_type": "code",
   "execution_count": 51,
   "id": "34af1692",
   "metadata": {},
   "outputs": [],
   "source": [
    "# Se imputa la serie description_price_match con su index en data\n",
    "data.loc[description_price_match.index, \"price_aprox_usd\"] = description_price_match "
   ]
  },
  {
   "cell_type": "markdown",
   "id": "26a47fb7",
   "metadata": {},
   "source": [
    "### Obtencion de price con expresion regular en *title*"
   ]
  },
  {
   "cell_type": "code",
   "execution_count": 52,
   "id": "c30d90d7",
   "metadata": {},
   "outputs": [
    {
     "name": "stdout",
     "output_type": "stream",
     "text": [
      "Cantidad de instancias en las que se va a aplicar la expresion regular=  17871\n"
     ]
    }
   ],
   "source": [
    "# Se obtiene a partir de data una serie que contenga las instancias en las que se va a aplicar la expresion regular\n",
    "surface_condition = data.surface_total_in_m2.isnull() & data.surface_covered_in_m2.isnull()\n",
    "price_condition = data.price_aprox_usd.isnull()\n",
    "price_per_m2_condition = data.price_usd_per_m2.isnull()\n",
    "mask_price_null = price_condition & (price_per_m2_condition | surfaces_condition)\n",
    "data_price_null = data [mask_price_null]\n",
    "series_price_null_title = data_price_null.title\n",
    "\n",
    "print(\"Cantidad de instancias en las que se va a aplicar la expresion regular= \",series_price_null_description.shape[0])"
   ]
  },
  {
   "cell_type": "code",
   "execution_count": 53,
   "id": "7062e04e",
   "metadata": {},
   "outputs": [
    {
     "name": "stdout",
     "output_type": "stream",
     "text": [
      "price matcheados=  1\n"
     ]
    }
   ],
   "source": [
    "# Se aplica una funcion lamda para recorrer la serie series_price_null_title aplicando la expresion regular\n",
    "title_price_result = series_price_null_title.apply(lambda x: pattern_price_regex.search(str(x)))\n",
    "\n",
    "# Se extraen los datos que usaremos para la imputación\n",
    "title_price_match = title_price_result.apply(lambda x: np.nan if x is None else x.group('price_aprox_usd'))\n",
    "\n",
    "print(\"price matcheados= \",(title_price_match.notnull()).sum()) #aca veo que cantidad pudo matchear"
   ]
  },
  {
   "cell_type": "code",
   "execution_count": 54,
   "id": "7b2e3708",
   "metadata": {},
   "outputs": [],
   "source": [
    "# Se imputa la serie title_price_match con su index en data\n",
    "data.loc[title_price_match.index, \"price_aprox_usd\"] = title_price_match "
   ]
  },
  {
   "cell_type": "code",
   "execution_count": 55,
   "id": "f2800fd7",
   "metadata": {},
   "outputs": [
    {
     "data": {
      "text/plain": [
       "dtype('float64')"
      ]
     },
     "execution_count": 55,
     "metadata": {},
     "output_type": "execute_result"
    }
   ],
   "source": [
    "# Se cambia el tipo de dato de object a float\n",
    "data[\"price_aprox_usd\"] = data[\"price_aprox_usd\"].astype(\"float\")\n",
    "data.price_aprox_usd.dtypes"
   ]
  },
  {
   "cell_type": "markdown",
   "id": "c5bc820c",
   "metadata": {},
   "source": [
    "## Obtencion de floor mediante expresiones regulares"
   ]
  },
  {
   "cell_type": "markdown",
   "id": "776a7bd1",
   "metadata": {},
   "source": [
    "##### *Se quiere obtener el floor para las instancias en las que es nulo*"
   ]
  },
  {
   "cell_type": "markdown",
   "id": "ad598515",
   "metadata": {},
   "source": [
    "### Obtencion de floor con expresion regular en *description*"
   ]
  },
  {
   "cell_type": "code",
   "execution_count": 56,
   "id": "89cf29c8",
   "metadata": {},
   "outputs": [
    {
     "name": "stdout",
     "output_type": "stream",
     "text": [
      "Cantidad de instancias en las que se va a aplicar la expresion regular=  108073\n"
     ]
    }
   ],
   "source": [
    "# Se obtiene a partir de data una serie que contenga las instancias en las que se va a aplicar la expresion regular\n",
    "data_floor_null = data [data.floor.isnull()]\n",
    "series_floor_null_description = data_floor_null.description\n",
    "\n",
    "print(\"Cantidad de instancias en las que se va a aplicar la expresion regular= \",series_floor_null_description.shape[0])"
   ]
  },
  {
   "cell_type": "code",
   "execution_count": 57,
   "id": "fad7b1dd",
   "metadata": {},
   "outputs": [
    {
     "name": "stderr",
     "output_type": "stream",
     "text": [
      "C:\\Users\\gtoso\\AppData\\Local\\Temp\\ipykernel_18428\\2505478835.py:3: DeprecationWarning: Flags not at the start of the expression '(?P<floor>\\\\d+)\\\\s+(?i' (truncated)\n",
      "  pattern_floor_regex = re.compile(pattern)\n"
     ]
    }
   ],
   "source": [
    "# logica del patron: Toma un valor numerico o mas, seguido de un espacio o mas o ninguno, seguido de la palabra piso indistintamente que sean mayusculas o minusculas\n",
    "pattern = \"(?P<floor>\\d+)\\s+(?i)piso\" \n",
    "pattern_floor_regex = re.compile(pattern)"
   ]
  },
  {
   "cell_type": "code",
   "execution_count": 58,
   "id": "227d475e",
   "metadata": {},
   "outputs": [
    {
     "name": "stdout",
     "output_type": "stream",
     "text": [
      "floor matcheados=  6842\n"
     ]
    }
   ],
   "source": [
    "# Se aplica una funcion lamda para recorrer la serie series_floor_null_description aplicando la expresion regular\n",
    "description_floor_result = series_floor_null_description.apply(lambda x: pattern_floor_regex.search(str(x)))\n",
    "\n",
    "# Se extraen los datos que usaremos para la imputación\n",
    "description_floor_match = description_floor_result.apply(lambda x: np.nan if x is None else x.group('floor'))\n",
    "\n",
    "print(\"floor matcheados= \",(description_floor_match.notnull()).sum()) #aca veo que cantidad pudo matchear"
   ]
  },
  {
   "cell_type": "code",
   "execution_count": 59,
   "id": "b8cca878",
   "metadata": {},
   "outputs": [],
   "source": [
    "# Se imputa la serie description_floor_match con su index en data\n",
    "data.loc[description_floor_match.index, \"floor\"] = description_floor_match "
   ]
  },
  {
   "cell_type": "markdown",
   "id": "349c5bae",
   "metadata": {},
   "source": [
    "### Obtencion de floor con expresion regular en *title*"
   ]
  },
  {
   "cell_type": "code",
   "execution_count": 60,
   "id": "d58ab555",
   "metadata": {},
   "outputs": [
    {
     "name": "stdout",
     "output_type": "stream",
     "text": [
      "Cantidad de instancias en las que se va a aplicar la expresion regular=  101231\n"
     ]
    }
   ],
   "source": [
    "# Se obtiene a partir de data una serie que contenga las instancias en las que se va a aplicar la expresion regular\n",
    "data_floor_null = data [data.floor.isnull()]\n",
    "series_floor_null_title = data_floor_null.title\n",
    "\n",
    "print(\"Cantidad de instancias en las que se va a aplicar la expresion regular= \",series_floor_null_title.shape[0])"
   ]
  },
  {
   "cell_type": "code",
   "execution_count": 61,
   "id": "bbaa38ed",
   "metadata": {},
   "outputs": [
    {
     "name": "stdout",
     "output_type": "stream",
     "text": [
      "floor matcheados=  113\n"
     ]
    }
   ],
   "source": [
    "# Se aplica una funcion lamda para recorrer la serie series_floor_null_title aplicando la expresion regular\n",
    "title_floor_result = series_floor_null_title.apply(lambda x: pattern_floor_regex.search(str(x)))\n",
    "\n",
    "# Se extraen los datos que usaremos para la imputación\n",
    "title_floor_match = title_floor_result.apply(lambda x: np.nan if x is None else x.group('floor'))\n",
    "\n",
    "print(\"floor matcheados= \",(title_floor_match.notnull()).sum()) #aca veo que cantidad pudo matchear"
   ]
  },
  {
   "cell_type": "code",
   "execution_count": 62,
   "id": "47d9175c",
   "metadata": {},
   "outputs": [],
   "source": [
    "# Se imputa la serie title_floor_match con su index en data\n",
    "data.loc[title_floor_match.index, \"floor\"] = title_floor_match "
   ]
  },
  {
   "cell_type": "code",
   "execution_count": 63,
   "id": "5dc6835f",
   "metadata": {},
   "outputs": [
    {
     "data": {
      "text/plain": [
       "dtype('float64')"
      ]
     },
     "execution_count": 63,
     "metadata": {},
     "output_type": "execute_result"
    }
   ],
   "source": [
    "# Se cambia el tipo de dato de object a float\n",
    "data[\"floor\"] = data[\"floor\"].astype(\"float\")\n",
    "data.floor.dtypes"
   ]
  },
  {
   "cell_type": "markdown",
   "id": "5319980c",
   "metadata": {},
   "source": [
    "## Obtencion de expenses mediante expresiones regulares"
   ]
  },
  {
   "cell_type": "markdown",
   "id": "bb0f3854",
   "metadata": {},
   "source": [
    "##### *Se quiere obtener el expensas para las instancias en las que es nulo"
   ]
  },
  {
   "cell_type": "markdown",
   "id": "688bceda",
   "metadata": {},
   "source": [
    "### Obtencion de expenses con expresion regular en *description*"
   ]
  },
  {
   "cell_type": "code",
   "execution_count": 64,
   "id": "d09136fa",
   "metadata": {},
   "outputs": [
    {
     "name": "stdout",
     "output_type": "stream",
     "text": [
      "Cantidad de instancias en las que se va a aplicar la expresion regular=  101758\n"
     ]
    }
   ],
   "source": [
    "# Se obtiene a partir de data una serie que contenga las instancias en las que se va a aplicar la expresion regular\n",
    "data_expenses_null = data [data.expenses.isnull()]\n",
    "series_expenses_null_description = data_expenses_null.description\n",
    "\n",
    "print(\"Cantidad de instancias en las que se va a aplicar la expresion regular= \",series_expenses_null_description.shape[0])"
   ]
  },
  {
   "cell_type": "code",
   "execution_count": 65,
   "id": "7a3186ba",
   "metadata": {},
   "outputs": [
    {
     "name": "stderr",
     "output_type": "stream",
     "text": [
      "C:\\Users\\gtoso\\AppData\\Local\\Temp\\ipykernel_18428\\2993959463.py:3: DeprecationWarning: Flags not at the start of the expression '(?P<expenses>\\\\d+)\\\\s+' (truncated)\n",
      "  pattern_expenses_regex = re.compile(pattern)\n"
     ]
    }
   ],
   "source": [
    "# logica del patron: Toma un valor numerico o mas, seguido de un espacio o mas o ninguno, seguido de la palabra exp indistintamente que sean mayusculas o minusculas\n",
    "pattern = \"(?P<expenses>\\d+)\\s+(?i)exp\"\n",
    "pattern_expenses_regex = re.compile(pattern)"
   ]
  },
  {
   "cell_type": "code",
   "execution_count": 66,
   "id": "7f7887fd",
   "metadata": {},
   "outputs": [
    {
     "name": "stdout",
     "output_type": "stream",
     "text": [
      "expenses matcheados=  153\n"
     ]
    }
   ],
   "source": [
    "# Se aplica una funcion lamda para recorrer la serie series_expenses_null_description aplicando la expresion regular\n",
    "description_expenses_result = series_expenses_null_description.apply(lambda x: pattern_expenses_regex.search(str(x)))\n",
    "\n",
    "# Se extraen los datos que usaremos para la imputación\n",
    "description_expenses_match = description_expenses_result.apply(lambda x: np.nan if x is None else x.group('expenses'))\n",
    "\n",
    "print(\"expenses matcheados= \",(description_expenses_match.notnull()).sum()) #aca veo que cantidad pudo matchear"
   ]
  },
  {
   "cell_type": "code",
   "execution_count": 67,
   "id": "c6ac6194",
   "metadata": {},
   "outputs": [],
   "source": [
    "# Se imputa la serie description_expenses_match con su index en data\n",
    "data.loc[description_expenses_match.index, \"floor\"] = description_expenses_match "
   ]
  },
  {
   "cell_type": "markdown",
   "id": "394e102f",
   "metadata": {},
   "source": [
    "### Obtencion de expenses con expresion regular en *title*"
   ]
  },
  {
   "cell_type": "code",
   "execution_count": 68,
   "id": "d3b2eb20",
   "metadata": {},
   "outputs": [
    {
     "name": "stdout",
     "output_type": "stream",
     "text": [
      "Cantidad de instancias en las que se va a aplicar la expresion regular=  101758\n"
     ]
    }
   ],
   "source": [
    "# Se obtiene a partir de data una serie que contenga las instancias en las que se va a aplicar la expresion regular\n",
    "data_expenses_null = data [data.expenses.isnull()]\n",
    "series_expenses_null_title = data_expenses_null.title\n",
    "\n",
    "print(\"Cantidad de instancias en las que se va a aplicar la expresion regular= \",series_expenses_null_title.shape[0])"
   ]
  },
  {
   "cell_type": "code",
   "execution_count": 69,
   "id": "a3ec0d23",
   "metadata": {},
   "outputs": [
    {
     "name": "stdout",
     "output_type": "stream",
     "text": [
      "expenses matcheados=  6\n"
     ]
    }
   ],
   "source": [
    "# Se aplica una funcion lamda para recorrer la serie series_expenses_null_title aplicando la expresion regular\n",
    "title_expenses_result = series_expenses_null_title.apply(lambda x: pattern_expenses_regex.search(str(x)))\n",
    "\n",
    "# Se extraen los datos que usaremos para la imputación\n",
    "title_expenses_match = title_expenses_result.apply(lambda x: np.nan if x is None else x.group(\"expenses\"))\n",
    "\n",
    "print(\"expenses matcheados= \",(title_expenses_match.notnull()).sum()) #aca veo que cantidad pudo matchear"
   ]
  },
  {
   "cell_type": "code",
   "execution_count": 70,
   "id": "cf79f2ad",
   "metadata": {},
   "outputs": [],
   "source": [
    "# Se imputa la serie title_expenses_match con su index en data\n",
    "data.loc[title_expenses_match.index, \"expenses\"] = title_expenses_match "
   ]
  },
  {
   "cell_type": "code",
   "execution_count": 71,
   "id": "0e3537e1",
   "metadata": {},
   "outputs": [
    {
     "data": {
      "text/plain": [
       "dtype('float64')"
      ]
     },
     "execution_count": 71,
     "metadata": {},
     "output_type": "execute_result"
    }
   ],
   "source": [
    "# Se cambia el tipo de dato de object a float\n",
    "data[\"expenses\"] = data[\"expenses\"].astype(\"float\")\n",
    "data.expenses.dtypes"
   ]
  },
  {
   "cell_type": "markdown",
   "id": "f29a7e43",
   "metadata": {},
   "source": [
    "# Obtencion de datos mediante imputacion directa"
   ]
  },
  {
   "cell_type": "markdown",
   "id": "f39f9a34",
   "metadata": {},
   "source": [
    "## Obtencion de surface_total_in_m2 y surface_covered_in_m2 mediante imputacion directa"
   ]
  },
  {
   "cell_type": "markdown",
   "id": "1a012a4d",
   "metadata": {},
   "source": [
    "### Imputacion de surface_total_in_m2 y surface_covered_in_m2"
   ]
  },
  {
   "cell_type": "markdown",
   "id": "815a47c4",
   "metadata": {},
   "source": [
    "#### *Cuando una sea nula y la otra no se imputara en la nula el valor de la no nula*"
   ]
  },
  {
   "cell_type": "code",
   "execution_count": 72,
   "id": "bbd8917e",
   "metadata": {},
   "outputs": [
    {
     "name": "stdout",
     "output_type": "stream",
     "text": [
      "Cantidad de instancias de surface_covered_in_m2 a imputar en surface_total_in_m2=  26000\n",
      "Cantidad de instancias de surface_total_in_m2 a imputar en surface_covered_in_m2=  10536\n"
     ]
    }
   ],
   "source": [
    "# Se obtiene un dataframe con los valores no nulos de surface_covered_in_m2 y nulos de surface_total_in_m2\n",
    "mask_surface_total_in_m2_null = data.surface_total_in_m2.isnull() & data.surface_covered_in_m2.notnull()\n",
    "data_surface_total_in_m2_null = data[mask_surface_total_in_m2_null]\n",
    "\n",
    "# Se obtiene un dataframe con los valores nulos de surface_covered_in_m2 y no nulos de surface_total_in_m2\n",
    "mask_surface_covered_in_m2_null =  data.surface_total_in_m2.notnull() & data.surface_covered_in_m2.isnull()\n",
    "data_surface_covered_in_m2_null = data[mask_surface_covered_in_m2_null]\n",
    "\n",
    "\n",
    "print (\"Cantidad de instancias de surface_covered_in_m2 a imputar en surface_total_in_m2= \", data_surface_total_in_m2_null.shape[0])\n",
    "print (\"Cantidad de instancias de surface_total_in_m2 a imputar en surface_covered_in_m2= \", data_surface_covered_in_m2_null.shape[0])"
   ]
  },
  {
   "cell_type": "code",
   "execution_count": 73,
   "id": "937f63a8",
   "metadata": {},
   "outputs": [],
   "source": [
    "# Imputacion de valores nulos de surface_total_in_m2 con valores no nulos de surface_covered_in_m2\n",
    "data.loc[data_surface_total_in_m2_null.index, \"surface_total_in_m2\"] = data_surface_total_in_m2_null.loc[data_surface_total_in_m2_null.index, \"surface_covered_in_m2\"]\n",
    "\n",
    "# Imputacion de valores nulos de surface_covered_in_m2 con valores no nulos de surface_total_in_m2\n",
    "data.loc[data_surface_covered_in_m2_null.index, \"surface_covered_in_m2\"] = data_surface_covered_in_m2_null.loc[data_surface_covered_in_m2_null.index, \"surface_total_in_m2\"]"
   ]
  },
  {
   "cell_type": "markdown",
   "id": "fe39e10d",
   "metadata": {},
   "source": [
    "### Obtención de las surface_total_in_m2 y surface_covered_in_m2 nulas en funcion del price_aprox_usd y de price_usd_per_m2"
   ]
  },
  {
   "cell_type": "markdown",
   "id": "50c9a934",
   "metadata": {},
   "source": [
    "##### El valor de surface_total_in_m2 y surface_covered_in_m2 se obtiene mediante la formula **surface_total_in_m2 = price_aprox_usd / price_usd_per_m2**"
   ]
  },
  {
   "cell_type": "code",
   "execution_count": 74,
   "id": "95fd2950",
   "metadata": {},
   "outputs": [
    {
     "name": "stdout",
     "output_type": "stream",
     "text": [
      "Cantidad de instancias de surface_total_in_m2 a imputar=  0\n"
     ]
    }
   ],
   "source": [
    "# Se obtiene un dataframe con los valores nulos de ambas variables de surfaces, no nulos de price_aprox_usd y no nulos de price_usd_per_m2\n",
    "condition_surfaces_null = data.surface_total_in_m2.isnull() & data.surface_covered_in_m2.isnull()\n",
    "condition_price_notnull = data.price_aprox_usd.notnull()\n",
    "condition_price_per_m2_notnull = data.price_usd_per_m2.notnull()\n",
    "mask_surfaces_imput = condition_surfaces_null & condition_price_notnull & condition_price_per_m2_notnull\n",
    "data_surfaces_imput = data[mask_surfaces_imput]\n",
    "\n",
    "print (\"Cantidad de instancias de surface_total_in_m2 a imputar= \", data_surfaces_imput.shape[0])"
   ]
  },
  {
   "cell_type": "markdown",
   "id": "000912ca",
   "metadata": {},
   "source": [
    "### Obtencion de price_aprox_usd mediante imputacion directa en funcion de prices_usd_per_m2 y surface_total_in_m2"
   ]
  },
  {
   "cell_type": "markdown",
   "id": "62ba788c",
   "metadata": {},
   "source": [
    "##### El valor de price_aprox_usd se obtiene mediante la formula **price_aprox_usd = price_usd_per_m2 * surface_total_in_m2**"
   ]
  },
  {
   "cell_type": "code",
   "execution_count": 75,
   "id": "e551963c",
   "metadata": {},
   "outputs": [
    {
     "name": "stdout",
     "output_type": "stream",
     "text": [
      "Cantidad de instancias de price_aprox_usd a imputar=  0\n"
     ]
    }
   ],
   "source": [
    "# Se obtiene un dataframe con los valores no nulos de cualquiera de las dos surfaces, nulos de price_aprox_usd y no nulos de price_usd_per_m2\n",
    "condition_surfaces_notnull = data.surface_total_in_m2.notnull() | data.surface_covered_in_m2.notnull()\n",
    "condition_price_null =  data.price_aprox_usd.isnull()\n",
    "condition_price_per_m2_notnull = data.price_usd_per_m2.notnull()\n",
    "mask_prices_imput = condition_surfaces_null & condition_price_notnull & condition_price_per_m2_notnull\n",
    "data_prices_imput = data[mask_prices_imput]\n",
    "\n",
    "print (\"Cantidad de instancias de price_aprox_usd a imputar= \", data_prices_imput.shape[0])"
   ]
  },
  {
   "cell_type": "markdown",
   "id": "0a562348",
   "metadata": {},
   "source": [
    "### Obtencion de price_usd_per_m2 mediante imputacion directa en funcion de surface y price"
   ]
  },
  {
   "cell_type": "markdown",
   "id": "d73c2630",
   "metadata": {},
   "source": [
    "##### El valor de price_usd_per_m2 se obtiene mediante la formula **price_usd_per_m2 = price_aprox_in_usd / surface_total_in_m2**"
   ]
  },
  {
   "cell_type": "code",
   "execution_count": 76,
   "id": "32b3be45",
   "metadata": {},
   "outputs": [
    {
     "name": "stdout",
     "output_type": "stream",
     "text": [
      "Cantidad de instancias de price_usd_per_m2 a imputar=  2826\n"
     ]
    }
   ],
   "source": [
    "# Se obtiene un dataframe con los valores no nulos de cualquiera de las dos surfaces, no nulos de price_aprox_usd y nulos de price_usd_per_m2\n",
    "condition_surfaces_notnull = data.surface_total_in_m2.notnull() | data.surface_covered_in_m2.notnull()\n",
    "condition_price_notnull = data.price_aprox_usd.notnull()\n",
    "condition_price_per_m2_null = data.price_usd_per_m2.isnull()\n",
    "mask_prices_per_m2_imput = condition_surfaces_notnull & condition_price_notnull & condition_price_per_m2_null\n",
    "data_prices_per_m2_imput = data[mask_prices_per_m2_imput]\n",
    "\n",
    "print (\"Cantidad de instancias de price_usd_per_m2 a imputar= \", data_prices_per_m2_imput.shape[0])"
   ]
  },
  {
   "cell_type": "code",
   "execution_count": 77,
   "id": "5f6c34bc",
   "metadata": {},
   "outputs": [],
   "source": [
    "# Se imputa el valor de price_usd_per_m2 como price_usd_per_m2 = price_aprox_usd / surface_total_in_m2\n",
    "data.loc[data_prices_per_m2_imput.index,\"price_usd_per_m2\"] = data.loc[data_prices_per_m2_imput.index, \"price_aprox_usd\"] / data.loc[data_prices_per_m2_imput.index, \"surface_total_in_m2\"]"
   ]
  },
  {
   "cell_type": "markdown",
   "id": "fcfccbd3",
   "metadata": {},
   "source": [
    "# Imputacion por medias condicionadas"
   ]
  },
  {
   "cell_type": "markdown",
   "id": "39e2ac6f",
   "metadata": {},
   "source": [
    "## Obtencion de surface_covered_in_m2 y surface_total-in_m2 por medias condicionadas en funcion de las rooms, del state_name y del property_type"
   ]
  },
  {
   "cell_type": "code",
   "execution_count": 78,
   "id": "5e2a2987",
   "metadata": {},
   "outputs": [
    {
     "name": "stdout",
     "output_type": "stream",
     "text": [
      "Cantidad de instancias con las que se va a hacer el groupby=  66812\n",
      "Cantiedad de nulos en surface_covered_in_m2 (en data_surfaces_imput) =  3527\n",
      "Cantiedad de nulos en surface_total_in_m2 (en data_surfaces_imput)=  3527\n"
     ]
    }
   ],
   "source": [
    "#Obtengo un dataframe con las instancias que tengan las rooms no nulos, state_name no nulo y property_type no nulo\n",
    "data_surfaces_imput = data[data.rooms.notnull() & data.state_name.notnull() & data.property_type.notnull()]\n",
    "\n",
    "print(\"Cantidad de instancias con las que se va a hacer el groupby= \", data_surfaces_imput.shape[0])\n",
    "print(\"Cantiedad de nulos en surface_covered_in_m2 (en data_surfaces_imput) = \", data_surfaces_imput.surface_covered_in_m2.isnull().sum())\n",
    "print(\"Cantiedad de nulos en surface_total_in_m2 (en data_surfaces_imput)= \", data_surfaces_imput.surface_total_in_m2.isnull().sum())"
   ]
  },
  {
   "cell_type": "code",
   "execution_count": 79,
   "id": "423d4aab",
   "metadata": {},
   "outputs": [
    {
     "data": {
      "text/plain": [
       "property_type  state_name                    rooms  \n",
       "PH             Capital Federal               2.0          51.496241\n",
       "apartment      Capital Federal               2.0          52.668151\n",
       "PH             Capital Federal               3.0          79.983607\n",
       "apartment      Buenos Aires Costa Atlántica  2.0         425.600765\n",
       "house          Bs.As. G.B.A. Zona Norte      1.0         211.633333\n",
       "                                                           ...     \n",
       "store          Córdoba                       5.0         120.000000\n",
       "house          Córdoba                       28.0        625.000000\n",
       "PH             Buenos Aires Interior         6.0         170.000000\n",
       "apartment      Capital Federal               20173.0      63.000000\n",
       "               Córdoba                       18.0       1300.000000\n",
       "Name: surface_covered_in_m2, Length: 347, dtype: float64"
      ]
     },
     "execution_count": 79,
     "metadata": {},
     "output_type": "execute_result"
    }
   ],
   "source": [
    "# Se realiza un groupby para obtener la media de surface_covered_in_m2 en funcion de property_type , state_name y rooms\n",
    "data_surfaces_imput_groupby = data_surfaces_imput.groupby(by = [\"property_type\" , \"state_name\" ,\"rooms\"], sort=False)[\"surface_covered_in_m2\"].mean()\n",
    "data_surfaces_imput_groupby"
   ]
  },
  {
   "cell_type": "code",
   "execution_count": 80,
   "id": "32994290",
   "metadata": {},
   "outputs": [
    {
     "name": "stdout",
     "output_type": "stream",
     "text": [
      "Cantiedad de nulos en surface_covered_in_m2 (en data_surfaces_imput) =  10\n"
     ]
    },
    {
     "name": "stderr",
     "output_type": "stream",
     "text": [
      "C:\\Users\\gtoso\\AppData\\Local\\Temp\\ipykernel_18428\\2139668526.py:2: SettingWithCopyWarning: \n",
      "A value is trying to be set on a copy of a slice from a DataFrame.\n",
      "Try using .loc[row_indexer,col_indexer] = value instead\n",
      "\n",
      "See the caveats in the documentation: https://pandas.pydata.org/pandas-docs/stable/user_guide/indexing.html#returning-a-view-versus-a-copy\n",
      "  data_surfaces_imput[\"surface_covered_in_m2\"] = data_surfaces_imput.groupby([\"property_type\" , \"state_name\" ,\"rooms\"], sort=False)[\"surface_covered_in_m2\"].apply(lambda x: x.fillna(x.mean()))\n"
     ]
    }
   ],
   "source": [
    "# Se realiza un groupby para obtener la media de surface_covered_in_m2 en funcion de property_type , state_name y rooms, imputandolo en los nulos de surface_covered_in_m2 del dataframe data_surfaces_imput\n",
    "data_surfaces_imput[\"surface_covered_in_m2\"] = data_surfaces_imput.groupby([\"property_type\" , \"state_name\" ,\"rooms\"], sort=False)[\"surface_covered_in_m2\"].apply(lambda x: x.fillna(x.mean()))\n",
    "print(\"Cantiedad de nulos en surface_covered_in_m2 (en data_surfaces_imput) = \", data_surfaces_imput.surface_covered_in_m2.isnull().sum())"
   ]
  },
  {
   "cell_type": "markdown",
   "id": "ebc2699b",
   "metadata": {},
   "source": [
    "## Obtencion de rooms por medias condicionadas en funcion de la surface_covered_in_m2 y del state_name"
   ]
  },
  {
   "cell_type": "markdown",
   "id": "f0433b2f",
   "metadata": {},
   "source": [
    "##### Primero se discretiza la variable surface_covered_in_m2 en cuatro categorias"
   ]
  },
  {
   "cell_type": "code",
   "execution_count": 81,
   "id": "276691b4",
   "metadata": {},
   "outputs": [],
   "source": [
    "# Con qcut se discretiza la columa surface_covered_in_m2, creando una serie\n",
    "serie_surfaces_category = pd.qcut(data.surface_covered_in_m2, 4,labels = [\"chico\",\"mediano\",\"grande\",\"muy_grande\"])"
   ]
  },
  {
   "cell_type": "code",
   "execution_count": 82,
   "id": "a45666b4",
   "metadata": {},
   "outputs": [],
   "source": [
    "# Se crea un dataframe auxiliar y se le inserta la serie serie_surfaces_category\n",
    "data_aux = data.copy()\n",
    "data_aux.insert(12,\"surface_category\",serie_surfaces_category)"
   ]
  },
  {
   "cell_type": "code",
   "execution_count": 83,
   "id": "877ba88e",
   "metadata": {},
   "outputs": [
    {
     "name": "stdout",
     "output_type": "stream",
     "text": [
      "Cantidad de instancias con las que se va a hacer el groupby=  108478\n",
      "Cantidad de nulos en rooms (en data_rooms_imput)=  45193\n"
     ]
    }
   ],
   "source": [
    "# Se obtiene un dataframe con las instancias donde surface_category sea no nulo, state_name no nulo y property_type no nulo\n",
    "data_rooms_imput = data_aux[data_aux.surface_category.notnull() & data_aux.state_name.notnull() & data_aux.property_type.notnull()]\n",
    "\n",
    "print(\"Cantidad de instancias con las que se va a hacer el groupby= \", data_rooms_imput.shape[0])\n",
    "print(\"Cantidad de nulos en rooms (en data_rooms_imput)= \", data_rooms_imput.rooms.isnull().sum())"
   ]
  },
  {
   "cell_type": "code",
   "execution_count": 84,
   "id": "29aa0627",
   "metadata": {},
   "outputs": [
    {
     "data": {
      "text/plain": [
       "property_type  state_name                surface_category\n",
       "PH             Bs.As. G.B.A. Zona Norte  chico               2.636364\n",
       "                                         mediano             2.790000\n",
       "                                         grande              3.468439\n",
       "                                         muy_grande          4.500000\n",
       "               Bs.As. G.B.A. Zona Oeste  chico               2.614754\n",
       "                                                               ...   \n",
       "store          Córdoba                   muy_grande          4.833333\n",
       "               Santa Fe                  chico               2.000000\n",
       "                                         mediano                  NaN\n",
       "                                         grande                   NaN\n",
       "                                         muy_grande          8.000000\n",
       "Name: rooms, Length: 128, dtype: float64"
      ]
     },
     "execution_count": 84,
     "metadata": {},
     "output_type": "execute_result"
    }
   ],
   "source": [
    "# Se realiza un groupby para obtener la media de rooms en funcion de property_type , state_name y surface_category\n",
    "data_rooms_imput_groupby = data_rooms_imput.groupby(by = [\"property_type\" , \"state_name\" , \"surface_category\" ], sort=False)[\"rooms\"].mean()\n",
    "data_rooms_imput_groupby"
   ]
  },
  {
   "cell_type": "code",
   "execution_count": 85,
   "id": "ca3c3580",
   "metadata": {},
   "outputs": [
    {
     "name": "stdout",
     "output_type": "stream",
     "text": [
      "Cantiedad de nulos en rooms (en data_rooms_imput) =  10\n"
     ]
    },
    {
     "name": "stderr",
     "output_type": "stream",
     "text": [
      "C:\\Users\\gtoso\\AppData\\Local\\Temp\\ipykernel_18428\\3435508184.py:2: SettingWithCopyWarning: \n",
      "A value is trying to be set on a copy of a slice from a DataFrame.\n",
      "Try using .loc[row_indexer,col_indexer] = value instead\n",
      "\n",
      "See the caveats in the documentation: https://pandas.pydata.org/pandas-docs/stable/user_guide/indexing.html#returning-a-view-versus-a-copy\n",
      "  data_rooms_imput['rooms'] = data_rooms_imput.groupby([\"property_type\" , \"state_name\" , \"surface_category\"], sort=False)[\"rooms\"].apply(lambda x: x.fillna(x.mean()))\n"
     ]
    }
   ],
   "source": [
    "# Se realiza un groupby para obtener la media de rooms en funcion de property_type , state_name y surface_category, imputandolo en los nulos de rooms del dataframe data_rooms_imput\n",
    "data_rooms_imput['rooms'] = data_rooms_imput.groupby([\"property_type\" , \"state_name\" , \"surface_category\"], sort=False)[\"rooms\"].apply(lambda x: x.fillna(x.mean()))\n",
    "print(\"Cantiedad de nulos en rooms (en data_rooms_imput) = \", data_surfaces_imput.surface_covered_in_m2.isnull().sum())"
   ]
  },
  {
   "cell_type": "markdown",
   "id": "c9b398d9",
   "metadata": {},
   "source": [
    "### Imputacion en data de rooms y surface_covered_in_m2 provenientes de los dataframe data_rooms_imput y data_surfaces_imput"
   ]
  },
  {
   "cell_type": "code",
   "execution_count": 86,
   "id": "a668eb44",
   "metadata": {},
   "outputs": [
    {
     "data": {
      "text/plain": [
       "operation                     0\n",
       "property_type                 0\n",
       "country_name                  0\n",
       "state_name                    0\n",
       "city_name                  4422\n",
       "neighborhood_name         75909\n",
       "geonames_id               18527\n",
       "lat                       48639\n",
       "lon                       48639\n",
       "price_aprox_usd           17464\n",
       "surface_total_in_m2        3693\n",
       "surface_covered_in_m2      3693\n",
       "price_usd_per_m2          22564\n",
       "floor                    113622\n",
       "rooms                      3753\n",
       "expenses                 101752\n",
       "description                   2\n",
       "title                         0\n",
       "dtype: int64"
      ]
     },
     "execution_count": 86,
     "metadata": {},
     "output_type": "execute_result"
    }
   ],
   "source": [
    "# Imputacion en data de rooms y surface_covered_in_m2 de los dataframe data_rooms_imput y data_surfaces_imput\n",
    "data.loc[data_rooms_imput.index,\"rooms\"] = data_rooms_imput.loc[data_rooms_imput.index,\"rooms\"]\n",
    "data.loc[data_surfaces_imput.index,[\"surface_covered_in_m2\",\"surface_total_in_m2\"]] = data_surfaces_imput.loc[data_surfaces_imput.index,\"surface_covered_in_m2\"]\n",
    "data.isnull().sum()"
   ]
  },
  {
   "cell_type": "markdown",
   "id": "f61fcb7a",
   "metadata": {},
   "source": [
    "## Obtencion de latitud, longitud por media condicionada"
   ]
  },
  {
   "cell_type": "markdown",
   "id": "e02e18f8",
   "metadata": {},
   "source": [
    "##### *Se van a realizar tres groupby por cada variable, ya que hay instancias en las que la variable neighborhood_name y otras en las que city_name tambien es nula. Realizandolo de esta forma se obtiene la maxima precision posible* "
   ]
  },
  {
   "cell_type": "code",
   "execution_count": 87,
   "id": "fe036bd5",
   "metadata": {},
   "outputs": [],
   "source": [
    "# Se obtienen tres dataframe con las instancias con las que se van a realizar los groupby\n",
    "data_city_neig_groupby = data[ data.city_name.notnull() & data.neighborhood_name.notnull()]\n",
    "data_city_groupby = data[ data.city_name.notnull() & data.neighborhood_name.isnull()]\n",
    "data_groupby = data[data.city_name.isnull() & data.neighborhood_name.isnull()]"
   ]
  },
  {
   "cell_type": "code",
   "execution_count": 88,
   "id": "aaf21e5c",
   "metadata": {},
   "outputs": [
    {
     "name": "stderr",
     "output_type": "stream",
     "text": [
      "C:\\Users\\gtoso\\AppData\\Local\\Temp\\ipykernel_18428\\3561664568.py:3: SettingWithCopyWarning: \n",
      "A value is trying to be set on a copy of a slice from a DataFrame.\n",
      "Try using .loc[row_indexer,col_indexer] = value instead\n",
      "\n",
      "See the caveats in the documentation: https://pandas.pydata.org/pandas-docs/stable/user_guide/indexing.html#returning-a-view-versus-a-copy\n",
      "  data_city_neig_groupby['lat'] = data_city_neig_groupby.groupby([\"state_name\" , \"city_name\" , \"neighborhood_name\"], sort=False)[\"lat\"].apply(lambda x: x.fillna(x.mean()))\n",
      "C:\\Users\\gtoso\\AppData\\Local\\Temp\\ipykernel_18428\\3561664568.py:4: SettingWithCopyWarning: \n",
      "A value is trying to be set on a copy of a slice from a DataFrame.\n",
      "Try using .loc[row_indexer,col_indexer] = value instead\n",
      "\n",
      "See the caveats in the documentation: https://pandas.pydata.org/pandas-docs/stable/user_guide/indexing.html#returning-a-view-versus-a-copy\n",
      "  data_city_groupby['lat'] = data_city_groupby.groupby([\"state_name\" , \"city_name\"], sort=False)[\"lat\"].apply(lambda x: x.fillna(x.mean()))\n",
      "C:\\Users\\gtoso\\AppData\\Local\\Temp\\ipykernel_18428\\3561664568.py:5: SettingWithCopyWarning: \n",
      "A value is trying to be set on a copy of a slice from a DataFrame.\n",
      "Try using .loc[row_indexer,col_indexer] = value instead\n",
      "\n",
      "See the caveats in the documentation: https://pandas.pydata.org/pandas-docs/stable/user_guide/indexing.html#returning-a-view-versus-a-copy\n",
      "  data_groupby['lat'] = data_groupby.groupby([\"state_name\"], sort=False)[\"lat\"].apply(lambda x: x.fillna(x.mean()))\n",
      "C:\\Users\\gtoso\\AppData\\Local\\Temp\\ipykernel_18428\\3561664568.py:9: SettingWithCopyWarning: \n",
      "A value is trying to be set on a copy of a slice from a DataFrame.\n",
      "Try using .loc[row_indexer,col_indexer] = value instead\n",
      "\n",
      "See the caveats in the documentation: https://pandas.pydata.org/pandas-docs/stable/user_guide/indexing.html#returning-a-view-versus-a-copy\n",
      "  data_city_neig_groupby['lon'] = data_city_neig_groupby.groupby([\"state_name\" , \"city_name\" , \"neighborhood_name\"], sort=False)[\"lon\"].apply(lambda x: x.fillna(x.mean()))\n",
      "C:\\Users\\gtoso\\AppData\\Local\\Temp\\ipykernel_18428\\3561664568.py:10: SettingWithCopyWarning: \n",
      "A value is trying to be set on a copy of a slice from a DataFrame.\n",
      "Try using .loc[row_indexer,col_indexer] = value instead\n",
      "\n",
      "See the caveats in the documentation: https://pandas.pydata.org/pandas-docs/stable/user_guide/indexing.html#returning-a-view-versus-a-copy\n",
      "  data_city_groupby['lon'] = data_city_groupby.groupby([\"state_name\" , \"city_name\"], sort=False)[\"lon\"].apply(lambda x: x.fillna(x.mean()))\n",
      "C:\\Users\\gtoso\\AppData\\Local\\Temp\\ipykernel_18428\\3561664568.py:11: SettingWithCopyWarning: \n",
      "A value is trying to be set on a copy of a slice from a DataFrame.\n",
      "Try using .loc[row_indexer,col_indexer] = value instead\n",
      "\n",
      "See the caveats in the documentation: https://pandas.pydata.org/pandas-docs/stable/user_guide/indexing.html#returning-a-view-versus-a-copy\n",
      "  data_groupby['lon'] = data_groupby.groupby([\"state_name\"], sort=False)[\"lon\"].apply(lambda x: x.fillna(x.mean()))\n"
     ]
    }
   ],
   "source": [
    "# Se realizan los tres groupby para obtener la media lat en funcion de state_name , city_name y neighborhood_name (segun sea el caso)...\n",
    "# ... imputandolo en los nulos de lat de los dataframes data_city_neig_groupby, data_city_groupby, data_groupby, segun corresponda \n",
    "data_city_neig_groupby['lat'] = data_city_neig_groupby.groupby([\"state_name\" , \"city_name\" , \"neighborhood_name\"], sort=False)[\"lat\"].apply(lambda x: x.fillna(x.mean()))\n",
    "data_city_groupby['lat'] = data_city_groupby.groupby([\"state_name\" , \"city_name\"], sort=False)[\"lat\"].apply(lambda x: x.fillna(x.mean()))\n",
    "data_groupby['lat'] = data_groupby.groupby([\"state_name\"], sort=False)[\"lat\"].apply(lambda x: x.fillna(x.mean()))\n",
    "\n",
    "# Se realizan los tres groupby para obtener la media lon en funcion de state_name , city_name y neighborhood_name (segun sea el caso)...\n",
    "# ... imputandolo en los nulos de lon de los dataframes data_city_neig_groupby, data_city_groupby, data_groupby, segun corresponda \n",
    "data_city_neig_groupby['lon'] = data_city_neig_groupby.groupby([\"state_name\" , \"city_name\" , \"neighborhood_name\"], sort=False)[\"lon\"].apply(lambda x: x.fillna(x.mean()))\n",
    "data_city_groupby['lon'] = data_city_groupby.groupby([\"state_name\" , \"city_name\"], sort=False)[\"lon\"].apply(lambda x: x.fillna(x.mean()))\n",
    "data_groupby['lon'] = data_groupby.groupby([\"state_name\"], sort=False)[\"lon\"].apply(lambda x: x.fillna(x.mean()))"
   ]
  },
  {
   "cell_type": "code",
   "execution_count": 89,
   "id": "e00fbc41",
   "metadata": {},
   "outputs": [],
   "source": [
    "# Imputacion en data de lat de los dataframe data_city_neig_groupby, data_city_groupby, data_groupby\n",
    "data.loc[data_city_neig_groupby.index,\"lat\"] = data_city_neig_groupby.loc[data_city_neig_groupby.index,\"lat\"]\n",
    "data.loc[data_city_groupby.index,\"lat\"] = data_city_groupby.loc[data_city_groupby.index,\"lat\"]\n",
    "data.loc[data_groupby.index,\"lat\"] = data_groupby.loc[data_groupby.index,\"lat\"]\n",
    "\n",
    "# Imputacion en data de lon de los dataframe data_city_neig_groupby, data_city_groupby, data_groupby\n",
    "data.loc[data_city_neig_groupby.index,\"lon\"] = data_city_neig_groupby.loc[data_city_neig_groupby.index,\"lon\"]\n",
    "data.loc[data_city_groupby.index,\"lon\"] = data_city_groupby.loc[data_city_groupby.index,\"lon\"]\n",
    "data.loc[data_groupby.index,\"lon\"] = data_groupby.loc[data_groupby.index,\"lon\"]"
   ]
  },
  {
   "cell_type": "markdown",
   "id": "ec9bc872",
   "metadata": {},
   "source": [
    "# Descarte de instancias con variables nulas"
   ]
  },
  {
   "cell_type": "code",
   "execution_count": 90,
   "id": "40510c53",
   "metadata": {},
   "outputs": [],
   "source": [
    "# Se vuelve a transformar instancias con valor cero a nulo\n",
    "# Se reemplazan los ceros por NaN\n",
    "data[data==0] = np.nan"
   ]
  },
  {
   "cell_type": "code",
   "execution_count": 91,
   "id": "991e4384",
   "metadata": {},
   "outputs": [
    {
     "data": {
      "text/plain": [
       "Int64Index([     0,      1,      2,      3,      4,      6,      7,      8,\n",
       "                 9,     10,\n",
       "            ...\n",
       "            121203, 121204, 121205, 121206, 121209, 121215, 121216, 121217,\n",
       "            121218, 121219],\n",
       "           dtype='int64', length=93018)"
      ]
     },
     "execution_count": 91,
     "metadata": {},
     "output_type": "execute_result"
    }
   ],
   "source": [
    "# Se descartan las instancias que contengan valores nulos en price_aprox_usd, price_usde_per_m2, surface_total_in_m2, \n",
    "data = data [data.price_aprox_usd.notnull() & data.price_usd_per_m2.notnull() & data.surface_total_in_m2.notnull() & data.rooms.notnull()]\n",
    "data.index"
   ]
  },
  {
   "cell_type": "markdown",
   "id": "e809a7f5",
   "metadata": {},
   "source": [
    "# Deteccion de outliers"
   ]
  },
  {
   "cell_type": "markdown",
   "id": "c95a4fe6",
   "metadata": {},
   "source": [
    "## Deteccion de outliers en surface_covered_in_m2"
   ]
  },
  {
   "cell_type": "code",
   "execution_count": 92,
   "id": "b289102e",
   "metadata": {},
   "outputs": [],
   "source": [
    "# Se crea una serie con los valores de surface_covered_in_m2 y luego se la ordena de menor a mayor\n",
    "data_surface_covered_in_m2 = data.surface_covered_in_m2\n",
    "data_surface_covered_in_m2_sort = np.sort(data_surface_covered_in_m2) "
   ]
  },
  {
   "cell_type": "code",
   "execution_count": 93,
   "id": "ce53a534",
   "metadata": {},
   "outputs": [
    {
     "name": "stdout",
     "output_type": "stream",
     "text": [
      "Q1 25 percentile of the given data_surface_covered_in_m2_sort is,  44.0\n",
      "Q2 50 percentile of the given data_surface_covered_in_m2_sort is,  72.0\n",
      "Q3 75 percentile of the given data_surface_covered_in_m2_sort is,  150.0\n",
      "Interquartile range is 106.0\n"
     ]
    }
   ],
   "source": [
    "Q1 = np.percentile(data_surface_covered_in_m2_sort, 25, interpolation = 'midpoint')  \n",
    "Q2 = np.percentile(data_surface_covered_in_m2_sort, 50, interpolation = 'midpoint')  \n",
    "Q3 = np.percentile(data_surface_covered_in_m2_sort, 75, interpolation = 'midpoint')  \n",
    "  \n",
    "print('Q1 25 percentile of the given data_surface_covered_in_m2_sort is, ', Q1) \n",
    "print('Q2 50 percentile of the given data_surface_covered_in_m2_sort is, ', Q2) \n",
    "print('Q3 75 percentile of the given data_surface_covered_in_m2_sort is, ', Q3) \n",
    "  \n",
    "IQR = Q3 - Q1  \n",
    "print('Interquartile range is', IQR) "
   ]
  },
  {
   "cell_type": "code",
   "execution_count": 94,
   "id": "d276e10c",
   "metadata": {},
   "outputs": [
    {
     "name": "stdout",
     "output_type": "stream",
     "text": [
      "low_limit is -115.0\n",
      "up_limit is 415.0\n"
     ]
    }
   ],
   "source": [
    "low_lim = Q1 - 1.5 * IQR \n",
    "up_lim = Q3 + 2.5 * IQR \n",
    "print('low_limit is', low_lim) \n",
    "print('up_limit is', up_lim) "
   ]
  },
  {
   "cell_type": "markdown",
   "id": "5a2fdae8",
   "metadata": {},
   "source": [
    "##### *El limite inferior se determina por condicion logica de tamaño minimo de departamento*"
   ]
  },
  {
   "cell_type": "code",
   "execution_count": 95,
   "id": "c997e250",
   "metadata": {},
   "outputs": [],
   "source": [
    "# Eliminacion de instancias en las que surface_covered_in_m2 es menor que 10 mts2\n",
    "data = data[(data.surface_covered_in_m2>10)]"
   ]
  },
  {
   "cell_type": "code",
   "execution_count": 96,
   "id": "69f4cb6a",
   "metadata": {},
   "outputs": [
    {
     "name": "stdout",
     "output_type": "stream",
     "text": [
      "La cantidad de outliers detectados es:  3223\n"
     ]
    }
   ],
   "source": [
    "# Se crea una lista donde se van imputando los valores de surface_covered_in_m2 considerados outliers\n",
    "outlier_sup =[] \n",
    "for x in data_surface_covered_in_m2_sort: \n",
    "    if (x> up_lim): \n",
    "         outlier_sup.append(x) \n",
    "print(\"La cantidad de outliers detectados es: \",len(outlier_sup))"
   ]
  },
  {
   "cell_type": "code",
   "execution_count": 97,
   "id": "891b23d6",
   "metadata": {},
   "outputs": [],
   "source": [
    "# Se descartan de data los outliers de surface_covered_in_m2\n",
    "mask_surface_covered_in_m2_sup = data.surface_covered_in_m2 < min(outlier_sup)\n",
    "data = data[mask_surface_covered_in_m2_sup]"
   ]
  },
  {
   "cell_type": "markdown",
   "id": "dd16fa7b",
   "metadata": {},
   "source": [
    "## Deteccion de outliers en surface_total_in_m2"
   ]
  },
  {
   "cell_type": "code",
   "execution_count": 98,
   "id": "9c017b3e",
   "metadata": {},
   "outputs": [],
   "source": [
    "# Se crea una serie con los valores de surface_total_in_m2 y luego se la ordena de menor a mayor\n",
    "data_surface_total_in_m2 = data.surface_total_in_m2\n",
    "data_surface_total_in_m2_sort = np.sort(data_surface_total_in_m2) "
   ]
  },
  {
   "cell_type": "code",
   "execution_count": 99,
   "id": "01eba461",
   "metadata": {},
   "outputs": [
    {
     "name": "stdout",
     "output_type": "stream",
     "text": [
      "Q1 25 percentile of the given data_surface_total_in_m2_sort is,  45.0\n",
      "Q2 50 percentile of the given data_surface_total_in_m2_sort is,  72.0\n",
      "Q3 75 percentile of the given data_surface_total_in_m2_sort is,  150.0\n",
      "Interquartile range is 105.0\n"
     ]
    }
   ],
   "source": [
    "Q1 = np.percentile(data_surface_total_in_m2_sort, 25, interpolation = 'midpoint')  \n",
    "Q2 = np.percentile(data_surface_total_in_m2_sort, 50, interpolation = 'midpoint')  \n",
    "Q3 = np.percentile(data_surface_total_in_m2_sort, 75, interpolation = 'midpoint')  \n",
    "  \n",
    "print('Q1 25 percentile of the given data_surface_total_in_m2_sort is, ', Q1) \n",
    "print('Q2 50 percentile of the given data_surface_total_in_m2_sort is, ', Q2) \n",
    "print('Q3 75 percentile of the given data_surface_total_in_m2_sort is, ', Q3) \n",
    "  \n",
    "IQR = Q3 - Q1  \n",
    "print('Interquartile range is', IQR) "
   ]
  },
  {
   "cell_type": "code",
   "execution_count": 100,
   "id": "c567d0df",
   "metadata": {},
   "outputs": [
    {
     "name": "stdout",
     "output_type": "stream",
     "text": [
      "low_limit is -112.5\n",
      "up_limit is 412.5\n"
     ]
    }
   ],
   "source": [
    "low_lim = Q1 - 1.5 * IQR \n",
    "up_lim = Q3 + 2.5 * IQR \n",
    "print('low_limit is', low_lim) \n",
    "print('up_limit is', up_lim) "
   ]
  },
  {
   "cell_type": "markdown",
   "id": "62fc7a75",
   "metadata": {},
   "source": [
    "##### *El limite inferior se determina por condicion logica de tamaño minimo de departamento*"
   ]
  },
  {
   "cell_type": "code",
   "execution_count": 101,
   "id": "4b005b0e",
   "metadata": {},
   "outputs": [],
   "source": [
    "# Eliminacion de instancias en las que surface_total_in_m2 es menor que 10 mts2\n",
    "data = data[data.surface_total_in_m2 > 10]"
   ]
  },
  {
   "cell_type": "code",
   "execution_count": 102,
   "id": "0acfc1a4",
   "metadata": {},
   "outputs": [
    {
     "name": "stdout",
     "output_type": "stream",
     "text": [
      "La cantidad de outliers detectados es:  2653\n"
     ]
    }
   ],
   "source": [
    "# Se crea una lista donde se van imputando los valores de surface_total_in_m2 considerados outliers\n",
    "outlier_sup =[] \n",
    "for x in data_surface_total_in_m2_sort: \n",
    "    if (x> up_lim): \n",
    "         outlier_sup.append(x) \n",
    "print(\"La cantidad de outliers detectados es: \",len(outlier_sup))"
   ]
  },
  {
   "cell_type": "code",
   "execution_count": 103,
   "id": "454e9cf5",
   "metadata": {},
   "outputs": [],
   "source": [
    "# Se descartan de data los outliers de surface_total_in_m2\n",
    "mask_surface_total_in_m2_sup = data.surface_total_in_m2 < min(outlier_sup)\n",
    "data = data[mask_surface_total_in_m2_sup]"
   ]
  },
  {
   "cell_type": "code",
   "execution_count": null,
   "id": "f1964b4e",
   "metadata": {},
   "outputs": [],
   "source": []
  },
  {
   "cell_type": "code",
   "execution_count": null,
   "id": "4d18eda7",
   "metadata": {},
   "outputs": [],
   "source": []
  },
  {
   "cell_type": "code",
   "execution_count": null,
   "id": "d5e9257e",
   "metadata": {},
   "outputs": [],
   "source": []
  },
  {
   "cell_type": "code",
   "execution_count": null,
   "id": "6ade72b6",
   "metadata": {},
   "outputs": [],
   "source": []
  },
  {
   "cell_type": "code",
   "execution_count": null,
   "id": "9e94941f",
   "metadata": {},
   "outputs": [],
   "source": []
  },
  {
   "cell_type": "code",
   "execution_count": null,
   "id": "f2e99005",
   "metadata": {},
   "outputs": [],
   "source": []
  },
  {
   "cell_type": "markdown",
   "id": "f3784e65",
   "metadata": {},
   "source": [
    "## Deteccion de outliers en rooms"
   ]
  },
  {
   "cell_type": "code",
   "execution_count": null,
   "id": "3217ba0a",
   "metadata": {},
   "outputs": [],
   "source": []
  },
  {
   "cell_type": "code",
   "execution_count": 104,
   "id": "f83fd420",
   "metadata": {},
   "outputs": [
    {
     "data": {
      "text/plain": [
       "0         0.050000\n",
       "2         0.036364\n",
       "4         0.057143\n",
       "6         0.044467\n",
       "7         0.048681\n",
       "            ...   \n",
       "121215    0.032258\n",
       "121216    0.035752\n",
       "121217    0.049930\n",
       "121218    0.041667\n",
       "121219    0.048581\n",
       "Length: 86188, dtype: float64"
      ]
     },
     "execution_count": 104,
     "metadata": {},
     "output_type": "execute_result"
    }
   ],
   "source": [
    "data_rooms_sup = data.rooms / data.surface_covered_in_m2\n",
    "data_rooms_sup"
   ]
  },
  {
   "cell_type": "code",
   "execution_count": 105,
   "id": "816558e8",
   "metadata": {},
   "outputs": [],
   "source": [
    "data_aux = data.copy()\n",
    "data_aux.insert(3,\"data_rooms_sup\",data_rooms_sup)"
   ]
  },
  {
   "cell_type": "code",
   "execution_count": 106,
   "id": "668ddb16",
   "metadata": {},
   "outputs": [],
   "source": [
    "data_rooms_sort = np.sort(data_rooms_sup) "
   ]
  },
  {
   "cell_type": "code",
   "execution_count": 107,
   "id": "c2a18de4",
   "metadata": {},
   "outputs": [
    {
     "name": "stdout",
     "output_type": "stream",
     "text": [
      "Q1 25 percentile of the given data_surface_covered_in_m2_sort is,  0.03\n",
      "Q2 50 percentile of the given data_surface_covered_in_m2_sort is,  0.040221036585365855\n",
      "Q3 75 percentile of the given data_surface_covered_in_m2_sort is,  0.05000695991091314\n",
      "Interquartile range is 0.02000695991091314\n"
     ]
    }
   ],
   "source": [
    "Q1 = np.percentile(data_rooms_sort, 25, interpolation = 'midpoint')  \n",
    "Q2 = np.percentile(data_rooms_sort, 50, interpolation = 'midpoint')  \n",
    "Q3 = np.percentile(data_rooms_sort, 75, interpolation = 'midpoint')  \n",
    "  \n",
    "print('Q1 25 percentile of the given data_surface_covered_in_m2_sort is, ', Q1) \n",
    "print('Q2 50 percentile of the given data_surface_covered_in_m2_sort is, ', Q2) \n",
    "print('Q3 75 percentile of the given data_surface_covered_in_m2_sort is, ', Q3) \n",
    "  \n",
    "IQR = Q3 - Q1  \n",
    "print('Interquartile range is', IQR) "
   ]
  },
  {
   "cell_type": "code",
   "execution_count": 108,
   "id": "fef01580",
   "metadata": {},
   "outputs": [
    {
     "name": "stdout",
     "output_type": "stream",
     "text": [
      "low_limit is -1.0439866369713058e-05\n",
      "up_limit is 0.08001739977728285\n"
     ]
    }
   ],
   "source": [
    "low_lim = Q1 - 1.5 * IQR \n",
    "up_lim = Q3 + 1.5 * IQR \n",
    "print('low_limit is', low_lim) \n",
    "print('up_limit is', up_lim) "
   ]
  },
  {
   "cell_type": "code",
   "execution_count": 109,
   "id": "fc55a61a",
   "metadata": {},
   "outputs": [
    {
     "name": "stdout",
     "output_type": "stream",
     "text": [
      " outlier in the dataset is [0.08002481389578163, 0.08005181347150259, 0.08044207317073171, 0.08044207317073171, 0.08044207317073171, 0.08044207317073171, 0.08044207317073171, 0.08044207317073171, 0.08044207317073171, 0.08044207317073171, 0.08044207317073171, 0.08044207317073171, 0.08044207317073171, 0.08044207317073171, 0.08044207317073171, 0.08044207317073171, 0.08044207317073171, 0.08044207317073171, 0.08044207317073171, 0.08044207317073171, 0.08044207317073171, 0.08044207317073171, 0.08044207317073171, 0.08044207317073171, 0.08044207317073171, 0.08044207317073171, 0.08044207317073171, 0.08044207317073171, 0.08044207317073171, 0.08044207317073171, 0.08044207317073171, 0.08044207317073171, 0.08044207317073171, 0.08044207317073171, 0.08044207317073171, 0.08044207317073171, 0.08044207317073171, 0.08044207317073171, 0.08044207317073171, 0.08044207317073171, 0.08044207317073171, 0.08044207317073171, 0.08044207317073171, 0.08044207317073171, 0.08044207317073171, 0.08044207317073171, 0.08044207317073171, 0.08044207317073171, 0.08044207317073171, 0.08044207317073171, 0.08044207317073171, 0.08044207317073171, 0.08044207317073171, 0.08044207317073171, 0.08044207317073171, 0.08044207317073171, 0.08044207317073171, 0.08044207317073171, 0.08044207317073171, 0.08044207317073171, 0.08044207317073171, 0.08044207317073171, 0.08044207317073171, 0.08044207317073171, 0.08044207317073171, 0.08044207317073171, 0.08044207317073171, 0.08044207317073171, 0.08044207317073171, 0.08044207317073171, 0.08044207317073171, 0.08044207317073171, 0.08044207317073171, 0.08044207317073171, 0.08044207317073171, 0.08044207317073171, 0.08044207317073171, 0.08044207317073171, 0.08044207317073171, 0.08044207317073171, 0.08044207317073171, 0.08044207317073171, 0.08044207317073171, 0.08044207317073171, 0.08044207317073171, 0.08044207317073171, 0.08044207317073171, 0.08044207317073171, 0.08044207317073171, 0.08044207317073171, 0.08044207317073171, 0.08044207317073171, 0.08044207317073171, 0.08044207317073171, 0.08044207317073171, 0.08044207317073171, 0.08044207317073171, 0.08044207317073171, 0.08044207317073171, 0.08044207317073171, 0.08044207317073171, 0.08044207317073171, 0.08044207317073171, 0.08044207317073171, 0.08044207317073171, 0.08044207317073171, 0.08044207317073171, 0.08044207317073171, 0.08044207317073171, 0.08044207317073171, 0.08044207317073171, 0.08044207317073171, 0.08044207317073171, 0.08044207317073171, 0.08053221288515407, 0.08064516129032258, 0.08064516129032258, 0.08094799815922687, 0.08094799815922687, 0.08094799815922687, 0.08094799815922687, 0.08095238095238096, 0.08108108108108109, 0.08108108108108109, 0.08108108108108109, 0.08108108108108109, 0.08108108108108109, 0.08108108108108109, 0.08108108108108109, 0.08108108108108109, 0.08108108108108109, 0.08108108108108109, 0.08108108108108109, 0.08108108108108109, 0.08108108108108109, 0.08108108108108109, 0.08108108108108109, 0.08108108108108109, 0.08108108108108109, 0.08108108108108109, 0.08108108108108109, 0.08108108108108109, 0.08108108108108109, 0.08108108108108109, 0.08108108108108109, 0.08108108108108109, 0.08108108108108109, 0.08108108108108109, 0.08108108108108109, 0.08108108108108109, 0.08113556444767794, 0.08113556444767794, 0.08113556444767794, 0.08113556444767794, 0.08113556444767794, 0.08113556444767794, 0.08113556444767794, 0.08113556444767794, 0.08113556444767794, 0.08113556444767794, 0.08113556444767794, 0.08113556444767794, 0.08113556444767794, 0.08113556444767794, 0.08113556444767794, 0.08113556444767794, 0.08113556444767794, 0.08113556444767794, 0.08113556444767794, 0.08113556444767794, 0.08113556444767794, 0.08113556444767794, 0.08113556444767794, 0.08114285714285714, 0.08114285714285714, 0.08114285714285714, 0.08114285714285714, 0.08114285714285714, 0.08114285714285714, 0.08114285714285714, 0.08114285714285714, 0.08114285714285714, 0.08114285714285714, 0.08125, 0.08146032726150046, 0.08146032726150046, 0.08146032726150046, 0.08146032726150046, 0.08146032726150046, 0.08146032726150046, 0.08146032726150046, 0.08146032726150046, 0.08146032726150046, 0.08146032726150046, 0.08146032726150046, 0.08159392789373814, 0.08163265306122448, 0.08163265306122448, 0.08163265306122448, 0.08163265306122448, 0.08163265306122448, 0.08163265306122448, 0.08163265306122448, 0.08163265306122448, 0.08163265306122448, 0.08163265306122448, 0.08163265306122448, 0.08163265306122448, 0.08163265306122448, 0.08163265306122448, 0.08163265306122448, 0.08163265306122448, 0.08163265306122448, 0.08163265306122448, 0.08163265306122448, 0.08163265306122448, 0.08163265306122448, 0.08163265306122448, 0.08163265306122448, 0.08163265306122448, 0.08163265306122448, 0.08163265306122448, 0.08163265306122448, 0.08163265306122448, 0.08163265306122448, 0.08163265306122448, 0.08163265306122448, 0.08163265306122448, 0.08163265306122448, 0.08163265306122448, 0.08163265306122448, 0.08163265306122448, 0.08163265306122448, 0.08163265306122448, 0.08163265306122448, 0.08163265306122448, 0.08174460431654676, 0.08174460431654676, 0.08174460431654676, 0.08174460431654676, 0.08174460431654676, 0.08174460431654676, 0.08181818181818182, 0.08181818181818182, 0.08196721311475409, 0.08197918284915333, 0.08197918284915333, 0.08197918284915333, 0.08197918284915333, 0.08197918284915333, 0.08197918284915333, 0.08197918284915333, 0.0823045267489712, 0.08235294117647059, 0.08238636363636363, 0.08247422680412371, 0.08249999999999999, 0.0825046904315197, 0.0825046904315197, 0.0825046904315197, 0.0825046904315197, 0.0825046904315197, 0.0825046904315197, 0.0825046904315197, 0.0825046904315197, 0.0825046904315197, 0.0825046904315197, 0.0825046904315197, 0.0825046904315197, 0.0825046904315197, 0.0825046904315197, 0.0825046904315197, 0.0825046904315197, 0.0825046904315197, 0.0825046904315197, 0.0825046904315197, 0.0825046904315197, 0.0825046904315197, 0.0825046904315197, 0.08264462809917356, 0.08278145695364239, 0.08280254777070063, 0.08298013245033112, 0.08298013245033112, 0.08298013245033112, 0.08298013245033112, 0.08298013245033112, 0.08298013245033112, 0.08303697875688434, 0.08303697875688434, 0.08303697875688434, 0.08303697875688434, 0.08303697875688434, 0.08303697875688434, 0.08303697875688434, 0.08303697875688434, 0.08303697875688434, 0.08303697875688434, 0.08303697875688434, 0.08303697875688434, 0.08303697875688434, 0.08303697875688434, 0.08303697875688434, 0.08303697875688434, 0.08303697875688434, 0.08303697875688434, 0.08303697875688434, 0.08303697875688434, 0.08303697875688434, 0.08303697875688434, 0.08303697875688434, 0.08303697875688434, 0.08303697875688434, 0.08303697875688434, 0.08303697875688434, 0.08303697875688434, 0.08303697875688434, 0.08303697875688434, 0.08303697875688434, 0.08303697875688434, 0.08303697875688434, 0.08303697875688434, 0.08303697875688434, 0.08303697875688434, 0.08303697875688434, 0.08303697875688434, 0.08303697875688434, 0.08306060606060606, 0.08306060606060606, 0.08306060606060606, 0.0832258064516129, 0.0832258064516129, 0.0832258064516129, 0.0832258064516129, 0.0832258064516129, 0.0832258064516129, 0.0832258064516129, 0.0832258064516129, 0.0832258064516129, 0.0832258064516129, 0.0832258064516129, 0.0832258064516129, 0.0832258064516129, 0.0832258064516129, 0.0832258064516129, 0.08333333333333333, 0.08333333333333333, 0.08333333333333333, 0.08333333333333333, 0.08333333333333333, 0.08333333333333333, 0.08333333333333333, 0.08333333333333333, 0.08333333333333333, 0.08333333333333333, 0.08333333333333333, 0.08333333333333333, 0.08333333333333333, 0.08333333333333333, 0.08333333333333333, 0.08333333333333333, 0.08333333333333333, 0.08333333333333333, 0.08333333333333333, 0.08333333333333333, 0.08333333333333333, 0.08333333333333333, 0.08333333333333333, 0.08333333333333333, 0.08333333333333333, 0.08333333333333333, 0.08333333333333333, 0.08333333333333333, 0.08333333333333333, 0.08333333333333333, 0.08333333333333333, 0.08333333333333333, 0.08333333333333333, 0.08333333333333333, 0.08333333333333333, 0.08333333333333333, 0.08333333333333333, 0.08333333333333333, 0.08333333333333333, 0.08333333333333333, 0.08333333333333333, 0.08333333333333333, 0.08333333333333333, 0.08333333333333333, 0.08333333333333333, 0.08333333333333333, 0.08333333333333333, 0.08333333333333333, 0.08333333333333333, 0.08333333333333333, 0.08333333333333333, 0.08333333333333333, 0.08333333333333333, 0.08333333333333333, 0.08333333333333333, 0.08333333333333333, 0.08333333333333333, 0.08333333333333333, 0.08333333333333333, 0.08333333333333333, 0.08333333333333333, 0.08333333333333333, 0.08333333333333333, 0.08333333333333333, 0.08333333333333333, 0.08333333333333333, 0.08333333333333333, 0.08333333333333333, 0.08333333333333333, 0.08333333333333333, 0.08333333333333333, 0.08333333333333333, 0.08333333333333333, 0.08333333333333333, 0.08333333333333333, 0.08333333333333333, 0.08333333333333333, 0.08333333333333333, 0.08333333333333333, 0.08333333333333333, 0.08333333333333333, 0.08333333333333333, 0.08333333333333333, 0.08333333333333333, 0.08333333333333333, 0.08333333333333333, 0.08333333333333333, 0.08333333333333333, 0.08333333333333333, 0.08333333333333333, 0.08333333333333333, 0.08333333333333333, 0.08333333333333333, 0.08333333333333333, 0.08333333333333333, 0.08333333333333333, 0.08333333333333333, 0.08350168350168351, 0.08350168350168351, 0.08353232710069836, 0.08353232710069836, 0.08353232710069836, 0.08357617991764334, 0.08357617991764334, 0.08357617991764334, 0.08357617991764334, 0.08357617991764334, 0.08357617991764334, 0.08357617991764334, 0.08357617991764334, 0.08357617991764334, 0.08357617991764334, 0.08357617991764334, 0.08412242945958871, 0.08412242945958871, 0.08412242945958871, 0.08412242945958871, 0.08412242945958871, 0.08412242945958871, 0.08412242945958871, 0.08412242945958871, 0.08412242945958871, 0.08412242945958871, 0.08412242945958871, 0.08412242945958871, 0.08421052631578947, 0.08421052631578947, 0.08421052631578947, 0.08421052631578947, 0.08450704225352113, 0.08450704225352113, 0.08452380952380951, 0.08452380952380951, 0.08452380952380951, 0.08452380952380951, 0.08452380952380951, 0.08452380952380951, 0.08452380952380951, 0.08452380952380951, 0.08452380952380951, 0.08452380952380951, 0.08461538461538462, 0.08461538461538462, 0.08466319768453351, 0.08466319768453351, 0.08466319768453351, 0.08466319768453351, 0.08466319768453351, 0.08466319768453351, 0.08466319768453351, 0.08466319768453351, 0.08466319768453351, 0.08466319768453351, 0.08466319768453351, 0.08466319768453351, 0.08466319768453351, 0.08466319768453351, 0.08466319768453351, 0.08466319768453351, 0.08466319768453351, 0.08467586649550707, 0.08467586649550707, 0.08467586649550707, 0.08467586649550707, 0.08467586649550707, 0.08467586649550707, 0.08467586649550707, 0.08467586649550707, 0.08467586649550707, 0.08467586649550707, 0.08467586649550707, 0.08467586649550707, 0.08467586649550707, 0.08467586649550707, 0.0847457627118644, 0.085, 0.0851063829787234, 0.0851063829787234, 0.0851063829787234, 0.0851063829787234, 0.0851063829787234, 0.0851063829787234, 0.0851063829787234, 0.0851063829787234, 0.0851063829787234, 0.0851063829787234, 0.0851063829787234, 0.0851063829787234, 0.0851063829787234, 0.0851063829787234, 0.0851063829787234, 0.0851063829787234, 0.0851063829787234, 0.0851063829787234, 0.0851063829787234, 0.0851063829787234, 0.0851063829787234, 0.0851063829787234, 0.08518518518518518, 0.08523663382329187, 0.08523663382329187, 0.08523663382329187, 0.08523663382329187, 0.08523663382329187, 0.08523663382329187, 0.08523663382329187, 0.08523663382329187, 0.08523663382329187, 0.08523663382329187, 0.08523663382329187, 0.08523663382329187, 0.08547008547008547, 0.08547008547008547, 0.08547008547008547, 0.08556547619047619, 0.08571428571428572, 0.08571428571428572, 0.08571428571428572, 0.08571428571428572, 0.08571428571428572, 0.08571428571428572, 0.08571428571428572, 0.08571428571428572, 0.08571428571428572, 0.08571428571428572, 0.08571428571428572, 0.08571428571428572, 0.08571428571428572, 0.08571428571428572, 0.08571428571428572, 0.08571428571428572, 0.08571428571428572, 0.08571428571428572, 0.08571428571428572, 0.08571428571428572, 0.08571428571428572, 0.08571428571428572, 0.08571428571428572, 0.08571428571428572, 0.08571428571428572, 0.08571428571428572, 0.08571428571428572, 0.08571428571428572, 0.08571428571428572, 0.08571428571428572, 0.08571428571428572, 0.08571428571428572, 0.08571428571428572, 0.08571428571428572, 0.08571428571428572, 0.08571428571428572, 0.08571428571428572, 0.08571428571428572, 0.08571428571428572, 0.08571428571428572, 0.08571428571428572, 0.08571428571428572, 0.08571428571428572, 0.08571428571428572, 0.08571428571428572, 0.08571428571428572, 0.08571428571428572, 0.08571428571428572, 0.08571428571428572, 0.08571428571428572, 0.08571428571428572, 0.08571428571428572, 0.08571428571428572, 0.08571428571428572, 0.08571428571428572, 0.08571428571428572, 0.08571428571428572, 0.08571428571428572, 0.08571428571428572, 0.08571428571428572, 0.08571428571428572, 0.08571428571428572, 0.08571428571428572, 0.08571428571428572, 0.08571428571428572, 0.08571428571428572, 0.08571428571428572, 0.08620689655172414, 0.08620689655172414, 0.08620689655172414, 0.08636363636363636, 0.08653846153846154, 0.08666666666666667, 0.08666666666666667, 0.08669354838709677, 0.08669354838709677, 0.08669354838709677, 0.08695652173913043, 0.08695652173913043, 0.08695652173913043, 0.08695652173913043, 0.08695652173913043, 0.08695652173913043, 0.08695652173913043, 0.08695652173913043, 0.08695652173913043, 0.08695652173913043, 0.08695652173913043, 0.08695652173913043, 0.08695652173913043, 0.08695652173913043, 0.08695652173913043, 0.08695652173913043, 0.08695652173913043, 0.08695652173913043, 0.08695652173913043, 0.08695652173913043, 0.08695652173913043, 0.08695652173913043, 0.08695652173913043, 0.08695652173913043, 0.08695652173913043, 0.08695652173913043, 0.08695652173913043, 0.08695652173913043, 0.08695652173913043, 0.08695652173913043, 0.08695652173913043, 0.08715846994535519, 0.08715846994535519, 0.08715846994535519, 0.0873015873015873, 0.0873015873015873, 0.087329251059821, 0.087329251059821, 0.08747795414462081, 0.0875, 0.0875, 0.0875, 0.0875, 0.0875, 0.0875, 0.0875, 0.0875, 0.0875, 0.0875, 0.0875, 0.0875, 0.0875, 0.0875, 0.0875, 0.0875, 0.0875, 0.0875, 0.0875, 0.08763636363636364, 0.08787878787878788, 0.08787878787878788, 0.088, 0.088, 0.0881221961119419, 0.08813160987074031, 0.08819875776397515, 0.08819875776397515, 0.08819875776397515, 0.08823529411764706, 0.08823529411764706, 0.08823529411764706, 0.08823529411764706, 0.08823529411764706, 0.08823529411764706, 0.08823529411764706, 0.08823529411764706, 0.08823529411764706, 0.08823529411764706, 0.08823529411764706, 0.08823529411764706, 0.08823529411764706, 0.08823529411764706, 0.08823529411764706, 0.08823529411764706, 0.08823529411764706, 0.08823529411764706, 0.0885115248520123, 0.0885115248520123, 0.0885115248520123, 0.0885115248520123, 0.0885115248520123, 0.0885115248520123, 0.0885115248520123, 0.0885115248520123, 0.0885115248520123, 0.0885115248520123, 0.0885115248520123, 0.0885115248520123, 0.0885115248520123, 0.0885115248520123, 0.0885115248520123, 0.0885115248520123, 0.0885115248520123, 0.0885115248520123, 0.0885115248520123, 0.08888888888888889, 0.08888888888888889, 0.08888888888888889, 0.08888888888888889, 0.08888888888888889, 0.08888888888888889, 0.08888888888888889, 0.08888888888888889, 0.08888888888888889, 0.08888888888888889, 0.08888888888888889, 0.08888888888888889, 0.08888888888888889, 0.08888888888888889, 0.08888888888888889, 0.08888888888888889, 0.08888888888888889, 0.08888888888888889, 0.08888888888888889, 0.08888888888888889, 0.08888888888888889, 0.08888888888888889, 0.08888888888888889, 0.08888888888888889, 0.08888888888888889, 0.08888888888888889, 0.08888888888888889, 0.08888888888888889, 0.08890126206384558, 0.08928571428571429, 0.08928571428571429, 0.08961919666145018, 0.08961919666145018, 0.08961919666145018, 0.08961919666145018, 0.08961919666145018, 0.08961919666145018, 0.08961919666145018, 0.08961919666145018, 0.08961919666145018, 0.08961919666145018, 0.08961919666145018, 0.08961919666145018, 0.08961919666145018, 0.08961919666145018, 0.08961919666145018, 0.08961919666145018, 0.08961919666145018, 0.08961919666145018, 0.08961919666145018, 0.08961919666145018, 0.08961919666145018, 0.08961919666145018, 0.08961919666145018, 0.08961919666145018, 0.08961919666145018, 0.08961919666145018, 0.08961919666145018, 0.08961919666145018, 0.08961919666145018, 0.08961919666145018, 0.08961919666145018, 0.08961919666145018, 0.08961919666145018, 0.08961919666145018, 0.08961919666145018, 0.08961919666145018, 0.08961919666145018, 0.08961919666145018, 0.08961919666145018, 0.08961919666145018, 0.08961919666145018, 0.08961919666145018, 0.08961919666145018, 0.08961919666145018, 0.08961919666145018, 0.08961919666145018, 0.08961919666145018, 0.08961919666145018, 0.08961919666145018, 0.08961919666145018, 0.08961919666145018, 0.08961919666145018, 0.08961919666145018, 0.08961919666145018, 0.08961919666145018, 0.08961919666145018, 0.08961919666145018, 0.08961919666145018, 0.08961919666145018, 0.08961919666145018, 0.08961919666145018, 0.08961919666145018, 0.08961919666145018, 0.08961919666145018, 0.08961919666145018, 0.08961919666145018, 0.08961919666145018, 0.08961919666145018, 0.08961919666145018, 0.08961919666145018, 0.08961919666145018, 0.08961919666145018, 0.08961919666145018, 0.08961919666145018, 0.08961919666145018, 0.08961919666145018, 0.08961919666145018, 0.08961919666145018, 0.08961919666145018, 0.08961919666145018, 0.08961919666145018, 0.08961919666145018, 0.08961919666145018, 0.08961919666145018, 0.08961919666145018, 0.08961919666145018, 0.08961919666145018, 0.08961919666145018, 0.08961919666145018, 0.08961919666145018, 0.08961919666145018, 0.08961919666145018, 0.08961919666145018, 0.08961919666145018, 0.08961919666145018, 0.08961919666145018, 0.08961919666145018, 0.08961919666145018, 0.08961919666145018, 0.08961919666145018, 0.08961919666145018, 0.08961919666145018, 0.08961919666145018, 0.08961919666145018, 0.08961919666145018, 0.08961919666145018, 0.08961919666145018, 0.08961919666145018, 0.08961919666145018, 0.08961919666145018, 0.08961919666145018, 0.08961919666145018, 0.08961919666145018, 0.08961919666145018, 0.08961919666145018, 0.08961919666145018, 0.08961919666145018, 0.08961919666145018, 0.08961919666145018, 0.08961919666145018, 0.08961919666145018, 0.08961919666145018, 0.08961919666145018, 0.08961919666145018, 0.08961919666145018, 0.08961919666145018, 0.08961919666145018, 0.08961919666145018, 0.08961919666145018, 0.08961919666145018, 0.08961919666145018, 0.08961919666145018, 0.08961919666145018, 0.08961919666145018, 0.08961919666145018, 0.08961919666145018, 0.08961919666145018, 0.08961919666145018, 0.08961919666145018, 0.08961919666145018, 0.08961919666145018, 0.08961919666145018, 0.08961919666145018, 0.08961919666145018, 0.08961919666145018, 0.08961919666145018, 0.08961919666145018, 0.08961919666145018, 0.08961919666145018, 0.08961919666145018, 0.08961919666145018, 0.08961919666145018, 0.08961919666145018, 0.08961919666145018, 0.08961919666145018, 0.08961919666145018, 0.08961919666145018, 0.08961919666145018, 0.08961919666145018, 0.08961919666145018, 0.08961919666145018, 0.08961919666145018, 0.08961919666145018, 0.08961919666145018, 0.08961919666145018, 0.08961919666145018, 0.08961919666145018, 0.08961919666145018, 0.08961919666145018, 0.08961919666145018, 0.08961919666145018, 0.08961919666145018, 0.08961919666145018, 0.08961919666145018, 0.08961919666145018, 0.08961919666145018, 0.08961919666145018, 0.08961919666145018, 0.08961919666145018, 0.08961919666145018, 0.08961919666145018, 0.08961919666145018, 0.08961919666145018, 0.08961919666145018, 0.08961919666145018, 0.08961919666145018, 0.08961919666145018, 0.08961919666145018, 0.08961919666145018, 0.08961919666145018, 0.08961919666145018, 0.08961919666145018, 0.08961919666145018, 0.08961919666145018, 0.08961919666145018, 0.08961919666145018, 0.08961919666145018, 0.08961919666145018, 0.08961919666145018, 0.08961919666145018, 0.08961919666145018, 0.08961919666145018, 0.08961919666145018, 0.08961919666145018, 0.08961919666145018, 0.08961919666145018, 0.08961919666145018, 0.08961919666145018, 0.08961919666145018, 0.08961919666145018, 0.08961919666145018, 0.08961919666145018, 0.08961919666145018, 0.08961919666145018, 0.08961919666145018, 0.08961919666145018, 0.08961919666145018, 0.08966861598440545, 0.08966861598440545, 0.08966861598440545, 0.09, 0.09016393442622951, 0.09036144578313253, 0.09090909090909091, 0.09090909090909091, 0.09090909090909091, 0.09090909090909091, 0.09090909090909091, 0.09090909090909091, 0.09090909090909091, 0.09090909090909091, 0.09090909090909091, 0.09090909090909091, 0.09090909090909091, 0.09090909090909091, 0.09090909090909091, 0.09090909090909091, 0.09090909090909091, 0.09090909090909091, 0.09090909090909091, 0.09090909090909091, 0.09090909090909091, 0.09090909090909091, 0.09090909090909091, 0.09090909090909091, 0.09090909090909091, 0.09090909090909091, 0.09090909090909091, 0.09090909090909091, 0.09090909090909091, 0.09090909090909091, 0.09090909090909091, 0.09105960264900663, 0.09136666666666667, 0.09148778682457438, 0.09165599658557405, 0.09165599658557405, 0.09165599658557405, 0.09165599658557405, 0.09165599658557405, 0.09165599658557405, 0.09165599658557405, 0.09165599658557405, 0.09165599658557405, 0.09165599658557405, 0.09165599658557405, 0.09165599658557405, 0.09165599658557405, 0.09165599658557405, 0.09165599658557405, 0.09165599658557405, 0.09165599658557405, 0.09165599658557405, 0.09165599658557405, 0.09165599658557405, 0.09165599658557405, 0.09165599658557405, 0.09165599658557405, 0.09165599658557405, 0.09165599658557405, 0.09165599658557405, 0.09165599658557405, 0.09165599658557405, 0.09165599658557405, 0.09165599658557405, 0.09165599658557405, 0.09165599658557405, 0.09165599658557405, 0.09165599658557405, 0.09165599658557405, 0.09165599658557405, 0.09165599658557405, 0.09165599658557405, 0.09165599658557405, 0.09165599658557405, 0.09165599658557405, 0.09165599658557405, 0.09165599658557405, 0.09165599658557405, 0.09165599658557405, 0.09165599658557405, 0.09165599658557405, 0.09165599658557405, 0.09165599658557405, 0.09165599658557405, 0.09165599658557405, 0.09165599658557405, 0.09165599658557405, 0.09165599658557405, 0.09165599658557405, 0.09165599658557405, 0.09165599658557405, 0.09165599658557405, 0.09165599658557405, 0.09165599658557405, 0.09165599658557405, 0.09165599658557405, 0.09165599658557405, 0.09165599658557405, 0.09165599658557405, 0.09165599658557405, 0.09165599658557405, 0.09165599658557405, 0.09165599658557405, 0.09165599658557405, 0.09165599658557405, 0.09165599658557405, 0.09165599658557405, 0.09165599658557405, 0.09165599658557405, 0.09165599658557405, 0.09165599658557405, 0.09165599658557405, 0.09165599658557405, 0.09165599658557405, 0.09165599658557405, 0.09165599658557405, 0.09165599658557405, 0.09165599658557405, 0.09165599658557405, 0.09165599658557405, 0.09165599658557405, 0.09165599658557405, 0.09165599658557405, 0.09165599658557405, 0.09165599658557405, 0.09165599658557405, 0.09165599658557405, 0.09165599658557405, 0.09165599658557405, 0.09165599658557405, 0.09165599658557405, 0.09165599658557405, 0.09165599658557405, 0.09165599658557405, 0.09165599658557405, 0.09166666666666666, 0.0922077922077922, 0.0922077922077922, 0.0922077922077922, 0.0922077922077922, 0.0922077922077922, 0.0922077922077922, 0.0922077922077922, 0.0922077922077922, 0.09230769230769231, 0.09259259259259259, 0.09259259259259259, 0.09259259259259259, 0.09259259259259259, 0.0927263593687748, 0.0927263593687748, 0.0927263593687748, 0.0927263593687748, 0.0927263593687748, 0.0927263593687748, 0.0927263593687748, 0.0927263593687748, 0.0927263593687748, 0.0927263593687748, 0.09302325581395349, 0.09302325581395349, 0.09302325581395349, 0.09302325581395349, 0.09302325581395349, 0.09302325581395349, 0.09302325581395349, 0.09302325581395349, 0.09302325581395349, 0.09322033898305085, 0.09333333333333334, 0.09336316181953766, 0.0934224049331963, 0.09375, 0.09375, 0.09375, 0.09375, 0.09375, 0.09375, 0.09375, 0.09375, 0.09375, 0.09375, 0.09375, 0.09375, 0.09375, 0.09375, 0.09375, 0.09375, 0.09375, 0.09375, 0.09375, 0.09375, 0.09375, 0.09375, 0.09378753138988973, 0.09378753138988973, 0.09378753138988973, 0.09378753138988973, 0.09378753138988973, 0.09378753138988973, 0.09378753138988973, 0.09378753138988973, 0.09378753138988973, 0.09378753138988973, 0.09378753138988973, 0.09378753138988973, 0.09378753138988973, 0.09378753138988973, 0.09378753138988973, 0.09378753138988973, 0.09378753138988973, 0.09378753138988973, 0.09378753138988973, 0.09378753138988973, 0.09378753138988973, 0.09378753138988973, 0.09378753138988973, 0.09378753138988973, 0.09378753138988973, 0.09378753138988973, 0.09378753138988973, 0.09378753138988973, 0.09378753138988973, 0.09378753138988973, 0.09378753138988973, 0.09378753138988973, 0.09378753138988973, 0.09378753138988973, 0.09378753138988973, 0.09378753138988973, 0.09378753138988973, 0.09378753138988973, 0.09378753138988973, 0.09378753138988973, 0.09378753138988973, 0.09378753138988973, 0.09378753138988973, 0.09378753138988973, 0.09378753138988973, 0.09378753138988973, 0.09378753138988973, 0.09378753138988973, 0.09378753138988973, 0.09378753138988973, 0.09378753138988973, 0.09378753138988973, 0.09378753138988973, 0.09378753138988973, 0.09378753138988973, 0.09378753138988973, 0.09378753138988973, 0.09378753138988973, 0.09378753138988973, 0.09378753138988973, 0.09378753138988973, 0.09378753138988973, 0.09378753138988973, 0.09378753138988973, 0.09378753138988973, 0.09378753138988973, 0.09378753138988973, 0.09378753138988973, 0.09378753138988973, 0.09378753138988973, 0.09378753138988973, 0.09378753138988973, 0.09378753138988973, 0.09378753138988973, 0.09378753138988973, 0.09378753138988973, 0.09378753138988973, 0.09378753138988973, 0.09378753138988973, 0.09378753138988973, 0.09378753138988973, 0.09378753138988973, 0.09378753138988973, 0.09378753138988973, 0.09378753138988973, 0.09378753138988973, 0.09378753138988973, 0.09378753138988973, 0.09378753138988973, 0.09378753138988973, 0.09378753138988973, 0.09378753138988973, 0.09378753138988973, 0.09378753138988973, 0.09378753138988973, 0.09378753138988973, 0.09378753138988973, 0.09378753138988973, 0.09378753138988973, 0.09378753138988973, 0.09378753138988973, 0.09378753138988973, 0.09378753138988973, 0.09378753138988973, 0.09378753138988973, 0.09378753138988973, 0.09378753138988973, 0.09378753138988973, 0.09378753138988973, 0.09378753138988973, 0.09378753138988973, 0.09378753138988973, 0.09378753138988973, 0.09415584415584415, 0.09419958894724824, 0.09422985216976634, 0.09422985216976634, 0.09422985216976634, 0.09428571428571428, 0.09433962264150944, 0.09433962264150944, 0.09433962264150944, 0.09433962264150944, 0.09465020576131687, 0.09482758620689655, 0.0949286883782173, 0.0949286883782173, 0.0949286883782173, 0.0949286883782173, 0.0949286883782173, 0.0949286883782173, 0.0949286883782173, 0.0949286883782173, 0.0949286883782173, 0.0949286883782173, 0.0949286883782173, 0.0949286883782173, 0.09523809523809523, 0.09523809523809523, 0.09523809523809523, 0.09523809523809523, 0.09523809523809523, 0.09523809523809523, 0.09523809523809523, 0.09523809523809523, 0.09523809523809523, 0.09523809523809523, 0.09523809523809523, 0.09523809523809523, 0.09523809523809523, 0.09523809523809523, 0.09523809523809523, 0.09523809523809523, 0.09523809523809523, 0.09523809523809523, 0.09523809523809523, 0.09523809523809523, 0.09523809523809523, 0.09523809523809523, 0.09523809523809523, 0.09523809523809523, 0.09523809523809523, 0.09523809523809523, 0.09523809523809523, 0.09523809523809523, 0.09523809523809523, 0.09523809523809523, 0.09523809523809523, 0.09523809523809523, 0.09523809523809523, 0.09523809523809523, 0.09523809523809523, 0.09523809523809523, 0.09523809523809523, 0.09523809523809523, 0.09523809523809523, 0.09523809523809523, 0.09602056785155376, 0.09602056785155376, 0.09602056785155376, 0.09602056785155376, 0.09602056785155376, 0.09602056785155376, 0.09602056785155376, 0.09602056785155376, 0.09602056785155376, 0.09602056785155376, 0.09602056785155376, 0.09602056785155376, 0.09602056785155376, 0.09602056785155376, 0.09602056785155376, 0.09602056785155376, 0.09602056785155376, 0.09602056785155376, 0.09602056785155376, 0.09602056785155376, 0.09602056785155376, 0.09602056785155376, 0.09602056785155376, 0.09602056785155376, 0.09602056785155376, 0.09602056785155376, 0.09602056785155376, 0.09602056785155376, 0.09602056785155376, 0.09602056785155376, 0.09602056785155376, 0.09602056785155376, 0.09602056785155376, 0.09602056785155376, 0.09602056785155376, 0.09602056785155376, 0.09602056785155376, 0.09602056785155376, 0.09602056785155376, 0.09602056785155376, 0.09602056785155376, 0.09602056785155376, 0.09602056785155376, 0.09602056785155376, 0.09602056785155376, 0.09602056785155376, 0.09602056785155376, 0.09602056785155376, 0.09602056785155376, 0.09602056785155376, 0.09602056785155376, 0.09602056785155376, 0.09602056785155376, 0.09602056785155376, 0.09602056785155376, 0.09602056785155376, 0.09602056785155376, 0.09602056785155376, 0.09602056785155376, 0.09602056785155376, 0.09602056785155376, 0.09602056785155376, 0.09602056785155376, 0.09602056785155376, 0.09602056785155376, 0.09602056785155376, 0.09602056785155376, 0.09602056785155376, 0.09602056785155376, 0.09602056785155376, 0.09602056785155376, 0.09602056785155376, 0.09602056785155376, 0.09602056785155376, 0.09602056785155376, 0.09602056785155376, 0.09602056785155376, 0.09602056785155376, 0.09602056785155376, 0.09602056785155376, 0.09602056785155376, 0.09602056785155376, 0.09602056785155376, 0.09602056785155376, 0.09602056785155376, 0.09602056785155376, 0.09602056785155376, 0.09602056785155376, 0.09602056785155376, 0.09602056785155376, 0.09602056785155376, 0.09602056785155376, 0.09602056785155376, 0.09602056785155376, 0.09602056785155376, 0.09602056785155376, 0.09602056785155376, 0.09602056785155376, 0.09602056785155376, 0.09602056785155376, 0.09602056785155376, 0.09602056785155376, 0.09602056785155376, 0.09602056785155376, 0.09602056785155376, 0.09602056785155376, 0.09602056785155376, 0.09602056785155376, 0.09602056785155376, 0.09602056785155376, 0.09602056785155376, 0.09602056785155376, 0.09602056785155376, 0.09602056785155376, 0.09602056785155376, 0.09602056785155376, 0.09602056785155376, 0.09602056785155376, 0.09602056785155376, 0.09602056785155376, 0.09602056785155376, 0.09602056785155376, 0.09602056785155376, 0.09602056785155376, 0.09602056785155376, 0.09602056785155376, 0.09602056785155376, 0.09602056785155376, 0.09602056785155376, 0.09602056785155376, 0.09602056785155376, 0.09602056785155376, 0.09602056785155376, 0.09602056785155376, 0.09602056785155376, 0.09602056785155376, 0.09602056785155376, 0.09602056785155376, 0.09602056785155376, 0.09602056785155376, 0.09602056785155376, 0.09602056785155376, 0.09602056785155376, 0.09602056785155376, 0.09602056785155376, 0.09602056785155376, 0.09602056785155376, 0.09602056785155376, 0.09602056785155376, 0.09602056785155376, 0.09602056785155376, 0.09602056785155376, 0.09602056785155376, 0.09602056785155376, 0.09602056785155376, 0.09602056785155376, 0.09602056785155376, 0.09602056785155376, 0.09602056785155376, 0.09602056785155376, 0.09602056785155376, 0.09602056785155376, 0.09602056785155376, 0.09602056785155376, 0.09602056785155376, 0.09602056785155376, 0.09602056785155376, 0.09602056785155376, 0.09602056785155376, 0.09602056785155376, 0.09602056785155376, 0.09602056785155376, 0.09602056785155376, 0.09602056785155376, 0.09602056785155376, 0.09602056785155376, 0.09602056785155376, 0.09602056785155376, 0.09602056785155376, 0.09602056785155376, 0.09602056785155376, 0.09602056785155376, 0.09602056785155376, 0.09602056785155376, 0.09602056785155376, 0.09602056785155376, 0.09602056785155376, 0.09602056785155376, 0.09602056785155376, 0.09602056785155376, 0.09602056785155376, 0.09602056785155376, 0.09602056785155376, 0.09602056785155376, 0.09602056785155376, 0.09602056785155376, 0.0960621761658031, 0.09615384615384616, 0.09624714238347032, 0.09624714238347032, 0.09624714238347032, 0.09624714238347032, 0.09624714238347032, 0.09624714238347032, 0.09624714238347032, 0.09624714238347032, 0.09624714238347032, 0.09624714238347032, 0.09624714238347032, 0.09624714238347032, 0.09624714238347032, 0.09624714238347032, 0.09637143971907922, 0.09659863945578231, 0.09659863945578231, 0.09659863945578231, 0.09659863945578231, 0.0966183574879227, 0.0966183574879227, 0.0967741935483871, 0.0967741935483871, 0.0967741935483871, 0.0967741935483871, 0.0967741935483871, 0.0967741935483871, 0.0967741935483871, 0.0967741935483871, 0.0967741935483871, 0.0967741935483871, 0.0967741935483871, 0.0967741935483871, 0.0967741935483871, 0.0967741935483871, 0.0967741935483871, 0.0967741935483871, 0.0967741935483871, 0.0967741935483871, 0.0967741935483871, 0.0967741935483871, 0.0967741935483871, 0.0967741935483871, 0.0967741935483871, 0.0967741935483871, 0.0967741935483871, 0.0967741935483871, 0.0967741935483871, 0.0967741935483871, 0.09736267733721353, 0.09736267733721353, 0.09736267733721353, 0.09736267733721353, 0.09736267733721353, 0.09736267733721353, 0.09736267733721353, 0.09736267733721353, 0.09736267733721353, 0.09736267733721353, 0.09736267733721353, 0.09736267733721353, 0.09736267733721353, 0.0975609756097561, 0.0975609756097561, 0.0975609756097561, 0.0975609756097561, 0.0975609756097561, 0.0975609756097561, 0.0975609756097561, 0.0975609756097561, 0.0975609756097561, 0.0975609756097561, 0.0975609756097561, 0.0975609756097561, 0.0975609756097561, 0.09760273593816708, 0.09760273593816708, 0.09760273593816708, 0.09760273593816708, 0.09760273593816708, 0.09760273593816708, 0.09760273593816708, 0.09760273593816708, 0.09760273593816708, 0.09760273593816708, 0.09760273593816708, 0.09760273593816708, 0.09760273593816708, 0.09760273593816708, 0.09760273593816708, 0.09760273593816708, 0.09760273593816708, 0.09760273593816708, 0.09760273593816708, 0.09760273593816708, 0.09760273593816708, 0.09760273593816708, 0.09760273593816708, 0.09760273593816708, 0.09760273593816708, 0.09760273593816708, 0.09760273593816708, 0.09760273593816708, 0.09760273593816708, 0.09760273593816708, 0.09760273593816708, 0.09760273593816708, 0.09764309764309764, 0.09803921568627451, 0.09836065573770492, 0.09836253292110385, 0.09836253292110385, 0.09836253292110385, 0.09836253292110385, 0.09836253292110385, 0.09836253292110385, 0.09836253292110385, 0.09836253292110385, 0.09836253292110385, 0.09836253292110385, 0.09836253292110385, 0.09836253292110385, 0.09836253292110385, 0.09836253292110385, 0.09836253292110385, 0.09836253292110385, 0.09836253292110385, 0.09836253292110385, 0.09836253292110385, 0.09836253292110385, 0.09836253292110385, 0.09836253292110385, 0.09836253292110385, 0.09836253292110385, 0.09836253292110385, 0.09836253292110385, 0.09836253292110385, 0.09836253292110385, 0.09836253292110385, 0.09836253292110385, 0.09836253292110385, 0.09836253292110385, 0.09836253292110385, 0.09836253292110385, 0.09836253292110385, 0.09836253292110385, 0.09836253292110385, 0.09836253292110385, 0.09836253292110385, 0.09836253292110385, 0.09836253292110385, 0.09836253292110385, 0.09836253292110385, 0.09836253292110385, 0.09836253292110385, 0.09836253292110385, 0.09836253292110385, 0.09836253292110385, 0.09836253292110385, 0.09836253292110385, 0.09836253292110385, 0.09836253292110385, 0.09836253292110385, 0.09836253292110385, 0.09836253292110385, 0.09836253292110385, 0.09836253292110385, 0.09836253292110385, 0.09836253292110385, 0.09836253292110385, 0.09836253292110385, 0.09836253292110385, 0.09836253292110385, 0.09836253292110385, 0.09836253292110385, 0.09836253292110385, 0.09836253292110385, 0.09836253292110385, 0.09836253292110385, 0.09836253292110385, 0.09836253292110385, 0.09861263599161595, 0.09861263599161595, 0.09899706073728376, 0.09899706073728376, 0.09899706073728376, 0.09899706073728376, 0.09899706073728376, 0.09899706073728376, 0.09899706073728376, 0.09899706073728376, 0.09899706073728376, 0.09899706073728376, 0.09899706073728376, 0.09899706073728376, 0.09899706073728376, 0.09899706073728376, 0.09899706073728376, 0.09899706073728376, 0.09899706073728376, 0.09899706073728376, 0.09899706073728376, 0.09899706073728376, 0.09899706073728376, 0.09899706073728376, 0.09899706073728376, 0.09899706073728376, 0.09899706073728376, 0.09899706073728376, 0.09899706073728376, 0.09899706073728376, 0.09899706073728376, 0.09899706073728376, 0.09899706073728376, 0.09899706073728376, 0.09899706073728376, 0.09899706073728376, 0.09899706073728376, 0.09899706073728376, 0.09899706073728376, 0.09908436886854154, 0.1, 0.1, 0.1, 0.1, 0.1, 0.1, 0.1, 0.1, 0.1, 0.1, 0.1, 0.1, 0.1, 0.1, 0.1, 0.1, 0.1, 0.1, 0.1, 0.1, 0.1, 0.1, 0.1, 0.1, 0.1, 0.1, 0.1, 0.1, 0.1, 0.1, 0.1, 0.1, 0.1, 0.1, 0.1, 0.1, 0.1, 0.1, 0.1, 0.1, 0.1, 0.1, 0.1, 0.1, 0.1, 0.1, 0.1, 0.1, 0.1, 0.1, 0.1, 0.1, 0.1, 0.1, 0.1, 0.1, 0.1, 0.1, 0.1, 0.1, 0.1, 0.1, 0.1, 0.1, 0.1, 0.1, 0.1, 0.1, 0.1, 0.1, 0.1, 0.1, 0.1, 0.1, 0.1, 0.1, 0.1, 0.1, 0.1, 0.1, 0.1, 0.1, 0.1, 0.1, 0.1, 0.1, 0.1, 0.1, 0.1, 0.1, 0.1, 0.1, 0.1, 0.1, 0.1, 0.1, 0.1, 0.1, 0.1, 0.1, 0.1, 0.1, 0.1, 0.1, 0.1, 0.1, 0.1, 0.1, 0.1, 0.1, 0.1, 0.1, 0.1, 0.1, 0.1, 0.1, 0.1, 0.1, 0.1, 0.1, 0.1, 0.1, 0.1, 0.1, 0.1, 0.1, 0.1, 0.1, 0.1, 0.1, 0.1, 0.1, 0.1, 0.1, 0.1, 0.1, 0.1, 0.1, 0.1, 0.1, 0.1, 0.1, 0.1, 0.1, 0.1, 0.1, 0.1, 0.1, 0.1, 0.1, 0.1, 0.1, 0.1, 0.1, 0.1, 0.1, 0.1, 0.1, 0.1, 0.1, 0.1, 0.1, 0.1, 0.1, 0.10043180074796902, 0.10043180074796902, 0.10043180074796902, 0.10043180074796902, 0.10043180074796902, 0.10043180074796902, 0.10043180074796902, 0.10043180074796902, 0.10043180074796902, 0.10043180074796902, 0.10043180074796902, 0.10082159624413145, 0.10082159624413145, 0.10082159624413145, 0.10082159624413145, 0.10082159624413145, 0.10082159624413145, 0.10082159624413145, 0.10082159624413145, 0.10082159624413145, 0.10082159624413145, 0.10082159624413145, 0.10082159624413145, 0.10082159624413145, 0.10082159624413145, 0.10082159624413145, 0.10082159624413145, 0.10082159624413145, 0.10082159624413145, 0.10082159624413145, 0.10082159624413145, 0.10082159624413145, 0.10082159624413145, 0.10082159624413145, 0.10082159624413145, 0.10082159624413145, 0.10082159624413145, 0.10082159624413145, 0.10082159624413145, 0.10082159624413145, 0.10082159624413145, 0.10082159624413145, 0.10082159624413145, 0.10082159624413145, 0.10082159624413145, 0.10082159624413145, 0.10082159624413145, 0.10082159624413145, 0.10082159624413145, 0.10082159624413145, 0.10082159624413145, 0.10082159624413145, 0.10082159624413145, 0.10082159624413145, 0.10082159624413145, 0.10082159624413145, 0.10082159624413145, 0.10082159624413145, 0.10082159624413145, 0.10082159624413145, 0.10082159624413145, 0.10082159624413145, 0.10082159624413145, 0.10082159624413145, 0.10082159624413145, 0.10082159624413145, 0.10082159624413145, 0.10082159624413145, 0.10082159624413145, 0.10082159624413145, 0.10082159624413145, 0.10082159624413145, 0.10082159624413145, 0.10082159624413145, 0.10082159624413145, 0.10082159624413145, 0.10082159624413145, 0.10082159624413145, 0.10082159624413145, 0.10082159624413145, 0.10082159624413145, 0.10082159624413145, 0.10082159624413145, 0.10082159624413145, 0.10082159624413145, 0.10082159624413145, 0.10082159624413145, 0.10082159624413145, 0.10082159624413145, 0.10082159624413145, 0.10082159624413145, 0.10082159624413145, 0.10082159624413145, 0.10082159624413145, 0.10082159624413145, 0.10082159624413145, 0.10082159624413145, 0.10082159624413145, 0.10082159624413145, 0.10082159624413145, 0.10082159624413145, 0.10082159624413145, 0.10082159624413145, 0.10082159624413145, 0.10082159624413145, 0.10082159624413145, 0.10082159624413145, 0.10082159624413145, 0.10082159624413145, 0.10082159624413145, 0.10082159624413145, 0.10082159624413145, 0.10082159624413145, 0.10082159624413145, 0.10082159624413145, 0.10082159624413145, 0.10082159624413145, 0.10082159624413145, 0.10082159624413145, 0.10082159624413145, 0.10082159624413145, 0.10082159624413145, 0.10082159624413145, 0.10082159624413145, 0.10082159624413145, 0.10082159624413145, 0.10082159624413145, 0.10082159624413145, 0.10082159624413145, 0.10082159624413145, 0.10082159624413145, 0.10082159624413145, 0.10082159624413145, 0.10082159624413145, 0.10082159624413145, 0.10082159624413145, 0.10082159624413145, 0.10082159624413145, 0.10082159624413145, 0.10082159624413145, 0.10082159624413145, 0.10082159624413145, 0.10082159624413145, 0.10082159624413145, 0.10082159624413145, 0.10082159624413145, 0.10082159624413145, 0.10082159624413145, 0.10082159624413145, 0.10082159624413145, 0.10082159624413145, 0.10082159624413145, 0.10082159624413145, 0.10082159624413145, 0.10082159624413145, 0.10082159624413145, 0.10082159624413145, 0.10082159624413145, 0.10082159624413145, 0.10082159624413145, 0.10082159624413145, 0.10082159624413145, 0.10082159624413145, 0.10082159624413145, 0.10082159624413145, 0.10082159624413145, 0.10082159624413145, 0.10082159624413145, 0.10082159624413145, 0.10082159624413145, 0.10082159624413145, 0.10082159624413145, 0.10082159624413145, 0.10082159624413145, 0.10082159624413145, 0.10082159624413145, 0.10082159624413145, 0.10082159624413145, 0.10082159624413145, 0.10082159624413145, 0.10082159624413145, 0.10082159624413145, 0.10082159624413145, 0.10082159624413145, 0.10082159624413145, 0.10082159624413145, 0.10082159624413145, 0.10082159624413145, 0.10082159624413145, 0.10082159624413145, 0.10082159624413145, 0.10082159624413145, 0.10082159624413145, 0.10082159624413145, 0.10082159624413145, 0.10082159624413145, 0.10082159624413145, 0.10082159624413145, 0.10082159624413145, 0.10082159624413145, 0.10082159624413145, 0.10082159624413145, 0.10082159624413145, 0.10082159624413145, 0.10082159624413145, 0.10082159624413145, 0.10082159624413145, 0.10082159624413145, 0.10082159624413145, 0.10082159624413145, 0.10082159624413145, 0.10082159624413145, 0.10082159624413145, 0.10082159624413145, 0.10082159624413145, 0.10082159624413145, 0.10082159624413145, 0.10082159624413145, 0.10082159624413145, 0.10082159624413145, 0.10082159624413145, 0.10082159624413145, 0.10082159624413145, 0.10082159624413145, 0.10082159624413145, 0.10082159624413145, 0.10082159624413145, 0.10082159624413145, 0.10082159624413145, 0.10082159624413145, 0.10082159624413145, 0.10082159624413145, 0.10082159624413145, 0.10082159624413145, 0.10082159624413145, 0.10082159624413145, 0.10082159624413145, 0.10082159624413145, 0.10082159624413145, 0.10082159624413145, 0.10082159624413145, 0.10082159624413145, 0.10082159624413145, 0.10082159624413145, 0.10082159624413145, 0.10082159624413145, 0.10082159624413145, 0.10082159624413145, 0.10082159624413145, 0.10082159624413145, 0.10082159624413145, 0.10082159624413145, 0.10082159624413145, 0.10082159624413145, 0.10082159624413145, 0.10082159624413145, 0.10082159624413145, 0.10082159624413145, 0.10082159624413145, 0.10082159624413145, 0.10082159624413145, 0.10082159624413145, 0.10082159624413145, 0.10082159624413145, 0.10082159624413145, 0.10082159624413145, 0.10082159624413145, 0.10082159624413145, 0.10082159624413145, 0.10082159624413145, 0.10082159624413145, 0.10082159624413145, 0.10082159624413145, 0.10082159624413145, 0.10082159624413145, 0.10082159624413145, 0.10082159624413145, 0.10082159624413145, 0.10082159624413145, 0.10082159624413145, 0.10082159624413145, 0.10082159624413145, 0.10082159624413145, 0.10082159624413145, 0.10082159624413145, 0.10082159624413145, 0.10082159624413145, 0.10082159624413145, 0.10082159624413145, 0.10082159624413145, 0.10082159624413145, 0.10082159624413145, 0.10082159624413145, 0.10082159624413145, 0.10082159624413145, 0.10082159624413145, 0.10082159624413145, 0.10082159624413145, 0.10091596973317404, 0.10096055589617822, 0.10096055589617822, 0.10096055589617822, 0.10096055589617822, 0.10111808017452958, 0.10139860139860139, 0.10142857142857142, 0.10142857142857142, 0.10142857142857142, 0.10142857142857142, 0.10142857142857142, 0.10142857142857142, 0.10142857142857142, 0.10142857142857142, 0.10142857142857142, 0.10142857142857142, 0.10142857142857142, 0.10142857142857142, 0.10142857142857142, 0.10142857142857142, 0.10142857142857142, 0.10142857142857142, 0.10142857142857142, 0.10142857142857142, 0.10142857142857142, 0.10142857142857142, 0.10142857142857142, 0.10142857142857142, 0.10142857142857142, 0.10142857142857142, 0.10142857142857142, 0.10142857142857142, 0.10142857142857142, 0.10142857142857142, 0.10142857142857142, 0.10142857142857142, 0.10142857142857142, 0.10142857142857142, 0.10142857142857142, 0.10142857142857142, 0.10142857142857142, 0.10142857142857142, 0.10142857142857142, 0.10142857142857142, 0.10142857142857142, 0.10142857142857142, 0.10142857142857142, 0.10142857142857142, 0.10142857142857142, 0.10142857142857142, 0.10142857142857142, 0.10142857142857142, 0.10142857142857142, 0.10142857142857142, 0.10142857142857142, 0.10142857142857142, 0.10142857142857142, 0.10142857142857142, 0.10142857142857142, 0.10142857142857142, 0.10142857142857142, 0.10142857142857142, 0.10142857142857142, 0.10142857142857142, 0.10142857142857142, 0.10142857142857142, 0.10142857142857142, 0.10142857142857142, 0.10142857142857142, 0.10142857142857142, 0.10142857142857142, 0.10142857142857142, 0.10142857142857142, 0.10142857142857142, 0.10142857142857142, 0.10142857142857142, 0.10142857142857142, 0.10142857142857142, 0.10142857142857142, 0.10142857142857142, 0.10142857142857142, 0.10142857142857142, 0.10142857142857142, 0.10142857142857142, 0.10142857142857142, 0.10142857142857142, 0.10142857142857142, 0.10142857142857142, 0.10142857142857142, 0.10142857142857142, 0.10142857142857142, 0.10142857142857142, 0.10142857142857142, 0.10142857142857142, 0.10142857142857142, 0.10142857142857142, 0.10142857142857142, 0.10142857142857142, 0.10142857142857142, 0.10142857142857142, 0.10142857142857142, 0.10142857142857142, 0.10142857142857142, 0.10142857142857142, 0.10142857142857142, 0.10142857142857142, 0.10142857142857142, 0.10142857142857142, 0.10142857142857142, 0.10142857142857142, 0.10142857142857142, 0.10142857142857142, 0.10142857142857142, 0.10142857142857142, 0.10142857142857142, 0.10142857142857142, 0.10142857142857142, 0.10142857142857142, 0.10142857142857142, 0.10142857142857142, 0.10142857142857142, 0.10142857142857142, 0.10142857142857142, 0.10142857142857142, 0.10142857142857142, 0.10142857142857142, 0.10142857142857142, 0.10142857142857142, 0.10142857142857142, 0.10142857142857142, 0.10142857142857142, 0.10142857142857142, 0.10142857142857142, 0.10142857142857142, 0.10142857142857142, 0.10151851851851851, 0.10151851851851851, 0.10151851851851851, 0.10190873899426268, 0.10190873899426268, 0.10190873899426268, 0.10190873899426268, 0.10190873899426268, 0.10190873899426268, 0.10190873899426268, 0.10190873899426268, 0.10190873899426268, 0.10190873899426268, 0.10190873899426268, 0.10190873899426268, 0.10190873899426268, 0.10190873899426268, 0.10190873899426268, 0.10190873899426268, 0.10190873899426268, 0.10190873899426268, 0.10190873899426268, 0.10190873899426268, 0.10190873899426268, 0.10190873899426268, 0.10190873899426268, 0.10190873899426268, 0.10204081632653061, 0.10204081632653061, 0.10204081632653061, 0.10204081632653061, 0.10204081632653061, 0.10204081632653061, 0.10204081632653061, 0.10204081632653061, 0.10204081632653061, 0.10204081632653061, 0.10204081632653061, 0.10204081632653061, 0.10204081632653061, 0.10204081632653061, 0.10204081632653061, 0.10204081632653061, 0.10248702877601425, 0.10248702877601425, 0.10248702877601425, 0.10248702877601425, 0.10248702877601425, 0.10248702877601425, 0.10248702877601425, 0.10248702877601425, 0.10248702877601425, 0.10256410256410256, 0.10256410256410256, 0.10256410256410256, 0.10256410256410256, 0.10277777777777777, 0.10277777777777777, 0.10325476992143659, 0.10340676537859636, 0.10340676537859636, 0.10340676537859636, 0.10340676537859636, 0.10340676537859636, 0.10340676537859636, 0.10340676537859636, 0.10340676537859636, 0.10340676537859636, 0.10340676537859636, 0.10340676537859636, 0.10340676537859636, 0.10340676537859636, 0.10340676537859636, 0.10340676537859636, 0.10340676537859636, 0.10340676537859636, 0.10340676537859636, 0.10340676537859636, 0.10340676537859636, 0.10340676537859636, 0.10340676537859636, 0.10340676537859636, 0.10342300847901184, 0.10342976494940094, 0.10342976494940094, 0.10342976494940094, 0.10342976494940094, 0.10342976494940094, 0.10342976494940094, 0.10342976494940094, 0.10342976494940094, 0.10342976494940094, 0.10342976494940094, 0.10342976494940094, 0.10342976494940094, 0.10342976494940094, 0.10342976494940094, 0.10342976494940094, 0.10342976494940094, 0.10342976494940094, 0.10342976494940094, 0.10342976494940094, 0.10342976494940094, 0.10342976494940094, 0.10342976494940094, 0.10342976494940094, 0.10344827586206896, 0.10344827586206896, 0.10344827586206896, 0.10344827586206896, 0.10344827586206896, 0.10344827586206896, 0.10344827586206896, 0.10344827586206896, 0.10344827586206896, 0.10344827586206896, 0.10344827586206896, 0.10344827586206896, 0.1038961038961039, 0.10416666666666667, 0.10416666666666667, 0.10416666666666667, 0.10459016393442623, 0.10459016393442623, 0.10499688260014944, 0.10499688260014944, 0.10499688260014944, 0.10499688260014944, 0.10499688260014944, 0.10499688260014944, 0.10499688260014944, 0.10499688260014944, 0.10499688260014944, 0.10499688260014944, 0.10499688260014944, 0.10499688260014944, 0.10503355704697988, 0.10503355704697988, 0.10526315789473684, 0.10526315789473684, 0.10526315789473684, 0.10526315789473684, 0.10526315789473684, 0.10526315789473684, 0.10526315789473684, 0.10526315789473684, 0.10526315789473684, 0.10526315789473684, 0.10582010582010583, 0.10582010582010583, 0.10600858369098713, 0.10600858369098713, 0.10600858369098713, 0.10600858369098713, 0.10600858369098713, 0.10600858369098713, 0.10600858369098713, 0.10600858369098713, 0.10600858369098713, 0.10600858369098713, 0.10600858369098713, 0.10600858369098713, 0.10600858369098713, 0.10612799604645416, 0.10612799604645416, 0.10612799604645416, 0.10612799604645416, 0.10612799604645416, 0.10612799604645416, 0.10612799604645416, 0.10612799604645416, 0.10612799604645416, 0.10612799604645416, 0.10612799604645416, 0.10612799604645416, 0.10612799604645416, 0.10612799604645416, 0.10612799604645416, 0.10612799604645416, 0.10612799604645416, 0.10612799604645416, 0.10612799604645416, 0.10612799604645416, 0.10612799604645416, 0.10612799604645416, 0.10612799604645416, 0.10612799604645416, 0.10612799604645416, 0.10612799604645416, 0.10612799604645416, 0.10612799604645416, 0.10612799604645416, 0.10612799604645416, 0.10612799604645416, 0.10612799604645416, 0.10612799604645416, 0.10612799604645416, 0.10612799604645416, 0.10612799604645416, 0.10612799604645416, 0.10612799604645416, 0.10638297872340426, 0.10661221925553635, 0.10661221925553635, 0.10661221925553635, 0.10661221925553635, 0.10661221925553635, 0.10661221925553635, 0.10661221925553635, 0.10661221925553635, 0.10661221925553635, 0.10661221925553635, 0.10661221925553635, 0.10661221925553635, 0.10661221925553635, 0.10661221925553635, 0.10661221925553635, 0.10661221925553635, 0.10661221925553635, 0.10661221925553635, 0.10661221925553635, 0.10661221925553635, 0.10661221925553635, 0.10661221925553635, 0.10661221925553635, 0.10661221925553635, 0.10661221925553635, 0.10661221925553635, 0.10661221925553635, 0.10661221925553635, 0.10661221925553635, 0.10673575129533679, 0.10676691729323308, 0.10676691729323308, 0.10676691729323308, 0.10676691729323308, 0.10676691729323308, 0.10676691729323308, 0.10714285714285714, 0.10714285714285714, 0.10714285714285714, 0.10714285714285714, 0.10714285714285714, 0.10714285714285714, 0.10714285714285714, 0.10714285714285714, 0.10714285714285714, 0.10714285714285714, 0.10714285714285714, 0.10714285714285714, 0.10714285714285714, 0.10714285714285714, 0.10714285714285714, 0.1076923076923077, 0.10784313725490197, 0.10810810810810811, 0.10810810810810811, 0.10810810810810811, 0.10810810810810811, 0.10810810810810811, 0.10810810810810811, 0.10810810810810811, 0.10810810810810811, 0.10810810810810811, 0.10810810810810811, 0.10810810810810811, 0.10810810810810811, 0.10810810810810811, 0.10810810810810811, 0.10810810810810811, 0.10810810810810811, 0.10810810810810811, 0.10810810810810811, 0.10810810810810811, 0.10810810810810811, 0.10810810810810811, 0.10810810810810811, 0.10810810810810811, 0.1081242532855436, 0.1081242532855436, 0.1081242532855436, 0.1081242532855436, 0.1081242532855436, 0.1081242532855436, 0.1081242532855436, 0.1081242532855436, 0.1081242532855436, 0.1081242532855436, 0.1081242532855436, 0.1081242532855436, 0.1081242532855436, 0.1081242532855436, 0.1081242532855436, 0.1081242532855436, 0.1081242532855436, 0.1081242532855436, 0.1081242532855436, 0.1081242532855436, 0.1081242532855436, 0.1081242532855436, 0.1081242532855436, 0.1081242532855436, 0.1081242532855436, 0.1081242532855436, 0.1081242532855436, 0.1081242532855436, 0.10818075259690392, 0.10818075259690392, 0.10818075259690392, 0.10818075259690392, 0.10818075259690392, 0.10827803518140411, 0.10827803518140411, 0.10827803518140411, 0.10827803518140411, 0.10827803518140411, 0.10827803518140411, 0.10827803518140411, 0.10827803518140411, 0.10827803518140411, 0.10827803518140411, 0.10827803518140411, 0.10827803518140411, 0.10843373493975904, 0.10869565217391304, 0.10872675250357655, 0.10891089108910891, 0.10894808743169399, 0.10899632026392589, 0.10899632026392589, 0.10899632026392589, 0.10899632026392589, 0.10899632026392589, 0.10899632026392589, 0.10899632026392589, 0.10899632026392589, 0.10899632026392589, 0.10899632026392589, 0.10899632026392589, 0.10899632026392589, 0.10899632026392589, 0.109375, 0.109375, 0.10979794128860083, 0.10979794128860083, 0.10984848484848485, 0.10984848484848485, 0.10999673415253751, 0.10999673415253751, 0.10999673415253751, 0.10999673415253751, 0.10999673415253751, 0.10999673415253751, 0.10999673415253751, 0.10999673415253751, 0.1111111111111111, 0.1111111111111111, 0.1111111111111111, 0.1111111111111111, 0.1111111111111111, 0.1111111111111111, 0.1111111111111111, 0.1111111111111111, 0.1111111111111111, 0.1111111111111111, 0.1111111111111111, 0.1111111111111111, 0.1111111111111111, 0.1111111111111111, 0.1111111111111111, 0.1111111111111111, 0.1111111111111111, 0.1111111111111111, 0.1111111111111111, 0.1111111111111111, 0.1111111111111111, 0.1111111111111111, 0.1111111111111111, 0.1111111111111111, 0.1111111111111111, 0.1111111111111111, 0.1111111111111111, 0.1111111111111111, 0.1111111111111111, 0.1111111111111111, 0.1111111111111111, 0.1111111111111111, 0.1111111111111111, 0.1111111111111111, 0.1111111111111111, 0.1111111111111111, 0.1111111111111111, 0.1111111111111111, 0.1111111111111111, 0.1111111111111111, 0.1111111111111111, 0.1111111111111111, 0.1111111111111111, 0.1111111111111111, 0.1111111111111111, 0.1111111111111111, 0.1111111111111111, 0.1111111111111111, 0.1111111111111111, 0.1111111111111111, 0.1111111111111111, 0.1111111111111111, 0.1111111111111111, 0.1111111111111111, 0.1111111111111111, 0.1111111111111111, 0.1111111111111111, 0.1111111111111111, 0.1111111111111111, 0.1111111111111111, 0.1111111111111111, 0.1111111111111111, 0.1111111111111111, 0.1111111111111111, 0.1111111111111111, 0.1111111111111111, 0.1111111111111111, 0.1111111111111111, 0.1111111111111111, 0.1111111111111111, 0.1111111111111111, 0.1111111111111111, 0.1111111111111111, 0.1111111111111111, 0.1111111111111111, 0.1111111111111111, 0.1111111111111111, 0.1111111111111111, 0.1111111111111111, 0.11111111111111112, 0.11111111111111112, 0.11111111111111112, 0.11111111111111112, 0.11111111111111112, 0.11111111111111112, 0.11111111111111112, 0.11111111111111112, 0.11111111111111112, 0.11111111111111112, 0.11111111111111112, 0.11111111111111112, 0.11111111111111112, 0.11111111111111112, 0.11111111111111112, 0.11111111111111112, 0.11111111111111112, 0.11111111111111112, 0.11111111111111112, 0.11111111111111112, 0.11111111111111112, 0.11111111111111112, 0.11111111111111112, 0.11111111111111112, 0.11111111111111112, 0.11111111111111112, 0.11111111111111112, 0.11111111111111112, 0.11111111111111112, 0.11111111111111112, 0.11111111111111112, 0.11111111111111112, 0.11111111111111112, 0.11111111111111112, 0.11158798283261803, 0.11177087502596553, 0.11177087502596553, 0.11177087502596553, 0.11177087502596553, 0.11177087502596553, 0.11177087502596553, 0.11177087502596553, 0.11177087502596553, 0.11177087502596553, 0.11177087502596553, 0.11177087502596553, 0.11177087502596553, 0.11177087502596553, 0.11177087502596553, 0.11177087502596553, 0.11177087502596553, 0.11177087502596553, 0.11202399582681272, 0.11202399582681272, 0.11202399582681272, 0.11202399582681272, 0.11202399582681272, 0.11202399582681272, 0.11269841269841269, 0.11269841269841269, 0.11269841269841269, 0.11269841269841269, 0.11269841269841269, 0.11269841269841269, 0.11269841269841269, 0.11269841269841269, 0.11269841269841269, 0.11275117836765071, 0.11353046594982079, 0.11353046594982079, 0.11353046594982079, 0.11353046594982079, 0.11353046594982079, 0.11353046594982079, 0.11358024691358025, 0.1136031844526207, 0.1136031844526207, 0.1136031844526207, 0.1136031844526207, 0.1136031844526207, 0.1136031844526207, 0.1136031844526207, 0.1136031844526207, 0.1136031844526207, 0.1136031844526207, 0.1136031844526207, 0.1136031844526207, 0.1136031844526207, 0.1136031844526207, 0.11379310344827585, 0.11379310344827585, 0.11428571428571428, 0.11428571428571428, 0.11428571428571428, 0.11428571428571428, 0.11428571428571428, 0.11428571428571428, 0.11428571428571428, 0.11428571428571428, 0.11428571428571428, 0.11428571428571428, 0.11428571428571428, 0.11428571428571428, 0.11428571428571428, 0.11454432627907474, 0.11454432627907474, 0.11454432627907474, 0.11460387426052664, 0.11475409836065574, 0.11522468142186451, 0.11522468142186451, 0.11522468142186451, 0.11522468142186451, 0.11522468142186451, 0.11522468142186451, 0.11522468142186451, 0.11522468142186451, 0.11522468142186451, 0.11522468142186451, 0.11522468142186451, 0.11522468142186451, 0.11522468142186451, 0.11522468142186451, 0.11522468142186451, 0.11522468142186451, 0.11522468142186451, 0.11522468142186451, 0.11522468142186451, 0.11522468142186451, 0.11522468142186451, 0.11522468142186451, 0.11522468142186451, 0.11522468142186451, 0.11522468142186451, 0.11522468142186451, 0.11522468142186451, 0.11522468142186451, 0.11538461538461539, 0.11549657086016438, 0.11549657086016438, 0.11549657086016438, 0.11549657086016438, 0.11549657086016438, 0.11549657086016438, 0.11549657086016438, 0.11549657086016438, 0.11549657086016438, 0.11549657086016438, 0.11549657086016438, 0.11549657086016438, 0.11549657086016438, 0.11549657086016438, 0.11549657086016438, 0.11549657086016438, 0.11549657086016438, 0.11549657086016438, 0.11549657086016438, 0.11549657086016438, 0.11549657086016438, 0.11549657086016438, 0.11549657086016438, 0.11549657086016438, 0.11549657086016438, 0.11549657086016438, 0.11549657086016438, 0.11549657086016438, 0.11549657086016438, 0.11549657086016438, 0.11549657086016438, 0.11549657086016438, 0.11549657086016438, 0.11549657086016438, 0.11549657086016438, 0.11549657086016438, 0.11549657086016438, 0.11549657086016438, 0.11549657086016438, 0.115625, 0.11627906976744186, 0.11627906976744186, 0.11627906976744186, 0.11666666666666667, 0.11666666666666667, 0.11677800616649538, 0.11745413985779429, 0.11745413985779429, 0.11745413985779429, 0.11745413985779429, 0.11745413985779429, 0.11745413985779429, 0.11745413985779429, 0.11745413985779429, 0.11745413985779429, 0.11745413985779429, 0.11745413985779429, 0.11745413985779429, 0.11745413985779429, 0.11745413985779429, 0.11745413985779429, 0.11745413985779429, 0.11749680715197956, 0.11764705882352941, 0.11764705882352941, 0.11764705882352941, 0.11764705882352941, 0.11764705882352941, 0.11764705882352941, 0.11764705882352941, 0.11764705882352941, 0.11764705882352941, 0.11764705882352941, 0.11764705882352941, 0.11764705882352941, 0.11764705882352941, 0.11764705882352941, 0.11764705882352941, 0.11764705882352941, 0.11764705882352941, 0.11764705882352941, 0.11764705882352941, 0.11778731521220792, 0.11778731521220792, 0.11778731521220792, 0.11785714285714285, 0.11840796019900497, 0.11840796019900497, 0.11842105263157894, 0.11851851851851852, 0.11861364264015464, 0.11861364264015464, 0.11861364264015464, 0.11861364264015464, 0.11861364264015464, 0.11861364264015464, 0.11861364264015464, 0.11861364264015464, 0.11861364264015464, 0.11861364264015464, 0.11861364264015464, 0.11904761904761904, 0.11904761904761904, 0.11904761904761904, 0.11904761904761905, 0.11947921123465281, 0.11947921123465281, 0.11947921123465281, 0.11947921123465281, 0.11947921123465281, 0.11947921123465281, 0.11947921123465281, 0.11947921123465281, 0.11947921123465281, 0.11947921123465281, 0.11947921123465281, 0.11947921123465281, 0.11947921123465281, 0.11947921123465281, 0.11947921123465281, 0.11947921123465281, 0.11947921123465281, 0.11947921123465281, 0.11947921123465281, 0.11947921123465281, 0.11947921123465281, 0.11947921123465281, 0.11947921123465281, 0.11947921123465281, 0.11947921123465281, 0.11947921123465281, 0.11947921123465281, 0.11983471074380164, 0.12, 0.12, 0.12, 0.12, 0.12, 0.12, 0.12, 0.12, 0.12, 0.12, 0.1206896551724138, 0.12115266707541388, 0.12115266707541388, 0.12115266707541388, 0.12115266707541388, 0.12115266707541388, 0.12115266707541388, 0.12115266707541388, 0.12121212121212122, 0.12121212121212122, 0.12121212121212122, 0.12121212121212122, 0.12121212121212122, 0.12121212121212122, 0.12121212121212122, 0.12121212121212122, 0.12121212121212122, 0.12121212121212122, 0.12121212121212122, 0.12121212121212122, 0.12121212121212122, 0.12121212121212122, 0.12157533774754145, 0.12157533774754145, 0.12157533774754145, 0.12157533774754145, 0.12157533774754145, 0.12157533774754145, 0.12157533774754145, 0.12157533774754145, 0.12157533774754145, 0.12157533774754145, 0.12157533774754145, 0.12157533774754145, 0.12157533774754145, 0.12157533774754145, 0.12157533774754145, 0.12157533774754145, 0.12157533774754145, 0.12157533774754145, 0.12170334667151692, 0.12220799544743206, 0.12220799544743206, 0.12220799544743206, 0.12280701754385964, 0.12280701754385964, 0.1234567901234568, 0.1237463259216047, 0.1237463259216047, 0.1237463259216047, 0.1237463259216047, 0.1237463259216047, 0.1237463259216047, 0.1237463259216047, 0.1237463259216047, 0.1237463259216047, 0.1237463259216047, 0.1237463259216047, 0.1237463259216047, 0.1237463259216047, 0.1237463259216047, 0.1237463259216047, 0.1237463259216047, 0.1237463259216047, 0.1237463259216047, 0.1237463259216047, 0.1237463259216047, 0.1237463259216047, 0.1237463259216047, 0.1237463259216047, 0.1237463259216047, 0.1237463259216047, 0.1237463259216047, 0.1237463259216047, 0.1237463259216047, 0.1237463259216047, 0.1237463259216047, 0.1237463259216047, 0.1237463259216047, 0.1237463259216047, 0.1237463259216047, 0.1237463259216047, 0.1237463259216047, 0.1237463259216047, 0.1237463259216047, 0.1237463259216047, 0.1237463259216047, 0.1237463259216047, 0.1237463259216047, 0.1237463259216047, 0.1237463259216047, 0.1239153071850052, 0.12417218543046359, 0.12424503882657463, 0.12471598081292604, 0.12471598081292604, 0.12471598081292604, 0.125, 0.125, 0.125, 0.125, 0.125, 0.125, 0.125, 0.125, 0.125, 0.125, 0.125, 0.125, 0.125, 0.125, 0.125, 0.125, 0.125, 0.125, 0.125, 0.125, 0.125, 0.125, 0.125, 0.125, 0.125, 0.125, 0.125, 0.125, 0.125, 0.125, 0.125, 0.125, 0.125, 0.125, 0.125, 0.12599625912017934, 0.12599625912017934, 0.12599625912017934, 0.12599625912017934, 0.12599625912017934, 0.12599625912017934, 0.12599625912017934, 0.12599625912017934, 0.12599625912017934, 0.12599625912017934, 0.12599625912017934, 0.12599625912017934, 0.12599625912017934, 0.12599625912017934, 0.12599625912017934, 0.12599625912017934, 0.12599625912017934, 0.12599625912017934, 0.12599625912017934, 0.12599625912017934, 0.12599625912017934, 0.12599625912017934, 0.12599625912017934, 0.12599625912017934, 0.12599625912017934, 0.12599625912017934, 0.12599625912017934, 0.12599625912017934, 0.12599625912017934, 0.12599625912017934, 0.12599625912017934, 0.12599625912017934, 0.1260269953051643, 0.1260269953051643, 0.1260269953051643, 0.1260269953051643, 0.1260269953051643, 0.12678571428571428, 0.12678571428571428, 0.12678571428571428, 0.12686567164179102, 0.12686567164179102, 0.12686567164179102, 0.12692307692307692, 0.12808290155440413, 0.1282051282051282, 0.12832952317796043, 0.12832952317796043, 0.12832952317796043, 0.12832952317796043, 0.12832952317796043, 0.12832952317796043, 0.12832952317796043, 0.12832952317796043, 0.12832952317796043, 0.12832952317796043, 0.12832952317796043, 0.12832952317796043, 0.12832952317796043, 0.12832952317796043, 0.12832952317796043, 0.12832952317796043, 0.12832952317796043, 0.12832952317796043, 0.12832952317796043, 0.12832952317796043, 0.12832952317796043, 0.12832952317796043, 0.12832952317796043, 0.12832952317796043, 0.12832952317796043, 0.1284952529587723, 0.12903225806451613, 0.12974910394265232, 0.12981690311628472, 0.13008514664143803, 0.1300923822504922, 0.1300923822504922, 0.13043478260869565, 0.13071895424836602, 0.13071895424836602, 0.13071895424836602, 0.13071895424836602, 0.13071895424836602, 0.13073770491803277, 0.13075083493603515, 0.13075083493603515, 0.13075083493603515, 0.13075083493603515, 0.13075083493603515, 0.13075083493603515, 0.13075083493603515, 0.13075083493603515, 0.13075083493603515, 0.13075083493603515, 0.13075083493603515, 0.13075083493603515, 0.13075083493603515, 0.13075083493603515, 0.13075083493603515, 0.13075083493603515, 0.13075083493603515, 0.13075083493603515, 0.13075083493603515, 0.13075083493603515, 0.13075083493603515, 0.13075083493603515, 0.13075083493603515, 0.13075083493603515, 0.13075083493603515, 0.13075083493603515, 0.13075083493603515, 0.13075083493603515, 0.13075083493603515, 0.13075083493603515, 0.13075083493603515, 0.13075083493603515, 0.13075083493603515, 0.13075083493603515, 0.13114754098360656, 0.1318181818181818, 0.132, 0.13251072961373392, 0.13251072961373392, 0.13251072961373392, 0.1332089552238806, 0.13326527406942043, 0.13326527406942043, 0.13326527406942043, 0.13326527406942043, 0.13326527406942043, 0.13326527406942043, 0.13326527406942043, 0.13326527406942043, 0.13326527406942043, 0.13326527406942043, 0.13326527406942043, 0.13326527406942043, 0.13326527406942043, 0.13326527406942043, 0.13326527406942043, 0.13326527406942043, 0.13326527406942043, 0.13326527406942043, 0.13326527406942043, 0.13326527406942043, 0.13326527406942043, 0.13326527406942043, 0.13326527406942043, 0.13326527406942043, 0.13326527406942043, 0.13326527406942043, 0.13326527406942043, 0.13326527406942043, 0.13326527406942043, 0.13326527406942043, 0.13326527406942043, 0.13326527406942043, 0.13326527406942043, 0.13326527406942043, 0.13326527406942043, 0.13326527406942043, 0.13326527406942043, 0.13326527406942043, 0.13333333333333333, 0.13333333333333333, 0.13333333333333333, 0.13333333333333333, 0.13333333333333333, 0.13333333333333333, 0.13333333333333333, 0.13333333333333333, 0.13333333333333333, 0.13333333333333333, 0.13333333333333333, 0.13333333333333333, 0.13333333333333333, 0.13333333333333333, 0.13333333333333333, 0.13333333333333333, 0.13333333333333333, 0.13333333333333333, 0.13333333333333333, 0.13333333333333333, 0.13333333333333333, 0.13333333333333333, 0.13333333333333333, 0.13333333333333333, 0.13333333333333333, 0.13335189309576836, 0.1335652540586127, 0.1335652540586127, 0.13442879499217528, 0.13442879499217528, 0.13442879499217528, 0.13442879499217528, 0.13442879499217528, 0.13442879499217528, 0.13442879499217528, 0.13442879499217528, 0.13442879499217528, 0.13442879499217528, 0.13442879499217528, 0.13442879499217528, 0.13442879499217528, 0.13442879499217528, 0.13442879499217528, 0.13442879499217528, 0.13489461358313817, 0.13513513513513514, 0.13513513513513514, 0.13523809523809524, 0.13523809523809524, 0.13587831865901692, 0.13587831865901692, 0.13587831865901692, 0.13587831865901692, 0.13587831865901692, 0.13587831865901692, 0.13587831865901692, 0.13587831865901692, 0.13587831865901692, 0.13587831865901692, 0.13587831865901692, 0.13587831865901692, 0.13587831865901692, 0.13587831865901692, 0.13587831865901692, 0.13587831865901692, 0.13587831865901692, 0.13587831865901692, 0.13587831865901692, 0.13587831865901692, 0.13587831865901692, 0.13587831865901692, 0.13587831865901692, 0.13587831865901692, 0.13587831865901692, 0.13587831865901692, 0.13587831865901692, 0.13587831865901692, 0.13587831865901692, 0.13658940397350994, 0.13690476190476192, 0.13690476190476192, 0.13793103448275862, 0.13793103448275862, 0.13793103448275862, 0.13793103448275862, 0.13793103448275862, 0.13793103448275862, 0.1382488479262673, 0.13859588503219725, 0.13859588503219725, 0.13859588503219725, 0.13859588503219725, 0.13859588503219725, 0.13859588503219725, 0.13859588503219725, 0.13859588503219725, 0.13859588503219725, 0.13859588503219725, 0.13859588503219725, 0.13859588503219725, 0.13859588503219725, 0.13859588503219725, 0.13859588503219725, 0.13859588503219725, 0.13859588503219725, 0.13859588503219725, 0.13859588503219725, 0.13859588503219725, 0.13859588503219725, 0.13859588503219725, 0.13859588503219725, 0.13859588503219725, 0.13859588503219725, 0.13859588503219725, 0.13859588503219725, 0.13859588503219725, 0.13859588503219725, 0.13859588503219725, 0.13859588503219725, 0.13859588503219725, 0.13859588503219725, 0.13859588503219725, 0.13859588503219725, 0.13859588503219725, 0.13859588503219725, 0.13859588503219725, 0.13859588503219725, 0.13859588503219725, 0.13859588503219725, 0.13859588503219725, 0.13859588503219725, 0.13859588503219725, 0.13859588503219725, 0.13859588503219725, 0.13859588503219725, 0.13859588503219725, 0.13859588503219725, 0.13859588503219725, 0.13859588503219725, 0.13859588503219725, 0.13859588503219725, 0.13859588503219725, 0.13859588503219725, 0.13859588503219725, 0.13859588503219725, 0.13859588503219725, 0.13859588503219725, 0.13859588503219725, 0.13859588503219725, 0.13859588503219725, 0.13859588503219725, 0.13859588503219725, 0.13859588503219725, 0.13859588503219725, 0.13859588503219725, 0.13859588503219725, 0.13859588503219725, 0.13859588503219725, 0.13859588503219725, 0.13859588503219725, 0.13859588503219725, 0.13859588503219725, 0.13859588503219725, 0.13859588503219725, 0.13859588503219725, 0.13859588503219725, 0.13859588503219725, 0.13859588503219725, 0.1388888888888889, 0.1388888888888889, 0.1388888888888889, 0.1388888888888889, 0.1388888888888889, 0.1388888888888889, 0.1388888888888889, 0.1388888888888889, 0.14, 0.14015151515151514, 0.14021995286724273, 0.14021995286724273, 0.14021995286724273, 0.1413447782546495, 0.1413447782546495, 0.1413447782546495, 0.1413447782546495, 0.1413447782546495, 0.1413447782546495, 0.1413447782546495, 0.1413447782546495, 0.1413447782546495, 0.1413447782546495, 0.1413447782546495, 0.14142437248183393, 0.14142437248183393, 0.14142437248183393, 0.14142437248183393, 0.14142437248183393, 0.14142437248183393, 0.14142437248183393, 0.14142437248183393, 0.14142437248183393, 0.14142437248183393, 0.14142437248183393, 0.14142437248183393, 0.14142437248183393, 0.14142437248183393, 0.14142437248183393, 0.14142437248183393, 0.14142437248183393, 0.14142437248183393, 0.14142437248183393, 0.14142437248183393, 0.14142437248183393, 0.14142437248183393, 0.14142437248183393, 0.14142437248183393, 0.14142437248183393, 0.14142437248183393, 0.14142437248183393, 0.14142437248183393, 0.14142437248183393, 0.14142437248183393, 0.14142437248183393, 0.14142437248183393, 0.14142437248183393, 0.14142437248183393, 0.14142437248183393, 0.14142437248183393, 0.14142437248183393, 0.14142437248183393, 0.14142437248183393, 0.14142437248183393, 0.14142437248183393, 0.14142437248183393, 0.14142437248183393, 0.14142437248183393, 0.14142437248183393, 0.14142437248183393, 0.14142437248183393, 0.14142437248183393, 0.14142437248183393, 0.14142437248183393, 0.14142437248183393, 0.14142437248183393, 0.14142437248183393, 0.14142437248183393, 0.14142437248183393, 0.14142437248183393, 0.14142437248183393, 0.14142437248183393, 0.14142437248183393, 0.14142437248183393, 0.14142437248183393, 0.14142437248183393, 0.14142437248183393, 0.14142437248183393, 0.14142437248183393, 0.14142437248183393, 0.14142437248183393, 0.14142437248183393, 0.14142437248183393, 0.14142437248183393, 0.14142437248183393, 0.14142437248183393, 0.141913082437276, 0.14285714285714285, 0.14285714285714285, 0.14285714285714285, 0.14285714285714285, 0.14285714285714285, 0.14285714285714285, 0.14285714285714285, 0.14285714285714285, 0.14285714285714285, 0.14285714285714285, 0.14285714285714285, 0.14285714285714285, 0.14285714285714285, 0.14285714285714285, 0.14285714285714285, 0.14285714285714285, 0.14285714285714285, 0.14285714285714285, 0.14285714285714285, 0.14285714285714285, 0.14285714285714285, 0.14285714285714285, 0.14285714285714285, 0.14285714285714285, 0.14285714285714285, 0.14285714285714285, 0.14285714285714285, 0.14285714285714285, 0.14285714285714285, 0.14307004470938897, 0.14403085177733063, 0.14403085177733063, 0.14437071357520548, 0.14437071357520548, 0.14437071357520548, 0.14437071357520548, 0.14437071357520548, 0.14437071357520548, 0.14437071357520548, 0.14437071357520548, 0.14437071357520548, 0.14437071357520548, 0.14437071357520548, 0.14437071357520548, 0.14437071357520548, 0.14437071357520548, 0.14437071357520548, 0.14437071357520548, 0.14437071357520548, 0.14437071357520548, 0.14437071357520548, 0.14437071357520548, 0.14437071357520548, 0.14437071357520548, 0.14437071357520548, 0.14437071357520548, 0.14437071357520548, 0.14437071357520548, 0.14437071357520548, 0.14437071357520548, 0.14437071357520548, 0.14437071357520548, 0.14437071357520548, 0.14437071357520548, 0.14437071357520548, 0.14437071357520548, 0.14437071357520548, 0.14437071357520548, 0.14437071357520548, 0.14437071357520548, 0.14437071357520548, 0.14437071357520548, 0.14437071357520548, 0.14437071357520548, 0.14437071357520548, 0.14437071357520548, 0.14437071357520548, 0.14437071357520548, 0.14437071357520548, 0.14437071357520548, 0.14437071357520548, 0.14437071357520548, 0.14437071357520548, 0.14437071357520548, 0.14437071357520548, 0.14437071357520548, 0.14437071357520548, 0.14437071357520548, 0.14437071357520548, 0.14437071357520548, 0.14437071357520548, 0.14437071357520548, 0.14437071357520548, 0.14437071357520548, 0.14437071357520548, 0.14437071357520548, 0.14437071357520548, 0.14437071357520548, 0.14437071357520548, 0.14437071357520548, 0.14437071357520548, 0.14437071357520548, 0.14437071357520548, 0.14437071357520548, 0.14437071357520548, 0.14437071357520548, 0.14437071357520548, 0.14437071357520548, 0.14489795918367346, 0.14547479246811096, 0.14583333333333334, 0.14634146341463414, 0.14705882352941177, 0.14705882352941177, 0.14705882352941177, 0.14744243088531622, 0.14744243088531622, 0.14744243088531622, 0.14744243088531622, 0.14744243088531622, 0.14744243088531622, 0.14744243088531622, 0.14744243088531622, 0.14744243088531622, 0.14744243088531622, 0.14744243088531622, 0.14744243088531622, 0.14744243088531622, 0.14744243088531622, 0.14744243088531622, 0.14744243088531622, 0.14744243088531622, 0.14744243088531622, 0.14744243088531622, 0.14744243088531622, 0.14744243088531622, 0.14744243088531622, 0.14744243088531622, 0.14744243088531622, 0.14744243088531622, 0.14744243088531622, 0.14744243088531622, 0.14744243088531622, 0.14744243088531622, 0.14744243088531622, 0.14744243088531622, 0.14744243088531622, 0.14744243088531622, 0.14744243088531622, 0.14744243088531622, 0.14744243088531622, 0.14744243088531622, 0.14744243088531622, 0.14744243088531622, 0.14744243088531622, 0.14744243088531622, 0.14744243088531622, 0.14744243088531622, 0.14744243088531622, 0.14744243088531622, 0.14744243088531622, 0.14744243088531622, 0.14744243088531622, 0.14744243088531622, 0.14744243088531622, 0.14744243088531622, 0.14744243088531622, 0.14744243088531622, 0.14744243088531622, 0.14744243088531622, 0.14744243088531622, 0.14778796333200478, 0.1480099502487562, 0.1480099502487562, 0.14814814814814814, 0.14814814814814814, 0.14814814814814814, 0.14814814814814814, 0.14814814814814814, 0.14814814814814817, 0.1486265533028123, 0.1486265533028123, 0.14936532776908362, 0.14936532776908362, 0.14936532776908362, 0.14936532776908362, 0.14936532776908362, 0.14936532776908362, 0.14936532776908362, 0.14936532776908362, 0.14936532776908362, 0.14936532776908362, 0.14936532776908362, 0.14936532776908362, 0.1497887343649439, 0.15, 0.15, 0.15, 0.15, 0.15, 0.15, 0.15, 0.15, 0.15, 0.15, 0.15, 0.15, 0.15, 0.15, 0.15, 0.15, 0.15, 0.15, 0.15, 0.15, 0.15, 0.15, 0.15, 0.15, 0.15, 0.15, 0.15, 0.15, 0.15, 0.15, 0.15, 0.15, 0.15, 0.15, 0.15, 0.15, 0.15, 0.15, 0.15, 0.15, 0.15, 0.15, 0.15, 0.15, 0.15, 0.15, 0.15, 0.15, 0.15, 0.15, 0.15, 0.15, 0.15, 0.15, 0.15, 0.15, 0.15, 0.15, 0.15, 0.15, 0.15, 0.15, 0.15, 0.15, 0.15, 0.15, 0.15, 0.15, 0.15, 0.15, 0.15, 0.15, 0.15, 0.15, 0.15, 0.15, 0.15, 0.15, 0.15, 0.15, 0.15, 0.15, 0.15, 0.15, 0.15, 0.15, 0.15, 0.15, 0.15, 0.15, 0.15, 0.15, 0.15, 0.15, 0.15, 0.15, 0.15, 0.15, 0.15, 0.15, 0.15, 0.15, 0.15, 0.15, 0.15, 0.15, 0.15, 0.15, 0.15, 0.15, 0.15, 0.15, 0.15, 0.15, 0.15, 0.15, 0.15, 0.15, 0.15, 0.15, 0.15, 0.15, 0.15, 0.15, 0.15, 0.15, 0.15, 0.15, 0.15, 0.15, 0.15, 0.15, 0.15, 0.15, 0.15, 0.15, 0.15, 0.15, 0.15, 0.15, 0.15, 0.15, 0.15, 0.15, 0.15, 0.15, 0.15, 0.15, 0.15, 0.15, 0.15, 0.15, 0.15, 0.15, 0.15, 0.15, 0.15, 0.15, 0.15, 0.15, 0.15, 0.15, 0.15, 0.15, 0.15, 0.15, 0.15, 0.15, 0.15, 0.15, 0.15, 0.15, 0.15, 0.15, 0.15, 0.15, 0.15, 0.15, 0.15, 0.15, 0.15, 0.15, 0.15, 0.15, 0.15, 0.15, 0.15, 0.15, 0.15, 0.15, 0.15, 0.15, 0.15, 0.15, 0.15, 0.15, 0.15, 0.15, 0.15, 0.15, 0.15, 0.15, 0.15, 0.15, 0.15, 0.15, 0.15, 0.15, 0.15, 0.15, 0.15, 0.15, 0.15, 0.15, 0.15, 0.15, 0.15, 0.15, 0.15, 0.15, 0.15064770112195355, 0.15064770112195355, 0.15064770112195355, 0.15064770112195355, 0.15064770112195355, 0.15064770112195355, 0.15064770112195355, 0.15064770112195355, 0.15064770112195355, 0.15064770112195355, 0.15064770112195355, 0.15064770112195355, 0.15064770112195355, 0.15064770112195355, 0.15064770112195355, 0.15064770112195355, 0.15064770112195355, 0.15064770112195355, 0.15064770112195355, 0.15064770112195355, 0.15064770112195355, 0.15064770112195355, 0.15064770112195355, 0.15064770112195355, 0.15064770112195355, 0.15064770112195355, 0.15064770112195355, 0.15064770112195355, 0.15064770112195355, 0.15064770112195355, 0.15064770112195355, 0.15064770112195355, 0.15064770112195355, 0.15064770112195355, 0.15064770112195355, 0.15064770112195355, 0.15064770112195355, 0.15064770112195355, 0.15064770112195355, 0.15064770112195355, 0.15064770112195355, 0.15064770112195355, 0.15064770112195355, 0.15064770112195355, 0.15064770112195355, 0.15064770112195355, 0.15064770112195355, 0.15064770112195355, 0.15064770112195355, 0.15064770112195355, 0.15064770112195355, 0.15064770112195355, 0.15064770112195355, 0.15064770112195355, 0.15064770112195355, 0.15064770112195355, 0.15064770112195355, 0.15064770112195355, 0.15137395459976105, 0.15137395459976105, 0.15137395459976105, 0.15137395459976105, 0.15137395459976105, 0.15137395459976105, 0.15144083384426735, 0.15211640211640212, 0.15211640211640212, 0.15223880597014924, 0.15227777777777776, 0.15227777777777776, 0.15384615384615385, 0.15384615384615385, 0.15384615384615385, 0.15384615384615385, 0.15416666666666667, 0.15416666666666667, 0.15511014806789453, 0.15604395604395604, 0.15604395604395604, 0.15604395604395604, 0.15704975361627724, 0.15704975361627724, 0.15737704918032785, 0.15737704918032785, 0.15789473684210525, 0.15873015873015875, 0.16, 0.16, 0.16, 0.16, 0.16, 0.16, 0.16, 0.16, 0.16, 0.16010362694300517, 0.16131455399061032, 0.16131455399061032, 0.16131455399061032, 0.16131455399061032, 0.1614654002713704, 0.16216216216216217, 0.1622711288953559, 0.16309012875536483, 0.16348920863309352, 0.16348920863309352, 0.16348920863309352, 0.16348920863309352, 0.16348920863309352, 0.16348920863309352, 0.16348920863309352, 0.16477272727272727, 0.16651119402985073, 0.16651119402985073, 0.16666666666666666, 0.16666666666666666, 0.16666666666666666, 0.16666666666666666, 0.16666666666666666, 0.16666666666666666, 0.16666666666666666, 0.16666666666666666, 0.16666666666666666, 0.16666666666666666, 0.16666666666666666, 0.16666666666666666, 0.16666666666666666, 0.16666666666666666, 0.16666666666666666, 0.16666666666666666, 0.16666666666666666, 0.16666666666666666, 0.16666666666666666, 0.16700336700336701, 0.16803599374021908, 0.16803599374021908, 0.16904761904761903, 0.16904761904761903, 0.16904761904761903, 0.1696137339055794, 0.1696137339055794, 0.1696137339055794, 0.1696137339055794, 0.1696137339055794, 0.1696137339055794, 0.1696137339055794, 0.1696137339055794, 0.17037037037037037, 0.17037037037037037, 0.17037037037037037, 0.17037037037037037, 0.17037037037037037, 0.17037037037037037, 0.17037037037037037, 0.17037037037037037, 0.17037037037037037, 0.17037037037037037, 0.17037037037037037, 0.17037037037037037, 0.17037037037037037, 0.17094017094017094, 0.17142857142857143, 0.1746622553074166, 0.17534190651153295, 0.17534190651153295, 0.17534190651153295, 0.17534190651153295, 0.17534190651153295, 0.17534190651153295, 0.17647058823529413, 0.17647058823529413, 0.17647058823529413, 0.17668097281831188, 0.17668097281831188, 0.17668097281831188, 0.1770230497040246, 0.1770230497040246, 0.17761194029850744, 0.17857142857142858, 0.18164874551971327, 0.18181818181818182, 0.18181818181818182, 0.18181818181818182, 0.18181818181818182, 0.18181818181818182, 0.18181818181818182, 0.1833119931711481, 0.1833119931711481, 0.18436275424519502, 0.185, 0.1875, 0.1875, 0.1883116883116883, 0.18867924528301888, 0.18885245901639344, 0.18885245901639344, 0.18921744324970133, 0.18921744324970133, 0.18930041152263374, 0.19029850746268656, 0.19230769230769232, 0.19230769230769232, 0.19230769230769232, 0.19274287943815843, 0.19274287943815843, 0.19274287943815843, 0.19274287943815843, 0.19274287943815843, 0.19274287943815843, 0.19744428860838398, 0.2, 0.2, 0.2, 0.2, 0.2, 0.2, 0.2, 0.2, 0.2, 0.2, 0.2, 0.2, 0.2, 0.2, 0.2, 0.2, 0.2, 0.2, 0.2, 0.2, 0.2, 0.2, 0.2, 0.2, 0.2, 0.2, 0.2, 0.2, 0.2, 0.2, 0.2, 0.2, 0.2, 0.2, 0.2, 0.2, 0.2, 0.2, 0.2, 0.2, 0.2, 0.2, 0.2, 0.2, 0.2, 0.2, 0.2, 0.2, 0.2, 0.2, 0.2, 0.2, 0.2, 0.2, 0.2, 0.2, 0.2, 0.2, 0.2, 0.2, 0.2, 0.2, 0.2, 0.2, 0.2, 0.2, 0.2, 0.2, 0.2, 0.2, 0.2, 0.2, 0.2, 0.2, 0.2, 0.2, 0.2, 0.2, 0.2, 0.2, 0.2, 0.2, 0.2, 0.2, 0.2, 0.2, 0.2, 0.2, 0.2, 0.2, 0.2, 0.2, 0.2, 0.2, 0.2, 0.2, 0.2, 0.2, 0.2, 0.2, 0.2, 0.2, 0.2, 0.2, 0.2, 0.2, 0.2, 0.2, 0.2, 0.2, 0.2, 0.2, 0.2, 0.2, 0.2, 0.2, 0.2, 0.2, 0.2, 0.2, 0.2, 0.2, 0.2, 0.2, 0.2, 0.2, 0.2, 0.2, 0.2, 0.2, 0.2, 0.2, 0.2, 0.2, 0.2, 0.2, 0.2, 0.2, 0.2, 0.2, 0.2, 0.2, 0.2, 0.2, 0.2, 0.2, 0.2, 0.2, 0.2, 0.2, 0.2, 0.2, 0.2, 0.2, 0.2, 0.2, 0.2, 0.2, 0.2, 0.2, 0.2, 0.2, 0.2, 0.2, 0.2, 0.2, 0.2, 0.2, 0.2, 0.2, 0.2, 0.2, 0.2, 0.2, 0.2, 0.2, 0.2, 0.2, 0.2, 0.2, 0.2, 0.2, 0.2, 0.2, 0.2, 0.2, 0.2, 0.2, 0.2, 0.2, 0.2, 0.2, 0.2, 0.2, 0.2, 0.2, 0.2, 0.2, 0.2, 0.2, 0.2, 0.2, 0.2, 0.2, 0.2, 0.2, 0.2, 0.2, 0.2, 0.2, 0.2, 0.2, 0.2, 0.2, 0.2, 0.2, 0.2, 0.2, 0.2, 0.2, 0.2, 0.2, 0.2, 0.2, 0.2, 0.2, 0.2, 0.2, 0.2, 0.2, 0.2, 0.2, 0.2, 0.2016431924882629, 0.2016431924882629, 0.2016431924882629, 0.2016431924882629, 0.2016431924882629, 0.2016431924882629, 0.20833333333333334, 0.20833333333333334, 0.21006711409395976, 0.21006711409395976, 0.21006711409395976, 0.21201716738197426, 0.21201716738197426, 0.21201716738197426, 0.21201716738197426, 0.21201716738197426, 0.21201716738197426, 0.21201716738197426, 0.21201716738197426, 0.21201716738197426, 0.21201716738197426, 0.21201716738197426, 0.21313432835820895, 0.21428571428571427, 0.21428571428571427, 0.21428571428571427, 0.21428571428571427, 0.21428571428571427, 0.21428571428571427, 0.21428571428571427, 0.21798561151079138, 0.2222222222222222, 0.2222222222222222, 0.2222222222222222, 0.2222222222222222, 0.2222222222222222, 0.22317596566523606, 0.22706093189964158, 0.22706093189964158, 0.22706093189964158, 0.22706093189964158, 0.22706093189964158, 0.22706093189964158, 0.22706093189964158, 0.22706093189964158, 0.22706093189964158, 0.22706093189964158, 0.22706093189964158, 0.22706093189964158, 0.22706093189964158, 0.22817460317460317, 0.23076923076923078, 0.23125, 0.23125, 0.23557463042441584, 0.23557463042441584, 0.23557463042441584, 0.2360655737704918, 0.2360655737704918, 0.2360655737704918, 0.2360655737704918, 0.24713778128701147, 0.24719101123595505, 0.24943196162585207, 0.24943196162585207, 0.25, 0.25, 0.25, 0.25, 0.25, 0.25, 0.25, 0.25, 0.25, 0.25, 0.25, 0.25, 0.25, 0.25, 0.25, 0.25, 0.25, 0.25, 0.25, 0.25, 0.25, 0.25, 0.25, 0.25, 0.25, 0.25, 0.25, 0.25, 0.25, 0.25, 0.25, 0.25, 0.25, 0.25, 0.25, 0.25, 0.25, 0.25, 0.25, 0.25, 0.25, 0.25, 0.25, 0.25, 0.25, 0.25, 0.25, 0.25, 0.25, 0.25, 0.25, 0.25, 0.25, 0.25, 0.25, 0.25, 0.25, 0.25, 0.25, 0.25, 0.25, 0.25, 0.25, 0.25, 0.25, 0.25, 0.25, 0.25, 0.25, 0.25, 0.25, 0.25, 0.25, 0.25, 0.25, 0.25, 0.25, 0.25, 0.25, 0.25, 0.25, 0.25, 0.25, 0.25, 0.25, 0.25, 0.25, 0.25, 0.25, 0.25, 0.25, 0.25, 0.25, 0.25, 0.25, 0.25, 0.25, 0.25, 0.25, 0.25, 0.25, 0.25, 0.25, 0.25, 0.25, 0.25, 0.25, 0.25, 0.25, 0.25, 0.25, 0.25, 0.25, 0.25, 0.25, 0.25, 0.25, 0.25, 0.25, 0.25, 0.25, 0.25, 0.25, 0.25, 0.25, 0.25, 0.25, 0.25, 0.25, 0.25, 0.25, 0.25, 0.25, 0.25, 0.25, 0.25, 0.25, 0.25, 0.25, 0.25, 0.25, 0.25, 0.25, 0.25, 0.25, 0.25, 0.25, 0.25, 0.25, 0.25, 0.25, 0.25, 0.25, 0.25, 0.25, 0.25, 0.25, 0.25, 0.25, 0.25, 0.25, 0.25, 0.25, 0.25, 0.25, 0.25, 0.25, 0.25, 0.25, 0.25, 0.25, 0.25, 0.25, 0.25, 0.25, 0.25, 0.25, 0.25228992433293507, 0.2625838926174497, 0.2631578947368421, 0.2664179104477612, 0.2664179104477612, 0.2664179104477612, 0.2664179104477612, 0.2664179104477612, 0.2664179104477612, 0.2664179104477612, 0.2664179104477612, 0.2664179104477612, 0.2664179104477612, 0.2664179104477612, 0.26666666666666666, 0.26666666666666666, 0.26885758998435055, 0.26885758998435055, 0.26885758998435055, 0.2777777777777778, 0.2777777777777778, 0.2777777777777778, 0.2777777777777778, 0.2777777777777778, 0.2777777777777778, 0.2777777777777778, 0.2777777777777778, 0.2777777777777778, 0.2777777777777778, 0.2777777777777778, 0.2777777777777778, 0.2777777777777778, 0.2777777777777778, 0.2777777777777778, 0.282689556509299, 0.282689556509299, 0.282689556509299, 0.282689556509299, 0.2857142857142857, 0.2916666666666667, 0.2916666666666667, 0.2960199004975124, 0.2972531066056246, 0.3, 0.3, 0.3, 0.3, 0.3, 0.3, 0.3, 0.3, 0.3, 0.3, 0.3, 0.3, 0.3, 0.3, 0.3, 0.3, 0.3, 0.3, 0.3, 0.3, 0.3, 0.3, 0.3, 0.3, 0.3, 0.3, 0.3, 0.3, 0.3, 0.3, 0.3, 0.3, 0.3, 0.3, 0.3, 0.3, 0.3, 0.3, 0.3, 0.3, 0.3, 0.3, 0.3, 0.3, 0.3, 0.3, 0.3, 0.3, 0.3, 0.3, 0.3, 0.3, 0.3, 0.3, 0.3, 0.3, 0.3, 0.3, 0.3, 0.3, 0.3, 0.3, 0.3, 0.3, 0.3, 0.3, 0.3, 0.3, 0.3, 0.3, 0.3, 0.3, 0.3, 0.3, 0.3, 0.3, 0.3, 0.3, 0.3, 0.3, 0.3, 0.3, 0.3, 0.3, 0.3, 0.3, 0.3, 0.3, 0.3, 0.3, 0.3, 0.3, 0.3, 0.3, 0.3, 0.3, 0.3, 0.3, 0.30009587727708537, 0.3028816676885347, 0.3028816676885347, 0.30833333333333335, 0.3134328358208955, 0.3147540983606557, 0.3147540983606557, 0.3181818181818182, 0.3333333333333333, 0.3333333333333333, 0.3333333333333333, 0.3333333333333333, 0.3333333333333333, 0.3493245106148332, 0.35, 0.35, 0.35, 0.35, 0.35, 0.35, 0.35, 0.35, 0.35, 0.35, 0.35, 0.35, 0.35, 0.35, 0.35, 0.35, 0.35, 0.35, 0.35, 0.35, 0.35, 0.35, 0.35, 0.35, 0.35, 0.35, 0.35, 0.35, 0.35, 0.35, 0.35, 0.35, 0.35, 0.35, 0.35, 0.35, 0.35, 0.35336194563662376, 0.35336194563662376, 0.35336194563662376, 0.35336194563662376, 0.3552238805970149, 0.3552238805970149, 0.358974358974359, 0.36363636363636365, 0.36363636363636365, 0.3666239863422962, 0.3756708407871198, 0.3756708407871198, 0.37843488649940266, 0.3846153846153846, 0.38548575887631686, 0.38548575887631686, 0.3888888888888889, 0.39344262295081966, 0.4, 0.4, 0.4, 0.4, 0.4, 0.4, 0.4, 0.4, 0.4, 0.4, 0.4, 0.4, 0.4, 0.4, 0.4, 0.4, 0.4, 0.4, 0.4, 0.4, 0.4, 0.4, 0.4, 0.40384615384615385, 0.40384615384615385, 0.40384615384615385, 0.40384615384615385, 0.40384615384615385, 0.40384615384615385, 0.40384615384615385, 0.40384615384615385, 0.40384615384615385, 0.40384615384615385, 0.41420118343195267, 0.41420118343195267, 0.4166666666666667, 0.41818181818181815, 0.42045454545454547, 0.42510121457489874, 0.42510121457489874, 0.42510121457489874, 0.43659043659043656, 0.4440298507462686, 0.4440298507462686, 0.4444444444444444, 0.45, 0.45, 0.45, 0.45, 0.45, 0.45, 0.45, 0.45, 0.45, 0.45, 0.45, 0.4615384615384615, 0.4615384615384615, 0.4615384615384615, 0.4615384615384615, 0.4615384615384615, 0.4615384615384615, 0.4615384615384615, 0.4615384615384615, 0.4615384615384615, 0.4615384615384615, 0.46153846153846156, 0.47058823529411764, 0.4843962008141112, 0.4895104895104895, 0.4895104895104895, 0.4895104895104895, 0.4895104895104895, 0.49019607843137253, 0.5, 0.5, 0.5, 0.5, 0.5, 0.5048076923076923, 0.5048076923076923, 0.5210918114143921, 0.5210918114143921, 0.5384615384615384, 0.5384615384615384, 0.5384615384615384, 0.5384615384615384, 0.5384615384615384, 0.5384615384615384, 0.5384615384615384, 0.5384615384615384, 0.5384615384615384, 0.5384615384615384, 0.5384615384615384, 0.55, 0.55, 0.55, 0.55, 0.5570291777188329, 0.5570291777188329, 0.5570291777188329, 0.5769230769230769, 0.5769230769230769, 0.5982905982905983, 0.5982905982905983, 0.6, 0.6, 0.6, 0.621301775147929, 0.621301775147929, 0.6461538461538461, 0.6461538461538461, 0.6461538461538461, 0.6666666666666666, 0.673076923076923, 0.673076923076923, 0.673076923076923, 0.673076923076923, 0.673076923076923, 0.673076923076923, 0.673076923076923, 0.7023411371237458, 0.7023411371237458, 0.7342657342657343, 0.7342657342657343, 0.7692307692307692, 0.7692307692307692, 0.7692307692307692, 0.7692307692307692, 0.8, 0.8076923076923077, 0.8076923076923077, 0.8076923076923077, 0.8076923076923077, 0.8076923076923077, 0.8076923076923077, 0.8076923076923077, 0.8076923076923077, 0.8076923076923077, 0.8076923076923077, 0.8076923076923077, 0.8076923076923077, 0.8076923076923077, 0.8076923076923077, 0.8076923076923077, 0.8076923076923077, 0.8076923076923077, 0.8076923076923077, 0.8076923076923077, 0.8076923076923077, 0.8076923076923077, 0.8076923076923077, 0.8076923076923077, 0.8076923076923077, 0.8076923076923077, 0.8076923076923077, 0.8502024291497975, 0.8974358974358974, 0.8974358974358974, 0.8974358974358974, 0.925, 0.95, 1.0096153846153846, 1.0096153846153846, 1.0769230769230769, 1.0769230769230769, 1.1076923076923078, 1.2875, 1.346153846153846, 1.346153846153846, 1.346153846153846, 1.346153846153846, 1.6944444444444444, 1.6944444444444444, 1.6944444444444444, 1.6944444444444444, 1.6944444444444444, 1.6944444444444444, 1.6944444444444444, 1.7329545454545454, 1.7329545454545454, 1.7346938775510203, 1.7732558139534884, 1.8154761904761905, 1.90625, 1.90625, 1.90625, 1.90625, 1.90625, 1.90625, 2.060810810810811, 2.060810810810811, 2.060810810810811, 2.060810810810811, 2.060810810810811, 2.1180555555555554, 2.1785714285714284, 2.1785714285714284, 2.1785714285714284, 2.1785714285714284, 2.3828125, 2.3828125, 2.3828125, 2.3828125, 2.5416666666666665, 2.5416666666666665, 2.5416666666666665, 2.5416666666666665, 2.5416666666666665, 2.5416666666666665, 2.7232142857142856, 2.824074074074074, 3.05, 3.05, 3.05, 3.630952380952381, 3.630952380952381, 3.8125, 3.8125, 3.8125, 3.8125, 3.8125, 3.8125, 4.236111111111111, 4.485294117647059, 4.765625, 5.083333333333333, 5.446428571428571, 6.354166666666667, 6.896551724137931, 6.896551724137931, 8.78048780487805, 8.78048780487805, 10.666666666666666, 14.516129032258064, 19.3, 30.83076923076923, 62.5, 69.55172413793103, 86.21367521367522, 320.2063492063492]\n"
     ]
    },
    {
     "data": {
      "text/plain": [
       "5209"
      ]
     },
     "execution_count": 109,
     "metadata": {},
     "output_type": "execute_result"
    }
   ],
   "source": [
    "outlier =[] \n",
    "for x in data_rooms_sort: \n",
    "    if ((x> up_lim) or (x<low_lim)): \n",
    "         outlier.append(x) \n",
    "print(' outlier in the dataset is', outlier)\n",
    "len(outlier)"
   ]
  },
  {
   "cell_type": "code",
   "execution_count": 110,
   "id": "583dc1c6",
   "metadata": {},
   "outputs": [],
   "source": [
    "# Se descartan de data los outliers de surface_total_in_m2\n",
    "mask_rooms_sup = data_aux.data_rooms_sup < min(outlier_sup)\n",
    "data = data_aux[mask_rooms_sup]"
   ]
  },
  {
   "cell_type": "code",
   "execution_count": null,
   "id": "121cf920",
   "metadata": {},
   "outputs": [],
   "source": []
  },
  {
   "cell_type": "code",
   "execution_count": 112,
   "id": "3b88489c",
   "metadata": {},
   "outputs": [
    {
     "data": {
      "text/plain": [
       "12.0"
      ]
     },
     "execution_count": 112,
     "metadata": {},
     "output_type": "execute_result"
    }
   ],
   "source": []
  },
  {
   "cell_type": "code",
   "execution_count": null,
   "id": "da694342",
   "metadata": {},
   "outputs": [],
   "source": []
  }
 ],
 "metadata": {
  "kernelspec": {
   "display_name": "Python 3 (ipykernel)",
   "language": "python",
   "name": "python3"
  },
  "language_info": {
   "codemirror_mode": {
    "name": "ipython",
    "version": 3
   },
   "file_extension": ".py",
   "mimetype": "text/x-python",
   "name": "python",
   "nbconvert_exporter": "python",
   "pygments_lexer": "ipython3",
   "version": "3.8.13"
  }
 },
 "nbformat": 4,
 "nbformat_minor": 5
}
