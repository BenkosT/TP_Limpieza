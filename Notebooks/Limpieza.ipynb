{
 "cells": [
  {
   "cell_type": "markdown",
   "id": "d41a2c36",
   "metadata": {},
   "source": [
    "# **Estandarizacion de nombres de mascaras, dataset y demas:**\n",
    "- Al aplicarle una mascara a un dataset seria conveniente primero definir la mascara y en otra linea de codigo aplicarsela al dataset. Esto para que podamos ver bien que le estamos aplicando y que condiciones tiene esa mascara.\n",
    "- Ojo con utilizar mascaras o alguna otra variable, dataframe y demas, definida mucho mas arriba. No vaya a ser que le cambiemos el nombre por x motivo y nos ollvidamos que mas abajo la usamos para otra cosa y se rompa todo\n",
    "- Los nombres para las cosas que sean en ingles, separando las palabras con \" _ \" y en lo posible que se pueda intuir mediante el nombre a que se refiere\n",
    "- Como practica totalmente arbitraria intentar que los nombres no tengan mas de 5 palabras. ej: \" mask_rooms_zeros \" , \" mask_rooms_surf_zeros \" y asi\n",
    "- Si le llamamos \" mask \" a algo, que realmente lo sea. No que sea ya una mascara aplicada a un dataset. Eso es el dataset data filtrado por la mascara\n",
    "- A estos nuevos dataset llamemosle igual que la mascara que le aplicamos solo que reemplazamos el nombre mask por data. ej:  \" mask_rooms_zeros \"=  \" data_rooms_zeros \";                   \" data_rooms_surf_zeros \" = \" data_rooms_surf_zeros \"\n",
    "- Cuando creemos un nuevo dataset, un array, una lista, una serie, mascara o lo que sea poner primero el nombre del tipo de objeto y despues lo que hace, para saber lo que es eso\n",
    "- Cuando hacemos una mascara para ver si algo es nulo o cero ponemos solo \" null \". Es para no alargar los nombres\n",
    "\n"
   ]
  },
  {
   "cell_type": "markdown",
   "id": "bfb4598b",
   "metadata": {},
   "source": [
    "## Hasta aca realizamos\n",
    "- Transformacion de todos los ceros a nulos\n",
    "- Limpieza de filas nulas\n",
    "- Eliminacion de columnas sin informacion relevante y con informacion redundante\n",
    "- Eliminacion de state_name que representen menos del 1% del total de instancias\n",
    "- Correccion en las variables surface_covered_in_m2 y surface_total_in_m2 en los casos que la primera era mayor que la segunda no siendo posible esto\n",
    "- Imputacion de nulos en la columna place_name (si hacemos el paso del split de place_with_parent_names ese paso hay que eliminarlo)\n",
    "- imputacion de datos de price_aprox_usd, surface_total_in_m2 y rooms mediante expresiones regulares de las columnas description y title\n",
    "- Imputacion de datos en surface_covered_in_m2 y surface_total_in_m2 cuando uno era nulo pero el otro no\n",
    "- Imputacion de las variables surface_total_in_m2, price_aprox_usd y price_usd_per_m2 mediante deduccion de otras variables conocidas\n",
    "- Definir si se desechan las instancias que representen menos del 1% en funcion del state_name. Este es un problema de granulacion, ya que con la actual nos quedamos con muy pocas instancias para el modelo, pero aumentando la granulacion (haciendo una agregacion de todas estas en una nueva categoria, ej: resto del pais), no desechamos las instancias y solo perdemos granularidad pero no toda la informacion.\n",
    "- Corregir el patron con el que se busca el precio, para encontrar valores en pesos tambien, haciendo dos grupos, de esta manera el que matchee el grupo dolar se imputa directamente y el que matchee el grupo pesos imputarlo haciendo una conversion del valor. Por facilidad de codigo se imputa el primer grupo que matchea. **GERA , BENKOS Y ERICK**\n",
    "- Sofisticar los patrones de las expresiones regulares para encontrar mas valores, especialmente en superficie. **GERA , BENKOS Y ERICK**\n",
    "- La columna operation y country_name contienen una unica variable, en el caso de operation es sell y en el caso de country_name es argentina. No tiene sentido mantener las columnas siendo que no aportan informacion. Definir su tratamiento **PREGUNTAR A FABRI**\n",
    "- Realizar una imputacion con media condicionada en rooms por superficie, y lugar. **GERA , BENKOS y ERICK** (falta la imputacion que no se bien como hacerla)\n",
    "- Realizar una imputacion por media condicionada en superficie por media condicionada en rooms y lugar **GERA , BENKOS y ERICK** (falta la imputacion que no se bien como hacerla)\n",
    "- Revisar si no hay otra forma de determinar el price y el price por metro cuadrado y si no lo hay tirar estas instancias que sean nulas **GERA , BENKOS y ERICK**\n",
    "- Darle un tratamiento a expensas y floor. En propiedades tipo casas esta bien que sean nulas pero en departamentos no. Igualmente hay informacion ahi, quizas no sea bueno tirarla. *Como propuesta podriamos buscarlo con expresiones regulares en description y title ya que no tenemos de donde mas sacarla* *Tambien se podria ver la correlacion entre las expensas y el lugar y la superficie y si se encuentra una correlacion imputarlo por media condicionada por ejemplo **GERA , BENKOS y ERICK** **PREGUNTAR A FABRI**\n",
    "## Falta realizar\n",
    "- Darle un tratamiento a lat y lon y geonames id **VIERNES GERA**\n",
    "- Creacion de nuevas columnas estilo **Cercania a un espacio verde** **Cercania a un subte** **Mapa de delito** **GERA, BENKOS y ERICK**\n",
    "- deteccion de outliers\n",
    "- Desechar las instancias que son outliers y que tienen nulos que no deberian tener\n",
    "- EDA:  y representacion de datos y medidas estadisticas **PABLO Y ALE**\n",
    "- Presentacion, formato revision de integridad de informacion **PABLO Y ALE**"
   ]
  },
  {
   "cell_type": "markdown",
   "id": "cf94c817",
   "metadata": {},
   "source": [
    "# Importacion de librerias utilizadas"
   ]
  },
  {
   "cell_type": "code",
   "execution_count": 1,
   "id": "1086a768",
   "metadata": {},
   "outputs": [],
   "source": [
    "import pandas as pd\n",
    "import numpy as np\n",
    "import re\n",
    "import seaborn as sns"
   ]
  },
  {
   "cell_type": "markdown",
   "id": "e49ecb7a",
   "metadata": {},
   "source": [
    "# Funciones"
   ]
  },
  {
   "cell_type": "markdown",
   "id": "8b577942",
   "metadata": {},
   "source": [
    "#### *Con conocimiento de negocio se validan los datos*\n",
    "1. price_aprox_usd  ==  mayor a usd 1000 y menor a usd 10000000\n",
    "2. surface_total_in_m2 == mayor a 10 m2 y menor a 1000000 m2\n",
    "3. surface_covered_in_m2 == mayor a 10m2 y menor a 10000 m2\n",
    "4. rooms == mayor a 0 y menor a 100 \n",
    "5. price_usd_per_m2 == mayor a 100 y menor a 100000"
   ]
  },
  {
   "cell_type": "markdown",
   "id": "0625114d",
   "metadata": {},
   "source": [
    "#### Funcion de validacion de datos"
   ]
  },
  {
   "cell_type": "code",
   "execution_count": 2,
   "id": "1bb6be8f",
   "metadata": {},
   "outputs": [],
   "source": [
    "def data_validation(dataframe):\n",
    "   \n",
    "    mask_validation_price = (data.price_aprox_usd < 1000 ) | (data.price_aprox_usd > 10000000)\n",
    "    data_condition_validation_price = data[ mask_validation_price ]\n",
    "    data.loc[data_condition_validation_price.index,\"price_aprox_usd\"] = np.nan\n",
    "    \n",
    "    mask_validation_price_usd_m2 = (data.price_usd_per_m2 < 100) | (data.price_usd_per_m2 > 100000)\n",
    "    data_validation_price_usd_m2 = data[ mask_validation_price_usd_m2 ]\n",
    "    data.loc[data_validation_price_usd_m2.index,\"price_usd_per_m2\"] = np.nan\n",
    "    \n",
    "    mask_validation_surface_covered = (data.surface_covered_in_m2 <10) | (data.surface_covered_in_m2 > 10000)\n",
    "    data_validation_surface_covered = data[ mask_validation_surface_covered ]\n",
    "    data.loc[data_validation_surface_covered.index,\"surface_covered_in_m2\"] = np.nan\n",
    "    \n",
    "    mask_validation_surface_total = (data.surface_total_in_m2 <10) | (data.surface_total_in_m2 > 1000000) #100 hectareas\n",
    "    data_validation_surface_total = data[ mask_validation_surface_total ]\n",
    "    data.loc[data_validation_surface_total.index,\"surface_total_in_m2\"] = np.nan\n",
    "    \n",
    "    mask_validation_rooms = (data.rooms < 1) | (data.rooms > 100)\n",
    "    data_condition_validation_rooms = data[ mask_validation_rooms ]\n",
    "    data.loc[data_condition_validation_rooms.index,\"rooms\"] = np.nan\n",
    "   \n",
    "    return data.isnull().sum()"
   ]
  },
  {
   "cell_type": "markdown",
   "id": "97f9a290",
   "metadata": {},
   "source": [
    "# Carga de la data de Properatti como un DataFrame de Pandas"
   ]
  },
  {
   "cell_type": "code",
   "execution_count": 3,
   "id": "00cbc492",
   "metadata": {},
   "outputs": [
    {
     "data": {
      "text/html": [
       "<div>\n",
       "<style scoped>\n",
       "    .dataframe tbody tr th:only-of-type {\n",
       "        vertical-align: middle;\n",
       "    }\n",
       "\n",
       "    .dataframe tbody tr th {\n",
       "        vertical-align: top;\n",
       "    }\n",
       "\n",
       "    .dataframe thead th {\n",
       "        text-align: right;\n",
       "    }\n",
       "</style>\n",
       "<table border=\"1\" class=\"dataframe\">\n",
       "  <thead>\n",
       "    <tr style=\"text-align: right;\">\n",
       "      <th></th>\n",
       "      <th>operation</th>\n",
       "      <th>property_type</th>\n",
       "      <th>place_name</th>\n",
       "      <th>place_with_parent_names</th>\n",
       "      <th>country_name</th>\n",
       "      <th>state_name</th>\n",
       "      <th>geonames_id</th>\n",
       "      <th>lat-lon</th>\n",
       "      <th>lat</th>\n",
       "      <th>lon</th>\n",
       "      <th>...</th>\n",
       "      <th>surface_covered_in_m2</th>\n",
       "      <th>price_usd_per_m2</th>\n",
       "      <th>price_per_m2</th>\n",
       "      <th>floor</th>\n",
       "      <th>rooms</th>\n",
       "      <th>expenses</th>\n",
       "      <th>properati_url</th>\n",
       "      <th>description</th>\n",
       "      <th>title</th>\n",
       "      <th>image_thumbnail</th>\n",
       "    </tr>\n",
       "  </thead>\n",
       "  <tbody>\n",
       "    <tr>\n",
       "      <th>0</th>\n",
       "      <td>sell</td>\n",
       "      <td>PH</td>\n",
       "      <td>Mataderos</td>\n",
       "      <td>|Argentina|Capital Federal|Mataderos|</td>\n",
       "      <td>Argentina</td>\n",
       "      <td>Capital Federal</td>\n",
       "      <td>3430787.0</td>\n",
       "      <td>-34.6618237,-58.5088387</td>\n",
       "      <td>-34.661824</td>\n",
       "      <td>-58.508839</td>\n",
       "      <td>...</td>\n",
       "      <td>40.0</td>\n",
       "      <td>1127.272727</td>\n",
       "      <td>1550.000000</td>\n",
       "      <td>NaN</td>\n",
       "      <td>NaN</td>\n",
       "      <td>NaN</td>\n",
       "      <td>http://www.properati.com.ar/15bo8_venta_ph_mat...</td>\n",
       "      <td>2 AMBIENTES TIPO CASA PLANTA BAJA POR PASILLO,...</td>\n",
       "      <td>2 AMB TIPO CASA SIN EXPENSAS EN PB</td>\n",
       "      <td>https://thumbs4.properati.com/8/BluUYiHJLhgIIK...</td>\n",
       "    </tr>\n",
       "    <tr>\n",
       "      <th>1</th>\n",
       "      <td>sell</td>\n",
       "      <td>apartment</td>\n",
       "      <td>La Plata</td>\n",
       "      <td>|Argentina|Bs.As. G.B.A. Zona Sur|La Plata|</td>\n",
       "      <td>Argentina</td>\n",
       "      <td>Bs.As. G.B.A. Zona Sur</td>\n",
       "      <td>3432039.0</td>\n",
       "      <td>-34.9038831,-57.9643295</td>\n",
       "      <td>-34.903883</td>\n",
       "      <td>-57.964330</td>\n",
       "      <td>...</td>\n",
       "      <td>NaN</td>\n",
       "      <td>NaN</td>\n",
       "      <td>NaN</td>\n",
       "      <td>NaN</td>\n",
       "      <td>NaN</td>\n",
       "      <td>NaN</td>\n",
       "      <td>http://www.properati.com.ar/15bob_venta_depart...</td>\n",
       "      <td>Venta de departamento en décimo piso al frente...</td>\n",
       "      <td>VENTA Depto 2 dorm. a estrenar 7 e/ 36 y 37   ...</td>\n",
       "      <td>https://thumbs4.properati.com/7/ikpVBu2ztHA7jv...</td>\n",
       "    </tr>\n",
       "    <tr>\n",
       "      <th>2</th>\n",
       "      <td>sell</td>\n",
       "      <td>apartment</td>\n",
       "      <td>Mataderos</td>\n",
       "      <td>|Argentina|Capital Federal|Mataderos|</td>\n",
       "      <td>Argentina</td>\n",
       "      <td>Capital Federal</td>\n",
       "      <td>3430787.0</td>\n",
       "      <td>-34.6522615,-58.5229825</td>\n",
       "      <td>-34.652262</td>\n",
       "      <td>-58.522982</td>\n",
       "      <td>...</td>\n",
       "      <td>55.0</td>\n",
       "      <td>1309.090909</td>\n",
       "      <td>1309.090909</td>\n",
       "      <td>NaN</td>\n",
       "      <td>NaN</td>\n",
       "      <td>NaN</td>\n",
       "      <td>http://www.properati.com.ar/15bod_venta_depart...</td>\n",
       "      <td>2 AMBIENTES 3ER PISO LATERAL LIVING COMEDOR AM...</td>\n",
       "      <td>2 AMB 3ER PISO CON ASCENSOR APTO CREDITO</td>\n",
       "      <td>https://thumbs4.properati.com/5/SXKr34F_IwG3W_...</td>\n",
       "    </tr>\n",
       "  </tbody>\n",
       "</table>\n",
       "<p>3 rows × 25 columns</p>\n",
       "</div>"
      ],
      "text/plain": [
       "  operation property_type place_name  \\\n",
       "0      sell            PH  Mataderos   \n",
       "1      sell     apartment   La Plata   \n",
       "2      sell     apartment  Mataderos   \n",
       "\n",
       "                       place_with_parent_names country_name  \\\n",
       "0        |Argentina|Capital Federal|Mataderos|    Argentina   \n",
       "1  |Argentina|Bs.As. G.B.A. Zona Sur|La Plata|    Argentina   \n",
       "2        |Argentina|Capital Federal|Mataderos|    Argentina   \n",
       "\n",
       "               state_name  geonames_id                  lat-lon        lat  \\\n",
       "0         Capital Federal    3430787.0  -34.6618237,-58.5088387 -34.661824   \n",
       "1  Bs.As. G.B.A. Zona Sur    3432039.0  -34.9038831,-57.9643295 -34.903883   \n",
       "2         Capital Federal    3430787.0  -34.6522615,-58.5229825 -34.652262   \n",
       "\n",
       "         lon  ...  surface_covered_in_m2 price_usd_per_m2  price_per_m2  \\\n",
       "0 -58.508839  ...                   40.0      1127.272727   1550.000000   \n",
       "1 -57.964330  ...                    NaN              NaN           NaN   \n",
       "2 -58.522982  ...                   55.0      1309.090909   1309.090909   \n",
       "\n",
       "   floor  rooms  expenses                                      properati_url  \\\n",
       "0    NaN    NaN       NaN  http://www.properati.com.ar/15bo8_venta_ph_mat...   \n",
       "1    NaN    NaN       NaN  http://www.properati.com.ar/15bob_venta_depart...   \n",
       "2    NaN    NaN       NaN  http://www.properati.com.ar/15bod_venta_depart...   \n",
       "\n",
       "                                         description  \\\n",
       "0  2 AMBIENTES TIPO CASA PLANTA BAJA POR PASILLO,...   \n",
       "1  Venta de departamento en décimo piso al frente...   \n",
       "2  2 AMBIENTES 3ER PISO LATERAL LIVING COMEDOR AM...   \n",
       "\n",
       "                                               title  \\\n",
       "0                 2 AMB TIPO CASA SIN EXPENSAS EN PB   \n",
       "1  VENTA Depto 2 dorm. a estrenar 7 e/ 36 y 37   ...   \n",
       "2           2 AMB 3ER PISO CON ASCENSOR APTO CREDITO   \n",
       "\n",
       "                                     image_thumbnail  \n",
       "0  https://thumbs4.properati.com/8/BluUYiHJLhgIIK...  \n",
       "1  https://thumbs4.properati.com/7/ikpVBu2ztHA7jv...  \n",
       "2  https://thumbs4.properati.com/5/SXKr34F_IwG3W_...  \n",
       "\n",
       "[3 rows x 25 columns]"
      ]
     },
     "execution_count": 3,
     "metadata": {},
     "output_type": "execute_result"
    }
   ],
   "source": [
    "data_location = \"../Data/properatti.csv\"\n",
    "\n",
    "data = pd.read_csv(data_location, index_col=0)\n",
    "data.head(3)"
   ]
  },
  {
   "cell_type": "markdown",
   "id": "07ad2f92",
   "metadata": {},
   "source": [
    "# Analis preliminar del DataSet"
   ]
  },
  {
   "cell_type": "code",
   "execution_count": 4,
   "id": "80207f6d",
   "metadata": {},
   "outputs": [
    {
     "data": {
      "text/plain": [
       "operation                      object\n",
       "property_type                  object\n",
       "place_name                     object\n",
       "place_with_parent_names        object\n",
       "country_name                   object\n",
       "state_name                     object\n",
       "geonames_id                   float64\n",
       "lat-lon                        object\n",
       "lat                           float64\n",
       "lon                           float64\n",
       "price                         float64\n",
       "currency                       object\n",
       "price_aprox_local_currency    float64\n",
       "price_aprox_usd               float64\n",
       "surface_total_in_m2           float64\n",
       "surface_covered_in_m2         float64\n",
       "price_usd_per_m2              float64\n",
       "price_per_m2                  float64\n",
       "floor                         float64\n",
       "rooms                         float64\n",
       "expenses                      float64\n",
       "properati_url                  object\n",
       "description                    object\n",
       "title                          object\n",
       "image_thumbnail                object\n",
       "dtype: object"
      ]
     },
     "execution_count": 4,
     "metadata": {},
     "output_type": "execute_result"
    }
   ],
   "source": [
    "# Se utoliza dtypes para saber que tipo de datos se almacenan en el dataset\n",
    "data.dtypes"
   ]
  },
  {
   "cell_type": "code",
   "execution_count": 5,
   "id": "417c121c",
   "metadata": {},
   "outputs": [
    {
     "name": "stdout",
     "output_type": "stream",
     "text": [
      "operation                          0\n",
      "property_type                      0\n",
      "place_name                        23\n",
      "place_with_parent_names            0\n",
      "country_name                       0\n",
      "state_name                         0\n",
      "geonames_id                    18717\n",
      "lat-lon                        51550\n",
      "lat                            51550\n",
      "lon                            51550\n",
      "price                          20410\n",
      "currency                       20411\n",
      "price_aprox_local_currency     20410\n",
      "price_aprox_usd                20410\n",
      "surface_total_in_m2            39328\n",
      "surface_covered_in_m2          19907\n",
      "price_usd_per_m2               52603\n",
      "price_per_m2                   33562\n",
      "floor                         113321\n",
      "rooms                          73830\n",
      "expenses                      106958\n",
      "properati_url                      0\n",
      "description                        2\n",
      "title                              0\n",
      "image_thumbnail                 3112\n",
      "dtype: int64\n"
     ]
    }
   ],
   "source": [
    "# Se ven cuantos valores nulos tenemos por columna\n",
    "is_null_result = data.isnull().sum()\n",
    "print(is_null_result)"
   ]
  },
  {
   "cell_type": "code",
   "execution_count": 6,
   "id": "4fb78eb4",
   "metadata": {},
   "outputs": [
    {
     "data": {
      "text/plain": [
       "operation                      0.000000\n",
       "property_type                  0.000000\n",
       "place_name                     0.018974\n",
       "place_with_parent_names        0.000000\n",
       "country_name                   0.000000\n",
       "state_name                     0.000000\n",
       "geonames_id                   15.440521\n",
       "lat-lon                       42.525986\n",
       "lat                           42.525986\n",
       "lon                           42.525986\n",
       "price                         16.837156\n",
       "currency                      16.837981\n",
       "price_aprox_local_currency    16.837156\n",
       "price_aprox_usd               16.837156\n",
       "surface_total_in_m2           32.443491\n",
       "surface_covered_in_m2         16.422208\n",
       "price_usd_per_m2              43.394654\n",
       "price_per_m2                  27.686850\n",
       "floor                         93.483749\n",
       "rooms                         60.905791\n",
       "expenses                      88.234615\n",
       "properati_url                  0.000000\n",
       "description                    0.001650\n",
       "title                          0.000000\n",
       "image_thumbnail                2.567233\n",
       "dtype: float64"
      ]
     },
     "execution_count": 6,
     "metadata": {},
     "output_type": "execute_result"
    }
   ],
   "source": [
    "# Se ve que porcentaje de nulos tiene cada columna\n",
    "percentage_null = 100*is_null_result/data.shape[0]\n",
    "percentage_null"
   ]
  },
  {
   "cell_type": "markdown",
   "id": "3b9f5ebf",
   "metadata": {},
   "source": [
    "## Renombrado de la columna lat-lon"
   ]
  },
  {
   "cell_type": "code",
   "execution_count": 7,
   "id": "f86483d6",
   "metadata": {},
   "outputs": [],
   "source": [
    "# Se renombra la columna lat-lon para sortear inconvenientes\n",
    "data.rename(columns={'lat-lon': 'lat_lon'}, inplace=True)"
   ]
  },
  {
   "cell_type": "markdown",
   "id": "020dd153",
   "metadata": {},
   "source": [
    "## Verificacion de instancias nulas"
   ]
  },
  {
   "cell_type": "code",
   "execution_count": 8,
   "id": "a909dfe3",
   "metadata": {},
   "outputs": [
    {
     "name": "stdout",
     "output_type": "stream",
     "text": [
      "(121220, 25)\n",
      "(121220, 25)\n"
     ]
    }
   ],
   "source": [
    "# Se comprueban las instancias enteramente nulas y se las desecha \n",
    "data_clean_empty_row = data.dropna(axis = 0, how= 'all')\n",
    "print(data.shape)\n",
    "print(data_clean_empty_row.shape)\n",
    "#En este caso no hay ninguna fila con todos los valores nulos"
   ]
  },
  {
   "cell_type": "markdown",
   "id": "8fc59d76",
   "metadata": {},
   "source": [
    "### Reemplazo de valores iguales a cero por Nan"
   ]
  },
  {
   "cell_type": "markdown",
   "id": "4172f481",
   "metadata": {},
   "source": [
    "##### *Se adopta este criterio ya que no existen variables que puedan tomar el valor cero, por lo que se los interpreta como nulos*"
   ]
  },
  {
   "cell_type": "code",
   "execution_count": 9,
   "id": "241c261c",
   "metadata": {},
   "outputs": [
    {
     "data": {
      "text/plain": [
       "operation                     0\n",
       "property_type                 0\n",
       "place_name                    0\n",
       "place_with_parent_names       0\n",
       "country_name                  0\n",
       "state_name                    0\n",
       "geonames_id                   0\n",
       "lat_lon                       0\n",
       "lat                           0\n",
       "lon                           0\n",
       "price                         0\n",
       "currency                      0\n",
       "price_aprox_local_currency    0\n",
       "price_aprox_usd               0\n",
       "surface_total_in_m2           0\n",
       "surface_covered_in_m2         0\n",
       "price_usd_per_m2              0\n",
       "price_per_m2                  0\n",
       "floor                         0\n",
       "rooms                         0\n",
       "expenses                      0\n",
       "properati_url                 0\n",
       "description                   0\n",
       "title                         0\n",
       "image_thumbnail               0\n",
       "dtype: int64"
      ]
     },
     "execution_count": 9,
     "metadata": {},
     "output_type": "execute_result"
    }
   ],
   "source": [
    "# Se reemplazan los ceros por NaN\n",
    "data[data==0] = np.nan\n",
    "(data==0).sum()"
   ]
  },
  {
   "cell_type": "markdown",
   "id": "f0138435",
   "metadata": {},
   "source": [
    "# Tratamiento de columnas con informacion no util o con informacion redundante"
   ]
  },
  {
   "cell_type": "markdown",
   "id": "b68d46b2",
   "metadata": {},
   "source": [
    "## Tratamiento de columnas *properati_url* y *image_thumbnail*"
   ]
  },
  {
   "cell_type": "markdown",
   "id": "b5839d21",
   "metadata": {},
   "source": [
    "#### Se desechan las columnas *properati_url* y *image_thumbnail* ya que no aportan informacion util"
   ]
  },
  {
   "cell_type": "code",
   "execution_count": 10,
   "id": "840d434a",
   "metadata": {},
   "outputs": [
    {
     "name": "stdout",
     "output_type": "stream",
     "text": [
      "cantidad de columnas actuales= 23\n"
     ]
    }
   ],
   "source": [
    "# Se desechan las columnas properati_url y image_thumbnail de data\n",
    "data = data.drop(['properati_url', 'image_thumbnail'], axis=1)\n",
    "print(\"cantidad de columnas actuales=\",data.shape[1])"
   ]
  },
  {
   "cell_type": "markdown",
   "id": "f5c34ba9",
   "metadata": {},
   "source": [
    "## Tratamiento de columnas *price* , *price_aprox_local_currency* y *price_aprox_usd* "
   ]
  },
  {
   "cell_type": "markdown",
   "id": "7758668c",
   "metadata": {},
   "source": [
    "#### Como existe redundancia entre las columnas **price_aprox_usd**, **price** y **price_aprox_local_currency** se toma la decision de desechar  **price** y **price_aprox_local_currency**\n",
    "**Se asume igual fiabilidad de los datos en las tres variables**"
   ]
  },
  {
   "cell_type": "code",
   "execution_count": 11,
   "id": "af1bd7f3",
   "metadata": {},
   "outputs": [
    {
     "name": "stdout",
     "output_type": "stream",
     "text": [
      "Cantidad de nulos en price=  20411\n",
      "cantidad de nulos en price_aprox_local_currency=  20411\n",
      "Cantida de nulos en price_aprox_usd=  20411\n",
      "Cantidad de nulos en la interseccion de las mascaras=  20411\n",
      "True\n"
     ]
    }
   ],
   "source": [
    "# Primero se corrobora que no exista mas informacion en las columnas que se van a desechar que en la que va a quedar\n",
    "\n",
    "# Se hacen tres mascaras para encontrar las instancias que tienen un valor nulo en esa columna\n",
    "mask_price_null = data.price.isnull()\n",
    "mask_price_aprox_local_currency_null = data.price_aprox_local_currency.isnull()\n",
    "mask_price_aprox_usd_null = data.price_aprox_usd.isnull()\n",
    "\n",
    "# Se hace una interseccion de las tres mascaras\n",
    "mask_prices_null = mask_price_null & mask_price_aprox_local_currency_null & mask_price_aprox_usd_null\n",
    "\n",
    "# Si las tres mascaras tienen cada una la misma cantidad de elementos que la interseccion significa que los nulos se encuentran en las mismas instancias\n",
    "print(\"Cantidad de nulos en price= \" , mask_price_null.sum())\n",
    "print(\"cantidad de nulos en price_aprox_local_currency= \" , mask_price_aprox_local_currency_null.sum())\n",
    "print(\"Cantida de nulos en price_aprox_usd= \" , mask_price_aprox_usd_null.sum())\n",
    "print(\"Cantidad de nulos en la interseccion de las mascaras= \" , mask_prices_null.sum())\n",
    "\n",
    "# Devuelve un True si la cantidad de nulos es la misma en todas las mascaras por lo que la interseccion es perfecta\n",
    "print(mask_price_null.sum()==mask_price_aprox_local_currency_null.sum()==mask_price_aprox_usd_null.sum()==mask_prices_null.sum())"
   ]
  },
  {
   "cell_type": "code",
   "execution_count": 12,
   "id": "67dee9a6",
   "metadata": {},
   "outputs": [
    {
     "name": "stdout",
     "output_type": "stream",
     "text": [
      "cantidad de columnas actuales=  21\n"
     ]
    }
   ],
   "source": [
    "# Como se cumple la condicion, se desechan las columnas price, price_aprox_local_currency y currency \n",
    "data = data.drop(['price', 'price_aprox_local_currency'], axis=1)\n",
    "print(\"cantidad de columnas actuales= \",data.shape[1])"
   ]
  },
  {
   "cell_type": "markdown",
   "id": "486679b7",
   "metadata": {},
   "source": [
    "## Tratamiento de columnas *price_usd_per_m2* y *price_per_m2*"
   ]
  },
  {
   "cell_type": "markdown",
   "id": "196b53ee",
   "metadata": {},
   "source": [
    "#### Como existe redundancia entre las columnas *price_per_m2* y *price_usd_per_m2* se toma la decision de desechar la columna price_per_m2\n",
    "**Asumimos igual fiabilidad de datos en ambas variables**"
   ]
  },
  {
   "cell_type": "code",
   "execution_count": 13,
   "id": "a9f6649c",
   "metadata": {},
   "outputs": [
    {
     "name": "stdout",
     "output_type": "stream",
     "text": [
      "Cantidad de nulos en price_per_m2=  33562\n",
      "cantidad de nulos en price_usd_per_m2=  52603\n",
      "Cantidad de nulos en la interseccion de las mascaras=  28295\n",
      "False\n"
     ]
    }
   ],
   "source": [
    "# Primero se corrobora que no exista mas informacion en la columna que se va a desechar que en la que va a quedar\n",
    "\n",
    "# Se hacen dos mascaras para lencontrar las instancias que tienen un valor nulo en esa columna\n",
    "mask_price_per_m2_null = data.price_per_m2.isnull()\n",
    "mask_price_usd_per_m2_null = data.price_usd_per_m2.isnull()\n",
    "\n",
    "# Se hace una interseccion de las dos mascaras\n",
    "mask_prices_per_m2_null = mask_price_per_m2_null & mask_price_usd_per_m2_null \n",
    "\n",
    "# Si las tres mascaras tienen cada una la misma cantidad de elementos que la interseccion significa que los nulos se encuentran siempre en las mismas instancias\n",
    "print(\"Cantidad de nulos en price_per_m2= \" , mask_price_per_m2_null.sum())\n",
    "print(\"cantidad de nulos en price_usd_per_m2= \" , mask_price_usd_per_m2_null.sum())\n",
    "print(\"Cantidad de nulos en la interseccion de las mascaras= \" , mask_prices_per_m2_null.sum())\n",
    "\n",
    "# Devuelve un True si la cantidad de nulos es la misma en todas las mascaras por lo que la interseccion es perfecta\n",
    "print(mask_price_per_m2_null.sum()==mask_price_usd_per_m2_null.sum()==mask_prices_per_m2_null.sum())"
   ]
  },
  {
   "cell_type": "markdown",
   "id": "9d45deb7",
   "metadata": {},
   "source": [
    "##### *Como hay mas informacion en una columna que en la otra, en las instancias en que price_usd_per_m2 es nulo pero no lo es price_per_m2, se imputa el valor haciendo una conversion de moneda*"
   ]
  },
  {
   "cell_type": "code",
   "execution_count": 14,
   "id": "8d60da3b",
   "metadata": {},
   "outputs": [],
   "source": [
    "# Se obtienen dos dataframe con el price_usd_per_m2 nnulo y price_per_m2 no nulo diferenciados por la currency\n",
    "mask_prices_per_m2_USD = data.price_usd_per_m2.isnull() & data.price_per_m2.notnull() & (data.currency == \"USD\")\n",
    "data_prices_per_m2_USD = data [mask_prices_per_m2_USD]\n",
    "\n",
    "mask_prices_per_m2_ARS = data.price_usd_per_m2.isnull() & data.price_per_m2.notnull() & (data.currency == \"ARS\")\n",
    "data_prices_per_m2_ARS = data [mask_prices_per_m2_ARS]\n",
    "\n",
    "# Se define una variable que contenga el valor de conversion de pesos a dolar\n",
    "pesos = 1/200\n",
    "\n",
    "# Se imputa en price_usd_per_m2 el valor de price_per_m2 multiplicado por el valor de la conversion de pesos a dolar\n",
    "data.loc[data_prices_per_m2_USD.index,\"price_usd_per_m2\"] = data.loc[data_prices_per_m2_USD.index, \"price_per_m2\"]\n",
    "\n",
    "# Se imputa en price_usd_per_m2 el valor de price_per_m2 multiplicado por el valor de la conversion de pesos a dolar\n",
    "data.loc[data_prices_per_m2_ARS.index,\"price_usd_per_m2\"] = pesos *data.loc[data_prices_per_m2_ARS.index, \"price_per_m2\"]"
   ]
  },
  {
   "cell_type": "code",
   "execution_count": 15,
   "id": "c9a4d956",
   "metadata": {},
   "outputs": [
    {
     "name": "stdout",
     "output_type": "stream",
     "text": [
      "cantidad de columnas actuales=  20\n"
     ]
    }
   ],
   "source": [
    "# Se desecha la columna price_per_m2\n",
    "data = data.drop(['price_per_m2'], axis=1)\n",
    "print(\"cantidad de columnas actuales= \",data.shape[1])"
   ]
  },
  {
   "cell_type": "markdown",
   "id": "4927ee9a",
   "metadata": {},
   "source": [
    "## Tratamiento de columnas *lat-lon*, *lat* y *lon*"
   ]
  },
  {
   "cell_type": "markdown",
   "id": "b4e0b0a9",
   "metadata": {},
   "source": [
    "#### Como existe redundancia entre las columnas *lat-lon*, *lat* y *lon* se toma la decision de desechar la columna *lat-lon*\n",
    "**Asumimos igual fiabilidad de datos en las tres variables**"
   ]
  },
  {
   "cell_type": "code",
   "execution_count": 16,
   "id": "eda277b6",
   "metadata": {},
   "outputs": [
    {
     "name": "stdout",
     "output_type": "stream",
     "text": [
      "Cantidad de nulos en lat-lon=  51550\n",
      "cantidad de nulos en lat=  51550\n",
      "Cantida de nulos en lon=  51550\n",
      "Cantidad de nulos en la interseccion de las mascaras=  51550\n",
      "True\n"
     ]
    }
   ],
   "source": [
    "# Primero se corrobora que no exista mas informacion en la columna que se va a desechar que en lsa que se van a quedar\n",
    "\n",
    "# Se hacen tres mascaras para encontrar las instancias de latitud y longitud que contengan los nulos de las mismas\n",
    "mask_lat_lon_null = data.lat_lon.isnull()\n",
    "mask_lat_null = data.lat.isnull()\n",
    "mask_lon_null = data.lon.isnull()\n",
    "\n",
    "# Se hace una interseccion de las tres mascaras\n",
    "mask_inter_lat_lon_null = mask_lat_lon_null & mask_lat_null & mask_lon_null\n",
    "\n",
    "# Si las tres mascaras tienen cada una la misma cantidad de elementos que la interseccion significa que los nulos se encuentran siempre en las mismas instancias\n",
    "print(\"Cantidad de nulos en lat-lon= \" , mask_lat_lon_null.sum())\n",
    "print(\"cantidad de nulos en lat= \" , mask_lat_null.sum())\n",
    "print(\"Cantida de nulos en lon= \" , mask_lon_null.sum())\n",
    "print(\"Cantidad de nulos en la interseccion de las mascaras= \" , mask_inter_lat_lon_null.sum())\n",
    "\n",
    "# Devuelve un True si la cantidad de nulos es la misma en todas las mascaras por lo que la interseccion es perfecta\n",
    "print(mask_lat_lon_null.sum()==mask_lat_null.sum()==mask_lon_null.sum()==mask_inter_lat_lon_null.sum())"
   ]
  },
  {
   "cell_type": "code",
   "execution_count": 17,
   "id": "b0041b6b",
   "metadata": {},
   "outputs": [
    {
     "name": "stdout",
     "output_type": "stream",
     "text": [
      "cantidad de columnas actuales=  19\n"
     ]
    }
   ],
   "source": [
    "# Como la condicion se cumple, se desecha la columna lat_lon\n",
    "data = data.drop(['lat_lon'], axis=1)\n",
    "print(\"cantidad de columnas actuales= \",data.shape[1])"
   ]
  },
  {
   "cell_type": "markdown",
   "id": "ce68d1bb",
   "metadata": {},
   "source": [
    "# Analisis de instancias en funcion del state_name"
   ]
  },
  {
   "cell_type": "code",
   "execution_count": 18,
   "id": "d0add0aa",
   "metadata": {},
   "outputs": [
    {
     "data": {
      "text/plain": [
       "array(['Capital Federal', 'Bs.As. G.B.A. Zona Sur',\n",
       "       'Buenos Aires Costa Atlántica', 'Entre Ríos',\n",
       "       'Bs.As. G.B.A. Zona Norte', 'Santa Fe', 'Córdoba',\n",
       "       'Bs.As. G.B.A. Zona Oeste', 'Misiones', 'Buenos Aires Interior',\n",
       "       'Salta', 'Neuquén', 'Río Negro', 'San Luis', 'Mendoza',\n",
       "       'Corrientes', 'Chubut', 'Tucumán', 'La Pampa', 'Chaco', 'San Juan',\n",
       "       'Santa Cruz', 'Tierra Del Fuego', 'Catamarca',\n",
       "       'Santiago Del Estero', 'Jujuy', 'La Rioja', 'Formosa'],\n",
       "      dtype=object)"
      ]
     },
     "execution_count": 18,
     "metadata": {},
     "output_type": "execute_result"
    }
   ],
   "source": [
    "# Se presentan todos los diferentes state_name que hay en el DataSet\n",
    "data.state_name.unique()"
   ]
  },
  {
   "cell_type": "code",
   "execution_count": 19,
   "id": "2b04ade1",
   "metadata": {},
   "outputs": [
    {
     "data": {
      "text/plain": [
       "Capital Federal                 32316\n",
       "Bs.As. G.B.A. Zona Norte        25560\n",
       "Bs.As. G.B.A. Zona Sur          13952\n",
       "Córdoba                         12069\n",
       "Santa Fe                        10172\n",
       "Buenos Aires Costa Atlántica    10006\n",
       "Bs.As. G.B.A. Zona Oeste         9322\n",
       "Buenos Aires Interior            2291\n",
       "Río Negro                         808\n",
       "Neuquén                           733\n",
       "Mendoza                           681\n",
       "Tucumán                           674\n",
       "Corrientes                        583\n",
       "Misiones                          464\n",
       "Entre Ríos                        369\n",
       "Salta                             278\n",
       "Chubut                            259\n",
       "San Luis                          252\n",
       "La Pampa                          157\n",
       "Formosa                            65\n",
       "Chaco                              57\n",
       "San Juan                           40\n",
       "Tierra Del Fuego                   31\n",
       "Catamarca                          27\n",
       "Jujuy                              26\n",
       "Santa Cruz                         20\n",
       "Santiago Del Estero                 4\n",
       "La Rioja                            4\n",
       "Name: state_name, dtype: int64"
      ]
     },
     "execution_count": 19,
     "metadata": {},
     "output_type": "execute_result"
    }
   ],
   "source": [
    "# Se presentan la cantidad de instancias que acumula cada state_name\n",
    "state_name_distribution = pd.value_counts(data.state_name)\n",
    "state_name_distribution"
   ]
  },
  {
   "cell_type": "code",
   "execution_count": 20,
   "id": "34bcd1c7",
   "metadata": {},
   "outputs": [
    {
     "data": {
      "text/plain": [
       "Capital Federal                 26.658967\n",
       "Bs.As. G.B.A. Zona Norte        21.085629\n",
       "Bs.As. G.B.A. Zona Sur          11.509652\n",
       "Córdoba                          9.956278\n",
       "Santa Fe                         8.391355\n",
       "Buenos Aires Costa Atlántica     8.254413\n",
       "Bs.As. G.B.A. Zona Oeste         7.690150\n",
       "Buenos Aires Interior            1.889952\n",
       "Río Negro                        0.666557\n",
       "Neuquén                          0.604686\n",
       "Mendoza                          0.561788\n",
       "Tucumán                          0.556014\n",
       "Corrientes                       0.480944\n",
       "Misiones                         0.382775\n",
       "Entre Ríos                       0.304405\n",
       "Salta                            0.229335\n",
       "Chubut                           0.213661\n",
       "San Luis                         0.207886\n",
       "La Pampa                         0.129517\n",
       "Formosa                          0.053622\n",
       "Chaco                            0.047022\n",
       "San Juan                         0.032998\n",
       "Tierra Del Fuego                 0.025573\n",
       "Catamarca                        0.022274\n",
       "Jujuy                            0.021449\n",
       "Santa Cruz                       0.016499\n",
       "Santiago Del Estero              0.003300\n",
       "La Rioja                         0.003300\n",
       "Name: state_name, dtype: float64"
      ]
     },
     "execution_count": 20,
     "metadata": {},
     "output_type": "execute_result"
    }
   ],
   "source": [
    "# Se presentan los porcentajes de la distribucion de los datos por state_name\n",
    "total_data = data.shape[0]\n",
    "percentage_state_name = 100*state_name_distribution/total_data\n",
    "percentage_state_name"
   ]
  },
  {
   "cell_type": "markdown",
   "id": "97a5f664",
   "metadata": {},
   "source": [
    "### Se toma la decision de desechar las instancias correspondientes a los *state_name* que representan < 1% del total de instancias."
   ]
  },
  {
   "cell_type": "markdown",
   "id": "54b11fa8",
   "metadata": {},
   "source": [
    "#### **Tomamos esta decision ya que consideramos que en estos state_names no contamos con las instancias suficientes como para realizar un analisis fiable**"
   ]
  },
  {
   "cell_type": "code",
   "execution_count": 21,
   "id": "82db25f8",
   "metadata": {},
   "outputs": [
    {
     "name": "stdout",
     "output_type": "stream",
     "text": [
      "Se desecha el  4.56% del total de los datos\n"
     ]
    },
    {
     "data": {
      "text/plain": [
       "Capital Federal                 26.66\n",
       "Bs.As. G.B.A. Zona Norte        21.09\n",
       "Bs.As. G.B.A. Zona Sur          11.51\n",
       "Córdoba                          9.96\n",
       "Santa Fe                         8.39\n",
       "Buenos Aires Costa Atlántica     8.25\n",
       "Bs.As. G.B.A. Zona Oeste         7.69\n",
       "Buenos Aires Interior            1.89\n",
       "Name: state_name, dtype: float64"
      ]
     },
     "execution_count": 21,
     "metadata": {},
     "output_type": "execute_result"
    }
   ],
   "source": [
    "# Se le aplica una mascara a la serie percentage_state_name con la condicion de que el state_name sea mayor a 1%\n",
    "mask_1_percent = percentage_state_name > 1\n",
    "series_1_percent = percentage_state_name [mask_1_percent]\n",
    "print(f'Se desecha el  {round(100 - series_1_percent.sum(), 2)}% del total de los datos')\n",
    "round(series_1_percent, 2)"
   ]
  },
  {
   "cell_type": "code",
   "execution_count": 22,
   "id": "685bc1a6",
   "metadata": {},
   "outputs": [],
   "source": [
    "# Se descartan las instancias en las que su state_name no este dentro del indice de la serie series_1_percent\n",
    "data = data[data.state_name.isin(series_1_percent.index)]"
   ]
  },
  {
   "cell_type": "markdown",
   "id": "cf7acd62",
   "metadata": {},
   "source": [
    "## Desagregacion de la columna place_with_parent_names"
   ]
  },
  {
   "cell_type": "markdown",
   "id": "3f5f40df",
   "metadata": {},
   "source": [
    "**Consideracion:** *Capital federal esta considerado como state_name, por lo que en city_name iran los barrios de la ciudad*"
   ]
  },
  {
   "cell_type": "markdown",
   "id": "4a130c67",
   "metadata": {},
   "source": [
    "##### **Para realizar esto se asume igual fiabilidad en los datos de las columnas place_name, country_name, state_name y place_with_parent_names**"
   ]
  },
  {
   "cell_type": "code",
   "execution_count": 23,
   "id": "670b2366",
   "metadata": {},
   "outputs": [
    {
     "data": {
      "text/html": [
       "<div>\n",
       "<style scoped>\n",
       "    .dataframe tbody tr th:only-of-type {\n",
       "        vertical-align: middle;\n",
       "    }\n",
       "\n",
       "    .dataframe tbody tr th {\n",
       "        vertical-align: top;\n",
       "    }\n",
       "\n",
       "    .dataframe thead th {\n",
       "        text-align: right;\n",
       "    }\n",
       "</style>\n",
       "<table border=\"1\" class=\"dataframe\">\n",
       "  <thead>\n",
       "    <tr style=\"text-align: right;\">\n",
       "      <th></th>\n",
       "      <th>0</th>\n",
       "      <th>1</th>\n",
       "      <th>2</th>\n",
       "      <th>3</th>\n",
       "      <th>4</th>\n",
       "      <th>5</th>\n",
       "      <th>6</th>\n",
       "    </tr>\n",
       "  </thead>\n",
       "  <tbody>\n",
       "    <tr>\n",
       "      <th>0</th>\n",
       "      <td></td>\n",
       "      <td>Argentina</td>\n",
       "      <td>Capital Federal</td>\n",
       "      <td>Mataderos</td>\n",
       "      <td></td>\n",
       "      <td>None</td>\n",
       "      <td>None</td>\n",
       "    </tr>\n",
       "    <tr>\n",
       "      <th>1</th>\n",
       "      <td></td>\n",
       "      <td>Argentina</td>\n",
       "      <td>Bs.As. G.B.A. Zona Sur</td>\n",
       "      <td>La Plata</td>\n",
       "      <td></td>\n",
       "      <td>None</td>\n",
       "      <td>None</td>\n",
       "    </tr>\n",
       "    <tr>\n",
       "      <th>2</th>\n",
       "      <td></td>\n",
       "      <td>Argentina</td>\n",
       "      <td>Capital Federal</td>\n",
       "      <td>Mataderos</td>\n",
       "      <td></td>\n",
       "      <td>None</td>\n",
       "      <td>None</td>\n",
       "    </tr>\n",
       "  </tbody>\n",
       "</table>\n",
       "</div>"
      ],
      "text/plain": [
       "  0          1                       2          3 4     5     6\n",
       "0    Argentina         Capital Federal  Mataderos    None  None\n",
       "1    Argentina  Bs.As. G.B.A. Zona Sur   La Plata    None  None\n",
       "2    Argentina         Capital Federal  Mataderos    None  None"
      ]
     },
     "execution_count": 23,
     "metadata": {},
     "output_type": "execute_result"
    }
   ],
   "source": [
    "#  Se realiza un split a la columna place_with_parent_names\n",
    "data_place_with_parent_names = data[\"place_with_parent_names\"].str.split(\"|\", expand=True)\n",
    "data_place_with_parent_names.head(3)"
   ]
  },
  {
   "cell_type": "code",
   "execution_count": 24,
   "id": "593c95e6",
   "metadata": {},
   "outputs": [],
   "source": [
    "# Se descartan las columnas 0, 5 y 6 ya que contienen no contienen informacion\n",
    "data_place_with_parent_names = data_place_with_parent_names.drop([0,5,6], axis=1)"
   ]
  },
  {
   "cell_type": "code",
   "execution_count": 25,
   "id": "e95a314d",
   "metadata": {},
   "outputs": [
    {
     "data": {
      "text/plain": [
       "Index(['country_name', 'state_name', 'city_name', 'neighborhood_name'], dtype='object')"
      ]
     },
     "execution_count": 25,
     "metadata": {},
     "output_type": "execute_result"
    }
   ],
   "source": [
    "# Se renombran las columnas\n",
    "data_place_with_parent_names.rename(columns={1: 'country_name' , 2 : 'state_name' , 3 : 'city_name' , 4 : 'neighborhood_name'}, inplace=True)\n",
    "data_place_with_parent_names.columns"
   ]
  },
  {
   "cell_type": "code",
   "execution_count": 26,
   "id": "4c24e856",
   "metadata": {},
   "outputs": [
    {
     "name": "stdout",
     "output_type": "stream",
     "text": [
      "El total de strings vacios es= \n",
      " country_name            0\n",
      "state_name              0\n",
      "city_name               0\n",
      "neighborhood_name    4422\n",
      "dtype: int64\n",
      "El total de nulos es= \n",
      " country_name             0\n",
      "state_name               0\n",
      "city_name             4422\n",
      "neighborhood_name    71487\n",
      "dtype: int64\n"
     ]
    }
   ],
   "source": [
    "# Se visualiza el total de strings vacios \"\"\n",
    "print( \"El total de strings vacios es= \\n\" , data_place_with_parent_names.isnull().sum())\n",
    "# Se visualiza el total de nulos\n",
    "print( \"El total de nulos es= \\n\" , (data_place_with_parent_names=='').sum())"
   ]
  },
  {
   "cell_type": "code",
   "execution_count": 27,
   "id": "32d0e18c",
   "metadata": {},
   "outputs": [],
   "source": [
    "# Se reemplazan las cadenas vacias en city_name a nulos\n",
    "data_city_name_empty = data_place_with_parent_names[data_place_with_parent_names.city_name==\"\"]\n",
    "data_place_with_parent_names.loc[data_city_name_empty.index,\"city_name\"] = None\n",
    "\n",
    "# Se reemplazan las cadenas vacias en neighborhood_name a nulos\n",
    "data_neighborhood_name_empty = data_place_with_parent_names[data_place_with_parent_names.neighborhood_name==\"\"]\n",
    "data_place_with_parent_names.loc[data_neighborhood_name_empty.index,\"neighborhood_name\"] = None"
   ]
  },
  {
   "cell_type": "code",
   "execution_count": 28,
   "id": "21debd79",
   "metadata": {},
   "outputs": [
    {
     "name": "stdout",
     "output_type": "stream",
     "text": [
      "El total de nulos es= \n",
      " country_name             0\n",
      "state_name               0\n",
      "city_name             4422\n",
      "neighborhood_name    75909\n",
      "dtype: int64\n",
      "El total de strings vacios es= \n",
      " country_name         0\n",
      "state_name           0\n",
      "city_name            0\n",
      "neighborhood_name    0\n",
      "dtype: int64\n"
     ]
    }
   ],
   "source": [
    "# Se visualiza el total de strings vacios \"\"\n",
    "print( \"El total de nulos es= \\n\" , data_place_with_parent_names.isnull().sum())\n",
    "\n",
    "# Se visualiza el total de nulos\n",
    "print( \"El total de strings vacios es= \\n\" , (data_place_with_parent_names=='').sum())"
   ]
  },
  {
   "cell_type": "code",
   "execution_count": 29,
   "id": "54b0261a",
   "metadata": {},
   "outputs": [],
   "source": [
    "# Se eliminan en data las columnas que se van a reemplazar\n",
    "data = data.drop([\"place_name\",\"place_with_parent_names\",\"country_name\",\"state_name\"], axis=1)"
   ]
  },
  {
   "cell_type": "code",
   "execution_count": 30,
   "id": "bed1fe36",
   "metadata": {},
   "outputs": [
    {
     "data": {
      "text/plain": [
       "Index(['operation', 'property_type', 'geonames_id', 'lat', 'lon', 'currency',\n",
       "       'price_aprox_usd', 'surface_total_in_m2', 'surface_covered_in_m2',\n",
       "       'price_usd_per_m2', 'floor', 'rooms', 'expenses', 'description',\n",
       "       'title', 'country_name', 'state_name', 'city_name',\n",
       "       'neighborhood_name'],\n",
       "      dtype='object')"
      ]
     },
     "execution_count": 30,
     "metadata": {},
     "output_type": "execute_result"
    }
   ],
   "source": [
    "# Se concatena data con data_place_with_parent_names. Se realiza con concat ya que tienen el mismo orden las instancias \n",
    "data = pd.concat([data, data_place_with_parent_names], axis=1)\n",
    "data.columns"
   ]
  },
  {
   "cell_type": "code",
   "execution_count": 31,
   "id": "64931820",
   "metadata": {},
   "outputs": [],
   "source": [
    "# Se reordenan las columnas para que queden en el orden original\n",
    "data= data[['operation', 'property_type','country_name', 'state_name', 'city_name', \n",
    "            'neighborhood_name', 'geonames_id', 'lat', 'lon','price_aprox_usd', \n",
    "            'surface_total_in_m2', 'surface_covered_in_m2',\n",
    "       'price_usd_per_m2', 'floor', 'rooms', 'expenses', 'description',\n",
    "       'title',]]"
   ]
  },
  {
   "cell_type": "markdown",
   "id": "cfd3c728",
   "metadata": {},
   "source": [
    "# Validacion de datos"
   ]
  },
  {
   "cell_type": "code",
   "execution_count": 32,
   "id": "be655bb7",
   "metadata": {},
   "outputs": [
    {
     "data": {
      "text/plain": [
       "operation                     0\n",
       "property_type                 0\n",
       "country_name                  0\n",
       "state_name                    0\n",
       "city_name                  4422\n",
       "neighborhood_name         75909\n",
       "geonames_id               18527\n",
       "lat                       48639\n",
       "lon                       48639\n",
       "price_aprox_usd           17871\n",
       "surface_total_in_m2       37437\n",
       "surface_covered_in_m2     17746\n",
       "price_usd_per_m2          25390\n",
       "floor                    108073\n",
       "rooms                     69989\n",
       "expenses                 101758\n",
       "description                   2\n",
       "title                         0\n",
       "dtype: int64"
      ]
     },
     "execution_count": 32,
     "metadata": {},
     "output_type": "execute_result"
    }
   ],
   "source": [
    "data.isnull().sum()"
   ]
  },
  {
   "cell_type": "code",
   "execution_count": 33,
   "id": "ae68d023",
   "metadata": {},
   "outputs": [
    {
     "data": {
      "text/plain": [
       "operation                     0\n",
       "property_type                 0\n",
       "country_name                  0\n",
       "state_name                    0\n",
       "city_name                  4422\n",
       "neighborhood_name         75909\n",
       "geonames_id               18527\n",
       "lat                       48639\n",
       "lon                       48639\n",
       "price_aprox_usd           17882\n",
       "surface_total_in_m2       37437\n",
       "surface_covered_in_m2     18190\n",
       "price_usd_per_m2          26966\n",
       "floor                    108073\n",
       "rooms                     69989\n",
       "expenses                 101758\n",
       "description                   2\n",
       "title                         0\n",
       "dtype: int64"
      ]
     },
     "execution_count": 33,
     "metadata": {},
     "output_type": "execute_result"
    }
   ],
   "source": [
    "data_validation(data)"
   ]
  },
  {
   "cell_type": "markdown",
   "id": "9b726357",
   "metadata": {},
   "source": [
    "## Correccion de instancias que tienen surface_total_in_m2 < surface_covered_in_m2"
   ]
  },
  {
   "cell_type": "code",
   "execution_count": 34,
   "id": "6fee4900",
   "metadata": {},
   "outputs": [],
   "source": [
    "# Se corrobora en que casos el valor surface_total_in_m2 es menor que el valor surface_covered_in_m2\n",
    "mask_surface = data.surface_total_in_m2 < data.surface_covered_in_m2\n",
    "data_surface = data[mask_surface]\n",
    "\n",
    "# Se generan dos listas con los valores de surface_total_in_m2 y surface_covered_in_m2 en las instancias con el index de data_surface\n",
    "list_a = data_surface.surface_total_in_m2\n",
    "list_b = data_surface.surface_covered_in_m2\n",
    "\n",
    "# Se le asigna en funcion del index de data_surface, los valores de surface_total_in_m2 a surface_covered_in_m2 y viceversa\n",
    "data.loc[data_surface.index, \"surface_total_in_m2\"] = list_b\n",
    "data.loc[data_surface.index, \"surface_covered_in_m2\"] = list_a"
   ]
  },
  {
   "cell_type": "markdown",
   "id": "73041aba",
   "metadata": {},
   "source": [
    "# Imputacion de datos faltantes"
   ]
  },
  {
   "cell_type": "markdown",
   "id": "b205546b",
   "metadata": {},
   "source": [
    "# Logica a seguir para la imputacion de datos faltantes\n",
    "1. Imputacion de datos obtenidos mediante expresiones regulares en las columnas description y title\n",
    "2. Imputacion directa mediante deduccion con valores de otras columnas\n",
    "3. Imputacion mediante media condicionada (esta metodologia no se aplica en columnas de precio)"
   ]
  },
  {
   "cell_type": "markdown",
   "id": "a5615cf6",
   "metadata": {},
   "source": [
    "## Obtencion de datos con expresiones regulares de las columnas *description* y *title*"
   ]
  },
  {
   "cell_type": "markdown",
   "id": "2ad8d7d5",
   "metadata": {},
   "source": [
    "## Obtencion de rooms con expresiones regulares"
   ]
  },
  {
   "cell_type": "markdown",
   "id": "be8228ac",
   "metadata": {},
   "source": [
    "##### *Se obtienen los rooms nulos en primera instancia con expresiones regulares. No se obtienen primero con una media condicionada de la superficie cubierta y el lugar ya que es mas preciso obtenerlos con un dato directo del dataset*"
   ]
  },
  {
   "cell_type": "markdown",
   "id": "97533c3e",
   "metadata": {},
   "source": [
    "### Obtencion de rooms con expresion regular en *description*"
   ]
  },
  {
   "cell_type": "code",
   "execution_count": 35,
   "id": "90499839",
   "metadata": {},
   "outputs": [
    {
     "name": "stdout",
     "output_type": "stream",
     "text": [
      "Cantidad de instancias en las que se va a aplicar la expresion regular=  69989\n"
     ]
    }
   ],
   "source": [
    "# Se obtiene a partir de data una serie que contenga las instancias con rooms nulos\n",
    "mask_rooms_null =  data.rooms.isnull()\n",
    "data_rooms_null = data [mask_rooms_null]\n",
    "series_rooms_null_description = data_rooms_null.description\n",
    "\n",
    "print(\"Cantidad de instancias en las que se va a aplicar la expresion regular= \",series_rooms_null_description.shape[0])"
   ]
  },
  {
   "cell_type": "code",
   "execution_count": 36,
   "id": "09774872",
   "metadata": {},
   "outputs": [
    {
     "name": "stderr",
     "output_type": "stream",
     "text": [
      "C:\\Users\\General\\AppData\\Local\\Temp\\ipykernel_12804\\3898365534.py:3: DeprecationWarning: Flags not at the start of the expression '(?P<rooms>\\\\d+)\\\\s+(?i' (truncated)\n",
      "  pattern_rooms_regex = re.compile(pattern)\n"
     ]
    }
   ],
   "source": [
    "# logica del patron: Toma un numero de un digito o mas,seguido o no de un espacio o mas y de las letras amb no distinguiendo entre mayusculas y minusculas\n",
    "pattern = \"(?P<rooms>\\d+)\\s+(?i)amb\"\n",
    "pattern_rooms_regex = re.compile(pattern)"
   ]
  },
  {
   "cell_type": "code",
   "execution_count": 37,
   "id": "69789c78",
   "metadata": {},
   "outputs": [
    {
     "name": "stdout",
     "output_type": "stream",
     "text": [
      "Rooms matcheados= 18608\n",
      "['2' nan '3' '1' '4' '7' '5' '6' '9' '2017' '103' '297' '072' '000' '11'\n",
      " '8' '085' '37' '800' '10' '12' '900' '0002' '400' '20174' '006' '17' '90'\n",
      " '0001' '772' '2004' '14' '24' '50' '20' '23' '65' '20173']\n"
     ]
    }
   ],
   "source": [
    "# Se aplica una funcion lamda para recorrer la serie series_rooms_null_description aplicando la expresion regular\n",
    "description_rooms_result = series_rooms_null_description.apply(lambda x: pattern_rooms_regex.search(str(x)))\n",
    "\n",
    "# Se extraen los datos que usaremos para la imputación\n",
    "description_rooms_match = description_rooms_result.apply(lambda x: np.nan if x is None else x.group('rooms'))\n",
    "\n",
    "print(\"Rooms matcheados=\",(description_rooms_match.notnull()).sum()) # Se ve la cantidad que pudo matchear\n",
    "print(description_rooms_match.unique()) # Se ven todos los rooms unicos que matcheo"
   ]
  },
  {
   "cell_type": "code",
   "execution_count": 38,
   "id": "97312ddc",
   "metadata": {},
   "outputs": [],
   "source": [
    "# Se imputa la serie description_rooms_match con su index en data\n",
    "data.loc[description_rooms_match.index, \"rooms\"] = description_rooms_match "
   ]
  },
  {
   "cell_type": "markdown",
   "id": "13482eb0",
   "metadata": {},
   "source": [
    "### Obtencion de rooms con expresion regular en *title*"
   ]
  },
  {
   "cell_type": "code",
   "execution_count": 39,
   "id": "264be7ad",
   "metadata": {},
   "outputs": [
    {
     "name": "stdout",
     "output_type": "stream",
     "text": [
      "Cantidad de instancias en las que se va a aplicar la expresion regular=  51381\n"
     ]
    }
   ],
   "source": [
    "# Se obtiene a partir de data una serie que contenga las instancias con rooms nulos\n",
    "mask_rooms_null = data.rooms.isnull()\n",
    "data_rooms_null = data [mask_rooms_null]\n",
    "series_rooms_null_title = data_rooms_null.title\n",
    "\n",
    "print(\"Cantidad de instancias en las que se va a aplicar la expresion regular= \",series_rooms_null_title.shape[0])"
   ]
  },
  {
   "cell_type": "code",
   "execution_count": 40,
   "id": "f9208e1c",
   "metadata": {},
   "outputs": [
    {
     "name": "stdout",
     "output_type": "stream",
     "text": [
      "Rooms matcheados= 2505\n",
      "[nan '2' '6' '3' '4' '5' '9' '1' '7' '8' '15' '4000' '360' '12']\n"
     ]
    }
   ],
   "source": [
    "# Se aplica una funcion lamda para recorrer la serie series_rooms_null_title aplicando la expresion regular\n",
    "title_rooms_result = series_rooms_null_title.apply(lambda x: pattern_rooms_regex.search(str(x)))\n",
    "\n",
    "# Se extraen los datos que usaremos para la imputación\n",
    "title_rooms_match = title_rooms_result.apply(lambda x: np.nan if x is None else x.group('rooms'))\n",
    "\n",
    "print(\"Rooms matcheados=\",(title_rooms_match.notnull()).sum())  # Se ve la cantidad que pudo matchear\n",
    "print(title_rooms_match.unique()) # Se ven todos los rooms unicos que matcheo"
   ]
  },
  {
   "cell_type": "code",
   "execution_count": 41,
   "id": "450f8ef5",
   "metadata": {},
   "outputs": [],
   "source": [
    "# Se imputa la serie title_rooms_match con su index en data\n",
    "data.loc[title_rooms_match.index, \"rooms\"] = title_rooms_match "
   ]
  },
  {
   "cell_type": "code",
   "execution_count": 42,
   "id": "5080d365",
   "metadata": {},
   "outputs": [
    {
     "data": {
      "text/plain": [
       "dtype('float64')"
      ]
     },
     "execution_count": 42,
     "metadata": {},
     "output_type": "execute_result"
    }
   ],
   "source": [
    "# Se cambia el tipo de dato de object a float\n",
    "data[\"rooms\"] = data[\"rooms\"].astype(\"float\")\n",
    "data.rooms.dtypes"
   ]
  },
  {
   "cell_type": "markdown",
   "id": "210ecf0a",
   "metadata": {},
   "source": [
    "#### Validacion de datos"
   ]
  },
  {
   "cell_type": "code",
   "execution_count": 43,
   "id": "428446ac",
   "metadata": {},
   "outputs": [
    {
     "data": {
      "text/plain": [
       "operation                     0\n",
       "property_type                 0\n",
       "country_name                  0\n",
       "state_name                    0\n",
       "city_name                  4422\n",
       "neighborhood_name         75909\n",
       "geonames_id               18527\n",
       "lat                       48639\n",
       "lon                       48639\n",
       "price_aprox_usd           17882\n",
       "surface_total_in_m2       37437\n",
       "surface_covered_in_m2     18190\n",
       "price_usd_per_m2          26966\n",
       "floor                    108073\n",
       "rooms                     48903\n",
       "expenses                 101758\n",
       "description                   2\n",
       "title                         0\n",
       "dtype: int64"
      ]
     },
     "execution_count": 43,
     "metadata": {},
     "output_type": "execute_result"
    }
   ],
   "source": [
    "data_validation(data)"
   ]
  },
  {
   "cell_type": "markdown",
   "id": "3f78d413",
   "metadata": {},
   "source": [
    "## Obtencion de surface_total_in_m2 con expresiones regulares"
   ]
  },
  {
   "cell_type": "markdown",
   "id": "5afbc5cb",
   "metadata": {},
   "source": [
    "##### *Se obtienen la superficie en la que ambas superficies sean nulas y el precio y el precio por metro cuadrado es nulo. De esta manera sabemos que no podemos imputar una superficie con la otra y no podemos inferir la superficie mediante el precio y el precio por metro cuadrado*"
   ]
  },
  {
   "cell_type": "markdown",
   "id": "8f8a00e6",
   "metadata": {},
   "source": [
    "### Obtencion de surface_total_in_m2 con expresion regular en *description*"
   ]
  },
  {
   "cell_type": "code",
   "execution_count": 44,
   "id": "93088978",
   "metadata": {},
   "outputs": [
    {
     "name": "stdout",
     "output_type": "stream",
     "text": [
      "Cantidad de instancias en las que se va a aplicar la expresion regular=  11627\n"
     ]
    }
   ],
   "source": [
    "# Se obtiene a partir de data una serie que contenga las instancias en las que se va a aplicar la expresion regular\n",
    "surfaces_condition = data.surface_total_in_m2.isnull() & data.surface_covered_in_m2.isnull()\n",
    "price_condition = data.price_aprox_usd.isnull()\n",
    "price_per_m2_condition = data.price_usd_per_m2.isnull()\n",
    "mask_surface_total_in_m2_null = surfaces_condition & (price_condition | price_per_m2_condition)\n",
    "data_surface_total_in_m2_null = data [mask_surface_total_in_m2_null]\n",
    "series_surface_total_in_m2_null_description = data_surface_total_in_m2_null.description\n",
    "\n",
    "print(\"Cantidad de instancias en las que se va a aplicar la expresion regular= \",series_surface_total_in_m2_null_description.shape[0])"
   ]
  },
  {
   "cell_type": "code",
   "execution_count": 45,
   "id": "d865e5d9",
   "metadata": {},
   "outputs": [
    {
     "name": "stderr",
     "output_type": "stream",
     "text": [
      "C:\\Users\\General\\AppData\\Local\\Temp\\ipykernel_12804\\786532533.py:3: DeprecationWarning: Flags not at the start of the expression '(?P<surface_total_in' (truncated)\n",
      "  pattern_surface_total_in_m2_regex = re.compile(pattern)\n"
     ]
    }
   ],
   "source": [
    "# logica del patron: Toma un numero de un digito o mas,seguido o no de un espacio o mas y de las letras [m2,mts,metro] no distinguiendo entre mayusculas y minusculas\n",
    "pattern = \"(?P<surface_total_in_m2>\\d+)\\s+(?i)[m2|mts|metro]\"\n",
    "pattern_surface_total_in_m2_regex = re.compile(pattern)"
   ]
  },
  {
   "cell_type": "code",
   "execution_count": 46,
   "id": "6988be22",
   "metadata": {},
   "outputs": [
    {
     "name": "stdout",
     "output_type": "stream",
     "text": [
      "surfaces matcheados= 4176\n"
     ]
    }
   ],
   "source": [
    "# Se aplica una funcion lamda para recorrer la serie series_surface_total_in_m2_null_description aplicando la expresion regular\n",
    "description_surface_total_in_m2_result = series_surface_total_in_m2_null_description.apply(lambda x: pattern_surface_total_in_m2_regex.search(str(x)))\n",
    "\n",
    "# Se extraen los datos que usaremos para la imputación\n",
    "description_surface_total_in_m2_match = description_surface_total_in_m2_result.apply(lambda x: np.nan if x is None else x.group('surface_total_in_m2'))\n",
    "\n",
    "print(\"surfaces matcheados=\",(description_surface_total_in_m2_match.notnull()).sum()) #aca veo que cantidad pudo matchear"
   ]
  },
  {
   "cell_type": "code",
   "execution_count": 47,
   "id": "9e7a0d4f",
   "metadata": {},
   "outputs": [],
   "source": [
    "# Se imputa la serie description_surface_total_in_m2_match con su index en data\n",
    "data.loc[description_surface_total_in_m2_match.index, \"surface_total_in_m2\"] = description_surface_total_in_m2_match "
   ]
  },
  {
   "cell_type": "markdown",
   "id": "005820cf",
   "metadata": {},
   "source": [
    "### Obtencion de surface_total_in_m2 con expresion regular en *title*"
   ]
  },
  {
   "cell_type": "code",
   "execution_count": 48,
   "id": "5253c8bc",
   "metadata": {},
   "outputs": [
    {
     "name": "stdout",
     "output_type": "stream",
     "text": [
      "Cantidad de instancias en las que se va a aplicar la expresion regular=  11627\n"
     ]
    }
   ],
   "source": [
    "# Se obtiene a partir de data una serie que contenga las instancias en las que se va a aplicar la expresion regular\n",
    "surfaces_condition = data.surface_total_in_m2.isnull() & data.surface_covered_in_m2.isnull()\n",
    "price_condition = data.price_aprox_usd.isnull()\n",
    "price_per_m2_condition = data.price_usd_per_m2.isnull()\n",
    "mask_surface_total_in_m2_null = surfaces_condition & (price_condition | price_per_m2_condition)\n",
    "data_surface_total_in_m2_null = data [mask_surface_total_in_m2_null]\n",
    "series_surface_total_in_m2_null_title = data_surface_total_in_m2_null.title\n",
    "\n",
    "print(\"Cantidad de instancias en las que se va a aplicar la expresion regular= \",series_surface_total_in_m2_null_description.shape[0])"
   ]
  },
  {
   "cell_type": "code",
   "execution_count": 49,
   "id": "4a1fad38",
   "metadata": {},
   "outputs": [
    {
     "name": "stdout",
     "output_type": "stream",
     "text": [
      "surfaces matcheados=  115\n"
     ]
    }
   ],
   "source": [
    "# Se aplica una funcion lamda para recorrer la serie series_surface_total_in_m2_null_title aplicando la expresion regular\n",
    "title_surface_total_in_m2_result = series_surface_total_in_m2_null_title.apply(lambda x: pattern_surface_total_in_m2_regex.search(str(x)))\n",
    "\n",
    "# Se extraen los datos que usaremos para la imputación\n",
    "title_surface_total_in_m2_match = title_surface_total_in_m2_result.apply(lambda x: np.nan if x is None else x.group('surface_total_in_m2'))\n",
    "\n",
    "print(\"surfaces matcheados= \",(title_surface_total_in_m2_match.notnull()).sum()) #aca veo que cantidad pudo matchear"
   ]
  },
  {
   "cell_type": "code",
   "execution_count": 50,
   "id": "e96de3b4",
   "metadata": {},
   "outputs": [],
   "source": [
    "# Se imputa la serie title_surface_total_in_m2_match con su index en data\n",
    "data.loc[title_surface_total_in_m2_match.index, \"surface_total_in_m2\"] = title_surface_total_in_m2_match "
   ]
  },
  {
   "cell_type": "code",
   "execution_count": 51,
   "id": "58fa25c3",
   "metadata": {},
   "outputs": [
    {
     "data": {
      "text/plain": [
       "dtype('float64')"
      ]
     },
     "execution_count": 51,
     "metadata": {},
     "output_type": "execute_result"
    }
   ],
   "source": [
    "# Se cambia el tipo de dato de object a float\n",
    "data[\"surface_total_in_m2\"] = data[\"surface_total_in_m2\"].astype(\"float\")\n",
    "data.surface_total_in_m2.dtypes"
   ]
  },
  {
   "cell_type": "markdown",
   "id": "8879297b",
   "metadata": {},
   "source": [
    "#### Validacion de datos"
   ]
  },
  {
   "cell_type": "code",
   "execution_count": 52,
   "id": "05d904aa",
   "metadata": {},
   "outputs": [
    {
     "data": {
      "text/plain": [
       "operation                     0\n",
       "property_type                 0\n",
       "country_name                  0\n",
       "state_name                    0\n",
       "city_name                  4422\n",
       "neighborhood_name         75909\n",
       "geonames_id               18527\n",
       "lat                       48639\n",
       "lon                       48639\n",
       "price_aprox_usd           17882\n",
       "surface_total_in_m2       34165\n",
       "surface_covered_in_m2     18190\n",
       "price_usd_per_m2          26966\n",
       "floor                    108073\n",
       "rooms                     48903\n",
       "expenses                 101758\n",
       "description                   2\n",
       "title                         0\n",
       "dtype: int64"
      ]
     },
     "execution_count": 52,
     "metadata": {},
     "output_type": "execute_result"
    }
   ],
   "source": [
    "data_validation(data)"
   ]
  },
  {
   "cell_type": "markdown",
   "id": "d5d86e53",
   "metadata": {},
   "source": [
    "#### Validacion de datos## Obtencion de price_aprox_usd mediante expresiones regulares"
   ]
  },
  {
   "cell_type": "markdown",
   "id": "03fa706c",
   "metadata": {},
   "source": [
    "##### *Se quiere obtener el price_aprox_usd para las instancias en las que no tenemos price_aprox_usd y tampoco tenemos surface_total_in_m2 y surface_total_in_m2 o no tenemos price_usd_per_m2 y price_per_m2 *"
   ]
  },
  {
   "cell_type": "markdown",
   "id": "7fff0a80",
   "metadata": {},
   "source": [
    "### Obtencion de price con expresion regular en *description*"
   ]
  },
  {
   "cell_type": "code",
   "execution_count": 53,
   "id": "b2b50eee",
   "metadata": {},
   "outputs": [
    {
     "name": "stdout",
     "output_type": "stream",
     "text": [
      "Cantidad de instancias en las que se va a aplicar la expresion regular=  17877\n"
     ]
    }
   ],
   "source": [
    "# Se obtiene a partir de data una serie que contenga las instancias en las que se va a aplicar la expresion regular\n",
    "surface_condition = data.surface_total_in_m2.isnull() & data.surface_covered_in_m2.isnull()\n",
    "price_condition = data.price_aprox_usd.isnull()\n",
    "price_per_m2_condition = data.price_usd_per_m2.isnull()\n",
    "mask_price_null = price_condition & (price_per_m2_condition | surfaces_condition)\n",
    "data_price_null = data [mask_price_null]\n",
    "series_price_null_description = data_price_null.description\n",
    "\n",
    "print(\"Cantidad de instancias en las que se va a aplicar la expresion regular= \",series_price_null_description.shape[0])"
   ]
  },
  {
   "cell_type": "code",
   "execution_count": 54,
   "id": "e434617a",
   "metadata": {},
   "outputs": [],
   "source": [
    "# logica del patron: toma la combinacion de letras usd indistintamente de ser mayusculas o minusculas seguido o no de un espacio o mas y seguido de un numero de un numero de un digito o mas\n",
    "pattern = \"(?i)usd\\s{0,1}(?P<price_aprox_usd>\\d+)\"\n",
    "pattern_price_regex = re.compile(pattern)"
   ]
  },
  {
   "cell_type": "code",
   "execution_count": 55,
   "id": "0e95bd24",
   "metadata": {},
   "outputs": [
    {
     "name": "stdout",
     "output_type": "stream",
     "text": [
      "price matcheados=  406\n"
     ]
    }
   ],
   "source": [
    "# Se aplica una funcion lamda para recorrer la serie series_surface_total_in_m2_null_description aplicando la expresion regular\n",
    "description_price_result = series_price_null_description.apply(lambda x: pattern_price_regex.search(str(x)))\n",
    "\n",
    "# Se extraen los datos que usaremos para la imputación\n",
    "description_price_match = description_price_result.apply(lambda x: np.nan if x is None else x.group('price_aprox_usd'))\n",
    "\n",
    "print(\"price matcheados= \",(description_price_match.notnull()).sum()) #aca veo que cantidad pudo matchear"
   ]
  },
  {
   "cell_type": "code",
   "execution_count": 56,
   "id": "75004884",
   "metadata": {},
   "outputs": [],
   "source": [
    "# Se imputa la serie description_price_match con su index en data\n",
    "data.loc[description_price_match.index, \"price_aprox_usd\"] = description_price_match "
   ]
  },
  {
   "cell_type": "markdown",
   "id": "af38c1f7",
   "metadata": {},
   "source": [
    "### Obtencion de price con expresion regular en *title*"
   ]
  },
  {
   "cell_type": "code",
   "execution_count": 57,
   "id": "6150f188",
   "metadata": {},
   "outputs": [
    {
     "name": "stdout",
     "output_type": "stream",
     "text": [
      "Cantidad de instancias en las que se va a aplicar la expresion regular=  17877\n"
     ]
    }
   ],
   "source": [
    "# Se obtiene a partir de data una serie que contenga las instancias en las que se va a aplicar la expresion regular\n",
    "surface_condition = data.surface_total_in_m2.isnull() & data.surface_covered_in_m2.isnull()\n",
    "price_condition = data.price_aprox_usd.isnull()\n",
    "price_per_m2_condition = data.price_usd_per_m2.isnull()\n",
    "mask_price_null = price_condition & (price_per_m2_condition | surfaces_condition)\n",
    "data_price_null = data [mask_price_null]\n",
    "series_price_null_title = data_price_null.title\n",
    "\n",
    "print(\"Cantidad de instancias en las que se va a aplicar la expresion regular= \",series_price_null_description.shape[0])"
   ]
  },
  {
   "cell_type": "code",
   "execution_count": 58,
   "id": "7e88794b",
   "metadata": {},
   "outputs": [
    {
     "name": "stdout",
     "output_type": "stream",
     "text": [
      "price matcheados=  1\n"
     ]
    }
   ],
   "source": [
    "# Se aplica una funcion lamda para recorrer la serie series_price_null_title aplicando la expresion regular\n",
    "title_price_result = series_price_null_title.apply(lambda x: pattern_price_regex.search(str(x)))\n",
    "\n",
    "# Se extraen los datos que usaremos para la imputación\n",
    "title_price_match = title_price_result.apply(lambda x: np.nan if x is None else x.group('price_aprox_usd'))\n",
    "\n",
    "print(\"price matcheados= \",(title_price_match.notnull()).sum()) #aca veo que cantidad pudo matchear"
   ]
  },
  {
   "cell_type": "code",
   "execution_count": 59,
   "id": "63ec2b30",
   "metadata": {},
   "outputs": [],
   "source": [
    "# Se imputa la serie title_price_match con su index en data\n",
    "data.loc[title_price_match.index, \"price_aprox_usd\"] = title_price_match "
   ]
  },
  {
   "cell_type": "code",
   "execution_count": 60,
   "id": "7f006f9f",
   "metadata": {},
   "outputs": [
    {
     "data": {
      "text/plain": [
       "dtype('float64')"
      ]
     },
     "execution_count": 60,
     "metadata": {},
     "output_type": "execute_result"
    }
   ],
   "source": [
    "# Se cambia el tipo de dato de object a float\n",
    "data[\"price_aprox_usd\"] = data[\"price_aprox_usd\"].astype(\"float\")\n",
    "data.price_aprox_usd.dtypes"
   ]
  },
  {
   "cell_type": "markdown",
   "id": "f81c147c",
   "metadata": {},
   "source": [
    "#### Validacion de datos"
   ]
  },
  {
   "cell_type": "code",
   "execution_count": 61,
   "id": "cc544eab",
   "metadata": {},
   "outputs": [
    {
     "data": {
      "text/plain": [
       "operation                     0\n",
       "property_type                 0\n",
       "country_name                  0\n",
       "state_name                    0\n",
       "city_name                  4422\n",
       "neighborhood_name         75909\n",
       "geonames_id               18527\n",
       "lat                       48639\n",
       "lon                       48639\n",
       "price_aprox_usd           17862\n",
       "surface_total_in_m2       34165\n",
       "surface_covered_in_m2     18190\n",
       "price_usd_per_m2          26966\n",
       "floor                    108073\n",
       "rooms                     48903\n",
       "expenses                 101758\n",
       "description                   2\n",
       "title                         0\n",
       "dtype: int64"
      ]
     },
     "execution_count": 61,
     "metadata": {},
     "output_type": "execute_result"
    }
   ],
   "source": [
    "data_validation(data)"
   ]
  },
  {
   "cell_type": "markdown",
   "id": "331b90df",
   "metadata": {},
   "source": [
    "## Obtencion de floor mediante expresiones regulares"
   ]
  },
  {
   "cell_type": "markdown",
   "id": "5ceef36f",
   "metadata": {},
   "source": [
    "##### *Se quiere obtener el floor para las instancias en las que es nulo*"
   ]
  },
  {
   "cell_type": "markdown",
   "id": "c3b76aec",
   "metadata": {},
   "source": [
    "### Obtencion de floor con expresion regular en *description*"
   ]
  },
  {
   "cell_type": "code",
   "execution_count": 62,
   "id": "62abd901",
   "metadata": {},
   "outputs": [
    {
     "name": "stdout",
     "output_type": "stream",
     "text": [
      "Cantidad de instancias en las que se va a aplicar la expresion regular=  108073\n"
     ]
    }
   ],
   "source": [
    "# Se obtiene a partir de data una serie que contenga las instancias en las que se va a aplicar la expresion regular\n",
    "data_floor_null = data [data.floor.isnull()]\n",
    "series_floor_null_description = data_floor_null.description\n",
    "\n",
    "print(\"Cantidad de instancias en las que se va a aplicar la expresion regular= \",series_floor_null_description.shape[0])"
   ]
  },
  {
   "cell_type": "code",
   "execution_count": 63,
   "id": "2f2f933d",
   "metadata": {},
   "outputs": [
    {
     "name": "stderr",
     "output_type": "stream",
     "text": [
      "C:\\Users\\General\\AppData\\Local\\Temp\\ipykernel_12804\\2505478835.py:3: DeprecationWarning: Flags not at the start of the expression '(?P<floor>\\\\d+)\\\\s+(?i' (truncated)\n",
      "  pattern_floor_regex = re.compile(pattern)\n"
     ]
    }
   ],
   "source": [
    "# logica del patron: Toma un valor numerico o mas, seguido de un espacio o mas o ninguno, seguido de la palabra piso indistintamente que sean mayusculas o minusculas\n",
    "pattern = \"(?P<floor>\\d+)\\s+(?i)piso\" \n",
    "pattern_floor_regex = re.compile(pattern)"
   ]
  },
  {
   "cell_type": "code",
   "execution_count": 64,
   "id": "e9269419",
   "metadata": {},
   "outputs": [
    {
     "name": "stdout",
     "output_type": "stream",
     "text": [
      "floor matcheados=  6842\n"
     ]
    }
   ],
   "source": [
    "# Se aplica una funcion lamda para recorrer la serie series_floor_null_description aplicando la expresion regular\n",
    "description_floor_result = series_floor_null_description.apply(lambda x: pattern_floor_regex.search(str(x)))\n",
    "\n",
    "# Se extraen los datos que usaremos para la imputación\n",
    "description_floor_match = description_floor_result.apply(lambda x: np.nan if x is None else x.group('floor'))\n",
    "\n",
    "print(\"floor matcheados= \",(description_floor_match.notnull()).sum()) #aca veo que cantidad pudo matchear"
   ]
  },
  {
   "cell_type": "code",
   "execution_count": 65,
   "id": "310dc058",
   "metadata": {},
   "outputs": [],
   "source": [
    "# Se imputa la serie description_floor_match con su index en data\n",
    "data.loc[description_floor_match.index, \"floor\"] = description_floor_match "
   ]
  },
  {
   "cell_type": "markdown",
   "id": "e2f9b634",
   "metadata": {},
   "source": [
    "### Obtencion de floor con expresion regular en *title*"
   ]
  },
  {
   "cell_type": "code",
   "execution_count": 66,
   "id": "0a803072",
   "metadata": {},
   "outputs": [
    {
     "name": "stdout",
     "output_type": "stream",
     "text": [
      "Cantidad de instancias en las que se va a aplicar la expresion regular=  101231\n"
     ]
    }
   ],
   "source": [
    "# Se obtiene a partir de data una serie que contenga las instancias en las que se va a aplicar la expresion regular\n",
    "data_floor_null = data [data.floor.isnull()]\n",
    "series_floor_null_title = data_floor_null.title\n",
    "\n",
    "print(\"Cantidad de instancias en las que se va a aplicar la expresion regular= \",series_floor_null_title.shape[0])"
   ]
  },
  {
   "cell_type": "code",
   "execution_count": 67,
   "id": "dcde8f9b",
   "metadata": {},
   "outputs": [
    {
     "name": "stdout",
     "output_type": "stream",
     "text": [
      "floor matcheados=  113\n"
     ]
    }
   ],
   "source": [
    "# Se aplica una funcion lamda para recorrer la serie series_floor_null_title aplicando la expresion regular\n",
    "title_floor_result = series_floor_null_title.apply(lambda x: pattern_floor_regex.search(str(x)))\n",
    "\n",
    "# Se extraen los datos que usaremos para la imputación\n",
    "title_floor_match = title_floor_result.apply(lambda x: np.nan if x is None else x.group('floor'))\n",
    "\n",
    "print(\"floor matcheados= \",(title_floor_match.notnull()).sum()) #aca veo que cantidad pudo matchear"
   ]
  },
  {
   "cell_type": "code",
   "execution_count": 68,
   "id": "b573610b",
   "metadata": {},
   "outputs": [],
   "source": [
    "# Se imputa la serie title_floor_match con su index en data\n",
    "data.loc[title_floor_match.index, \"floor\"] = title_floor_match "
   ]
  },
  {
   "cell_type": "code",
   "execution_count": 69,
   "id": "58cd3b95",
   "metadata": {},
   "outputs": [
    {
     "data": {
      "text/plain": [
       "dtype('float64')"
      ]
     },
     "execution_count": 69,
     "metadata": {},
     "output_type": "execute_result"
    }
   ],
   "source": [
    "# Se cambia el tipo de dato de object a float\n",
    "data[\"floor\"] = data[\"floor\"].astype(\"float\")\n",
    "data.floor.dtypes"
   ]
  },
  {
   "cell_type": "markdown",
   "id": "f0e70a49",
   "metadata": {},
   "source": [
    "## Obtencion de expenses mediante expresiones regulares"
   ]
  },
  {
   "cell_type": "markdown",
   "id": "7a1a3711",
   "metadata": {},
   "source": [
    "##### *Se quiere obtener el expensas para las instancias en las que es nulo"
   ]
  },
  {
   "cell_type": "markdown",
   "id": "c41c7be3",
   "metadata": {},
   "source": [
    "### Obtencion de expenses con expresion regular en *description*"
   ]
  },
  {
   "cell_type": "code",
   "execution_count": 70,
   "id": "258a0c10",
   "metadata": {},
   "outputs": [
    {
     "name": "stdout",
     "output_type": "stream",
     "text": [
      "Cantidad de instancias en las que se va a aplicar la expresion regular=  101758\n"
     ]
    }
   ],
   "source": [
    "# Se obtiene a partir de data una serie que contenga las instancias en las que se va a aplicar la expresion regular\n",
    "data_expenses_null = data [data.expenses.isnull()]\n",
    "series_expenses_null_description = data_expenses_null.description\n",
    "\n",
    "print(\"Cantidad de instancias en las que se va a aplicar la expresion regular= \",series_expenses_null_description.shape[0])"
   ]
  },
  {
   "cell_type": "code",
   "execution_count": 71,
   "id": "71f61507",
   "metadata": {},
   "outputs": [
    {
     "name": "stderr",
     "output_type": "stream",
     "text": [
      "C:\\Users\\General\\AppData\\Local\\Temp\\ipykernel_12804\\2993959463.py:3: DeprecationWarning: Flags not at the start of the expression '(?P<expenses>\\\\d+)\\\\s+' (truncated)\n",
      "  pattern_expenses_regex = re.compile(pattern)\n"
     ]
    }
   ],
   "source": [
    "# logica del patron: Toma un valor numerico o mas, seguido de un espacio o mas o ninguno, seguido de la palabra exp indistintamente que sean mayusculas o minusculas\n",
    "pattern = \"(?P<expenses>\\d+)\\s+(?i)exp\"\n",
    "pattern_expenses_regex = re.compile(pattern)"
   ]
  },
  {
   "cell_type": "code",
   "execution_count": 72,
   "id": "7fb5c8f7",
   "metadata": {},
   "outputs": [
    {
     "name": "stdout",
     "output_type": "stream",
     "text": [
      "expenses matcheados=  153\n"
     ]
    }
   ],
   "source": [
    "# Se aplica una funcion lamda para recorrer la serie series_expenses_null_description aplicando la expresion regular\n",
    "description_expenses_result = series_expenses_null_description.apply(lambda x: pattern_expenses_regex.search(str(x)))\n",
    "\n",
    "# Se extraen los datos que usaremos para la imputación\n",
    "description_expenses_match = description_expenses_result.apply(lambda x: np.nan if x is None else x.group('expenses'))\n",
    "\n",
    "print(\"expenses matcheados= \",(description_expenses_match.notnull()).sum()) #aca veo que cantidad pudo matchear"
   ]
  },
  {
   "cell_type": "code",
   "execution_count": 73,
   "id": "34ed0f7e",
   "metadata": {},
   "outputs": [],
   "source": [
    "# Se imputa la serie description_expenses_match con su index en data\n",
    "data.loc[description_expenses_match.index, \"floor\"] = description_expenses_match "
   ]
  },
  {
   "cell_type": "markdown",
   "id": "15290c96",
   "metadata": {},
   "source": [
    "### Obtencion de expenses con expresion regular en *title*"
   ]
  },
  {
   "cell_type": "code",
   "execution_count": 74,
   "id": "7cbe82ae",
   "metadata": {},
   "outputs": [
    {
     "name": "stdout",
     "output_type": "stream",
     "text": [
      "Cantidad de instancias en las que se va a aplicar la expresion regular=  101758\n"
     ]
    }
   ],
   "source": [
    "# Se obtiene a partir de data una serie que contenga las instancias en las que se va a aplicar la expresion regular\n",
    "data_expenses_null = data [data.expenses.isnull()]\n",
    "series_expenses_null_title = data_expenses_null.title\n",
    "\n",
    "print(\"Cantidad de instancias en las que se va a aplicar la expresion regular= \",series_expenses_null_title.shape[0])"
   ]
  },
  {
   "cell_type": "code",
   "execution_count": 75,
   "id": "8cdcd600",
   "metadata": {},
   "outputs": [
    {
     "name": "stdout",
     "output_type": "stream",
     "text": [
      "expenses matcheados=  6\n"
     ]
    }
   ],
   "source": [
    "# Se aplica una funcion lamda para recorrer la serie series_expenses_null_title aplicando la expresion regular\n",
    "title_expenses_result = series_expenses_null_title.apply(lambda x: pattern_expenses_regex.search(str(x)))\n",
    "\n",
    "# Se extraen los datos que usaremos para la imputación\n",
    "title_expenses_match = title_expenses_result.apply(lambda x: np.nan if x is None else x.group(\"expenses\"))\n",
    "\n",
    "print(\"expenses matcheados= \",(title_expenses_match.notnull()).sum()) #aca veo que cantidad pudo matchear"
   ]
  },
  {
   "cell_type": "code",
   "execution_count": 76,
   "id": "98e9aaea",
   "metadata": {},
   "outputs": [],
   "source": [
    "# Se imputa la serie title_expenses_match con su index en data\n",
    "data.loc[title_expenses_match.index, \"expenses\"] = title_expenses_match "
   ]
  },
  {
   "cell_type": "code",
   "execution_count": 77,
   "id": "c85df9e8",
   "metadata": {},
   "outputs": [
    {
     "data": {
      "text/plain": [
       "dtype('float64')"
      ]
     },
     "execution_count": 77,
     "metadata": {},
     "output_type": "execute_result"
    }
   ],
   "source": [
    "# Se cambia el tipo de dato de object a float\n",
    "data[\"expenses\"] = data[\"expenses\"].astype(\"float\")\n",
    "data.expenses.dtypes"
   ]
  },
  {
   "cell_type": "markdown",
   "id": "7f1f5cf6",
   "metadata": {},
   "source": [
    "# Obtencion de datos mediante imputacion directa"
   ]
  },
  {
   "cell_type": "markdown",
   "id": "0a68acfe",
   "metadata": {},
   "source": [
    "## Obtencion de surface_total_in_m2 y surface_covered_in_m2 mediante imputacion directa"
   ]
  },
  {
   "cell_type": "markdown",
   "id": "a958f04a",
   "metadata": {},
   "source": [
    "### Imputacion de surface_total_in_m2 y surface_covered_in_m2"
   ]
  },
  {
   "cell_type": "markdown",
   "id": "60fbaa49",
   "metadata": {},
   "source": [
    "#### *Cuando una sea nula y la otra no se imputara en la nula el valor de la no nula*"
   ]
  },
  {
   "cell_type": "code",
   "execution_count": 78,
   "id": "f9cb7b6f",
   "metadata": {},
   "outputs": [
    {
     "name": "stdout",
     "output_type": "stream",
     "text": [
      "Cantidad de instancias de surface_covered_in_m2 a imputar en surface_total_in_m2=  25709\n",
      "Cantidad de instancias de surface_total_in_m2 a imputar en surface_covered_in_m2=  9734\n"
     ]
    }
   ],
   "source": [
    "# Se obtiene un dataframe con los valores no nulos de surface_covered_in_m2 y nulos de surface_total_in_m2\n",
    "mask_surface_total_in_m2_null = data.surface_total_in_m2.isnull() & data.surface_covered_in_m2.notnull()\n",
    "data_surface_total_in_m2_null = data[mask_surface_total_in_m2_null]\n",
    "\n",
    "# Se obtiene un dataframe con los valores nulos de surface_covered_in_m2 y no nulos de surface_total_in_m2\n",
    "mask_surface_covered_in_m2_null =  data.surface_total_in_m2.notnull() & data.surface_covered_in_m2.isnull()\n",
    "data_surface_covered_in_m2_null = data[mask_surface_covered_in_m2_null]\n",
    "\n",
    "\n",
    "print (\"Cantidad de instancias de surface_covered_in_m2 a imputar en surface_total_in_m2= \", data_surface_total_in_m2_null.shape[0])\n",
    "print (\"Cantidad de instancias de surface_total_in_m2 a imputar en surface_covered_in_m2= \", data_surface_covered_in_m2_null.shape[0])"
   ]
  },
  {
   "cell_type": "code",
   "execution_count": 79,
   "id": "06601c7d",
   "metadata": {},
   "outputs": [],
   "source": [
    "# Imputacion de valores nulos de surface_total_in_m2 con valores no nulos de surface_covered_in_m2\n",
    "data.loc[data_surface_total_in_m2_null.index, \"surface_total_in_m2\"] = data_surface_total_in_m2_null.loc[data_surface_total_in_m2_null.index, \"surface_covered_in_m2\"]\n",
    "\n",
    "# Imputacion de valores nulos de surface_covered_in_m2 con valores no nulos de surface_total_in_m2\n",
    "data.loc[data_surface_covered_in_m2_null.index, \"surface_covered_in_m2\"] = data_surface_covered_in_m2_null.loc[data_surface_covered_in_m2_null.index, \"surface_total_in_m2\"]"
   ]
  },
  {
   "cell_type": "markdown",
   "id": "2308c44c",
   "metadata": {},
   "source": [
    "### Obtención de las surface_total_in_m2 y surface_covered_in_m2 nulas en funcion del price_aprox_usd y de price_usd_per_m2"
   ]
  },
  {
   "cell_type": "markdown",
   "id": "6b11efef",
   "metadata": {},
   "source": [
    "##### El valor de surface_total_in_m2 y surface_covered_in_m2 se obtiene mediante la formula **surface_total_in_m2 = price_aprox_usd / price_usd_per_m2**"
   ]
  },
  {
   "cell_type": "code",
   "execution_count": 80,
   "id": "6fe50cec",
   "metadata": {},
   "outputs": [
    {
     "name": "stdout",
     "output_type": "stream",
     "text": [
      "Cantidad de instancias de surface_total_in_m2 a imputar=  101\n"
     ]
    }
   ],
   "source": [
    "# Se obtiene un dataframe con los valores nulos de ambas variables de surfaces, no nulos de price_aprox_usd y no nulos de price_usd_per_m2\n",
    "condition_surfaces_null = data.surface_total_in_m2.isnull() & data.surface_covered_in_m2.isnull()\n",
    "condition_price_notnull = data.price_aprox_usd.notnull()\n",
    "condition_price_per_m2_notnull = data.price_usd_per_m2.notnull()\n",
    "mask_surfaces_imput = condition_surfaces_null & condition_price_notnull & condition_price_per_m2_notnull\n",
    "data_surfaces_imput = data[mask_surfaces_imput]\n",
    "\n",
    "print (\"Cantidad de instancias de surface_total_in_m2 a imputar= \", data_surfaces_imput.shape[0])"
   ]
  },
  {
   "cell_type": "code",
   "execution_count": 81,
   "id": "cc2e5264",
   "metadata": {},
   "outputs": [],
   "source": [
    "# Se imputa el valor de surface_covered_in_m2 y surface_total_in_m2 como surface_total_in_m2 = price_aprox_usd / price_usd_per_m2\n",
    "data.loc[data_surfaces_imput.index,[\"surface_covered_in_m2\" , \"surface_total_in_m2\"]] = data.loc[data_surfaces_imput.index, \"price_aprox_usd\"] / data.loc[data_surfaces_imput.index, \"price_usd_per_m2\"]"
   ]
  },
  {
   "cell_type": "markdown",
   "id": "1d95cf8f",
   "metadata": {},
   "source": [
    "### Obtencion de price_aprox_usd mediante imputacion directa en funcion de prices_usd_per_m2 y surface_total_in_m2"
   ]
  },
  {
   "cell_type": "markdown",
   "id": "56e2d8db",
   "metadata": {},
   "source": [
    "##### El valor de price_aprox_usd se obtiene mediante la formula **price_aprox_usd = price_usd_per_m2 * surface_total_in_m2**"
   ]
  },
  {
   "cell_type": "code",
   "execution_count": 82,
   "id": "53760e0c",
   "metadata": {},
   "outputs": [
    {
     "name": "stdout",
     "output_type": "stream",
     "text": [
      "Cantidad de instancias de price_aprox_usd a imputar=  101\n"
     ]
    }
   ],
   "source": [
    "# Se obtiene un dataframe con los valores no nulos de cualquiera de las dos surfaces, nulos de price_aprox_usd y no nulos de price_usd_per_m2\n",
    "condition_surfaces_notnull = data.surface_total_in_m2.notnull() | data.surface_covered_in_m2.notnull()\n",
    "condition_price_null =  data.price_aprox_usd.isnull()\n",
    "condition_price_per_m2_notnull = data.price_usd_per_m2.notnull()\n",
    "mask_prices_imput = condition_surfaces_null & condition_price_notnull & condition_price_per_m2_notnull\n",
    "data_prices_imput = data[mask_prices_imput]\n",
    "\n",
    "print (\"Cantidad de instancias de price_aprox_usd a imputar= \", data_prices_imput.shape[0])"
   ]
  },
  {
   "cell_type": "code",
   "execution_count": 83,
   "id": "5e7e2f07",
   "metadata": {},
   "outputs": [],
   "source": [
    "# Se imputa el valor de price_aprox_usd como price_aprox_usd = price_usd_per_m2 / surface_total_in_m2\n",
    "data.loc[data_prices_imput.index,\"price_aprox_usd\"] = data.loc[data_prices_imput.index, \"price_usd_per_m2\"] * data.loc[data_prices_imput.index, \"surface_total_in_m2\"]"
   ]
  },
  {
   "cell_type": "markdown",
   "id": "8ddeba12",
   "metadata": {},
   "source": [
    "### Obtencion de price_usd_per_m2 mediante imputacion directa en funcion de surface y price"
   ]
  },
  {
   "cell_type": "markdown",
   "id": "6f173c7d",
   "metadata": {},
   "source": [
    "##### El valor de price_usd_per_m2 se obtiene mediante la formula **price_usd_per_m2 = price_aprox_in_usd / surface_total_in_m2**"
   ]
  },
  {
   "cell_type": "code",
   "execution_count": 84,
   "id": "26460d11",
   "metadata": {},
   "outputs": [
    {
     "name": "stdout",
     "output_type": "stream",
     "text": [
      "Cantidad de instancias de price_usd_per_m2 a imputar=  3332\n"
     ]
    }
   ],
   "source": [
    "# Se obtiene un dataframe con los valores no nulos de cualquiera de las dos surfaces, no nulos de price_aprox_usd y nulos de price_usd_per_m2\n",
    "condition_surfaces_notnull = data.surface_total_in_m2.notnull() | data.surface_covered_in_m2.notnull()\n",
    "condition_price_notnull = data.price_aprox_usd.notnull()\n",
    "condition_price_per_m2_null = data.price_usd_per_m2.isnull()\n",
    "mask_prices_per_m2_imput = condition_surfaces_notnull & condition_price_notnull & condition_price_per_m2_null\n",
    "data_prices_per_m2_imput = data[mask_prices_per_m2_imput]\n",
    "\n",
    "print (\"Cantidad de instancias de price_usd_per_m2 a imputar= \", data_prices_per_m2_imput.shape[0])"
   ]
  },
  {
   "cell_type": "code",
   "execution_count": 85,
   "id": "dcb1173a",
   "metadata": {},
   "outputs": [],
   "source": [
    "# Se imputa el valor de price_usd_per_m2 como price_usd_per_m2 = price_aprox_usd / surface_total_in_m2\n",
    "data.loc[data_prices_per_m2_imput.index,\"price_usd_per_m2\"] = data.loc[data_prices_per_m2_imput.index, \"price_aprox_usd\"] / data.loc[data_prices_per_m2_imput.index, \"surface_total_in_m2\"]"
   ]
  },
  {
   "cell_type": "markdown",
   "id": "cecc0a67",
   "metadata": {},
   "source": [
    "#### Validacion de datos"
   ]
  },
  {
   "cell_type": "code",
   "execution_count": 86,
   "id": "5c6932d1",
   "metadata": {},
   "outputs": [
    {
     "name": "stdout",
     "output_type": "stream",
     "text": [
      "operation                     0\n",
      "property_type                 0\n",
      "country_name                  0\n",
      "state_name                    0\n",
      "city_name                  4422\n",
      "neighborhood_name         75909\n",
      "geonames_id               18527\n",
      "lat                       48639\n",
      "lon                       48639\n",
      "price_aprox_usd           17862\n",
      "surface_total_in_m2        8448\n",
      "surface_covered_in_m2      8613\n",
      "price_usd_per_m2          24371\n",
      "floor                    113622\n",
      "rooms                     48903\n",
      "expenses                 101752\n",
      "description                   2\n",
      "title                         0\n",
      "dtype: int64 (115688, 18)\n"
     ]
    }
   ],
   "source": [
    "print(data_validation(data), data.shape)"
   ]
  },
  {
   "cell_type": "markdown",
   "id": "2e0ca8c5",
   "metadata": {},
   "source": [
    "# Creacion de variable rooms/metro2"
   ]
  },
  {
   "cell_type": "code",
   "execution_count": 87,
   "id": "c826a0fc",
   "metadata": {},
   "outputs": [],
   "source": [
    "rooms_per_m2 = data.rooms / data.surface_covered_in_m2\n",
    "data.insert(14,\"rooms_per_m2\",rooms_per_m2)"
   ]
  },
  {
   "cell_type": "code",
   "execution_count": 88,
   "id": "18c01be3",
   "metadata": {},
   "outputs": [
    {
     "name": "stdout",
     "output_type": "stream",
     "text": [
      "operation                     0\n",
      "property_type                 0\n",
      "country_name                  0\n",
      "state_name                    0\n",
      "city_name                  4422\n",
      "neighborhood_name         75909\n",
      "geonames_id               18527\n",
      "lat                       48639\n",
      "lon                       48639\n",
      "price_aprox_usd           17862\n",
      "surface_total_in_m2        8448\n",
      "surface_covered_in_m2      8613\n",
      "price_usd_per_m2          24371\n",
      "floor                    113622\n",
      "rooms_per_m2              53049\n",
      "rooms                     48903\n",
      "expenses                 101752\n",
      "description                   2\n",
      "title                         0\n",
      "dtype: int64 (115688, 19)\n"
     ]
    }
   ],
   "source": [
    "print(data_validation(data), data.shape)"
   ]
  },
  {
   "cell_type": "markdown",
   "id": "f92d5958",
   "metadata": {},
   "source": [
    "# Deteccion de outliers"
   ]
  },
  {
   "cell_type": "code",
   "execution_count": 89,
   "id": "2ff1e0a4",
   "metadata": {},
   "outputs": [
    {
     "data": {
      "text/html": [
       "<div>\n",
       "<style scoped>\n",
       "    .dataframe tbody tr th:only-of-type {\n",
       "        vertical-align: middle;\n",
       "    }\n",
       "\n",
       "    .dataframe tbody tr th {\n",
       "        vertical-align: top;\n",
       "    }\n",
       "\n",
       "    .dataframe thead th {\n",
       "        text-align: right;\n",
       "    }\n",
       "</style>\n",
       "<table border=\"1\" class=\"dataframe\">\n",
       "  <thead>\n",
       "    <tr style=\"text-align: right;\">\n",
       "      <th></th>\n",
       "      <th>operation</th>\n",
       "      <th>property_type</th>\n",
       "      <th>country_name</th>\n",
       "      <th>state_name</th>\n",
       "      <th>city_name</th>\n",
       "      <th>neighborhood_name</th>\n",
       "      <th>geonames_id</th>\n",
       "      <th>lat</th>\n",
       "      <th>lon</th>\n",
       "      <th>price_aprox_usd</th>\n",
       "      <th>surface_total_in_m2</th>\n",
       "      <th>surface_covered_in_m2</th>\n",
       "      <th>price_usd_per_m2</th>\n",
       "      <th>floor</th>\n",
       "      <th>rooms_per_m2</th>\n",
       "      <th>rooms</th>\n",
       "      <th>expenses</th>\n",
       "      <th>description</th>\n",
       "      <th>title</th>\n",
       "    </tr>\n",
       "  </thead>\n",
       "  <tbody>\n",
       "  </tbody>\n",
       "</table>\n",
       "</div>"
      ],
      "text/plain": [
       "Empty DataFrame\n",
       "Columns: [operation, property_type, country_name, state_name, city_name, neighborhood_name, geonames_id, lat, lon, price_aprox_usd, surface_total_in_m2, surface_covered_in_m2, price_usd_per_m2, floor, rooms_per_m2, rooms, expenses, description, title]\n",
       "Index: []"
      ]
     },
     "execution_count": 89,
     "metadata": {},
     "output_type": "execute_result"
    }
   ],
   "source": [
    "data_outliers = pd.DataFrame(columns=data.columns)\n",
    "data_outliers"
   ]
  },
  {
   "cell_type": "markdown",
   "id": "10c27f9e",
   "metadata": {},
   "source": [
    "## Deteccion de outliers en surface_covered_in_m2"
   ]
  },
  {
   "cell_type": "code",
   "execution_count": 90,
   "id": "ade19ed2",
   "metadata": {},
   "outputs": [],
   "source": [
    "data_aux = data.copy()\n",
    "data_aux = data_aux[data_aux.surface_covered_in_m2.notnull()]"
   ]
  },
  {
   "cell_type": "code",
   "execution_count": 91,
   "id": "e0accec2",
   "metadata": {},
   "outputs": [],
   "source": [
    "# Se crea una serie con los valores de surface_covered_in_m2 y luego se la ordena de menor a mayor\n",
    "data_surface_covered_in_m2 = data_aux.surface_covered_in_m2\n",
    "data_surface_covered_in_m2_sort = np.sort(data_surface_covered_in_m2) "
   ]
  },
  {
   "cell_type": "code",
   "execution_count": 92,
   "id": "4b210284",
   "metadata": {},
   "outputs": [
    {
     "name": "stdout",
     "output_type": "stream",
     "text": [
      "Q1 25 percentile of the given data_surface_covered_in_m2_sort is,  45.0\n",
      "Q2 50 percentile of the given data_surface_covered_in_m2_sort is,  74.0\n",
      "Q3 75 percentile of the given data_surface_covered_in_m2_sort is,  150.0\n",
      "Interquartile range is 105.0\n"
     ]
    },
    {
     "name": "stderr",
     "output_type": "stream",
     "text": [
      "C:\\Users\\General\\AppData\\Local\\Temp\\ipykernel_12804\\1543488612.py:1: DeprecationWarning: the `interpolation=` argument to percentile was renamed to `method=`, which has additional options.\n",
      "Users of the modes 'nearest', 'lower', 'higher', or 'midpoint' are encouraged to review the method they. (Deprecated NumPy 1.22)\n",
      "  Q1 = np.percentile(data_surface_covered_in_m2_sort, 25, interpolation = 'midpoint')\n",
      "C:\\Users\\General\\AppData\\Local\\Temp\\ipykernel_12804\\1543488612.py:2: DeprecationWarning: the `interpolation=` argument to percentile was renamed to `method=`, which has additional options.\n",
      "Users of the modes 'nearest', 'lower', 'higher', or 'midpoint' are encouraged to review the method they. (Deprecated NumPy 1.22)\n",
      "  Q2 = np.percentile(data_surface_covered_in_m2_sort, 50, interpolation = 'midpoint')\n",
      "C:\\Users\\General\\AppData\\Local\\Temp\\ipykernel_12804\\1543488612.py:3: DeprecationWarning: the `interpolation=` argument to percentile was renamed to `method=`, which has additional options.\n",
      "Users of the modes 'nearest', 'lower', 'higher', or 'midpoint' are encouraged to review the method they. (Deprecated NumPy 1.22)\n",
      "  Q3 = np.percentile(data_surface_covered_in_m2_sort, 75, interpolation = 'midpoint')\n"
     ]
    }
   ],
   "source": [
    "Q1 = np.percentile(data_surface_covered_in_m2_sort, 25, interpolation = 'midpoint')  \n",
    "Q2 = np.percentile(data_surface_covered_in_m2_sort, 50, interpolation = 'midpoint')  \n",
    "Q3 = np.percentile(data_surface_covered_in_m2_sort, 75, interpolation = 'midpoint')  \n",
    "  \n",
    "print('Q1 25 percentile of the given data_surface_covered_in_m2_sort is, ', Q1) \n",
    "print('Q2 50 percentile of the given data_surface_covered_in_m2_sort is, ', Q2) \n",
    "print('Q3 75 percentile of the given data_surface_covered_in_m2_sort is, ', Q3) \n",
    "  \n",
    "IQR = Q3 - Q1  \n",
    "print('Interquartile range is', IQR) "
   ]
  },
  {
   "cell_type": "code",
   "execution_count": 93,
   "id": "28db9bc4",
   "metadata": {},
   "outputs": [
    {
     "name": "stdout",
     "output_type": "stream",
     "text": [
      "low_limit is -112.5\n",
      "up_limit is 307.5\n"
     ]
    }
   ],
   "source": [
    "low_lim_surface_covered_in_m2 = Q1 - 1.5 * IQR \n",
    "up_lim_surface_covered_in_m2 = Q3 + 1.5 * IQR \n",
    "print('low_limit is', low_lim_surface_covered_in_m2) \n",
    "print('up_limit is', up_lim_surface_covered_in_m2) "
   ]
  },
  {
   "cell_type": "code",
   "execution_count": 94,
   "id": "d45da39b",
   "metadata": {},
   "outputs": [
    {
     "name": "stdout",
     "output_type": "stream",
     "text": [
      "La cantidad de outliers detectados es:  7923\n"
     ]
    }
   ],
   "source": [
    "# Se crea una lista donde se van imputando los valores de surface_covered_in_m2 considerados outliers\n",
    "outlier_sup_surface_covered_in_m2 =[] \n",
    "for x in data_surface_covered_in_m2_sort: \n",
    "    if (x> up_lim_surface_covered_in_m2): \n",
    "         outlier_sup_surface_covered_in_m2.append(x) \n",
    "print(\"La cantidad de outliers detectados es: \",len(outlier_sup_surface_covered_in_m2))"
   ]
  },
  {
   "cell_type": "code",
   "execution_count": 95,
   "id": "50f997cf",
   "metadata": {},
   "outputs": [],
   "source": [
    "# Se descartan de data los outliers de surface_covered_in_m2\n",
    "mask_surface_covered_in_m2_sup = data.surface_covered_in_m2 < min(outlier_sup_surface_covered_in_m2)\n",
    "mask_outliers_surface_covered_in_m2_sup = data.surface_covered_in_m2 >= min(outlier_sup_surface_covered_in_m2)\n",
    "\n",
    "# Se imputan los outliers en data_outliers\n",
    "data_outliers = data[mask_outliers_surface_covered_in_m2_sup]"
   ]
  },
  {
   "cell_type": "markdown",
   "id": "68c62a73",
   "metadata": {},
   "source": [
    "## Deteccion de outliers en surface_total_in_m2"
   ]
  },
  {
   "cell_type": "code",
   "execution_count": 96,
   "id": "5189b898",
   "metadata": {},
   "outputs": [],
   "source": [
    "data_aux = data.copy()\n",
    "data_aux = data_aux[data_aux.surface_total_in_m2.notnull()]"
   ]
  },
  {
   "cell_type": "code",
   "execution_count": 97,
   "id": "307bf04d",
   "metadata": {},
   "outputs": [],
   "source": [
    "# Se crea una serie con los valores de surface_total_in_m2 y luego se la ordena de menor a mayor\n",
    "data_surface_total_in_m2 = data_aux.surface_total_in_m2\n",
    "data_surface_total_in_m2_sort = np.sort(data_surface_total_in_m2) "
   ]
  },
  {
   "cell_type": "code",
   "execution_count": 98,
   "id": "36060177",
   "metadata": {},
   "outputs": [
    {
     "name": "stdout",
     "output_type": "stream",
     "text": [
      "Q1 25 percentile of the given data_surface_total_in_m2_sort is,  50.0\n",
      "Q2 50 percentile of the given data_surface_total_in_m2_sort is,  83.0\n",
      "Q3 75 percentile of the given data_surface_total_in_m2_sort is,  195.0\n",
      "Interquartile range is 145.0\n"
     ]
    },
    {
     "name": "stderr",
     "output_type": "stream",
     "text": [
      "C:\\Users\\General\\AppData\\Local\\Temp\\ipykernel_12804\\1770492322.py:1: DeprecationWarning: the `interpolation=` argument to percentile was renamed to `method=`, which has additional options.\n",
      "Users of the modes 'nearest', 'lower', 'higher', or 'midpoint' are encouraged to review the method they. (Deprecated NumPy 1.22)\n",
      "  Q1 = np.percentile(data_surface_total_in_m2_sort, 25, interpolation = 'midpoint')\n",
      "C:\\Users\\General\\AppData\\Local\\Temp\\ipykernel_12804\\1770492322.py:2: DeprecationWarning: the `interpolation=` argument to percentile was renamed to `method=`, which has additional options.\n",
      "Users of the modes 'nearest', 'lower', 'higher', or 'midpoint' are encouraged to review the method they. (Deprecated NumPy 1.22)\n",
      "  Q2 = np.percentile(data_surface_total_in_m2_sort, 50, interpolation = 'midpoint')\n",
      "C:\\Users\\General\\AppData\\Local\\Temp\\ipykernel_12804\\1770492322.py:3: DeprecationWarning: the `interpolation=` argument to percentile was renamed to `method=`, which has additional options.\n",
      "Users of the modes 'nearest', 'lower', 'higher', or 'midpoint' are encouraged to review the method they. (Deprecated NumPy 1.22)\n",
      "  Q3 = np.percentile(data_surface_total_in_m2_sort, 75, interpolation = 'midpoint')\n"
     ]
    }
   ],
   "source": [
    "Q1 = np.percentile(data_surface_total_in_m2_sort, 25, interpolation = 'midpoint')  \n",
    "Q2 = np.percentile(data_surface_total_in_m2_sort, 50, interpolation = 'midpoint')  \n",
    "Q3 = np.percentile(data_surface_total_in_m2_sort, 75, interpolation = 'midpoint')  \n",
    "  \n",
    "print('Q1 25 percentile of the given data_surface_total_in_m2_sort is, ', Q1) \n",
    "print('Q2 50 percentile of the given data_surface_total_in_m2_sort is, ', Q2) \n",
    "print('Q3 75 percentile of the given data_surface_total_in_m2_sort is, ', Q3) \n",
    "  \n",
    "IQR = Q3 - Q1  \n",
    "print('Interquartile range is', IQR) "
   ]
  },
  {
   "cell_type": "code",
   "execution_count": 99,
   "id": "8e4e774d",
   "metadata": {},
   "outputs": [
    {
     "name": "stdout",
     "output_type": "stream",
     "text": [
      "low_limit is -167.5\n",
      "up_limit is 412.5\n"
     ]
    }
   ],
   "source": [
    "low_lim_surface_total_in_m2 = Q1 - 1.5 * IQR \n",
    "up_lim_surface_total_in_m2 = Q3 + 1.5 * IQR \n",
    "print('low_limit is', low_lim_surface_total_in_m2) \n",
    "print('up_limit is', up_lim_surface_total_in_m2) "
   ]
  },
  {
   "cell_type": "code",
   "execution_count": 100,
   "id": "d01c3144",
   "metadata": {},
   "outputs": [
    {
     "name": "stdout",
     "output_type": "stream",
     "text": [
      "La cantidad de outliers detectados es:  9610\n"
     ]
    }
   ],
   "source": [
    "# Se crea una lista donde se van imputando los valores de surface_total_in_m2 considerados outliers\n",
    "outlier_sup_urface_total_in_m2 =[] \n",
    "for x in data_surface_total_in_m2_sort: \n",
    "    if (x> up_lim_surface_total_in_m2): \n",
    "         outlier_sup_urface_total_in_m2.append(x) \n",
    "print(\"La cantidad de outliers detectados es: \",len(outlier_sup_urface_total_in_m2))"
   ]
  },
  {
   "cell_type": "code",
   "execution_count": 101,
   "id": "4462b435",
   "metadata": {},
   "outputs": [],
   "source": [
    "# Se descartan de data los outliers de surface_total_in_m2\n",
    "mask_surface_total_in_m2_sup = data.surface_total_in_m2 < min(outlier_sup_urface_total_in_m2)\n",
    "mask_outliers_surface_total_in_m2_sup = data.surface_total_in_m2 >= min(outlier_sup_urface_total_in_m2)\n",
    "\n",
    "# Se imputan los outliers en data_outliers\n",
    "data_outliers = pd.concat([data_outliers,data[mask_outliers_surface_total_in_m2_sup]]) "
   ]
  },
  {
   "cell_type": "markdown",
   "id": "178d84d0",
   "metadata": {},
   "source": [
    "## Deteccion de outliers en rooms"
   ]
  },
  {
   "cell_type": "code",
   "execution_count": 102,
   "id": "fdcb60cf",
   "metadata": {},
   "outputs": [],
   "source": [
    "# Se genera un dataframe auxiliar con surface_covered_in_m2 y rooms no nulos de forma que el metodo pueda calcular el rango intercuartil\n",
    "data_aux = data.copy()\n",
    "data_aux = data_aux[ (data.rooms.notnull())]"
   ]
  },
  {
   "cell_type": "code",
   "execution_count": 103,
   "id": "c4bd349c",
   "metadata": {},
   "outputs": [
    {
     "data": {
      "text/plain": [
       "0         2.0\n",
       "2         2.0\n",
       "3         3.0\n",
       "4         2.0\n",
       "11        1.0\n",
       "         ... \n",
       "121138    2.0\n",
       "121139    3.0\n",
       "121153    3.0\n",
       "121215    3.0\n",
       "121218    2.0\n",
       "Name: rooms, Length: 66785, dtype: float64"
      ]
     },
     "execution_count": 103,
     "metadata": {},
     "output_type": "execute_result"
    }
   ],
   "source": [
    "series_rooms = data_aux.rooms\n",
    "series_rooms"
   ]
  },
  {
   "cell_type": "code",
   "execution_count": 104,
   "id": "5930290b",
   "metadata": {},
   "outputs": [],
   "source": [
    "series_rooms_sort = np.sort(series_rooms) "
   ]
  },
  {
   "cell_type": "code",
   "execution_count": 105,
   "id": "82dc5660",
   "metadata": {},
   "outputs": [
    {
     "name": "stdout",
     "output_type": "stream",
     "text": [
      "Q1 25 percentile of the given rooms is,  2.0\n",
      "Q2 50 percentile of the given rooms is,  3.0\n",
      "Q3 75 percentile of the given rooms is,  4.0\n",
      "Interquartile range is 2.0\n"
     ]
    },
    {
     "name": "stderr",
     "output_type": "stream",
     "text": [
      "C:\\Users\\General\\AppData\\Local\\Temp\\ipykernel_12804\\36169824.py:1: DeprecationWarning: the `interpolation=` argument to percentile was renamed to `method=`, which has additional options.\n",
      "Users of the modes 'nearest', 'lower', 'higher', or 'midpoint' are encouraged to review the method they. (Deprecated NumPy 1.22)\n",
      "  Q1 = np.percentile(series_rooms_sort, 25, interpolation = 'midpoint')\n",
      "C:\\Users\\General\\AppData\\Local\\Temp\\ipykernel_12804\\36169824.py:2: DeprecationWarning: the `interpolation=` argument to percentile was renamed to `method=`, which has additional options.\n",
      "Users of the modes 'nearest', 'lower', 'higher', or 'midpoint' are encouraged to review the method they. (Deprecated NumPy 1.22)\n",
      "  Q2 = np.percentile(series_rooms_sort, 50, interpolation = 'midpoint')\n",
      "C:\\Users\\General\\AppData\\Local\\Temp\\ipykernel_12804\\36169824.py:3: DeprecationWarning: the `interpolation=` argument to percentile was renamed to `method=`, which has additional options.\n",
      "Users of the modes 'nearest', 'lower', 'higher', or 'midpoint' are encouraged to review the method they. (Deprecated NumPy 1.22)\n",
      "  Q3 = np.percentile(series_rooms_sort, 75, interpolation = 'midpoint')\n"
     ]
    }
   ],
   "source": [
    "Q1 = np.percentile(series_rooms_sort, 25, interpolation = 'midpoint')  \n",
    "Q2 = np.percentile(series_rooms_sort, 50, interpolation = 'midpoint')  \n",
    "Q3 = np.percentile(series_rooms_sort, 75, interpolation = 'midpoint')  \n",
    "  \n",
    "print('Q1 25 percentile of the given rooms is, ', Q1) \n",
    "print('Q2 50 percentile of the given rooms is, ', Q2) \n",
    "print('Q3 75 percentile of the given rooms is, ', Q3) \n",
    "  \n",
    "IQR = Q3 - Q1  \n",
    "print('Interquartile range is', IQR) "
   ]
  },
  {
   "cell_type": "code",
   "execution_count": 106,
   "id": "fac28fe2",
   "metadata": {},
   "outputs": [
    {
     "name": "stdout",
     "output_type": "stream",
     "text": [
      "low_limit is -1.0\n",
      "up_limit is 7.0\n"
     ]
    }
   ],
   "source": [
    "low_lim_rooms = Q1 - 1.5 * IQR \n",
    "up_lim_rooms = Q3 + 1.5 * IQR \n",
    "print('low_limit is', low_lim_rooms) \n",
    "print('up_limit is', up_lim_rooms) "
   ]
  },
  {
   "cell_type": "code",
   "execution_count": 107,
   "id": "dfdf518d",
   "metadata": {},
   "outputs": [
    {
     "name": "stdout",
     "output_type": "stream",
     "text": [
      "La cantidad de outliers detectados es 1113\n"
     ]
    }
   ],
   "source": [
    "outlier_sup_rooms =[] \n",
    "for x in series_rooms_sort: \n",
    "    if (x> up_lim_rooms): \n",
    "         outlier_sup_rooms.append(x) \n",
    "print('La cantidad de outliers detectados es', len(outlier_sup_rooms))"
   ]
  },
  {
   "cell_type": "code",
   "execution_count": 108,
   "id": "23f79ddb",
   "metadata": {},
   "outputs": [],
   "source": [
    "# Se descartan de data los outliers de rooms\n",
    "mask_rooms = data.rooms < min(outlier_sup_rooms) # mascara a aplicar cuando se desechan outliers de data\n",
    "mask_outlier_rooms_sup = data.rooms >= min(outlier_sup_rooms)\n",
    "\n",
    "data_outliers = pd.concat([data_outliers,data[mask_outlier_rooms_sup]]) "
   ]
  },
  {
   "cell_type": "markdown",
   "id": "0eb7ab05",
   "metadata": {},
   "source": [
    "## Deteccion de outliers en rooms_per_m2"
   ]
  },
  {
   "cell_type": "code",
   "execution_count": 109,
   "id": "cf95dd17",
   "metadata": {},
   "outputs": [],
   "source": [
    "# Se genera un dataframe auxiliar con surface_covered_in_m2 y rooms no nulos de forma que el metodo pueda calcular el rango intercuartil\n",
    "data_aux = data.copy()\n",
    "data_aux = data_aux[ (data.rooms_per_m2.notnull())]"
   ]
  },
  {
   "cell_type": "code",
   "execution_count": 110,
   "id": "1253fd3f",
   "metadata": {},
   "outputs": [
    {
     "data": {
      "text/plain": [
       "0         0.050000\n",
       "2         0.036364\n",
       "4         0.057143\n",
       "12        0.055556\n",
       "13        0.033333\n",
       "            ...   \n",
       "121138    0.033333\n",
       "121139    0.081081\n",
       "121153    0.046154\n",
       "121215    0.032258\n",
       "121218    0.041667\n",
       "Name: rooms_per_m2, Length: 62639, dtype: float64"
      ]
     },
     "execution_count": 110,
     "metadata": {},
     "output_type": "execute_result"
    }
   ],
   "source": [
    "series_rooms_surf = data_aux.rooms_per_m2\n",
    "series_rooms_surf"
   ]
  },
  {
   "cell_type": "code",
   "execution_count": 111,
   "id": "49a5b694",
   "metadata": {},
   "outputs": [],
   "source": [
    "series_rooms_sort = np.sort(series_rooms_surf) "
   ]
  },
  {
   "cell_type": "code",
   "execution_count": 112,
   "id": "d1431a78",
   "metadata": {},
   "outputs": [
    {
     "name": "stdout",
     "output_type": "stream",
     "text": [
      "Q1 25 percentile of the given room/m2 is,  0.027522935779816515\n",
      "Q2 50 percentile of the given room/m2 is,  0.03773584905660377\n",
      "Q3 75 percentile of the given room/m2 is,  0.047619047619047616\n",
      "Interquartile range is 0.0200961118392311\n"
     ]
    },
    {
     "name": "stderr",
     "output_type": "stream",
     "text": [
      "C:\\Users\\General\\AppData\\Local\\Temp\\ipykernel_12804\\3188482378.py:1: DeprecationWarning: the `interpolation=` argument to percentile was renamed to `method=`, which has additional options.\n",
      "Users of the modes 'nearest', 'lower', 'higher', or 'midpoint' are encouraged to review the method they. (Deprecated NumPy 1.22)\n",
      "  Q1 = np.percentile(series_rooms_sort, 25, interpolation = 'midpoint')\n",
      "C:\\Users\\General\\AppData\\Local\\Temp\\ipykernel_12804\\3188482378.py:2: DeprecationWarning: the `interpolation=` argument to percentile was renamed to `method=`, which has additional options.\n",
      "Users of the modes 'nearest', 'lower', 'higher', or 'midpoint' are encouraged to review the method they. (Deprecated NumPy 1.22)\n",
      "  Q2 = np.percentile(series_rooms_sort, 50, interpolation = 'midpoint')\n",
      "C:\\Users\\General\\AppData\\Local\\Temp\\ipykernel_12804\\3188482378.py:3: DeprecationWarning: the `interpolation=` argument to percentile was renamed to `method=`, which has additional options.\n",
      "Users of the modes 'nearest', 'lower', 'higher', or 'midpoint' are encouraged to review the method they. (Deprecated NumPy 1.22)\n",
      "  Q3 = np.percentile(series_rooms_sort, 75, interpolation = 'midpoint')\n"
     ]
    }
   ],
   "source": [
    "Q1 = np.percentile(series_rooms_sort, 25, interpolation = 'midpoint')  \n",
    "Q2 = np.percentile(series_rooms_sort, 50, interpolation = 'midpoint')  \n",
    "Q3 = np.percentile(series_rooms_sort, 75, interpolation = 'midpoint')  \n",
    "  \n",
    "print('Q1 25 percentile of the given room/m2 is, ', Q1) \n",
    "print('Q2 50 percentile of the given room/m2 is, ', Q2) \n",
    "print('Q3 75 percentile of the given room/m2 is, ', Q3) \n",
    "  \n",
    "IQR = Q3 - Q1  \n",
    "print('Interquartile range is', IQR) "
   ]
  },
  {
   "cell_type": "code",
   "execution_count": 113,
   "id": "44ab55c6",
   "metadata": {},
   "outputs": [
    {
     "name": "stdout",
     "output_type": "stream",
     "text": [
      "low_limit is -0.0026212319790301364\n",
      "up_limit is 0.07776321537789427\n"
     ]
    }
   ],
   "source": [
    "low_lim_rooms_per_m2 = Q1 - 1.5 * IQR \n",
    "up_lim_rooms_per_m2 = Q3 + 1.5 * IQR \n",
    "print('low_limit is', low_lim_rooms_per_m2) \n",
    "print('up_limit is', up_lim_rooms_per_m2) "
   ]
  },
  {
   "cell_type": "code",
   "execution_count": 114,
   "id": "528e9d4a",
   "metadata": {},
   "outputs": [
    {
     "name": "stdout",
     "output_type": "stream",
     "text": [
      " La cantidad de outliers detectados es 2435\n"
     ]
    }
   ],
   "source": [
    "outlier_sup_rooms_per_m2 =[] \n",
    "for x in series_rooms_sort: \n",
    "    if (x> up_lim_rooms_per_m2): \n",
    "         outlier_sup_rooms_per_m2.append(x) \n",
    "print(' La cantidad de outliers detectados es', len(outlier_sup_rooms_per_m2))"
   ]
  },
  {
   "cell_type": "code",
   "execution_count": 115,
   "id": "d471b600",
   "metadata": {},
   "outputs": [],
   "source": [
    "# Se descartan de data los outliers de surface_total_in_m2\n",
    "mask_rooms_surf = data.rooms_per_m2 < min(outlier_sup_rooms_per_m2) # mascara a aplicar cuando se desechan outliers de data\n",
    "mask_outlier_rooms_surf_sup = data.rooms_per_m2 >= min(outlier_sup_rooms_per_m2)\n",
    "\n",
    "data_outliers = pd.concat([data_outliers,data[mask_outlier_rooms_surf_sup]]) "
   ]
  },
  {
   "cell_type": "markdown",
   "id": "cbdc6ed5",
   "metadata": {},
   "source": [
    "## Deteccion de outliers en price_aprox_usd"
   ]
  },
  {
   "cell_type": "code",
   "execution_count": 116,
   "id": "afb77eae",
   "metadata": {},
   "outputs": [],
   "source": [
    "# Se genera un dataframe auxiliar con surface_covered_in_m2 y rooms no nulos de forma que el metodo pueda calcular el rango intercuartil\n",
    "data_aux = data.copy()\n",
    "data_aux = data_aux[(data_aux.price_aprox_usd.notnull())]"
   ]
  },
  {
   "cell_type": "code",
   "execution_count": 117,
   "id": "819978e5",
   "metadata": {},
   "outputs": [
    {
     "data": {
      "text/plain": [
       "0          62000.0\n",
       "1         150000.0\n",
       "2          72000.0\n",
       "3          95000.0\n",
       "4          64000.0\n",
       "            ...   \n",
       "121215    870000.0\n",
       "121216    498000.0\n",
       "121217    131500.0\n",
       "121218     95900.0\n",
       "121219    129000.0\n",
       "Name: price_aprox_usd, Length: 97826, dtype: float64"
      ]
     },
     "execution_count": 117,
     "metadata": {},
     "output_type": "execute_result"
    }
   ],
   "source": [
    "series_price = data_aux.price_aprox_usd\n",
    "series_price"
   ]
  },
  {
   "cell_type": "code",
   "execution_count": 118,
   "id": "21c5b914",
   "metadata": {},
   "outputs": [],
   "source": [
    "series_price_sort = np.sort(series_price) "
   ]
  },
  {
   "cell_type": "code",
   "execution_count": 119,
   "id": "0049ecb8",
   "metadata": {},
   "outputs": [
    {
     "name": "stdout",
     "output_type": "stream",
     "text": [
      "Q1 25 percentile of the given price_aprox_usd is,  90000.0\n",
      "Q2 50 percentile of the given price_aprox_usd is,  145000.0\n",
      "Q3 75 percentile of the given price_aprox_usd is,  267000.0\n",
      "Interquartile range is 177000.0\n"
     ]
    },
    {
     "name": "stderr",
     "output_type": "stream",
     "text": [
      "C:\\Users\\General\\AppData\\Local\\Temp\\ipykernel_12804\\2442501047.py:1: DeprecationWarning: the `interpolation=` argument to percentile was renamed to `method=`, which has additional options.\n",
      "Users of the modes 'nearest', 'lower', 'higher', or 'midpoint' are encouraged to review the method they. (Deprecated NumPy 1.22)\n",
      "  Q1 = np.percentile(series_price_sort, 25, interpolation = 'midpoint')\n",
      "C:\\Users\\General\\AppData\\Local\\Temp\\ipykernel_12804\\2442501047.py:2: DeprecationWarning: the `interpolation=` argument to percentile was renamed to `method=`, which has additional options.\n",
      "Users of the modes 'nearest', 'lower', 'higher', or 'midpoint' are encouraged to review the method they. (Deprecated NumPy 1.22)\n",
      "  Q2 = np.percentile(series_price_sort, 50, interpolation = 'midpoint')\n",
      "C:\\Users\\General\\AppData\\Local\\Temp\\ipykernel_12804\\2442501047.py:3: DeprecationWarning: the `interpolation=` argument to percentile was renamed to `method=`, which has additional options.\n",
      "Users of the modes 'nearest', 'lower', 'higher', or 'midpoint' are encouraged to review the method they. (Deprecated NumPy 1.22)\n",
      "  Q3 = np.percentile(series_price_sort, 75, interpolation = 'midpoint')\n"
     ]
    }
   ],
   "source": [
    "Q1 = np.percentile(series_price_sort, 25, interpolation = 'midpoint')  \n",
    "Q2 = np.percentile(series_price_sort, 50, interpolation = 'midpoint')  \n",
    "Q3 = np.percentile(series_price_sort, 75, interpolation = 'midpoint')  \n",
    "  \n",
    "print('Q1 25 percentile of the given price_aprox_usd is, ', Q1) \n",
    "print('Q2 50 percentile of the given price_aprox_usd is, ', Q2) \n",
    "print('Q3 75 percentile of the given price_aprox_usd is, ', Q3) \n",
    "  \n",
    "IQR = Q3 - Q1  \n",
    "print('Interquartile range is', IQR) "
   ]
  },
  {
   "cell_type": "code",
   "execution_count": 120,
   "id": "5af6113e",
   "metadata": {},
   "outputs": [
    {
     "name": "stdout",
     "output_type": "stream",
     "text": [
      "low_limit is -175500.0\n",
      "up_limit is 532500.0\n"
     ]
    }
   ],
   "source": [
    "low_lim_price_aprox_usd = Q1 - 1.5 * IQR \n",
    "up_lim_price_aprox_usd = Q3 + 1.5 * IQR \n",
    "print('low_limit is', low_lim_price_aprox_usd) \n",
    "print('up_limit is', up_lim_price_aprox_usd) "
   ]
  },
  {
   "cell_type": "code",
   "execution_count": 121,
   "id": "822e803b",
   "metadata": {},
   "outputs": [
    {
     "name": "stdout",
     "output_type": "stream",
     "text": [
      "La cantidad de outliers detectados es: 8023\n"
     ]
    }
   ],
   "source": [
    "outlier_sup_price_aprox_usd =[] \n",
    "for x in series_price: \n",
    "    if (x> up_lim_price_aprox_usd): \n",
    "         outlier_sup_price_aprox_usd.append(x) \n",
    "print('La cantidad de outliers detectados es:', len(outlier_sup_price_aprox_usd))"
   ]
  },
  {
   "cell_type": "code",
   "execution_count": 122,
   "id": "dece5fd2",
   "metadata": {},
   "outputs": [],
   "source": [
    "# Se descartan de data los outliers de surface_total_in_m2\n",
    "mask_price_sup = data.price_aprox_usd < min(outlier_sup_price_aprox_usd) # mascara a aplicar cuando se desechan outliers de data\n",
    "mask_outlier_price_sup = data.price_aprox_usd >= min(outlier_sup_price_aprox_usd)\n",
    "\n",
    "data_outliers = pd.concat([data_outliers,data[mask_outlier_price_sup]]) "
   ]
  },
  {
   "cell_type": "markdown",
   "id": "b2c07243",
   "metadata": {},
   "source": [
    "## Deteccion de outliers en price_usd_per_m2"
   ]
  },
  {
   "cell_type": "code",
   "execution_count": 123,
   "id": "8da7518a",
   "metadata": {},
   "outputs": [],
   "source": [
    "# Se genera un dataframe auxiliar con surface_covered_in_m2 y rooms no nulos de forma que el metodo pueda calcular el rango intercuartil\n",
    "data_aux = data.copy()\n",
    "data_aux = data_aux[(data_aux.price_usd_per_m2.notnull())]"
   ]
  },
  {
   "cell_type": "code",
   "execution_count": 124,
   "id": "888b9a79",
   "metadata": {},
   "outputs": [
    {
     "data": {
      "text/plain": [
       "0         1127.272727\n",
       "2         1309.090909\n",
       "4         1828.571429\n",
       "6         1226.415094\n",
       "7         3066.666667\n",
       "             ...     \n",
       "121215    7699.115044\n",
       "121216    1383.333333\n",
       "121217    2858.695652\n",
       "121218    1997.916667\n",
       "121219    1675.324675\n",
       "Name: price_usd_per_m2, Length: 91317, dtype: float64"
      ]
     },
     "execution_count": 124,
     "metadata": {},
     "output_type": "execute_result"
    }
   ],
   "source": [
    "series_price_usd_per_m2 = data_aux.price_usd_per_m2\n",
    "series_price_usd_per_m2"
   ]
  },
  {
   "cell_type": "code",
   "execution_count": 125,
   "id": "b57bf5c3",
   "metadata": {},
   "outputs": [],
   "source": [
    "series_price_usd_per_m2_sort = np.sort(series_price_usd_per_m2) "
   ]
  },
  {
   "cell_type": "code",
   "execution_count": 126,
   "id": "53c75f3d",
   "metadata": {},
   "outputs": [
    {
     "name": "stdout",
     "output_type": "stream",
     "text": [
      "Q1 25 percentile of the given price_usd_per_m2 is,  1210.5263157894738\n",
      "Q2 50 percentile of the given price_usd_per_m2 is,  1800.0\n",
      "Q3 75 percentile of the given price_usd_per_m2 is,  2486.1111111111113\n",
      "Interquartile range is 1275.5847953216376\n"
     ]
    },
    {
     "name": "stderr",
     "output_type": "stream",
     "text": [
      "C:\\Users\\General\\AppData\\Local\\Temp\\ipykernel_12804\\1938711781.py:1: DeprecationWarning: the `interpolation=` argument to percentile was renamed to `method=`, which has additional options.\n",
      "Users of the modes 'nearest', 'lower', 'higher', or 'midpoint' are encouraged to review the method they. (Deprecated NumPy 1.22)\n",
      "  Q1 = np.percentile(series_price_usd_per_m2_sort, 25, interpolation = 'midpoint')\n",
      "C:\\Users\\General\\AppData\\Local\\Temp\\ipykernel_12804\\1938711781.py:2: DeprecationWarning: the `interpolation=` argument to percentile was renamed to `method=`, which has additional options.\n",
      "Users of the modes 'nearest', 'lower', 'higher', or 'midpoint' are encouraged to review the method they. (Deprecated NumPy 1.22)\n",
      "  Q2 = np.percentile(series_price_usd_per_m2_sort, 50, interpolation = 'midpoint')\n",
      "C:\\Users\\General\\AppData\\Local\\Temp\\ipykernel_12804\\1938711781.py:3: DeprecationWarning: the `interpolation=` argument to percentile was renamed to `method=`, which has additional options.\n",
      "Users of the modes 'nearest', 'lower', 'higher', or 'midpoint' are encouraged to review the method they. (Deprecated NumPy 1.22)\n",
      "  Q3 = np.percentile(series_price_usd_per_m2_sort, 75, interpolation = 'midpoint')\n"
     ]
    }
   ],
   "source": [
    "Q1 = np.percentile(series_price_usd_per_m2_sort, 25, interpolation = 'midpoint')  \n",
    "Q2 = np.percentile(series_price_usd_per_m2_sort, 50, interpolation = 'midpoint')  \n",
    "Q3 = np.percentile(series_price_usd_per_m2_sort, 75, interpolation = 'midpoint')  \n",
    "  \n",
    "print('Q1 25 percentile of the given price_usd_per_m2 is, ', Q1) \n",
    "print('Q2 50 percentile of the given price_usd_per_m2 is, ', Q2) \n",
    "print('Q3 75 percentile of the given price_usd_per_m2 is, ', Q3) \n",
    "  \n",
    "IQR = Q3 - Q1  \n",
    "print('Interquartile range is', IQR) "
   ]
  },
  {
   "cell_type": "code",
   "execution_count": 127,
   "id": "c56b3a74",
   "metadata": {},
   "outputs": [
    {
     "name": "stdout",
     "output_type": "stream",
     "text": [
      "low_limit is -702.8508771929826\n",
      "up_limit is 4399.488304093567\n"
     ]
    }
   ],
   "source": [
    "low_lim_price_usd_per_m2 = Q1 - 1.5 * IQR \n",
    "up_lim_price_usd_per_m2 = Q3 + 1.5 * IQR \n",
    "print('low_limit is', low_lim_price_usd_per_m2) \n",
    "print('up_limit is', up_lim_price_usd_per_m2) "
   ]
  },
  {
   "cell_type": "code",
   "execution_count": 128,
   "id": "abf74b70",
   "metadata": {},
   "outputs": [
    {
     "name": "stdout",
     "output_type": "stream",
     "text": [
      "La cantidad de outliers detectados es: 4767\n"
     ]
    }
   ],
   "source": [
    "outlier_sup_price_usd_per_m2 =[] \n",
    "for x in series_price_usd_per_m2: \n",
    "    if (x> up_lim_price_usd_per_m2): \n",
    "         outlier_sup_price_usd_per_m2.append(x) \n",
    "print('La cantidad de outliers detectados es:', len(outlier_sup_price_usd_per_m2))"
   ]
  },
  {
   "cell_type": "code",
   "execution_count": 129,
   "id": "d1829af7",
   "metadata": {},
   "outputs": [],
   "source": [
    "# Se descartan de data los outliers de surface_total_in_m2\n",
    "mask_price_m2_surf = data.price_usd_per_m2 < min(outlier_sup_price_usd_per_m2) # mascara a aplicar cuando se desechan outliers de data\n",
    "mask_outlier_price_usd_per_m2_sup = data.price_usd_per_m2 >= min(outlier_sup_price_usd_per_m2)\n",
    "\n",
    "data_outliers = pd.concat([data_outliers,data[mask_outlier_price_usd_per_m2_sup]]) "
   ]
  },
  {
   "cell_type": "markdown",
   "id": "7c7921b5",
   "metadata": {},
   "source": [
    "## Descartado de outliers"
   ]
  },
  {
   "cell_type": "markdown",
   "id": "9e9c1c7c",
   "metadata": {},
   "source": [
    "#### Lo que esta pasando es que el data outliers se esta trayendo la suma de los outliers sin disntinguir el indice. por eso hay mas indices y \"datos\" que valores unicos en los indices."
   ]
  },
  {
   "cell_type": "code",
   "execution_count": 130,
   "id": "418bce03",
   "metadata": {},
   "outputs": [
    {
     "name": "stdout",
     "output_type": "stream",
     "text": [
      "(33871, 19)\n"
     ]
    }
   ],
   "source": [
    "print(data_outliers.shape)"
   ]
  },
  {
   "cell_type": "code",
   "execution_count": 139,
   "id": "1f7fbbb7",
   "metadata": {},
   "outputs": [
    {
     "data": {
      "text/plain": [
       "Int64Index([     9,     10,     27,     36,     51,     58,     76,     93,\n",
       "               105,    106,\n",
       "            ...\n",
       "            119933, 119955, 119956, 119987, 120062, 120124, 121093, 121100,\n",
       "            121130, 121215],\n",
       "           dtype='int64', length=33871)"
      ]
     },
     "execution_count": 139,
     "metadata": {},
     "output_type": "execute_result"
    }
   ],
   "source": [
    "data_outliers.index"
   ]
  },
  {
   "cell_type": "code",
   "execution_count": 140,
   "id": "8eb7529d",
   "metadata": {},
   "outputs": [
    {
     "data": {
      "text/plain": [
       "Int64Index([     9,     10,     27,     36,     51,     58,     76,     93,\n",
       "               105,    106,\n",
       "            ...\n",
       "            119455, 119474, 119633, 119635, 119652, 119713, 119795, 119808,\n",
       "            119926, 121130],\n",
       "           dtype='int64', length=21153)"
      ]
     },
     "execution_count": 140,
     "metadata": {},
     "output_type": "execute_result"
    }
   ],
   "source": [
    "data_outliers.index.unique()"
   ]
  },
  {
   "cell_type": "code",
   "execution_count": 142,
   "id": "bd86c49d",
   "metadata": {},
   "outputs": [
    {
     "data": {
      "text/html": [
       "<div>\n",
       "<style scoped>\n",
       "    .dataframe tbody tr th:only-of-type {\n",
       "        vertical-align: middle;\n",
       "    }\n",
       "\n",
       "    .dataframe tbody tr th {\n",
       "        vertical-align: top;\n",
       "    }\n",
       "\n",
       "    .dataframe thead th {\n",
       "        text-align: right;\n",
       "    }\n",
       "</style>\n",
       "<table border=\"1\" class=\"dataframe\">\n",
       "  <thead>\n",
       "    <tr style=\"text-align: right;\">\n",
       "      <th></th>\n",
       "      <th>operation</th>\n",
       "      <th>property_type</th>\n",
       "      <th>country_name</th>\n",
       "      <th>state_name</th>\n",
       "      <th>city_name</th>\n",
       "      <th>neighborhood_name</th>\n",
       "      <th>geonames_id</th>\n",
       "      <th>lat</th>\n",
       "      <th>lon</th>\n",
       "      <th>price_aprox_usd</th>\n",
       "      <th>surface_total_in_m2</th>\n",
       "      <th>surface_covered_in_m2</th>\n",
       "      <th>price_usd_per_m2</th>\n",
       "      <th>floor</th>\n",
       "      <th>rooms_per_m2</th>\n",
       "      <th>rooms</th>\n",
       "      <th>expenses</th>\n",
       "      <th>description</th>\n",
       "      <th>title</th>\n",
       "    </tr>\n",
       "  </thead>\n",
       "  <tbody>\n",
       "    <tr>\n",
       "      <th>9</th>\n",
       "      <td>sell</td>\n",
       "      <td>house</td>\n",
       "      <td>Argentina</td>\n",
       "      <td>Santa Fe</td>\n",
       "      <td>Rosario</td>\n",
       "      <td>None</td>\n",
       "      <td>3838574.0</td>\n",
       "      <td>-32.942031</td>\n",
       "      <td>-60.725919</td>\n",
       "      <td>25798.49</td>\n",
       "      <td>7637.0</td>\n",
       "      <td>7637.0</td>\n",
       "      <td>NaN</td>\n",
       "      <td>NaN</td>\n",
       "      <td>NaN</td>\n",
       "      <td>NaN</td>\n",
       "      <td>NaN</td>\n",
       "      <td>MEDNOZA AL 7600A UNA CUADRA DE CALLE MENDOZAWH...</td>\n",
       "      <td>WHITE 7637 - 2 DORMITORIOS CON PATIO</td>\n",
       "    </tr>\n",
       "    <tr>\n",
       "      <th>10</th>\n",
       "      <td>sell</td>\n",
       "      <td>house</td>\n",
       "      <td>Argentina</td>\n",
       "      <td>Córdoba</td>\n",
       "      <td>Córdoba</td>\n",
       "      <td>None</td>\n",
       "      <td>3860259.0</td>\n",
       "      <td>-31.420083</td>\n",
       "      <td>-64.188776</td>\n",
       "      <td>70000.00</td>\n",
       "      <td>1514.0</td>\n",
       "      <td>1514.0</td>\n",
       "      <td>NaN</td>\n",
       "      <td>NaN</td>\n",
       "      <td>NaN</td>\n",
       "      <td>NaN</td>\n",
       "      <td>NaN</td>\n",
       "      <td>Hermosa casa sin terminar de 3 dormitorios, ba...</td>\n",
       "      <td>Casa sin terminar en Falda de Cañete.         ...</td>\n",
       "    </tr>\n",
       "    <tr>\n",
       "      <th>27</th>\n",
       "      <td>sell</td>\n",
       "      <td>house</td>\n",
       "      <td>Argentina</td>\n",
       "      <td>Bs.As. G.B.A. Zona Norte</td>\n",
       "      <td>Pilar</td>\n",
       "      <td>Estancias del Pilar</td>\n",
       "      <td>NaN</td>\n",
       "      <td>-34.479486</td>\n",
       "      <td>-58.984541</td>\n",
       "      <td>650000.00</td>\n",
       "      <td>425.0</td>\n",
       "      <td>425.0</td>\n",
       "      <td>1529.411765</td>\n",
       "      <td>NaN</td>\n",
       "      <td>NaN</td>\n",
       "      <td>NaN</td>\n",
       "      <td>NaN</td>\n",
       "      <td>Estancias propone vivir rodeados de naturaleza...</td>\n",
       "      <td>Excelente Propiedad!!!! en Estancias del Pilar</td>\n",
       "    </tr>\n",
       "    <tr>\n",
       "      <th>36</th>\n",
       "      <td>sell</td>\n",
       "      <td>house</td>\n",
       "      <td>Argentina</td>\n",
       "      <td>Bs.As. G.B.A. Zona Norte</td>\n",
       "      <td>Pilar</td>\n",
       "      <td>Pilar</td>\n",
       "      <td>NaN</td>\n",
       "      <td>-34.463098</td>\n",
       "      <td>-58.902199</td>\n",
       "      <td>400000.00</td>\n",
       "      <td>400.0</td>\n",
       "      <td>400.0</td>\n",
       "      <td>1000.000000</td>\n",
       "      <td>NaN</td>\n",
       "      <td>NaN</td>\n",
       "      <td>NaN</td>\n",
       "      <td>NaN</td>\n",
       "      <td>Casa en Pilar centro ,a pocas cuadras de la pl...</td>\n",
       "      <td>Casa en Pilar Centro-Excelente Estado</td>\n",
       "    </tr>\n",
       "    <tr>\n",
       "      <th>51</th>\n",
       "      <td>sell</td>\n",
       "      <td>house</td>\n",
       "      <td>Argentina</td>\n",
       "      <td>Capital Federal</td>\n",
       "      <td>Boedo</td>\n",
       "      <td>None</td>\n",
       "      <td>3436003.0</td>\n",
       "      <td>-34.636321</td>\n",
       "      <td>-58.410702</td>\n",
       "      <td>550000.00</td>\n",
       "      <td>504.0</td>\n",
       "      <td>324.0</td>\n",
       "      <td>1091.269841</td>\n",
       "      <td>NaN</td>\n",
       "      <td>0.018519</td>\n",
       "      <td>6.0</td>\n",
       "      <td>NaN</td>\n",
       "      <td>Se encuentra dentro del Distrito Tecnológico. ...</td>\n",
       "      <td>Casa impecable refaccionada! 6 ambientes.</td>\n",
       "    </tr>\n",
       "    <tr>\n",
       "      <th>...</th>\n",
       "      <td>...</td>\n",
       "      <td>...</td>\n",
       "      <td>...</td>\n",
       "      <td>...</td>\n",
       "      <td>...</td>\n",
       "      <td>...</td>\n",
       "      <td>...</td>\n",
       "      <td>...</td>\n",
       "      <td>...</td>\n",
       "      <td>...</td>\n",
       "      <td>...</td>\n",
       "      <td>...</td>\n",
       "      <td>...</td>\n",
       "      <td>...</td>\n",
       "      <td>...</td>\n",
       "      <td>...</td>\n",
       "      <td>...</td>\n",
       "      <td>...</td>\n",
       "      <td>...</td>\n",
       "    </tr>\n",
       "    <tr>\n",
       "      <th>119713</th>\n",
       "      <td>sell</td>\n",
       "      <td>apartment</td>\n",
       "      <td>Argentina</td>\n",
       "      <td>Capital Federal</td>\n",
       "      <td>Recoleta</td>\n",
       "      <td>None</td>\n",
       "      <td>3429595.0</td>\n",
       "      <td>NaN</td>\n",
       "      <td>NaN</td>\n",
       "      <td>260000.00</td>\n",
       "      <td>55.0</td>\n",
       "      <td>55.0</td>\n",
       "      <td>4727.272727</td>\n",
       "      <td>NaN</td>\n",
       "      <td>0.036364</td>\n",
       "      <td>2.0</td>\n",
       "      <td>NaN</td>\n",
       "      <td>Corredor Responsable: Ariel Champanier - C.U.C...</td>\n",
       "      <td>VENTA 2 AMBIENTES EN RECOLETA  C/COCHERA AMENI...</td>\n",
       "    </tr>\n",
       "    <tr>\n",
       "      <th>119795</th>\n",
       "      <td>sell</td>\n",
       "      <td>apartment</td>\n",
       "      <td>Argentina</td>\n",
       "      <td>Capital Federal</td>\n",
       "      <td>Belgrano</td>\n",
       "      <td>None</td>\n",
       "      <td>3436077.0</td>\n",
       "      <td>-34.552828</td>\n",
       "      <td>-58.451272</td>\n",
       "      <td>343563.00</td>\n",
       "      <td>75.0</td>\n",
       "      <td>75.0</td>\n",
       "      <td>4580.840000</td>\n",
       "      <td>NaN</td>\n",
       "      <td>0.026667</td>\n",
       "      <td>2.0</td>\n",
       "      <td>NaN</td>\n",
       "      <td>Venta - Departamento - Argentina, Buenos Aires...</td>\n",
       "      <td>Departamento en Venta ubicado en Belgrano</td>\n",
       "    </tr>\n",
       "    <tr>\n",
       "      <th>119808</th>\n",
       "      <td>sell</td>\n",
       "      <td>apartment</td>\n",
       "      <td>Argentina</td>\n",
       "      <td>Capital Federal</td>\n",
       "      <td>Puerto Madero</td>\n",
       "      <td>None</td>\n",
       "      <td>3429760.0</td>\n",
       "      <td>-34.621251</td>\n",
       "      <td>-58.361146</td>\n",
       "      <td>330000.00</td>\n",
       "      <td>65.0</td>\n",
       "      <td>65.0</td>\n",
       "      <td>5076.923077</td>\n",
       "      <td>NaN</td>\n",
       "      <td>0.030769</td>\n",
       "      <td>2.0</td>\n",
       "      <td>NaN</td>\n",
       "      <td>Departamento ubicado en el complejo Art María....</td>\n",
       "      <td>Hermoso departamento 2 ambientes en ART MARIA ...</td>\n",
       "    </tr>\n",
       "    <tr>\n",
       "      <th>119926</th>\n",
       "      <td>sell</td>\n",
       "      <td>store</td>\n",
       "      <td>Argentina</td>\n",
       "      <td>Capital Federal</td>\n",
       "      <td>Villa Devoto</td>\n",
       "      <td>None</td>\n",
       "      <td>3427451.0</td>\n",
       "      <td>-34.616758</td>\n",
       "      <td>-58.521410</td>\n",
       "      <td>235000.00</td>\n",
       "      <td>20.0</td>\n",
       "      <td>20.0</td>\n",
       "      <td>11750.000000</td>\n",
       "      <td>NaN</td>\n",
       "      <td>NaN</td>\n",
       "      <td>NaN</td>\n",
       "      <td>NaN</td>\n",
       "      <td>Corredor Responsable: Ariel Champanier - CUCIC...</td>\n",
       "      <td>TERRENO EXCELENTE ZONA DEVOTO</td>\n",
       "    </tr>\n",
       "    <tr>\n",
       "      <th>121130</th>\n",
       "      <td>sell</td>\n",
       "      <td>PH</td>\n",
       "      <td>Argentina</td>\n",
       "      <td>Bs.As. G.B.A. Zona Sur</td>\n",
       "      <td>Lomas de Zamora</td>\n",
       "      <td>Banfield</td>\n",
       "      <td>3436152.0</td>\n",
       "      <td>NaN</td>\n",
       "      <td>NaN</td>\n",
       "      <td>95000.00</td>\n",
       "      <td>12.0</td>\n",
       "      <td>12.0</td>\n",
       "      <td>7916.666667</td>\n",
       "      <td>NaN</td>\n",
       "      <td>NaN</td>\n",
       "      <td>NaN</td>\n",
       "      <td>NaN</td>\n",
       "      <td>DEPARTAMENTO A REFRACCIONADO . A ESTRENARPH IN...</td>\n",
       "      <td>PH - Banfield</td>\n",
       "    </tr>\n",
       "  </tbody>\n",
       "</table>\n",
       "<p>20808 rows × 19 columns</p>\n",
       "</div>"
      ],
      "text/plain": [
       "       operation property_type country_name                state_name  \\\n",
       "9           sell         house    Argentina                  Santa Fe   \n",
       "10          sell         house    Argentina                   Córdoba   \n",
       "27          sell         house    Argentina  Bs.As. G.B.A. Zona Norte   \n",
       "36          sell         house    Argentina  Bs.As. G.B.A. Zona Norte   \n",
       "51          sell         house    Argentina           Capital Federal   \n",
       "...          ...           ...          ...                       ...   \n",
       "119713      sell     apartment    Argentina           Capital Federal   \n",
       "119795      sell     apartment    Argentina           Capital Federal   \n",
       "119808      sell     apartment    Argentina           Capital Federal   \n",
       "119926      sell         store    Argentina           Capital Federal   \n",
       "121130      sell            PH    Argentina    Bs.As. G.B.A. Zona Sur   \n",
       "\n",
       "              city_name    neighborhood_name  geonames_id        lat  \\\n",
       "9               Rosario                 None    3838574.0 -32.942031   \n",
       "10              Córdoba                 None    3860259.0 -31.420083   \n",
       "27                Pilar  Estancias del Pilar          NaN -34.479486   \n",
       "36                Pilar                Pilar          NaN -34.463098   \n",
       "51                Boedo                 None    3436003.0 -34.636321   \n",
       "...                 ...                  ...          ...        ...   \n",
       "119713         Recoleta                 None    3429595.0        NaN   \n",
       "119795         Belgrano                 None    3436077.0 -34.552828   \n",
       "119808    Puerto Madero                 None    3429760.0 -34.621251   \n",
       "119926     Villa Devoto                 None    3427451.0 -34.616758   \n",
       "121130  Lomas de Zamora             Banfield    3436152.0        NaN   \n",
       "\n",
       "              lon  price_aprox_usd  surface_total_in_m2  \\\n",
       "9      -60.725919         25798.49               7637.0   \n",
       "10     -64.188776         70000.00               1514.0   \n",
       "27     -58.984541        650000.00                425.0   \n",
       "36     -58.902199        400000.00                400.0   \n",
       "51     -58.410702        550000.00                504.0   \n",
       "...           ...              ...                  ...   \n",
       "119713        NaN        260000.00                 55.0   \n",
       "119795 -58.451272        343563.00                 75.0   \n",
       "119808 -58.361146        330000.00                 65.0   \n",
       "119926 -58.521410        235000.00                 20.0   \n",
       "121130        NaN         95000.00                 12.0   \n",
       "\n",
       "        surface_covered_in_m2  price_usd_per_m2 floor  rooms_per_m2  rooms  \\\n",
       "9                      7637.0               NaN   NaN           NaN    NaN   \n",
       "10                     1514.0               NaN   NaN           NaN    NaN   \n",
       "27                      425.0       1529.411765   NaN           NaN    NaN   \n",
       "36                      400.0       1000.000000   NaN           NaN    NaN   \n",
       "51                      324.0       1091.269841   NaN      0.018519    6.0   \n",
       "...                       ...               ...   ...           ...    ...   \n",
       "119713                   55.0       4727.272727   NaN      0.036364    2.0   \n",
       "119795                   75.0       4580.840000   NaN      0.026667    2.0   \n",
       "119808                   65.0       5076.923077   NaN      0.030769    2.0   \n",
       "119926                   20.0      11750.000000   NaN           NaN    NaN   \n",
       "121130                   12.0       7916.666667   NaN           NaN    NaN   \n",
       "\n",
       "        expenses                                        description  \\\n",
       "9            NaN  MEDNOZA AL 7600A UNA CUADRA DE CALLE MENDOZAWH...   \n",
       "10           NaN  Hermosa casa sin terminar de 3 dormitorios, ba...   \n",
       "27           NaN  Estancias propone vivir rodeados de naturaleza...   \n",
       "36           NaN  Casa en Pilar centro ,a pocas cuadras de la pl...   \n",
       "51           NaN  Se encuentra dentro del Distrito Tecnológico. ...   \n",
       "...          ...                                                ...   \n",
       "119713       NaN  Corredor Responsable: Ariel Champanier - C.U.C...   \n",
       "119795       NaN  Venta - Departamento - Argentina, Buenos Aires...   \n",
       "119808       NaN  Departamento ubicado en el complejo Art María....   \n",
       "119926       NaN  Corredor Responsable: Ariel Champanier - CUCIC...   \n",
       "121130       NaN  DEPARTAMENTO A REFRACCIONADO . A ESTRENARPH IN...   \n",
       "\n",
       "                                                    title  \n",
       "9              WHITE 7637 - 2 DORMITORIOS CON PATIO        \n",
       "10      Casa sin terminar en Falda de Cañete.         ...  \n",
       "27         Excelente Propiedad!!!! en Estancias del Pilar  \n",
       "36                  Casa en Pilar Centro-Excelente Estado  \n",
       "51              Casa impecable refaccionada! 6 ambientes.  \n",
       "...                                                   ...  \n",
       "119713  VENTA 2 AMBIENTES EN RECOLETA  C/COCHERA AMENI...  \n",
       "119795          Departamento en Venta ubicado en Belgrano  \n",
       "119808  Hermoso departamento 2 ambientes en ART MARIA ...  \n",
       "119926                      TERRENO EXCELENTE ZONA DEVOTO  \n",
       "121130                                      PH - Banfield  \n",
       "\n",
       "[20808 rows x 19 columns]"
      ]
     },
     "execution_count": 142,
     "metadata": {},
     "output_type": "execute_result"
    }
   ],
   "source": [
    "data_outliers.drop_duplicates()"
   ]
  },
  {
   "cell_type": "code",
   "execution_count": 132,
   "id": "03f2a92c",
   "metadata": {},
   "outputs": [
    {
     "name": "stdout",
     "output_type": "stream",
     "text": [
      "operation                     0\n",
      "property_type                 0\n",
      "country_name                  0\n",
      "state_name                    0\n",
      "city_name                  4422\n",
      "neighborhood_name         75909\n",
      "geonames_id               18527\n",
      "lat                       48639\n",
      "lon                       48639\n",
      "price_aprox_usd           17862\n",
      "surface_total_in_m2        8448\n",
      "surface_covered_in_m2      8613\n",
      "price_usd_per_m2          24371\n",
      "floor                    113622\n",
      "rooms_per_m2              53049\n",
      "rooms                     48903\n",
      "expenses                 101752\n",
      "description                   2\n",
      "title                         0\n",
      "dtype: int64 (115688, 19)\n"
     ]
    }
   ],
   "source": [
    "print(data_validation(data), data.shape) "
   ]
  },
  {
   "cell_type": "code",
   "execution_count": 133,
   "id": "d5297ec4",
   "metadata": {},
   "outputs": [
    {
     "name": "stdout",
     "output_type": "stream",
     "text": [
      "operation                    0\n",
      "property_type                0\n",
      "country_name                 0\n",
      "state_name                   0\n",
      "city_name                 3653\n",
      "neighborhood_name        62863\n",
      "geonames_id              14231\n",
      "lat                      39859\n",
      "lon                      39859\n",
      "price_aprox_usd          14859\n",
      "surface_total_in_m2       8014\n",
      "surface_covered_in_m2     8014\n",
      "price_usd_per_m2         20448\n",
      "floor                    92688\n",
      "rooms_per_m2             42886\n",
      "rooms                    39171\n",
      "expenses                 82414\n",
      "description                  2\n",
      "title                        0\n",
      "dtype: int64 (94535, 19)\n"
     ]
    }
   ],
   "source": [
    "mask_nulos = ((mask_surface_covered_in_m2_sup) | (data.surface_covered_in_m2.isnull())) & ((mask_surface_total_in_m2_sup) | (data.surface_total_in_m2.isnull())) & ((mask_rooms) | (data.rooms.isnull())) & ((mask_rooms_surf) | (data.rooms_per_m2.isnull())) & ((mask_price_sup) | (data.price_aprox_usd.isnull())) & ((mask_price_m2_surf) | (data.price_usd_per_m2.isnull()))\n",
    "data = data[mask_nulos]\n",
    "print(data_validation(data), data.shape)"
   ]
  },
  {
   "cell_type": "markdown",
   "id": "e12437b6",
   "metadata": {},
   "source": [
    "# Imputacion por medias condicionadas"
   ]
  },
  {
   "cell_type": "markdown",
   "id": "9fe8ffd3",
   "metadata": {},
   "source": [
    "## Obtencion de latitud, longitud por media condicionada"
   ]
  },
  {
   "cell_type": "markdown",
   "id": "ff13f0ac",
   "metadata": {},
   "source": [
    "##### *Se van a realizar tres groupby por cada variable, ya que hay instancias en las que la variable neighborhood_name y otras en las que city_name tambien es nula. Realizandolo de esta forma se obtiene la maxima precision posible* "
   ]
  },
  {
   "cell_type": "code",
   "execution_count": 130,
   "id": "70bbcb80",
   "metadata": {},
   "outputs": [],
   "source": [
    "# Se obtienen tres dataframe con las instancias con las que se van a realizar los groupby\n",
    "data_city_neig_groupby = data[ data.city_name.notnull() & data.neighborhood_name.notnull()]\n",
    "data_city_groupby = data[ data.city_name.notnull() & data.neighborhood_name.isnull()]\n",
    "data_groupby = data[data.city_name.isnull() & data.neighborhood_name.isnull()]"
   ]
  },
  {
   "cell_type": "code",
   "execution_count": 131,
   "id": "89e5ad4d",
   "metadata": {},
   "outputs": [
    {
     "name": "stderr",
     "output_type": "stream",
     "text": [
      "C:\\Users\\General\\AppData\\Local\\Temp\\ipykernel_13752\\3561664568.py:3: SettingWithCopyWarning: \n",
      "A value is trying to be set on a copy of a slice from a DataFrame.\n",
      "Try using .loc[row_indexer,col_indexer] = value instead\n",
      "\n",
      "See the caveats in the documentation: https://pandas.pydata.org/pandas-docs/stable/user_guide/indexing.html#returning-a-view-versus-a-copy\n",
      "  data_city_neig_groupby['lat'] = data_city_neig_groupby.groupby([\"state_name\" , \"city_name\" , \"neighborhood_name\"], sort=False)[\"lat\"].apply(lambda x: x.fillna(x.mean()))\n",
      "C:\\Users\\General\\AppData\\Local\\Temp\\ipykernel_13752\\3561664568.py:4: SettingWithCopyWarning: \n",
      "A value is trying to be set on a copy of a slice from a DataFrame.\n",
      "Try using .loc[row_indexer,col_indexer] = value instead\n",
      "\n",
      "See the caveats in the documentation: https://pandas.pydata.org/pandas-docs/stable/user_guide/indexing.html#returning-a-view-versus-a-copy\n",
      "  data_city_groupby['lat'] = data_city_groupby.groupby([\"state_name\" , \"city_name\"], sort=False)[\"lat\"].apply(lambda x: x.fillna(x.mean()))\n",
      "C:\\Users\\General\\AppData\\Local\\Temp\\ipykernel_13752\\3561664568.py:5: SettingWithCopyWarning: \n",
      "A value is trying to be set on a copy of a slice from a DataFrame.\n",
      "Try using .loc[row_indexer,col_indexer] = value instead\n",
      "\n",
      "See the caveats in the documentation: https://pandas.pydata.org/pandas-docs/stable/user_guide/indexing.html#returning-a-view-versus-a-copy\n",
      "  data_groupby['lat'] = data_groupby.groupby([\"state_name\"], sort=False)[\"lat\"].apply(lambda x: x.fillna(x.mean()))\n",
      "C:\\Users\\General\\AppData\\Local\\Temp\\ipykernel_13752\\3561664568.py:9: SettingWithCopyWarning: \n",
      "A value is trying to be set on a copy of a slice from a DataFrame.\n",
      "Try using .loc[row_indexer,col_indexer] = value instead\n",
      "\n",
      "See the caveats in the documentation: https://pandas.pydata.org/pandas-docs/stable/user_guide/indexing.html#returning-a-view-versus-a-copy\n",
      "  data_city_neig_groupby['lon'] = data_city_neig_groupby.groupby([\"state_name\" , \"city_name\" , \"neighborhood_name\"], sort=False)[\"lon\"].apply(lambda x: x.fillna(x.mean()))\n",
      "C:\\Users\\General\\AppData\\Local\\Temp\\ipykernel_13752\\3561664568.py:10: SettingWithCopyWarning: \n",
      "A value is trying to be set on a copy of a slice from a DataFrame.\n",
      "Try using .loc[row_indexer,col_indexer] = value instead\n",
      "\n",
      "See the caveats in the documentation: https://pandas.pydata.org/pandas-docs/stable/user_guide/indexing.html#returning-a-view-versus-a-copy\n",
      "  data_city_groupby['lon'] = data_city_groupby.groupby([\"state_name\" , \"city_name\"], sort=False)[\"lon\"].apply(lambda x: x.fillna(x.mean()))\n",
      "C:\\Users\\General\\AppData\\Local\\Temp\\ipykernel_13752\\3561664568.py:11: SettingWithCopyWarning: \n",
      "A value is trying to be set on a copy of a slice from a DataFrame.\n",
      "Try using .loc[row_indexer,col_indexer] = value instead\n",
      "\n",
      "See the caveats in the documentation: https://pandas.pydata.org/pandas-docs/stable/user_guide/indexing.html#returning-a-view-versus-a-copy\n",
      "  data_groupby['lon'] = data_groupby.groupby([\"state_name\"], sort=False)[\"lon\"].apply(lambda x: x.fillna(x.mean()))\n"
     ]
    }
   ],
   "source": [
    "# Se realizan los tres groupby para obtener la media lat en funcion de state_name , city_name y neighborhood_name (segun sea el caso)...\n",
    "# ... imputandolo en los nulos de lat de los dataframes data_city_neig_groupby, data_city_groupby, data_groupby, segun corresponda \n",
    "data_city_neig_groupby['lat'] = data_city_neig_groupby.groupby([\"state_name\" , \"city_name\" , \"neighborhood_name\"], sort=False)[\"lat\"].apply(lambda x: x.fillna(x.mean()))\n",
    "data_city_groupby['lat'] = data_city_groupby.groupby([\"state_name\" , \"city_name\"], sort=False)[\"lat\"].apply(lambda x: x.fillna(x.mean()))\n",
    "data_groupby['lat'] = data_groupby.groupby([\"state_name\"], sort=False)[\"lat\"].apply(lambda x: x.fillna(x.mean()))\n",
    "\n",
    "# Se realizan los tres groupby para obtener la media lon en funcion de state_name , city_name y neighborhood_name (segun sea el caso)...\n",
    "# ... imputandolo en los nulos de lon de los dataframes data_city_neig_groupby, data_city_groupby, data_groupby, segun corresponda \n",
    "data_city_neig_groupby['lon'] = data_city_neig_groupby.groupby([\"state_name\" , \"city_name\" , \"neighborhood_name\"], sort=False)[\"lon\"].apply(lambda x: x.fillna(x.mean()))\n",
    "data_city_groupby['lon'] = data_city_groupby.groupby([\"state_name\" , \"city_name\"], sort=False)[\"lon\"].apply(lambda x: x.fillna(x.mean()))\n",
    "data_groupby['lon'] = data_groupby.groupby([\"state_name\"], sort=False)[\"lon\"].apply(lambda x: x.fillna(x.mean()))"
   ]
  },
  {
   "cell_type": "code",
   "execution_count": 132,
   "id": "02054363",
   "metadata": {},
   "outputs": [],
   "source": [
    "# Imputacion en data de lat de los dataframe data_city_neig_groupby, data_city_groupby, data_groupby\n",
    "data.loc[data_city_neig_groupby.index,\"lat\"] = data_city_neig_groupby.loc[data_city_neig_groupby.index,\"lat\"]\n",
    "data.loc[data_city_groupby.index,\"lat\"] = data_city_groupby.loc[data_city_groupby.index,\"lat\"]\n",
    "data.loc[data_groupby.index,\"lat\"] = data_groupby.loc[data_groupby.index,\"lat\"]\n",
    "\n",
    "# Imputacion en data de lon de los dataframe data_city_neig_groupby, data_city_groupby, data_groupby\n",
    "data.loc[data_city_neig_groupby.index,\"lon\"] = data_city_neig_groupby.loc[data_city_neig_groupby.index,\"lon\"]\n",
    "data.loc[data_city_groupby.index,\"lon\"] = data_city_groupby.loc[data_city_groupby.index,\"lon\"]\n",
    "data.loc[data_groupby.index,\"lon\"] = data_groupby.loc[data_groupby.index,\"lon\"]"
   ]
  },
  {
   "cell_type": "markdown",
   "id": "af4a4ebb",
   "metadata": {},
   "source": [
    "## Obtencion de surface_covered_in_m2 y surface_total-in_m2 por medias condicionadas en funcion de las rooms, del state_name y del property_type"
   ]
  },
  {
   "cell_type": "code",
   "execution_count": 133,
   "id": "87f55c06",
   "metadata": {},
   "outputs": [
    {
     "name": "stdout",
     "output_type": "stream",
     "text": [
      "Cantidad de instancias con las que se va a hacer el groupby=  46264\n",
      "Cantiedad de nulos en surface_covered_in_m2 (en data_surfaces_imput) =  0\n",
      "Cantiedad de nulos en surface_total_in_m2 (en data_surfaces_imput)=  0\n"
     ]
    }
   ],
   "source": [
    "#Obtengo un dataframe con las instancias que tengan las rooms no nulos, state_name no nulo y property_type no nulo\n",
    "data_surfaces_imput = data[data.rooms.notnull() & data.state_name.notnull() & data.property_type.notnull()]\n",
    "\n",
    "print(\"Cantidad de instancias con las que se va a hacer el groupby= \", data_surfaces_imput.shape[0])\n",
    "print(\"Cantiedad de nulos en surface_covered_in_m2 (en data_surfaces_imput) = \", data_surfaces_imput.surface_covered_in_m2.isnull().sum())\n",
    "print(\"Cantiedad de nulos en surface_total_in_m2 (en data_surfaces_imput)= \", data_surfaces_imput.surface_total_in_m2.isnull().sum())"
   ]
  },
  {
   "cell_type": "code",
   "execution_count": 134,
   "id": "eaa8c393",
   "metadata": {},
   "outputs": [
    {
     "data": {
      "text/plain": [
       "property_type  state_name                    rooms\n",
       "PH             Capital Federal               2.0       51.242678\n",
       "apartment      Capital Federal               2.0       46.505188\n",
       "               Buenos Aires Costa Atlántica  2.0       47.472373\n",
       "               Bs.As. G.B.A. Zona Norte      2.0       51.922646\n",
       "               Capital Federal               1.0       35.172168\n",
       "                                                         ...    \n",
       "store          Bs.As. G.B.A. Zona Norte      4.0       94.666667\n",
       "               Córdoba                       2.0      102.000000\n",
       "                                             4.0       85.000000\n",
       "                                             3.0      125.000000\n",
       "PH             Buenos Aires Interior         6.0      170.000000\n",
       "Name: surface_covered_in_m2, Length: 185, dtype: float64"
      ]
     },
     "execution_count": 134,
     "metadata": {},
     "output_type": "execute_result"
    }
   ],
   "source": [
    "# Se realiza un groupby para obtener la media de surface_covered_in_m2 en funcion de property_type , state_name y rooms\n",
    "data_surfaces_imput_groupby = data_surfaces_imput.groupby(by = [\"property_type\" , \"state_name\" ,\"rooms\"], sort=False)[\"surface_covered_in_m2\"].mean()\n",
    "data_surfaces_imput_groupby"
   ]
  },
  {
   "cell_type": "code",
   "execution_count": 135,
   "id": "a5fe6d39",
   "metadata": {},
   "outputs": [
    {
     "name": "stdout",
     "output_type": "stream",
     "text": [
      "Cantiedad de nulos en surface_covered_in_m2 (en data_surfaces_imput) =  0\n"
     ]
    }
   ],
   "source": [
    "# Se realiza un groupby para obtener la media de surface_covered_in_m2 en funcion de property_type , state_name y rooms, imputandolo en los nulos de surface_covered_in_m2 del dataframe data_surfaces_imput\n",
    "data_surfaces_imput[\"surface_covered_in_m2\"] = data_surfaces_imput.groupby([\"property_type\" , \"state_name\" ,\"rooms\"], sort=False)[\"surface_covered_in_m2\"].apply(lambda x: x.fillna(x.mean()))\n",
    "print(\"Cantiedad de nulos en surface_covered_in_m2 (en data_surfaces_imput) = \", data_surfaces_imput.surface_covered_in_m2.isnull().sum())"
   ]
  },
  {
   "cell_type": "markdown",
   "id": "91fea6bb",
   "metadata": {},
   "source": [
    "## Obtencion de rooms por medias condicionadas en funcion de la surface_covered_in_m2 y del state_name"
   ]
  },
  {
   "cell_type": "markdown",
   "id": "08c048bb",
   "metadata": {},
   "source": [
    "##### Primero se discretiza la variable surface_covered_in_m2 en cuatro categorias"
   ]
  },
  {
   "cell_type": "code",
   "execution_count": 136,
   "id": "b9ec4448",
   "metadata": {},
   "outputs": [],
   "source": [
    "# Con qcut se discretiza la columa surface_covered_in_m2, creando una serie\n",
    "serie_surfaces_category = pd.qcut(data.surface_covered_in_m2, 4,labels = [\"chico\",\"mediano\",\"grande\",\"muy_grande\"])"
   ]
  },
  {
   "cell_type": "code",
   "execution_count": 137,
   "id": "f8b1d82a",
   "metadata": {},
   "outputs": [],
   "source": [
    "# Se crea un dataframe auxiliar y se le inserta la serie serie_surfaces_category\n",
    "data_aux = data.copy()\n",
    "data_aux.insert(12,\"surface_category\",serie_surfaces_category)"
   ]
  },
  {
   "cell_type": "code",
   "execution_count": 138,
   "id": "93109d5f",
   "metadata": {},
   "outputs": [
    {
     "name": "stdout",
     "output_type": "stream",
     "text": [
      "Cantidad de instancias con las que se va a hacer el groupby=  46264\n",
      "Cantidad de nulos en rooms (en data_rooms_imput)=  0\n"
     ]
    }
   ],
   "source": [
    "# Se obtiene un dataframe con las instancias donde surface_category sea no nulo, state_name no nulo y property_type no nulo\n",
    "data_rooms_imput = data_aux[data_aux.surface_category.notnull() & data_aux.state_name.notnull() & data_aux.property_type.notnull()]\n",
    "\n",
    "print(\"Cantidad de instancias con las que se va a hacer el groupby= \", data_rooms_imput.shape[0])\n",
    "print(\"Cantidad de nulos en rooms (en data_rooms_imput)= \", data_rooms_imput.rooms.isnull().sum())"
   ]
  },
  {
   "cell_type": "code",
   "execution_count": 139,
   "id": "5653127b",
   "metadata": {},
   "outputs": [
    {
     "data": {
      "text/plain": [
       "property_type  state_name                surface_category\n",
       "PH             Bs.As. G.B.A. Zona Norte  chico               2.076923\n",
       "                                         mediano             2.663866\n",
       "                                         grande              3.150862\n",
       "                                         muy_grande          3.804348\n",
       "               Bs.As. G.B.A. Zona Oeste  chico               2.000000\n",
       "                                                               ...   \n",
       "store          Córdoba                   muy_grande          2.000000\n",
       "               Santa Fe                  chico                    NaN\n",
       "                                         mediano                  NaN\n",
       "                                         grande                   NaN\n",
       "                                         muy_grande               NaN\n",
       "Name: rooms, Length: 128, dtype: float64"
      ]
     },
     "execution_count": 139,
     "metadata": {},
     "output_type": "execute_result"
    }
   ],
   "source": [
    "# Se realiza un groupby para obtener la media de rooms en funcion de property_type , state_name y surface_category\n",
    "data_rooms_imput_groupby = data_rooms_imput.groupby(by = [\"property_type\" , \"state_name\" , \"surface_category\" ], sort=False)[\"rooms\"].mean()\n",
    "data_rooms_imput_groupby"
   ]
  },
  {
   "cell_type": "code",
   "execution_count": 140,
   "id": "cfa4087f",
   "metadata": {},
   "outputs": [
    {
     "name": "stdout",
     "output_type": "stream",
     "text": [
      "Cantiedad de nulos en rooms (en data_rooms_imput) =  0\n"
     ]
    }
   ],
   "source": [
    "# Se realiza un groupby para obtener la media de rooms en funcion de property_type , state_name y surface_category, imputandolo en los nulos de rooms del dataframe data_rooms_imput\n",
    "data_rooms_imput['rooms'] = data_rooms_imput.groupby([\"property_type\" , \"state_name\" , \"surface_category\"], sort=False)[\"rooms\"].apply(lambda x: x.fillna(x.mean()))\n",
    "print(\"Cantiedad de nulos en rooms (en data_rooms_imput) = \", data_surfaces_imput.surface_covered_in_m2.isnull().sum())"
   ]
  },
  {
   "cell_type": "markdown",
   "id": "a7e46afb",
   "metadata": {},
   "source": [
    "### Imputacion en data de rooms y surface_covered_in_m2 provenientes de los dataframe data_rooms_imput y data_surfaces_imput"
   ]
  },
  {
   "cell_type": "code",
   "execution_count": 141,
   "id": "96584704",
   "metadata": {},
   "outputs": [
    {
     "data": {
      "text/plain": [
       "operation                    0\n",
       "property_type                0\n",
       "country_name                 0\n",
       "state_name                   0\n",
       "city_name                  404\n",
       "neighborhood_name        29924\n",
       "geonames_id               7608\n",
       "lat                        129\n",
       "lon                        129\n",
       "price_aprox_usd              0\n",
       "surface_total_in_m2          0\n",
       "surface_covered_in_m2        0\n",
       "price_usd_per_m2             0\n",
       "floor                    44802\n",
       "rooms_per_m2                 0\n",
       "rooms                        0\n",
       "expenses                 40071\n",
       "description                  0\n",
       "title                        0\n",
       "dtype: int64"
      ]
     },
     "execution_count": 141,
     "metadata": {},
     "output_type": "execute_result"
    }
   ],
   "source": [
    "# Imputacion en data de rooms y surface_covered_in_m2 de los dataframe data_rooms_imput y data_surfaces_imput\n",
    "data.loc[data_rooms_imput.index,\"rooms\"] = data_rooms_imput.loc[data_rooms_imput.index,\"rooms\"]\n",
    "data.loc[data_surfaces_imput.index,[\"surface_covered_in_m2\",\"surface_total_in_m2\"]] = data_surfaces_imput.loc[data_surfaces_imput.index,\"surface_covered_in_m2\"]\n",
    "data.isnull().sum()"
   ]
  },
  {
   "cell_type": "markdown",
   "id": "c755ce5c",
   "metadata": {},
   "source": [
    "### Obtencion de price_aprox_usd mediante imputacion directa en funcion de prices_usd_per_m2 y surface_total_in_m2"
   ]
  },
  {
   "cell_type": "markdown",
   "id": "4c3f7880",
   "metadata": {},
   "source": [
    "##### El valor de price_aprox_usd se obtiene mediante la formula **price_aprox_usd = price_usd_per_m2 * surface_total_in_m2**"
   ]
  },
  {
   "cell_type": "code",
   "execution_count": 142,
   "id": "976143fb",
   "metadata": {},
   "outputs": [
    {
     "name": "stdout",
     "output_type": "stream",
     "text": [
      "Cantidad de instancias de price_aprox_usd a imputar=  0\n"
     ]
    },
    {
     "name": "stderr",
     "output_type": "stream",
     "text": [
      "C:\\Users\\General\\AppData\\Local\\Temp\\ipykernel_13752\\3032786079.py:6: UserWarning: Boolean Series key will be reindexed to match DataFrame index.\n",
      "  data_prices_imput = data[mask_prices_imput]\n"
     ]
    }
   ],
   "source": [
    "# Se obtiene un dataframe con los valores no nulos de cualquiera de las dos surfaces, nulos de price_aprox_usd y no nulos de price_usd_per_m2\n",
    "condition_surfaces_notnull = data.surface_total_in_m2.notnull() | data.surface_covered_in_m2.notnull()\n",
    "condition_price_null =  data.price_aprox_usd.isnull()\n",
    "condition_price_per_m2_notnull = data.price_usd_per_m2.notnull()\n",
    "mask_prices_imput = condition_surfaces_null & condition_price_notnull & condition_price_per_m2_notnull\n",
    "data_prices_imput = data[mask_prices_imput]\n",
    "\n",
    "print (\"Cantidad de instancias de price_aprox_usd a imputar= \", data_prices_imput.shape[0])"
   ]
  },
  {
   "cell_type": "code",
   "execution_count": 143,
   "id": "a43969a7",
   "metadata": {},
   "outputs": [],
   "source": [
    "# Se imputa el valor de price_aprox_usd como price_aprox_usd = price_usd_per_m2 / surface_total_in_m2\n",
    "data.loc[data_prices_imput.index,\"price_aprox_usd\"] = data.loc[data_prices_imput.index, \"price_usd_per_m2\"] * data.loc[data_prices_imput.index, \"surface_total_in_m2\"]"
   ]
  },
  {
   "cell_type": "markdown",
   "id": "04bae57f",
   "metadata": {},
   "source": [
    "### Obtencion de price_usd_per_m2 mediante imputacion directa en funcion de surface y price"
   ]
  },
  {
   "cell_type": "markdown",
   "id": "e5d6c3f5",
   "metadata": {},
   "source": [
    "##### El valor de price_usd_per_m2 se obtiene mediante la formula **price_usd_per_m2 = price_aprox_in_usd / surface_total_in_m2**"
   ]
  },
  {
   "cell_type": "code",
   "execution_count": 144,
   "id": "ffeb0861",
   "metadata": {},
   "outputs": [
    {
     "name": "stdout",
     "output_type": "stream",
     "text": [
      "Cantidad de instancias de price_usd_per_m2 a imputar=  0\n"
     ]
    }
   ],
   "source": [
    "# Se obtiene un dataframe con los valores no nulos de cualquiera de las dos surfaces, no nulos de price_aprox_usd y nulos de price_usd_per_m2\n",
    "condition_surfaces_notnull = data.surface_total_in_m2.notnull() | data.surface_covered_in_m2.notnull()\n",
    "condition_price_notnull = data.price_aprox_usd.notnull()\n",
    "condition_price_per_m2_null = data.price_usd_per_m2.isnull()\n",
    "mask_prices_per_m2_imput = condition_surfaces_notnull & condition_price_notnull & condition_price_per_m2_null\n",
    "data_prices_per_m2_imput = data[mask_prices_per_m2_imput]\n",
    "\n",
    "print (\"Cantidad de instancias de price_usd_per_m2 a imputar= \", data_prices_per_m2_imput.shape[0])"
   ]
  },
  {
   "cell_type": "code",
   "execution_count": 145,
   "id": "4c80684c",
   "metadata": {},
   "outputs": [],
   "source": [
    "# Se imputa el valor de price_usd_per_m2 como price_usd_per_m2 = price_aprox_usd / surface_total_in_m2\n",
    "data.loc[data_prices_per_m2_imput.index,\"price_usd_per_m2\"] = data.loc[data_prices_per_m2_imput.index, \"price_aprox_usd\"] / data.loc[data_prices_per_m2_imput.index, \"surface_total_in_m2\"]"
   ]
  },
  {
   "cell_type": "markdown",
   "id": "21473b5f",
   "metadata": {},
   "source": [
    "### Obtencion de rooms_per_m2 en funcion de rooms y surface_covered_in_m2"
   ]
  },
  {
   "cell_type": "code",
   "execution_count": 146,
   "id": "f40733f8",
   "metadata": {},
   "outputs": [],
   "source": [
    "#Se obtiene un dataframe con los valores no nulos de surface_covereD_in_m2, no nulos de rooms y nulos de rooms_per_m2\n",
    "data_rooms_per_m2 = data[data.rooms.notnull() & data.surface_covered_in_m2.notnull() & data.rooms_per_m2.isnull()]\n",
    "\n",
    "data.loc[data_rooms_per_m2.index,\"rooms_per_m2\"] = data.loc[data_rooms_per_m2.index,\"rooms\"] / data.loc[data_rooms_per_m2.index,\"surface_covered_in_m2\"]"
   ]
  },
  {
   "cell_type": "markdown",
   "id": "27a655dc",
   "metadata": {},
   "source": [
    "#### Validacion de datos"
   ]
  },
  {
   "cell_type": "code",
   "execution_count": 147,
   "id": "59bfb426",
   "metadata": {},
   "outputs": [
    {
     "data": {
      "text/plain": [
       "operation                    0\n",
       "property_type                0\n",
       "country_name                 0\n",
       "state_name                   0\n",
       "city_name                  404\n",
       "neighborhood_name        29924\n",
       "geonames_id               7608\n",
       "lat                        129\n",
       "lon                        129\n",
       "price_aprox_usd              0\n",
       "surface_total_in_m2          0\n",
       "surface_covered_in_m2        0\n",
       "price_usd_per_m2             0\n",
       "floor                    44802\n",
       "rooms_per_m2                 0\n",
       "rooms                        0\n",
       "expenses                 40071\n",
       "description                  0\n",
       "title                        0\n",
       "dtype: int64"
      ]
     },
     "execution_count": 147,
     "metadata": {},
     "output_type": "execute_result"
    }
   ],
   "source": [
    "data_validation(data)"
   ]
  }
 ],
 "metadata": {
  "kernelspec": {
   "display_name": "Python 3 (ipykernel)",
   "language": "python",
   "name": "python3"
  },
  "language_info": {
   "codemirror_mode": {
    "name": "ipython",
    "version": 3
   },
   "file_extension": ".py",
   "mimetype": "text/x-python",
   "name": "python",
   "nbconvert_exporter": "python",
   "pygments_lexer": "ipython3",
   "version": "3.8.12"
  }
 },
 "nbformat": 4,
 "nbformat_minor": 5
}
