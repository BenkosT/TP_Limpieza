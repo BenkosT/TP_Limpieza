{
 "cells": [
  {
   "cell_type": "markdown",
   "id": "15ad5ded",
   "metadata": {},
   "source": [
    "# **Estandarizacion de nombres de mascaras, dataset y demas:**\n",
    "- Al aplicarle una mascara a un dataset seria conveniente primero definir la mascara y en otra linea de codigo aplicarsela al dataset. Esto para que podamos ver bien que le estamos aplicando y que condiciones tiene esa mascara.\n",
    "- Ojo con utilizar mascaras o alguna otra variable, dataframe y demas, definida mucho mas arriba. No vaya a ser que le cambiemos el nombre por x motivo y nos ollvidamos que mas abajo la usamos para otra cosa y se rompa todo\n",
    "- Los nombres para las cosas que sean en ingles, separando las palabras con \" _ \" y en lo posible que se pueda intuir mediante el nombre a que se refiere\n",
    "- Como practica totalmente arbitraria intentar que los nombres no tengan mas de 5 palabras. ej: \" mask_rooms_zeros \" , \" mask_rooms_surf_zeros \" y asi\n",
    "- Si le llamamos \" mask \" a algo, que realmente lo sea. No que sea ya una mascara aplicada a un dataset. Eso es el dataset data filtrado por la mascara\n",
    "- A estos nuevos dataset llamemosle igual que la mascara que le aplicamos solo que reemplazamos el nombre mask por data. ej:  \" mask_rooms_zeros \"=  \" data_rooms_zeros \";                   \" data_rooms_surf_zeros \" = \" data_rooms_surf_zeros \"\n",
    "- Cuando creemos un nuevo dataset, un array, una lista, una serie, mascara o lo que sea poner primero el nombre del tipo de objeto y despues lo que hace, para saber lo que es eso\n",
    "- Cuando hacemos una mascara para ver si algo es nulo o cero ponemos solo \" null \". Es para no alargar los nombres\n",
    "\n"
   ]
  },
  {
   "cell_type": "markdown",
   "id": "5212152f",
   "metadata": {},
   "source": [
    "## Hasta aca realizamos\n",
    "- Transformacion de todos los ceros a nulos\n",
    "- Limpieza de filas nulas\n",
    "- Eliminacion de columnas sin informacion relevante y con informacion redundante\n",
    "- Eliminacion de state_name que representen menos del 1% del total de instancias\n",
    "- Correccion en las variables surface_covered_in_m2 y surface_total_in_m2 en los casos que la primera era mayor que la segunda no siendo posible esto\n",
    "- Imputacion de nulos en la columna place_name (si hacemos el paso del split de place_with_parent_names ese paso hay que eliminarlo)\n",
    "- imputacion de datos de price_aprox_usd, surface_total_in_m2 y rooms mediante expresiones regulares de las columnas description y title\n",
    "- Imputacion de datos en surface_covered_in_m2 y surface_total_in_m2 cuando uno era nulo pero el otro no\n",
    "- Imputacion de las variables surface_total_in_m2, price_aprox_usd y price_usd_per_m2 mediante deduccion de otras variables conocidas\n",
    "- Definir si se desechan las instancias que representen menos del 1% en funcion del state_name. Este es un problema de granulacion, ya que con la actual nos quedamos con muy pocas instancias para el modelo, pero aumentando la granulacion (haciendo una agregacion de todas estas en una nueva categoria, ej: resto del pais), no desechamos las instancias y solo perdemos granularidad pero no toda la informacion.\n",
    "- Corregir el patron con el que se busca el precio, para encontrar valores en pesos tambien, haciendo dos grupos, de esta manera el que matchee el grupo dolar se imputa directamente y el que matchee el grupo pesos imputarlo haciendo una conversion del valor. Por facilidad de codigo se imputa el primer grupo que matchea. **GERA , BENKOS Y ERICK**\n",
    "- Sofisticar los patrones de las expresiones regulares para encontrar mas valores, especialmente en superficie. **GERA , BENKOS Y ERICK**\n",
    "- La columna operation y country_name contienen una unica variable, en el caso de operation es sell y en el caso de country_name es argentina. No tiene sentido mantener las columnas siendo que no aportan informacion. Definir su tratamiento **PREGUNTAR A FABRI**\n",
    "- Realizar una imputacion con media condicionada en rooms por superficie, y lugar. **GERA , BENKOS y ERICK** (falta la imputacion que no se bien como hacerla)\n",
    "- Realizar una imputacion por media condicionada en superficie por media condicionada en rooms y lugar **GERA , BENKOS y ERICK** (falta la imputacion que no se bien como hacerla)\n",
    "- Revisar si no hay otra forma de determinar el price y el price por metro cuadrado y si no lo hay tirar estas instancias que sean nulas **GERA , BENKOS y ERICK**\n",
    "- Darle un tratamiento a expensas y floor. En propiedades tipo casas esta bien que sean nulas pero en departamentos no. Igualmente hay informacion ahi, quizas no sea bueno tirarla. *Como propuesta podriamos buscarlo con expresiones regulares en description y title ya que no tenemos de donde mas sacarla* *Tambien se podria ver la correlacion entre las expensas y el lugar y la superficie y si se encuentra una correlacion imputarlo por media condicionada por ejemplo **GERA , BENKOS y ERICK** **PREGUNTAR A FABRI**\n",
    "## Falta realizar\n",
    "- Darle un tratamiento a lat y lon y geonames id **VIERNES GERA**\n",
    "- Creacion de nuevas columnas estilo **Cercania a un espacio verde** **Cercania a un subte** **Mapa de delito** **GERA, BENKOS y ERICK**\n",
    "- deteccion de outliers\n",
    "- Desechar las instancias que son outliers y que tienen nulos que no deberian tener\n",
    "- EDA:  y representacion de datos y medidas estadisticas **PABLO Y ALE**\n",
    "- Presentacion, formato revision de integridad de informacion **PABLO Y ALE**"
   ]
  },
  {
   "cell_type": "markdown",
   "id": "3908e7e2",
   "metadata": {},
   "source": [
    "# Importacion de librerias utilizadas"
   ]
  },
  {
   "cell_type": "code",
   "execution_count": 1,
   "id": "eae5b6be",
   "metadata": {},
   "outputs": [],
   "source": [
    "import pandas as pd\n",
    "import numpy as np\n",
    "import re\n",
    "import seaborn as sns\n",
    "import matplotlib.pyplot as plt"
   ]
  },
  {
   "cell_type": "markdown",
   "id": "d1899e46",
   "metadata": {},
   "source": [
    "# Funciones"
   ]
  },
  {
   "cell_type": "markdown",
   "id": "95f611f0",
   "metadata": {},
   "source": [
    "#### *Con conocimiento de negocio se validan los datos*\n",
    "1. price_aprox_usd  ==  mayor a usd 1000 y menor a usd 10000000\n",
    "2. surface_total_in_m2 == mayor a 10 m2 y menor a 1000000 m2\n",
    "3. surface_covered_in_m2 == mayor a 10m2 y menor a 10000 m2\n",
    "4. rooms == mayor a 0 y menor a 100 \n",
    "5. price_usd_per_m2 == mayor a 100 y menor a 100000"
   ]
  },
  {
   "cell_type": "markdown",
   "id": "b626a694",
   "metadata": {},
   "source": [
    "#### Funcion de validacion de datos"
   ]
  },
  {
   "cell_type": "code",
   "execution_count": 2,
   "id": "8e12f4f3",
   "metadata": {},
   "outputs": [],
   "source": [
    "def data_validation(dataframe):\n",
    "   \n",
    "    mask_validation_price = (data.price_aprox_usd < 1000 ) | (data.price_aprox_usd > 10000000)\n",
    "    data_condition_validation_price = data[ mask_validation_price ]\n",
    "    data.loc[data_condition_validation_price.index,\"price_aprox_usd\"] = np.nan\n",
    "    \n",
    "    mask_validation_price_usd_m2 = (data.price_usd_per_m2 < 100) | (data.price_usd_per_m2 > 100000)\n",
    "    data_validation_price_usd_m2 = data[ mask_validation_price_usd_m2 ]\n",
    "    data.loc[data_validation_price_usd_m2.index,\"price_usd_per_m2\"] = np.nan\n",
    "    \n",
    "    mask_validation_surface_covered = (data.surface_covered_in_m2 <10) | (data.surface_covered_in_m2 > 10000)\n",
    "    data_validation_surface_covered = data[ mask_validation_surface_covered ]\n",
    "    data.loc[data_validation_surface_covered.index,\"surface_covered_in_m2\"] = np.nan\n",
    "    \n",
    "    mask_validation_surface_total = (data.surface_total_in_m2 <10) | (data.surface_total_in_m2 > 1000000) #100 hectareas\n",
    "    data_validation_surface_total = data[ mask_validation_surface_total ]\n",
    "    data.loc[data_validation_surface_total.index,\"surface_total_in_m2\"] = np.nan\n",
    "    \n",
    "    mask_validation_rooms = (data.rooms < 1) | (data.rooms > 100)\n",
    "    data_condition_validation_rooms = data[ mask_validation_rooms ]\n",
    "    data.loc[data_condition_validation_rooms.index,\"rooms\"] = np.nan\n",
    "   \n",
    "    return data.isnull().sum()"
   ]
  },
  {
   "cell_type": "markdown",
   "id": "5559d673",
   "metadata": {},
   "source": [
    "# Carga de la data de Properatti como un DataFrame de Pandas"
   ]
  },
  {
   "cell_type": "code",
   "execution_count": 3,
   "id": "a20ccdae",
   "metadata": {},
   "outputs": [
    {
     "data": {
      "text/html": [
       "<div>\n",
       "<style scoped>\n",
       "    .dataframe tbody tr th:only-of-type {\n",
       "        vertical-align: middle;\n",
       "    }\n",
       "\n",
       "    .dataframe tbody tr th {\n",
       "        vertical-align: top;\n",
       "    }\n",
       "\n",
       "    .dataframe thead th {\n",
       "        text-align: right;\n",
       "    }\n",
       "</style>\n",
       "<table border=\"1\" class=\"dataframe\">\n",
       "  <thead>\n",
       "    <tr style=\"text-align: right;\">\n",
       "      <th></th>\n",
       "      <th>operation</th>\n",
       "      <th>property_type</th>\n",
       "      <th>place_name</th>\n",
       "      <th>place_with_parent_names</th>\n",
       "      <th>country_name</th>\n",
       "      <th>state_name</th>\n",
       "      <th>geonames_id</th>\n",
       "      <th>lat-lon</th>\n",
       "      <th>lat</th>\n",
       "      <th>lon</th>\n",
       "      <th>...</th>\n",
       "      <th>surface_covered_in_m2</th>\n",
       "      <th>price_usd_per_m2</th>\n",
       "      <th>price_per_m2</th>\n",
       "      <th>floor</th>\n",
       "      <th>rooms</th>\n",
       "      <th>expenses</th>\n",
       "      <th>properati_url</th>\n",
       "      <th>description</th>\n",
       "      <th>title</th>\n",
       "      <th>image_thumbnail</th>\n",
       "    </tr>\n",
       "  </thead>\n",
       "  <tbody>\n",
       "    <tr>\n",
       "      <th>0</th>\n",
       "      <td>sell</td>\n",
       "      <td>PH</td>\n",
       "      <td>Mataderos</td>\n",
       "      <td>|Argentina|Capital Federal|Mataderos|</td>\n",
       "      <td>Argentina</td>\n",
       "      <td>Capital Federal</td>\n",
       "      <td>3430787.0</td>\n",
       "      <td>-34.6618237,-58.5088387</td>\n",
       "      <td>-34.661824</td>\n",
       "      <td>-58.508839</td>\n",
       "      <td>...</td>\n",
       "      <td>40.0</td>\n",
       "      <td>1127.272727</td>\n",
       "      <td>1550.000000</td>\n",
       "      <td>NaN</td>\n",
       "      <td>NaN</td>\n",
       "      <td>NaN</td>\n",
       "      <td>http://www.properati.com.ar/15bo8_venta_ph_mat...</td>\n",
       "      <td>2 AMBIENTES TIPO CASA PLANTA BAJA POR PASILLO,...</td>\n",
       "      <td>2 AMB TIPO CASA SIN EXPENSAS EN PB</td>\n",
       "      <td>https://thumbs4.properati.com/8/BluUYiHJLhgIIK...</td>\n",
       "    </tr>\n",
       "    <tr>\n",
       "      <th>1</th>\n",
       "      <td>sell</td>\n",
       "      <td>apartment</td>\n",
       "      <td>La Plata</td>\n",
       "      <td>|Argentina|Bs.As. G.B.A. Zona Sur|La Plata|</td>\n",
       "      <td>Argentina</td>\n",
       "      <td>Bs.As. G.B.A. Zona Sur</td>\n",
       "      <td>3432039.0</td>\n",
       "      <td>-34.9038831,-57.9643295</td>\n",
       "      <td>-34.903883</td>\n",
       "      <td>-57.964330</td>\n",
       "      <td>...</td>\n",
       "      <td>NaN</td>\n",
       "      <td>NaN</td>\n",
       "      <td>NaN</td>\n",
       "      <td>NaN</td>\n",
       "      <td>NaN</td>\n",
       "      <td>NaN</td>\n",
       "      <td>http://www.properati.com.ar/15bob_venta_depart...</td>\n",
       "      <td>Venta de departamento en décimo piso al frente...</td>\n",
       "      <td>VENTA Depto 2 dorm. a estrenar 7 e/ 36 y 37   ...</td>\n",
       "      <td>https://thumbs4.properati.com/7/ikpVBu2ztHA7jv...</td>\n",
       "    </tr>\n",
       "    <tr>\n",
       "      <th>2</th>\n",
       "      <td>sell</td>\n",
       "      <td>apartment</td>\n",
       "      <td>Mataderos</td>\n",
       "      <td>|Argentina|Capital Federal|Mataderos|</td>\n",
       "      <td>Argentina</td>\n",
       "      <td>Capital Federal</td>\n",
       "      <td>3430787.0</td>\n",
       "      <td>-34.6522615,-58.5229825</td>\n",
       "      <td>-34.652262</td>\n",
       "      <td>-58.522982</td>\n",
       "      <td>...</td>\n",
       "      <td>55.0</td>\n",
       "      <td>1309.090909</td>\n",
       "      <td>1309.090909</td>\n",
       "      <td>NaN</td>\n",
       "      <td>NaN</td>\n",
       "      <td>NaN</td>\n",
       "      <td>http://www.properati.com.ar/15bod_venta_depart...</td>\n",
       "      <td>2 AMBIENTES 3ER PISO LATERAL LIVING COMEDOR AM...</td>\n",
       "      <td>2 AMB 3ER PISO CON ASCENSOR APTO CREDITO</td>\n",
       "      <td>https://thumbs4.properati.com/5/SXKr34F_IwG3W_...</td>\n",
       "    </tr>\n",
       "  </tbody>\n",
       "</table>\n",
       "<p>3 rows × 25 columns</p>\n",
       "</div>"
      ],
      "text/plain": [
       "  operation property_type place_name  \\\n",
       "0      sell            PH  Mataderos   \n",
       "1      sell     apartment   La Plata   \n",
       "2      sell     apartment  Mataderos   \n",
       "\n",
       "                       place_with_parent_names country_name  \\\n",
       "0        |Argentina|Capital Federal|Mataderos|    Argentina   \n",
       "1  |Argentina|Bs.As. G.B.A. Zona Sur|La Plata|    Argentina   \n",
       "2        |Argentina|Capital Federal|Mataderos|    Argentina   \n",
       "\n",
       "               state_name  geonames_id                  lat-lon        lat  \\\n",
       "0         Capital Federal    3430787.0  -34.6618237,-58.5088387 -34.661824   \n",
       "1  Bs.As. G.B.A. Zona Sur    3432039.0  -34.9038831,-57.9643295 -34.903883   \n",
       "2         Capital Federal    3430787.0  -34.6522615,-58.5229825 -34.652262   \n",
       "\n",
       "         lon  ...  surface_covered_in_m2 price_usd_per_m2  price_per_m2  \\\n",
       "0 -58.508839  ...                   40.0      1127.272727   1550.000000   \n",
       "1 -57.964330  ...                    NaN              NaN           NaN   \n",
       "2 -58.522982  ...                   55.0      1309.090909   1309.090909   \n",
       "\n",
       "   floor  rooms  expenses                                      properati_url  \\\n",
       "0    NaN    NaN       NaN  http://www.properati.com.ar/15bo8_venta_ph_mat...   \n",
       "1    NaN    NaN       NaN  http://www.properati.com.ar/15bob_venta_depart...   \n",
       "2    NaN    NaN       NaN  http://www.properati.com.ar/15bod_venta_depart...   \n",
       "\n",
       "                                         description  \\\n",
       "0  2 AMBIENTES TIPO CASA PLANTA BAJA POR PASILLO,...   \n",
       "1  Venta de departamento en décimo piso al frente...   \n",
       "2  2 AMBIENTES 3ER PISO LATERAL LIVING COMEDOR AM...   \n",
       "\n",
       "                                               title  \\\n",
       "0                 2 AMB TIPO CASA SIN EXPENSAS EN PB   \n",
       "1  VENTA Depto 2 dorm. a estrenar 7 e/ 36 y 37   ...   \n",
       "2           2 AMB 3ER PISO CON ASCENSOR APTO CREDITO   \n",
       "\n",
       "                                     image_thumbnail  \n",
       "0  https://thumbs4.properati.com/8/BluUYiHJLhgIIK...  \n",
       "1  https://thumbs4.properati.com/7/ikpVBu2ztHA7jv...  \n",
       "2  https://thumbs4.properati.com/5/SXKr34F_IwG3W_...  \n",
       "\n",
       "[3 rows x 25 columns]"
      ]
     },
     "execution_count": 3,
     "metadata": {},
     "output_type": "execute_result"
    }
   ],
   "source": [
    "data_location = \"../Data/properatti.csv\"\n",
    "\n",
    "data = pd.read_csv(data_location, index_col=0)\n",
    "data.head(3)"
   ]
  },
  {
   "cell_type": "markdown",
   "id": "2665aee8",
   "metadata": {},
   "source": [
    "# Analis preliminar del DataSet"
   ]
  },
  {
   "cell_type": "code",
   "execution_count": 4,
   "id": "e72871b1",
   "metadata": {},
   "outputs": [
    {
     "data": {
      "text/plain": [
       "operation                      object\n",
       "property_type                  object\n",
       "place_name                     object\n",
       "place_with_parent_names        object\n",
       "country_name                   object\n",
       "state_name                     object\n",
       "geonames_id                   float64\n",
       "lat-lon                        object\n",
       "lat                           float64\n",
       "lon                           float64\n",
       "price                         float64\n",
       "currency                       object\n",
       "price_aprox_local_currency    float64\n",
       "price_aprox_usd               float64\n",
       "surface_total_in_m2           float64\n",
       "surface_covered_in_m2         float64\n",
       "price_usd_per_m2              float64\n",
       "price_per_m2                  float64\n",
       "floor                         float64\n",
       "rooms                         float64\n",
       "expenses                      float64\n",
       "properati_url                  object\n",
       "description                    object\n",
       "title                          object\n",
       "image_thumbnail                object\n",
       "dtype: object"
      ]
     },
     "execution_count": 4,
     "metadata": {},
     "output_type": "execute_result"
    }
   ],
   "source": [
    "# Se utoliza dtypes para saber que tipo de datos se almacenan en el dataset\n",
    "data.dtypes"
   ]
  },
  {
   "cell_type": "code",
   "execution_count": 5,
   "id": "71a6b27e",
   "metadata": {},
   "outputs": [
    {
     "name": "stdout",
     "output_type": "stream",
     "text": [
      "operation                          0\n",
      "property_type                      0\n",
      "place_name                        23\n",
      "place_with_parent_names            0\n",
      "country_name                       0\n",
      "state_name                         0\n",
      "geonames_id                    18717\n",
      "lat-lon                        51550\n",
      "lat                            51550\n",
      "lon                            51550\n",
      "price                          20410\n",
      "currency                       20411\n",
      "price_aprox_local_currency     20410\n",
      "price_aprox_usd                20410\n",
      "surface_total_in_m2            39328\n",
      "surface_covered_in_m2          19907\n",
      "price_usd_per_m2               52603\n",
      "price_per_m2                   33562\n",
      "floor                         113321\n",
      "rooms                          73830\n",
      "expenses                      106958\n",
      "properati_url                      0\n",
      "description                        2\n",
      "title                              0\n",
      "image_thumbnail                 3112\n",
      "dtype: int64\n"
     ]
    }
   ],
   "source": [
    "# Se ven cuantos valores nulos tenemos por columna\n",
    "is_null_result = data.isnull().sum()\n",
    "print(is_null_result)"
   ]
  },
  {
   "cell_type": "code",
   "execution_count": 6,
   "id": "1e2ab6a5",
   "metadata": {},
   "outputs": [
    {
     "data": {
      "text/plain": [
       "operation                      0.000000\n",
       "property_type                  0.000000\n",
       "place_name                     0.018974\n",
       "place_with_parent_names        0.000000\n",
       "country_name                   0.000000\n",
       "state_name                     0.000000\n",
       "geonames_id                   15.440521\n",
       "lat-lon                       42.525986\n",
       "lat                           42.525986\n",
       "lon                           42.525986\n",
       "price                         16.837156\n",
       "currency                      16.837981\n",
       "price_aprox_local_currency    16.837156\n",
       "price_aprox_usd               16.837156\n",
       "surface_total_in_m2           32.443491\n",
       "surface_covered_in_m2         16.422208\n",
       "price_usd_per_m2              43.394654\n",
       "price_per_m2                  27.686850\n",
       "floor                         93.483749\n",
       "rooms                         60.905791\n",
       "expenses                      88.234615\n",
       "properati_url                  0.000000\n",
       "description                    0.001650\n",
       "title                          0.000000\n",
       "image_thumbnail                2.567233\n",
       "dtype: float64"
      ]
     },
     "execution_count": 6,
     "metadata": {},
     "output_type": "execute_result"
    }
   ],
   "source": [
    "# Se ve que porcentaje de nulos tiene cada columna\n",
    "percentage_null = 100*is_null_result/data.shape[0]\n",
    "percentage_null"
   ]
  },
  {
   "cell_type": "markdown",
   "id": "f4f040c1",
   "metadata": {},
   "source": [
    "## Renombrado de la columna lat-lon"
   ]
  },
  {
   "cell_type": "code",
   "execution_count": 7,
   "id": "686abf4a",
   "metadata": {},
   "outputs": [],
   "source": [
    "# Se renombra la columna lat-lon para sortear inconvenientes\n",
    "data.rename(columns={'lat-lon': 'lat_lon'}, inplace=True)"
   ]
  },
  {
   "cell_type": "markdown",
   "id": "be53dd13",
   "metadata": {},
   "source": [
    "## Verificacion de instancias nulas"
   ]
  },
  {
   "cell_type": "code",
   "execution_count": 8,
   "id": "61977708",
   "metadata": {},
   "outputs": [
    {
     "name": "stdout",
     "output_type": "stream",
     "text": [
      "(121220, 25)\n",
      "(121220, 25)\n"
     ]
    }
   ],
   "source": [
    "# Se comprueban las instancias enteramente nulas y se las desecha \n",
    "data_clean_empty_row = data.dropna(axis = 0, how= 'all')\n",
    "print(data.shape)\n",
    "print(data_clean_empty_row.shape)\n",
    "#En este caso no hay ninguna fila con todos los valores nulos"
   ]
  },
  {
   "cell_type": "markdown",
   "id": "db920844",
   "metadata": {},
   "source": [
    "### Reemplazo de valores iguales a cero por Nan"
   ]
  },
  {
   "cell_type": "markdown",
   "id": "435eda31",
   "metadata": {},
   "source": [
    "##### *Se adopta este criterio ya que no existen variables que puedan tomar el valor cero, por lo que se los interpreta como nulos*"
   ]
  },
  {
   "cell_type": "code",
   "execution_count": 9,
   "id": "62221739",
   "metadata": {},
   "outputs": [
    {
     "data": {
      "text/plain": [
       "operation                     0\n",
       "property_type                 0\n",
       "place_name                    0\n",
       "place_with_parent_names       0\n",
       "country_name                  0\n",
       "state_name                    0\n",
       "geonames_id                   0\n",
       "lat_lon                       0\n",
       "lat                           0\n",
       "lon                           0\n",
       "price                         0\n",
       "currency                      0\n",
       "price_aprox_local_currency    0\n",
       "price_aprox_usd               0\n",
       "surface_total_in_m2           0\n",
       "surface_covered_in_m2         0\n",
       "price_usd_per_m2              0\n",
       "price_per_m2                  0\n",
       "floor                         0\n",
       "rooms                         0\n",
       "expenses                      0\n",
       "properati_url                 0\n",
       "description                   0\n",
       "title                         0\n",
       "image_thumbnail               0\n",
       "dtype: int64"
      ]
     },
     "execution_count": 9,
     "metadata": {},
     "output_type": "execute_result"
    }
   ],
   "source": [
    "# Se reemplazan los ceros por NaN\n",
    "data[data==0] = np.nan\n",
    "(data==0).sum()"
   ]
  },
  {
   "cell_type": "markdown",
   "id": "306154e2",
   "metadata": {},
   "source": [
    "# Tratamiento de columnas con informacion no util o con informacion redundante"
   ]
  },
  {
   "cell_type": "markdown",
   "id": "e05f2ce1",
   "metadata": {},
   "source": [
    "## Tratamiento de columnas *properati_url* y *image_thumbnail*"
   ]
  },
  {
   "cell_type": "markdown",
   "id": "6225184b",
   "metadata": {},
   "source": [
    "#### Se desechan las columnas *properati_url* y *image_thumbnail* ya que no aportan informacion util"
   ]
  },
  {
   "cell_type": "code",
   "execution_count": 10,
   "id": "d1aa01f1",
   "metadata": {},
   "outputs": [
    {
     "name": "stdout",
     "output_type": "stream",
     "text": [
      "cantidad de columnas actuales= 23\n"
     ]
    }
   ],
   "source": [
    "# Se desechan las columnas properati_url y image_thumbnail de data\n",
    "data = data.drop(['properati_url', 'image_thumbnail'], axis=1)\n",
    "print(\"cantidad de columnas actuales=\",data.shape[1])"
   ]
  },
  {
   "cell_type": "markdown",
   "id": "14ba6774",
   "metadata": {},
   "source": [
    "## Tratamiento de columnas *price* , *price_aprox_local_currency* y *price_aprox_usd* "
   ]
  },
  {
   "cell_type": "markdown",
   "id": "86e37786",
   "metadata": {},
   "source": [
    "#### Como existe redundancia entre las columnas **price_aprox_usd**, **price** y **price_aprox_local_currency** se toma la decision de desechar  **price** y **price_aprox_local_currency**\n",
    "**Se asume igual fiabilidad de los datos en las tres variables**"
   ]
  },
  {
   "cell_type": "code",
   "execution_count": 11,
   "id": "fa720f90",
   "metadata": {},
   "outputs": [
    {
     "name": "stdout",
     "output_type": "stream",
     "text": [
      "Cantidad de nulos en price=  20411\n",
      "cantidad de nulos en price_aprox_local_currency=  20411\n",
      "Cantida de nulos en price_aprox_usd=  20411\n",
      "Cantidad de nulos en la interseccion de las mascaras=  20411\n",
      "True\n"
     ]
    }
   ],
   "source": [
    "# Primero se corrobora que no exista mas informacion en las columnas que se van a desechar que en la que va a quedar\n",
    "\n",
    "# Se hacen tres mascaras para encontrar las instancias que tienen un valor nulo en esa columna\n",
    "mask_price_null = data.price.isnull()\n",
    "mask_price_aprox_local_currency_null = data.price_aprox_local_currency.isnull()\n",
    "mask_price_aprox_usd_null = data.price_aprox_usd.isnull()\n",
    "\n",
    "# Se hace una interseccion de las tres mascaras\n",
    "mask_prices_null = mask_price_null & mask_price_aprox_local_currency_null & mask_price_aprox_usd_null\n",
    "\n",
    "# Si las tres mascaras tienen cada una la misma cantidad de elementos que la interseccion significa que los nulos se encuentran en las mismas instancias\n",
    "print(\"Cantidad de nulos en price= \" , mask_price_null.sum())\n",
    "print(\"cantidad de nulos en price_aprox_local_currency= \" , mask_price_aprox_local_currency_null.sum())\n",
    "print(\"Cantida de nulos en price_aprox_usd= \" , mask_price_aprox_usd_null.sum())\n",
    "print(\"Cantidad de nulos en la interseccion de las mascaras= \" , mask_prices_null.sum())\n",
    "\n",
    "# Devuelve un True si la cantidad de nulos es la misma en todas las mascaras por lo que la interseccion es perfecta\n",
    "print(mask_price_null.sum()==mask_price_aprox_local_currency_null.sum()==mask_price_aprox_usd_null.sum()==mask_prices_null.sum())"
   ]
  },
  {
   "cell_type": "code",
   "execution_count": 12,
   "id": "fae45846",
   "metadata": {},
   "outputs": [
    {
     "name": "stdout",
     "output_type": "stream",
     "text": [
      "cantidad de columnas actuales=  21\n"
     ]
    }
   ],
   "source": [
    "# Como se cumple la condicion, se desechan las columnas price, price_aprox_local_currency y currency \n",
    "data = data.drop(['price', 'price_aprox_local_currency'], axis=1)\n",
    "print(\"cantidad de columnas actuales= \",data.shape[1])"
   ]
  },
  {
   "cell_type": "markdown",
   "id": "e7c141f5",
   "metadata": {},
   "source": [
    "## Tratamiento de columnas *price_usd_per_m2* y *price_per_m2*"
   ]
  },
  {
   "cell_type": "markdown",
   "id": "4dedc7d8",
   "metadata": {},
   "source": [
    "#### Como existe redundancia entre las columnas *price_per_m2* y *price_usd_per_m2* se toma la decision de desechar la columna price_per_m2\n",
    "**Asumimos igual fiabilidad de datos en ambas variables**"
   ]
  },
  {
   "cell_type": "code",
   "execution_count": 13,
   "id": "b00d9fa4",
   "metadata": {},
   "outputs": [
    {
     "name": "stdout",
     "output_type": "stream",
     "text": [
      "Cantidad de nulos en price_per_m2=  33562\n",
      "cantidad de nulos en price_usd_per_m2=  52603\n",
      "Cantidad de nulos en la interseccion de las mascaras=  28295\n",
      "False\n"
     ]
    }
   ],
   "source": [
    "# Primero se corrobora que no exista mas informacion en la columna que se va a desechar que en la que va a quedar\n",
    "\n",
    "# Se hacen dos mascaras para lencontrar las instancias que tienen un valor nulo en esa columna\n",
    "mask_price_per_m2_null = data.price_per_m2.isnull()\n",
    "mask_price_usd_per_m2_null = data.price_usd_per_m2.isnull()\n",
    "\n",
    "# Se hace una interseccion de las dos mascaras\n",
    "mask_prices_per_m2_null = mask_price_per_m2_null & mask_price_usd_per_m2_null \n",
    "\n",
    "# Si las tres mascaras tienen cada una la misma cantidad de elementos que la interseccion significa que los nulos se encuentran siempre en las mismas instancias\n",
    "print(\"Cantidad de nulos en price_per_m2= \" , mask_price_per_m2_null.sum())\n",
    "print(\"cantidad de nulos en price_usd_per_m2= \" , mask_price_usd_per_m2_null.sum())\n",
    "print(\"Cantidad de nulos en la interseccion de las mascaras= \" , mask_prices_per_m2_null.sum())\n",
    "\n",
    "# Devuelve un True si la cantidad de nulos es la misma en todas las mascaras por lo que la interseccion es perfecta\n",
    "print(mask_price_per_m2_null.sum()==mask_price_usd_per_m2_null.sum()==mask_prices_per_m2_null.sum())"
   ]
  },
  {
   "cell_type": "markdown",
   "id": "e443f721",
   "metadata": {},
   "source": [
    "##### *Como hay mas informacion en una columna que en la otra, en las instancias en que price_usd_per_m2 es nulo pero no lo es price_per_m2, se imputa el valor haciendo una conversion de moneda*"
   ]
  },
  {
   "cell_type": "code",
   "execution_count": 14,
   "id": "16a86926",
   "metadata": {},
   "outputs": [],
   "source": [
    "# Se obtienen dos dataframe con el price_usd_per_m2 nnulo y price_per_m2 no nulo diferenciados por la currency\n",
    "mask_prices_per_m2_USD = data.price_usd_per_m2.isnull() & data.price_per_m2.notnull() & (data.currency == \"USD\")\n",
    "data_prices_per_m2_USD = data [mask_prices_per_m2_USD]\n",
    "\n",
    "mask_prices_per_m2_ARS = data.price_usd_per_m2.isnull() & data.price_per_m2.notnull() & (data.currency == \"ARS\")\n",
    "data_prices_per_m2_ARS = data [mask_prices_per_m2_ARS]\n",
    "\n",
    "# Se define una variable que contenga el valor de conversion de pesos a dolar\n",
    "pesos = 1/200\n",
    "\n",
    "# Se imputa en price_usd_per_m2 el valor de price_per_m2 multiplicado por el valor de la conversion de pesos a dolar\n",
    "data.loc[data_prices_per_m2_USD.index,\"price_usd_per_m2\"] = data.loc[data_prices_per_m2_USD.index, \"price_per_m2\"]\n",
    "\n",
    "# Se imputa en price_usd_per_m2 el valor de price_per_m2 multiplicado por el valor de la conversion de pesos a dolar\n",
    "data.loc[data_prices_per_m2_ARS.index,\"price_usd_per_m2\"] = pesos *data.loc[data_prices_per_m2_ARS.index, \"price_per_m2\"]"
   ]
  },
  {
   "cell_type": "code",
   "execution_count": 15,
   "id": "c037f074",
   "metadata": {},
   "outputs": [
    {
     "name": "stdout",
     "output_type": "stream",
     "text": [
      "cantidad de columnas actuales=  20\n"
     ]
    }
   ],
   "source": [
    "# Se desecha la columna price_per_m2\n",
    "data = data.drop(['price_per_m2'], axis=1)\n",
    "print(\"cantidad de columnas actuales= \",data.shape[1])"
   ]
  },
  {
   "cell_type": "markdown",
   "id": "b244796d",
   "metadata": {},
   "source": [
    "## Tratamiento de columnas *lat-lon*, *lat* y *lon*"
   ]
  },
  {
   "cell_type": "markdown",
   "id": "51401503",
   "metadata": {},
   "source": [
    "#### Como existe redundancia entre las columnas *lat-lon*, *lat* y *lon* se toma la decision de desechar la columna *lat-lon*\n",
    "**Asumimos igual fiabilidad de datos en las tres variables**"
   ]
  },
  {
   "cell_type": "code",
   "execution_count": 16,
   "id": "a5fa641f",
   "metadata": {},
   "outputs": [
    {
     "name": "stdout",
     "output_type": "stream",
     "text": [
      "Cantidad de nulos en lat-lon=  51550\n",
      "cantidad de nulos en lat=  51550\n",
      "Cantida de nulos en lon=  51550\n",
      "Cantidad de nulos en la interseccion de las mascaras=  51550\n",
      "True\n"
     ]
    }
   ],
   "source": [
    "# Primero se corrobora que no exista mas informacion en la columna que se va a desechar que en lsa que se van a quedar\n",
    "\n",
    "# Se hacen tres mascaras para encontrar las instancias de latitud y longitud que contengan los nulos de las mismas\n",
    "mask_lat_lon_null = data.lat_lon.isnull()\n",
    "mask_lat_null = data.lat.isnull()\n",
    "mask_lon_null = data.lon.isnull()\n",
    "\n",
    "# Se hace una interseccion de las tres mascaras\n",
    "mask_inter_lat_lon_null = mask_lat_lon_null & mask_lat_null & mask_lon_null\n",
    "\n",
    "# Si las tres mascaras tienen cada una la misma cantidad de elementos que la interseccion significa que los nulos se encuentran siempre en las mismas instancias\n",
    "print(\"Cantidad de nulos en lat-lon= \" , mask_lat_lon_null.sum())\n",
    "print(\"cantidad de nulos en lat= \" , mask_lat_null.sum())\n",
    "print(\"Cantida de nulos en lon= \" , mask_lon_null.sum())\n",
    "print(\"Cantidad de nulos en la interseccion de las mascaras= \" , mask_inter_lat_lon_null.sum())\n",
    "\n",
    "# Devuelve un True si la cantidad de nulos es la misma en todas las mascaras por lo que la interseccion es perfecta\n",
    "print(mask_lat_lon_null.sum()==mask_lat_null.sum()==mask_lon_null.sum()==mask_inter_lat_lon_null.sum())"
   ]
  },
  {
   "cell_type": "code",
   "execution_count": 17,
   "id": "58b306a0",
   "metadata": {},
   "outputs": [
    {
     "name": "stdout",
     "output_type": "stream",
     "text": [
      "cantidad de columnas actuales=  19\n"
     ]
    }
   ],
   "source": [
    "# Como la condicion se cumple, se desecha la columna lat_lon\n",
    "data = data.drop(['lat_lon'], axis=1)\n",
    "print(\"cantidad de columnas actuales= \",data.shape[1])"
   ]
  },
  {
   "cell_type": "markdown",
   "id": "d6fbcc9d",
   "metadata": {},
   "source": [
    "# Analisis de instancias en funcion del state_name"
   ]
  },
  {
   "cell_type": "code",
   "execution_count": 18,
   "id": "7c159509",
   "metadata": {},
   "outputs": [
    {
     "data": {
      "text/plain": [
       "array(['Capital Federal', 'Bs.As. G.B.A. Zona Sur',\n",
       "       'Buenos Aires Costa Atlántica', 'Entre Ríos',\n",
       "       'Bs.As. G.B.A. Zona Norte', 'Santa Fe', 'Córdoba',\n",
       "       'Bs.As. G.B.A. Zona Oeste', 'Misiones', 'Buenos Aires Interior',\n",
       "       'Salta', 'Neuquén', 'Río Negro', 'San Luis', 'Mendoza',\n",
       "       'Corrientes', 'Chubut', 'Tucumán', 'La Pampa', 'Chaco', 'San Juan',\n",
       "       'Santa Cruz', 'Tierra Del Fuego', 'Catamarca',\n",
       "       'Santiago Del Estero', 'Jujuy', 'La Rioja', 'Formosa'],\n",
       "      dtype=object)"
      ]
     },
     "execution_count": 18,
     "metadata": {},
     "output_type": "execute_result"
    }
   ],
   "source": [
    "# Se presentan todos los diferentes state_name que hay en el DataSet\n",
    "data.state_name.unique()"
   ]
  },
  {
   "cell_type": "code",
   "execution_count": 19,
   "id": "faf1eae8",
   "metadata": {},
   "outputs": [
    {
     "data": {
      "text/plain": [
       "Capital Federal                 32316\n",
       "Bs.As. G.B.A. Zona Norte        25560\n",
       "Bs.As. G.B.A. Zona Sur          13952\n",
       "Córdoba                         12069\n",
       "Santa Fe                        10172\n",
       "Buenos Aires Costa Atlántica    10006\n",
       "Bs.As. G.B.A. Zona Oeste         9322\n",
       "Buenos Aires Interior            2291\n",
       "Río Negro                         808\n",
       "Neuquén                           733\n",
       "Mendoza                           681\n",
       "Tucumán                           674\n",
       "Corrientes                        583\n",
       "Misiones                          464\n",
       "Entre Ríos                        369\n",
       "Salta                             278\n",
       "Chubut                            259\n",
       "San Luis                          252\n",
       "La Pampa                          157\n",
       "Formosa                            65\n",
       "Chaco                              57\n",
       "San Juan                           40\n",
       "Tierra Del Fuego                   31\n",
       "Catamarca                          27\n",
       "Jujuy                              26\n",
       "Santa Cruz                         20\n",
       "La Rioja                            4\n",
       "Santiago Del Estero                 4\n",
       "Name: state_name, dtype: int64"
      ]
     },
     "execution_count": 19,
     "metadata": {},
     "output_type": "execute_result"
    }
   ],
   "source": [
    "# Se presentan la cantidad de instancias que acumula cada state_name\n",
    "state_name_distribution = pd.value_counts(data.state_name)\n",
    "state_name_distribution"
   ]
  },
  {
   "cell_type": "code",
   "execution_count": 20,
   "id": "77737734",
   "metadata": {},
   "outputs": [
    {
     "data": {
      "text/plain": [
       "Capital Federal                 26.658967\n",
       "Bs.As. G.B.A. Zona Norte        21.085629\n",
       "Bs.As. G.B.A. Zona Sur          11.509652\n",
       "Córdoba                          9.956278\n",
       "Santa Fe                         8.391355\n",
       "Buenos Aires Costa Atlántica     8.254413\n",
       "Bs.As. G.B.A. Zona Oeste         7.690150\n",
       "Buenos Aires Interior            1.889952\n",
       "Río Negro                        0.666557\n",
       "Neuquén                          0.604686\n",
       "Mendoza                          0.561788\n",
       "Tucumán                          0.556014\n",
       "Corrientes                       0.480944\n",
       "Misiones                         0.382775\n",
       "Entre Ríos                       0.304405\n",
       "Salta                            0.229335\n",
       "Chubut                           0.213661\n",
       "San Luis                         0.207886\n",
       "La Pampa                         0.129517\n",
       "Formosa                          0.053622\n",
       "Chaco                            0.047022\n",
       "San Juan                         0.032998\n",
       "Tierra Del Fuego                 0.025573\n",
       "Catamarca                        0.022274\n",
       "Jujuy                            0.021449\n",
       "Santa Cruz                       0.016499\n",
       "La Rioja                         0.003300\n",
       "Santiago Del Estero              0.003300\n",
       "Name: state_name, dtype: float64"
      ]
     },
     "execution_count": 20,
     "metadata": {},
     "output_type": "execute_result"
    }
   ],
   "source": [
    "# Se presentan los porcentajes de la distribucion de los datos por state_name\n",
    "total_data = data.shape[0]\n",
    "percentage_state_name = 100*state_name_distribution/total_data\n",
    "percentage_state_name"
   ]
  },
  {
   "cell_type": "markdown",
   "id": "1fdbd44a",
   "metadata": {},
   "source": [
    "### Se toma la decision de desechar las instancias correspondientes a los *state_name* que representan < 1% del total de instancias."
   ]
  },
  {
   "cell_type": "markdown",
   "id": "2e4c5532",
   "metadata": {},
   "source": [
    "#### **Tomamos esta decision ya que consideramos que en estos state_names no contamos con las instancias suficientes como para realizar un analisis fiable**"
   ]
  },
  {
   "cell_type": "code",
   "execution_count": 21,
   "id": "6d865179",
   "metadata": {},
   "outputs": [
    {
     "name": "stdout",
     "output_type": "stream",
     "text": [
      "Se desecha el  4.56% del total de los datos\n"
     ]
    },
    {
     "data": {
      "text/plain": [
       "Capital Federal                 26.66\n",
       "Bs.As. G.B.A. Zona Norte        21.09\n",
       "Bs.As. G.B.A. Zona Sur          11.51\n",
       "Córdoba                          9.96\n",
       "Santa Fe                         8.39\n",
       "Buenos Aires Costa Atlántica     8.25\n",
       "Bs.As. G.B.A. Zona Oeste         7.69\n",
       "Buenos Aires Interior            1.89\n",
       "Name: state_name, dtype: float64"
      ]
     },
     "execution_count": 21,
     "metadata": {},
     "output_type": "execute_result"
    }
   ],
   "source": [
    "# Se le aplica una mascara a la serie percentage_state_name con la condicion de que el state_name sea mayor a 1%\n",
    "mask_1_percent = percentage_state_name > 1\n",
    "series_1_percent = percentage_state_name [mask_1_percent]\n",
    "print(f'Se desecha el  {round(100 - series_1_percent.sum(), 2)}% del total de los datos')\n",
    "round(series_1_percent, 2)"
   ]
  },
  {
   "cell_type": "code",
   "execution_count": 22,
   "id": "a8d1d3f7",
   "metadata": {},
   "outputs": [],
   "source": [
    "# Se descartan las instancias en las que su state_name no este dentro del indice de la serie series_1_percent\n",
    "data = data[data.state_name.isin(series_1_percent.index)]"
   ]
  },
  {
   "cell_type": "markdown",
   "id": "6c20d1d4",
   "metadata": {},
   "source": [
    "## Desagregacion de la columna place_with_parent_names"
   ]
  },
  {
   "cell_type": "markdown",
   "id": "a91367a6",
   "metadata": {},
   "source": [
    "**Consideracion:** *Capital federal esta considerado como state_name, por lo que en city_name iran los barrios de la ciudad*"
   ]
  },
  {
   "cell_type": "markdown",
   "id": "c6e4a649",
   "metadata": {},
   "source": [
    "##### **Para realizar esto se asume igual fiabilidad en los datos de las columnas place_name, country_name, state_name y place_with_parent_names**"
   ]
  },
  {
   "cell_type": "code",
   "execution_count": 23,
   "id": "ca6cb0d9",
   "metadata": {},
   "outputs": [
    {
     "data": {
      "text/html": [
       "<div>\n",
       "<style scoped>\n",
       "    .dataframe tbody tr th:only-of-type {\n",
       "        vertical-align: middle;\n",
       "    }\n",
       "\n",
       "    .dataframe tbody tr th {\n",
       "        vertical-align: top;\n",
       "    }\n",
       "\n",
       "    .dataframe thead th {\n",
       "        text-align: right;\n",
       "    }\n",
       "</style>\n",
       "<table border=\"1\" class=\"dataframe\">\n",
       "  <thead>\n",
       "    <tr style=\"text-align: right;\">\n",
       "      <th></th>\n",
       "      <th>0</th>\n",
       "      <th>1</th>\n",
       "      <th>2</th>\n",
       "      <th>3</th>\n",
       "      <th>4</th>\n",
       "      <th>5</th>\n",
       "      <th>6</th>\n",
       "    </tr>\n",
       "  </thead>\n",
       "  <tbody>\n",
       "    <tr>\n",
       "      <th>0</th>\n",
       "      <td></td>\n",
       "      <td>Argentina</td>\n",
       "      <td>Capital Federal</td>\n",
       "      <td>Mataderos</td>\n",
       "      <td></td>\n",
       "      <td>None</td>\n",
       "      <td>None</td>\n",
       "    </tr>\n",
       "    <tr>\n",
       "      <th>1</th>\n",
       "      <td></td>\n",
       "      <td>Argentina</td>\n",
       "      <td>Bs.As. G.B.A. Zona Sur</td>\n",
       "      <td>La Plata</td>\n",
       "      <td></td>\n",
       "      <td>None</td>\n",
       "      <td>None</td>\n",
       "    </tr>\n",
       "    <tr>\n",
       "      <th>2</th>\n",
       "      <td></td>\n",
       "      <td>Argentina</td>\n",
       "      <td>Capital Federal</td>\n",
       "      <td>Mataderos</td>\n",
       "      <td></td>\n",
       "      <td>None</td>\n",
       "      <td>None</td>\n",
       "    </tr>\n",
       "  </tbody>\n",
       "</table>\n",
       "</div>"
      ],
      "text/plain": [
       "  0          1                       2          3 4     5     6\n",
       "0    Argentina         Capital Federal  Mataderos    None  None\n",
       "1    Argentina  Bs.As. G.B.A. Zona Sur   La Plata    None  None\n",
       "2    Argentina         Capital Federal  Mataderos    None  None"
      ]
     },
     "execution_count": 23,
     "metadata": {},
     "output_type": "execute_result"
    }
   ],
   "source": [
    "#  Se realiza un split a la columna place_with_parent_names\n",
    "data_place_with_parent_names = data[\"place_with_parent_names\"].str.split(\"|\", expand=True)\n",
    "data_place_with_parent_names.head(3)"
   ]
  },
  {
   "cell_type": "code",
   "execution_count": 24,
   "id": "b34496cc",
   "metadata": {},
   "outputs": [],
   "source": [
    "# Se descartan las columnas 0, 5 y 6 ya que contienen no contienen informacion\n",
    "data_place_with_parent_names = data_place_with_parent_names.drop([0,5,6], axis=1)"
   ]
  },
  {
   "cell_type": "code",
   "execution_count": 25,
   "id": "120fef46",
   "metadata": {},
   "outputs": [
    {
     "data": {
      "text/plain": [
       "Index(['country_name', 'state_name', 'city_name', 'neighborhood_name'], dtype='object')"
      ]
     },
     "execution_count": 25,
     "metadata": {},
     "output_type": "execute_result"
    }
   ],
   "source": [
    "# Se renombran las columnas\n",
    "data_place_with_parent_names.rename(columns={1: 'country_name' , 2 : 'state_name' , 3 : 'city_name' , 4 : 'neighborhood_name'}, inplace=True)\n",
    "data_place_with_parent_names.columns"
   ]
  },
  {
   "cell_type": "code",
   "execution_count": 26,
   "id": "e8c977fa",
   "metadata": {},
   "outputs": [
    {
     "name": "stdout",
     "output_type": "stream",
     "text": [
      "El total de strings vacios es= \n",
      " country_name            0\n",
      "state_name              0\n",
      "city_name               0\n",
      "neighborhood_name    4422\n",
      "dtype: int64\n",
      "El total de nulos es= \n",
      " country_name             0\n",
      "state_name               0\n",
      "city_name             4422\n",
      "neighborhood_name    71487\n",
      "dtype: int64\n"
     ]
    }
   ],
   "source": [
    "# Se visualiza el total de strings vacios \"\"\n",
    "print( \"El total de strings vacios es= \\n\" , data_place_with_parent_names.isnull().sum())\n",
    "# Se visualiza el total de nulos\n",
    "print( \"El total de nulos es= \\n\" , (data_place_with_parent_names=='').sum())"
   ]
  },
  {
   "cell_type": "code",
   "execution_count": 27,
   "id": "c3c3c8ed",
   "metadata": {},
   "outputs": [],
   "source": [
    "# Se reemplazan las cadenas vacias en city_name a nulos\n",
    "data_city_name_empty = data_place_with_parent_names[data_place_with_parent_names.city_name==\"\"]\n",
    "data_place_with_parent_names.loc[data_city_name_empty.index,\"city_name\"] = None\n",
    "\n",
    "# Se reemplazan las cadenas vacias en neighborhood_name a nulos\n",
    "data_neighborhood_name_empty = data_place_with_parent_names[data_place_with_parent_names.neighborhood_name==\"\"]\n",
    "data_place_with_parent_names.loc[data_neighborhood_name_empty.index,\"neighborhood_name\"] = None"
   ]
  },
  {
   "cell_type": "code",
   "execution_count": 28,
   "id": "94aa1cf3",
   "metadata": {},
   "outputs": [
    {
     "name": "stdout",
     "output_type": "stream",
     "text": [
      "El total de nulos es= \n",
      " country_name             0\n",
      "state_name               0\n",
      "city_name             4422\n",
      "neighborhood_name    75909\n",
      "dtype: int64\n",
      "El total de strings vacios es= \n",
      " country_name         0\n",
      "state_name           0\n",
      "city_name            0\n",
      "neighborhood_name    0\n",
      "dtype: int64\n"
     ]
    }
   ],
   "source": [
    "# Se visualiza el total de strings vacios \"\"\n",
    "print( \"El total de nulos es= \\n\" , data_place_with_parent_names.isnull().sum())\n",
    "\n",
    "# Se visualiza el total de nulos\n",
    "print( \"El total de strings vacios es= \\n\" , (data_place_with_parent_names=='').sum())"
   ]
  },
  {
   "cell_type": "code",
   "execution_count": 29,
   "id": "0e43b019",
   "metadata": {},
   "outputs": [],
   "source": [
    "# Se eliminan en data las columnas que se van a reemplazar\n",
    "data = data.drop([\"place_name\",\"place_with_parent_names\",\"country_name\",\"state_name\"], axis=1)"
   ]
  },
  {
   "cell_type": "code",
   "execution_count": 30,
   "id": "7204a0ef",
   "metadata": {},
   "outputs": [
    {
     "data": {
      "text/plain": [
       "Index(['operation', 'property_type', 'geonames_id', 'lat', 'lon', 'currency',\n",
       "       'price_aprox_usd', 'surface_total_in_m2', 'surface_covered_in_m2',\n",
       "       'price_usd_per_m2', 'floor', 'rooms', 'expenses', 'description',\n",
       "       'title', 'country_name', 'state_name', 'city_name',\n",
       "       'neighborhood_name'],\n",
       "      dtype='object')"
      ]
     },
     "execution_count": 30,
     "metadata": {},
     "output_type": "execute_result"
    }
   ],
   "source": [
    "# Se concatena data con data_place_with_parent_names. Se realiza con concat ya que tienen el mismo orden las instancias \n",
    "data = pd.concat([data, data_place_with_parent_names], axis=1)\n",
    "data.columns"
   ]
  },
  {
   "cell_type": "code",
   "execution_count": 31,
   "id": "f6a48e01",
   "metadata": {},
   "outputs": [],
   "source": [
    "# Se reordenan las columnas para que queden en el orden original\n",
    "data= data[['operation', 'property_type','country_name', 'state_name', 'city_name', \n",
    "            'neighborhood_name', 'geonames_id', 'lat', 'lon','price_aprox_usd', \n",
    "            'surface_total_in_m2', 'surface_covered_in_m2',\n",
    "       'price_usd_per_m2', 'floor', 'rooms', 'expenses', 'description',\n",
    "       'title',]]"
   ]
  },
  {
   "cell_type": "markdown",
   "id": "cac742fe",
   "metadata": {},
   "source": [
    "# Validacion de datos"
   ]
  },
  {
   "cell_type": "code",
   "execution_count": 32,
   "id": "d24b0a8b",
   "metadata": {},
   "outputs": [
    {
     "data": {
      "text/plain": [
       "operation                     0\n",
       "property_type                 0\n",
       "country_name                  0\n",
       "state_name                    0\n",
       "city_name                  4422\n",
       "neighborhood_name         75909\n",
       "geonames_id               18527\n",
       "lat                       48639\n",
       "lon                       48639\n",
       "price_aprox_usd           17871\n",
       "surface_total_in_m2       37437\n",
       "surface_covered_in_m2     17746\n",
       "price_usd_per_m2          25390\n",
       "floor                    108073\n",
       "rooms                     69989\n",
       "expenses                 101758\n",
       "description                   2\n",
       "title                         0\n",
       "dtype: int64"
      ]
     },
     "execution_count": 32,
     "metadata": {},
     "output_type": "execute_result"
    }
   ],
   "source": [
    "data.isnull().sum()"
   ]
  },
  {
   "cell_type": "code",
   "execution_count": 33,
   "id": "ecacc0db",
   "metadata": {},
   "outputs": [
    {
     "data": {
      "text/plain": [
       "operation                     0\n",
       "property_type                 0\n",
       "country_name                  0\n",
       "state_name                    0\n",
       "city_name                  4422\n",
       "neighborhood_name         75909\n",
       "geonames_id               18527\n",
       "lat                       48639\n",
       "lon                       48639\n",
       "price_aprox_usd           17882\n",
       "surface_total_in_m2       37437\n",
       "surface_covered_in_m2     18190\n",
       "price_usd_per_m2          26966\n",
       "floor                    108073\n",
       "rooms                     69989\n",
       "expenses                 101758\n",
       "description                   2\n",
       "title                         0\n",
       "dtype: int64"
      ]
     },
     "execution_count": 33,
     "metadata": {},
     "output_type": "execute_result"
    }
   ],
   "source": [
    "data_validation(data)"
   ]
  },
  {
   "cell_type": "markdown",
   "id": "a1a85c58",
   "metadata": {},
   "source": [
    "# Analisis preliminar de los datos"
   ]
  },
  {
   "cell_type": "code",
   "execution_count": 34,
   "id": "7d354f4b",
   "metadata": {},
   "outputs": [
    {
     "name": "stdout",
     "output_type": "stream",
     "text": [
      "count    9.780600e+04\n",
      "mean     2.380722e+05\n",
      "std      3.171732e+05\n",
      "min      4.666620e+03\n",
      "25%      9.000000e+04\n",
      "50%      1.450000e+05\n",
      "75%      2.673465e+05\n",
      "max      9.900000e+06\n",
      "Name: price_aprox_usd, dtype: float64\n"
     ]
    },
    {
     "name": "stderr",
     "output_type": "stream",
     "text": [
      "C:\\Users\\gtoso\\anaconda3\\envs\\dhdsblend2021\\lib\\site-packages\\seaborn\\distributions.py:2551: FutureWarning: `distplot` is a deprecated function and will be removed in a future version. Please adapt your code to use either `displot` (a figure-level function with similar flexibility) or `histplot` (an axes-level function for histograms).\n",
      "  warnings.warn(msg, FutureWarning)\n",
      "C:\\Users\\gtoso\\anaconda3\\envs\\dhdsblend2021\\lib\\site-packages\\seaborn\\distributions.py:2551: FutureWarning: `distplot` is a deprecated function and will be removed in a future version. Please adapt your code to use either `displot` (a figure-level function with similar flexibility) or `histplot` (an axes-level function for histograms).\n",
      "  warnings.warn(msg, FutureWarning)\n"
     ]
    },
    {
     "data": {
      "image/png": "[encoded data removed]",
      "text/plain": [
       "<Figure size 648x576 with 1 Axes>"
      ]
     },
     "metadata": {
      "needs_background": "light"
     },
     "output_type": "display_data"
    },
    {
     "data": {
      "image/png": "[encoded data removed]",
      "text/plain": [
       "<Figure size 648x576 with 1 Axes>"
      ]
     },
     "metadata": {
      "needs_background": "light"
     },
     "output_type": "display_data"
    }
   ],
   "source": [
    "print(data['price_aprox_usd'].describe())\n",
    "plt.figure(figsize=(9, 8))\n",
    "sns.distplot(data['price_aprox_usd'], color='g', bins=100, hist_kws={'alpha': 0.4});\n",
    "\n",
    "plt.figure(figsize=(9, 8))\n",
    "sns.distplot(data['price_usd_per_m2'], color='g', bins=100, hist_kws={'alpha': 0.4});"
   ]
  },
  {
   "cell_type": "code",
   "execution_count": 35,
   "id": "9b6b065b",
   "metadata": {},
   "outputs": [
    {
     "data": {
      "text/plain": [
       "array([[<AxesSubplot:title={'center':'geonames_id'}>,\n",
       "        <AxesSubplot:title={'center':'lat'}>,\n",
       "        <AxesSubplot:title={'center':'lon'}>],\n",
       "       [<AxesSubplot:title={'center':'price_aprox_usd'}>,\n",
       "        <AxesSubplot:title={'center':'surface_total_in_m2'}>,\n",
       "        <AxesSubplot:title={'center':'surface_covered_in_m2'}>],\n",
       "       [<AxesSubplot:title={'center':'price_usd_per_m2'}>,\n",
       "        <AxesSubplot:title={'center':'floor'}>,\n",
       "        <AxesSubplot:title={'center':'rooms'}>],\n",
       "       [<AxesSubplot:title={'center':'expenses'}>, <AxesSubplot:>,\n",
       "        <AxesSubplot:>]], dtype=object)"
      ]
     },
     "execution_count": 35,
     "metadata": {},
     "output_type": "execute_result"
    },
    {
     "data": {
      "image/png": "[encoded data removed]",
      "text/plain": [
       "<Figure size 1152x1440 with 12 Axes>"
      ]
     },
     "metadata": {
      "needs_background": "light"
     },
     "output_type": "display_data"
    }
   ],
   "source": [
    "data.hist(figsize=(16, 20), bins=50, xlabelsize=8, ylabelsize=8)"
   ]
  },
  {
   "cell_type": "code",
   "execution_count": 36,
   "id": "3911ea40",
   "metadata": {},
   "outputs": [
    {
     "data": {
      "text/plain": [
       "geonames_id             -0.030388\n",
       "lat                      0.080686\n",
       "lon                     -0.027284\n",
       "price_aprox_usd          0.253192\n",
       "surface_total_in_m2     -0.067295\n",
       "surface_covered_in_m2   -0.107614\n",
       "price_usd_per_m2         1.000000\n",
       "floor                   -0.005579\n",
       "rooms                   -0.088520\n",
       "expenses                 0.005271\n",
       "Name: price_usd_per_m2, dtype: float64"
      ]
     },
     "execution_count": 36,
     "metadata": {},
     "output_type": "execute_result"
    }
   ],
   "source": [
    "data_num_corr = data.corr()['price_usd_per_m2']\n",
    "data_num_corr"
   ]
  },
  {
   "cell_type": "code",
   "execution_count": 37,
   "id": "92ecb452",
   "metadata": {},
   "outputs": [
    {
     "data": {
      "image/png": "[encoded data removed]",
      "text/plain": [
       "<Figure size 864x720 with 2 Axes>"
      ]
     },
     "metadata": {
      "needs_background": "light"
     },
     "output_type": "display_data"
    }
   ],
   "source": [
    "corr = data.corr() \n",
    "plt.figure(figsize=(12, 10))\n",
    "\n",
    "sns.heatmap(corr[(corr >= 0.5) | (corr <= -0.4)], \n",
    "            cmap='viridis', vmax=1.0, vmin=-1.0, linewidths=0.1,\n",
    "            annot=True, annot_kws={\"size\": 8}, square=True);"
   ]
  },
  {
   "cell_type": "code",
   "execution_count": null,
   "id": "2f137e83",
   "metadata": {},
   "outputs": [],
   "source": []
  },
  {
   "cell_type": "markdown",
   "id": "fd920bdb",
   "metadata": {},
   "source": [
    "## Correccion de instancias que tienen surface_total_in_m2 < surface_covered_in_m2"
   ]
  },
  {
   "cell_type": "code",
   "execution_count": 38,
   "id": "1658672e",
   "metadata": {},
   "outputs": [],
   "source": [
    "# Se corrobora en que casos el valor surface_total_in_m2 es menor que el valor surface_covered_in_m2\n",
    "mask_surface = data.surface_total_in_m2 < data.surface_covered_in_m2\n",
    "data_surface = data[mask_surface]\n",
    "\n",
    "# Se generan dos listas con los valores de surface_total_in_m2 y surface_covered_in_m2 en las instancias con el index de data_surface\n",
    "list_a = data_surface.surface_total_in_m2\n",
    "list_b = data_surface.surface_covered_in_m2\n",
    "\n",
    "# Se le asigna en funcion del index de data_surface, los valores de surface_total_in_m2 a surface_covered_in_m2 y viceversa\n",
    "data.loc[data_surface.index, \"surface_total_in_m2\"] = list_b\n",
    "data.loc[data_surface.index, \"surface_covered_in_m2\"] = list_a"
   ]
  },
  {
   "cell_type": "markdown",
   "id": "cf95415b",
   "metadata": {},
   "source": [
    "# Imputacion de datos faltantes"
   ]
  },
  {
   "cell_type": "markdown",
   "id": "5f174718",
   "metadata": {},
   "source": [
    "# Logica a seguir para la imputacion de datos faltantes\n",
    "1. Imputacion de datos obtenidos mediante expresiones regulares en las columnas description y title\n",
    "2. Imputacion directa mediante deduccion con valores de otras columnas\n",
    "3. Imputacion mediante media condicionada (esta metodologia no se aplica en columnas de precio)"
   ]
  },
  {
   "cell_type": "markdown",
   "id": "64450c36",
   "metadata": {},
   "source": [
    "## Obtencion de datos con expresiones regulares de las columnas *description* y *title*"
   ]
  },
  {
   "cell_type": "markdown",
   "id": "fe29b163",
   "metadata": {},
   "source": [
    "## Obtencion de rooms con expresiones regulares"
   ]
  },
  {
   "cell_type": "markdown",
   "id": "22cc337d",
   "metadata": {},
   "source": [
    "##### *Se obtienen los rooms nulos en primera instancia con expresiones regulares. No se obtienen primero con una media condicionada de la superficie cubierta y el lugar ya que es mas preciso obtenerlos con un dato directo del dataset*"
   ]
  },
  {
   "cell_type": "markdown",
   "id": "612b5294",
   "metadata": {},
   "source": [
    "### Obtencion de rooms con expresion regular en *description*"
   ]
  },
  {
   "cell_type": "code",
   "execution_count": 39,
   "id": "e60b1076",
   "metadata": {},
   "outputs": [
    {
     "name": "stdout",
     "output_type": "stream",
     "text": [
      "Cantidad de instancias en las que se va a aplicar la expresion regular=  69989\n"
     ]
    }
   ],
   "source": [
    "# Se obtiene a partir de data una serie que contenga las instancias con rooms nulos\n",
    "mask_rooms_null =  data.rooms.isnull()\n",
    "data_rooms_null = data [mask_rooms_null]\n",
    "series_rooms_null_description = data_rooms_null.description\n",
    "\n",
    "print(\"Cantidad de instancias en las que se va a aplicar la expresion regular= \",series_rooms_null_description.shape[0])"
   ]
  },
  {
   "cell_type": "code",
   "execution_count": 40,
   "id": "8ede39c2",
   "metadata": {},
   "outputs": [
    {
     "name": "stderr",
     "output_type": "stream",
     "text": [
      "C:\\Users\\gtoso\\AppData\\Local\\Temp\\ipykernel_11300\\3898365534.py:3: DeprecationWarning: Flags not at the start of the expression '(?P<rooms>\\\\d+)\\\\s+(?i' (truncated)\n",
      "  pattern_rooms_regex = re.compile(pattern)\n"
     ]
    }
   ],
   "source": [
    "# logica del patron: Toma un numero de un digito o mas,seguido o no de un espacio o mas y de las letras amb no distinguiendo entre mayusculas y minusculas\n",
    "pattern = \"(?P<rooms>\\d+)\\s+(?i)amb\"\n",
    "pattern_rooms_regex = re.compile(pattern)"
   ]
  },
  {
   "cell_type": "code",
   "execution_count": 41,
   "id": "392358b8",
   "metadata": {},
   "outputs": [
    {
     "name": "stdout",
     "output_type": "stream",
     "text": [
      "Rooms matcheados= 18608\n",
      "['2' nan '3' '1' '4' '7' '5' '6' '9' '2017' '103' '297' '072' '000' '11'\n",
      " '8' '085' '37' '800' '10' '12' '900' '0002' '400' '20174' '006' '17' '90'\n",
      " '0001' '772' '2004' '14' '24' '50' '20' '23' '65' '20173']\n"
     ]
    }
   ],
   "source": [
    "# Se aplica una funcion lamda para recorrer la serie series_rooms_null_description aplicando la expresion regular\n",
    "description_rooms_result = series_rooms_null_description.apply(lambda x: pattern_rooms_regex.search(str(x)))\n",
    "\n",
    "# Se extraen los datos que usaremos para la imputación\n",
    "description_rooms_match = description_rooms_result.apply(lambda x: np.nan if x is None else x.group('rooms'))\n",
    "\n",
    "print(\"Rooms matcheados=\",(description_rooms_match.notnull()).sum()) # Se ve la cantidad que pudo matchear\n",
    "print(description_rooms_match.unique()) # Se ven todos los rooms unicos que matcheo"
   ]
  },
  {
   "cell_type": "code",
   "execution_count": 42,
   "id": "e9adb665",
   "metadata": {},
   "outputs": [],
   "source": [
    "# Se imputa la serie description_rooms_match con su index en data\n",
    "data.loc[description_rooms_match.index, \"rooms\"] = description_rooms_match "
   ]
  },
  {
   "cell_type": "markdown",
   "id": "3f072369",
   "metadata": {},
   "source": [
    "### Obtencion de rooms con expresion regular en *title*"
   ]
  },
  {
   "cell_type": "code",
   "execution_count": 43,
   "id": "9345ce11",
   "metadata": {},
   "outputs": [
    {
     "name": "stdout",
     "output_type": "stream",
     "text": [
      "Cantidad de instancias en las que se va a aplicar la expresion regular=  51381\n"
     ]
    }
   ],
   "source": [
    "# Se obtiene a partir de data una serie que contenga las instancias con rooms nulos\n",
    "mask_rooms_null = data.rooms.isnull()\n",
    "data_rooms_null = data [mask_rooms_null]\n",
    "series_rooms_null_title = data_rooms_null.title\n",
    "\n",
    "print(\"Cantidad de instancias en las que se va a aplicar la expresion regular= \",series_rooms_null_title.shape[0])"
   ]
  },
  {
   "cell_type": "code",
   "execution_count": 44,
   "id": "78993c8e",
   "metadata": {},
   "outputs": [
    {
     "name": "stdout",
     "output_type": "stream",
     "text": [
      "Rooms matcheados= 2505\n",
      "[nan '2' '6' '3' '4' '5' '9' '1' '7' '8' '15' '4000' '360' '12']\n"
     ]
    }
   ],
   "source": [
    "# Se aplica una funcion lamda para recorrer la serie series_rooms_null_title aplicando la expresion regular\n",
    "title_rooms_result = series_rooms_null_title.apply(lambda x: pattern_rooms_regex.search(str(x)))\n",
    "\n",
    "# Se extraen los datos que usaremos para la imputación\n",
    "title_rooms_match = title_rooms_result.apply(lambda x: np.nan if x is None else x.group('rooms'))\n",
    "\n",
    "print(\"Rooms matcheados=\",(title_rooms_match.notnull()).sum())  # Se ve la cantidad que pudo matchear\n",
    "print(title_rooms_match.unique()) # Se ven todos los rooms unicos que matcheo"
   ]
  },
  {
   "cell_type": "code",
   "execution_count": 45,
   "id": "023c5309",
   "metadata": {},
   "outputs": [],
   "source": [
    "# Se imputa la serie title_rooms_match con su index en data\n",
    "data.loc[title_rooms_match.index, \"rooms\"] = title_rooms_match "
   ]
  },
  {
   "cell_type": "code",
   "execution_count": 46,
   "id": "4f36ad8c",
   "metadata": {},
   "outputs": [
    {
     "data": {
      "text/plain": [
       "dtype('float64')"
      ]
     },
     "execution_count": 46,
     "metadata": {},
     "output_type": "execute_result"
    }
   ],
   "source": [
    "# Se cambia el tipo de dato de object a float\n",
    "data[\"rooms\"] = data[\"rooms\"].astype(\"float\")\n",
    "data.rooms.dtypes"
   ]
  },
  {
   "cell_type": "markdown",
   "id": "cdb760b7",
   "metadata": {},
   "source": [
    "#### Validacion de datos"
   ]
  },
  {
   "cell_type": "code",
   "execution_count": 47,
   "id": "d38929b5",
   "metadata": {},
   "outputs": [
    {
     "data": {
      "text/plain": [
       "operation                     0\n",
       "property_type                 0\n",
       "country_name                  0\n",
       "state_name                    0\n",
       "city_name                  4422\n",
       "neighborhood_name         75909\n",
       "geonames_id               18527\n",
       "lat                       48639\n",
       "lon                       48639\n",
       "price_aprox_usd           17882\n",
       "surface_total_in_m2       37437\n",
       "surface_covered_in_m2     18190\n",
       "price_usd_per_m2          26966\n",
       "floor                    108073\n",
       "rooms                     48903\n",
       "expenses                 101758\n",
       "description                   2\n",
       "title                         0\n",
       "dtype: int64"
      ]
     },
     "execution_count": 47,
     "metadata": {},
     "output_type": "execute_result"
    }
   ],
   "source": [
    "data_validation(data)"
   ]
  },
  {
   "cell_type": "markdown",
   "id": "23c6feb4",
   "metadata": {},
   "source": [
    "## Obtencion de surface_total_in_m2 con expresiones regulares"
   ]
  },
  {
   "cell_type": "markdown",
   "id": "b37c9cd2",
   "metadata": {},
   "source": [
    "##### *Se obtienen la superficie en la que ambas superficies sean nulas y el precio y el precio por metro cuadrado es nulo. De esta manera sabemos que no podemos imputar una superficie con la otra y no podemos inferir la superficie mediante el precio y el precio por metro cuadrado*"
   ]
  },
  {
   "cell_type": "markdown",
   "id": "860a1b52",
   "metadata": {},
   "source": [
    "### Obtencion de surface_total_in_m2 con expresion regular en *description*"
   ]
  },
  {
   "cell_type": "code",
   "execution_count": 48,
   "id": "c322dde6",
   "metadata": {},
   "outputs": [
    {
     "name": "stdout",
     "output_type": "stream",
     "text": [
      "Cantidad de instancias en las que se va a aplicar la expresion regular=  11627\n"
     ]
    }
   ],
   "source": [
    "# Se obtiene a partir de data una serie que contenga las instancias en las que se va a aplicar la expresion regular\n",
    "surfaces_condition = data.surface_total_in_m2.isnull() & data.surface_covered_in_m2.isnull()\n",
    "price_condition = data.price_aprox_usd.isnull()\n",
    "price_per_m2_condition = data.price_usd_per_m2.isnull()\n",
    "mask_surface_total_in_m2_null = surfaces_condition & (price_condition | price_per_m2_condition)\n",
    "data_surface_total_in_m2_null = data [mask_surface_total_in_m2_null]\n",
    "series_surface_total_in_m2_null_description = data_surface_total_in_m2_null.description\n",
    "\n",
    "print(\"Cantidad de instancias en las que se va a aplicar la expresion regular= \",series_surface_total_in_m2_null_description.shape[0])"
   ]
  },
  {
   "cell_type": "code",
   "execution_count": 49,
   "id": "190e072e",
   "metadata": {},
   "outputs": [
    {
     "name": "stderr",
     "output_type": "stream",
     "text": [
      "C:\\Users\\gtoso\\AppData\\Local\\Temp\\ipykernel_11300\\786532533.py:3: DeprecationWarning: Flags not at the start of the expression '(?P<surface_total_in' (truncated)\n",
      "  pattern_surface_total_in_m2_regex = re.compile(pattern)\n"
     ]
    }
   ],
   "source": [
    "# logica del patron: Toma un numero de un digito o mas,seguido o no de un espacio o mas y de las letras [m2,mts,metro] no distinguiendo entre mayusculas y minusculas\n",
    "pattern = \"(?P<surface_total_in_m2>\\d+)\\s+(?i)[m2|mts|metro]\"\n",
    "pattern_surface_total_in_m2_regex = re.compile(pattern)"
   ]
  },
  {
   "cell_type": "code",
   "execution_count": 50,
   "id": "6d111f95",
   "metadata": {},
   "outputs": [
    {
     "name": "stdout",
     "output_type": "stream",
     "text": [
      "surfaces matcheados= 4176\n"
     ]
    }
   ],
   "source": [
    "# Se aplica una funcion lamda para recorrer la serie series_surface_total_in_m2_null_description aplicando la expresion regular\n",
    "description_surface_total_in_m2_result = series_surface_total_in_m2_null_description.apply(lambda x: pattern_surface_total_in_m2_regex.search(str(x)))\n",
    "\n",
    "# Se extraen los datos que usaremos para la imputación\n",
    "description_surface_total_in_m2_match = description_surface_total_in_m2_result.apply(lambda x: np.nan if x is None else x.group('surface_total_in_m2'))\n",
    "\n",
    "print(\"surfaces matcheados=\",(description_surface_total_in_m2_match.notnull()).sum()) #aca veo que cantidad pudo matchear"
   ]
  },
  {
   "cell_type": "code",
   "execution_count": 51,
   "id": "9115a3aa",
   "metadata": {},
   "outputs": [],
   "source": [
    "# Se imputa la serie description_surface_total_in_m2_match con su index en data\n",
    "data.loc[description_surface_total_in_m2_match.index, \"surface_total_in_m2\"] = description_surface_total_in_m2_match "
   ]
  },
  {
   "cell_type": "markdown",
   "id": "83336f2e",
   "metadata": {},
   "source": [
    "### Obtencion de surface_total_in_m2 con expresion regular en *title*"
   ]
  },
  {
   "cell_type": "code",
   "execution_count": 52,
   "id": "8216e6a3",
   "metadata": {},
   "outputs": [
    {
     "name": "stdout",
     "output_type": "stream",
     "text": [
      "Cantidad de instancias en las que se va a aplicar la expresion regular=  11627\n"
     ]
    }
   ],
   "source": [
    "# Se obtiene a partir de data una serie que contenga las instancias en las que se va a aplicar la expresion regular\n",
    "surfaces_condition = data.surface_total_in_m2.isnull() & data.surface_covered_in_m2.isnull()\n",
    "price_condition = data.price_aprox_usd.isnull()\n",
    "price_per_m2_condition = data.price_usd_per_m2.isnull()\n",
    "mask_surface_total_in_m2_null = surfaces_condition & (price_condition | price_per_m2_condition)\n",
    "data_surface_total_in_m2_null = data [mask_surface_total_in_m2_null]\n",
    "series_surface_total_in_m2_null_title = data_surface_total_in_m2_null.title\n",
    "\n",
    "print(\"Cantidad de instancias en las que se va a aplicar la expresion regular= \",series_surface_total_in_m2_null_description.shape[0])"
   ]
  },
  {
   "cell_type": "code",
   "execution_count": 53,
   "id": "bc285881",
   "metadata": {},
   "outputs": [
    {
     "name": "stdout",
     "output_type": "stream",
     "text": [
      "surfaces matcheados=  115\n"
     ]
    }
   ],
   "source": [
    "# Se aplica una funcion lamda para recorrer la serie series_surface_total_in_m2_null_title aplicando la expresion regular\n",
    "title_surface_total_in_m2_result = series_surface_total_in_m2_null_title.apply(lambda x: pattern_surface_total_in_m2_regex.search(str(x)))\n",
    "\n",
    "# Se extraen los datos que usaremos para la imputación\n",
    "title_surface_total_in_m2_match = title_surface_total_in_m2_result.apply(lambda x: np.nan if x is None else x.group('surface_total_in_m2'))\n",
    "\n",
    "print(\"surfaces matcheados= \",(title_surface_total_in_m2_match.notnull()).sum()) #aca veo que cantidad pudo matchear"
   ]
  },
  {
   "cell_type": "code",
   "execution_count": 54,
   "id": "0cb7f43a",
   "metadata": {},
   "outputs": [],
   "source": [
    "# Se imputa la serie title_surface_total_in_m2_match con su index en data\n",
    "data.loc[title_surface_total_in_m2_match.index, \"surface_total_in_m2\"] = title_surface_total_in_m2_match "
   ]
  },
  {
   "cell_type": "code",
   "execution_count": 55,
   "id": "8ccb22bb",
   "metadata": {},
   "outputs": [
    {
     "data": {
      "text/plain": [
       "dtype('float64')"
      ]
     },
     "execution_count": 55,
     "metadata": {},
     "output_type": "execute_result"
    }
   ],
   "source": [
    "# Se cambia el tipo de dato de object a float\n",
    "data[\"surface_total_in_m2\"] = data[\"surface_total_in_m2\"].astype(\"float\")\n",
    "data.surface_total_in_m2.dtypes"
   ]
  },
  {
   "cell_type": "markdown",
   "id": "b09c42f0",
   "metadata": {},
   "source": [
    "#### Validacion de datos"
   ]
  },
  {
   "cell_type": "code",
   "execution_count": 56,
   "id": "32ac7b32",
   "metadata": {},
   "outputs": [
    {
     "data": {
      "text/plain": [
       "operation                     0\n",
       "property_type                 0\n",
       "country_name                  0\n",
       "state_name                    0\n",
       "city_name                  4422\n",
       "neighborhood_name         75909\n",
       "geonames_id               18527\n",
       "lat                       48639\n",
       "lon                       48639\n",
       "price_aprox_usd           17882\n",
       "surface_total_in_m2       34165\n",
       "surface_covered_in_m2     18190\n",
       "price_usd_per_m2          26966\n",
       "floor                    108073\n",
       "rooms                     48903\n",
       "expenses                 101758\n",
       "description                   2\n",
       "title                         0\n",
       "dtype: int64"
      ]
     },
     "execution_count": 56,
     "metadata": {},
     "output_type": "execute_result"
    }
   ],
   "source": [
    "data_validation(data)"
   ]
  },
  {
   "cell_type": "markdown",
   "id": "71e00de1",
   "metadata": {},
   "source": [
    "#### Validacion de datos## Obtencion de price_aprox_usd mediante expresiones regulares"
   ]
  },
  {
   "cell_type": "markdown",
   "id": "469531fe",
   "metadata": {},
   "source": [
    "##### *Se quiere obtener el price_aprox_usd para las instancias en las que no tenemos price_aprox_usd y tampoco tenemos surface_total_in_m2 y surface_total_in_m2 o no tenemos price_usd_per_m2 y price_per_m2 *"
   ]
  },
  {
   "cell_type": "markdown",
   "id": "ee727e32",
   "metadata": {},
   "source": [
    "### Obtencion de price con expresion regular en *description*"
   ]
  },
  {
   "cell_type": "code",
   "execution_count": 57,
   "id": "6175b3dd",
   "metadata": {},
   "outputs": [
    {
     "name": "stdout",
     "output_type": "stream",
     "text": [
      "Cantidad de instancias en las que se va a aplicar la expresion regular=  17877\n"
     ]
    }
   ],
   "source": [
    "# Se obtiene a partir de data una serie que contenga las instancias en las que se va a aplicar la expresion regular\n",
    "surface_condition = data.surface_total_in_m2.isnull() & data.surface_covered_in_m2.isnull()\n",
    "price_condition = data.price_aprox_usd.isnull()\n",
    "price_per_m2_condition = data.price_usd_per_m2.isnull()\n",
    "mask_price_null = price_condition & (price_per_m2_condition | surfaces_condition)\n",
    "data_price_null = data [mask_price_null]\n",
    "series_price_null_description = data_price_null.description\n",
    "\n",
    "print(\"Cantidad de instancias en las que se va a aplicar la expresion regular= \",series_price_null_description.shape[0])"
   ]
  },
  {
   "cell_type": "code",
   "execution_count": 58,
   "id": "2c02ada6",
   "metadata": {},
   "outputs": [],
   "source": [
    "# logica del patron: toma la combinacion de letras usd indistintamente de ser mayusculas o minusculas seguido o no de un espacio o mas y seguido de un numero de un numero de un digito o mas\n",
    "pattern = \"(?i)usd\\s{0,1}(?P<price_aprox_usd>\\d+)\"\n",
    "pattern_price_regex = re.compile(pattern)"
   ]
  },
  {
   "cell_type": "code",
   "execution_count": 59,
   "id": "cf6ca5ed",
   "metadata": {},
   "outputs": [
    {
     "name": "stdout",
     "output_type": "stream",
     "text": [
      "price matcheados=  406\n"
     ]
    }
   ],
   "source": [
    "# Se aplica una funcion lamda para recorrer la serie series_surface_total_in_m2_null_description aplicando la expresion regular\n",
    "description_price_result = series_price_null_description.apply(lambda x: pattern_price_regex.search(str(x)))\n",
    "\n",
    "# Se extraen los datos que usaremos para la imputación\n",
    "description_price_match = description_price_result.apply(lambda x: np.nan if x is None else x.group('price_aprox_usd'))\n",
    "\n",
    "print(\"price matcheados= \",(description_price_match.notnull()).sum()) #aca veo que cantidad pudo matchear"
   ]
  },
  {
   "cell_type": "code",
   "execution_count": 60,
   "id": "659b8359",
   "metadata": {},
   "outputs": [],
   "source": [
    "# Se imputa la serie description_price_match con su index en data\n",
    "data.loc[description_price_match.index, \"price_aprox_usd\"] = description_price_match "
   ]
  },
  {
   "cell_type": "markdown",
   "id": "0da89eb0",
   "metadata": {},
   "source": [
    "### Obtencion de price con expresion regular en *title*"
   ]
  },
  {
   "cell_type": "code",
   "execution_count": 61,
   "id": "99763daf",
   "metadata": {},
   "outputs": [
    {
     "name": "stdout",
     "output_type": "stream",
     "text": [
      "Cantidad de instancias en las que se va a aplicar la expresion regular=  17877\n"
     ]
    }
   ],
   "source": [
    "# Se obtiene a partir de data una serie que contenga las instancias en las que se va a aplicar la expresion regular\n",
    "surface_condition = data.surface_total_in_m2.isnull() & data.surface_covered_in_m2.isnull()\n",
    "price_condition = data.price_aprox_usd.isnull()\n",
    "price_per_m2_condition = data.price_usd_per_m2.isnull()\n",
    "mask_price_null = price_condition & (price_per_m2_condition | surfaces_condition)\n",
    "data_price_null = data [mask_price_null]\n",
    "series_price_null_title = data_price_null.title\n",
    "\n",
    "print(\"Cantidad de instancias en las que se va a aplicar la expresion regular= \",series_price_null_description.shape[0])"
   ]
  },
  {
   "cell_type": "code",
   "execution_count": 62,
   "id": "1e00e7c5",
   "metadata": {},
   "outputs": [
    {
     "name": "stdout",
     "output_type": "stream",
     "text": [
      "price matcheados=  1\n"
     ]
    }
   ],
   "source": [
    "# Se aplica una funcion lamda para recorrer la serie series_price_null_title aplicando la expresion regular\n",
    "title_price_result = series_price_null_title.apply(lambda x: pattern_price_regex.search(str(x)))\n",
    "\n",
    "# Se extraen los datos que usaremos para la imputación\n",
    "title_price_match = title_price_result.apply(lambda x: np.nan if x is None else x.group('price_aprox_usd'))\n",
    "\n",
    "print(\"price matcheados= \",(title_price_match.notnull()).sum()) #aca veo que cantidad pudo matchear"
   ]
  },
  {
   "cell_type": "code",
   "execution_count": 63,
   "id": "f7429b21",
   "metadata": {},
   "outputs": [],
   "source": [
    "# Se imputa la serie title_price_match con su index en data\n",
    "data.loc[title_price_match.index, \"price_aprox_usd\"] = title_price_match "
   ]
  },
  {
   "cell_type": "code",
   "execution_count": 64,
   "id": "92d37110",
   "metadata": {},
   "outputs": [
    {
     "data": {
      "text/plain": [
       "dtype('float64')"
      ]
     },
     "execution_count": 64,
     "metadata": {},
     "output_type": "execute_result"
    }
   ],
   "source": [
    "# Se cambia el tipo de dato de object a float\n",
    "data[\"price_aprox_usd\"] = data[\"price_aprox_usd\"].astype(\"float\")\n",
    "data.price_aprox_usd.dtypes"
   ]
  },
  {
   "cell_type": "markdown",
   "id": "f914b17c",
   "metadata": {},
   "source": [
    "#### Validacion de datos"
   ]
  },
  {
   "cell_type": "code",
   "execution_count": 65,
   "id": "1651679c",
   "metadata": {},
   "outputs": [
    {
     "data": {
      "text/plain": [
       "operation                     0\n",
       "property_type                 0\n",
       "country_name                  0\n",
       "state_name                    0\n",
       "city_name                  4422\n",
       "neighborhood_name         75909\n",
       "geonames_id               18527\n",
       "lat                       48639\n",
       "lon                       48639\n",
       "price_aprox_usd           17862\n",
       "surface_total_in_m2       34165\n",
       "surface_covered_in_m2     18190\n",
       "price_usd_per_m2          26966\n",
       "floor                    108073\n",
       "rooms                     48903\n",
       "expenses                 101758\n",
       "description                   2\n",
       "title                         0\n",
       "dtype: int64"
      ]
     },
     "execution_count": 65,
     "metadata": {},
     "output_type": "execute_result"
    }
   ],
   "source": [
    "data_validation(data)"
   ]
  },
  {
   "cell_type": "markdown",
   "id": "93b67809",
   "metadata": {},
   "source": [
    "## Obtencion de floor mediante expresiones regulares"
   ]
  },
  {
   "cell_type": "markdown",
   "id": "16f28199",
   "metadata": {},
   "source": [
    "##### *Se quiere obtener el floor para las instancias en las que es nulo*"
   ]
  },
  {
   "cell_type": "markdown",
   "id": "478756ae",
   "metadata": {},
   "source": [
    "### Obtencion de floor con expresion regular en *description*"
   ]
  },
  {
   "cell_type": "code",
   "execution_count": 66,
   "id": "113f6962",
   "metadata": {},
   "outputs": [
    {
     "name": "stdout",
     "output_type": "stream",
     "text": [
      "Cantidad de instancias en las que se va a aplicar la expresion regular=  108073\n"
     ]
    }
   ],
   "source": [
    "# Se obtiene a partir de data una serie que contenga las instancias en las que se va a aplicar la expresion regular\n",
    "data_floor_null = data [data.floor.isnull()]\n",
    "series_floor_null_description = data_floor_null.description\n",
    "\n",
    "print(\"Cantidad de instancias en las que se va a aplicar la expresion regular= \",series_floor_null_description.shape[0])"
   ]
  },
  {
   "cell_type": "code",
   "execution_count": 67,
   "id": "52eeb6fa",
   "metadata": {},
   "outputs": [
    {
     "name": "stderr",
     "output_type": "stream",
     "text": [
      "C:\\Users\\gtoso\\AppData\\Local\\Temp\\ipykernel_11300\\2505478835.py:3: DeprecationWarning: Flags not at the start of the expression '(?P<floor>\\\\d+)\\\\s+(?i' (truncated)\n",
      "  pattern_floor_regex = re.compile(pattern)\n"
     ]
    }
   ],
   "source": [
    "# logica del patron: Toma un valor numerico o mas, seguido de un espacio o mas o ninguno, seguido de la palabra piso indistintamente que sean mayusculas o minusculas\n",
    "pattern = \"(?P<floor>\\d+)\\s+(?i)piso\" \n",
    "pattern_floor_regex = re.compile(pattern)"
   ]
  },
  {
   "cell_type": "code",
   "execution_count": 68,
   "id": "871dff5f",
   "metadata": {},
   "outputs": [
    {
     "name": "stdout",
     "output_type": "stream",
     "text": [
      "floor matcheados=  6842\n"
     ]
    }
   ],
   "source": [
    "# Se aplica una funcion lamda para recorrer la serie series_floor_null_description aplicando la expresion regular\n",
    "description_floor_result = series_floor_null_description.apply(lambda x: pattern_floor_regex.search(str(x)))\n",
    "\n",
    "# Se extraen los datos que usaremos para la imputación\n",
    "description_floor_match = description_floor_result.apply(lambda x: np.nan if x is None else x.group('floor'))\n",
    "\n",
    "print(\"floor matcheados= \",(description_floor_match.notnull()).sum()) #aca veo que cantidad pudo matchear"
   ]
  },
  {
   "cell_type": "code",
   "execution_count": 69,
   "id": "af8a0dbe",
   "metadata": {},
   "outputs": [],
   "source": [
    "# Se imputa la serie description_floor_match con su index en data\n",
    "data.loc[description_floor_match.index, \"floor\"] = description_floor_match "
   ]
  },
  {
   "cell_type": "markdown",
   "id": "ea130e59",
   "metadata": {},
   "source": [
    "### Obtencion de floor con expresion regular en *title*"
   ]
  },
  {
   "cell_type": "code",
   "execution_count": 70,
   "id": "6914799d",
   "metadata": {},
   "outputs": [
    {
     "name": "stdout",
     "output_type": "stream",
     "text": [
      "Cantidad de instancias en las que se va a aplicar la expresion regular=  101231\n"
     ]
    }
   ],
   "source": [
    "# Se obtiene a partir de data una serie que contenga las instancias en las que se va a aplicar la expresion regular\n",
    "data_floor_null = data [data.floor.isnull()]\n",
    "series_floor_null_title = data_floor_null.title\n",
    "\n",
    "print(\"Cantidad de instancias en las que se va a aplicar la expresion regular= \",series_floor_null_title.shape[0])"
   ]
  },
  {
   "cell_type": "code",
   "execution_count": 71,
   "id": "8c0b4f50",
   "metadata": {},
   "outputs": [
    {
     "name": "stdout",
     "output_type": "stream",
     "text": [
      "floor matcheados=  113\n"
     ]
    }
   ],
   "source": [
    "# Se aplica una funcion lamda para recorrer la serie series_floor_null_title aplicando la expresion regular\n",
    "title_floor_result = series_floor_null_title.apply(lambda x: pattern_floor_regex.search(str(x)))\n",
    "\n",
    "# Se extraen los datos que usaremos para la imputación\n",
    "title_floor_match = title_floor_result.apply(lambda x: np.nan if x is None else x.group('floor'))\n",
    "\n",
    "print(\"floor matcheados= \",(title_floor_match.notnull()).sum()) #aca veo que cantidad pudo matchear"
   ]
  },
  {
   "cell_type": "code",
   "execution_count": 72,
   "id": "ef5a550f",
   "metadata": {},
   "outputs": [],
   "source": [
    "# Se imputa la serie title_floor_match con su index en data\n",
    "data.loc[title_floor_match.index, \"floor\"] = title_floor_match "
   ]
  },
  {
   "cell_type": "code",
   "execution_count": 73,
   "id": "cb060cbe",
   "metadata": {},
   "outputs": [
    {
     "data": {
      "text/plain": [
       "dtype('float64')"
      ]
     },
     "execution_count": 73,
     "metadata": {},
     "output_type": "execute_result"
    }
   ],
   "source": [
    "# Se cambia el tipo de dato de object a float\n",
    "data[\"floor\"] = data[\"floor\"].astype(\"float\")\n",
    "data.floor.dtypes"
   ]
  },
  {
   "cell_type": "markdown",
   "id": "2ee3389f",
   "metadata": {},
   "source": [
    "## Obtencion de expenses mediante expresiones regulares"
   ]
  },
  {
   "cell_type": "markdown",
   "id": "57b916b0",
   "metadata": {},
   "source": [
    "##### *Se quiere obtener el expensas para las instancias en las que es nulo"
   ]
  },
  {
   "cell_type": "markdown",
   "id": "9f5d3dac",
   "metadata": {},
   "source": [
    "### Obtencion de expenses con expresion regular en *description*"
   ]
  },
  {
   "cell_type": "code",
   "execution_count": 74,
   "id": "ab7f1b07",
   "metadata": {},
   "outputs": [
    {
     "name": "stdout",
     "output_type": "stream",
     "text": [
      "Cantidad de instancias en las que se va a aplicar la expresion regular=  101758\n"
     ]
    }
   ],
   "source": [
    "# Se obtiene a partir de data una serie que contenga las instancias en las que se va a aplicar la expresion regular\n",
    "data_expenses_null = data [data.expenses.isnull()]\n",
    "series_expenses_null_description = data_expenses_null.description\n",
    "\n",
    "print(\"Cantidad de instancias en las que se va a aplicar la expresion regular= \",series_expenses_null_description.shape[0])"
   ]
  },
  {
   "cell_type": "code",
   "execution_count": 75,
   "id": "ba21ee9a",
   "metadata": {},
   "outputs": [
    {
     "name": "stderr",
     "output_type": "stream",
     "text": [
      "C:\\Users\\gtoso\\AppData\\Local\\Temp\\ipykernel_11300\\2993959463.py:3: DeprecationWarning: Flags not at the start of the expression '(?P<expenses>\\\\d+)\\\\s+' (truncated)\n",
      "  pattern_expenses_regex = re.compile(pattern)\n"
     ]
    }
   ],
   "source": [
    "# logica del patron: Toma un valor numerico o mas, seguido de un espacio o mas o ninguno, seguido de la palabra exp indistintamente que sean mayusculas o minusculas\n",
    "pattern = \"(?P<expenses>\\d+)\\s+(?i)exp\"\n",
    "pattern_expenses_regex = re.compile(pattern)"
   ]
  },
  {
   "cell_type": "code",
   "execution_count": 76,
   "id": "48e7cd08",
   "metadata": {},
   "outputs": [
    {
     "name": "stdout",
     "output_type": "stream",
     "text": [
      "expenses matcheados=  153\n"
     ]
    }
   ],
   "source": [
    "# Se aplica una funcion lamda para recorrer la serie series_expenses_null_description aplicando la expresion regular\n",
    "description_expenses_result = series_expenses_null_description.apply(lambda x: pattern_expenses_regex.search(str(x)))\n",
    "\n",
    "# Se extraen los datos que usaremos para la imputación\n",
    "description_expenses_match = description_expenses_result.apply(lambda x: np.nan if x is None else x.group('expenses'))\n",
    "\n",
    "print(\"expenses matcheados= \",(description_expenses_match.notnull()).sum()) #aca veo que cantidad pudo matchear"
   ]
  },
  {
   "cell_type": "code",
   "execution_count": 77,
   "id": "f2c9e99a",
   "metadata": {},
   "outputs": [],
   "source": [
    "# Se imputa la serie description_expenses_match con su index en data\n",
    "data.loc[description_expenses_match.index, \"floor\"] = description_expenses_match "
   ]
  },
  {
   "cell_type": "markdown",
   "id": "e83c5791",
   "metadata": {},
   "source": [
    "### Obtencion de expenses con expresion regular en *title*"
   ]
  },
  {
   "cell_type": "code",
   "execution_count": 78,
   "id": "d0081032",
   "metadata": {},
   "outputs": [
    {
     "name": "stdout",
     "output_type": "stream",
     "text": [
      "Cantidad de instancias en las que se va a aplicar la expresion regular=  101758\n"
     ]
    }
   ],
   "source": [
    "# Se obtiene a partir de data una serie que contenga las instancias en las que se va a aplicar la expresion regular\n",
    "data_expenses_null = data [data.expenses.isnull()]\n",
    "series_expenses_null_title = data_expenses_null.title\n",
    "\n",
    "print(\"Cantidad de instancias en las que se va a aplicar la expresion regular= \",series_expenses_null_title.shape[0])"
   ]
  },
  {
   "cell_type": "code",
   "execution_count": 79,
   "id": "0d44bd10",
   "metadata": {},
   "outputs": [
    {
     "name": "stdout",
     "output_type": "stream",
     "text": [
      "expenses matcheados=  6\n"
     ]
    }
   ],
   "source": [
    "# Se aplica una funcion lamda para recorrer la serie series_expenses_null_title aplicando la expresion regular\n",
    "title_expenses_result = series_expenses_null_title.apply(lambda x: pattern_expenses_regex.search(str(x)))\n",
    "\n",
    "# Se extraen los datos que usaremos para la imputación\n",
    "title_expenses_match = title_expenses_result.apply(lambda x: np.nan if x is None else x.group(\"expenses\"))\n",
    "\n",
    "print(\"expenses matcheados= \",(title_expenses_match.notnull()).sum()) #aca veo que cantidad pudo matchear"
   ]
  },
  {
   "cell_type": "code",
   "execution_count": 80,
   "id": "3d5b48b8",
   "metadata": {},
   "outputs": [],
   "source": [
    "# Se imputa la serie title_expenses_match con su index en data\n",
    "data.loc[title_expenses_match.index, \"expenses\"] = title_expenses_match "
   ]
  },
  {
   "cell_type": "code",
   "execution_count": 81,
   "id": "97c1b463",
   "metadata": {},
   "outputs": [
    {
     "data": {
      "text/plain": [
       "dtype('float64')"
      ]
     },
     "execution_count": 81,
     "metadata": {},
     "output_type": "execute_result"
    }
   ],
   "source": [
    "# Se cambia el tipo de dato de object a float\n",
    "data[\"expenses\"] = data[\"expenses\"].astype(\"float\")\n",
    "data.expenses.dtypes"
   ]
  },
  {
   "cell_type": "markdown",
   "id": "7988eff6",
   "metadata": {},
   "source": [
    "# Obtencion de datos mediante imputacion directa"
   ]
  },
  {
   "cell_type": "markdown",
   "id": "a5829190",
   "metadata": {},
   "source": [
    "## Obtencion de surface_total_in_m2 y surface_covered_in_m2 mediante imputacion directa"
   ]
  },
  {
   "cell_type": "markdown",
   "id": "0d2878b9",
   "metadata": {},
   "source": [
    "### Imputacion de surface_total_in_m2 y surface_covered_in_m2"
   ]
  },
  {
   "cell_type": "markdown",
   "id": "783bcf13",
   "metadata": {},
   "source": [
    "#### *Cuando una sea nula y la otra no se imputara en la nula el valor de la no nula*"
   ]
  },
  {
   "cell_type": "code",
   "execution_count": 82,
   "id": "1f0beb6b",
   "metadata": {},
   "outputs": [
    {
     "name": "stdout",
     "output_type": "stream",
     "text": [
      "Cantidad de instancias de surface_covered_in_m2 a imputar en surface_total_in_m2=  25709\n",
      "Cantidad de instancias de surface_total_in_m2 a imputar en surface_covered_in_m2=  9734\n"
     ]
    }
   ],
   "source": [
    "# Se obtiene un dataframe con los valores no nulos de surface_covered_in_m2 y nulos de surface_total_in_m2\n",
    "mask_surface_total_in_m2_null = data.surface_total_in_m2.isnull() & data.surface_covered_in_m2.notnull()\n",
    "data_surface_total_in_m2_null = data[mask_surface_total_in_m2_null]\n",
    "\n",
    "# Se obtiene un dataframe con los valores nulos de surface_covered_in_m2 y no nulos de surface_total_in_m2\n",
    "mask_surface_covered_in_m2_null =  data.surface_total_in_m2.notnull() & data.surface_covered_in_m2.isnull()\n",
    "data_surface_covered_in_m2_null = data[mask_surface_covered_in_m2_null]\n",
    "\n",
    "\n",
    "print (\"Cantidad de instancias de surface_covered_in_m2 a imputar en surface_total_in_m2= \", data_surface_total_in_m2_null.shape[0])\n",
    "print (\"Cantidad de instancias de surface_total_in_m2 a imputar en surface_covered_in_m2= \", data_surface_covered_in_m2_null.shape[0])"
   ]
  },
  {
   "cell_type": "code",
   "execution_count": 83,
   "id": "51e2933a",
   "metadata": {},
   "outputs": [],
   "source": [
    "# Imputacion de valores nulos de surface_total_in_m2 con valores no nulos de surface_covered_in_m2\n",
    "data.loc[data_surface_total_in_m2_null.index, \"surface_total_in_m2\"] = data_surface_total_in_m2_null.loc[data_surface_total_in_m2_null.index, \"surface_covered_in_m2\"]\n",
    "\n",
    "# Imputacion de valores nulos de surface_covered_in_m2 con valores no nulos de surface_total_in_m2\n",
    "data.loc[data_surface_covered_in_m2_null.index, \"surface_covered_in_m2\"] = data_surface_covered_in_m2_null.loc[data_surface_covered_in_m2_null.index, \"surface_total_in_m2\"]"
   ]
  },
  {
   "cell_type": "markdown",
   "id": "5a1bf8cb",
   "metadata": {},
   "source": [
    "### Obtención de las surface_total_in_m2 y surface_covered_in_m2 nulas en funcion del price_aprox_usd y de price_usd_per_m2"
   ]
  },
  {
   "cell_type": "markdown",
   "id": "8674115e",
   "metadata": {},
   "source": [
    "##### El valor de surface_total_in_m2 y surface_covered_in_m2 se obtiene mediante la formula **surface_total_in_m2 = price_aprox_usd / price_usd_per_m2**"
   ]
  },
  {
   "cell_type": "code",
   "execution_count": 84,
   "id": "7cccbae5",
   "metadata": {},
   "outputs": [
    {
     "name": "stdout",
     "output_type": "stream",
     "text": [
      "Cantidad de instancias de surface_total_in_m2 a imputar=  101\n"
     ]
    }
   ],
   "source": [
    "# Se obtiene un dataframe con los valores nulos de ambas variables de surfaces, no nulos de price_aprox_usd y no nulos de price_usd_per_m2\n",
    "condition_surfaces_null = data.surface_total_in_m2.isnull() & data.surface_covered_in_m2.isnull()\n",
    "condition_price_notnull = data.price_aprox_usd.notnull()\n",
    "condition_price_per_m2_notnull = data.price_usd_per_m2.notnull()\n",
    "mask_surfaces_imput = condition_surfaces_null & condition_price_notnull & condition_price_per_m2_notnull\n",
    "data_surfaces_imput = data[mask_surfaces_imput]\n",
    "\n",
    "print (\"Cantidad de instancias de surface_total_in_m2 a imputar= \", data_surfaces_imput.shape[0])"
   ]
  },
  {
   "cell_type": "code",
   "execution_count": 85,
   "id": "e3129ba9",
   "metadata": {},
   "outputs": [],
   "source": [
    "# Se imputa el valor de surface_covered_in_m2 y surface_total_in_m2 como surface_total_in_m2 = price_aprox_usd / price_usd_per_m2\n",
    "data.loc[data_surfaces_imput.index,[\"surface_covered_in_m2\" , \"surface_total_in_m2\"]] = data.loc[data_surfaces_imput.index, \"price_aprox_usd\"] / data.loc[data_surfaces_imput.index, \"price_usd_per_m2\"]"
   ]
  },
  {
   "cell_type": "markdown",
   "id": "1196f9d2",
   "metadata": {},
   "source": [
    "### Obtencion de price_aprox_usd mediante imputacion directa en funcion de prices_usd_per_m2 y surface_total_in_m2"
   ]
  },
  {
   "cell_type": "markdown",
   "id": "9348142f",
   "metadata": {},
   "source": [
    "##### El valor de price_aprox_usd se obtiene mediante la formula **price_aprox_usd = price_usd_per_m2 * surface_total_in_m2**"
   ]
  },
  {
   "cell_type": "code",
   "execution_count": 86,
   "id": "fb05fc1f",
   "metadata": {},
   "outputs": [
    {
     "name": "stdout",
     "output_type": "stream",
     "text": [
      "Cantidad de instancias de price_aprox_usd a imputar=  101\n"
     ]
    }
   ],
   "source": [
    "# Se obtiene un dataframe con los valores no nulos de cualquiera de las dos surfaces, nulos de price_aprox_usd y no nulos de price_usd_per_m2\n",
    "condition_surfaces_notnull = data.surface_total_in_m2.notnull() | data.surface_covered_in_m2.notnull()\n",
    "condition_price_null =  data.price_aprox_usd.isnull()\n",
    "condition_price_per_m2_notnull = data.price_usd_per_m2.notnull()\n",
    "mask_prices_imput = condition_surfaces_null & condition_price_notnull & condition_price_per_m2_notnull\n",
    "data_prices_imput = data[mask_prices_imput]\n",
    "\n",
    "print (\"Cantidad de instancias de price_aprox_usd a imputar= \", data_prices_imput.shape[0])"
   ]
  },
  {
   "cell_type": "code",
   "execution_count": 87,
   "id": "4320e48a",
   "metadata": {},
   "outputs": [],
   "source": [
    "# Se imputa el valor de price_aprox_usd como price_aprox_usd = price_usd_per_m2 / surface_total_in_m2\n",
    "data.loc[data_prices_imput.index,\"price_aprox_usd\"] = data.loc[data_prices_imput.index, \"price_usd_per_m2\"] * data.loc[data_prices_imput.index, \"surface_total_in_m2\"]"
   ]
  },
  {
   "cell_type": "markdown",
   "id": "b7fbd7a2",
   "metadata": {},
   "source": [
    "### Obtencion de price_usd_per_m2 mediante imputacion directa en funcion de surface y price"
   ]
  },
  {
   "cell_type": "markdown",
   "id": "011e4209",
   "metadata": {},
   "source": [
    "##### El valor de price_usd_per_m2 se obtiene mediante la formula **price_usd_per_m2 = price_aprox_in_usd / surface_total_in_m2**"
   ]
  },
  {
   "cell_type": "code",
   "execution_count": 88,
   "id": "d4037f84",
   "metadata": {},
   "outputs": [
    {
     "name": "stdout",
     "output_type": "stream",
     "text": [
      "Cantidad de instancias de price_usd_per_m2 a imputar=  3332\n"
     ]
    }
   ],
   "source": [
    "# Se obtiene un dataframe con los valores no nulos de cualquiera de las dos surfaces, no nulos de price_aprox_usd y nulos de price_usd_per_m2\n",
    "condition_surfaces_notnull = data.surface_total_in_m2.notnull() | data.surface_covered_in_m2.notnull()\n",
    "condition_price_notnull = data.price_aprox_usd.notnull()\n",
    "condition_price_per_m2_null = data.price_usd_per_m2.isnull()\n",
    "mask_prices_per_m2_imput = condition_surfaces_notnull & condition_price_notnull & condition_price_per_m2_null\n",
    "data_prices_per_m2_imput = data[mask_prices_per_m2_imput]\n",
    "\n",
    "print (\"Cantidad de instancias de price_usd_per_m2 a imputar= \", data_prices_per_m2_imput.shape[0])"
   ]
  },
  {
   "cell_type": "code",
   "execution_count": 89,
   "id": "a580c9ae",
   "metadata": {},
   "outputs": [],
   "source": [
    "# Se imputa el valor de price_usd_per_m2 como price_usd_per_m2 = price_aprox_usd / surface_total_in_m2\n",
    "data.loc[data_prices_per_m2_imput.index,\"price_usd_per_m2\"] = data.loc[data_prices_per_m2_imput.index, \"price_aprox_usd\"] / data.loc[data_prices_per_m2_imput.index, \"surface_total_in_m2\"]"
   ]
  },
  {
   "cell_type": "markdown",
   "id": "f0732797",
   "metadata": {},
   "source": [
    "#### Validacion de datos"
   ]
  },
  {
   "cell_type": "code",
   "execution_count": 90,
   "id": "edbd141f",
   "metadata": {},
   "outputs": [
    {
     "name": "stdout",
     "output_type": "stream",
     "text": [
      "operation                     0\n",
      "property_type                 0\n",
      "country_name                  0\n",
      "state_name                    0\n",
      "city_name                  4422\n",
      "neighborhood_name         75909\n",
      "geonames_id               18527\n",
      "lat                       48639\n",
      "lon                       48639\n",
      "price_aprox_usd           17862\n",
      "surface_total_in_m2        8448\n",
      "surface_covered_in_m2      8613\n",
      "price_usd_per_m2          24371\n",
      "floor                    113622\n",
      "rooms                     48903\n",
      "expenses                 101752\n",
      "description                   2\n",
      "title                         0\n",
      "dtype: int64 (115688, 18)\n"
     ]
    }
   ],
   "source": [
    "print(data_validation(data), data.shape)"
   ]
  },
  {
   "cell_type": "markdown",
   "id": "c769b95f",
   "metadata": {},
   "source": [
    "# Creacion de variable rooms/metro2"
   ]
  },
  {
   "cell_type": "code",
   "execution_count": 91,
   "id": "7a79205b",
   "metadata": {},
   "outputs": [],
   "source": [
    "rooms_per_m2 = data.rooms / data.surface_covered_in_m2\n",
    "data.insert(14,\"rooms_per_m2\",rooms_per_m2)"
   ]
  },
  {
   "cell_type": "code",
   "execution_count": 92,
   "id": "2646620a",
   "metadata": {},
   "outputs": [
    {
     "name": "stdout",
     "output_type": "stream",
     "text": [
      "operation                     0\n",
      "property_type                 0\n",
      "country_name                  0\n",
      "state_name                    0\n",
      "city_name                  4422\n",
      "neighborhood_name         75909\n",
      "geonames_id               18527\n",
      "lat                       48639\n",
      "lon                       48639\n",
      "price_aprox_usd           17862\n",
      "surface_total_in_m2        8448\n",
      "surface_covered_in_m2      8613\n",
      "price_usd_per_m2          24371\n",
      "floor                    113622\n",
      "rooms_per_m2              53049\n",
      "rooms                     48903\n",
      "expenses                 101752\n",
      "description                   2\n",
      "title                         0\n",
      "dtype: int64 (115688, 19)\n"
     ]
    }
   ],
   "source": [
    "print(data_validation(data), data.shape)"
   ]
  },
  {
   "cell_type": "markdown",
   "id": "0fac2b0e",
   "metadata": {},
   "source": [
    "# Creacion de variable crimes_per_state_name"
   ]
  },
  {
   "cell_type": "code",
   "execution_count": 93,
   "id": "467f601e",
   "metadata": {},
   "outputs": [
    {
     "data": {
      "text/html": [
       "<div>\n",
       "<style scoped>\n",
       "    .dataframe tbody tr th:only-of-type {\n",
       "        vertical-align: middle;\n",
       "    }\n",
       "\n",
       "    .dataframe tbody tr th {\n",
       "        vertical-align: top;\n",
       "    }\n",
       "\n",
       "    .dataframe thead th {\n",
       "        text-align: right;\n",
       "    }\n",
       "</style>\n",
       "<table border=\"1\" class=\"dataframe\">\n",
       "  <thead>\n",
       "    <tr style=\"text-align: right;\">\n",
       "      <th></th>\n",
       "      <th>indice_tiempo</th>\n",
       "      <th>robos_hechos_buenos_aires</th>\n",
       "      <th>robos_hechos_catamarca</th>\n",
       "      <th>robos_hechos_chaco</th>\n",
       "      <th>robos_hechos_chubut</th>\n",
       "      <th>robos_hechos_ciudad_autonoma_de_buenos_aires</th>\n",
       "      <th>robos_hechos_cordoba</th>\n",
       "      <th>robos_hechos_corrientes</th>\n",
       "      <th>robos_hechos_entre_rios</th>\n",
       "      <th>robos_hechos_formosa</th>\n",
       "      <th>...</th>\n",
       "      <th>robos_tasa_neuquen</th>\n",
       "      <th>robos_tasa_rio_negro</th>\n",
       "      <th>robos_tasa_salta</th>\n",
       "      <th>robos_tasa_san_juan</th>\n",
       "      <th>robos_tasa_san_luis</th>\n",
       "      <th>robos_tasa_santa_cruz</th>\n",
       "      <th>robos_tasa_santa_fe</th>\n",
       "      <th>robos_tasa_santiago_del_estero</th>\n",
       "      <th>robos_tasa_tierra_del_fuego</th>\n",
       "      <th>robos_tasa_tucuman</th>\n",
       "    </tr>\n",
       "  </thead>\n",
       "  <tbody>\n",
       "    <tr>\n",
       "      <th>0</th>\n",
       "      <td>2001</td>\n",
       "      <td>118351</td>\n",
       "      <td>2527</td>\n",
       "      <td>11163</td>\n",
       "      <td>2971</td>\n",
       "      <td>72868</td>\n",
       "      <td>43168</td>\n",
       "      <td>9168</td>\n",
       "      <td>6347</td>\n",
       "      <td>2207</td>\n",
       "      <td>...</td>\n",
       "      <td>1820.5</td>\n",
       "      <td>1122.8</td>\n",
       "      <td>454.8</td>\n",
       "      <td>1147.5</td>\n",
       "      <td>662.1</td>\n",
       "      <td>892.6</td>\n",
       "      <td>972.3</td>\n",
       "      <td>378.4</td>\n",
       "      <td>634.2</td>\n",
       "      <td>510.0</td>\n",
       "    </tr>\n",
       "    <tr>\n",
       "      <th>1</th>\n",
       "      <td>2002</td>\n",
       "      <td>153518</td>\n",
       "      <td>3667</td>\n",
       "      <td>12822</td>\n",
       "      <td>3772</td>\n",
       "      <td>75283</td>\n",
       "      <td>57319</td>\n",
       "      <td>10987</td>\n",
       "      <td>8357</td>\n",
       "      <td>2650</td>\n",
       "      <td>...</td>\n",
       "      <td>2048.0</td>\n",
       "      <td>1325.2</td>\n",
       "      <td>572.3</td>\n",
       "      <td>1487.2</td>\n",
       "      <td>808.1</td>\n",
       "      <td>1174.4</td>\n",
       "      <td>1128.0</td>\n",
       "      <td>498.6</td>\n",
       "      <td>813.7</td>\n",
       "      <td>676.9</td>\n",
       "    </tr>\n",
       "    <tr>\n",
       "      <th>2</th>\n",
       "      <td>2003</td>\n",
       "      <td>131978</td>\n",
       "      <td>3437</td>\n",
       "      <td>9231</td>\n",
       "      <td>5060</td>\n",
       "      <td>76618</td>\n",
       "      <td>54035</td>\n",
       "      <td>9836</td>\n",
       "      <td>8251</td>\n",
       "      <td>2278</td>\n",
       "      <td>...</td>\n",
       "      <td>2042.4</td>\n",
       "      <td>1094.6</td>\n",
       "      <td>520.0</td>\n",
       "      <td>1303.3</td>\n",
       "      <td>955.4</td>\n",
       "      <td>1236.1</td>\n",
       "      <td>1088.1</td>\n",
       "      <td>439.5</td>\n",
       "      <td>768.7</td>\n",
       "      <td>595.6</td>\n",
       "    </tr>\n",
       "  </tbody>\n",
       "</table>\n",
       "<p>3 rows × 49 columns</p>\n",
       "</div>"
      ],
      "text/plain": [
       "   indice_tiempo  robos_hechos_buenos_aires  robos_hechos_catamarca  \\\n",
       "0           2001                     118351                    2527   \n",
       "1           2002                     153518                    3667   \n",
       "2           2003                     131978                    3437   \n",
       "\n",
       "   robos_hechos_chaco  robos_hechos_chubut  \\\n",
       "0               11163                 2971   \n",
       "1               12822                 3772   \n",
       "2                9231                 5060   \n",
       "\n",
       "   robos_hechos_ciudad_autonoma_de_buenos_aires  robos_hechos_cordoba  \\\n",
       "0                                         72868                 43168   \n",
       "1                                         75283                 57319   \n",
       "2                                         76618                 54035   \n",
       "\n",
       "   robos_hechos_corrientes  robos_hechos_entre_rios  robos_hechos_formosa  \\\n",
       "0                     9168                     6347                  2207   \n",
       "1                    10987                     8357                  2650   \n",
       "2                     9836                     8251                  2278   \n",
       "\n",
       "   ...  robos_tasa_neuquen  robos_tasa_rio_negro  robos_tasa_salta  \\\n",
       "0  ...              1820.5                1122.8             454.8   \n",
       "1  ...              2048.0                1325.2             572.3   \n",
       "2  ...              2042.4                1094.6             520.0   \n",
       "\n",
       "   robos_tasa_san_juan  robos_tasa_san_luis  robos_tasa_santa_cruz  \\\n",
       "0               1147.5                662.1                  892.6   \n",
       "1               1487.2                808.1                 1174.4   \n",
       "2               1303.3                955.4                 1236.1   \n",
       "\n",
       "   robos_tasa_santa_fe  robos_tasa_santiago_del_estero  \\\n",
       "0                972.3                           378.4   \n",
       "1               1128.0                           498.6   \n",
       "2               1088.1                           439.5   \n",
       "\n",
       "   robos_tasa_tierra_del_fuego  robos_tasa_tucuman  \n",
       "0                        634.2               510.0  \n",
       "1                        813.7               676.9  \n",
       "2                        768.7               595.6  \n",
       "\n",
       "[3 rows x 49 columns]"
      ]
     },
     "execution_count": 93,
     "metadata": {},
     "output_type": "execute_result"
    }
   ],
   "source": [
    "data_location = \"../Data/snic_robos_provincias_series.csv\"\n",
    "\n",
    "df_crimes = pd.read_csv(data_location)\n",
    "df_crimes.head(3)"
   ]
  },
  {
   "cell_type": "code",
   "execution_count": 94,
   "id": "4a83301f",
   "metadata": {},
   "outputs": [
    {
     "data": {
      "text/html": [
       "<div>\n",
       "<style scoped>\n",
       "    .dataframe tbody tr th:only-of-type {\n",
       "        vertical-align: middle;\n",
       "    }\n",
       "\n",
       "    .dataframe tbody tr th {\n",
       "        vertical-align: top;\n",
       "    }\n",
       "\n",
       "    .dataframe thead th {\n",
       "        text-align: right;\n",
       "    }\n",
       "</style>\n",
       "<table border=\"1\" class=\"dataframe\">\n",
       "  <thead>\n",
       "    <tr style=\"text-align: right;\">\n",
       "      <th></th>\n",
       "      <th>robos_hechos_buenos_aires</th>\n",
       "      <th>robos_hechos_catamarca</th>\n",
       "      <th>robos_hechos_chaco</th>\n",
       "      <th>robos_hechos_chubut</th>\n",
       "      <th>robos_hechos_ciudad_autonoma_de_buenos_aires</th>\n",
       "      <th>robos_hechos_cordoba</th>\n",
       "      <th>robos_hechos_corrientes</th>\n",
       "      <th>robos_hechos_entre_rios</th>\n",
       "      <th>robos_hechos_formosa</th>\n",
       "      <th>robos_hechos_jujuy</th>\n",
       "      <th>...</th>\n",
       "      <th>robos_tasa_neuquen</th>\n",
       "      <th>robos_tasa_rio_negro</th>\n",
       "      <th>robos_tasa_salta</th>\n",
       "      <th>robos_tasa_san_juan</th>\n",
       "      <th>robos_tasa_san_luis</th>\n",
       "      <th>robos_tasa_santa_cruz</th>\n",
       "      <th>robos_tasa_santa_fe</th>\n",
       "      <th>robos_tasa_santiago_del_estero</th>\n",
       "      <th>robos_tasa_tierra_del_fuego</th>\n",
       "      <th>robos_tasa_tucuman</th>\n",
       "    </tr>\n",
       "    <tr>\n",
       "      <th>indice_tiempo</th>\n",
       "      <th></th>\n",
       "      <th></th>\n",
       "      <th></th>\n",
       "      <th></th>\n",
       "      <th></th>\n",
       "      <th></th>\n",
       "      <th></th>\n",
       "      <th></th>\n",
       "      <th></th>\n",
       "      <th></th>\n",
       "      <th></th>\n",
       "      <th></th>\n",
       "      <th></th>\n",
       "      <th></th>\n",
       "      <th></th>\n",
       "      <th></th>\n",
       "      <th></th>\n",
       "      <th></th>\n",
       "      <th></th>\n",
       "      <th></th>\n",
       "      <th></th>\n",
       "    </tr>\n",
       "  </thead>\n",
       "  <tbody>\n",
       "    <tr>\n",
       "      <th>2001</th>\n",
       "      <td>118351</td>\n",
       "      <td>2527</td>\n",
       "      <td>11163</td>\n",
       "      <td>2971</td>\n",
       "      <td>72868</td>\n",
       "      <td>43168</td>\n",
       "      <td>9168</td>\n",
       "      <td>6347</td>\n",
       "      <td>2207</td>\n",
       "      <td>3999</td>\n",
       "      <td>...</td>\n",
       "      <td>1820.5</td>\n",
       "      <td>1122.8</td>\n",
       "      <td>454.8</td>\n",
       "      <td>1147.5</td>\n",
       "      <td>662.1</td>\n",
       "      <td>892.6</td>\n",
       "      <td>972.3</td>\n",
       "      <td>378.4</td>\n",
       "      <td>634.2</td>\n",
       "      <td>510.0</td>\n",
       "    </tr>\n",
       "    <tr>\n",
       "      <th>2002</th>\n",
       "      <td>153518</td>\n",
       "      <td>3667</td>\n",
       "      <td>12822</td>\n",
       "      <td>3772</td>\n",
       "      <td>75283</td>\n",
       "      <td>57319</td>\n",
       "      <td>10987</td>\n",
       "      <td>8357</td>\n",
       "      <td>2650</td>\n",
       "      <td>4947</td>\n",
       "      <td>...</td>\n",
       "      <td>2048.0</td>\n",
       "      <td>1325.2</td>\n",
       "      <td>572.3</td>\n",
       "      <td>1487.2</td>\n",
       "      <td>808.1</td>\n",
       "      <td>1174.4</td>\n",
       "      <td>1128.0</td>\n",
       "      <td>498.6</td>\n",
       "      <td>813.7</td>\n",
       "      <td>676.9</td>\n",
       "    </tr>\n",
       "    <tr>\n",
       "      <th>2003</th>\n",
       "      <td>131978</td>\n",
       "      <td>3437</td>\n",
       "      <td>9231</td>\n",
       "      <td>5060</td>\n",
       "      <td>76618</td>\n",
       "      <td>54035</td>\n",
       "      <td>9836</td>\n",
       "      <td>8251</td>\n",
       "      <td>2278</td>\n",
       "      <td>5278</td>\n",
       "      <td>...</td>\n",
       "      <td>2042.4</td>\n",
       "      <td>1094.6</td>\n",
       "      <td>520.0</td>\n",
       "      <td>1303.3</td>\n",
       "      <td>955.4</td>\n",
       "      <td>1236.1</td>\n",
       "      <td>1088.1</td>\n",
       "      <td>439.5</td>\n",
       "      <td>768.7</td>\n",
       "      <td>595.6</td>\n",
       "    </tr>\n",
       "    <tr>\n",
       "      <th>2004</th>\n",
       "      <td>97113</td>\n",
       "      <td>3182</td>\n",
       "      <td>8565</td>\n",
       "      <td>4773</td>\n",
       "      <td>74054</td>\n",
       "      <td>48172</td>\n",
       "      <td>8131</td>\n",
       "      <td>7643</td>\n",
       "      <td>1948</td>\n",
       "      <td>7216</td>\n",
       "      <td>...</td>\n",
       "      <td>1988.8</td>\n",
       "      <td>944.8</td>\n",
       "      <td>704.8</td>\n",
       "      <td>1239.1</td>\n",
       "      <td>831.0</td>\n",
       "      <td>1057.4</td>\n",
       "      <td>1063.6</td>\n",
       "      <td>574.8</td>\n",
       "      <td>706.6</td>\n",
       "      <td>587.9</td>\n",
       "    </tr>\n",
       "    <tr>\n",
       "      <th>2005</th>\n",
       "      <td>64252</td>\n",
       "      <td>2968</td>\n",
       "      <td>8052</td>\n",
       "      <td>4475</td>\n",
       "      <td>74773</td>\n",
       "      <td>44656</td>\n",
       "      <td>7118</td>\n",
       "      <td>6954</td>\n",
       "      <td>1593</td>\n",
       "      <td>6359</td>\n",
       "      <td>...</td>\n",
       "      <td>1920.6</td>\n",
       "      <td>862.5</td>\n",
       "      <td>1063.2</td>\n",
       "      <td>1066.3</td>\n",
       "      <td>660.3</td>\n",
       "      <td>957.5</td>\n",
       "      <td>1235.8</td>\n",
       "      <td>455.1</td>\n",
       "      <td>651.0</td>\n",
       "      <td>647.7</td>\n",
       "    </tr>\n",
       "    <tr>\n",
       "      <th>2006</th>\n",
       "      <td>58863</td>\n",
       "      <td>3029</td>\n",
       "      <td>7816</td>\n",
       "      <td>4529</td>\n",
       "      <td>81587</td>\n",
       "      <td>44250</td>\n",
       "      <td>7489</td>\n",
       "      <td>6557</td>\n",
       "      <td>1748</td>\n",
       "      <td>6291</td>\n",
       "      <td>...</td>\n",
       "      <td>1720.5</td>\n",
       "      <td>838.8</td>\n",
       "      <td>1063.4</td>\n",
       "      <td>1064.8</td>\n",
       "      <td>587.4</td>\n",
       "      <td>893.0</td>\n",
       "      <td>1160.6</td>\n",
       "      <td>514.8</td>\n",
       "      <td>676.5</td>\n",
       "      <td>613.7</td>\n",
       "    </tr>\n",
       "    <tr>\n",
       "      <th>2007</th>\n",
       "      <td>59560</td>\n",
       "      <td>3455</td>\n",
       "      <td>7113</td>\n",
       "      <td>5073</td>\n",
       "      <td>86851</td>\n",
       "      <td>46786</td>\n",
       "      <td>7091</td>\n",
       "      <td>6734</td>\n",
       "      <td>1724</td>\n",
       "      <td>6616</td>\n",
       "      <td>...</td>\n",
       "      <td>1672.5</td>\n",
       "      <td>1034.6</td>\n",
       "      <td>1202.6</td>\n",
       "      <td>1077.3</td>\n",
       "      <td>689.7</td>\n",
       "      <td>858.7</td>\n",
       "      <td>1205.6</td>\n",
       "      <td>419.5</td>\n",
       "      <td>753.2</td>\n",
       "      <td>604.7</td>\n",
       "    </tr>\n",
       "    <tr>\n",
       "      <th>2008</th>\n",
       "      <td>77413</td>\n",
       "      <td>3519</td>\n",
       "      <td>7654</td>\n",
       "      <td>4632</td>\n",
       "      <td>91763</td>\n",
       "      <td>52008</td>\n",
       "      <td>7684</td>\n",
       "      <td>6948</td>\n",
       "      <td>1804</td>\n",
       "      <td>7743</td>\n",
       "      <td>...</td>\n",
       "      <td>1935.6</td>\n",
       "      <td>1189.0</td>\n",
       "      <td>1102.6</td>\n",
       "      <td>1061.5</td>\n",
       "      <td>797.1</td>\n",
       "      <td>926.6</td>\n",
       "      <td>1253.0</td>\n",
       "      <td>383.3</td>\n",
       "      <td>785.3</td>\n",
       "      <td>510.2</td>\n",
       "    </tr>\n",
       "    <tr>\n",
       "      <th>2009</th>\n",
       "      <td>63145</td>\n",
       "      <td>3219</td>\n",
       "      <td>7032</td>\n",
       "      <td>5458</td>\n",
       "      <td>85782</td>\n",
       "      <td>50293</td>\n",
       "      <td>8669</td>\n",
       "      <td>6989</td>\n",
       "      <td>2005</td>\n",
       "      <td>7358</td>\n",
       "      <td>...</td>\n",
       "      <td>2019.4</td>\n",
       "      <td>1294.2</td>\n",
       "      <td>1096.4</td>\n",
       "      <td>968.3</td>\n",
       "      <td>749.1</td>\n",
       "      <td>1008.8</td>\n",
       "      <td>1434.3</td>\n",
       "      <td>379.2</td>\n",
       "      <td>899.5</td>\n",
       "      <td>509.1</td>\n",
       "    </tr>\n",
       "    <tr>\n",
       "      <th>2010</th>\n",
       "      <td>71299</td>\n",
       "      <td>4710</td>\n",
       "      <td>6799</td>\n",
       "      <td>5346</td>\n",
       "      <td>84310</td>\n",
       "      <td>49877</td>\n",
       "      <td>8130</td>\n",
       "      <td>6367</td>\n",
       "      <td>1979</td>\n",
       "      <td>7317</td>\n",
       "      <td>...</td>\n",
       "      <td>2178.1</td>\n",
       "      <td>1166.8</td>\n",
       "      <td>1094.8</td>\n",
       "      <td>965.4</td>\n",
       "      <td>784.8</td>\n",
       "      <td>1026.7</td>\n",
       "      <td>1449.1</td>\n",
       "      <td>330.3</td>\n",
       "      <td>661.5</td>\n",
       "      <td>477.0</td>\n",
       "    </tr>\n",
       "    <tr>\n",
       "      <th>2011</th>\n",
       "      <td>88501</td>\n",
       "      <td>3879</td>\n",
       "      <td>5890</td>\n",
       "      <td>4841</td>\n",
       "      <td>83761</td>\n",
       "      <td>51613</td>\n",
       "      <td>6888</td>\n",
       "      <td>5712</td>\n",
       "      <td>1818</td>\n",
       "      <td>6993</td>\n",
       "      <td>...</td>\n",
       "      <td>1954.5</td>\n",
       "      <td>1253.2</td>\n",
       "      <td>1172.7</td>\n",
       "      <td>1200.9</td>\n",
       "      <td>811.2</td>\n",
       "      <td>993.6</td>\n",
       "      <td>1471.2</td>\n",
       "      <td>268.9</td>\n",
       "      <td>447.9</td>\n",
       "      <td>548.2</td>\n",
       "    </tr>\n",
       "    <tr>\n",
       "      <th>2012</th>\n",
       "      <td>94059</td>\n",
       "      <td>5254</td>\n",
       "      <td>7258</td>\n",
       "      <td>4587</td>\n",
       "      <td>83508</td>\n",
       "      <td>56264</td>\n",
       "      <td>7195</td>\n",
       "      <td>6879</td>\n",
       "      <td>2194</td>\n",
       "      <td>7476</td>\n",
       "      <td>...</td>\n",
       "      <td>2011.3</td>\n",
       "      <td>1570.1</td>\n",
       "      <td>1024.9</td>\n",
       "      <td>1187.5</td>\n",
       "      <td>909.3</td>\n",
       "      <td>1065.8</td>\n",
       "      <td>1552.7</td>\n",
       "      <td>207.7</td>\n",
       "      <td>454.1</td>\n",
       "      <td>627.4</td>\n",
       "    </tr>\n",
       "    <tr>\n",
       "      <th>2013</th>\n",
       "      <td>95379</td>\n",
       "      <td>6196</td>\n",
       "      <td>8226</td>\n",
       "      <td>5197</td>\n",
       "      <td>76559</td>\n",
       "      <td>60915</td>\n",
       "      <td>6432</td>\n",
       "      <td>6198</td>\n",
       "      <td>2537</td>\n",
       "      <td>6380</td>\n",
       "      <td>...</td>\n",
       "      <td>2101.3</td>\n",
       "      <td>1550.2</td>\n",
       "      <td>1179.2</td>\n",
       "      <td>1033.6</td>\n",
       "      <td>822.2</td>\n",
       "      <td>983.7</td>\n",
       "      <td>1569.0</td>\n",
       "      <td>138.5</td>\n",
       "      <td>623.0</td>\n",
       "      <td>625.9</td>\n",
       "    </tr>\n",
       "    <tr>\n",
       "      <th>2014</th>\n",
       "      <td>99744</td>\n",
       "      <td>7169</td>\n",
       "      <td>8503</td>\n",
       "      <td>6296</td>\n",
       "      <td>80914</td>\n",
       "      <td>65566</td>\n",
       "      <td>7850</td>\n",
       "      <td>6853</td>\n",
       "      <td>3617</td>\n",
       "      <td>9828</td>\n",
       "      <td>...</td>\n",
       "      <td>2493.1</td>\n",
       "      <td>1574.0</td>\n",
       "      <td>1524.8</td>\n",
       "      <td>1057.2</td>\n",
       "      <td>729.1</td>\n",
       "      <td>864.0</td>\n",
       "      <td>1482.1</td>\n",
       "      <td>313.0</td>\n",
       "      <td>664.2</td>\n",
       "      <td>1040.1</td>\n",
       "    </tr>\n",
       "    <tr>\n",
       "      <th>2015</th>\n",
       "      <td>91761</td>\n",
       "      <td>6265</td>\n",
       "      <td>6337</td>\n",
       "      <td>5564</td>\n",
       "      <td>67577</td>\n",
       "      <td>65823</td>\n",
       "      <td>5958</td>\n",
       "      <td>7025</td>\n",
       "      <td>3298</td>\n",
       "      <td>8642</td>\n",
       "      <td>...</td>\n",
       "      <td>2376.8</td>\n",
       "      <td>1278.2</td>\n",
       "      <td>1522.5</td>\n",
       "      <td>956.5</td>\n",
       "      <td>461.4</td>\n",
       "      <td>801.0</td>\n",
       "      <td>1527.4</td>\n",
       "      <td>514.2</td>\n",
       "      <td>595.5</td>\n",
       "      <td>1031.8</td>\n",
       "    </tr>\n",
       "    <tr>\n",
       "      <th>2016</th>\n",
       "      <td>91522</td>\n",
       "      <td>7466</td>\n",
       "      <td>6586</td>\n",
       "      <td>5390</td>\n",
       "      <td>76250</td>\n",
       "      <td>67288</td>\n",
       "      <td>6247</td>\n",
       "      <td>6543</td>\n",
       "      <td>4120</td>\n",
       "      <td>8271</td>\n",
       "      <td>...</td>\n",
       "      <td>2402.1</td>\n",
       "      <td>1303.6</td>\n",
       "      <td>1421.9</td>\n",
       "      <td>1047.4</td>\n",
       "      <td>506.4</td>\n",
       "      <td>883.2</td>\n",
       "      <td>1476.2</td>\n",
       "      <td>639.5</td>\n",
       "      <td>581.4</td>\n",
       "      <td>1094.5</td>\n",
       "    </tr>\n",
       "    <tr>\n",
       "      <th>2017</th>\n",
       "      <td>92512</td>\n",
       "      <td>6161</td>\n",
       "      <td>6213</td>\n",
       "      <td>4958</td>\n",
       "      <td>73330</td>\n",
       "      <td>63033</td>\n",
       "      <td>5674</td>\n",
       "      <td>7608</td>\n",
       "      <td>3610</td>\n",
       "      <td>7731</td>\n",
       "      <td>...</td>\n",
       "      <td>2257.7</td>\n",
       "      <td>1162.2</td>\n",
       "      <td>1342.8</td>\n",
       "      <td>1032.9</td>\n",
       "      <td>425.4</td>\n",
       "      <td>807.6</td>\n",
       "      <td>1275.6</td>\n",
       "      <td>877.9</td>\n",
       "      <td>649.6</td>\n",
       "      <td>1206.2</td>\n",
       "    </tr>\n",
       "    <tr>\n",
       "      <th>2018</th>\n",
       "      <td>106024</td>\n",
       "      <td>5893</td>\n",
       "      <td>6760</td>\n",
       "      <td>4839</td>\n",
       "      <td>75732</td>\n",
       "      <td>62273</td>\n",
       "      <td>5880</td>\n",
       "      <td>9600</td>\n",
       "      <td>3390</td>\n",
       "      <td>6879</td>\n",
       "      <td>...</td>\n",
       "      <td>2102.6</td>\n",
       "      <td>1144.7</td>\n",
       "      <td>1342.0</td>\n",
       "      <td>1069.1</td>\n",
       "      <td>353.7</td>\n",
       "      <td>798.9</td>\n",
       "      <td>1392.6</td>\n",
       "      <td>1012.1</td>\n",
       "      <td>579.0</td>\n",
       "      <td>1148.8</td>\n",
       "    </tr>\n",
       "    <tr>\n",
       "      <th>2019</th>\n",
       "      <td>155536</td>\n",
       "      <td>5149</td>\n",
       "      <td>6492</td>\n",
       "      <td>4918</td>\n",
       "      <td>67415</td>\n",
       "      <td>66130</td>\n",
       "      <td>5689</td>\n",
       "      <td>10091</td>\n",
       "      <td>3278</td>\n",
       "      <td>7189</td>\n",
       "      <td>...</td>\n",
       "      <td>2329.8</td>\n",
       "      <td>1146.7</td>\n",
       "      <td>1398.8</td>\n",
       "      <td>1082.2</td>\n",
       "      <td>455.0</td>\n",
       "      <td>790.4</td>\n",
       "      <td>1394.7</td>\n",
       "      <td>1023.5</td>\n",
       "      <td>543.2</td>\n",
       "      <td>1199.5</td>\n",
       "    </tr>\n",
       "    <tr>\n",
       "      <th>2020</th>\n",
       "      <td>115975</td>\n",
       "      <td>3454</td>\n",
       "      <td>4841</td>\n",
       "      <td>3615</td>\n",
       "      <td>40178</td>\n",
       "      <td>42771</td>\n",
       "      <td>4821</td>\n",
       "      <td>7459</td>\n",
       "      <td>2292</td>\n",
       "      <td>5155</td>\n",
       "      <td>...</td>\n",
       "      <td>1722.9</td>\n",
       "      <td>744.5</td>\n",
       "      <td>1208.9</td>\n",
       "      <td>939.0</td>\n",
       "      <td>380.3</td>\n",
       "      <td>584.4</td>\n",
       "      <td>1100.2</td>\n",
       "      <td>619.2</td>\n",
       "      <td>328.1</td>\n",
       "      <td>965.1</td>\n",
       "    </tr>\n",
       "  </tbody>\n",
       "</table>\n",
       "<p>20 rows × 48 columns</p>\n",
       "</div>"
      ],
      "text/plain": [
       "               robos_hechos_buenos_aires  robos_hechos_catamarca  \\\n",
       "indice_tiempo                                                      \n",
       "2001                              118351                    2527   \n",
       "2002                              153518                    3667   \n",
       "2003                              131978                    3437   \n",
       "2004                               97113                    3182   \n",
       "2005                               64252                    2968   \n",
       "2006                               58863                    3029   \n",
       "2007                               59560                    3455   \n",
       "2008                               77413                    3519   \n",
       "2009                               63145                    3219   \n",
       "2010                               71299                    4710   \n",
       "2011                               88501                    3879   \n",
       "2012                               94059                    5254   \n",
       "2013                               95379                    6196   \n",
       "2014                               99744                    7169   \n",
       "2015                               91761                    6265   \n",
       "2016                               91522                    7466   \n",
       "2017                               92512                    6161   \n",
       "2018                              106024                    5893   \n",
       "2019                              155536                    5149   \n",
       "2020                              115975                    3454   \n",
       "\n",
       "               robos_hechos_chaco  robos_hechos_chubut  \\\n",
       "indice_tiempo                                            \n",
       "2001                        11163                 2971   \n",
       "2002                        12822                 3772   \n",
       "2003                         9231                 5060   \n",
       "2004                         8565                 4773   \n",
       "2005                         8052                 4475   \n",
       "2006                         7816                 4529   \n",
       "2007                         7113                 5073   \n",
       "2008                         7654                 4632   \n",
       "2009                         7032                 5458   \n",
       "2010                         6799                 5346   \n",
       "2011                         5890                 4841   \n",
       "2012                         7258                 4587   \n",
       "2013                         8226                 5197   \n",
       "2014                         8503                 6296   \n",
       "2015                         6337                 5564   \n",
       "2016                         6586                 5390   \n",
       "2017                         6213                 4958   \n",
       "2018                         6760                 4839   \n",
       "2019                         6492                 4918   \n",
       "2020                         4841                 3615   \n",
       "\n",
       "               robos_hechos_ciudad_autonoma_de_buenos_aires  \\\n",
       "indice_tiempo                                                 \n",
       "2001                                                  72868   \n",
       "2002                                                  75283   \n",
       "2003                                                  76618   \n",
       "2004                                                  74054   \n",
       "2005                                                  74773   \n",
       "2006                                                  81587   \n",
       "2007                                                  86851   \n",
       "2008                                                  91763   \n",
       "2009                                                  85782   \n",
       "2010                                                  84310   \n",
       "2011                                                  83761   \n",
       "2012                                                  83508   \n",
       "2013                                                  76559   \n",
       "2014                                                  80914   \n",
       "2015                                                  67577   \n",
       "2016                                                  76250   \n",
       "2017                                                  73330   \n",
       "2018                                                  75732   \n",
       "2019                                                  67415   \n",
       "2020                                                  40178   \n",
       "\n",
       "               robos_hechos_cordoba  robos_hechos_corrientes  \\\n",
       "indice_tiempo                                                  \n",
       "2001                          43168                     9168   \n",
       "2002                          57319                    10987   \n",
       "2003                          54035                     9836   \n",
       "2004                          48172                     8131   \n",
       "2005                          44656                     7118   \n",
       "2006                          44250                     7489   \n",
       "2007                          46786                     7091   \n",
       "2008                          52008                     7684   \n",
       "2009                          50293                     8669   \n",
       "2010                          49877                     8130   \n",
       "2011                          51613                     6888   \n",
       "2012                          56264                     7195   \n",
       "2013                          60915                     6432   \n",
       "2014                          65566                     7850   \n",
       "2015                          65823                     5958   \n",
       "2016                          67288                     6247   \n",
       "2017                          63033                     5674   \n",
       "2018                          62273                     5880   \n",
       "2019                          66130                     5689   \n",
       "2020                          42771                     4821   \n",
       "\n",
       "               robos_hechos_entre_rios  robos_hechos_formosa  \\\n",
       "indice_tiempo                                                  \n",
       "2001                              6347                  2207   \n",
       "2002                              8357                  2650   \n",
       "2003                              8251                  2278   \n",
       "2004                              7643                  1948   \n",
       "2005                              6954                  1593   \n",
       "2006                              6557                  1748   \n",
       "2007                              6734                  1724   \n",
       "2008                              6948                  1804   \n",
       "2009                              6989                  2005   \n",
       "2010                              6367                  1979   \n",
       "2011                              5712                  1818   \n",
       "2012                              6879                  2194   \n",
       "2013                              6198                  2537   \n",
       "2014                              6853                  3617   \n",
       "2015                              7025                  3298   \n",
       "2016                              6543                  4120   \n",
       "2017                              7608                  3610   \n",
       "2018                              9600                  3390   \n",
       "2019                             10091                  3278   \n",
       "2020                              7459                  2292   \n",
       "\n",
       "               robos_hechos_jujuy  ...  robos_tasa_neuquen  \\\n",
       "indice_tiempo                      ...                       \n",
       "2001                         3999  ...              1820.5   \n",
       "2002                         4947  ...              2048.0   \n",
       "2003                         5278  ...              2042.4   \n",
       "2004                         7216  ...              1988.8   \n",
       "2005                         6359  ...              1920.6   \n",
       "2006                         6291  ...              1720.5   \n",
       "2007                         6616  ...              1672.5   \n",
       "2008                         7743  ...              1935.6   \n",
       "2009                         7358  ...              2019.4   \n",
       "2010                         7317  ...              2178.1   \n",
       "2011                         6993  ...              1954.5   \n",
       "2012                         7476  ...              2011.3   \n",
       "2013                         6380  ...              2101.3   \n",
       "2014                         9828  ...              2493.1   \n",
       "2015                         8642  ...              2376.8   \n",
       "2016                         8271  ...              2402.1   \n",
       "2017                         7731  ...              2257.7   \n",
       "2018                         6879  ...              2102.6   \n",
       "2019                         7189  ...              2329.8   \n",
       "2020                         5155  ...              1722.9   \n",
       "\n",
       "               robos_tasa_rio_negro  robos_tasa_salta  robos_tasa_san_juan  \\\n",
       "indice_tiempo                                                                \n",
       "2001                         1122.8             454.8               1147.5   \n",
       "2002                         1325.2             572.3               1487.2   \n",
       "2003                         1094.6             520.0               1303.3   \n",
       "2004                          944.8             704.8               1239.1   \n",
       "2005                          862.5            1063.2               1066.3   \n",
       "2006                          838.8            1063.4               1064.8   \n",
       "2007                         1034.6            1202.6               1077.3   \n",
       "2008                         1189.0            1102.6               1061.5   \n",
       "2009                         1294.2            1096.4                968.3   \n",
       "2010                         1166.8            1094.8                965.4   \n",
       "2011                         1253.2            1172.7               1200.9   \n",
       "2012                         1570.1            1024.9               1187.5   \n",
       "2013                         1550.2            1179.2               1033.6   \n",
       "2014                         1574.0            1524.8               1057.2   \n",
       "2015                         1278.2            1522.5                956.5   \n",
       "2016                         1303.6            1421.9               1047.4   \n",
       "2017                         1162.2            1342.8               1032.9   \n",
       "2018                         1144.7            1342.0               1069.1   \n",
       "2019                         1146.7            1398.8               1082.2   \n",
       "2020                          744.5            1208.9                939.0   \n",
       "\n",
       "               robos_tasa_san_luis  robos_tasa_santa_cruz  \\\n",
       "indice_tiempo                                               \n",
       "2001                         662.1                  892.6   \n",
       "2002                         808.1                 1174.4   \n",
       "2003                         955.4                 1236.1   \n",
       "2004                         831.0                 1057.4   \n",
       "2005                         660.3                  957.5   \n",
       "2006                         587.4                  893.0   \n",
       "2007                         689.7                  858.7   \n",
       "2008                         797.1                  926.6   \n",
       "2009                         749.1                 1008.8   \n",
       "2010                         784.8                 1026.7   \n",
       "2011                         811.2                  993.6   \n",
       "2012                         909.3                 1065.8   \n",
       "2013                         822.2                  983.7   \n",
       "2014                         729.1                  864.0   \n",
       "2015                         461.4                  801.0   \n",
       "2016                         506.4                  883.2   \n",
       "2017                         425.4                  807.6   \n",
       "2018                         353.7                  798.9   \n",
       "2019                         455.0                  790.4   \n",
       "2020                         380.3                  584.4   \n",
       "\n",
       "               robos_tasa_santa_fe  robos_tasa_santiago_del_estero  \\\n",
       "indice_tiempo                                                        \n",
       "2001                         972.3                           378.4   \n",
       "2002                        1128.0                           498.6   \n",
       "2003                        1088.1                           439.5   \n",
       "2004                        1063.6                           574.8   \n",
       "2005                        1235.8                           455.1   \n",
       "2006                        1160.6                           514.8   \n",
       "2007                        1205.6                           419.5   \n",
       "2008                        1253.0                           383.3   \n",
       "2009                        1434.3                           379.2   \n",
       "2010                        1449.1                           330.3   \n",
       "2011                        1471.2                           268.9   \n",
       "2012                        1552.7                           207.7   \n",
       "2013                        1569.0                           138.5   \n",
       "2014                        1482.1                           313.0   \n",
       "2015                        1527.4                           514.2   \n",
       "2016                        1476.2                           639.5   \n",
       "2017                        1275.6                           877.9   \n",
       "2018                        1392.6                          1012.1   \n",
       "2019                        1394.7                          1023.5   \n",
       "2020                        1100.2                           619.2   \n",
       "\n",
       "               robos_tasa_tierra_del_fuego  robos_tasa_tucuman  \n",
       "indice_tiempo                                                   \n",
       "2001                                 634.2               510.0  \n",
       "2002                                 813.7               676.9  \n",
       "2003                                 768.7               595.6  \n",
       "2004                                 706.6               587.9  \n",
       "2005                                 651.0               647.7  \n",
       "2006                                 676.5               613.7  \n",
       "2007                                 753.2               604.7  \n",
       "2008                                 785.3               510.2  \n",
       "2009                                 899.5               509.1  \n",
       "2010                                 661.5               477.0  \n",
       "2011                                 447.9               548.2  \n",
       "2012                                 454.1               627.4  \n",
       "2013                                 623.0               625.9  \n",
       "2014                                 664.2              1040.1  \n",
       "2015                                 595.5              1031.8  \n",
       "2016                                 581.4              1094.5  \n",
       "2017                                 649.6              1206.2  \n",
       "2018                                 579.0              1148.8  \n",
       "2019                                 543.2              1199.5  \n",
       "2020                                 328.1               965.1  \n",
       "\n",
       "[20 rows x 48 columns]"
      ]
     },
     "execution_count": 94,
     "metadata": {},
     "output_type": "execute_result"
    }
   ],
   "source": [
    "# Modificacion de index por columna indice_tiempo\n",
    "df_crimes.set_index(\"indice_tiempo\", inplace=True)\n",
    "df_crimes"
   ]
  },
  {
   "cell_type": "markdown",
   "id": "7e4bb430",
   "metadata": {},
   "source": [
    "### Creacion de variable fecha de anuncio"
   ]
  },
  {
   "cell_type": "markdown",
   "id": "ccc681a5",
   "metadata": {},
   "source": [
    "#### **Para poder imputar datos desde el dataframe df_crimes, se crea la variable fecha de anuncio en data**"
   ]
  },
  {
   "cell_type": "code",
   "execution_count": 95,
   "id": "b90e6e37",
   "metadata": {},
   "outputs": [],
   "source": [
    "data = data.assign(fecha=2017)"
   ]
  },
  {
   "cell_type": "code",
   "execution_count": null,
   "id": "34f6a6ec",
   "metadata": {},
   "outputs": [],
   "source": []
  },
  {
   "cell_type": "code",
   "execution_count": null,
   "id": "46227744",
   "metadata": {},
   "outputs": [],
   "source": []
  },
  {
   "cell_type": "code",
   "execution_count": null,
   "id": "a1a018c8",
   "metadata": {},
   "outputs": [],
   "source": []
  },
  {
   "cell_type": "markdown",
   "id": "91cd48ab",
   "metadata": {},
   "source": [
    "# Deteccion de outliers"
   ]
  },
  {
   "cell_type": "code",
   "execution_count": 96,
   "id": "85f7a1ca",
   "metadata": {},
   "outputs": [
    {
     "data": {
      "text/html": [
       "<div>\n",
       "<style scoped>\n",
       "    .dataframe tbody tr th:only-of-type {\n",
       "        vertical-align: middle;\n",
       "    }\n",
       "\n",
       "    .dataframe tbody tr th {\n",
       "        vertical-align: top;\n",
       "    }\n",
       "\n",
       "    .dataframe thead th {\n",
       "        text-align: right;\n",
       "    }\n",
       "</style>\n",
       "<table border=\"1\" class=\"dataframe\">\n",
       "  <thead>\n",
       "    <tr style=\"text-align: right;\">\n",
       "      <th></th>\n",
       "      <th>operation</th>\n",
       "      <th>property_type</th>\n",
       "      <th>country_name</th>\n",
       "      <th>state_name</th>\n",
       "      <th>city_name</th>\n",
       "      <th>neighborhood_name</th>\n",
       "      <th>geonames_id</th>\n",
       "      <th>lat</th>\n",
       "      <th>lon</th>\n",
       "      <th>price_aprox_usd</th>\n",
       "      <th>surface_total_in_m2</th>\n",
       "      <th>surface_covered_in_m2</th>\n",
       "      <th>price_usd_per_m2</th>\n",
       "      <th>floor</th>\n",
       "      <th>rooms_per_m2</th>\n",
       "      <th>rooms</th>\n",
       "      <th>expenses</th>\n",
       "      <th>description</th>\n",
       "      <th>title</th>\n",
       "      <th>fecha</th>\n",
       "    </tr>\n",
       "  </thead>\n",
       "  <tbody>\n",
       "  </tbody>\n",
       "</table>\n",
       "</div>"
      ],
      "text/plain": [
       "Empty DataFrame\n",
       "Columns: [operation, property_type, country_name, state_name, city_name, neighborhood_name, geonames_id, lat, lon, price_aprox_usd, surface_total_in_m2, surface_covered_in_m2, price_usd_per_m2, floor, rooms_per_m2, rooms, expenses, description, title, fecha]\n",
       "Index: []"
      ]
     },
     "execution_count": 96,
     "metadata": {},
     "output_type": "execute_result"
    }
   ],
   "source": [
    "data_outliers = pd.DataFrame(columns=data.columns)\n",
    "data_outliers"
   ]
  },
  {
   "cell_type": "markdown",
   "id": "c03d0d12",
   "metadata": {},
   "source": [
    "## Deteccion de outliers en surface_covered_in_m2"
   ]
  },
  {
   "cell_type": "code",
   "execution_count": 97,
   "id": "c71264b3",
   "metadata": {},
   "outputs": [],
   "source": [
    "data_aux = data.copy()\n",
    "data_aux = data_aux[data_aux.surface_covered_in_m2.notnull()]"
   ]
  },
  {
   "cell_type": "code",
   "execution_count": 98,
   "id": "84ebc3c0",
   "metadata": {},
   "outputs": [],
   "source": [
    "# Se crea una serie con los valores de surface_covered_in_m2 y luego se la ordena de menor a mayor\n",
    "data_surface_covered_in_m2 = data_aux.surface_covered_in_m2\n",
    "data_surface_covered_in_m2_sort = np.sort(data_surface_covered_in_m2) "
   ]
  },
  {
   "cell_type": "code",
   "execution_count": 99,
   "id": "699e5c74",
   "metadata": {},
   "outputs": [
    {
     "name": "stdout",
     "output_type": "stream",
     "text": [
      "Q1 25 percentile of the given data_surface_covered_in_m2_sort is,  45.0\n",
      "Q2 50 percentile of the given data_surface_covered_in_m2_sort is,  74.0\n",
      "Q3 75 percentile of the given data_surface_covered_in_m2_sort is,  150.0\n",
      "Interquartile range is 105.0\n"
     ]
    }
   ],
   "source": [
    "Q1 = np.percentile(data_surface_covered_in_m2_sort, 25, interpolation = 'midpoint')  \n",
    "Q2 = np.percentile(data_surface_covered_in_m2_sort, 50, interpolation = 'midpoint')  \n",
    "Q3 = np.percentile(data_surface_covered_in_m2_sort, 75, interpolation = 'midpoint')  \n",
    "  \n",
    "print('Q1 25 percentile of the given data_surface_covered_in_m2_sort is, ', Q1) \n",
    "print('Q2 50 percentile of the given data_surface_covered_in_m2_sort is, ', Q2) \n",
    "print('Q3 75 percentile of the given data_surface_covered_in_m2_sort is, ', Q3) \n",
    "  \n",
    "IQR = Q3 - Q1  \n",
    "print('Interquartile range is', IQR) "
   ]
  },
  {
   "cell_type": "code",
   "execution_count": 100,
   "id": "2986f37a",
   "metadata": {},
   "outputs": [
    {
     "name": "stdout",
     "output_type": "stream",
     "text": [
      "low_limit is -112.5\n",
      "up_limit is 307.5\n"
     ]
    }
   ],
   "source": [
    "low_lim_surface_covered_in_m2 = Q1 - 1.5 * IQR \n",
    "up_lim_surface_covered_in_m2 = Q3 + 1.5 * IQR \n",
    "print('low_limit is', low_lim_surface_covered_in_m2) \n",
    "print('up_limit is', up_lim_surface_covered_in_m2) "
   ]
  },
  {
   "cell_type": "code",
   "execution_count": 101,
   "id": "88837af9",
   "metadata": {},
   "outputs": [
    {
     "name": "stdout",
     "output_type": "stream",
     "text": [
      "La cantidad de outliers detectados es:  7923\n"
     ]
    }
   ],
   "source": [
    "# Se crea una lista donde se van imputando los valores de surface_covered_in_m2 considerados outliers\n",
    "outlier_sup_surface_covered_in_m2 =[] \n",
    "for x in data_surface_covered_in_m2_sort: \n",
    "    if (x> up_lim_surface_covered_in_m2): \n",
    "         outlier_sup_surface_covered_in_m2.append(x) \n",
    "print(\"La cantidad de outliers detectados es: \",len(outlier_sup_surface_covered_in_m2))"
   ]
  },
  {
   "cell_type": "code",
   "execution_count": 102,
   "id": "a773b341",
   "metadata": {},
   "outputs": [],
   "source": [
    "# Se descartan de data los outliers de surface_covered_in_m2\n",
    "mask_surface_covered_in_m2_sup = data.surface_covered_in_m2 < min(outlier_sup_surface_covered_in_m2)\n",
    "mask_outliers_surface_covered_in_m2_sup = data.surface_covered_in_m2 >= min(outlier_sup_surface_covered_in_m2)\n",
    "\n",
    "# Se imputan los outliers en data_outliers\n",
    "data_outliers = data[mask_outliers_surface_covered_in_m2_sup]"
   ]
  },
  {
   "cell_type": "markdown",
   "id": "bc7d4356",
   "metadata": {},
   "source": [
    "## Deteccion de outliers en surface_total_in_m2"
   ]
  },
  {
   "cell_type": "code",
   "execution_count": 103,
   "id": "390fb290",
   "metadata": {},
   "outputs": [],
   "source": [
    "data_aux = data.copy()\n",
    "data_aux = data_aux[data_aux.surface_total_in_m2.notnull()]"
   ]
  },
  {
   "cell_type": "code",
   "execution_count": 104,
   "id": "ffe57b34",
   "metadata": {},
   "outputs": [],
   "source": [
    "# Se crea una serie con los valores de surface_total_in_m2 y luego se la ordena de menor a mayor\n",
    "data_surface_total_in_m2 = data_aux.surface_total_in_m2\n",
    "data_surface_total_in_m2_sort = np.sort(data_surface_total_in_m2) "
   ]
  },
  {
   "cell_type": "code",
   "execution_count": 105,
   "id": "754e748e",
   "metadata": {},
   "outputs": [
    {
     "name": "stdout",
     "output_type": "stream",
     "text": [
      "Q1 25 percentile of the given data_surface_total_in_m2_sort is,  50.0\n",
      "Q2 50 percentile of the given data_surface_total_in_m2_sort is,  83.0\n",
      "Q3 75 percentile of the given data_surface_total_in_m2_sort is,  195.0\n",
      "Interquartile range is 145.0\n"
     ]
    }
   ],
   "source": [
    "Q1 = np.percentile(data_surface_total_in_m2_sort, 25, interpolation = 'midpoint')  \n",
    "Q2 = np.percentile(data_surface_total_in_m2_sort, 50, interpolation = 'midpoint')  \n",
    "Q3 = np.percentile(data_surface_total_in_m2_sort, 75, interpolation = 'midpoint')  \n",
    "  \n",
    "print('Q1 25 percentile of the given data_surface_total_in_m2_sort is, ', Q1) \n",
    "print('Q2 50 percentile of the given data_surface_total_in_m2_sort is, ', Q2) \n",
    "print('Q3 75 percentile of the given data_surface_total_in_m2_sort is, ', Q3) \n",
    "  \n",
    "IQR = Q3 - Q1  \n",
    "print('Interquartile range is', IQR) "
   ]
  },
  {
   "cell_type": "code",
   "execution_count": 106,
   "id": "5d09552a",
   "metadata": {},
   "outputs": [
    {
     "name": "stdout",
     "output_type": "stream",
     "text": [
      "low_limit is -167.5\n",
      "up_limit is 412.5\n"
     ]
    }
   ],
   "source": [
    "low_lim_surface_total_in_m2 = Q1 - 1.5 * IQR \n",
    "up_lim_surface_total_in_m2 = Q3 + 1.5 * IQR \n",
    "print('low_limit is', low_lim_surface_total_in_m2) \n",
    "print('up_limit is', up_lim_surface_total_in_m2) "
   ]
  },
  {
   "cell_type": "code",
   "execution_count": 107,
   "id": "a33facd9",
   "metadata": {},
   "outputs": [
    {
     "name": "stdout",
     "output_type": "stream",
     "text": [
      "La cantidad de outliers detectados es:  9610\n"
     ]
    }
   ],
   "source": [
    "# Se crea una lista donde se van imputando los valores de surface_total_in_m2 considerados outliers\n",
    "outlier_sup_urface_total_in_m2 =[] \n",
    "for x in data_surface_total_in_m2_sort: \n",
    "    if (x> up_lim_surface_total_in_m2): \n",
    "         outlier_sup_urface_total_in_m2.append(x) \n",
    "print(\"La cantidad de outliers detectados es: \",len(outlier_sup_urface_total_in_m2))"
   ]
  },
  {
   "cell_type": "code",
   "execution_count": 108,
   "id": "2691893f",
   "metadata": {},
   "outputs": [],
   "source": [
    "# Se descartan de data los outliers de surface_total_in_m2\n",
    "mask_surface_total_in_m2_sup = data.surface_total_in_m2 < min(outlier_sup_urface_total_in_m2)\n",
    "mask_outliers_surface_total_in_m2_sup = data.surface_total_in_m2 >= min(outlier_sup_urface_total_in_m2)\n",
    "\n",
    "# Se imputan los outliers en data_outliers\n",
    "data_outliers = pd.concat([data_outliers,data[mask_outliers_surface_total_in_m2_sup]]).drop_duplicates()"
   ]
  },
  {
   "cell_type": "markdown",
   "id": "4ec34c85",
   "metadata": {},
   "source": [
    "## Deteccion de outliers en rooms"
   ]
  },
  {
   "cell_type": "code",
   "execution_count": 109,
   "id": "e4f18092",
   "metadata": {},
   "outputs": [],
   "source": [
    "# Se genera un dataframe auxiliar con surface_covered_in_m2 y rooms no nulos de forma que el metodo pueda calcular el rango intercuartil\n",
    "data_aux = data.copy()\n",
    "data_aux = data_aux[ (data.rooms.notnull())]"
   ]
  },
  {
   "cell_type": "code",
   "execution_count": 110,
   "id": "438dc165",
   "metadata": {},
   "outputs": [
    {
     "data": {
      "text/plain": [
       "0         2.0\n",
       "2         2.0\n",
       "3         3.0\n",
       "4         2.0\n",
       "11        1.0\n",
       "         ... \n",
       "121138    2.0\n",
       "121139    3.0\n",
       "121153    3.0\n",
       "121215    3.0\n",
       "121218    2.0\n",
       "Name: rooms, Length: 66785, dtype: float64"
      ]
     },
     "execution_count": 110,
     "metadata": {},
     "output_type": "execute_result"
    }
   ],
   "source": [
    "series_rooms = data_aux.rooms\n",
    "series_rooms"
   ]
  },
  {
   "cell_type": "code",
   "execution_count": 111,
   "id": "e408ef51",
   "metadata": {},
   "outputs": [],
   "source": [
    "series_rooms_sort = np.sort(series_rooms) "
   ]
  },
  {
   "cell_type": "code",
   "execution_count": 112,
   "id": "3c88903a",
   "metadata": {},
   "outputs": [
    {
     "name": "stdout",
     "output_type": "stream",
     "text": [
      "Q1 25 percentile of the given rooms is,  2.0\n",
      "Q2 50 percentile of the given rooms is,  3.0\n",
      "Q3 75 percentile of the given rooms is,  4.0\n",
      "Interquartile range is 2.0\n"
     ]
    }
   ],
   "source": [
    "Q1 = np.percentile(series_rooms_sort, 25, interpolation = 'midpoint')  \n",
    "Q2 = np.percentile(series_rooms_sort, 50, interpolation = 'midpoint')  \n",
    "Q3 = np.percentile(series_rooms_sort, 75, interpolation = 'midpoint')  \n",
    "  \n",
    "print('Q1 25 percentile of the given rooms is, ', Q1) \n",
    "print('Q2 50 percentile of the given rooms is, ', Q2) \n",
    "print('Q3 75 percentile of the given rooms is, ', Q3) \n",
    "  \n",
    "IQR = Q3 - Q1  \n",
    "print('Interquartile range is', IQR) "
   ]
  },
  {
   "cell_type": "code",
   "execution_count": 113,
   "id": "a811acf7",
   "metadata": {},
   "outputs": [
    {
     "name": "stdout",
     "output_type": "stream",
     "text": [
      "low_limit is -1.0\n",
      "up_limit is 7.0\n"
     ]
    }
   ],
   "source": [
    "low_lim_rooms = Q1 - 1.5 * IQR \n",
    "up_lim_rooms = Q3 + 1.5 * IQR \n",
    "print('low_limit is', low_lim_rooms) \n",
    "print('up_limit is', up_lim_rooms) "
   ]
  },
  {
   "cell_type": "code",
   "execution_count": 114,
   "id": "7cef8511",
   "metadata": {},
   "outputs": [
    {
     "name": "stdout",
     "output_type": "stream",
     "text": [
      "La cantidad de outliers detectados es 1113\n"
     ]
    }
   ],
   "source": [
    "outlier_sup_rooms =[] \n",
    "for x in series_rooms_sort: \n",
    "    if (x> up_lim_rooms): \n",
    "         outlier_sup_rooms.append(x) \n",
    "print('La cantidad de outliers detectados es', len(outlier_sup_rooms))"
   ]
  },
  {
   "cell_type": "code",
   "execution_count": 115,
   "id": "8c5969e8",
   "metadata": {},
   "outputs": [],
   "source": [
    "# Se descartan de data los outliers de rooms\n",
    "mask_rooms = data.rooms < min(outlier_sup_rooms) # mascara a aplicar cuando se desechan outliers de data\n",
    "mask_outlier_rooms_sup = data.rooms >= min(outlier_sup_rooms)\n",
    "\n",
    "data_outliers = pd.concat([data_outliers,data[mask_outlier_rooms_sup]]).drop_duplicates()"
   ]
  },
  {
   "cell_type": "markdown",
   "id": "1cc8c6e9",
   "metadata": {},
   "source": [
    "## Deteccion de outliers en rooms_per_m2"
   ]
  },
  {
   "cell_type": "code",
   "execution_count": 116,
   "id": "f7f04b42",
   "metadata": {},
   "outputs": [],
   "source": [
    "# Se genera un dataframe auxiliar con surface_covered_in_m2 y rooms no nulos de forma que el metodo pueda calcular el rango intercuartil\n",
    "data_aux = data.copy()\n",
    "data_aux = data_aux[ (data.rooms_per_m2.notnull())]"
   ]
  },
  {
   "cell_type": "code",
   "execution_count": 117,
   "id": "36ca5b92",
   "metadata": {},
   "outputs": [
    {
     "data": {
      "text/plain": [
       "0         0.050000\n",
       "2         0.036364\n",
       "4         0.057143\n",
       "12        0.055556\n",
       "13        0.033333\n",
       "            ...   \n",
       "121138    0.033333\n",
       "121139    0.081081\n",
       "121153    0.046154\n",
       "121215    0.032258\n",
       "121218    0.041667\n",
       "Name: rooms_per_m2, Length: 62639, dtype: float64"
      ]
     },
     "execution_count": 117,
     "metadata": {},
     "output_type": "execute_result"
    }
   ],
   "source": [
    "series_rooms_surf = data_aux.rooms_per_m2\n",
    "series_rooms_surf"
   ]
  },
  {
   "cell_type": "code",
   "execution_count": 118,
   "id": "a312ad33",
   "metadata": {},
   "outputs": [],
   "source": [
    "series_rooms_sort = np.sort(series_rooms_surf) "
   ]
  },
  {
   "cell_type": "code",
   "execution_count": 119,
   "id": "df2ce4de",
   "metadata": {},
   "outputs": [
    {
     "name": "stdout",
     "output_type": "stream",
     "text": [
      "Q1 25 percentile of the given room/m2 is,  0.027522935779816515\n",
      "Q2 50 percentile of the given room/m2 is,  0.03773584905660377\n",
      "Q3 75 percentile of the given room/m2 is,  0.047619047619047616\n",
      "Interquartile range is 0.0200961118392311\n"
     ]
    }
   ],
   "source": [
    "Q1 = np.percentile(series_rooms_sort, 25, interpolation = 'midpoint')  \n",
    "Q2 = np.percentile(series_rooms_sort, 50, interpolation = 'midpoint')  \n",
    "Q3 = np.percentile(series_rooms_sort, 75, interpolation = 'midpoint')  \n",
    "  \n",
    "print('Q1 25 percentile of the given room/m2 is, ', Q1) \n",
    "print('Q2 50 percentile of the given room/m2 is, ', Q2) \n",
    "print('Q3 75 percentile of the given room/m2 is, ', Q3) \n",
    "  \n",
    "IQR = Q3 - Q1  \n",
    "print('Interquartile range is', IQR) "
   ]
  },
  {
   "cell_type": "code",
   "execution_count": 120,
   "id": "274c31ec",
   "metadata": {},
   "outputs": [
    {
     "name": "stdout",
     "output_type": "stream",
     "text": [
      "low_limit is -0.0026212319790301364\n",
      "up_limit is 0.07776321537789427\n"
     ]
    }
   ],
   "source": [
    "low_lim_rooms_per_m2 = Q1 - 1.5 * IQR \n",
    "up_lim_rooms_per_m2 = Q3 + 1.5 * IQR \n",
    "print('low_limit is', low_lim_rooms_per_m2) \n",
    "print('up_limit is', up_lim_rooms_per_m2) "
   ]
  },
  {
   "cell_type": "code",
   "execution_count": 121,
   "id": "d634d434",
   "metadata": {},
   "outputs": [
    {
     "name": "stdout",
     "output_type": "stream",
     "text": [
      " La cantidad de outliers detectados es 2435\n"
     ]
    }
   ],
   "source": [
    "outlier_sup_rooms_per_m2 =[] \n",
    "for x in series_rooms_sort: \n",
    "    if (x> up_lim_rooms_per_m2): \n",
    "         outlier_sup_rooms_per_m2.append(x) \n",
    "print(' La cantidad de outliers detectados es', len(outlier_sup_rooms_per_m2))"
   ]
  },
  {
   "cell_type": "code",
   "execution_count": 122,
   "id": "910809eb",
   "metadata": {},
   "outputs": [],
   "source": [
    "# Se descartan de data los outliers de surface_total_in_m2\n",
    "mask_rooms_surf = data.rooms_per_m2 < min(outlier_sup_rooms_per_m2) # mascara a aplicar cuando se desechan outliers de data\n",
    "mask_outlier_rooms_surf_sup = data.rooms_per_m2 >= min(outlier_sup_rooms_per_m2)\n",
    "\n",
    "data_outliers = pd.concat([data_outliers,data[mask_outlier_rooms_surf_sup]]).drop_duplicates()"
   ]
  },
  {
   "cell_type": "markdown",
   "id": "08d6923e",
   "metadata": {},
   "source": [
    "## Deteccion de outliers en price_aprox_usd"
   ]
  },
  {
   "cell_type": "code",
   "execution_count": 123,
   "id": "2776931a",
   "metadata": {},
   "outputs": [],
   "source": [
    "# Se genera un dataframe auxiliar con surface_covered_in_m2 y rooms no nulos de forma que el metodo pueda calcular el rango intercuartil\n",
    "data_aux = data.copy()\n",
    "data_aux = data_aux[(data_aux.price_aprox_usd.notnull())]"
   ]
  },
  {
   "cell_type": "code",
   "execution_count": 124,
   "id": "cf96b8ba",
   "metadata": {},
   "outputs": [
    {
     "data": {
      "text/plain": [
       "0          62000.0\n",
       "1         150000.0\n",
       "2          72000.0\n",
       "3          95000.0\n",
       "4          64000.0\n",
       "            ...   \n",
       "121215    870000.0\n",
       "121216    498000.0\n",
       "121217    131500.0\n",
       "121218     95900.0\n",
       "121219    129000.0\n",
       "Name: price_aprox_usd, Length: 97826, dtype: float64"
      ]
     },
     "execution_count": 124,
     "metadata": {},
     "output_type": "execute_result"
    }
   ],
   "source": [
    "series_price = data_aux.price_aprox_usd\n",
    "series_price"
   ]
  },
  {
   "cell_type": "code",
   "execution_count": 125,
   "id": "61f63f51",
   "metadata": {},
   "outputs": [],
   "source": [
    "series_price_sort = np.sort(series_price) "
   ]
  },
  {
   "cell_type": "code",
   "execution_count": 126,
   "id": "f92535fb",
   "metadata": {},
   "outputs": [
    {
     "name": "stdout",
     "output_type": "stream",
     "text": [
      "Q1 25 percentile of the given price_aprox_usd is,  90000.0\n",
      "Q2 50 percentile of the given price_aprox_usd is,  145000.0\n",
      "Q3 75 percentile of the given price_aprox_usd is,  267000.0\n",
      "Interquartile range is 177000.0\n"
     ]
    }
   ],
   "source": [
    "Q1 = np.percentile(series_price_sort, 25, interpolation = 'midpoint')  \n",
    "Q2 = np.percentile(series_price_sort, 50, interpolation = 'midpoint')  \n",
    "Q3 = np.percentile(series_price_sort, 75, interpolation = 'midpoint')  \n",
    "  \n",
    "print('Q1 25 percentile of the given price_aprox_usd is, ', Q1) \n",
    "print('Q2 50 percentile of the given price_aprox_usd is, ', Q2) \n",
    "print('Q3 75 percentile of the given price_aprox_usd is, ', Q3) \n",
    "  \n",
    "IQR = Q3 - Q1  \n",
    "print('Interquartile range is', IQR) "
   ]
  },
  {
   "cell_type": "code",
   "execution_count": 127,
   "id": "0f8e3781",
   "metadata": {},
   "outputs": [
    {
     "name": "stdout",
     "output_type": "stream",
     "text": [
      "low_limit is -175500.0\n",
      "up_limit is 532500.0\n"
     ]
    }
   ],
   "source": [
    "low_lim_price_aprox_usd = Q1 - 1.5 * IQR \n",
    "up_lim_price_aprox_usd = Q3 + 1.5 * IQR \n",
    "print('low_limit is', low_lim_price_aprox_usd) \n",
    "print('up_limit is', up_lim_price_aprox_usd) "
   ]
  },
  {
   "cell_type": "code",
   "execution_count": 128,
   "id": "ebb12a4c",
   "metadata": {},
   "outputs": [
    {
     "name": "stdout",
     "output_type": "stream",
     "text": [
      "La cantidad de outliers detectados es: 8023\n"
     ]
    }
   ],
   "source": [
    "outlier_sup_price_aprox_usd =[] \n",
    "for x in series_price: \n",
    "    if (x> up_lim_price_aprox_usd): \n",
    "         outlier_sup_price_aprox_usd.append(x) \n",
    "print('La cantidad de outliers detectados es:', len(outlier_sup_price_aprox_usd))"
   ]
  },
  {
   "cell_type": "code",
   "execution_count": 129,
   "id": "77cc312e",
   "metadata": {},
   "outputs": [],
   "source": [
    "# Se descartan de data los outliers de surface_total_in_m2\n",
    "mask_price_sup = data.price_aprox_usd < min(outlier_sup_price_aprox_usd) # mascara a aplicar cuando se desechan outliers de data\n",
    "mask_outlier_price_sup = data.price_aprox_usd >= min(outlier_sup_price_aprox_usd)\n",
    "\n",
    "data_outliers = pd.concat([data_outliers , data[mask_outlier_price_sup]])\n"
   ]
  },
  {
   "cell_type": "markdown",
   "id": "91af84d6",
   "metadata": {},
   "source": [
    "## Deteccion de outliers en price_usd_per_m2"
   ]
  },
  {
   "cell_type": "code",
   "execution_count": 130,
   "id": "00b2af53",
   "metadata": {},
   "outputs": [],
   "source": [
    "# Se genera un dataframe auxiliar con surface_covered_in_m2 y rooms no nulos de forma que el metodo pueda calcular el rango intercuartil\n",
    "data_aux = data.copy()\n",
    "data_aux = data_aux[(data_aux.price_usd_per_m2.notnull())]"
   ]
  },
  {
   "cell_type": "code",
   "execution_count": 131,
   "id": "bcc8a5dd",
   "metadata": {},
   "outputs": [
    {
     "data": {
      "text/plain": [
       "0         1127.272727\n",
       "2         1309.090909\n",
       "4         1828.571429\n",
       "6         1226.415094\n",
       "7         3066.666667\n",
       "             ...     \n",
       "121215    7699.115044\n",
       "121216    1383.333333\n",
       "121217    2858.695652\n",
       "121218    1997.916667\n",
       "121219    1675.324675\n",
       "Name: price_usd_per_m2, Length: 91317, dtype: float64"
      ]
     },
     "execution_count": 131,
     "metadata": {},
     "output_type": "execute_result"
    }
   ],
   "source": [
    "series_price_usd_per_m2 = data_aux.price_usd_per_m2\n",
    "series_price_usd_per_m2"
   ]
  },
  {
   "cell_type": "code",
   "execution_count": 132,
   "id": "b7369fdf",
   "metadata": {},
   "outputs": [],
   "source": [
    "series_price_usd_per_m2_sort = np.sort(series_price_usd_per_m2) "
   ]
  },
  {
   "cell_type": "code",
   "execution_count": 133,
   "id": "9e287ee5",
   "metadata": {},
   "outputs": [
    {
     "name": "stdout",
     "output_type": "stream",
     "text": [
      "Q1 25 percentile of the given price_usd_per_m2 is,  1210.5263157894738\n",
      "Q2 50 percentile of the given price_usd_per_m2 is,  1800.0\n",
      "Q3 75 percentile of the given price_usd_per_m2 is,  2486.1111111111113\n",
      "Interquartile range is 1275.5847953216376\n"
     ]
    }
   ],
   "source": [
    "Q1 = np.percentile(series_price_usd_per_m2_sort, 25, interpolation = 'midpoint')  \n",
    "Q2 = np.percentile(series_price_usd_per_m2_sort, 50, interpolation = 'midpoint')  \n",
    "Q3 = np.percentile(series_price_usd_per_m2_sort, 75, interpolation = 'midpoint')  \n",
    "  \n",
    "print('Q1 25 percentile of the given price_usd_per_m2 is, ', Q1) \n",
    "print('Q2 50 percentile of the given price_usd_per_m2 is, ', Q2) \n",
    "print('Q3 75 percentile of the given price_usd_per_m2 is, ', Q3) \n",
    "  \n",
    "IQR = Q3 - Q1  \n",
    "print('Interquartile range is', IQR) "
   ]
  },
  {
   "cell_type": "code",
   "execution_count": 134,
   "id": "99663be0",
   "metadata": {},
   "outputs": [
    {
     "name": "stdout",
     "output_type": "stream",
     "text": [
      "low_limit is -702.8508771929826\n",
      "up_limit is 4399.488304093567\n"
     ]
    }
   ],
   "source": [
    "low_lim_price_usd_per_m2 = Q1 - 1.5 * IQR \n",
    "up_lim_price_usd_per_m2 = Q3 + 1.5 * IQR \n",
    "print('low_limit is', low_lim_price_usd_per_m2) \n",
    "print('up_limit is', up_lim_price_usd_per_m2) "
   ]
  },
  {
   "cell_type": "code",
   "execution_count": 135,
   "id": "71a8230e",
   "metadata": {},
   "outputs": [
    {
     "name": "stdout",
     "output_type": "stream",
     "text": [
      "La cantidad de outliers detectados es: 4767\n"
     ]
    }
   ],
   "source": [
    "outlier_sup_price_usd_per_m2 =[] \n",
    "for x in series_price_usd_per_m2: \n",
    "    if (x> up_lim_price_usd_per_m2): \n",
    "         outlier_sup_price_usd_per_m2.append(x) \n",
    "print('La cantidad de outliers detectados es:', len(outlier_sup_price_usd_per_m2))"
   ]
  },
  {
   "cell_type": "code",
   "execution_count": 136,
   "id": "13d7ee66",
   "metadata": {},
   "outputs": [],
   "source": [
    "# Se descartan de data los outliers de surface_total_in_m2\n",
    "mask_price_m2_surf = data.price_usd_per_m2 < min(outlier_sup_price_usd_per_m2) # mascara a aplicar cuando se desechan outliers de data\n",
    "mask_outlier_price_usd_per_m2_sup = data.price_usd_per_m2 >= min(outlier_sup_price_usd_per_m2)\n",
    "\n",
    "data_outliers = pd.concat([data_outliers,data[mask_outlier_price_usd_per_m2_sup]]).drop_duplicates()"
   ]
  },
  {
   "cell_type": "markdown",
   "id": "4f2f8aae",
   "metadata": {},
   "source": [
    "## Descartado de outliers"
   ]
  },
  {
   "cell_type": "markdown",
   "id": "0571214d",
   "metadata": {},
   "source": [
    "## Data outliers"
   ]
  },
  {
   "cell_type": "code",
   "execution_count": 137,
   "id": "4552b13d",
   "metadata": {},
   "outputs": [
    {
     "data": {
      "text/plain": [
       "20808"
      ]
     },
     "execution_count": 137,
     "metadata": {},
     "output_type": "execute_result"
    }
   ],
   "source": [
    "data_outliers.shape[0]"
   ]
  },
  {
   "cell_type": "code",
   "execution_count": 138,
   "id": "5d7b56a8",
   "metadata": {},
   "outputs": [
    {
     "name": "stdout",
     "output_type": "stream",
     "text": [
      "operation                     0\n",
      "property_type                 0\n",
      "country_name                  0\n",
      "state_name                    0\n",
      "city_name                  4422\n",
      "neighborhood_name         75909\n",
      "geonames_id               18527\n",
      "lat                       48639\n",
      "lon                       48639\n",
      "price_aprox_usd           17862\n",
      "surface_total_in_m2        8448\n",
      "surface_covered_in_m2      8613\n",
      "price_usd_per_m2          24371\n",
      "floor                    113622\n",
      "rooms_per_m2              53049\n",
      "rooms                     48903\n",
      "expenses                 101752\n",
      "description                   2\n",
      "title                         0\n",
      "fecha                         0\n",
      "dtype: int64 (115688, 20)\n"
     ]
    }
   ],
   "source": [
    "print(data_validation(data), data.shape) "
   ]
  },
  {
   "cell_type": "code",
   "execution_count": 139,
   "id": "afd5509e",
   "metadata": {},
   "outputs": [
    {
     "name": "stdout",
     "output_type": "stream",
     "text": [
      "operation                    0\n",
      "property_type                0\n",
      "country_name                 0\n",
      "state_name                   0\n",
      "city_name                 3653\n",
      "neighborhood_name        62863\n",
      "geonames_id              14231\n",
      "lat                      39859\n",
      "lon                      39859\n",
      "price_aprox_usd          14859\n",
      "surface_total_in_m2       8014\n",
      "surface_covered_in_m2     8014\n",
      "price_usd_per_m2         20448\n",
      "floor                    92688\n",
      "rooms_per_m2             42886\n",
      "rooms                    39171\n",
      "expenses                 82414\n",
      "description                  2\n",
      "title                        0\n",
      "fecha                        0\n",
      "dtype: int64 (94535, 20)\n"
     ]
    }
   ],
   "source": [
    "# Se crea una mascara como funcion logica de las mascaras creadas en la busqueda de outliers y se le aplica a data para descartar las instancias que tengan algun outlier\n",
    "mask_nulos = ((mask_surface_covered_in_m2_sup) | (data.surface_covered_in_m2.isnull())) & ((mask_surface_total_in_m2_sup) | (data.surface_total_in_m2.isnull())) & ((mask_rooms) | (data.rooms.isnull())) & ((mask_rooms_surf) | (data.rooms_per_m2.isnull())) & ((mask_price_sup) | (data.price_aprox_usd.isnull())) & ((mask_price_m2_surf) | (data.price_usd_per_m2.isnull()))\n",
    "data = data[mask_nulos]\n",
    "print(data_validation(data), data.shape)"
   ]
  },
  {
   "cell_type": "markdown",
   "id": "a28d25a8",
   "metadata": {},
   "source": [
    "# Imputacion por medias condicionadas"
   ]
  },
  {
   "cell_type": "markdown",
   "id": "eca8ebc0",
   "metadata": {},
   "source": [
    "## Obtencion de latitud, longitud por media condicionada"
   ]
  },
  {
   "cell_type": "markdown",
   "id": "5fecc267",
   "metadata": {},
   "source": [
    "##### *Se van a realizar tres groupby por cada variable, ya que hay instancias en las que la variable neighborhood_name y otras en las que city_name tambien es nula. Realizandolo de esta forma se obtiene la maxima precision posible* "
   ]
  },
  {
   "cell_type": "code",
   "execution_count": 140,
   "id": "4e35dc1f",
   "metadata": {},
   "outputs": [],
   "source": [
    "# Se obtienen tres dataframe con las instancias con las que se van a realizar los groupby\n",
    "data_city_neig_groupby = data[ data.city_name.notnull() & data.neighborhood_name.notnull()]\n",
    "data_city_groupby = data[ data.city_name.notnull() & data.neighborhood_name.isnull()]\n",
    "data_groupby = data[data.city_name.isnull() & data.neighborhood_name.isnull()]"
   ]
  },
  {
   "cell_type": "code",
   "execution_count": 141,
   "id": "92dfcb29",
   "metadata": {},
   "outputs": [
    {
     "name": "stderr",
     "output_type": "stream",
     "text": [
      "C:\\Users\\gtoso\\AppData\\Local\\Temp\\ipykernel_11300\\3561664568.py:3: SettingWithCopyWarning: \n",
      "A value is trying to be set on a copy of a slice from a DataFrame.\n",
      "Try using .loc[row_indexer,col_indexer] = value instead\n",
      "\n",
      "See the caveats in the documentation: https://pandas.pydata.org/pandas-docs/stable/user_guide/indexing.html#returning-a-view-versus-a-copy\n",
      "  data_city_neig_groupby['lat'] = data_city_neig_groupby.groupby([\"state_name\" , \"city_name\" , \"neighborhood_name\"], sort=False)[\"lat\"].apply(lambda x: x.fillna(x.mean()))\n",
      "C:\\Users\\gtoso\\AppData\\Local\\Temp\\ipykernel_11300\\3561664568.py:4: SettingWithCopyWarning: \n",
      "A value is trying to be set on a copy of a slice from a DataFrame.\n",
      "Try using .loc[row_indexer,col_indexer] = value instead\n",
      "\n",
      "See the caveats in the documentation: https://pandas.pydata.org/pandas-docs/stable/user_guide/indexing.html#returning-a-view-versus-a-copy\n",
      "  data_city_groupby['lat'] = data_city_groupby.groupby([\"state_name\" , \"city_name\"], sort=False)[\"lat\"].apply(lambda x: x.fillna(x.mean()))\n",
      "C:\\Users\\gtoso\\AppData\\Local\\Temp\\ipykernel_11300\\3561664568.py:5: SettingWithCopyWarning: \n",
      "A value is trying to be set on a copy of a slice from a DataFrame.\n",
      "Try using .loc[row_indexer,col_indexer] = value instead\n",
      "\n",
      "See the caveats in the documentation: https://pandas.pydata.org/pandas-docs/stable/user_guide/indexing.html#returning-a-view-versus-a-copy\n",
      "  data_groupby['lat'] = data_groupby.groupby([\"state_name\"], sort=False)[\"lat\"].apply(lambda x: x.fillna(x.mean()))\n",
      "C:\\Users\\gtoso\\AppData\\Local\\Temp\\ipykernel_11300\\3561664568.py:9: SettingWithCopyWarning: \n",
      "A value is trying to be set on a copy of a slice from a DataFrame.\n",
      "Try using .loc[row_indexer,col_indexer] = value instead\n",
      "\n",
      "See the caveats in the documentation: https://pandas.pydata.org/pandas-docs/stable/user_guide/indexing.html#returning-a-view-versus-a-copy\n",
      "  data_city_neig_groupby['lon'] = data_city_neig_groupby.groupby([\"state_name\" , \"city_name\" , \"neighborhood_name\"], sort=False)[\"lon\"].apply(lambda x: x.fillna(x.mean()))\n",
      "C:\\Users\\gtoso\\AppData\\Local\\Temp\\ipykernel_11300\\3561664568.py:10: SettingWithCopyWarning: \n",
      "A value is trying to be set on a copy of a slice from a DataFrame.\n",
      "Try using .loc[row_indexer,col_indexer] = value instead\n",
      "\n",
      "See the caveats in the documentation: https://pandas.pydata.org/pandas-docs/stable/user_guide/indexing.html#returning-a-view-versus-a-copy\n",
      "  data_city_groupby['lon'] = data_city_groupby.groupby([\"state_name\" , \"city_name\"], sort=False)[\"lon\"].apply(lambda x: x.fillna(x.mean()))\n",
      "C:\\Users\\gtoso\\AppData\\Local\\Temp\\ipykernel_11300\\3561664568.py:11: SettingWithCopyWarning: \n",
      "A value is trying to be set on a copy of a slice from a DataFrame.\n",
      "Try using .loc[row_indexer,col_indexer] = value instead\n",
      "\n",
      "See the caveats in the documentation: https://pandas.pydata.org/pandas-docs/stable/user_guide/indexing.html#returning-a-view-versus-a-copy\n",
      "  data_groupby['lon'] = data_groupby.groupby([\"state_name\"], sort=False)[\"lon\"].apply(lambda x: x.fillna(x.mean()))\n"
     ]
    }
   ],
   "source": [
    "# Se realizan los tres groupby para obtener la media lat en funcion de state_name , city_name y neighborhood_name (segun sea el caso)...\n",
    "# ... imputandolo en los nulos de lat de los dataframes data_city_neig_groupby, data_city_groupby, data_groupby, segun corresponda \n",
    "data_city_neig_groupby['lat'] = data_city_neig_groupby.groupby([\"state_name\" , \"city_name\" , \"neighborhood_name\"], sort=False)[\"lat\"].apply(lambda x: x.fillna(x.mean()))\n",
    "data_city_groupby['lat'] = data_city_groupby.groupby([\"state_name\" , \"city_name\"], sort=False)[\"lat\"].apply(lambda x: x.fillna(x.mean()))\n",
    "data_groupby['lat'] = data_groupby.groupby([\"state_name\"], sort=False)[\"lat\"].apply(lambda x: x.fillna(x.mean()))\n",
    "\n",
    "# Se realizan los tres groupby para obtener la media lon en funcion de state_name , city_name y neighborhood_name (segun sea el caso)...\n",
    "# ... imputandolo en los nulos de lon de los dataframes data_city_neig_groupby, data_city_groupby, data_groupby, segun corresponda \n",
    "data_city_neig_groupby['lon'] = data_city_neig_groupby.groupby([\"state_name\" , \"city_name\" , \"neighborhood_name\"], sort=False)[\"lon\"].apply(lambda x: x.fillna(x.mean()))\n",
    "data_city_groupby['lon'] = data_city_groupby.groupby([\"state_name\" , \"city_name\"], sort=False)[\"lon\"].apply(lambda x: x.fillna(x.mean()))\n",
    "data_groupby['lon'] = data_groupby.groupby([\"state_name\"], sort=False)[\"lon\"].apply(lambda x: x.fillna(x.mean()))"
   ]
  },
  {
   "cell_type": "code",
   "execution_count": 142,
   "id": "24447072",
   "metadata": {},
   "outputs": [],
   "source": [
    "# Imputacion en data de lat de los dataframe data_city_neig_groupby, data_city_groupby, data_groupby\n",
    "data.loc[data_city_neig_groupby.index,\"lat\"] = data_city_neig_groupby.loc[data_city_neig_groupby.index,\"lat\"]\n",
    "data.loc[data_city_groupby.index,\"lat\"] = data_city_groupby.loc[data_city_groupby.index,\"lat\"]\n",
    "data.loc[data_groupby.index,\"lat\"] = data_groupby.loc[data_groupby.index,\"lat\"]\n",
    "\n",
    "# Imputacion en data de lon de los dataframe data_city_neig_groupby, data_city_groupby, data_groupby\n",
    "data.loc[data_city_neig_groupby.index,\"lon\"] = data_city_neig_groupby.loc[data_city_neig_groupby.index,\"lon\"]\n",
    "data.loc[data_city_groupby.index,\"lon\"] = data_city_groupby.loc[data_city_groupby.index,\"lon\"]\n",
    "data.loc[data_groupby.index,\"lon\"] = data_groupby.loc[data_groupby.index,\"lon\"]"
   ]
  },
  {
   "cell_type": "markdown",
   "id": "0ae4729c",
   "metadata": {},
   "source": [
    "## Obtencion de surface_covered_in_m2 y surface_total-in_m2 por medias condicionadas en funcion de las rooms, del state_name y del property_type"
   ]
  },
  {
   "cell_type": "code",
   "execution_count": 143,
   "id": "94a69aa1",
   "metadata": {},
   "outputs": [
    {
     "name": "stdout",
     "output_type": "stream",
     "text": [
      "Cantidad de instancias con las que se va a hacer el groupby=  55364\n",
      "Cantiedad de nulos en surface_covered_in_m2 (en data_surfaces_imput) =  3715\n",
      "Cantiedad de nulos en surface_total_in_m2 (en data_surfaces_imput)=  3715\n"
     ]
    }
   ],
   "source": [
    "#Obtengo un dataframe con las instancias que tengan las rooms no nulos, state_name no nulo y property_type no nulo\n",
    "data_surfaces_imput = data[data.rooms.notnull() & data.state_name.notnull() & data.property_type.notnull()]\n",
    "\n",
    "print(\"Cantidad de instancias con las que se va a hacer el groupby= \", data_surfaces_imput.shape[0])\n",
    "print(\"Cantiedad de nulos en surface_covered_in_m2 (en data_surfaces_imput) = \", data_surfaces_imput.surface_covered_in_m2.isnull().sum())\n",
    "print(\"Cantiedad de nulos en surface_total_in_m2 (en data_surfaces_imput)= \", data_surfaces_imput.surface_total_in_m2.isnull().sum())"
   ]
  },
  {
   "cell_type": "code",
   "execution_count": 144,
   "id": "ee92aaf7",
   "metadata": {},
   "outputs": [
    {
     "data": {
      "text/plain": [
       "property_type  state_name                    rooms\n",
       "PH             Capital Federal               2.0       51.193416\n",
       "apartment      Capital Federal               2.0       47.110929\n",
       "PH             Capital Federal               3.0       73.256513\n",
       "apartment      Buenos Aires Costa Atlántica  2.0       47.736178\n",
       "house          Bs.As. G.B.A. Zona Norte      1.0      104.187500\n",
       "                                                         ...    \n",
       "store          Córdoba                       3.0      111.333333\n",
       "                                             4.0       85.000000\n",
       "apartment      Buenos Aires Costa Atlántica  7.0             NaN\n",
       "store          Córdoba                       5.0      120.000000\n",
       "PH             Buenos Aires Interior         6.0      170.000000\n",
       "Name: surface_covered_in_m2, Length: 192, dtype: float64"
      ]
     },
     "execution_count": 144,
     "metadata": {},
     "output_type": "execute_result"
    }
   ],
   "source": [
    "# Se realiza un groupby para obtener la media de surface_covered_in_m2 en funcion de property_type , state_name y rooms\n",
    "data_surfaces_imput_groupby = data_surfaces_imput.groupby(by = [\"property_type\" , \"state_name\" ,\"rooms\"], sort=False)[\"surface_covered_in_m2\"].mean()\n",
    "data_surfaces_imput_groupby"
   ]
  },
  {
   "cell_type": "code",
   "execution_count": 145,
   "id": "9787201a",
   "metadata": {},
   "outputs": [
    {
     "name": "stdout",
     "output_type": "stream",
     "text": [
      "Cantiedad de nulos en surface_covered_in_m2 (en data_surfaces_imput) =  3\n"
     ]
    },
    {
     "name": "stderr",
     "output_type": "stream",
     "text": [
      "C:\\Users\\gtoso\\AppData\\Local\\Temp\\ipykernel_11300\\2139668526.py:2: SettingWithCopyWarning: \n",
      "A value is trying to be set on a copy of a slice from a DataFrame.\n",
      "Try using .loc[row_indexer,col_indexer] = value instead\n",
      "\n",
      "See the caveats in the documentation: https://pandas.pydata.org/pandas-docs/stable/user_guide/indexing.html#returning-a-view-versus-a-copy\n",
      "  data_surfaces_imput[\"surface_covered_in_m2\"] = data_surfaces_imput.groupby([\"property_type\" , \"state_name\" ,\"rooms\"], sort=False)[\"surface_covered_in_m2\"].apply(lambda x: x.fillna(x.mean()))\n"
     ]
    }
   ],
   "source": [
    "# Se realiza un groupby para obtener la media de surface_covered_in_m2 en funcion de property_type , state_name y rooms, imputandolo en los nulos de surface_covered_in_m2 del dataframe data_surfaces_imput\n",
    "data_surfaces_imput[\"surface_covered_in_m2\"] = data_surfaces_imput.groupby([\"property_type\" , \"state_name\" ,\"rooms\"], sort=False)[\"surface_covered_in_m2\"].apply(lambda x: x.fillna(x.mean()))\n",
    "print(\"Cantiedad de nulos en surface_covered_in_m2 (en data_surfaces_imput) = \", data_surfaces_imput.surface_covered_in_m2.isnull().sum())"
   ]
  },
  {
   "cell_type": "markdown",
   "id": "b90067f8",
   "metadata": {},
   "source": [
    "## Obtencion de rooms por medias condicionadas en funcion de la surface_covered_in_m2 y del state_name"
   ]
  },
  {
   "cell_type": "markdown",
   "id": "c299d033",
   "metadata": {},
   "source": [
    "##### Primero se discretiza la variable surface_covered_in_m2 en cuatro categorias"
   ]
  },
  {
   "cell_type": "code",
   "execution_count": 146,
   "id": "ec96f880",
   "metadata": {},
   "outputs": [],
   "source": [
    "# Con qcut se discretiza la columa surface_covered_in_m2, creando una serie\n",
    "serie_surfaces_category = pd.qcut(data.surface_covered_in_m2, 4,labels = [\"chico\",\"mediano\",\"grande\",\"muy_grande\"])"
   ]
  },
  {
   "cell_type": "code",
   "execution_count": 147,
   "id": "b23cccef",
   "metadata": {},
   "outputs": [],
   "source": [
    "# Se crea un dataframe auxiliar y se le inserta la serie serie_surfaces_category\n",
    "data_aux = data.copy()\n",
    "data_aux.insert(12,\"surface_category\",serie_surfaces_category)"
   ]
  },
  {
   "cell_type": "code",
   "execution_count": 148,
   "id": "a8c0b6da",
   "metadata": {},
   "outputs": [
    {
     "name": "stdout",
     "output_type": "stream",
     "text": [
      "Cantidad de instancias con las que se va a hacer el groupby=  86521\n",
      "Cantidad de nulos en rooms (en data_rooms_imput)=  34872\n"
     ]
    }
   ],
   "source": [
    "# Se obtiene un dataframe con las instancias donde surface_category sea no nulo, state_name no nulo y property_type no nulo\n",
    "data_rooms_imput = data_aux[data_aux.surface_category.notnull() & data_aux.state_name.notnull() & data_aux.property_type.notnull()]\n",
    "\n",
    "print(\"Cantidad de instancias con las que se va a hacer el groupby= \", data_rooms_imput.shape[0])\n",
    "print(\"Cantidad de nulos en rooms (en data_rooms_imput)= \", data_rooms_imput.rooms.isnull().sum())"
   ]
  },
  {
   "cell_type": "code",
   "execution_count": 149,
   "id": "793b8d79",
   "metadata": {},
   "outputs": [
    {
     "data": {
      "text/plain": [
       "property_type  state_name                surface_category\n",
       "PH             Bs.As. G.B.A. Zona Norte  chico               2.109589\n",
       "                                         mediano             2.731884\n",
       "                                         grande              3.292254\n",
       "                                         muy_grande          3.909910\n",
       "               Bs.As. G.B.A. Zona Oeste  chico               2.109756\n",
       "                                                               ...   \n",
       "store          Córdoba                   muy_grande          2.571429\n",
       "               Santa Fe                  chico                    NaN\n",
       "                                         mediano                  NaN\n",
       "                                         grande                   NaN\n",
       "                                         muy_grande               NaN\n",
       "Name: rooms, Length: 128, dtype: float64"
      ]
     },
     "execution_count": 149,
     "metadata": {},
     "output_type": "execute_result"
    }
   ],
   "source": [
    "# Se realiza un groupby para obtener la media de rooms en funcion de property_type , state_name y surface_category\n",
    "data_rooms_imput_groupby = data_rooms_imput.groupby(by = [\"property_type\" , \"state_name\" , \"surface_category\" ], sort=False)[\"rooms\"].mean()\n",
    "data_rooms_imput_groupby"
   ]
  },
  {
   "cell_type": "code",
   "execution_count": 150,
   "id": "2af34161",
   "metadata": {},
   "outputs": [
    {
     "name": "stdout",
     "output_type": "stream",
     "text": [
      "Cantiedad de nulos en rooms (en data_rooms_imput) =  3\n"
     ]
    },
    {
     "name": "stderr",
     "output_type": "stream",
     "text": [
      "C:\\Users\\gtoso\\AppData\\Local\\Temp\\ipykernel_11300\\3435508184.py:2: SettingWithCopyWarning: \n",
      "A value is trying to be set on a copy of a slice from a DataFrame.\n",
      "Try using .loc[row_indexer,col_indexer] = value instead\n",
      "\n",
      "See the caveats in the documentation: https://pandas.pydata.org/pandas-docs/stable/user_guide/indexing.html#returning-a-view-versus-a-copy\n",
      "  data_rooms_imput['rooms'] = data_rooms_imput.groupby([\"property_type\" , \"state_name\" , \"surface_category\"], sort=False)[\"rooms\"].apply(lambda x: x.fillna(x.mean()))\n"
     ]
    }
   ],
   "source": [
    "# Se realiza un groupby para obtener la media de rooms en funcion de property_type , state_name y surface_category, imputandolo en los nulos de rooms del dataframe data_rooms_imput\n",
    "data_rooms_imput['rooms'] = data_rooms_imput.groupby([\"property_type\" , \"state_name\" , \"surface_category\"], sort=False)[\"rooms\"].apply(lambda x: x.fillna(x.mean()))\n",
    "print(\"Cantiedad de nulos en rooms (en data_rooms_imput) = \", data_surfaces_imput.surface_covered_in_m2.isnull().sum())"
   ]
  },
  {
   "cell_type": "markdown",
   "id": "90ccffb4",
   "metadata": {},
   "source": [
    "### Imputacion en data de rooms y surface_covered_in_m2 provenientes de los dataframe data_rooms_imput y data_surfaces_imput"
   ]
  },
  {
   "cell_type": "code",
   "execution_count": 151,
   "id": "1fa94c6d",
   "metadata": {},
   "outputs": [
    {
     "data": {
      "text/plain": [
       "operation                    0\n",
       "property_type                0\n",
       "country_name                 0\n",
       "state_name                   0\n",
       "city_name                 3653\n",
       "neighborhood_name        62863\n",
       "geonames_id              14231\n",
       "lat                        328\n",
       "lon                        328\n",
       "price_aprox_usd          14859\n",
       "surface_total_in_m2       4302\n",
       "surface_covered_in_m2     4302\n",
       "price_usd_per_m2         20448\n",
       "floor                    92688\n",
       "rooms_per_m2             42886\n",
       "rooms                     4576\n",
       "expenses                 82414\n",
       "description                  2\n",
       "title                        0\n",
       "fecha                        0\n",
       "dtype: int64"
      ]
     },
     "execution_count": 151,
     "metadata": {},
     "output_type": "execute_result"
    }
   ],
   "source": [
    "# Imputacion en data de rooms y surface_covered_in_m2 de los dataframe data_rooms_imput y data_surfaces_imput\n",
    "data.loc[data_rooms_imput.index,\"rooms\"] = data_rooms_imput.loc[data_rooms_imput.index,\"rooms\"]\n",
    "data.loc[data_surfaces_imput.index,[\"surface_covered_in_m2\",\"surface_total_in_m2\"]] = data_surfaces_imput.loc[data_surfaces_imput.index,\"surface_covered_in_m2\"]\n",
    "data.isnull().sum()"
   ]
  },
  {
   "cell_type": "markdown",
   "id": "3852691c",
   "metadata": {},
   "source": [
    "### Obtencion de price_aprox_usd mediante imputacion directa en funcion de prices_usd_per_m2 y surface_total_in_m2"
   ]
  },
  {
   "cell_type": "markdown",
   "id": "5d07b496",
   "metadata": {},
   "source": [
    "##### El valor de price_aprox_usd se obtiene mediante la formula **price_aprox_usd = price_usd_per_m2 * surface_total_in_m2**"
   ]
  },
  {
   "cell_type": "code",
   "execution_count": 152,
   "id": "82d9bb79",
   "metadata": {},
   "outputs": [
    {
     "name": "stdout",
     "output_type": "stream",
     "text": [
      "Cantidad de instancias de price_aprox_usd a imputar=  4\n"
     ]
    },
    {
     "name": "stderr",
     "output_type": "stream",
     "text": [
      "C:\\Users\\gtoso\\AppData\\Local\\Temp\\ipykernel_11300\\3032786079.py:6: UserWarning: Boolean Series key will be reindexed to match DataFrame index.\n",
      "  data_prices_imput = data[mask_prices_imput]\n"
     ]
    }
   ],
   "source": [
    "# Se obtiene un dataframe con los valores no nulos de cualquiera de las dos surfaces, nulos de price_aprox_usd y no nulos de price_usd_per_m2\n",
    "condition_surfaces_notnull = data.surface_total_in_m2.notnull() | data.surface_covered_in_m2.notnull()\n",
    "condition_price_null =  data.price_aprox_usd.isnull()\n",
    "condition_price_per_m2_notnull = data.price_usd_per_m2.notnull()\n",
    "mask_prices_imput = condition_surfaces_null & condition_price_notnull & condition_price_per_m2_notnull\n",
    "data_prices_imput = data[mask_prices_imput]\n",
    "\n",
    "print (\"Cantidad de instancias de price_aprox_usd a imputar= \", data_prices_imput.shape[0])"
   ]
  },
  {
   "cell_type": "code",
   "execution_count": 153,
   "id": "a1f1f74e",
   "metadata": {},
   "outputs": [],
   "source": [
    "# Se imputa el valor de price_aprox_usd como price_aprox_usd = price_usd_per_m2 / surface_total_in_m2\n",
    "data.loc[data_prices_imput.index,\"price_aprox_usd\"] = data.loc[data_prices_imput.index, \"price_usd_per_m2\"] * data.loc[data_prices_imput.index, \"surface_total_in_m2\"]"
   ]
  },
  {
   "cell_type": "markdown",
   "id": "7b0aae7b",
   "metadata": {},
   "source": [
    "### Obtencion de price_usd_per_m2 mediante imputacion directa en funcion de surface y price"
   ]
  },
  {
   "cell_type": "markdown",
   "id": "42f74ca6",
   "metadata": {},
   "source": [
    "##### El valor de price_usd_per_m2 se obtiene mediante la formula **price_usd_per_m2 = price_aprox_in_usd / surface_total_in_m2**"
   ]
  },
  {
   "cell_type": "code",
   "execution_count": 154,
   "id": "8b9566e4",
   "metadata": {},
   "outputs": [
    {
     "name": "stdout",
     "output_type": "stream",
     "text": [
      "Cantidad de instancias de price_usd_per_m2 a imputar=  2558\n"
     ]
    }
   ],
   "source": [
    "# Se obtiene un dataframe con los valores no nulos de cualquiera de las dos surfaces, no nulos de price_aprox_usd y nulos de price_usd_per_m2\n",
    "condition_surfaces_notnull = data.surface_total_in_m2.notnull() | data.surface_covered_in_m2.notnull()\n",
    "condition_price_notnull = data.price_aprox_usd.notnull()\n",
    "condition_price_per_m2_null = data.price_usd_per_m2.isnull()\n",
    "mask_prices_per_m2_imput = condition_surfaces_notnull & condition_price_notnull & condition_price_per_m2_null\n",
    "data_prices_per_m2_imput = data[mask_prices_per_m2_imput]\n",
    "\n",
    "print (\"Cantidad de instancias de price_usd_per_m2 a imputar= \", data_prices_per_m2_imput.shape[0])"
   ]
  },
  {
   "cell_type": "code",
   "execution_count": 155,
   "id": "f0d6dcf2",
   "metadata": {},
   "outputs": [],
   "source": [
    "# Se imputa el valor de price_usd_per_m2 como price_usd_per_m2 = price_aprox_usd / surface_total_in_m2\n",
    "data.loc[data_prices_per_m2_imput.index,\"price_usd_per_m2\"] = data.loc[data_prices_per_m2_imput.index, \"price_aprox_usd\"] / data.loc[data_prices_per_m2_imput.index, \"surface_total_in_m2\"]"
   ]
  },
  {
   "cell_type": "markdown",
   "id": "53486ccb",
   "metadata": {},
   "source": [
    "### Obtencion de rooms_per_m2 en funcion de rooms y surface_covered_in_m2"
   ]
  },
  {
   "cell_type": "code",
   "execution_count": 156,
   "id": "92ad9b49",
   "metadata": {},
   "outputs": [],
   "source": [
    "#Se obtiene un dataframe con los valores no nulos de surface_covereD_in_m2, no nulos de rooms y nulos de rooms_per_m2\n",
    "data_rooms_per_m2 = data[data.rooms.notnull() & data.surface_covered_in_m2.notnull() & data.rooms_per_m2.isnull()]\n",
    "\n",
    "data.loc[data_rooms_per_m2.index,\"rooms_per_m2\"] = data.loc[data_rooms_per_m2.index,\"rooms\"] / data.loc[data_rooms_per_m2.index,\"surface_covered_in_m2\"]"
   ]
  },
  {
   "cell_type": "markdown",
   "id": "3e646901",
   "metadata": {},
   "source": [
    "#### Validacion de datos"
   ]
  },
  {
   "cell_type": "code",
   "execution_count": 157,
   "id": "1010c719",
   "metadata": {},
   "outputs": [
    {
     "data": {
      "text/plain": [
       "operation                    0\n",
       "property_type                0\n",
       "country_name                 0\n",
       "state_name                   0\n",
       "city_name                 3653\n",
       "neighborhood_name        62863\n",
       "geonames_id              14231\n",
       "lat                        328\n",
       "lon                        328\n",
       "price_aprox_usd          14861\n",
       "surface_total_in_m2       4302\n",
       "surface_covered_in_m2     4302\n",
       "price_usd_per_m2         17960\n",
       "floor                    92688\n",
       "rooms_per_m2              4579\n",
       "rooms                     4576\n",
       "expenses                 82414\n",
       "description                  2\n",
       "title                        0\n",
       "fecha                        0\n",
       "dtype: int64"
      ]
     },
     "execution_count": 157,
     "metadata": {},
     "output_type": "execute_result"
    }
   ],
   "source": [
    "data_validation(data)"
   ]
  },
  {
   "cell_type": "code",
   "execution_count": 158,
   "id": "a1fadf4b",
   "metadata": {},
   "outputs": [
    {
     "name": "stdout",
     "output_type": "stream",
     "text": [
      "count     79674.000000\n",
      "mean     159601.893499\n",
      "std      102112.576886\n",
      "min        1000.000000\n",
      "25%       85000.000000\n",
      "50%      129000.000000\n",
      "75%      207000.000000\n",
      "max      530000.000000\n",
      "Name: price_aprox_usd, dtype: float64\n"
     ]
    },
    {
     "name": "stderr",
     "output_type": "stream",
     "text": [
      "C:\\Users\\gtoso\\anaconda3\\envs\\dhdsblend2021\\lib\\site-packages\\seaborn\\distributions.py:2551: FutureWarning: `distplot` is a deprecated function and will be removed in a future version. Please adapt your code to use either `displot` (a figure-level function with similar flexibility) or `histplot` (an axes-level function for histograms).\n",
      "  warnings.warn(msg, FutureWarning)\n",
      "C:\\Users\\gtoso\\anaconda3\\envs\\dhdsblend2021\\lib\\site-packages\\seaborn\\distributions.py:2551: FutureWarning: `distplot` is a deprecated function and will be removed in a future version. Please adapt your code to use either `displot` (a figure-level function with similar flexibility) or `histplot` (an axes-level function for histograms).\n",
      "  warnings.warn(msg, FutureWarning)\n"
     ]
    },
    {
     "data": {
      "image/png": "[encoded data removed]",
      "text/plain": [
       "<Figure size 648x576 with 1 Axes>"
      ]
     },
     "metadata": {
      "needs_background": "light"
     },
     "output_type": "display_data"
    },
    {
     "data": {
      "image/png": "[encoded data removed]",
      "text/plain": [
       "<Figure size 648x576 with 1 Axes>"
      ]
     },
     "metadata": {
      "needs_background": "light"
     },
     "output_type": "display_data"
    }
   ],
   "source": [
    "import matplotlib.pyplot as plt\n",
    "print(data['price_aprox_usd'].describe())\n",
    "plt.figure(figsize=(9, 8))\n",
    "sns.distplot(data['price_aprox_usd'], color='g', bins=100, hist_kws={'alpha': 0.4});\n",
    "\n",
    "plt.figure(figsize=(9, 8))\n",
    "sns.distplot(data['price_usd_per_m2'], color='g', bins=100, hist_kws={'alpha': 0.4});"
   ]
  },
  {
   "cell_type": "code",
   "execution_count": null,
   "id": "3a6ea394",
   "metadata": {},
   "outputs": [],
   "source": []
  },
  {
   "cell_type": "code",
   "execution_count": 159,
   "id": "2e5423e0",
   "metadata": {},
   "outputs": [
    {
     "data": {
      "text/plain": [
       "array([[<AxesSubplot:title={'center':'geonames_id'}>,\n",
       "        <AxesSubplot:title={'center':'lat'}>,\n",
       "        <AxesSubplot:title={'center':'lon'}>],\n",
       "       [<AxesSubplot:title={'center':'price_aprox_usd'}>,\n",
       "        <AxesSubplot:title={'center':'surface_total_in_m2'}>,\n",
       "        <AxesSubplot:title={'center':'surface_covered_in_m2'}>],\n",
       "       [<AxesSubplot:title={'center':'price_usd_per_m2'}>,\n",
       "        <AxesSubplot:title={'center':'rooms_per_m2'}>,\n",
       "        <AxesSubplot:title={'center':'rooms'}>],\n",
       "       [<AxesSubplot:title={'center':'expenses'}>,\n",
       "        <AxesSubplot:title={'center':'fecha'}>, <AxesSubplot:>]],\n",
       "      dtype=object)"
      ]
     },
     "execution_count": 159,
     "metadata": {},
     "output_type": "execute_result"
    },
    {
     "data": {
      "image/png": "[encoded data removed]",
      "text/plain": [
       "<Figure size 1152x1440 with 12 Axes>"
      ]
     },
     "metadata": {
      "needs_background": "light"
     },
     "output_type": "display_data"
    }
   ],
   "source": [
    "data.hist(figsize=(16, 20), bins=50, xlabelsize=8, ylabelsize=8)"
   ]
  },
  {
   "cell_type": "code",
   "execution_count": 160,
   "id": "a6c93569",
   "metadata": {},
   "outputs": [
    {
     "data": {
      "text/plain": [
       "geonames_id             -0.115696\n",
       "lat                     -0.118468\n",
       "lon                      0.276468\n",
       "price_aprox_usd          0.268770\n",
       "surface_total_in_m2     -0.367381\n",
       "surface_covered_in_m2   -0.341924\n",
       "price_usd_per_m2         1.000000\n",
       "rooms_per_m2             0.219042\n",
       "rooms                   -0.285019\n",
       "expenses                 0.020151\n",
       "fecha                         NaN\n",
       "Name: price_usd_per_m2, dtype: float64"
      ]
     },
     "execution_count": 160,
     "metadata": {},
     "output_type": "execute_result"
    }
   ],
   "source": [
    "data_num_corr = data.corr()['price_usd_per_m2']\n",
    "data_num_corr"
   ]
  },
  {
   "cell_type": "code",
   "execution_count": 161,
   "id": "9ae51ced",
   "metadata": {},
   "outputs": [
    {
     "data": {
      "image/png": "[encoded data removed]",
      "text/plain": [
       "<Figure size 864x720 with 2 Axes>"
      ]
     },
     "metadata": {
      "needs_background": "light"
     },
     "output_type": "display_data"
    }
   ],
   "source": [
    "corr = data.corr() \n",
    "plt.figure(figsize=(12, 10))\n",
    "\n",
    "sns.heatmap(corr[(corr >= 0.5) | (corr <= -0.4)], \n",
    "            cmap='viridis', vmax=1.0, vmin=-1.0, linewidths=0.1,\n",
    "            annot=True, annot_kws={\"size\": 8}, square=True);"
   ]
  },
  {
   "cell_type": "code",
   "execution_count": null,
   "id": "c309e252",
   "metadata": {},
   "outputs": [],
   "source": []
  }
 ],
 "metadata": {
  "kernelspec": {
   "display_name": "Python 3 (ipykernel)",
   "language": "python",
   "name": "python3"
  },
  "language_info": {
   "codemirror_mode": {
    "name": "ipython",
    "version": 3
   },
   "file_extension": ".py",
   "mimetype": "text/x-python",
   "name": "python",
   "nbconvert_exporter": "python",
   "pygments_lexer": "ipython3",
   "version": "3.8.13"
  }
 },
 "nbformat": 4,
 "nbformat_minor": 5
}
