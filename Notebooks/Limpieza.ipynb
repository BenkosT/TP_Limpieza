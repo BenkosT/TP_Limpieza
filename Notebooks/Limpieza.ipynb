{
 "cells": [
  {
   "cell_type": "markdown",
   "id": "3fb4669a",
   "metadata": {},
   "source": [
    "# **Estandarizacion de nombres de mascaras, dataset y demas:**\n",
    "- Al aplicarle una mascara a un dataset seria conveniente primero definir la mascara y en otra linea de codigo aplicarsela al dataset. Esto para que podamos ver bien que le estamos aplicando y que condiciones tiene esa mascara.\n",
    "- Ojo con utilizar mascaras o alguna otra variable, dataframe y demas, definida mucho mas arriba. No vaya a ser que le cambiemos el nombre por x motivo y nos ollvidamos que mas abajo la usamos para otra cosa y se rompa todo\n",
    "- Los nombres para las cosas que sean en ingles, separando las palabras con \" _ \" y en lo posible que se pueda intuir mediante el nombre a que se refiere\n",
    "- Como practica totalmente arbitraria intentar que los nombres no tengan mas de 5 palabras. ej: \" mask_rooms_zeros \" , \" mask_rooms_surf_zeros \" y asi\n",
    "- Si le llamamos \" mask \" a algo, que realmente lo sea. No que sea ya una mascara aplicada a un dataset. Eso es el dataset data filtrado por la mascara\n",
    "- A estos nuevos dataset llamemosle igual que la mascara que le aplicamos solo que reemplazamos el nombre mask por data. ej:  \" mask_rooms_zeros \"=  \" data_rooms_zeros \";                   \" data_rooms_surf_zeros \" = \" data_rooms_surf_zeros \"\n",
    "- Cuando creemos un nuevo dataset, un array, una lista, una serie, mascara o lo que sea poner primero el nombre del tipo de objeto y despues lo que hace, para saber lo que es eso\n",
    "- Cuando hacemos una mascara para ver si algo es nulo o cero ponemos solo \" null \". Es para no alargar los nombres\n",
    "\n"
   ]
  },
  {
   "cell_type": "markdown",
   "id": "7e95bd43",
   "metadata": {},
   "source": [
    "# Vemos como vamos aca 03/05"
   ]
  },
  {
   "cell_type": "markdown",
   "id": "6ad38a6c",
   "metadata": {},
   "source": [
    "## Hasta aca realizamos\n",
    "- Transformacion de todos los ceros a nulos\n",
    "- Limpieza de filas nulas\n",
    "- Eliminacion de columnas sin informacion relevante y con informacion redundante\n",
    "- Eliminacion de state_name que representen menos del 1% del total de instancias\n",
    "- Correccion en las variables surface_covered_in_m2 y surface_total_in_m2 en los casos que la primera era mayor que la segunda no siendo posible esto\n",
    "- Imputacion de nulos en la columna place_name (si hacemos el paso del split de place_with_parent_names ese paso hay que eliminarlo)\n",
    "- imputacion de datos de price_aprox_usd, surface_total_in_m2 y rooms mediante expresiones regulares de las columnas description y title\n",
    "- Imputacion de datos en surface_covered_in_m2 y surface_total_in_m2 cuando uno era nulo pero el otro no\n",
    "- Imputacion de las variables surface_total_in_m2, price_aprox_usd y price_usd_per_m2 mediante deduccion de otras variables conocidas\n",
    "\n",
    "## Falta realizar\n",
    "- Definir si se desechan las instancias que representen menos del 1% en funcion del state_name. Este es un problema de granulacion, ya que con la actual nos quedamos con muy pocas instancias para el modelo, pero aumentando la granulacion (haciendo una agregacion de todas estas en una nueva categoria, ej: resto del pais), no desechamos las instancias y solo perdemos granularidad pero no toda la informacion. **PREGUNTAR A FABRI**\n",
    "- Corregir el patron con el que se busca el precio, para encontrar valores en pesos tambien, haciendo dos grupos, de esta manera el que matchee el grupo dolar se imputa directamente y el que matchee el grupo pesos imputarlo haciendo una conversion del valor. Por facilidad de codigo se imputa el primer grupo que matchea. **GERA , BENKOS Y ERICK**\n",
    "- Sofisticar los patrones de las expresiones regulares para encontrar mas valores, especialmente en superficie. **GERA , BENKOS Y ERICK**\n",
    "- La columna operation y country_name contienen una unica variable, en el caso de operation es sell y en el caso de country_name es argentina. No tiene sentido mantener las columnas siendo que no aportan informacion. Definir su tratamiento **PREGUNTAR A FABRI**\n",
    "- Realizar una imputacion con media condicionada en rooms por superficie, y lugar. **GERA , BENKOS y ERICK** (falta la imputacion que no se bien como hacerla)\n",
    "- Realizar una imputacion por media condicionada en superficie por media condicionada en rooms y lugar **GERA , BENKOS y ERICK** (falta la imputacion que no se bien como hacerla)\n",
    "- Revisar si no hay otra forma de determinar el price y el price por metro cuadrado y si no lo hay tirar estas instancias que sean nulas **GERA , BENKOS y ERICK**\n",
    "- Darle un tratamiento a expensas y floor. En propiedades tipo casas esta bien que sean nulas pero en departamentos no. Igualmente hay informacion ahi, quizas no sea bueno tirarla. *Como propuesta podriamos buscarlo con expresiones regulares en description y title ya que no tenemos de donde mas sacarla* *Tambien se podria ver la correlacion entre las expensas y el lugar y la superficie y si se encuentra una correlacion imputarlo por media condicionada por ejemplo **GERA , BENKOS y ERICK** **PREGUNTAR A FABRI**\n",
    "- Darle un tratamiento a lat y lon y geonames id **JUEVES**\n",
    "- Creacion de nuevas columnas estilo **Cercania a un espacio verde** **Cercania a un subte** **Mapa de delito** **GERA, BENKOS y ERICK**\n",
    "- EDA: deteccion de outliers y representacion de datos y medidas estadisticas **PABLO Y ALE**\n",
    "- Presentacion, formato revision de integridad de informacion **PABLO Y ALE**"
   ]
  },
  {
   "cell_type": "markdown",
   "id": "50bc411f",
   "metadata": {},
   "source": [
    "# Importacion de librerias utilizadas"
   ]
  },
  {
   "cell_type": "code",
   "execution_count": 1,
   "id": "9863cce4",
   "metadata": {},
   "outputs": [],
   "source": [
    "import pandas as pd\n",
    "import numpy as np\n",
    "import re"
   ]
  },
  {
   "cell_type": "markdown",
   "id": "e89f730f",
   "metadata": {},
   "source": [
    "# Carga de la data de Properatti como un DataFrame de Pandas"
   ]
  },
  {
   "cell_type": "code",
   "execution_count": 2,
   "id": "56d7f61f",
   "metadata": {},
   "outputs": [
    {
     "data": {
      "text/html": [
       "<div>\n",
       "<style scoped>\n",
       "    .dataframe tbody tr th:only-of-type {\n",
       "        vertical-align: middle;\n",
       "    }\n",
       "\n",
       "    .dataframe tbody tr th {\n",
       "        vertical-align: top;\n",
       "    }\n",
       "\n",
       "    .dataframe thead th {\n",
       "        text-align: right;\n",
       "    }\n",
       "</style>\n",
       "<table border=\"1\" class=\"dataframe\">\n",
       "  <thead>\n",
       "    <tr style=\"text-align: right;\">\n",
       "      <th></th>\n",
       "      <th>operation</th>\n",
       "      <th>property_type</th>\n",
       "      <th>place_name</th>\n",
       "      <th>place_with_parent_names</th>\n",
       "      <th>country_name</th>\n",
       "      <th>state_name</th>\n",
       "      <th>geonames_id</th>\n",
       "      <th>lat-lon</th>\n",
       "      <th>lat</th>\n",
       "      <th>lon</th>\n",
       "      <th>...</th>\n",
       "      <th>surface_covered_in_m2</th>\n",
       "      <th>price_usd_per_m2</th>\n",
       "      <th>price_per_m2</th>\n",
       "      <th>floor</th>\n",
       "      <th>rooms</th>\n",
       "      <th>expenses</th>\n",
       "      <th>properati_url</th>\n",
       "      <th>description</th>\n",
       "      <th>title</th>\n",
       "      <th>image_thumbnail</th>\n",
       "    </tr>\n",
       "  </thead>\n",
       "  <tbody>\n",
       "    <tr>\n",
       "      <th>0</th>\n",
       "      <td>sell</td>\n",
       "      <td>PH</td>\n",
       "      <td>Mataderos</td>\n",
       "      <td>|Argentina|Capital Federal|Mataderos|</td>\n",
       "      <td>Argentina</td>\n",
       "      <td>Capital Federal</td>\n",
       "      <td>3430787.0</td>\n",
       "      <td>-34.6618237,-58.5088387</td>\n",
       "      <td>-34.661824</td>\n",
       "      <td>-58.508839</td>\n",
       "      <td>...</td>\n",
       "      <td>40.0</td>\n",
       "      <td>1127.272727</td>\n",
       "      <td>1550.000000</td>\n",
       "      <td>NaN</td>\n",
       "      <td>NaN</td>\n",
       "      <td>NaN</td>\n",
       "      <td>http://www.properati.com.ar/15bo8_venta_ph_mat...</td>\n",
       "      <td>2 AMBIENTES TIPO CASA PLANTA BAJA POR PASILLO,...</td>\n",
       "      <td>2 AMB TIPO CASA SIN EXPENSAS EN PB</td>\n",
       "      <td>https://thumbs4.properati.com/8/BluUYiHJLhgIIK...</td>\n",
       "    </tr>\n",
       "    <tr>\n",
       "      <th>1</th>\n",
       "      <td>sell</td>\n",
       "      <td>apartment</td>\n",
       "      <td>La Plata</td>\n",
       "      <td>|Argentina|Bs.As. G.B.A. Zona Sur|La Plata|</td>\n",
       "      <td>Argentina</td>\n",
       "      <td>Bs.As. G.B.A. Zona Sur</td>\n",
       "      <td>3432039.0</td>\n",
       "      <td>-34.9038831,-57.9643295</td>\n",
       "      <td>-34.903883</td>\n",
       "      <td>-57.964330</td>\n",
       "      <td>...</td>\n",
       "      <td>NaN</td>\n",
       "      <td>NaN</td>\n",
       "      <td>NaN</td>\n",
       "      <td>NaN</td>\n",
       "      <td>NaN</td>\n",
       "      <td>NaN</td>\n",
       "      <td>http://www.properati.com.ar/15bob_venta_depart...</td>\n",
       "      <td>Venta de departamento en décimo piso al frente...</td>\n",
       "      <td>VENTA Depto 2 dorm. a estrenar 7 e/ 36 y 37   ...</td>\n",
       "      <td>https://thumbs4.properati.com/7/ikpVBu2ztHA7jv...</td>\n",
       "    </tr>\n",
       "    <tr>\n",
       "      <th>2</th>\n",
       "      <td>sell</td>\n",
       "      <td>apartment</td>\n",
       "      <td>Mataderos</td>\n",
       "      <td>|Argentina|Capital Federal|Mataderos|</td>\n",
       "      <td>Argentina</td>\n",
       "      <td>Capital Federal</td>\n",
       "      <td>3430787.0</td>\n",
       "      <td>-34.6522615,-58.5229825</td>\n",
       "      <td>-34.652262</td>\n",
       "      <td>-58.522982</td>\n",
       "      <td>...</td>\n",
       "      <td>55.0</td>\n",
       "      <td>1309.090909</td>\n",
       "      <td>1309.090909</td>\n",
       "      <td>NaN</td>\n",
       "      <td>NaN</td>\n",
       "      <td>NaN</td>\n",
       "      <td>http://www.properati.com.ar/15bod_venta_depart...</td>\n",
       "      <td>2 AMBIENTES 3ER PISO LATERAL LIVING COMEDOR AM...</td>\n",
       "      <td>2 AMB 3ER PISO CON ASCENSOR APTO CREDITO</td>\n",
       "      <td>https://thumbs4.properati.com/5/SXKr34F_IwG3W_...</td>\n",
       "    </tr>\n",
       "  </tbody>\n",
       "</table>\n",
       "<p>3 rows × 25 columns</p>\n",
       "</div>"
      ],
      "text/plain": [
       "  operation property_type place_name  \\\n",
       "0      sell            PH  Mataderos   \n",
       "1      sell     apartment   La Plata   \n",
       "2      sell     apartment  Mataderos   \n",
       "\n",
       "                       place_with_parent_names country_name  \\\n",
       "0        |Argentina|Capital Federal|Mataderos|    Argentina   \n",
       "1  |Argentina|Bs.As. G.B.A. Zona Sur|La Plata|    Argentina   \n",
       "2        |Argentina|Capital Federal|Mataderos|    Argentina   \n",
       "\n",
       "               state_name  geonames_id                  lat-lon        lat  \\\n",
       "0         Capital Federal    3430787.0  -34.6618237,-58.5088387 -34.661824   \n",
       "1  Bs.As. G.B.A. Zona Sur    3432039.0  -34.9038831,-57.9643295 -34.903883   \n",
       "2         Capital Federal    3430787.0  -34.6522615,-58.5229825 -34.652262   \n",
       "\n",
       "         lon  ...  surface_covered_in_m2 price_usd_per_m2  price_per_m2  \\\n",
       "0 -58.508839  ...                   40.0      1127.272727   1550.000000   \n",
       "1 -57.964330  ...                    NaN              NaN           NaN   \n",
       "2 -58.522982  ...                   55.0      1309.090909   1309.090909   \n",
       "\n",
       "   floor  rooms  expenses                                      properati_url  \\\n",
       "0    NaN    NaN       NaN  http://www.properati.com.ar/15bo8_venta_ph_mat...   \n",
       "1    NaN    NaN       NaN  http://www.properati.com.ar/15bob_venta_depart...   \n",
       "2    NaN    NaN       NaN  http://www.properati.com.ar/15bod_venta_depart...   \n",
       "\n",
       "                                         description  \\\n",
       "0  2 AMBIENTES TIPO CASA PLANTA BAJA POR PASILLO,...   \n",
       "1  Venta de departamento en décimo piso al frente...   \n",
       "2  2 AMBIENTES 3ER PISO LATERAL LIVING COMEDOR AM...   \n",
       "\n",
       "                                               title  \\\n",
       "0                 2 AMB TIPO CASA SIN EXPENSAS EN PB   \n",
       "1  VENTA Depto 2 dorm. a estrenar 7 e/ 36 y 37   ...   \n",
       "2           2 AMB 3ER PISO CON ASCENSOR APTO CREDITO   \n",
       "\n",
       "                                     image_thumbnail  \n",
       "0  https://thumbs4.properati.com/8/BluUYiHJLhgIIK...  \n",
       "1  https://thumbs4.properati.com/7/ikpVBu2ztHA7jv...  \n",
       "2  https://thumbs4.properati.com/5/SXKr34F_IwG3W_...  \n",
       "\n",
       "[3 rows x 25 columns]"
      ]
     },
     "execution_count": 2,
     "metadata": {},
     "output_type": "execute_result"
    }
   ],
   "source": [
    "data_location = \"../Data/properatti.csv\"\n",
    "\n",
    "data = pd.read_csv(data_location, index_col=0)\n",
    "data.head(3)"
   ]
  },
  {
   "cell_type": "markdown",
   "id": "b16fabaf",
   "metadata": {},
   "source": [
    "# Renombro la columna lat-lon para evitar problemas"
   ]
  },
  {
   "cell_type": "code",
   "execution_count": 3,
   "id": "09b4fba5",
   "metadata": {},
   "outputs": [],
   "source": [
    "data.rename(columns={'lat-lon': 'lat_lon'}, inplace=True)"
   ]
  },
  {
   "cell_type": "markdown",
   "id": "79f2e594",
   "metadata": {},
   "source": [
    "# Verificacion de instancias nulas"
   ]
  },
  {
   "cell_type": "code",
   "execution_count": 4,
   "id": "42205a8a",
   "metadata": {},
   "outputs": [
    {
     "name": "stdout",
     "output_type": "stream",
     "text": [
      "(121220, 25)\n",
      "(121220, 25)\n"
     ]
    }
   ],
   "source": [
    "# Comprobamos la cantidad de filas donde tengan valor nulo en todas las columnas y las eliminamos  \n",
    "data_clean_empty_row = data.dropna(axis = 0, how= 'all')\n",
    "print(data.shape)\n",
    "print(data_clean_empty_row.shape)\n",
    "#En este caso no hay ninguna fila con todos los valores nulos"
   ]
  },
  {
   "cell_type": "markdown",
   "id": "e78deaa1",
   "metadata": {},
   "source": [
    "# Tratamiento de ceros en columnas"
   ]
  },
  {
   "cell_type": "markdown",
   "id": "4dd249ce",
   "metadata": {},
   "source": [
    "#### Dado que no hay ninguna variable que pueda tomar el valor cero, se van a reemplazar todos los valores ceros por NaN, para mejor tratamiento de los mismos"
   ]
  },
  {
   "cell_type": "code",
   "execution_count": 5,
   "id": "56b07202",
   "metadata": {},
   "outputs": [
    {
     "data": {
      "text/plain": [
       "operation                       0\n",
       "property_type                   0\n",
       "place_name                      0\n",
       "place_with_parent_names         0\n",
       "country_name                    0\n",
       "state_name                      0\n",
       "geonames_id                     0\n",
       "lat_lon                         0\n",
       "lat                             0\n",
       "lon                             0\n",
       "price                           1\n",
       "currency                        0\n",
       "price_aprox_local_currency      1\n",
       "price_aprox_usd                 1\n",
       "surface_total_in_m2           383\n",
       "surface_covered_in_m2           2\n",
       "price_usd_per_m2                0\n",
       "price_per_m2                    0\n",
       "floor                           0\n",
       "rooms                           0\n",
       "expenses                        0\n",
       "properati_url                   0\n",
       "description                     0\n",
       "title                           0\n",
       "image_thumbnail                 0\n",
       "dtype: int64"
      ]
     },
     "execution_count": 5,
     "metadata": {},
     "output_type": "execute_result"
    }
   ],
   "source": [
    "# Cantidad totales de ceros en el dataset\n",
    "(data==0).sum()"
   ]
  },
  {
   "cell_type": "code",
   "execution_count": 6,
   "id": "e01cc492",
   "metadata": {},
   "outputs": [
    {
     "data": {
      "text/plain": [
       "operation                     0\n",
       "property_type                 0\n",
       "place_name                    0\n",
       "place_with_parent_names       0\n",
       "country_name                  0\n",
       "state_name                    0\n",
       "geonames_id                   0\n",
       "lat_lon                       0\n",
       "lat                           0\n",
       "lon                           0\n",
       "price                         0\n",
       "currency                      0\n",
       "price_aprox_local_currency    0\n",
       "price_aprox_usd               0\n",
       "surface_total_in_m2           0\n",
       "surface_covered_in_m2         0\n",
       "price_usd_per_m2              0\n",
       "price_per_m2                  0\n",
       "floor                         0\n",
       "rooms                         0\n",
       "expenses                      0\n",
       "properati_url                 0\n",
       "description                   0\n",
       "title                         0\n",
       "image_thumbnail               0\n",
       "dtype: int64"
      ]
     },
     "execution_count": 6,
     "metadata": {},
     "output_type": "execute_result"
    }
   ],
   "source": [
    "# Cambio valores iguales a cero por NaN\n",
    "data[data==0] = np.nan\n",
    "(data==0).sum()"
   ]
  },
  {
   "cell_type": "markdown",
   "id": "4b8a93d2",
   "metadata": {},
   "source": [
    "# Tratamiento de columnas con informacion no util o con informacion redundante"
   ]
  },
  {
   "cell_type": "markdown",
   "id": "d0d95347",
   "metadata": {},
   "source": [
    "## Tratamiento de columnas *properati_url* y *image_thumbnail*"
   ]
  },
  {
   "cell_type": "markdown",
   "id": "4ac06353",
   "metadata": {},
   "source": [
    "#### Vamos a desechar las columnas *properati_url* y *image_thumbnail* ya que no aportan informacion util"
   ]
  },
  {
   "cell_type": "code",
   "execution_count": 7,
   "id": "8dcd2c66",
   "metadata": {},
   "outputs": [
    {
     "name": "stdout",
     "output_type": "stream",
     "text": [
      "cantidad de columnas actuales= 23\n"
     ]
    }
   ],
   "source": [
    "# desechamos las columnas properati_url y image_thumbnail de data\n",
    "data = data.drop(['properati_url', 'image_thumbnail'], axis=1)\n",
    "print(\"cantidad de columnas actuales=\",data.shape[1])"
   ]
  },
  {
   "cell_type": "markdown",
   "id": "02ccefb5",
   "metadata": {},
   "source": [
    "## Tratamiento de columnas *price* , *price_aprox_local_currency* y *price_aprox_usd* "
   ]
  },
  {
   "cell_type": "markdown",
   "id": "19abe380",
   "metadata": {},
   "source": [
    "#### Vamos a quedarnos solo con la columna **price_aprox_usd** pudiendo desechar las columnas **price** y **price_aprox_local_currency** como asi tambien la columna **currency** ya que no aporta informacion adicional \n",
    "**Asumimos igual fiabilidad de los datos en las tres variables**"
   ]
  },
  {
   "cell_type": "code",
   "execution_count": 8,
   "id": "23c29387",
   "metadata": {},
   "outputs": [
    {
     "name": "stdout",
     "output_type": "stream",
     "text": [
      "Cantidad de nulos en price=  20411\n",
      "cantidad de nulos en price_aprox_local_currency=  20411\n",
      "Cantida de nulos en price_aprox_usd=  20411\n",
      "Cantidad de nulos en la interseccion de las mascaras=  20411\n",
      "True\n"
     ]
    }
   ],
   "source": [
    "#Voy a verificar que no haya mas informacion en una columna que en las otras\n",
    "\n",
    "#Hago tres mascaras para las variables de precios que contengan los nulos de las mismas\n",
    "mask_price_null = data.price.isnull()\n",
    "mask_price_aprox_local_currency_null = data.price_aprox_local_currency.isnull()\n",
    "mask_price_aprox_usd_null = data.price_aprox_usd.isnull()\n",
    "\n",
    "#Hago una interseccion de las tres mascaras\n",
    "mask_prices_null = mask_price_null & mask_price_aprox_local_currency_null & mask_price_aprox_usd_null\n",
    "\n",
    "#Si las tres mascaras tienen cada una la misma cantidad de elementos que la interseccion significa que los nulos se encuentran siempre en las mismas instancias\n",
    "print(\"Cantidad de nulos en price= \" , mask_price_null.sum())\n",
    "print(\"cantidad de nulos en price_aprox_local_currency= \" , mask_price_aprox_local_currency_null.sum())\n",
    "print(\"Cantida de nulos en price_aprox_usd= \" , mask_price_aprox_usd_null.sum())\n",
    "print(\"Cantidad de nulos en la interseccion de las mascaras= \" , mask_prices_null.sum())\n",
    "\n",
    "#Devuelve un True si la cantidad de nulos es la misma en todas las mascaras por lo que la interseccion es perfecta\n",
    "print(mask_price_null.sum()==mask_price_aprox_local_currency_null.sum()==mask_price_aprox_usd_null.sum()==mask_prices_null.sum())"
   ]
  },
  {
   "cell_type": "code",
   "execution_count": 9,
   "id": "8f48ccae",
   "metadata": {},
   "outputs": [
    {
     "name": "stdout",
     "output_type": "stream",
     "text": [
      "cantidad de columnas actuales=  20\n"
     ]
    }
   ],
   "source": [
    "#Desecho las columnas price, price_aprox_local_currency y currency\n",
    "data = data.drop(['price', 'price_aprox_local_currency' , 'currency'], axis=1)\n",
    "print(\"cantidad de columnas actuales= \",data.shape[1])"
   ]
  },
  {
   "cell_type": "markdown",
   "id": "31f93498",
   "metadata": {},
   "source": [
    "## Tratamiento de columnas *price_usd_per_m2* y *price_per_m2*"
   ]
  },
  {
   "cell_type": "markdown",
   "id": "c86b9c6c",
   "metadata": {},
   "source": [
    "#### Vamos a desechar la columna *price_per_m2* ya que es redundante con *price_usd_per_m2*\n",
    "**Asumimos igual fiabilidad de datos en ambas variables**"
   ]
  },
  {
   "cell_type": "code",
   "execution_count": 10,
   "id": "5a9cce83",
   "metadata": {},
   "outputs": [
    {
     "name": "stdout",
     "output_type": "stream",
     "text": [
      "Cantidad de nulos en price_per_m2=  33562\n",
      "cantidad de nulos en price_usd_per_m2=  52603\n",
      "Cantidad de nulos en la interseccion de las mascaras=  28295\n",
      "False\n"
     ]
    }
   ],
   "source": [
    "#Voy a verificar que no haya mas informacion en una columna que en las otras\n",
    "\n",
    "#Hago dos mascaras para las variables de precios por metro cuadrado que contengan los nulos de las mismas\n",
    "mask_price_per_m2_null = data.price_per_m2.isnull()\n",
    "mask_price_usd_per_m2_null = data.price_usd_per_m2.isnull()\n",
    "\n",
    "#Hago una interseccion de las dos mascaras\n",
    "mask_prices_per_m2_null = mask_price_per_m2_null & mask_price_usd_per_m2_null \n",
    "\n",
    "#Si las tres mascaras tienen cada una la misma cantidad de elementos que la interseccion significa que los nulos se encuentran siempre en las mismas instancias\n",
    "print(\"Cantidad de nulos en price_per_m2= \" , mask_price_per_m2_null.sum())\n",
    "print(\"cantidad de nulos en price_usd_per_m2= \" , mask_price_usd_per_m2_null.sum())\n",
    "print(\"Cantidad de nulos en la interseccion de las mascaras= \" , mask_prices_per_m2_null.sum())\n",
    "\n",
    "#Devuelve un True si la cantidad de nulos es la misma en todas las mascaras por lo que la interseccion es perfecta\n",
    "print(mask_price_per_m2_null.sum()==mask_price_usd_per_m2_null.sum()==mask_prices_per_m2_null.sum())"
   ]
  },
  {
   "cell_type": "markdown",
   "id": "3751dd8e",
   "metadata": {},
   "source": [
    "#### Como hay mas informacion en una columna que en la otra, veo en que instancias es nula la columna price_usd_per_m2 pero no lo es la columna price_per_m2 (solamente lo hago en esta ya que es la columna con la que nos vamos a quedar)"
   ]
  },
  {
   "cell_type": "code",
   "execution_count": 11,
   "id": "8529bcdc",
   "metadata": {},
   "outputs": [
    {
     "data": {
      "text/html": [
       "<div>\n",
       "<style scoped>\n",
       "    .dataframe tbody tr th:only-of-type {\n",
       "        vertical-align: middle;\n",
       "    }\n",
       "\n",
       "    .dataframe tbody tr th {\n",
       "        vertical-align: top;\n",
       "    }\n",
       "\n",
       "    .dataframe thead th {\n",
       "        text-align: right;\n",
       "    }\n",
       "</style>\n",
       "<table border=\"1\" class=\"dataframe\">\n",
       "  <thead>\n",
       "    <tr style=\"text-align: right;\">\n",
       "      <th></th>\n",
       "      <th>price_usd_per_m2</th>\n",
       "      <th>price_per_m2</th>\n",
       "    </tr>\n",
       "  </thead>\n",
       "  <tbody>\n",
       "    <tr>\n",
       "      <th>68</th>\n",
       "      <td>NaN</td>\n",
       "      <td>3263.888889</td>\n",
       "    </tr>\n",
       "    <tr>\n",
       "      <th>77</th>\n",
       "      <td>NaN</td>\n",
       "      <td>1764.705882</td>\n",
       "    </tr>\n",
       "    <tr>\n",
       "      <th>79</th>\n",
       "      <td>NaN</td>\n",
       "      <td>2809.523810</td>\n",
       "    </tr>\n",
       "    <tr>\n",
       "      <th>87</th>\n",
       "      <td>NaN</td>\n",
       "      <td>5147.058824</td>\n",
       "    </tr>\n",
       "    <tr>\n",
       "      <th>89</th>\n",
       "      <td>NaN</td>\n",
       "      <td>943.396226</td>\n",
       "    </tr>\n",
       "    <tr>\n",
       "      <th>...</th>\n",
       "      <td>...</td>\n",
       "      <td>...</td>\n",
       "    </tr>\n",
       "    <tr>\n",
       "      <th>121150</th>\n",
       "      <td>NaN</td>\n",
       "      <td>1826.923077</td>\n",
       "    </tr>\n",
       "    <tr>\n",
       "      <th>121151</th>\n",
       "      <td>NaN</td>\n",
       "      <td>1666.666667</td>\n",
       "    </tr>\n",
       "    <tr>\n",
       "      <th>121152</th>\n",
       "      <td>NaN</td>\n",
       "      <td>2257.575758</td>\n",
       "    </tr>\n",
       "    <tr>\n",
       "      <th>121155</th>\n",
       "      <td>NaN</td>\n",
       "      <td>1307.692308</td>\n",
       "    </tr>\n",
       "    <tr>\n",
       "      <th>121156</th>\n",
       "      <td>NaN</td>\n",
       "      <td>1307.692308</td>\n",
       "    </tr>\n",
       "  </tbody>\n",
       "</table>\n",
       "<p>24308 rows × 2 columns</p>\n",
       "</div>"
      ],
      "text/plain": [
       "        price_usd_per_m2  price_per_m2\n",
       "68                   NaN   3263.888889\n",
       "77                   NaN   1764.705882\n",
       "79                   NaN   2809.523810\n",
       "87                   NaN   5147.058824\n",
       "89                   NaN    943.396226\n",
       "...                  ...           ...\n",
       "121150               NaN   1826.923077\n",
       "121151               NaN   1666.666667\n",
       "121152               NaN   2257.575758\n",
       "121155               NaN   1307.692308\n",
       "121156               NaN   1307.692308\n",
       "\n",
       "[24308 rows x 2 columns]"
      ]
     },
     "execution_count": 11,
     "metadata": {},
     "output_type": "execute_result"
    }
   ],
   "source": [
    "#Hago una mascara para ver cuando es nula la columna price_usd_per_m2 pero no lo es price_per_m2\n",
    "mask_prices_per_m2 = data.price_usd_per_m2.isnull() & data.price_per_m2.notnull()\n",
    "data_prices_per_m2 = data [mask_prices_per_m2]\n",
    "data_prices_per_m2[[\"price_usd_per_m2\" , \"price_per_m2\"]]"
   ]
  },
  {
   "cell_type": "code",
   "execution_count": 12,
   "id": "8277a082",
   "metadata": {},
   "outputs": [],
   "source": [
    "#Realizo una imputacion en price_usd_per_m2 mediante price_per_m2\n",
    "\n",
    "#Defino una variable que contenga el valor de conversion de pesos a dolar\n",
    "pesos = 1/200\n",
    "\n",
    "#Imputo en price_usd_per_m2 el valor de price_per_m2 multiplicado por el valor de la conversion de pesos a dolar\n",
    "data.loc[data_prices_per_m2.index,\"price_usd_per_m2\"] = pesos *data.loc[data_prices_per_m2.index, \"price_per_m2\"]"
   ]
  },
  {
   "cell_type": "code",
   "execution_count": 13,
   "id": "e125bd20",
   "metadata": {},
   "outputs": [
    {
     "name": "stdout",
     "output_type": "stream",
     "text": [
      "cantidad de columnas actuales=  19\n"
     ]
    }
   ],
   "source": [
    "#Desecho la columna price_per_m2\n",
    "data = data.drop(['price_per_m2'], axis=1)\n",
    "print(\"cantidad de columnas actuales= \",data.shape[1])"
   ]
  },
  {
   "cell_type": "markdown",
   "id": "06ff51cf",
   "metadata": {},
   "source": [
    "## Tratamiento de columnas *lat-lon*, *lat* y *lon*"
   ]
  },
  {
   "cell_type": "markdown",
   "id": "59c97392",
   "metadata": {},
   "source": [
    "#### Vamos a desechar la columna *lat-lon* ya que es redundante con las columnas *lat* y *lon*\n",
    "**Asumimos igual fiabilidad de datos en las tres variables**"
   ]
  },
  {
   "cell_type": "code",
   "execution_count": 14,
   "id": "ed7bd98f",
   "metadata": {},
   "outputs": [
    {
     "name": "stdout",
     "output_type": "stream",
     "text": [
      "Cantidad de nulos en lat-lon=  51550\n",
      "cantidad de nulos en lat=  51550\n",
      "Cantida de nulos en lon=  51550\n",
      "Cantidad de nulos en la interseccion de las mascaras=  51550\n",
      "True\n"
     ]
    }
   ],
   "source": [
    "#Voy a verificar que no haya mas informacion en una columna que en las otras\n",
    "\n",
    "#Hago tres mascaras para las variables de latitud y longitud que contengan los nulos de las mismas\n",
    "mask_lat_lon_null = data.lat_lon.isnull()\n",
    "mask_lat_null = data.lat.isnull()\n",
    "mask_lon_null = data.lon.isnull()\n",
    "\n",
    "#Hago una interseccion de las tres mascaras\n",
    "mask_inter_lat_lon_null = mask_lat_lon_null & mask_lat_null & mask_lon_null\n",
    "\n",
    "#Si las tres mascaras tienen cada una la misma cantidad de elementos que la interseccion significa que los nulos se encuentran siempre en las mismas instancias\n",
    "print(\"Cantidad de nulos en lat-lon= \" , mask_lat_lon_null.sum())\n",
    "print(\"cantidad de nulos en lat= \" , mask_lat_null.sum())\n",
    "print(\"Cantida de nulos en lon= \" , mask_lon_null.sum())\n",
    "print(\"Cantidad de nulos en la interseccion de las mascaras= \" , mask_inter_lat_lon_null.sum())\n",
    "\n",
    "#Devuelve un True si la cantidad de nulos es la misma en todas las mascaras por lo que la interseccion es perfecta\n",
    "print(mask_lat_lon_null.sum()==mask_lat_null.sum()==mask_lon_null.sum()==mask_inter_lat_lon_null.sum())"
   ]
  },
  {
   "cell_type": "code",
   "execution_count": 15,
   "id": "4d7cac7b",
   "metadata": {},
   "outputs": [
    {
     "name": "stdout",
     "output_type": "stream",
     "text": [
      "cantidad de columnas actuales=  18\n"
     ]
    }
   ],
   "source": [
    "#Desecho la columna lat_lon\n",
    "data = data.drop(['lat_lon'], axis=1)\n",
    "print(\"cantidad de columnas actuales= \",data.shape[1])"
   ]
  },
  {
   "cell_type": "markdown",
   "id": "e97ea709",
   "metadata": {},
   "source": [
    "# Limpieza de datos"
   ]
  },
  {
   "cell_type": "markdown",
   "id": "a0cf2bd8",
   "metadata": {},
   "source": [
    "# Analisis de instancias en funcion del state_name"
   ]
  },
  {
   "cell_type": "code",
   "execution_count": 16,
   "id": "519953b6",
   "metadata": {},
   "outputs": [
    {
     "data": {
      "text/plain": [
       "array(['Capital Federal', 'Bs.As. G.B.A. Zona Sur',\n",
       "       'Buenos Aires Costa Atlántica', 'Entre Ríos',\n",
       "       'Bs.As. G.B.A. Zona Norte', 'Santa Fe', 'Córdoba',\n",
       "       'Bs.As. G.B.A. Zona Oeste', 'Misiones', 'Buenos Aires Interior',\n",
       "       'Salta', 'Neuquén', 'Río Negro', 'San Luis', 'Mendoza',\n",
       "       'Corrientes', 'Chubut', 'Tucumán', 'La Pampa', 'Chaco', 'San Juan',\n",
       "       'Santa Cruz', 'Tierra Del Fuego', 'Catamarca',\n",
       "       'Santiago Del Estero', 'Jujuy', 'La Rioja', 'Formosa'],\n",
       "      dtype=object)"
      ]
     },
     "execution_count": 16,
     "metadata": {},
     "output_type": "execute_result"
    }
   ],
   "source": [
    "# Vemos todos los diferentes state_name que hay en el DataSet\n",
    "data.state_name.unique()"
   ]
  },
  {
   "cell_type": "code",
   "execution_count": 17,
   "id": "aa238b4d",
   "metadata": {},
   "outputs": [
    {
     "data": {
      "text/plain": [
       "Capital Federal                 32316\n",
       "Bs.As. G.B.A. Zona Norte        25560\n",
       "Bs.As. G.B.A. Zona Sur          13952\n",
       "Córdoba                         12069\n",
       "Santa Fe                        10172\n",
       "Buenos Aires Costa Atlántica    10006\n",
       "Bs.As. G.B.A. Zona Oeste         9322\n",
       "Buenos Aires Interior            2291\n",
       "Río Negro                         808\n",
       "Neuquén                           733\n",
       "Mendoza                           681\n",
       "Tucumán                           674\n",
       "Corrientes                        583\n",
       "Misiones                          464\n",
       "Entre Ríos                        369\n",
       "Salta                             278\n",
       "Chubut                            259\n",
       "San Luis                          252\n",
       "La Pampa                          157\n",
       "Formosa                            65\n",
       "Chaco                              57\n",
       "San Juan                           40\n",
       "Tierra Del Fuego                   31\n",
       "Catamarca                          27\n",
       "Jujuy                              26\n",
       "Santa Cruz                         20\n",
       "La Rioja                            4\n",
       "Santiago Del Estero                 4\n",
       "Name: state_name, dtype: int64"
      ]
     },
     "execution_count": 17,
     "metadata": {},
     "output_type": "execute_result"
    }
   ],
   "source": [
    "# Vemos la cantidad de instancias que tiene cada state_name\n",
    "state_name_distribution = pd.value_counts(data.state_name)\n",
    "state_name_distribution"
   ]
  },
  {
   "cell_type": "code",
   "execution_count": 18,
   "id": "86446bac",
   "metadata": {},
   "outputs": [
    {
     "data": {
      "text/plain": [
       "Capital Federal                 26.658967\n",
       "Bs.As. G.B.A. Zona Norte        21.085629\n",
       "Bs.As. G.B.A. Zona Sur          11.509652\n",
       "Córdoba                          9.956278\n",
       "Santa Fe                         8.391355\n",
       "Buenos Aires Costa Atlántica     8.254413\n",
       "Bs.As. G.B.A. Zona Oeste         7.690150\n",
       "Buenos Aires Interior            1.889952\n",
       "Río Negro                        0.666557\n",
       "Neuquén                          0.604686\n",
       "Mendoza                          0.561788\n",
       "Tucumán                          0.556014\n",
       "Corrientes                       0.480944\n",
       "Misiones                         0.382775\n",
       "Entre Ríos                       0.304405\n",
       "Salta                            0.229335\n",
       "Chubut                           0.213661\n",
       "San Luis                         0.207886\n",
       "La Pampa                         0.129517\n",
       "Formosa                          0.053622\n",
       "Chaco                            0.047022\n",
       "San Juan                         0.032998\n",
       "Tierra Del Fuego                 0.025573\n",
       "Catamarca                        0.022274\n",
       "Jujuy                            0.021449\n",
       "Santa Cruz                       0.016499\n",
       "La Rioja                         0.003300\n",
       "Santiago Del Estero              0.003300\n",
       "Name: state_name, dtype: float64"
      ]
     },
     "execution_count": 18,
     "metadata": {},
     "output_type": "execute_result"
    }
   ],
   "source": [
    "# Vemos los porcentajes de la distribucion de los datos por provincia\n",
    "total_data = data.shape[0]\n",
    "percentage_state_name = 100*state_name_distribution/total_data\n",
    "percentage_state_name"
   ]
  },
  {
   "cell_type": "markdown",
   "id": "af738433",
   "metadata": {},
   "source": [
    "### Tomamos la decision de desechar las instancias correspondientes a los *state_name* que representan < 1% del total de instancias."
   ]
  },
  {
   "cell_type": "markdown",
   "id": "e145af86",
   "metadata": {},
   "source": [
    "#### **Tomamos esta decision ya que consideramos que en estos state_names no contamos con las instancias suficientes como para realizar un analisis fiable**"
   ]
  },
  {
   "cell_type": "code",
   "execution_count": 19,
   "id": "84859bf9",
   "metadata": {},
   "outputs": [
    {
     "name": "stdout",
     "output_type": "stream",
     "text": [
      "La muestra representa el 95.44% del total de los datos\n"
     ]
    },
    {
     "data": {
      "text/plain": [
       "Capital Federal                 26.66\n",
       "Bs.As. G.B.A. Zona Norte        21.09\n",
       "Bs.As. G.B.A. Zona Sur          11.51\n",
       "Córdoba                          9.96\n",
       "Santa Fe                         8.39\n",
       "Buenos Aires Costa Atlántica     8.25\n",
       "Bs.As. G.B.A. Zona Oeste         7.69\n",
       "Buenos Aires Interior            1.89\n",
       "Name: state_name, dtype: float64"
      ]
     },
     "execution_count": 19,
     "metadata": {},
     "output_type": "execute_result"
    }
   ],
   "source": [
    "# Tomamos la decision de quedarnos con los datos que son > 1%, que corresponden a Buenos Aires Interior paara arriba\n",
    "mask_1_percent = percentage_state_name > 1\n",
    "series_1_percent = percentage_state_name [mask_1_percent]\n",
    "print(f'La muestra representa el {round(series_1_percent.sum(), 2)}% del total de los datos')\n",
    "round(series_1_percent, 2)"
   ]
  },
  {
   "cell_type": "code",
   "execution_count": 20,
   "id": "fbc2b3b2",
   "metadata": {},
   "outputs": [
    {
     "data": {
      "text/html": [
       "<div>\n",
       "<style scoped>\n",
       "    .dataframe tbody tr th:only-of-type {\n",
       "        vertical-align: middle;\n",
       "    }\n",
       "\n",
       "    .dataframe tbody tr th {\n",
       "        vertical-align: top;\n",
       "    }\n",
       "\n",
       "    .dataframe thead th {\n",
       "        text-align: right;\n",
       "    }\n",
       "</style>\n",
       "<table border=\"1\" class=\"dataframe\">\n",
       "  <thead>\n",
       "    <tr style=\"text-align: right;\">\n",
       "      <th></th>\n",
       "      <th>operation</th>\n",
       "      <th>property_type</th>\n",
       "      <th>place_name</th>\n",
       "      <th>place_with_parent_names</th>\n",
       "      <th>country_name</th>\n",
       "      <th>state_name</th>\n",
       "      <th>geonames_id</th>\n",
       "      <th>lat</th>\n",
       "      <th>lon</th>\n",
       "      <th>price_aprox_usd</th>\n",
       "      <th>surface_total_in_m2</th>\n",
       "      <th>surface_covered_in_m2</th>\n",
       "      <th>price_usd_per_m2</th>\n",
       "      <th>floor</th>\n",
       "      <th>rooms</th>\n",
       "      <th>expenses</th>\n",
       "      <th>description</th>\n",
       "      <th>title</th>\n",
       "    </tr>\n",
       "  </thead>\n",
       "  <tbody>\n",
       "    <tr>\n",
       "      <th>0</th>\n",
       "      <td>sell</td>\n",
       "      <td>PH</td>\n",
       "      <td>Mataderos</td>\n",
       "      <td>|Argentina|Capital Federal|Mataderos|</td>\n",
       "      <td>Argentina</td>\n",
       "      <td>Capital Federal</td>\n",
       "      <td>3430787.0</td>\n",
       "      <td>-34.661824</td>\n",
       "      <td>-58.508839</td>\n",
       "      <td>62000.0</td>\n",
       "      <td>55.0</td>\n",
       "      <td>40.0</td>\n",
       "      <td>1127.272727</td>\n",
       "      <td>NaN</td>\n",
       "      <td>NaN</td>\n",
       "      <td>NaN</td>\n",
       "      <td>2 AMBIENTES TIPO CASA PLANTA BAJA POR PASILLO,...</td>\n",
       "      <td>2 AMB TIPO CASA SIN EXPENSAS EN PB</td>\n",
       "    </tr>\n",
       "    <tr>\n",
       "      <th>1</th>\n",
       "      <td>sell</td>\n",
       "      <td>apartment</td>\n",
       "      <td>La Plata</td>\n",
       "      <td>|Argentina|Bs.As. G.B.A. Zona Sur|La Plata|</td>\n",
       "      <td>Argentina</td>\n",
       "      <td>Bs.As. G.B.A. Zona Sur</td>\n",
       "      <td>3432039.0</td>\n",
       "      <td>-34.903883</td>\n",
       "      <td>-57.964330</td>\n",
       "      <td>150000.0</td>\n",
       "      <td>NaN</td>\n",
       "      <td>NaN</td>\n",
       "      <td>NaN</td>\n",
       "      <td>NaN</td>\n",
       "      <td>NaN</td>\n",
       "      <td>NaN</td>\n",
       "      <td>Venta de departamento en décimo piso al frente...</td>\n",
       "      <td>VENTA Depto 2 dorm. a estrenar 7 e/ 36 y 37   ...</td>\n",
       "    </tr>\n",
       "    <tr>\n",
       "      <th>2</th>\n",
       "      <td>sell</td>\n",
       "      <td>apartment</td>\n",
       "      <td>Mataderos</td>\n",
       "      <td>|Argentina|Capital Federal|Mataderos|</td>\n",
       "      <td>Argentina</td>\n",
       "      <td>Capital Federal</td>\n",
       "      <td>3430787.0</td>\n",
       "      <td>-34.652262</td>\n",
       "      <td>-58.522982</td>\n",
       "      <td>72000.0</td>\n",
       "      <td>55.0</td>\n",
       "      <td>55.0</td>\n",
       "      <td>1309.090909</td>\n",
       "      <td>NaN</td>\n",
       "      <td>NaN</td>\n",
       "      <td>NaN</td>\n",
       "      <td>2 AMBIENTES 3ER PISO LATERAL LIVING COMEDOR AM...</td>\n",
       "      <td>2 AMB 3ER PISO CON ASCENSOR APTO CREDITO</td>\n",
       "    </tr>\n",
       "    <tr>\n",
       "      <th>3</th>\n",
       "      <td>sell</td>\n",
       "      <td>PH</td>\n",
       "      <td>Liniers</td>\n",
       "      <td>|Argentina|Capital Federal|Liniers|</td>\n",
       "      <td>Argentina</td>\n",
       "      <td>Capital Federal</td>\n",
       "      <td>3431333.0</td>\n",
       "      <td>-34.647797</td>\n",
       "      <td>-58.516424</td>\n",
       "      <td>95000.0</td>\n",
       "      <td>NaN</td>\n",
       "      <td>NaN</td>\n",
       "      <td>NaN</td>\n",
       "      <td>NaN</td>\n",
       "      <td>NaN</td>\n",
       "      <td>NaN</td>\n",
       "      <td>PH 3 ambientes con patio. Hay 3 deptos en lote...</td>\n",
       "      <td>PH 3 amb. cfte. reciclado</td>\n",
       "    </tr>\n",
       "    <tr>\n",
       "      <th>4</th>\n",
       "      <td>sell</td>\n",
       "      <td>apartment</td>\n",
       "      <td>Centro</td>\n",
       "      <td>|Argentina|Buenos Aires Costa Atlántica|Mar de...</td>\n",
       "      <td>Argentina</td>\n",
       "      <td>Buenos Aires Costa Atlántica</td>\n",
       "      <td>3435548.0</td>\n",
       "      <td>-38.002626</td>\n",
       "      <td>-57.549447</td>\n",
       "      <td>64000.0</td>\n",
       "      <td>35.0</td>\n",
       "      <td>35.0</td>\n",
       "      <td>1828.571429</td>\n",
       "      <td>NaN</td>\n",
       "      <td>NaN</td>\n",
       "      <td>NaN</td>\n",
       "      <td>DEPARTAMENTO CON FANTÁSTICA ILUMINACIÓN NATURA...</td>\n",
       "      <td>DEPTO 2 AMB AL CONTRAFRENTE ZONA CENTRO/PLAZA ...</td>\n",
       "    </tr>\n",
       "    <tr>\n",
       "      <th>...</th>\n",
       "      <td>...</td>\n",
       "      <td>...</td>\n",
       "      <td>...</td>\n",
       "      <td>...</td>\n",
       "      <td>...</td>\n",
       "      <td>...</td>\n",
       "      <td>...</td>\n",
       "      <td>...</td>\n",
       "      <td>...</td>\n",
       "      <td>...</td>\n",
       "      <td>...</td>\n",
       "      <td>...</td>\n",
       "      <td>...</td>\n",
       "      <td>...</td>\n",
       "      <td>...</td>\n",
       "      <td>...</td>\n",
       "      <td>...</td>\n",
       "      <td>...</td>\n",
       "    </tr>\n",
       "    <tr>\n",
       "      <th>121215</th>\n",
       "      <td>sell</td>\n",
       "      <td>apartment</td>\n",
       "      <td>Belgrano</td>\n",
       "      <td>|Argentina|Capital Federal|Belgrano|</td>\n",
       "      <td>Argentina</td>\n",
       "      <td>Capital Federal</td>\n",
       "      <td>3436077.0</td>\n",
       "      <td>NaN</td>\n",
       "      <td>NaN</td>\n",
       "      <td>870000.0</td>\n",
       "      <td>113.0</td>\n",
       "      <td>93.0</td>\n",
       "      <td>7699.115044</td>\n",
       "      <td>NaN</td>\n",
       "      <td>NaN</td>\n",
       "      <td>10000.0</td>\n",
       "      <td>TORRE FORUM ALCORTA - MÁXIMA CATEGORÍA.Impecab...</td>\n",
       "      <td>Torre Forum Alcorta- Impecable 3 ambientes</td>\n",
       "    </tr>\n",
       "    <tr>\n",
       "      <th>121216</th>\n",
       "      <td>sell</td>\n",
       "      <td>house</td>\n",
       "      <td>Beccar</td>\n",
       "      <td>|Argentina|Bs.As. G.B.A. Zona Norte|San Isidro...</td>\n",
       "      <td>Argentina</td>\n",
       "      <td>Bs.As. G.B.A. Zona Norte</td>\n",
       "      <td>3436080.0</td>\n",
       "      <td>NaN</td>\n",
       "      <td>NaN</td>\n",
       "      <td>498000.0</td>\n",
       "      <td>360.0</td>\n",
       "      <td>360.0</td>\n",
       "      <td>1383.333333</td>\n",
       "      <td>NaN</td>\n",
       "      <td>NaN</td>\n",
       "      <td>NaN</td>\n",
       "      <td>Excelente e impecable casa en Venta en Las Lom...</td>\n",
       "      <td>Ruca Inmuebles | Venta | Lomas de San Isidro |...</td>\n",
       "    </tr>\n",
       "    <tr>\n",
       "      <th>121217</th>\n",
       "      <td>sell</td>\n",
       "      <td>apartment</td>\n",
       "      <td>Villa Urquiza</td>\n",
       "      <td>|Argentina|Capital Federal|Villa Urquiza|</td>\n",
       "      <td>Argentina</td>\n",
       "      <td>Capital Federal</td>\n",
       "      <td>3433775.0</td>\n",
       "      <td>-34.570639</td>\n",
       "      <td>-58.475596</td>\n",
       "      <td>131500.0</td>\n",
       "      <td>46.0</td>\n",
       "      <td>39.0</td>\n",
       "      <td>2858.695652</td>\n",
       "      <td>NaN</td>\n",
       "      <td>NaN</td>\n",
       "      <td>NaN</td>\n",
       "      <td>VENTA DEPARTAMENTO AMBIENTE DIVISIBLE A ESTREN...</td>\n",
       "      <td>VENTA DEPARTAMENTO AMBIENTE DIVISIBLE A ESTREN...</td>\n",
       "    </tr>\n",
       "    <tr>\n",
       "      <th>121218</th>\n",
       "      <td>sell</td>\n",
       "      <td>apartment</td>\n",
       "      <td>Plaza Colón</td>\n",
       "      <td>|Argentina|Buenos Aires Costa Atlántica|Mar de...</td>\n",
       "      <td>Argentina</td>\n",
       "      <td>Buenos Aires Costa Atlántica</td>\n",
       "      <td>NaN</td>\n",
       "      <td>NaN</td>\n",
       "      <td>NaN</td>\n",
       "      <td>95900.0</td>\n",
       "      <td>48.0</td>\n",
       "      <td>48.0</td>\n",
       "      <td>1997.916667</td>\n",
       "      <td>NaN</td>\n",
       "      <td>NaN</td>\n",
       "      <td>NaN</td>\n",
       "      <td>2 Amb al contrafrente,  luminoso. El departame...</td>\n",
       "      <td>2 amb. C/ dep. de servicio al contrafrente| Re...</td>\n",
       "    </tr>\n",
       "    <tr>\n",
       "      <th>121219</th>\n",
       "      <td>sell</td>\n",
       "      <td>apartment</td>\n",
       "      <td>Capital Federal</td>\n",
       "      <td>|Argentina|Capital Federal|</td>\n",
       "      <td>Argentina</td>\n",
       "      <td>Capital Federal</td>\n",
       "      <td>3433955.0</td>\n",
       "      <td>NaN</td>\n",
       "      <td>NaN</td>\n",
       "      <td>129000.0</td>\n",
       "      <td>77.0</td>\n",
       "      <td>77.0</td>\n",
       "      <td>1675.324675</td>\n",
       "      <td>NaN</td>\n",
       "      <td>NaN</td>\n",
       "      <td>3500.0</td>\n",
       "      <td>Departamento de 77 m2 apto profesional. Edific...</td>\n",
       "      <td>Departamento apto profesional en el Centro</td>\n",
       "    </tr>\n",
       "  </tbody>\n",
       "</table>\n",
       "<p>115688 rows × 18 columns</p>\n",
       "</div>"
      ],
      "text/plain": [
       "       operation property_type       place_name  \\\n",
       "0           sell            PH        Mataderos   \n",
       "1           sell     apartment         La Plata   \n",
       "2           sell     apartment        Mataderos   \n",
       "3           sell            PH          Liniers   \n",
       "4           sell     apartment           Centro   \n",
       "...          ...           ...              ...   \n",
       "121215      sell     apartment         Belgrano   \n",
       "121216      sell         house           Beccar   \n",
       "121217      sell     apartment    Villa Urquiza   \n",
       "121218      sell     apartment      Plaza Colón   \n",
       "121219      sell     apartment  Capital Federal   \n",
       "\n",
       "                                  place_with_parent_names country_name  \\\n",
       "0                   |Argentina|Capital Federal|Mataderos|    Argentina   \n",
       "1             |Argentina|Bs.As. G.B.A. Zona Sur|La Plata|    Argentina   \n",
       "2                   |Argentina|Capital Federal|Mataderos|    Argentina   \n",
       "3                     |Argentina|Capital Federal|Liniers|    Argentina   \n",
       "4       |Argentina|Buenos Aires Costa Atlántica|Mar de...    Argentina   \n",
       "...                                                   ...          ...   \n",
       "121215               |Argentina|Capital Federal|Belgrano|    Argentina   \n",
       "121216  |Argentina|Bs.As. G.B.A. Zona Norte|San Isidro...    Argentina   \n",
       "121217          |Argentina|Capital Federal|Villa Urquiza|    Argentina   \n",
       "121218  |Argentina|Buenos Aires Costa Atlántica|Mar de...    Argentina   \n",
       "121219                        |Argentina|Capital Federal|    Argentina   \n",
       "\n",
       "                          state_name  geonames_id        lat        lon  \\\n",
       "0                    Capital Federal    3430787.0 -34.661824 -58.508839   \n",
       "1             Bs.As. G.B.A. Zona Sur    3432039.0 -34.903883 -57.964330   \n",
       "2                    Capital Federal    3430787.0 -34.652262 -58.522982   \n",
       "3                    Capital Federal    3431333.0 -34.647797 -58.516424   \n",
       "4       Buenos Aires Costa Atlántica    3435548.0 -38.002626 -57.549447   \n",
       "...                              ...          ...        ...        ...   \n",
       "121215               Capital Federal    3436077.0        NaN        NaN   \n",
       "121216      Bs.As. G.B.A. Zona Norte    3436080.0        NaN        NaN   \n",
       "121217               Capital Federal    3433775.0 -34.570639 -58.475596   \n",
       "121218  Buenos Aires Costa Atlántica          NaN        NaN        NaN   \n",
       "121219               Capital Federal    3433955.0        NaN        NaN   \n",
       "\n",
       "        price_aprox_usd  surface_total_in_m2  surface_covered_in_m2  \\\n",
       "0               62000.0                 55.0                   40.0   \n",
       "1              150000.0                  NaN                    NaN   \n",
       "2               72000.0                 55.0                   55.0   \n",
       "3               95000.0                  NaN                    NaN   \n",
       "4               64000.0                 35.0                   35.0   \n",
       "...                 ...                  ...                    ...   \n",
       "121215         870000.0                113.0                   93.0   \n",
       "121216         498000.0                360.0                  360.0   \n",
       "121217         131500.0                 46.0                   39.0   \n",
       "121218          95900.0                 48.0                   48.0   \n",
       "121219         129000.0                 77.0                   77.0   \n",
       "\n",
       "        price_usd_per_m2  floor  rooms  expenses  \\\n",
       "0            1127.272727    NaN    NaN       NaN   \n",
       "1                    NaN    NaN    NaN       NaN   \n",
       "2            1309.090909    NaN    NaN       NaN   \n",
       "3                    NaN    NaN    NaN       NaN   \n",
       "4            1828.571429    NaN    NaN       NaN   \n",
       "...                  ...    ...    ...       ...   \n",
       "121215       7699.115044    NaN    NaN   10000.0   \n",
       "121216       1383.333333    NaN    NaN       NaN   \n",
       "121217       2858.695652    NaN    NaN       NaN   \n",
       "121218       1997.916667    NaN    NaN       NaN   \n",
       "121219       1675.324675    NaN    NaN    3500.0   \n",
       "\n",
       "                                              description  \\\n",
       "0       2 AMBIENTES TIPO CASA PLANTA BAJA POR PASILLO,...   \n",
       "1       Venta de departamento en décimo piso al frente...   \n",
       "2       2 AMBIENTES 3ER PISO LATERAL LIVING COMEDOR AM...   \n",
       "3       PH 3 ambientes con patio. Hay 3 deptos en lote...   \n",
       "4       DEPARTAMENTO CON FANTÁSTICA ILUMINACIÓN NATURA...   \n",
       "...                                                   ...   \n",
       "121215  TORRE FORUM ALCORTA - MÁXIMA CATEGORÍA.Impecab...   \n",
       "121216  Excelente e impecable casa en Venta en Las Lom...   \n",
       "121217  VENTA DEPARTAMENTO AMBIENTE DIVISIBLE A ESTREN...   \n",
       "121218  2 Amb al contrafrente,  luminoso. El departame...   \n",
       "121219  Departamento de 77 m2 apto profesional. Edific...   \n",
       "\n",
       "                                                    title  \n",
       "0                      2 AMB TIPO CASA SIN EXPENSAS EN PB  \n",
       "1       VENTA Depto 2 dorm. a estrenar 7 e/ 36 y 37   ...  \n",
       "2                2 AMB 3ER PISO CON ASCENSOR APTO CREDITO  \n",
       "3                            PH 3 amb. cfte. reciclado     \n",
       "4       DEPTO 2 AMB AL CONTRAFRENTE ZONA CENTRO/PLAZA ...  \n",
       "...                                                   ...  \n",
       "121215         Torre Forum Alcorta- Impecable 3 ambientes  \n",
       "121216  Ruca Inmuebles | Venta | Lomas de San Isidro |...  \n",
       "121217  VENTA DEPARTAMENTO AMBIENTE DIVISIBLE A ESTREN...  \n",
       "121218  2 amb. C/ dep. de servicio al contrafrente| Re...  \n",
       "121219         Departamento apto profesional en el Centro  \n",
       "\n",
       "[115688 rows x 18 columns]"
      ]
     },
     "execution_count": 20,
     "metadata": {},
     "output_type": "execute_result"
    }
   ],
   "source": [
    "# Con la mascara generada anteriormente para quedarnos con los state_names mayores a 1%, eliminamos las instancias que no corresponden a los state_names seleccionados\n",
    "data = data[data.state_name.isin(series_1_percent.index)]\n",
    "data"
   ]
  },
  {
   "cell_type": "markdown",
   "id": "6c12d1da",
   "metadata": {},
   "source": [
    "## Desagregacion de la columna place_with_parent_names"
   ]
  },
  {
   "cell_type": "markdown",
   "id": "ed374cb0",
   "metadata": {},
   "source": [
    "**Aclaracion:** *Capital federal esta considerado como state_name, por lo que en city_name iran los barrios de la ciudad*"
   ]
  },
  {
   "cell_type": "markdown",
   "id": "f0d18418",
   "metadata": {},
   "source": [
    "##### **Para realizar esto asumimos igual fiabilidad en los datos de las columnas place_name, country_name, state_name y place_with_parent_names**"
   ]
  },
  {
   "cell_type": "code",
   "execution_count": 21,
   "id": "178218d4",
   "metadata": {},
   "outputs": [
    {
     "data": {
      "text/html": [
       "<div>\n",
       "<style scoped>\n",
       "    .dataframe tbody tr th:only-of-type {\n",
       "        vertical-align: middle;\n",
       "    }\n",
       "\n",
       "    .dataframe tbody tr th {\n",
       "        vertical-align: top;\n",
       "    }\n",
       "\n",
       "    .dataframe thead th {\n",
       "        text-align: right;\n",
       "    }\n",
       "</style>\n",
       "<table border=\"1\" class=\"dataframe\">\n",
       "  <thead>\n",
       "    <tr style=\"text-align: right;\">\n",
       "      <th></th>\n",
       "      <th>0</th>\n",
       "      <th>1</th>\n",
       "      <th>2</th>\n",
       "      <th>3</th>\n",
       "      <th>4</th>\n",
       "      <th>5</th>\n",
       "      <th>6</th>\n",
       "    </tr>\n",
       "  </thead>\n",
       "  <tbody>\n",
       "    <tr>\n",
       "      <th>0</th>\n",
       "      <td></td>\n",
       "      <td>Argentina</td>\n",
       "      <td>Capital Federal</td>\n",
       "      <td>Mataderos</td>\n",
       "      <td></td>\n",
       "      <td>None</td>\n",
       "      <td>None</td>\n",
       "    </tr>\n",
       "    <tr>\n",
       "      <th>1</th>\n",
       "      <td></td>\n",
       "      <td>Argentina</td>\n",
       "      <td>Bs.As. G.B.A. Zona Sur</td>\n",
       "      <td>La Plata</td>\n",
       "      <td></td>\n",
       "      <td>None</td>\n",
       "      <td>None</td>\n",
       "    </tr>\n",
       "    <tr>\n",
       "      <th>2</th>\n",
       "      <td></td>\n",
       "      <td>Argentina</td>\n",
       "      <td>Capital Federal</td>\n",
       "      <td>Mataderos</td>\n",
       "      <td></td>\n",
       "      <td>None</td>\n",
       "      <td>None</td>\n",
       "    </tr>\n",
       "    <tr>\n",
       "      <th>3</th>\n",
       "      <td></td>\n",
       "      <td>Argentina</td>\n",
       "      <td>Capital Federal</td>\n",
       "      <td>Liniers</td>\n",
       "      <td></td>\n",
       "      <td>None</td>\n",
       "      <td>None</td>\n",
       "    </tr>\n",
       "    <tr>\n",
       "      <th>4</th>\n",
       "      <td></td>\n",
       "      <td>Argentina</td>\n",
       "      <td>Buenos Aires Costa Atlántica</td>\n",
       "      <td>Mar del Plata</td>\n",
       "      <td>Centro</td>\n",
       "      <td></td>\n",
       "      <td>None</td>\n",
       "    </tr>\n",
       "    <tr>\n",
       "      <th>...</th>\n",
       "      <td>...</td>\n",
       "      <td>...</td>\n",
       "      <td>...</td>\n",
       "      <td>...</td>\n",
       "      <td>...</td>\n",
       "      <td>...</td>\n",
       "      <td>...</td>\n",
       "    </tr>\n",
       "    <tr>\n",
       "      <th>121215</th>\n",
       "      <td></td>\n",
       "      <td>Argentina</td>\n",
       "      <td>Capital Federal</td>\n",
       "      <td>Belgrano</td>\n",
       "      <td></td>\n",
       "      <td>None</td>\n",
       "      <td>None</td>\n",
       "    </tr>\n",
       "    <tr>\n",
       "      <th>121216</th>\n",
       "      <td></td>\n",
       "      <td>Argentina</td>\n",
       "      <td>Bs.As. G.B.A. Zona Norte</td>\n",
       "      <td>San Isidro</td>\n",
       "      <td>Beccar</td>\n",
       "      <td></td>\n",
       "      <td>None</td>\n",
       "    </tr>\n",
       "    <tr>\n",
       "      <th>121217</th>\n",
       "      <td></td>\n",
       "      <td>Argentina</td>\n",
       "      <td>Capital Federal</td>\n",
       "      <td>Villa Urquiza</td>\n",
       "      <td></td>\n",
       "      <td>None</td>\n",
       "      <td>None</td>\n",
       "    </tr>\n",
       "    <tr>\n",
       "      <th>121218</th>\n",
       "      <td></td>\n",
       "      <td>Argentina</td>\n",
       "      <td>Buenos Aires Costa Atlántica</td>\n",
       "      <td>Mar del Plata</td>\n",
       "      <td>Plaza Colón</td>\n",
       "      <td></td>\n",
       "      <td>None</td>\n",
       "    </tr>\n",
       "    <tr>\n",
       "      <th>121219</th>\n",
       "      <td></td>\n",
       "      <td>Argentina</td>\n",
       "      <td>Capital Federal</td>\n",
       "      <td></td>\n",
       "      <td>None</td>\n",
       "      <td>None</td>\n",
       "      <td>None</td>\n",
       "    </tr>\n",
       "  </tbody>\n",
       "</table>\n",
       "<p>115688 rows × 7 columns</p>\n",
       "</div>"
      ],
      "text/plain": [
       "       0           1                             2              3  \\\n",
       "0          Argentina               Capital Federal      Mataderos   \n",
       "1          Argentina        Bs.As. G.B.A. Zona Sur       La Plata   \n",
       "2          Argentina               Capital Federal      Mataderos   \n",
       "3          Argentina               Capital Federal        Liniers   \n",
       "4          Argentina  Buenos Aires Costa Atlántica  Mar del Plata   \n",
       "...    ..        ...                           ...            ...   \n",
       "121215     Argentina               Capital Federal       Belgrano   \n",
       "121216     Argentina      Bs.As. G.B.A. Zona Norte     San Isidro   \n",
       "121217     Argentina               Capital Federal  Villa Urquiza   \n",
       "121218     Argentina  Buenos Aires Costa Atlántica  Mar del Plata   \n",
       "121219     Argentina               Capital Federal                  \n",
       "\n",
       "                  4     5     6  \n",
       "0                    None  None  \n",
       "1                    None  None  \n",
       "2                    None  None  \n",
       "3                    None  None  \n",
       "4            Centro        None  \n",
       "...             ...   ...   ...  \n",
       "121215               None  None  \n",
       "121216       Beccar        None  \n",
       "121217               None  None  \n",
       "121218  Plaza Colón        None  \n",
       "121219         None  None  None  \n",
       "\n",
       "[115688 rows x 7 columns]"
      ]
     },
     "execution_count": 21,
     "metadata": {},
     "output_type": "execute_result"
    }
   ],
   "source": [
    "# Realizo un nuevo dataset a partir de separar la columna place_with_parent_names en columnas separadas\n",
    "data_place_with_parent_names = data[\"place_with_parent_names\"].str.split(\"|\", expand=True)\n",
    "data_place_with_parent_names"
   ]
  },
  {
   "cell_type": "code",
   "execution_count": 22,
   "id": "264505bd",
   "metadata": {},
   "outputs": [],
   "source": [
    "# Desecho las columnas 0, 5 y 6 ya que contienen informacion\n",
    "data_place_with_parent_names = data_place_with_parent_names.drop([0,5,6], axis=1)"
   ]
  },
  {
   "cell_type": "code",
   "execution_count": 23,
   "id": "dc722a9f",
   "metadata": {},
   "outputs": [
    {
     "data": {
      "text/html": [
       "<div>\n",
       "<style scoped>\n",
       "    .dataframe tbody tr th:only-of-type {\n",
       "        vertical-align: middle;\n",
       "    }\n",
       "\n",
       "    .dataframe tbody tr th {\n",
       "        vertical-align: top;\n",
       "    }\n",
       "\n",
       "    .dataframe thead th {\n",
       "        text-align: right;\n",
       "    }\n",
       "</style>\n",
       "<table border=\"1\" class=\"dataframe\">\n",
       "  <thead>\n",
       "    <tr style=\"text-align: right;\">\n",
       "      <th></th>\n",
       "      <th>country_name</th>\n",
       "      <th>state_name</th>\n",
       "      <th>city_name</th>\n",
       "      <th>neighborhood_name</th>\n",
       "    </tr>\n",
       "  </thead>\n",
       "  <tbody>\n",
       "    <tr>\n",
       "      <th>0</th>\n",
       "      <td>Argentina</td>\n",
       "      <td>Capital Federal</td>\n",
       "      <td>Mataderos</td>\n",
       "      <td></td>\n",
       "    </tr>\n",
       "    <tr>\n",
       "      <th>1</th>\n",
       "      <td>Argentina</td>\n",
       "      <td>Bs.As. G.B.A. Zona Sur</td>\n",
       "      <td>La Plata</td>\n",
       "      <td></td>\n",
       "    </tr>\n",
       "    <tr>\n",
       "      <th>2</th>\n",
       "      <td>Argentina</td>\n",
       "      <td>Capital Federal</td>\n",
       "      <td>Mataderos</td>\n",
       "      <td></td>\n",
       "    </tr>\n",
       "    <tr>\n",
       "      <th>3</th>\n",
       "      <td>Argentina</td>\n",
       "      <td>Capital Federal</td>\n",
       "      <td>Liniers</td>\n",
       "      <td></td>\n",
       "    </tr>\n",
       "    <tr>\n",
       "      <th>4</th>\n",
       "      <td>Argentina</td>\n",
       "      <td>Buenos Aires Costa Atlántica</td>\n",
       "      <td>Mar del Plata</td>\n",
       "      <td>Centro</td>\n",
       "    </tr>\n",
       "    <tr>\n",
       "      <th>...</th>\n",
       "      <td>...</td>\n",
       "      <td>...</td>\n",
       "      <td>...</td>\n",
       "      <td>...</td>\n",
       "    </tr>\n",
       "    <tr>\n",
       "      <th>121215</th>\n",
       "      <td>Argentina</td>\n",
       "      <td>Capital Federal</td>\n",
       "      <td>Belgrano</td>\n",
       "      <td></td>\n",
       "    </tr>\n",
       "    <tr>\n",
       "      <th>121216</th>\n",
       "      <td>Argentina</td>\n",
       "      <td>Bs.As. G.B.A. Zona Norte</td>\n",
       "      <td>San Isidro</td>\n",
       "      <td>Beccar</td>\n",
       "    </tr>\n",
       "    <tr>\n",
       "      <th>121217</th>\n",
       "      <td>Argentina</td>\n",
       "      <td>Capital Federal</td>\n",
       "      <td>Villa Urquiza</td>\n",
       "      <td></td>\n",
       "    </tr>\n",
       "    <tr>\n",
       "      <th>121218</th>\n",
       "      <td>Argentina</td>\n",
       "      <td>Buenos Aires Costa Atlántica</td>\n",
       "      <td>Mar del Plata</td>\n",
       "      <td>Plaza Colón</td>\n",
       "    </tr>\n",
       "    <tr>\n",
       "      <th>121219</th>\n",
       "      <td>Argentina</td>\n",
       "      <td>Capital Federal</td>\n",
       "      <td></td>\n",
       "      <td>None</td>\n",
       "    </tr>\n",
       "  </tbody>\n",
       "</table>\n",
       "<p>115688 rows × 4 columns</p>\n",
       "</div>"
      ],
      "text/plain": [
       "       country_name                    state_name      city_name  \\\n",
       "0         Argentina               Capital Federal      Mataderos   \n",
       "1         Argentina        Bs.As. G.B.A. Zona Sur       La Plata   \n",
       "2         Argentina               Capital Federal      Mataderos   \n",
       "3         Argentina               Capital Federal        Liniers   \n",
       "4         Argentina  Buenos Aires Costa Atlántica  Mar del Plata   \n",
       "...             ...                           ...            ...   \n",
       "121215    Argentina               Capital Federal       Belgrano   \n",
       "121216    Argentina      Bs.As. G.B.A. Zona Norte     San Isidro   \n",
       "121217    Argentina               Capital Federal  Villa Urquiza   \n",
       "121218    Argentina  Buenos Aires Costa Atlántica  Mar del Plata   \n",
       "121219    Argentina               Capital Federal                  \n",
       "\n",
       "       neighborhood_name  \n",
       "0                         \n",
       "1                         \n",
       "2                         \n",
       "3                         \n",
       "4                 Centro  \n",
       "...                  ...  \n",
       "121215                    \n",
       "121216            Beccar  \n",
       "121217                    \n",
       "121218       Plaza Colón  \n",
       "121219              None  \n",
       "\n",
       "[115688 rows x 4 columns]"
      ]
     },
     "execution_count": 23,
     "metadata": {},
     "output_type": "execute_result"
    }
   ],
   "source": [
    "# renombro las columnas\n",
    "data_place_with_parent_names.rename(columns={1: 'country_name' , 2 : 'state_name' , 3 : 'city_name' , 4 : 'neighborhood_name'}, inplace=True)\n",
    "data_place_with_parent_names"
   ]
  },
  {
   "cell_type": "code",
   "execution_count": 24,
   "id": "a79a5137",
   "metadata": {},
   "outputs": [
    {
     "name": "stdout",
     "output_type": "stream",
     "text": [
      "country_name            0\n",
      "state_name              0\n",
      "city_name               0\n",
      "neighborhood_name    4422\n",
      "dtype: int64\n",
      "country_name             0\n",
      "state_name               0\n",
      "city_name             4422\n",
      "neighborhood_name    71487\n",
      "dtype: int64\n"
     ]
    }
   ],
   "source": [
    "#Veo el total de strings vacios \"\"\n",
    "print(data_place_with_parent_names.isnull().sum())\n",
    "#Veo el total de nulos\n",
    "print((data_place_with_parent_names=='').sum())"
   ]
  },
  {
   "cell_type": "code",
   "execution_count": 25,
   "id": "7a631c87",
   "metadata": {},
   "outputs": [],
   "source": [
    "# Transformo todas las cadenas vacias en city a nulos\n",
    "data_city_name_empty = data_place_with_parent_names[data_place_with_parent_names.city_name==\"\"]\n",
    "data_place_with_parent_names.loc[data_city_name_empty.index,\"city_name\"] = None"
   ]
  },
  {
   "cell_type": "code",
   "execution_count": 26,
   "id": "8f6c1562",
   "metadata": {},
   "outputs": [],
   "source": [
    "# Transformo todas las cadenas vacias en city_name a nulos\n",
    "data_neighborhood_name_empty = data_place_with_parent_names[data_place_with_parent_names.neighborhood_name==\"\"]\n",
    "data_place_with_parent_names.loc[data_neighborhood_name_empty.index,\"neighborhood_name\"] = None"
   ]
  },
  {
   "cell_type": "code",
   "execution_count": 27,
   "id": "14a7ad2e",
   "metadata": {},
   "outputs": [
    {
     "name": "stdout",
     "output_type": "stream",
     "text": [
      "country_name             0\n",
      "state_name               0\n",
      "city_name             4422\n",
      "neighborhood_name    75909\n",
      "dtype: int64\n",
      "country_name         0\n",
      "state_name           0\n",
      "city_name            0\n",
      "neighborhood_name    0\n",
      "dtype: int64\n"
     ]
    }
   ],
   "source": [
    "#Veo el total de strings vacios \"\"\n",
    "print(data_place_with_parent_names.isnull().sum())\n",
    "#Veo el total de nulos\n",
    "print((data_place_with_parent_names=='').sum())"
   ]
  },
  {
   "cell_type": "code",
   "execution_count": 28,
   "id": "b4dae33b",
   "metadata": {},
   "outputs": [],
   "source": [
    "#Elimino en data las columnas que voy a reemplazar\n",
    "data = data.drop([\"place_name\",\"place_with_parent_names\",\"country_name\",\"state_name\"], axis=1)"
   ]
  },
  {
   "cell_type": "code",
   "execution_count": 29,
   "id": "497b9314",
   "metadata": {},
   "outputs": [
    {
     "data": {
      "text/plain": [
       "Index(['operation', 'property_type', 'geonames_id', 'lat', 'lon',\n",
       "       'price_aprox_usd', 'surface_total_in_m2', 'surface_covered_in_m2',\n",
       "       'price_usd_per_m2', 'floor', 'rooms', 'expenses', 'description',\n",
       "       'title', 'country_name', 'state_name', 'city_name',\n",
       "       'neighborhood_name'],\n",
       "      dtype='object')"
      ]
     },
     "execution_count": 29,
     "metadata": {},
     "output_type": "execute_result"
    }
   ],
   "source": [
    "# Concateno data con data_place_with_parent_names. Lo realizamos con concat ya que tienen el mismo orden las instancias \n",
    "data = pd.concat([data, data_place_with_parent_names], axis=1)\n",
    "data.columns"
   ]
  },
  {
   "cell_type": "code",
   "execution_count": 30,
   "id": "a72595ce",
   "metadata": {},
   "outputs": [],
   "source": [
    "#Reordeno las columnas para que queden en el orden original\n",
    "data= data[['operation', 'property_type','country_name', 'state_name', 'city_name', \n",
    "            'neighborhood_name', 'geonames_id', 'lat', 'lon','price_aprox_usd', \n",
    "            'surface_total_in_m2', 'surface_covered_in_m2',\n",
    "       'price_usd_per_m2', 'floor', 'rooms', 'expenses', 'description',\n",
    "       'title',]]"
   ]
  },
  {
   "cell_type": "markdown",
   "id": "51c595ed",
   "metadata": {},
   "source": [
    "# Analis preliminar del DataSet"
   ]
  },
  {
   "cell_type": "code",
   "execution_count": 31,
   "id": "14d9faa7",
   "metadata": {},
   "outputs": [
    {
     "data": {
      "text/plain": [
       "operation                 object\n",
       "property_type             object\n",
       "country_name              object\n",
       "state_name                object\n",
       "city_name                 object\n",
       "neighborhood_name         object\n",
       "geonames_id              float64\n",
       "lat                      float64\n",
       "lon                      float64\n",
       "price_aprox_usd          float64\n",
       "surface_total_in_m2      float64\n",
       "surface_covered_in_m2    float64\n",
       "price_usd_per_m2         float64\n",
       "floor                    float64\n",
       "rooms                    float64\n",
       "expenses                 float64\n",
       "description               object\n",
       "title                     object\n",
       "dtype: object"
      ]
     },
     "execution_count": 31,
     "metadata": {},
     "output_type": "execute_result"
    }
   ],
   "source": [
    "# Usamos dtypes para saber que tipo de datos se almacenan en el dataset\n",
    "data.dtypes"
   ]
  },
  {
   "cell_type": "code",
   "execution_count": 32,
   "id": "b7682bea",
   "metadata": {},
   "outputs": [
    {
     "name": "stdout",
     "output_type": "stream",
     "text": [
      "operation                     0\n",
      "property_type                 0\n",
      "country_name                  0\n",
      "state_name                    0\n",
      "city_name                  4422\n",
      "neighborhood_name         75909\n",
      "geonames_id               18527\n",
      "lat                       48639\n",
      "lon                       48639\n",
      "price_aprox_usd           17871\n",
      "surface_total_in_m2       37437\n",
      "surface_covered_in_m2     17746\n",
      "price_usd_per_m2          25390\n",
      "floor                    108073\n",
      "rooms                     69989\n",
      "expenses                 101758\n",
      "description                   2\n",
      "title                         0\n",
      "dtype: int64\n"
     ]
    }
   ],
   "source": [
    "#Vemos cuantos valores nulos tenemos por columna\n",
    "is_null_result = data.isnull().sum()\n",
    "print(is_null_result)"
   ]
  },
  {
   "cell_type": "code",
   "execution_count": 33,
   "id": "4471ef4c",
   "metadata": {},
   "outputs": [
    {
     "data": {
      "text/plain": [
       "operation                 0.000000\n",
       "property_type             0.000000\n",
       "country_name              0.000000\n",
       "state_name                0.000000\n",
       "city_name                 3.822350\n",
       "neighborhood_name        65.615276\n",
       "geonames_id              16.014626\n",
       "lat                      42.043254\n",
       "lon                      42.043254\n",
       "price_aprox_usd          15.447583\n",
       "surface_total_in_m2      32.360314\n",
       "surface_covered_in_m2    15.339534\n",
       "price_usd_per_m2         21.946961\n",
       "floor                    93.417641\n",
       "rooms                    60.498064\n",
       "expenses                 87.958993\n",
       "description               0.001729\n",
       "title                     0.000000\n",
       "dtype: float64"
      ]
     },
     "execution_count": 33,
     "metadata": {},
     "output_type": "execute_result"
    }
   ],
   "source": [
    "#Vemos que porcentaje de nulos tiene cada columna\n",
    "percentage_null = 100*is_null_result/data.shape[0]\n",
    "percentage_null"
   ]
  },
  {
   "cell_type": "markdown",
   "id": "51243349",
   "metadata": {},
   "source": [
    "## Correccion de instancias que tienen surface_total_in_m2 < surface_covered_in_m2"
   ]
  },
  {
   "cell_type": "code",
   "execution_count": 34,
   "id": "ce296f59",
   "metadata": {},
   "outputs": [],
   "source": [
    "# Vemos en que casos el valor surface_total_in_m2 es menor que el valor surface_covered_in_m2\n",
    "mask_surface = data.surface_total_in_m2 < data.surface_covered_in_m2\n",
    "data_surface = data[mask_surface]\n",
    "#Le asigno en funcion del index de data_surface, los valores de surface_total_in_m2 a surface_covered_in_m2 y viceversa\n",
    "data.loc[data_surface.index, \"surface_total_in_m2\"] = data_surface.loc[data_surface.index, \"surface_covered_in_m2\"]\n",
    "data.loc[data_surface.index, \"surface_covered_in_m2\"] = data_surface.loc[data_surface.index, \"surface_total_in_m2\"]"
   ]
  },
  {
   "cell_type": "markdown",
   "id": "5d487cb7",
   "metadata": {},
   "source": [
    "# Obtencion de datos con expresiones regulares de las columnas *description* y *title*"
   ]
  },
  {
   "cell_type": "markdown",
   "id": "9241faef",
   "metadata": {},
   "source": [
    "## Obtencion de rooms con expresiones regulares"
   ]
  },
  {
   "cell_type": "markdown",
   "id": "09991e1b",
   "metadata": {},
   "source": [
    "##### *Se obtienen los rooms nulos o iguales a cero en primera instancia con expresiones regulares. No se obtienen primero con una media condicionada de la superficie cubierta y el lugar ya que es mas preciso obtenerlos con un dato directo del dataset*"
   ]
  },
  {
   "cell_type": "markdown",
   "id": "eccdfabe",
   "metadata": {},
   "source": [
    "### Obtencion de rooms con expresion regular en *description*"
   ]
  },
  {
   "cell_type": "code",
   "execution_count": 35,
   "id": "b2322ce5",
   "metadata": {},
   "outputs": [
    {
     "data": {
      "text/plain": [
       "0         2 AMBIENTES TIPO CASA PLANTA BAJA POR PASILLO,...\n",
       "1         Venta de departamento en décimo piso al frente...\n",
       "2         2 AMBIENTES 3ER PISO LATERAL LIVING COMEDOR AM...\n",
       "3         PH 3 ambientes con patio. Hay 3 deptos en lote...\n",
       "4         DEPARTAMENTO CON FANTÁSTICA ILUMINACIÓN NATURA...\n",
       "                                ...                        \n",
       "121215    TORRE FORUM ALCORTA - MÁXIMA CATEGORÍA.Impecab...\n",
       "121216    Excelente e impecable casa en Venta en Las Lom...\n",
       "121217    VENTA DEPARTAMENTO AMBIENTE DIVISIBLE A ESTREN...\n",
       "121218    2 Amb al contrafrente,  luminoso. El departame...\n",
       "121219    Departamento de 77 m2 apto profesional. Edific...\n",
       "Name: description, Length: 69989, dtype: object"
      ]
     },
     "execution_count": 35,
     "metadata": {},
     "output_type": "execute_result"
    }
   ],
   "source": [
    "# Aplicamos al DataSet una mascara booleana que contenga nulos de rooms\n",
    "mask_rooms_null =  data.rooms.isnull()\n",
    "data_rooms_null = data [mask_rooms_null]\n",
    "series_rooms_null_description = data_rooms_null.description\n",
    "series_rooms_null_description"
   ]
  },
  {
   "cell_type": "code",
   "execution_count": 36,
   "id": "44e7cd28",
   "metadata": {},
   "outputs": [
    {
     "name": "stderr",
     "output_type": "stream",
     "text": [
      "C:\\Users\\gtoso\\AppData\\Local\\Temp\\ipykernel_1460\\3915632214.py:5: DeprecationWarning: Flags not at the start of the expression '(?P<rooms>\\\\d+)\\\\s+(?i' (truncated)\n",
      "  pattern_rooms_regex = re.compile(pattern)\n"
     ]
    }
   ],
   "source": [
    "# Usamos expresiones regulares para sacar los rooms en descripcion\n",
    "# Creamos un patron que encuentra numeros de un digito o mas, que pueden o no tener un espacio antes de la combinacion de letras amb indistindo de mayusculas o minusculas\n",
    "#logica del patron: que tome un numero de un digito que solamente tenga detras uno o mas espacios y seguido de uno o mas espacios y las letras amb\n",
    "pattern = '(?P<rooms>\\d+)\\s+(?i)amb' \n",
    "pattern_rooms_regex = re.compile(pattern)"
   ]
  },
  {
   "cell_type": "code",
   "execution_count": 37,
   "id": "a019b2f6",
   "metadata": {},
   "outputs": [
    {
     "name": "stdout",
     "output_type": "stream",
     "text": [
      "0         <re.Match object; span=(0, 5), match='2 AMB'>\n",
      "1                                                  None\n",
      "2         <re.Match object; span=(0, 5), match='2 AMB'>\n",
      "3         <re.Match object; span=(3, 8), match='3 amb'>\n",
      "4                                                  None\n",
      "                              ...                      \n",
      "121215                                             None\n",
      "121216                                             None\n",
      "121217                                             None\n",
      "121218    <re.Match object; span=(0, 5), match='2 Amb'>\n",
      "121219                                             None\n",
      "Name: description, Length: 69989, dtype: object\n"
     ]
    }
   ],
   "source": [
    "# Mostramos donde hay matches\n",
    "description_rooms_result = series_rooms_null_description.apply(lambda x: pattern_rooms_regex.search(str(x)))\n",
    "print(description_rooms_result)"
   ]
  },
  {
   "cell_type": "code",
   "execution_count": 38,
   "id": "e5254224",
   "metadata": {},
   "outputs": [
    {
     "name": "stdout",
     "output_type": "stream",
     "text": [
      "0           2\n",
      "1         NaN\n",
      "2           2\n",
      "3           3\n",
      "4         NaN\n",
      "         ... \n",
      "121215    NaN\n",
      "121216    NaN\n",
      "121217    NaN\n",
      "121218      2\n",
      "121219    NaN\n",
      "Name: description, Length: 69989, dtype: object\n",
      "Rooms matcheados= 18608\n",
      "['2' nan '3' '1' '4' '7' '5' '6' '9' '2017' '103' '297' '072' '000' '11'\n",
      " '8' '085' '37' '800' '10' '12' '900' '0002' '400' '20174' '006' '17' '90'\n",
      " '0001' '772' '2004' '14' '24' '50' '20' '23' '65' '20173']\n"
     ]
    }
   ],
   "source": [
    "# Extraemos los datos que usaremos para la imputación (pongo que x sea cero cuando es none, ya que si me trae el valor None, no lo puedo pasar a float)\n",
    "description_rooms_match = description_rooms_result.apply(lambda x: np.nan if x is None else x.group('rooms'))\n",
    "print(description_rooms_match)\n",
    "\n",
    "print(\"Rooms matcheados=\",(description_rooms_match.notnull()).sum()) #aca veo que cantidad pudo matchear\n",
    "print(description_rooms_match.unique()) #aca veo todos los rooms unicos que matcheo"
   ]
  },
  {
   "cell_type": "code",
   "execution_count": 39,
   "id": "8403c944",
   "metadata": {},
   "outputs": [
    {
     "name": "stdout",
     "output_type": "stream",
     "text": [
      "       property_type rooms\n",
      "0                 PH     2\n",
      "1          apartment   NaN\n",
      "2          apartment     2\n",
      "3                 PH     3\n",
      "4          apartment   NaN\n",
      "...              ...   ...\n",
      "121215     apartment   NaN\n",
      "121216         house   NaN\n",
      "121217     apartment   NaN\n",
      "121218     apartment     2\n",
      "121219     apartment   NaN\n",
      "\n",
      "[115688 rows x 2 columns]\n"
     ]
    },
    {
     "data": {
      "text/plain": [
       "rooms    object\n",
       "dtype: object"
      ]
     },
     "execution_count": 39,
     "metadata": {},
     "output_type": "execute_result"
    }
   ],
   "source": [
    "# Imputamos la serie rooms_match con su index en el DataSet \n",
    "data.loc[description_rooms_match.index, \"rooms\"] = description_rooms_match \n",
    "print(data[[\"property_type\" , \"rooms\"]])\n",
    "data[[\"rooms\"]].dtypes"
   ]
  },
  {
   "cell_type": "markdown",
   "id": "5f24f252",
   "metadata": {},
   "source": [
    "### Obtencion de rooms con expresion regular en *title*"
   ]
  },
  {
   "cell_type": "code",
   "execution_count": 40,
   "id": "3ce3d027",
   "metadata": {},
   "outputs": [
    {
     "data": {
      "text/plain": [
       "1         VENTA Depto 2 dorm. a estrenar 7 e/ 36 y 37   ...\n",
       "4         DEPTO 2 AMB AL CONTRAFRENTE ZONA CENTRO/PLAZA ...\n",
       "6         MUY BUEN PH AL FRENTE DOS DORMITORIOS , PATIO,...\n",
       "7         JOSE HERNANDEZ 1400 MONOAMBIENTE  ESTRENAR CAT...\n",
       "8         JOSE HERNANDEZ   1400 DOS AMBIENTES ESTRENAR ,...\n",
       "                                ...                        \n",
       "121214                                   Local - San Isidro\n",
       "121215           Torre Forum Alcorta- Impecable 3 ambientes\n",
       "121216    Ruca Inmuebles | Venta | Lomas de San Isidro |...\n",
       "121217    VENTA DEPARTAMENTO AMBIENTE DIVISIBLE A ESTREN...\n",
       "121219           Departamento apto profesional en el Centro\n",
       "Name: title, Length: 51381, dtype: object"
      ]
     },
     "execution_count": 40,
     "metadata": {},
     "output_type": "execute_result"
    }
   ],
   "source": [
    "#Hacemos todo lo mismo que antes pero para obtener los rooms que se puedan de title\n",
    "# Aplicamos al DataSet una mascara booleana que contenga cero rooms\n",
    "mask_rooms_null = data.rooms.isnull()\n",
    "data_rooms_null = data [mask_rooms_null]\n",
    "series_rooms_null_title = data_rooms_null.title\n",
    "series_rooms_null_title"
   ]
  },
  {
   "cell_type": "code",
   "execution_count": 41,
   "id": "b6a251e9",
   "metadata": {},
   "outputs": [
    {
     "name": "stdout",
     "output_type": "stream",
     "text": [
      "1                                                    None\n",
      "4          <re.Match object; span=(6, 11), match='2 AMB'>\n",
      "6                                                    None\n",
      "7                                                    None\n",
      "8                                                    None\n",
      "                               ...                       \n",
      "121214                                               None\n",
      "121215    <re.Match object; span=(31, 36), match='3 amb'>\n",
      "121216                                               None\n",
      "121217                                               None\n",
      "121219                                               None\n",
      "Name: title, Length: 51381, dtype: object\n"
     ]
    }
   ],
   "source": [
    "title_rooms_result = series_rooms_null_title.apply(lambda x: pattern_rooms_regex.search(str(x)))\n",
    "print(title_rooms_result)"
   ]
  },
  {
   "cell_type": "code",
   "execution_count": 42,
   "id": "127ded21",
   "metadata": {},
   "outputs": [
    {
     "name": "stdout",
     "output_type": "stream",
     "text": [
      "1         NaN\n",
      "4           2\n",
      "6         NaN\n",
      "7         NaN\n",
      "8         NaN\n",
      "         ... \n",
      "121214    NaN\n",
      "121215      3\n",
      "121216    NaN\n",
      "121217    NaN\n",
      "121219    NaN\n",
      "Name: title, Length: 51381, dtype: object\n",
      "Rooms matcheados= 2505\n",
      "[nan '2' '6' '3' '4' '5' '9' '1' '7' '8' '15' '4000' '360' '12']\n"
     ]
    }
   ],
   "source": [
    "title_rooms_match = title_rooms_result.apply(lambda x: np.nan if x is None else x.group('rooms'))\n",
    "print(title_rooms_match)\n",
    "\n",
    "print(\"Rooms matcheados=\",(title_rooms_match.notnull()).sum()) #aca veo que cantidad pudo matchear\n",
    "print(title_rooms_match.unique()) #aca veo todos los rooms unicos que matcheo"
   ]
  },
  {
   "cell_type": "code",
   "execution_count": 43,
   "id": "b603a32f",
   "metadata": {},
   "outputs": [
    {
     "name": "stdout",
     "output_type": "stream",
     "text": [
      "       property_type rooms\n",
      "0                 PH     2\n",
      "1          apartment   NaN\n",
      "2          apartment     2\n",
      "3                 PH     3\n",
      "4          apartment     2\n",
      "...              ...   ...\n",
      "121215     apartment     3\n",
      "121216         house   NaN\n",
      "121217     apartment   NaN\n",
      "121218     apartment     2\n",
      "121219     apartment   NaN\n",
      "\n",
      "[115688 rows x 2 columns]\n"
     ]
    },
    {
     "data": {
      "text/plain": [
       "rooms    object\n",
       "dtype: object"
      ]
     },
     "execution_count": 43,
     "metadata": {},
     "output_type": "execute_result"
    }
   ],
   "source": [
    "# Imputamos la serie rooms_match_title con su index en el DataSet \n",
    "data.loc[title_rooms_match.index, \"rooms\"] = title_rooms_match \n",
    "print(data[[\"property_type\" , \"rooms\"]])\n",
    "data[[\"rooms\"]].dtypes"
   ]
  },
  {
   "cell_type": "code",
   "execution_count": 44,
   "id": "c5e1ec4f",
   "metadata": {},
   "outputs": [
    {
     "data": {
      "text/plain": [
       "rooms    float64\n",
       "dtype: object"
      ]
     },
     "execution_count": 44,
     "metadata": {},
     "output_type": "execute_result"
    }
   ],
   "source": [
    " #Cambio el tipo de dato de object a float para homogeneizarlo con los datos numericos que tenemos\n",
    "data[\"rooms\"] = data[\"rooms\"].astype(\"float\")\n",
    "data[[\"rooms\"]].dtypes"
   ]
  },
  {
   "cell_type": "markdown",
   "id": "7b8a497a",
   "metadata": {},
   "source": [
    "## Obtencion de surface_total_in_m2 con expresiones regulares"
   ]
  },
  {
   "cell_type": "markdown",
   "id": "889ef5dd",
   "metadata": {},
   "source": [
    "##### *Se obtienen la superficie en la que ambas superficies sean nulas y el precio y el precio por metro cuadrado es nulo o cero. De esta manera sabemos que no podemos imputar una superficie con la otra y no podemos inferir la superficie mediante el precio y el precio por metro cuadrado*"
   ]
  },
  {
   "cell_type": "markdown",
   "id": "c14b24ee",
   "metadata": {},
   "source": [
    "### Obtencion de surface_total_in_m2 con expresion regular en *description*"
   ]
  },
  {
   "cell_type": "code",
   "execution_count": 45,
   "id": "3b3c751f",
   "metadata": {},
   "outputs": [
    {
     "name": "stdout",
     "output_type": "stream",
     "text": [
      "Cantidad de instancias en las que voy a buscar la superficie en title y descritpion=  11437\n"
     ]
    }
   ],
   "source": [
    "# Quiero ver que instancias son las que NO voy a poder imputar alguna superficie en funcion de otra u otras columnas de manera directa, por lo tanto lo tengo que obtener de expresiones regulares\n",
    "# Aplicamos al DataSet una mascara booleana que contenga nulo de surface_total_in_m2 ademas de nulo price_usd_per_m2\n",
    "surfaces_condition = data.surface_total_in_m2.isnull() & data.surface_covered_in_m2.isnull()\n",
    "price_condition = data.price_aprox_usd.isnull()\n",
    "price_per_m2_condition = data.price_usd_per_m2.isnull()\n",
    "\n",
    "mask_surface_total_in_m2_null = surfaces_condition & (price_condition | price_per_m2_condition)\n",
    "data_surface_total_in_m2_null = data [mask_surface_total_in_m2_null]\n",
    "\n",
    "series_surface_total_in_m2_null_description = data_surface_total_in_m2_null.description\n",
    "series_surface_total_in_m2_null_description\n",
    "\n",
    "print(\"Cantidad de instancias en las que voy a buscar la superficie en title y descritpion= \",data_surface_total_in_m2_null.shape[0])\n",
    "\n",
    "#Las instancias de data_prices_surfaces_prices_m2_null son las que tenemos que buscar en description y title buscando la superficie"
   ]
  },
  {
   "cell_type": "markdown",
   "id": "1ec7a98b",
   "metadata": {},
   "source": [
    "##### *Tomamos la decision de imputar unicamente el primer matcheo y en la columna de superficie total*"
   ]
  },
  {
   "cell_type": "code",
   "execution_count": 46,
   "id": "c1294f7b",
   "metadata": {},
   "outputs": [
    {
     "name": "stderr",
     "output_type": "stream",
     "text": [
      "C:\\Users\\gtoso\\AppData\\Local\\Temp\\ipykernel_1460\\2861351483.py:4: DeprecationWarning: Flags not at the start of the expression '(?P<surface_total_in' (truncated)\n",
      "  pattern_surface_total_in_m2_regex = re.compile(pattern)\n"
     ]
    }
   ],
   "source": [
    "# Usamos expresiones regulares para sacar la superficie en descripcion\n",
    "# Creamos un patron que encuentra numeros de un digito o mas, que pueden o no tener un espacio antes de la combinacion de letras m2 indistindo de mayusculas o minusculas\n",
    "pattern = '(?P<surface_total_in_m2>\\d+)\\s+(?i)m2' \n",
    "pattern_surface_total_in_m2_regex = re.compile(pattern)"
   ]
  },
  {
   "cell_type": "code",
   "execution_count": 47,
   "id": "c22f5f3b",
   "metadata": {},
   "outputs": [
    {
     "name": "stdout",
     "output_type": "stream",
     "text": [
      "0         <re.Match object; span=(0, 5), match='2 AMB'>\n",
      "1                                                  None\n",
      "2         <re.Match object; span=(0, 5), match='2 AMB'>\n",
      "3         <re.Match object; span=(3, 8), match='3 amb'>\n",
      "4                                                  None\n",
      "                              ...                      \n",
      "121215                                             None\n",
      "121216                                             None\n",
      "121217                                             None\n",
      "121218    <re.Match object; span=(0, 5), match='2 Amb'>\n",
      "121219                                             None\n",
      "Name: description, Length: 69989, dtype: object\n"
     ]
    }
   ],
   "source": [
    "# Mostramos donde hay matches\n",
    "description_surface_total_in_m2_result = series_surface_total_in_m2_null_description.apply(lambda x: pattern_surface_total_in_m2_regex.search(str(x)))\n",
    "print(description_rooms_result)"
   ]
  },
  {
   "cell_type": "code",
   "execution_count": 48,
   "id": "65cdfc59",
   "metadata": {},
   "outputs": [
    {
     "name": "stdout",
     "output_type": "stream",
     "text": [
      "1         NaN\n",
      "3         NaN\n",
      "9         NaN\n",
      "11        NaN\n",
      "65        NaN\n",
      "         ... \n",
      "121070    NaN\n",
      "121079    NaN\n",
      "121101    NaN\n",
      "121134    124\n",
      "121144    NaN\n",
      "Name: description, Length: 11437, dtype: object\n",
      "surfaces matcheados= 1235\n"
     ]
    }
   ],
   "source": [
    "description_surface_total_in_m2_match = description_surface_total_in_m2_result.apply(lambda x: np.nan if x is None else x.group('surface_total_in_m2'))\n",
    "print(description_surface_total_in_m2_match)\n",
    "\n",
    "print(\"surfaces matcheados=\",(description_surface_total_in_m2_match.notnull()).sum()) #aca veo que cantidad pudo matchear"
   ]
  },
  {
   "cell_type": "code",
   "execution_count": 49,
   "id": "e8838d00",
   "metadata": {},
   "outputs": [
    {
     "name": "stdout",
     "output_type": "stream",
     "text": [
      "       property_type surface_total_in_m2\n",
      "0                 PH                  55\n",
      "1          apartment                 NaN\n",
      "2          apartment                  55\n",
      "3                 PH                 NaN\n",
      "4          apartment                  35\n",
      "...              ...                 ...\n",
      "121215     apartment                 113\n",
      "121216         house                 360\n",
      "121217     apartment                  46\n",
      "121218     apartment                  48\n",
      "121219     apartment                  77\n",
      "\n",
      "[115688 rows x 2 columns]\n"
     ]
    },
    {
     "data": {
      "text/plain": [
       "surface_total_in_m2    object\n",
       "dtype: object"
      ]
     },
     "execution_count": 49,
     "metadata": {},
     "output_type": "execute_result"
    }
   ],
   "source": [
    "# Imputamos la serie description_surface_total_in_m2_match con su index en el DataSet \n",
    "data.loc[description_surface_total_in_m2_match.index, \"surface_total_in_m2\"] = description_surface_total_in_m2_match \n",
    "print(data[[\"property_type\" , \"surface_total_in_m2\"]])\n",
    "data[[\"surface_total_in_m2\"]].dtypes"
   ]
  },
  {
   "cell_type": "markdown",
   "id": "24922a9c",
   "metadata": {},
   "source": [
    "### Obtencion de surface_total_in_m2 con expresion regular en *title*"
   ]
  },
  {
   "cell_type": "code",
   "execution_count": 50,
   "id": "1e69b6f1",
   "metadata": {},
   "outputs": [
    {
     "data": {
      "text/plain": [
       "1         VENTA Depto 2 dorm. a estrenar 7 e/ 36 y 37   ...\n",
       "3                              PH 3 amb. cfte. reciclado   \n",
       "9                WHITE 7637 - 2 DORMITORIOS CON PATIO      \n",
       "11                                                  CHALET \n",
       "65                                 LOCAL COMERCIAL CON BAÑO\n",
       "                                ...                        \n",
       "121069                                   Casa - San Lorenzo\n",
       "121070                      Barrio Sarmiento - Rondeau 200.\n",
       "121079                             -Sarmiento- Rondeau 200.\n",
       "121101    Casa a estrenar en San Matias, 3 dormitorios y...\n",
       "121144    LA CASA DE TUS SUEÑOS!!! 3 DORM EN SANTINA NOR...\n",
       "Name: title, Length: 10202, dtype: object"
      ]
     },
     "execution_count": 50,
     "metadata": {},
     "output_type": "execute_result"
    }
   ],
   "source": [
    "# Realizo la misma mascara que para description\n",
    "# Aplicamos al DataSet una mascara booleana que contenga nulo de surface_total_in_m2 ademas de nulo price_usd_per_m2\n",
    "surfaces_condition = data.surface_total_in_m2.isnull() & data.surface_covered_in_m2.isnull()\n",
    "price_condition = data.price_aprox_usd.isnull()\n",
    "price_per_m2_condition = data.price_usd_per_m2.isnull()\n",
    "\n",
    "mask_surface_total_in_m2_null = surfaces_condition & (price_condition | price_per_m2_condition)\n",
    "data_surface_total_in_m2_null = data [mask_surface_total_in_m2_null]\n",
    "\n",
    "series_surface_total_in_m2_null_title = data_surface_total_in_m2_null.title\n",
    "series_surface_total_in_m2_null_title"
   ]
  },
  {
   "cell_type": "code",
   "execution_count": 51,
   "id": "e7feb048",
   "metadata": {},
   "outputs": [
    {
     "name": "stdout",
     "output_type": "stream",
     "text": [
      "1         None\n",
      "3         None\n",
      "9         None\n",
      "11        None\n",
      "65        None\n",
      "          ... \n",
      "121069    None\n",
      "121070    None\n",
      "121079    None\n",
      "121101    None\n",
      "121144    None\n",
      "Name: title, Length: 10202, dtype: object\n"
     ]
    }
   ],
   "source": [
    "title_surface_total_in_m2_result = series_surface_total_in_m2_null_title.apply(lambda x: pattern_surface_total_in_m2_regex.search(str(x)))\n",
    "print(title_surface_total_in_m2_result)"
   ]
  },
  {
   "cell_type": "code",
   "execution_count": 52,
   "id": "e5fda08a",
   "metadata": {},
   "outputs": [
    {
     "name": "stdout",
     "output_type": "stream",
     "text": [
      "1         NaN\n",
      "3         NaN\n",
      "9         NaN\n",
      "11        NaN\n",
      "65        NaN\n",
      "         ... \n",
      "121069    NaN\n",
      "121070    NaN\n",
      "121079    NaN\n",
      "121101    NaN\n",
      "121144    NaN\n",
      "Name: title, Length: 10202, dtype: object\n",
      "surfaces matcheados=  20\n"
     ]
    }
   ],
   "source": [
    "title_surface_total_in_m2_match = title_surface_total_in_m2_result.apply(lambda x: np.nan if x is None else x.group('surface_total_in_m2'))\n",
    "print(title_surface_total_in_m2_match)\n",
    "\n",
    "print(\"surfaces matcheados= \",(title_surface_total_in_m2_match.notnull()).sum()) #aca veo que cantidad pudo matchear"
   ]
  },
  {
   "cell_type": "code",
   "execution_count": 53,
   "id": "5da91523",
   "metadata": {},
   "outputs": [
    {
     "name": "stdout",
     "output_type": "stream",
     "text": [
      "       property_type surface_total_in_m2\n",
      "0                 PH                  55\n",
      "1          apartment                 NaN\n",
      "2          apartment                  55\n",
      "3                 PH                 NaN\n",
      "4          apartment                  35\n",
      "...              ...                 ...\n",
      "121215     apartment                 113\n",
      "121216         house                 360\n",
      "121217     apartment                  46\n",
      "121218     apartment                  48\n",
      "121219     apartment                  77\n",
      "\n",
      "[115688 rows x 2 columns]\n"
     ]
    },
    {
     "data": {
      "text/plain": [
       "surface_total_in_m2    object\n",
       "dtype: object"
      ]
     },
     "execution_count": 53,
     "metadata": {},
     "output_type": "execute_result"
    }
   ],
   "source": [
    "# Imputamos la serie description_surface_total_in_m2_match con su index en el DataSet \n",
    "data.loc[title_surface_total_in_m2_match.index, \"surface_total_in_m2\"] = title_surface_total_in_m2_match \n",
    "print(data[[\"property_type\" , \"surface_total_in_m2\"]])\n",
    "data[[\"surface_total_in_m2\"]].dtypes"
   ]
  },
  {
   "cell_type": "code",
   "execution_count": 54,
   "id": "1b6ce810",
   "metadata": {},
   "outputs": [
    {
     "data": {
      "text/plain": [
       "surface_total_in_m2    float64\n",
       "dtype: object"
      ]
     },
     "execution_count": 54,
     "metadata": {},
     "output_type": "execute_result"
    }
   ],
   "source": [
    "#Cambio el tipo de dato de object a float para homogeneizarlo con los datos numericos que tenemos\n",
    "data[\"surface_total_in_m2\"] = data[\"surface_total_in_m2\"].astype(\"float\")\n",
    "data[[\"surface_total_in_m2\"]].dtypes"
   ]
  },
  {
   "cell_type": "markdown",
   "id": "5b74f5d0",
   "metadata": {},
   "source": [
    "## Obtencion de price_aprox_usd mediante expresiones regulares"
   ]
  },
  {
   "cell_type": "markdown",
   "id": "33cc39c2",
   "metadata": {},
   "source": [
    "##### *Quiero obtener el price para las instancias en las que no tenemos price_aprox_usd y tampoco tenemos surface_total_in_m2 y surface_total_in_m2 o no tenemos price_usd_per_m2 y price_per_m2 *"
   ]
  },
  {
   "cell_type": "markdown",
   "id": "f082a53f",
   "metadata": {},
   "source": [
    "### Obtencion de price con expresion regular en *description*"
   ]
  },
  {
   "cell_type": "code",
   "execution_count": 55,
   "id": "4840e207",
   "metadata": {},
   "outputs": [
    {
     "data": {
      "text/plain": [
       "17871"
      ]
     },
     "execution_count": 55,
     "metadata": {},
     "output_type": "execute_result"
    }
   ],
   "source": [
    "# Quiero ver que instancias son las que NO voy a poder imputar algun price en funcion de otra u otras columnas de manera directa, por lo tanto lo tengo que obtener de expresiones regulares\n",
    "\n",
    "surface_condition = data.surface_total_in_m2.isnull() & data.surface_covered_in_m2.isnull()\n",
    "price_condition = data.price_aprox_usd.isnull()\n",
    "price_per_m2_condition = data.price_usd_per_m2.isnull()\n",
    "\n",
    "\n",
    "mask_price_null = price_condition & (price_per_m2_condition | surfaces_condition)\n",
    "data_price_null = data [mask_price_null]\n",
    "series_price_null_description = data_price_null.description\n",
    "series_price_null_description\n",
    "\n",
    "data_price_null.shape[0]\n",
    "\n",
    "#Las instancias de data_prices_surfaces_prices_m2_null son las que tenemos que buscar en description y title buscando el price"
   ]
  },
  {
   "cell_type": "code",
   "execution_count": 56,
   "id": "fcd66a26",
   "metadata": {},
   "outputs": [
    {
     "name": "stderr",
     "output_type": "stream",
     "text": [
      "C:\\Users\\gtoso\\AppData\\Local\\Temp\\ipykernel_1460\\4018430545.py:4: DeprecationWarning: Flags not at the start of the expression '(?P<price_aprox_usd>' (truncated)\n",
      "  pattern_price_regex = re.compile(pattern)\n"
     ]
    }
   ],
   "source": [
    "# Usamos expresiones regulares para sacar la superficie en descripcion\n",
    "# Creamos un patron que encuentra numeros de un digito o mas, que pueden o no tener un espacio antes de la combinacion de letras m2 indistindo de mayusculas o minusculas\n",
    "pattern = '(?P<price_aprox_usd>\\d+)\\s+(?i)usd' \n",
    "pattern_price_regex = re.compile(pattern)"
   ]
  },
  {
   "cell_type": "code",
   "execution_count": 57,
   "id": "e0523fc9",
   "metadata": {},
   "outputs": [
    {
     "name": "stdout",
     "output_type": "stream",
     "text": [
      "20        None\n",
      "41        None\n",
      "62        None\n",
      "67        None\n",
      "76        None\n",
      "          ... \n",
      "121210    None\n",
      "121211    None\n",
      "121212    None\n",
      "121213    None\n",
      "121214    None\n",
      "Name: description, Length: 17871, dtype: object\n"
     ]
    }
   ],
   "source": [
    "# Mostramos donde hay matches\n",
    "description_price_result = series_price_null_description.apply(lambda x: pattern_price_regex.search(str(x)))\n",
    "print(description_price_result)"
   ]
  },
  {
   "cell_type": "code",
   "execution_count": 58,
   "id": "7a2e2d5e",
   "metadata": {},
   "outputs": [
    {
     "name": "stdout",
     "output_type": "stream",
     "text": [
      "20        NaN\n",
      "41        NaN\n",
      "62        NaN\n",
      "67        NaN\n",
      "76        NaN\n",
      "         ... \n",
      "121210    NaN\n",
      "121211    NaN\n",
      "121212    NaN\n",
      "121213    NaN\n",
      "121214    NaN\n",
      "Name: description, Length: 17871, dtype: object\n",
      "price matcheados=  11\n"
     ]
    }
   ],
   "source": [
    "description_price_match = description_price_result.apply(lambda x: np.nan if x is None else x.group('price_aprox_usd'))\n",
    "print(description_price_match)\n",
    "\n",
    "print(\"price matcheados= \",(description_price_match.notnull()).sum()) #aca veo que cantidad pudo matchear"
   ]
  },
  {
   "cell_type": "code",
   "execution_count": 59,
   "id": "79527529",
   "metadata": {},
   "outputs": [
    {
     "name": "stdout",
     "output_type": "stream",
     "text": [
      "       property_type price_aprox_usd\n",
      "0                 PH           62000\n",
      "1          apartment          150000\n",
      "2          apartment           72000\n",
      "3                 PH           95000\n",
      "4          apartment           64000\n",
      "...              ...             ...\n",
      "121215     apartment          870000\n",
      "121216         house          498000\n",
      "121217     apartment          131500\n",
      "121218     apartment           95900\n",
      "121219     apartment          129000\n",
      "\n",
      "[115688 rows x 2 columns]\n"
     ]
    },
    {
     "data": {
      "text/plain": [
       "price_aprox_usd    object\n",
       "dtype: object"
      ]
     },
     "execution_count": 59,
     "metadata": {},
     "output_type": "execute_result"
    }
   ],
   "source": [
    "# Imputamos la serie description_surface_total_in_m2_match con su index en el DataSet \n",
    "data.loc[description_price_match.index, \"price_aprox_usd\"] = description_price_match \n",
    "print(data[[\"property_type\" , \"price_aprox_usd\"]])\n",
    "data[[\"price_aprox_usd\"]].dtypes"
   ]
  },
  {
   "cell_type": "markdown",
   "id": "5e9cea43",
   "metadata": {},
   "source": [
    "### Obtencion de price con expresion regular en *title*"
   ]
  },
  {
   "cell_type": "code",
   "execution_count": 60,
   "id": "d6b9dc86",
   "metadata": {},
   "outputs": [
    {
     "data": {
      "text/plain": [
       "17860"
      ]
     },
     "execution_count": 60,
     "metadata": {},
     "output_type": "execute_result"
    }
   ],
   "source": [
    "# Quiero ver que instancias son las que NO voy a poder imputar algun price en funcion de otra u otras columnas de manera directa, por lo tanto lo tengo que obtener de expresiones regulares\n",
    "\n",
    "surface_condition = data.surface_total_in_m2.isnull() & data.surface_covered_in_m2.isnull()\n",
    "price_condition = data.price_aprox_usd.isnull()\n",
    "price_per_m2_condition = data.price_usd_per_m2.isnull()\n",
    "\n",
    "\n",
    "mask_price_null = price_condition & (price_per_m2_condition | surfaces_condition)\n",
    "data_price_null = data [mask_price_null]\n",
    "series_price_null_title = data_price_null.title\n",
    "series_price_null_title\n",
    "\n",
    "data_price_null.shape[0]\n",
    "\n",
    "#Las instancias de data_prices_surfaces_prices_m2_null son las que tenemos que buscar en title buscando el price"
   ]
  },
  {
   "cell_type": "code",
   "execution_count": 61,
   "id": "332d9426",
   "metadata": {},
   "outputs": [
    {
     "name": "stdout",
     "output_type": "stream",
     "text": [
      "20        None\n",
      "41        None\n",
      "62        None\n",
      "67        None\n",
      "76        None\n",
      "          ... \n",
      "121210    None\n",
      "121211    None\n",
      "121212    None\n",
      "121213    None\n",
      "121214    None\n",
      "Name: title, Length: 17860, dtype: object\n"
     ]
    }
   ],
   "source": [
    "title_price_result = series_price_null_title.apply(lambda x: pattern_price_regex.search(str(x)))\n",
    "print(title_price_result)"
   ]
  },
  {
   "cell_type": "code",
   "execution_count": 62,
   "id": "8f18cf75",
   "metadata": {},
   "outputs": [
    {
     "name": "stdout",
     "output_type": "stream",
     "text": [
      "20       NaN\n",
      "41       NaN\n",
      "62       NaN\n",
      "67       NaN\n",
      "76       NaN\n",
      "          ..\n",
      "121210   NaN\n",
      "121211   NaN\n",
      "121212   NaN\n",
      "121213   NaN\n",
      "121214   NaN\n",
      "Name: title, Length: 17860, dtype: float64\n",
      "price matcheados=  0\n"
     ]
    }
   ],
   "source": [
    "title_price_match = title_price_result.apply(lambda x: np.nan if x is None else x.group('price_aprox_usd'))\n",
    "print(title_price_match)\n",
    "\n",
    "print(\"price matcheados= \",(title_price_match.notnull()).sum()) #aca veo que cantidad pudo matchear"
   ]
  },
  {
   "cell_type": "code",
   "execution_count": 63,
   "id": "89261ef4",
   "metadata": {},
   "outputs": [
    {
     "name": "stdout",
     "output_type": "stream",
     "text": [
      "       property_type price_aprox_usd\n",
      "0                 PH           62000\n",
      "1          apartment          150000\n",
      "2          apartment           72000\n",
      "3                 PH           95000\n",
      "4          apartment           64000\n",
      "...              ...             ...\n",
      "121215     apartment          870000\n",
      "121216         house          498000\n",
      "121217     apartment          131500\n",
      "121218     apartment           95900\n",
      "121219     apartment          129000\n",
      "\n",
      "[115688 rows x 2 columns]\n"
     ]
    },
    {
     "data": {
      "text/plain": [
       "price_aprox_usd    object\n",
       "dtype: object"
      ]
     },
     "execution_count": 63,
     "metadata": {},
     "output_type": "execute_result"
    }
   ],
   "source": [
    "# Imputamos la serie description_surface_total_in_m2_match con su index en el DataSet \n",
    "data.loc[title_price_match.index, \"price_aprox_usd\"] = title_price_match \n",
    "print(data[[\"property_type\" , \"price_aprox_usd\"]])\n",
    "data[[\"price_aprox_usd\"]].dtypes"
   ]
  },
  {
   "cell_type": "code",
   "execution_count": 64,
   "id": "d4d3af14",
   "metadata": {},
   "outputs": [
    {
     "data": {
      "text/plain": [
       "price_aprox_usd    float64\n",
       "dtype: object"
      ]
     },
     "execution_count": 64,
     "metadata": {},
     "output_type": "execute_result"
    }
   ],
   "source": [
    "#Cambio el tipo de dato de object a float para homogeneizarlo con los datos numericos que tenemos\n",
    "data[\"price_aprox_usd\"] = data[\"price_aprox_usd\"].astype(\"float\")\n",
    "data[[\"price_aprox_usd\"]].dtypes"
   ]
  },
  {
   "cell_type": "markdown",
   "id": "d60a2b76",
   "metadata": {},
   "source": [
    "## Obtencion de floor mediante expresiones regulares"
   ]
  },
  {
   "cell_type": "markdown",
   "id": "3aa2fcc4",
   "metadata": {},
   "source": [
    "##### *Quiero obtener el floor para las instancias en las que es nulo"
   ]
  },
  {
   "cell_type": "markdown",
   "id": "9e73c0b7",
   "metadata": {},
   "source": [
    "### Obtencion de floor con expresion regular en *description*"
   ]
  },
  {
   "cell_type": "code",
   "execution_count": 65,
   "id": "16e296e2",
   "metadata": {},
   "outputs": [
    {
     "data": {
      "text/plain": [
       "108073"
      ]
     },
     "execution_count": 65,
     "metadata": {},
     "output_type": "execute_result"
    }
   ],
   "source": [
    "#Busno los nulos en floor\n",
    "data_floor_null = data [data.floor.isnull()]\n",
    "\n",
    "series_floor_null_description = data_floor_null.description\n",
    "series_floor_null_description\n",
    "\n",
    "data_floor_null.shape[0]\n",
    "\n"
   ]
  },
  {
   "cell_type": "code",
   "execution_count": 66,
   "id": "fcd6a3ec",
   "metadata": {},
   "outputs": [
    {
     "name": "stderr",
     "output_type": "stream",
     "text": [
      "C:\\Users\\gtoso\\AppData\\Local\\Temp\\ipykernel_1460\\1837579789.py:4: DeprecationWarning: Flags not at the start of the expression '(?P<floor>\\\\d+)\\\\s+(?i' (truncated)\n",
      "  pattern_floor_regex = re.compile(pattern)\n"
     ]
    }
   ],
   "source": [
    "# Usamos expresiones regulares para sacar el floor en la columna description\n",
    "# Creamos un patron que encuentra numeros de un digito o mas, que pueden o no tener un espacio antes de la combinacion de letras piso indistindo de mayusculas o minusculas\n",
    "pattern = '(?P<floor>\\d+)\\s+(?i)piso' \n",
    "pattern_floor_regex = re.compile(pattern)"
   ]
  },
  {
   "cell_type": "code",
   "execution_count": 67,
   "id": "ed8d5c91",
   "metadata": {},
   "outputs": [
    {
     "name": "stdout",
     "output_type": "stream",
     "text": [
      "0         None\n",
      "1         None\n",
      "2         None\n",
      "3         None\n",
      "4         None\n",
      "          ... \n",
      "121215    None\n",
      "121216    None\n",
      "121217    None\n",
      "121218    None\n",
      "121219    None\n",
      "Name: description, Length: 108073, dtype: object\n"
     ]
    }
   ],
   "source": [
    "# Mostramos donde hay matches\n",
    "description_floor_result = series_floor_null_description.apply(lambda x: pattern_floor_regex.search(str(x)))\n",
    "print(description_floor_result)"
   ]
  },
  {
   "cell_type": "code",
   "execution_count": 68,
   "id": "19ab2d21",
   "metadata": {},
   "outputs": [
    {
     "name": "stdout",
     "output_type": "stream",
     "text": [
      "0         NaN\n",
      "1         NaN\n",
      "2         NaN\n",
      "3         NaN\n",
      "4         NaN\n",
      "         ... \n",
      "121215    NaN\n",
      "121216    NaN\n",
      "121217    NaN\n",
      "121218    NaN\n",
      "121219    NaN\n",
      "Name: description, Length: 108073, dtype: object\n",
      "floor matcheados=  6842\n"
     ]
    }
   ],
   "source": [
    "description_floor_match = description_floor_result.apply(lambda x: np.nan if x is None else x.group('floor'))\n",
    "print(description_floor_match)\n",
    "\n",
    "print(\"floor matcheados= \",(description_floor_match.notnull()).sum()) #aca veo que cantidad pudo matchear"
   ]
  },
  {
   "cell_type": "code",
   "execution_count": 69,
   "id": "76875f4e",
   "metadata": {},
   "outputs": [
    {
     "name": "stdout",
     "output_type": "stream",
     "text": [
      "       property_type floor\n",
      "0                 PH   NaN\n",
      "1          apartment   NaN\n",
      "2          apartment   NaN\n",
      "3                 PH   NaN\n",
      "4          apartment   NaN\n",
      "...              ...   ...\n",
      "121215     apartment   NaN\n",
      "121216         house   NaN\n",
      "121217     apartment   NaN\n",
      "121218     apartment   NaN\n",
      "121219     apartment   NaN\n",
      "\n",
      "[115688 rows x 2 columns]\n"
     ]
    },
    {
     "data": {
      "text/plain": [
       "floor    object\n",
       "dtype: object"
      ]
     },
     "execution_count": 69,
     "metadata": {},
     "output_type": "execute_result"
    }
   ],
   "source": [
    "# Imputamos la serie description_floor_match con su index en el DataSet \n",
    "data.loc[description_floor_match.index, \"floor\"] = description_floor_match \n",
    "print(data[[\"property_type\" , \"floor\"]])\n",
    "data[[\"floor\"]].dtypes"
   ]
  },
  {
   "cell_type": "markdown",
   "id": "d6ce53b6",
   "metadata": {},
   "source": [
    "### Obtencion de floor con expresion regular en *title*"
   ]
  },
  {
   "cell_type": "code",
   "execution_count": 70,
   "id": "54ff9a6a",
   "metadata": {},
   "outputs": [
    {
     "data": {
      "text/plain": [
       "101231"
      ]
     },
     "execution_count": 70,
     "metadata": {},
     "output_type": "execute_result"
    }
   ],
   "source": [
    "#Busno los nulos en floor\n",
    "data_floor_null = data [data.floor.isnull()]\n",
    "\n",
    "series_floor_null_title = data_floor_null.description\n",
    "series_floor_null_title\n",
    "\n",
    "data_floor_null.shape[0]"
   ]
  },
  {
   "cell_type": "code",
   "execution_count": 71,
   "id": "7c9448e9",
   "metadata": {},
   "outputs": [
    {
     "name": "stdout",
     "output_type": "stream",
     "text": [
      "0         None\n",
      "1         None\n",
      "2         None\n",
      "3         None\n",
      "4         None\n",
      "          ... \n",
      "121215    None\n",
      "121216    None\n",
      "121217    None\n",
      "121218    None\n",
      "121219    None\n",
      "Name: description, Length: 101231, dtype: object\n"
     ]
    }
   ],
   "source": [
    "# Mostramos donde hay matches\n",
    "title_floor_result = series_floor_null_title.apply(lambda x: pattern_floor_regex.search(str(x)))\n",
    "print(title_floor_result)"
   ]
  },
  {
   "cell_type": "code",
   "execution_count": 72,
   "id": "63bf51aa",
   "metadata": {},
   "outputs": [
    {
     "name": "stdout",
     "output_type": "stream",
     "text": [
      "0        NaN\n",
      "1        NaN\n",
      "2        NaN\n",
      "3        NaN\n",
      "4        NaN\n",
      "          ..\n",
      "121215   NaN\n",
      "121216   NaN\n",
      "121217   NaN\n",
      "121218   NaN\n",
      "121219   NaN\n",
      "Name: description, Length: 101231, dtype: float64\n",
      "floor matcheados=  0\n"
     ]
    }
   ],
   "source": [
    "title_floor_match = title_floor_result.apply(lambda x: np.nan if x is None else x.group('floor'))\n",
    "print(title_floor_match)\n",
    "\n",
    "print(\"floor matcheados= \",(title_floor_match.notnull()).sum()) #aca veo que cantidad pudo matchear"
   ]
  },
  {
   "cell_type": "code",
   "execution_count": 73,
   "id": "a999103e",
   "metadata": {},
   "outputs": [
    {
     "name": "stdout",
     "output_type": "stream",
     "text": [
      "       property_type floor\n",
      "0                 PH   NaN\n",
      "1          apartment   NaN\n",
      "2          apartment   NaN\n",
      "3                 PH   NaN\n",
      "4          apartment   NaN\n",
      "...              ...   ...\n",
      "121215     apartment   NaN\n",
      "121216         house   NaN\n",
      "121217     apartment   NaN\n",
      "121218     apartment   NaN\n",
      "121219     apartment   NaN\n",
      "\n",
      "[115688 rows x 2 columns]\n"
     ]
    },
    {
     "data": {
      "text/plain": [
       "floor    object\n",
       "dtype: object"
      ]
     },
     "execution_count": 73,
     "metadata": {},
     "output_type": "execute_result"
    }
   ],
   "source": [
    "# Imputamos la serie description_floor_match con su index en el DataSet \n",
    "data.loc[title_floor_match.index, \"floor\"] = title_floor_match \n",
    "print(data[[\"property_type\" , \"floor\"]])\n",
    "data[[\"floor\"]].dtypes"
   ]
  },
  {
   "cell_type": "code",
   "execution_count": 74,
   "id": "44f8945e",
   "metadata": {},
   "outputs": [
    {
     "data": {
      "text/plain": [
       "floor    float64\n",
       "dtype: object"
      ]
     },
     "execution_count": 74,
     "metadata": {},
     "output_type": "execute_result"
    }
   ],
   "source": [
    "#Cambio el tipo de dato de object a float para homogeneizarlo con los datos numericos que tenemos\n",
    "data[\"floor\"] = data[\"floor\"].astype(\"float\")\n",
    "data[[\"floor\"]].dtypes"
   ]
  },
  {
   "cell_type": "markdown",
   "id": "7b178aec",
   "metadata": {},
   "source": [
    "## Obtencion de expenses mediante expresiones regulares"
   ]
  },
  {
   "cell_type": "markdown",
   "id": "6327857d",
   "metadata": {},
   "source": [
    "##### *Quiero obtener el expensas para las instancias en las que es nulo"
   ]
  },
  {
   "cell_type": "markdown",
   "id": "34276d99",
   "metadata": {},
   "source": [
    "### Obtencion de floor con expresion regular en *description*"
   ]
  },
  {
   "cell_type": "code",
   "execution_count": 65,
   "id": "09819dd8",
   "metadata": {},
   "outputs": [
    {
     "data": {
      "text/plain": [
       "108073"
      ]
     },
     "execution_count": 65,
     "metadata": {},
     "output_type": "execute_result"
    }
   ],
   "source": [
    "#Busno los nulos en floor\n",
    "data_expenses_null = data [data.expenses.isnull()]\n",
    "\n",
    "series_expenses_null_description = data_expenses_null.description\n",
    "series_expenses_null_description\n",
    "\n",
    "data_expenses_null.shape[0]\n",
    "\n"
   ]
  },
  {
   "cell_type": "code",
   "execution_count": 66,
   "id": "1ee2c2d4",
   "metadata": {},
   "outputs": [
    {
     "name": "stderr",
     "output_type": "stream",
     "text": [
      "C:\\Users\\gtoso\\AppData\\Local\\Temp\\ipykernel_1460\\1837579789.py:4: DeprecationWarning: Flags not at the start of the expression '(?P<floor>\\\\d+)\\\\s+(?i' (truncated)\n",
      "  pattern_floor_regex = re.compile(pattern)\n"
     ]
    }
   ],
   "source": [
    "# Usamos expresiones regulares para sacar el floor en la columna description\n",
    "# Creamos un patron que encuentra numeros de un digito o mas, que pueden o no tener un espacio antes de la combinacion de letras piso indistindo de mayusculas o minusculas\n",
    "pattern = '(?P<floor>\\d+)\\s+(?i)piso' \n",
    "pattern_floor_regex = re.compile(pattern)"
   ]
  },
  {
   "cell_type": "code",
   "execution_count": 67,
   "id": "f279d22e",
   "metadata": {},
   "outputs": [
    {
     "name": "stdout",
     "output_type": "stream",
     "text": [
      "0         None\n",
      "1         None\n",
      "2         None\n",
      "3         None\n",
      "4         None\n",
      "          ... \n",
      "121215    None\n",
      "121216    None\n",
      "121217    None\n",
      "121218    None\n",
      "121219    None\n",
      "Name: description, Length: 108073, dtype: object\n"
     ]
    }
   ],
   "source": [
    "# Mostramos donde hay matches\n",
    "description_floor_result = series_floor_null_description.apply(lambda x: pattern_floor_regex.search(str(x)))\n",
    "print(description_floor_result)"
   ]
  },
  {
   "cell_type": "code",
   "execution_count": 68,
   "id": "e073c66e",
   "metadata": {},
   "outputs": [
    {
     "name": "stdout",
     "output_type": "stream",
     "text": [
      "0         NaN\n",
      "1         NaN\n",
      "2         NaN\n",
      "3         NaN\n",
      "4         NaN\n",
      "         ... \n",
      "121215    NaN\n",
      "121216    NaN\n",
      "121217    NaN\n",
      "121218    NaN\n",
      "121219    NaN\n",
      "Name: description, Length: 108073, dtype: object\n",
      "floor matcheados=  6842\n"
     ]
    }
   ],
   "source": [
    "description_floor_match = description_floor_result.apply(lambda x: np.nan if x is None else x.group('floor'))\n",
    "print(description_floor_match)\n",
    "\n",
    "print(\"floor matcheados= \",(description_floor_match.notnull()).sum()) #aca veo que cantidad pudo matchear"
   ]
  },
  {
   "cell_type": "code",
   "execution_count": 69,
   "id": "95d95879",
   "metadata": {},
   "outputs": [
    {
     "name": "stdout",
     "output_type": "stream",
     "text": [
      "       property_type floor\n",
      "0                 PH   NaN\n",
      "1          apartment   NaN\n",
      "2          apartment   NaN\n",
      "3                 PH   NaN\n",
      "4          apartment   NaN\n",
      "...              ...   ...\n",
      "121215     apartment   NaN\n",
      "121216         house   NaN\n",
      "121217     apartment   NaN\n",
      "121218     apartment   NaN\n",
      "121219     apartment   NaN\n",
      "\n",
      "[115688 rows x 2 columns]\n"
     ]
    },
    {
     "data": {
      "text/plain": [
       "floor    object\n",
       "dtype: object"
      ]
     },
     "execution_count": 69,
     "metadata": {},
     "output_type": "execute_result"
    }
   ],
   "source": [
    "# Imputamos la serie description_floor_match con su index en el DataSet \n",
    "data.loc[description_floor_match.index, \"floor\"] = description_floor_match \n",
    "print(data[[\"property_type\" , \"floor\"]])\n",
    "data[[\"floor\"]].dtypes"
   ]
  },
  {
   "cell_type": "markdown",
   "id": "3688b2c2",
   "metadata": {},
   "source": [
    "### Obtencion de floor con expresion regular en *title*"
   ]
  },
  {
   "cell_type": "code",
   "execution_count": 70,
   "id": "98a291ca",
   "metadata": {},
   "outputs": [
    {
     "data": {
      "text/plain": [
       "101231"
      ]
     },
     "execution_count": 70,
     "metadata": {},
     "output_type": "execute_result"
    }
   ],
   "source": [
    "#Busno los nulos en floor\n",
    "data_floor_null = data [data.floor.isnull()]\n",
    "\n",
    "series_floor_null_title = data_floor_null.description\n",
    "series_floor_null_title\n",
    "\n",
    "data_floor_null.shape[0]"
   ]
  },
  {
   "cell_type": "code",
   "execution_count": 71,
   "id": "62c0db84",
   "metadata": {},
   "outputs": [
    {
     "name": "stdout",
     "output_type": "stream",
     "text": [
      "0         None\n",
      "1         None\n",
      "2         None\n",
      "3         None\n",
      "4         None\n",
      "          ... \n",
      "121215    None\n",
      "121216    None\n",
      "121217    None\n",
      "121218    None\n",
      "121219    None\n",
      "Name: description, Length: 101231, dtype: object\n"
     ]
    }
   ],
   "source": [
    "# Mostramos donde hay matches\n",
    "title_floor_result = series_floor_null_title.apply(lambda x: pattern_floor_regex.search(str(x)))\n",
    "print(title_floor_result)"
   ]
  },
  {
   "cell_type": "code",
   "execution_count": 72,
   "id": "fd1d04ce",
   "metadata": {},
   "outputs": [
    {
     "name": "stdout",
     "output_type": "stream",
     "text": [
      "0        NaN\n",
      "1        NaN\n",
      "2        NaN\n",
      "3        NaN\n",
      "4        NaN\n",
      "          ..\n",
      "121215   NaN\n",
      "121216   NaN\n",
      "121217   NaN\n",
      "121218   NaN\n",
      "121219   NaN\n",
      "Name: description, Length: 101231, dtype: float64\n",
      "floor matcheados=  0\n"
     ]
    }
   ],
   "source": [
    "title_floor_match = title_floor_result.apply(lambda x: np.nan if x is None else x.group('floor'))\n",
    "print(title_floor_match)\n",
    "\n",
    "print(\"floor matcheados= \",(title_floor_match.notnull()).sum()) #aca veo que cantidad pudo matchear"
   ]
  },
  {
   "cell_type": "code",
   "execution_count": 73,
   "id": "c3f3ea2f",
   "metadata": {},
   "outputs": [
    {
     "name": "stdout",
     "output_type": "stream",
     "text": [
      "       property_type floor\n",
      "0                 PH   NaN\n",
      "1          apartment   NaN\n",
      "2          apartment   NaN\n",
      "3                 PH   NaN\n",
      "4          apartment   NaN\n",
      "...              ...   ...\n",
      "121215     apartment   NaN\n",
      "121216         house   NaN\n",
      "121217     apartment   NaN\n",
      "121218     apartment   NaN\n",
      "121219     apartment   NaN\n",
      "\n",
      "[115688 rows x 2 columns]\n"
     ]
    },
    {
     "data": {
      "text/plain": [
       "floor    object\n",
       "dtype: object"
      ]
     },
     "execution_count": 73,
     "metadata": {},
     "output_type": "execute_result"
    }
   ],
   "source": [
    "# Imputamos la serie description_floor_match con su index en el DataSet \n",
    "data.loc[title_floor_match.index, \"floor\"] = title_floor_match \n",
    "print(data[[\"property_type\" , \"floor\"]])\n",
    "data[[\"floor\"]].dtypes"
   ]
  },
  {
   "cell_type": "code",
   "execution_count": 74,
   "id": "bacadae9",
   "metadata": {},
   "outputs": [
    {
     "data": {
      "text/plain": [
       "floor    float64\n",
       "dtype: object"
      ]
     },
     "execution_count": 74,
     "metadata": {},
     "output_type": "execute_result"
    }
   ],
   "source": [
    "#Cambio el tipo de dato de object a float para homogeneizarlo con los datos numericos que tenemos\n",
    "data[\"floor\"] = data[\"floor\"].astype(\"float\")\n",
    "data[[\"floor\"]].dtypes"
   ]
  },
  {
   "cell_type": "markdown",
   "id": "f9b4d9dd",
   "metadata": {},
   "source": [
    "# Obtencion de datos mediante imputacion directa"
   ]
  },
  {
   "cell_type": "markdown",
   "id": "3ce44c02",
   "metadata": {},
   "source": [
    "## Obtencion de surface_total_in_m2 y surface_covered_in_m2 mediante imputacion directa"
   ]
  },
  {
   "cell_type": "markdown",
   "id": "b4c2a1e4",
   "metadata": {},
   "source": [
    "### Datos de Superficie total o superficie cubierta que quedaran nulos o ceros por ahora"
   ]
  },
  {
   "cell_type": "code",
   "execution_count": 75,
   "id": "3f8de61a",
   "metadata": {},
   "outputs": [
    {
     "name": "stdout",
     "output_type": "stream",
     "text": [
      "       property_type  surface_total_in_m2  surface_covered_in_m2\n",
      "1          apartment                  NaN                    NaN\n",
      "3                 PH                  NaN                    NaN\n",
      "9              house                  NaN                    NaN\n",
      "11             house                  NaN                    NaN\n",
      "65             store                  NaN                    NaN\n",
      "...              ...                  ...                    ...\n",
      "121069         house                  NaN                    NaN\n",
      "121070     apartment                  NaN                    NaN\n",
      "121079     apartment                  NaN                    NaN\n",
      "121101         house                  NaN                    NaN\n",
      "121144         house                  NaN                    NaN\n",
      "\n",
      "[10182 rows x 3 columns]\n"
     ]
    }
   ],
   "source": [
    "# Realizamos una mascara para ver las instancias de superficie tanto cubierta como total de los cuales no tenemos para imputar un valor con el otro\n",
    "\n",
    "mask_surfaces_null = data.surface_total_in_m2.isnull() & data.surface_covered_in_m2.isnull()\n",
    "data_surfaces_null = data[mask_surfaces_null]\n",
    "\n",
    "print (data_surfaces_null[[\"property_type\" , \"surface_total_in_m2\" , \"surface_covered_in_m2\"]])\n",
    "\n",
    "#En este DataFrame hay tanto superficies nulas como superficies iguales a cero"
   ]
  },
  {
   "cell_type": "markdown",
   "id": "5d1d6ec3",
   "metadata": {},
   "source": [
    "### Datos de superficie total o superficie que imputo uno con el otro"
   ]
  },
  {
   "cell_type": "markdown",
   "id": "ed5624dc",
   "metadata": {},
   "source": [
    "#### *Los imputo en este momento, para asegurarme de que cuando una es nula ambas lo son entonces le puedo dar un tratamiento mas sencillo a las condiciones booleanas mas adelante*"
   ]
  },
  {
   "cell_type": "code",
   "execution_count": 76,
   "id": "b67d4bb4",
   "metadata": {},
   "outputs": [
    {
     "name": "stdout",
     "output_type": "stream",
     "text": [
      "       property_type  surface_total_in_m2  surface_covered_in_m2\n",
      "68         apartment                  NaN                   72.0\n",
      "77         apartment                  NaN                   85.0\n",
      "79         apartment                  NaN                   42.0\n",
      "87             house                  NaN                  170.0\n",
      "89         apartment                  NaN                   53.0\n",
      "...              ...                  ...                    ...\n",
      "121155         house                  NaN                  130.0\n",
      "121156         house                  NaN                  130.0\n",
      "121207         house                  NaN                  178.0\n",
      "121208         house                  NaN                  178.0\n",
      "121210         house                  NaN                  120.0\n",
      "\n",
      "[26000 rows x 3 columns]\n",
      "       property_type  surface_total_in_m2  surface_covered_in_m2\n",
      "10             house               1514.0                    NaN\n",
      "15             house                164.0                    NaN\n",
      "66         apartment                 38.0                    NaN\n",
      "67             house                220.0                    NaN\n",
      "142            house                380.0                    NaN\n",
      "...              ...                  ...                    ...\n",
      "121203     apartment                 50.0                    NaN\n",
      "121204     apartment                 50.0                    NaN\n",
      "121205     apartment                 50.0                    NaN\n",
      "121206     apartment                 50.0                    NaN\n",
      "121209     apartment                157.0                    NaN\n",
      "\n",
      "[7564 rows x 3 columns]\n"
     ]
    }
   ],
   "source": [
    "# Realizamos una mascara para ver que valores tenemos nulos de superficie total pero que la cubierta no es nula, por lo tanto se la podemos imputar\n",
    "mask_surface_total_in_m2_null = data.surface_total_in_m2.isnull() & data.surface_covered_in_m2.notnull()\n",
    "data_surface_total_in_m2_null = data[mask_surface_total_in_m2_null]\n",
    "\n",
    "# Realizamos una mascara para ver que valores tenemos nulos de superficie cubierta pero que la total no es nula, por lo tanto se la podemos imputar\n",
    "mask_surface_covered_in_m2_null =  data.surface_total_in_m2.notnull() & data.surface_covered_in_m2.isnull()\n",
    "data_surface_covered_in_m2_null = data[mask_surface_covered_in_m2_null]\n",
    "\n",
    "\n",
    "print (data_surface_total_in_m2_null[[\"property_type\" , \"surface_total_in_m2\" , \"surface_covered_in_m2\"]])\n",
    "print (data_surface_covered_in_m2_null[[\"property_type\" , \"surface_total_in_m2\" , \"surface_covered_in_m2\"]])\n"
   ]
  },
  {
   "cell_type": "code",
   "execution_count": 77,
   "id": "d1a67f40",
   "metadata": {},
   "outputs": [],
   "source": [
    "# Aca imputamos los valores nulos de superficie total con los valores de superficie cubierta, utilizando la mascara mask_surface_total_in_m2_null\n",
    "data.loc[data_surface_total_in_m2_null.index, \"surface_total_in_m2\"] = data.loc[data_surface_total_in_m2_null.index, \"surface_covered_in_m2\"]\n",
    "\n",
    "# Aca imputamos los valores nulos de superficie cubierta con los valores de superficie total, utilizando la mascara mask_surface_covered_in_m2_null\n",
    "data.loc[data_surface_covered_in_m2_null.index, \"surface_covered_in_m2\"] = data.loc[data_surface_covered_in_m2_null.index, \"surface_total_in_m2\"]"
   ]
  },
  {
   "cell_type": "markdown",
   "id": "68e65349",
   "metadata": {},
   "source": [
    "### Obtención de las superficias nulas en funcion del precio y del precio por metro cuadrado"
   ]
  },
  {
   "cell_type": "markdown",
   "id": "a7b83b3b",
   "metadata": {},
   "source": [
    "##### Vemos instancias que tengan el precio y el precio por metro cuadrado pero no la superficie"
   ]
  },
  {
   "cell_type": "code",
   "execution_count": 78,
   "id": "84bc33a2",
   "metadata": {},
   "outputs": [],
   "source": [
    "#Aca veo las instancias que tengan el precio y el precio por metro cuadrado pero no la superficie"
   ]
  },
  {
   "cell_type": "code",
   "execution_count": 79,
   "id": "e59cac8f",
   "metadata": {},
   "outputs": [
    {
     "data": {
      "text/html": [
       "<div>\n",
       "<style scoped>\n",
       "    .dataframe tbody tr th:only-of-type {\n",
       "        vertical-align: middle;\n",
       "    }\n",
       "\n",
       "    .dataframe tbody tr th {\n",
       "        vertical-align: top;\n",
       "    }\n",
       "\n",
       "    .dataframe thead th {\n",
       "        text-align: right;\n",
       "    }\n",
       "</style>\n",
       "<table border=\"1\" class=\"dataframe\">\n",
       "  <thead>\n",
       "    <tr style=\"text-align: right;\">\n",
       "      <th></th>\n",
       "      <th>price_aprox_usd</th>\n",
       "      <th>price_usd_per_m2</th>\n",
       "      <th>surface_total_in_m2</th>\n",
       "      <th>surface_covered_in_m2</th>\n",
       "    </tr>\n",
       "  </thead>\n",
       "  <tbody>\n",
       "  </tbody>\n",
       "</table>\n",
       "</div>"
      ],
      "text/plain": [
       "Empty DataFrame\n",
       "Columns: [price_aprox_usd, price_usd_per_m2, surface_total_in_m2, surface_covered_in_m2]\n",
       "Index: []"
      ]
     },
     "execution_count": 79,
     "metadata": {},
     "output_type": "execute_result"
    }
   ],
   "source": [
    "# Se hacen tres mascaras booleanas: mask_surfaces_null = instancias sin datos de superficie / mask_prices_notnull = instancias con algun dato de precio / mask_prices_per_m2_notnull = instancias con algun dato de precio por metro cuadrado\n",
    "condition_surfaces_null = data.surface_total_in_m2.isnull() & data.surface_covered_in_m2.isnull()\n",
    "condition_price_notnull = data.price_aprox_usd.notnull()\n",
    "condition_price_per_m2_notnull = data.price_usd_per_m2.notnull()\n",
    "\n",
    "mask_surfaces_imput = condition_surfaces_null & condition_price_notnull & condition_price_per_m2_notnull\n",
    "data_surfaces_imput = data[mask_surfaces_imput]\n",
    "\n",
    "data_surfaces_imput[[\"price_aprox_usd\" , \"price_usd_per_m2\" , \"surface_total_in_m2\" , \"surface_covered_in_m2\"]]\n",
    "\n",
    "#Como da un dataframe vacio no hay ninguna instancia de superficie que pueda imputar de esta forma"
   ]
  },
  {
   "cell_type": "markdown",
   "id": "f996798a",
   "metadata": {},
   "source": [
    "## Obtencion de price mediante imputacion directa en funcion de prices_per_m2 y surface"
   ]
  },
  {
   "cell_type": "code",
   "execution_count": 80,
   "id": "dd5dda4a",
   "metadata": {},
   "outputs": [
    {
     "data": {
      "text/html": [
       "<div>\n",
       "<style scoped>\n",
       "    .dataframe tbody tr th:only-of-type {\n",
       "        vertical-align: middle;\n",
       "    }\n",
       "\n",
       "    .dataframe tbody tr th {\n",
       "        vertical-align: top;\n",
       "    }\n",
       "\n",
       "    .dataframe thead th {\n",
       "        text-align: right;\n",
       "    }\n",
       "</style>\n",
       "<table border=\"1\" class=\"dataframe\">\n",
       "  <thead>\n",
       "    <tr style=\"text-align: right;\">\n",
       "      <th></th>\n",
       "      <th>price_aprox_usd</th>\n",
       "      <th>price_usd_per_m2</th>\n",
       "      <th>surface_total_in_m2</th>\n",
       "      <th>surface_covered_in_m2</th>\n",
       "    </tr>\n",
       "  </thead>\n",
       "  <tbody>\n",
       "  </tbody>\n",
       "</table>\n",
       "</div>"
      ],
      "text/plain": [
       "Empty DataFrame\n",
       "Columns: [price_aprox_usd, price_usd_per_m2, surface_total_in_m2, surface_covered_in_m2]\n",
       "Index: []"
      ]
     },
     "execution_count": 80,
     "metadata": {},
     "output_type": "execute_result"
    }
   ],
   "source": [
    "# Se hacen tres mascaras booleanas: mask_surfaces_nonull = instancias con datos de superficie no nulos / mask_prices_null = instancias sin datos de precios / mask_prices_per_m2_notnull = instancias con algun dato de precio por metro cuadrado\n",
    "condition_surfaces_notnull = data.surface_total_in_m2.notnull() | data.surface_covered_in_m2.notnull()\n",
    "condition_price_null =  data.price_aprox_usd.isnull()\n",
    "condition_price_per_m2_notnull = data.price_usd_per_m2.notnull()\n",
    "\n",
    "mask_prices_imput = condition_surfaces_null & condition_price_notnull & condition_price_per_m2_notnull\n",
    "data_prices_imput = data[mask_prices_imput]\n",
    "\n",
    "data_prices_imput[[ \"price_aprox_usd\" , \"price_usd_per_m2\" , \"surface_total_in_m2\" , \"surface_covered_in_m2\"]]\n",
    "\n",
    "#Como da un dataframe vacio no hay ninguna instancia de price que pueda imputar de esta forma"
   ]
  },
  {
   "cell_type": "markdown",
   "id": "04329ac9",
   "metadata": {},
   "source": [
    "## Obtencion de price_per_m2 mediante imputacion directa en funcion de surface y price"
   ]
  },
  {
   "cell_type": "code",
   "execution_count": 81,
   "id": "de4f7cdf",
   "metadata": {},
   "outputs": [
    {
     "data": {
      "text/html": [
       "<div>\n",
       "<style scoped>\n",
       "    .dataframe tbody tr th:only-of-type {\n",
       "        vertical-align: middle;\n",
       "    }\n",
       "\n",
       "    .dataframe tbody tr th {\n",
       "        vertical-align: top;\n",
       "    }\n",
       "\n",
       "    .dataframe thead th {\n",
       "        text-align: right;\n",
       "    }\n",
       "</style>\n",
       "<table border=\"1\" class=\"dataframe\">\n",
       "  <thead>\n",
       "    <tr style=\"text-align: right;\">\n",
       "      <th></th>\n",
       "      <th>price_aprox_usd</th>\n",
       "      <th>price_usd_per_m2</th>\n",
       "      <th>surface_total_in_m2</th>\n",
       "      <th>surface_covered_in_m2</th>\n",
       "    </tr>\n",
       "  </thead>\n",
       "  <tbody>\n",
       "    <tr>\n",
       "      <th>675</th>\n",
       "      <td>130000.00</td>\n",
       "      <td>NaN</td>\n",
       "      <td>7.0</td>\n",
       "      <td>7.0</td>\n",
       "    </tr>\n",
       "    <tr>\n",
       "      <th>951</th>\n",
       "      <td>320000.00</td>\n",
       "      <td>NaN</td>\n",
       "      <td>1600.0</td>\n",
       "      <td>1600.0</td>\n",
       "    </tr>\n",
       "    <tr>\n",
       "      <th>952</th>\n",
       "      <td>450000.00</td>\n",
       "      <td>NaN</td>\n",
       "      <td>800.0</td>\n",
       "      <td>800.0</td>\n",
       "    </tr>\n",
       "    <tr>\n",
       "      <th>1017</th>\n",
       "      <td>36454.38</td>\n",
       "      <td>NaN</td>\n",
       "      <td>150.0</td>\n",
       "      <td>150.0</td>\n",
       "    </tr>\n",
       "    <tr>\n",
       "      <th>1402</th>\n",
       "      <td>150000.00</td>\n",
       "      <td>NaN</td>\n",
       "      <td>4.0</td>\n",
       "      <td>4.0</td>\n",
       "    </tr>\n",
       "    <tr>\n",
       "      <th>...</th>\n",
       "      <td>...</td>\n",
       "      <td>...</td>\n",
       "      <td>...</td>\n",
       "      <td>...</td>\n",
       "    </tr>\n",
       "    <tr>\n",
       "      <th>119502</th>\n",
       "      <td>235000.00</td>\n",
       "      <td>NaN</td>\n",
       "      <td>227.0</td>\n",
       "      <td>227.0</td>\n",
       "    </tr>\n",
       "    <tr>\n",
       "      <th>119823</th>\n",
       "      <td>23555.14</td>\n",
       "      <td>NaN</td>\n",
       "      <td>400.0</td>\n",
       "      <td>400.0</td>\n",
       "    </tr>\n",
       "    <tr>\n",
       "      <th>119835</th>\n",
       "      <td>360000.00</td>\n",
       "      <td>NaN</td>\n",
       "      <td>126.0</td>\n",
       "      <td>126.0</td>\n",
       "    </tr>\n",
       "    <tr>\n",
       "      <th>120122</th>\n",
       "      <td>198000.00</td>\n",
       "      <td>NaN</td>\n",
       "      <td>110.0</td>\n",
       "      <td>110.0</td>\n",
       "    </tr>\n",
       "    <tr>\n",
       "      <th>121134</th>\n",
       "      <td>250000.00</td>\n",
       "      <td>NaN</td>\n",
       "      <td>124.0</td>\n",
       "      <td>124.0</td>\n",
       "    </tr>\n",
       "  </tbody>\n",
       "</table>\n",
       "<p>622 rows × 4 columns</p>\n",
       "</div>"
      ],
      "text/plain": [
       "        price_aprox_usd  price_usd_per_m2  surface_total_in_m2  \\\n",
       "675           130000.00               NaN                  7.0   \n",
       "951           320000.00               NaN               1600.0   \n",
       "952           450000.00               NaN                800.0   \n",
       "1017           36454.38               NaN                150.0   \n",
       "1402          150000.00               NaN                  4.0   \n",
       "...                 ...               ...                  ...   \n",
       "119502        235000.00               NaN                227.0   \n",
       "119823         23555.14               NaN                400.0   \n",
       "119835        360000.00               NaN                126.0   \n",
       "120122        198000.00               NaN                110.0   \n",
       "121134        250000.00               NaN                124.0   \n",
       "\n",
       "        surface_covered_in_m2  \n",
       "675                       7.0  \n",
       "951                    1600.0  \n",
       "952                     800.0  \n",
       "1017                    150.0  \n",
       "1402                      4.0  \n",
       "...                       ...  \n",
       "119502                  227.0  \n",
       "119823                  400.0  \n",
       "119835                  126.0  \n",
       "120122                  110.0  \n",
       "121134                  124.0  \n",
       "\n",
       "[622 rows x 4 columns]"
      ]
     },
     "execution_count": 81,
     "metadata": {},
     "output_type": "execute_result"
    }
   ],
   "source": [
    "# Se hacen tres mascaras booleanas: mask_surfaces_null = instancias sin datos de superficie / mask_prices_notnull = instancias con algun dato de precio / mask_prices_per_m2_notnull = instancias con algun dato de precio por metro cuadrado\n",
    "condition_surfaces_notnull = data.surface_total_in_m2.notnull() | data.surface_covered_in_m2.notnull()\n",
    "condition_price_notnull = data.price_aprox_usd.notnull()\n",
    "condition_price_per_m2_null = data.price_usd_per_m2.isnull()\n",
    "\n",
    "mask_prices_per_m2_imput = condition_surfaces_notnull & condition_price_notnull & condition_price_per_m2_null\n",
    "data_prices_per_m2_imput = data[mask_prices_per_m2_imput]\n",
    "\n",
    "data_prices_per_m2_imput[[ \"price_aprox_usd\" , \"price_usd_per_m2\" , \"surface_total_in_m2\" , \"surface_covered_in_m2\"]]"
   ]
  },
  {
   "cell_type": "code",
   "execution_count": 82,
   "id": "7005ea9d",
   "metadata": {},
   "outputs": [],
   "source": [
    "#Obtenemos el valor de price_usd_per_m2 haciendo price_aprox_usd sobre surface_total_in_m2\n",
    "data.loc[data_prices_per_m2_imput.index,\"price_usd_per_m2\"] = data.loc[data_prices_per_m2_imput.index, \"price_aprox_usd\"] / data.loc[data_prices_per_m2_imput.index, \"surface_total_in_m2\"]"
   ]
  },
  {
   "cell_type": "markdown",
   "id": "1e86fde9",
   "metadata": {},
   "source": [
    "# Imputacion por medias condicionadas"
   ]
  },
  {
   "cell_type": "markdown",
   "id": "b6c1acce",
   "metadata": {},
   "source": [
    "### Imputamos las surface_covered_in_m2 y surface_total-in_m2 por medias condicionadas en funcion de las rooms, del state_name y del property_type"
   ]
  },
  {
   "cell_type": "code",
   "execution_count": 83,
   "id": "40ef3a68",
   "metadata": {},
   "outputs": [
    {
     "data": {
      "text/html": [
       "<div>\n",
       "<style scoped>\n",
       "    .dataframe tbody tr th:only-of-type {\n",
       "        vertical-align: middle;\n",
       "    }\n",
       "\n",
       "    .dataframe tbody tr th {\n",
       "        vertical-align: top;\n",
       "    }\n",
       "\n",
       "    .dataframe thead th {\n",
       "        text-align: right;\n",
       "    }\n",
       "</style>\n",
       "<table border=\"1\" class=\"dataframe\">\n",
       "  <thead>\n",
       "    <tr style=\"text-align: right;\">\n",
       "      <th></th>\n",
       "      <th>operation</th>\n",
       "      <th>property_type</th>\n",
       "      <th>country_name</th>\n",
       "      <th>state_name</th>\n",
       "      <th>city_name</th>\n",
       "      <th>neighborhood_name</th>\n",
       "      <th>geonames_id</th>\n",
       "      <th>lat</th>\n",
       "      <th>lon</th>\n",
       "      <th>price_aprox_usd</th>\n",
       "      <th>surface_total_in_m2</th>\n",
       "      <th>surface_covered_in_m2</th>\n",
       "      <th>price_usd_per_m2</th>\n",
       "      <th>floor</th>\n",
       "      <th>rooms</th>\n",
       "      <th>expenses</th>\n",
       "      <th>description</th>\n",
       "      <th>title</th>\n",
       "    </tr>\n",
       "  </thead>\n",
       "  <tbody>\n",
       "    <tr>\n",
       "      <th>0</th>\n",
       "      <td>sell</td>\n",
       "      <td>PH</td>\n",
       "      <td>Argentina</td>\n",
       "      <td>Capital Federal</td>\n",
       "      <td>Mataderos</td>\n",
       "      <td>None</td>\n",
       "      <td>3430787.0</td>\n",
       "      <td>-34.661824</td>\n",
       "      <td>-58.508839</td>\n",
       "      <td>62000.0</td>\n",
       "      <td>55.0</td>\n",
       "      <td>40.0</td>\n",
       "      <td>1127.272727</td>\n",
       "      <td>NaN</td>\n",
       "      <td>2.0</td>\n",
       "      <td>NaN</td>\n",
       "      <td>2 AMBIENTES TIPO CASA PLANTA BAJA POR PASILLO,...</td>\n",
       "      <td>2 AMB TIPO CASA SIN EXPENSAS EN PB</td>\n",
       "    </tr>\n",
       "    <tr>\n",
       "      <th>2</th>\n",
       "      <td>sell</td>\n",
       "      <td>apartment</td>\n",
       "      <td>Argentina</td>\n",
       "      <td>Capital Federal</td>\n",
       "      <td>Mataderos</td>\n",
       "      <td>None</td>\n",
       "      <td>3430787.0</td>\n",
       "      <td>-34.652262</td>\n",
       "      <td>-58.522982</td>\n",
       "      <td>72000.0</td>\n",
       "      <td>55.0</td>\n",
       "      <td>55.0</td>\n",
       "      <td>1309.090909</td>\n",
       "      <td>NaN</td>\n",
       "      <td>2.0</td>\n",
       "      <td>NaN</td>\n",
       "      <td>2 AMBIENTES 3ER PISO LATERAL LIVING COMEDOR AM...</td>\n",
       "      <td>2 AMB 3ER PISO CON ASCENSOR APTO CREDITO</td>\n",
       "    </tr>\n",
       "    <tr>\n",
       "      <th>4</th>\n",
       "      <td>sell</td>\n",
       "      <td>apartment</td>\n",
       "      <td>Argentina</td>\n",
       "      <td>Buenos Aires Costa Atlántica</td>\n",
       "      <td>Mar del Plata</td>\n",
       "      <td>Centro</td>\n",
       "      <td>3435548.0</td>\n",
       "      <td>-38.002626</td>\n",
       "      <td>-57.549447</td>\n",
       "      <td>64000.0</td>\n",
       "      <td>35.0</td>\n",
       "      <td>35.0</td>\n",
       "      <td>1828.571429</td>\n",
       "      <td>NaN</td>\n",
       "      <td>2.0</td>\n",
       "      <td>NaN</td>\n",
       "      <td>DEPARTAMENTO CON FANTÁSTICA ILUMINACIÓN NATURA...</td>\n",
       "      <td>DEPTO 2 AMB AL CONTRAFRENTE ZONA CENTRO/PLAZA ...</td>\n",
       "    </tr>\n",
       "    <tr>\n",
       "      <th>12</th>\n",
       "      <td>sell</td>\n",
       "      <td>apartment</td>\n",
       "      <td>Argentina</td>\n",
       "      <td>Bs.As. G.B.A. Zona Norte</td>\n",
       "      <td>San Isidro</td>\n",
       "      <td>Martínez</td>\n",
       "      <td>3430813.0</td>\n",
       "      <td>-34.486019</td>\n",
       "      <td>-58.503814</td>\n",
       "      <td>115000.0</td>\n",
       "      <td>39.0</td>\n",
       "      <td>36.0</td>\n",
       "      <td>2948.717949</td>\n",
       "      <td>NaN</td>\n",
       "      <td>2.0</td>\n",
       "      <td>NaN</td>\n",
       "      <td>EXCELENTE DEPARTAMENTO 2 AMBIENTES CONTRAFRENT...</td>\n",
       "      <td>EXCELENTE DEPARTAMENTO 2 AMBIENTES CONTRAFRENT...</td>\n",
       "    </tr>\n",
       "    <tr>\n",
       "      <th>13</th>\n",
       "      <td>sell</td>\n",
       "      <td>apartment</td>\n",
       "      <td>Argentina</td>\n",
       "      <td>Capital Federal</td>\n",
       "      <td>Palermo</td>\n",
       "      <td>Palermo Soho</td>\n",
       "      <td>3430234.0</td>\n",
       "      <td>NaN</td>\n",
       "      <td>NaN</td>\n",
       "      <td>111700.0</td>\n",
       "      <td>50.0</td>\n",
       "      <td>30.0</td>\n",
       "      <td>2234.000000</td>\n",
       "      <td>NaN</td>\n",
       "      <td>1.0</td>\n",
       "      <td>NaN</td>\n",
       "      <td>Torre I Mondrian. 3 ambientes con terraza y d...</td>\n",
       "      <td>Vitraux Palermo</td>\n",
       "    </tr>\n",
       "    <tr>\n",
       "      <th>...</th>\n",
       "      <td>...</td>\n",
       "      <td>...</td>\n",
       "      <td>...</td>\n",
       "      <td>...</td>\n",
       "      <td>...</td>\n",
       "      <td>...</td>\n",
       "      <td>...</td>\n",
       "      <td>...</td>\n",
       "      <td>...</td>\n",
       "      <td>...</td>\n",
       "      <td>...</td>\n",
       "      <td>...</td>\n",
       "      <td>...</td>\n",
       "      <td>...</td>\n",
       "      <td>...</td>\n",
       "      <td>...</td>\n",
       "      <td>...</td>\n",
       "      <td>...</td>\n",
       "    </tr>\n",
       "    <tr>\n",
       "      <th>121138</th>\n",
       "      <td>sell</td>\n",
       "      <td>apartment</td>\n",
       "      <td>Argentina</td>\n",
       "      <td>Capital Federal</td>\n",
       "      <td>Saavedra</td>\n",
       "      <td>None</td>\n",
       "      <td>3429422.0</td>\n",
       "      <td>NaN</td>\n",
       "      <td>NaN</td>\n",
       "      <td>208000.0</td>\n",
       "      <td>69.0</td>\n",
       "      <td>60.0</td>\n",
       "      <td>3014.492754</td>\n",
       "      <td>NaN</td>\n",
       "      <td>2.0</td>\n",
       "      <td>2152.0</td>\n",
       "      <td>VENTA CON RENTA DEPARTAMENTO DE 2 AMBIENTES A ...</td>\n",
       "      <td>VENTA CON RENTA DEPARTAMENTO DE 2 AMBIENTES A ...</td>\n",
       "    </tr>\n",
       "    <tr>\n",
       "      <th>121139</th>\n",
       "      <td>sell</td>\n",
       "      <td>apartment</td>\n",
       "      <td>Argentina</td>\n",
       "      <td>Buenos Aires Costa Atlántica</td>\n",
       "      <td>Mar del Plata</td>\n",
       "      <td>Punta Iglesia</td>\n",
       "      <td>NaN</td>\n",
       "      <td>NaN</td>\n",
       "      <td>NaN</td>\n",
       "      <td>80523.0</td>\n",
       "      <td>37.0</td>\n",
       "      <td>37.0</td>\n",
       "      <td>2176.297297</td>\n",
       "      <td>18.0</td>\n",
       "      <td>3.0</td>\n",
       "      <td>NaN</td>\n",
       "      <td>Condominio Royal Residence, espectacular empre...</td>\n",
       "      <td>Condominio a estrenar con amenities - Departam...</td>\n",
       "    </tr>\n",
       "    <tr>\n",
       "      <th>121153</th>\n",
       "      <td>sell</td>\n",
       "      <td>apartment</td>\n",
       "      <td>Argentina</td>\n",
       "      <td>Capital Federal</td>\n",
       "      <td>Barrio Norte</td>\n",
       "      <td>None</td>\n",
       "      <td>3436109.0</td>\n",
       "      <td>-34.599214</td>\n",
       "      <td>-58.402519</td>\n",
       "      <td>165000.0</td>\n",
       "      <td>91.0</td>\n",
       "      <td>65.0</td>\n",
       "      <td>1813.186813</td>\n",
       "      <td>NaN</td>\n",
       "      <td>3.0</td>\n",
       "      <td>NaN</td>\n",
       "      <td>EXCELENTE DEPARTAMENTO CON TERRAZA PROPIA Y PA...</td>\n",
       "      <td>EXCELENTE DEPARTAMENTO DE 3 AMBIENTES CON TERR...</td>\n",
       "    </tr>\n",
       "    <tr>\n",
       "      <th>121215</th>\n",
       "      <td>sell</td>\n",
       "      <td>apartment</td>\n",
       "      <td>Argentina</td>\n",
       "      <td>Capital Federal</td>\n",
       "      <td>Belgrano</td>\n",
       "      <td>None</td>\n",
       "      <td>3436077.0</td>\n",
       "      <td>NaN</td>\n",
       "      <td>NaN</td>\n",
       "      <td>870000.0</td>\n",
       "      <td>113.0</td>\n",
       "      <td>93.0</td>\n",
       "      <td>7699.115044</td>\n",
       "      <td>NaN</td>\n",
       "      <td>3.0</td>\n",
       "      <td>10000.0</td>\n",
       "      <td>TORRE FORUM ALCORTA - MÁXIMA CATEGORÍA.Impecab...</td>\n",
       "      <td>Torre Forum Alcorta- Impecable 3 ambientes</td>\n",
       "    </tr>\n",
       "    <tr>\n",
       "      <th>121218</th>\n",
       "      <td>sell</td>\n",
       "      <td>apartment</td>\n",
       "      <td>Argentina</td>\n",
       "      <td>Buenos Aires Costa Atlántica</td>\n",
       "      <td>Mar del Plata</td>\n",
       "      <td>Plaza Colón</td>\n",
       "      <td>NaN</td>\n",
       "      <td>NaN</td>\n",
       "      <td>NaN</td>\n",
       "      <td>95900.0</td>\n",
       "      <td>48.0</td>\n",
       "      <td>48.0</td>\n",
       "      <td>1997.916667</td>\n",
       "      <td>NaN</td>\n",
       "      <td>2.0</td>\n",
       "      <td>NaN</td>\n",
       "      <td>2 Amb al contrafrente,  luminoso. El departame...</td>\n",
       "      <td>2 amb. C/ dep. de servicio al contrafrente| Re...</td>\n",
       "    </tr>\n",
       "  </tbody>\n",
       "</table>\n",
       "<p>62059 rows × 18 columns</p>\n",
       "</div>"
      ],
      "text/plain": [
       "       operation property_type country_name                    state_name  \\\n",
       "0           sell            PH    Argentina               Capital Federal   \n",
       "2           sell     apartment    Argentina               Capital Federal   \n",
       "4           sell     apartment    Argentina  Buenos Aires Costa Atlántica   \n",
       "12          sell     apartment    Argentina      Bs.As. G.B.A. Zona Norte   \n",
       "13          sell     apartment    Argentina               Capital Federal   \n",
       "...          ...           ...          ...                           ...   \n",
       "121138      sell     apartment    Argentina               Capital Federal   \n",
       "121139      sell     apartment    Argentina  Buenos Aires Costa Atlántica   \n",
       "121153      sell     apartment    Argentina               Capital Federal   \n",
       "121215      sell     apartment    Argentina               Capital Federal   \n",
       "121218      sell     apartment    Argentina  Buenos Aires Costa Atlántica   \n",
       "\n",
       "            city_name neighborhood_name  geonames_id        lat        lon  \\\n",
       "0           Mataderos              None    3430787.0 -34.661824 -58.508839   \n",
       "2           Mataderos              None    3430787.0 -34.652262 -58.522982   \n",
       "4       Mar del Plata            Centro    3435548.0 -38.002626 -57.549447   \n",
       "12         San Isidro          Martínez    3430813.0 -34.486019 -58.503814   \n",
       "13            Palermo      Palermo Soho    3430234.0        NaN        NaN   \n",
       "...               ...               ...          ...        ...        ...   \n",
       "121138       Saavedra              None    3429422.0        NaN        NaN   \n",
       "121139  Mar del Plata     Punta Iglesia          NaN        NaN        NaN   \n",
       "121153   Barrio Norte              None    3436109.0 -34.599214 -58.402519   \n",
       "121215       Belgrano              None    3436077.0        NaN        NaN   \n",
       "121218  Mar del Plata       Plaza Colón          NaN        NaN        NaN   \n",
       "\n",
       "        price_aprox_usd  surface_total_in_m2  surface_covered_in_m2  \\\n",
       "0               62000.0                 55.0                   40.0   \n",
       "2               72000.0                 55.0                   55.0   \n",
       "4               64000.0                 35.0                   35.0   \n",
       "12             115000.0                 39.0                   36.0   \n",
       "13             111700.0                 50.0                   30.0   \n",
       "...                 ...                  ...                    ...   \n",
       "121138         208000.0                 69.0                   60.0   \n",
       "121139          80523.0                 37.0                   37.0   \n",
       "121153         165000.0                 91.0                   65.0   \n",
       "121215         870000.0                113.0                   93.0   \n",
       "121218          95900.0                 48.0                   48.0   \n",
       "\n",
       "        price_usd_per_m2  floor  rooms  expenses  \\\n",
       "0            1127.272727    NaN    2.0       NaN   \n",
       "2            1309.090909    NaN    2.0       NaN   \n",
       "4            1828.571429    NaN    2.0       NaN   \n",
       "12           2948.717949    NaN    2.0       NaN   \n",
       "13           2234.000000    NaN    1.0       NaN   \n",
       "...                  ...    ...    ...       ...   \n",
       "121138       3014.492754    NaN    2.0    2152.0   \n",
       "121139       2176.297297   18.0    3.0       NaN   \n",
       "121153       1813.186813    NaN    3.0       NaN   \n",
       "121215       7699.115044    NaN    3.0   10000.0   \n",
       "121218       1997.916667    NaN    2.0       NaN   \n",
       "\n",
       "                                              description  \\\n",
       "0       2 AMBIENTES TIPO CASA PLANTA BAJA POR PASILLO,...   \n",
       "2       2 AMBIENTES 3ER PISO LATERAL LIVING COMEDOR AM...   \n",
       "4       DEPARTAMENTO CON FANTÁSTICA ILUMINACIÓN NATURA...   \n",
       "12      EXCELENTE DEPARTAMENTO 2 AMBIENTES CONTRAFRENT...   \n",
       "13       Torre I Mondrian. 3 ambientes con terraza y d...   \n",
       "...                                                   ...   \n",
       "121138  VENTA CON RENTA DEPARTAMENTO DE 2 AMBIENTES A ...   \n",
       "121139  Condominio Royal Residence, espectacular empre...   \n",
       "121153  EXCELENTE DEPARTAMENTO CON TERRAZA PROPIA Y PA...   \n",
       "121215  TORRE FORUM ALCORTA - MÁXIMA CATEGORÍA.Impecab...   \n",
       "121218  2 Amb al contrafrente,  luminoso. El departame...   \n",
       "\n",
       "                                                    title  \n",
       "0                      2 AMB TIPO CASA SIN EXPENSAS EN PB  \n",
       "2                2 AMB 3ER PISO CON ASCENSOR APTO CREDITO  \n",
       "4       DEPTO 2 AMB AL CONTRAFRENTE ZONA CENTRO/PLAZA ...  \n",
       "12      EXCELENTE DEPARTAMENTO 2 AMBIENTES CONTRAFRENT...  \n",
       "13                                        Vitraux Palermo  \n",
       "...                                                   ...  \n",
       "121138  VENTA CON RENTA DEPARTAMENTO DE 2 AMBIENTES A ...  \n",
       "121139  Condominio a estrenar con amenities - Departam...  \n",
       "121153  EXCELENTE DEPARTAMENTO DE 3 AMBIENTES CON TERR...  \n",
       "121215         Torre Forum Alcorta- Impecable 3 ambientes  \n",
       "121218  2 amb. C/ dep. de servicio al contrafrente| Re...  \n",
       "\n",
       "[62059 rows x 18 columns]"
      ]
     },
     "execution_count": 83,
     "metadata": {},
     "output_type": "execute_result"
    }
   ],
   "source": [
    "#Hago una mascara para ver las instancias con las que vamos a hacer el groupby, es decir, las instancias que tengan las rooms, el state_name , el property_type y la surface_covered_in_m2\n",
    "data_surfaces_imput = data[ data.surface_total_in_m2.notnull() & data.rooms.notnull() & data.state_name.notnull() & data.property_type.notnull()]\n",
    "data_surfaces_imput"
   ]
  },
  {
   "cell_type": "code",
   "execution_count": 84,
   "id": "94d60fe3",
   "metadata": {},
   "outputs": [
    {
     "data": {
      "text/plain": [
       "property_type  state_name                rooms\n",
       "PH             Bs.As. G.B.A. Zona Norte  1.0        69.444444\n",
       "                                         2.0        51.106557\n",
       "                                         3.0        77.573333\n",
       "                                         4.0       100.468750\n",
       "                                         5.0       133.470588\n",
       "                                                     ...     \n",
       "store          Córdoba                   5.0       120.000000\n",
       "                                         6.0       480.000000\n",
       "                                         14.0      400.000000\n",
       "               Santa Fe                  2.0        20.000000\n",
       "                                         8.0      1027.000000\n",
       "Name: surface_covered_in_m2, Length: 331, dtype: float64"
      ]
     },
     "execution_count": 84,
     "metadata": {},
     "output_type": "execute_result"
    }
   ],
   "source": [
    "#Hago un groupby que me traiga la media de surface_covered_in_m2 en funcion de property_type , state_name y rooms\n",
    "data_surfaces_imput_groupby = data_surfaces_imput.groupby(by = [\"property_type\" , \"state_name\" ,\"rooms\" ])[\"surface_covered_in_m2\"].mean()\n",
    "data_surfaces_imput_groupby"
   ]
  },
  {
   "cell_type": "code",
   "execution_count": 85,
   "id": "55e28e0e",
   "metadata": {},
   "outputs": [],
   "source": [
    "#Aca hago la imputacion en las instancias correspondientes"
   ]
  },
  {
   "cell_type": "markdown",
   "id": "f23bef2f",
   "metadata": {},
   "source": [
    "### Imputamos las rooms por medias condicionadas en funcion de la surface_covered_in_m2 y del state_name"
   ]
  },
  {
   "cell_type": "markdown",
   "id": "5a730bde",
   "metadata": {},
   "source": [
    "##### Primero discretizo en cuatro categorias a la columna surface_covered_in_m2"
   ]
  },
  {
   "cell_type": "code",
   "execution_count": 86,
   "id": "b34724af",
   "metadata": {},
   "outputs": [
    {
     "data": {
      "text/plain": [
       "0              chico\n",
       "1                NaN\n",
       "2            mediano\n",
       "3                NaN\n",
       "4              chico\n",
       "             ...    \n",
       "121215        grande\n",
       "121216    muy_grande\n",
       "121217         chico\n",
       "121218       mediano\n",
       "121219        grande\n",
       "Name: surface_covered_in_m2, Length: 115688, dtype: category\n",
       "Categories (4, object): ['chico' < 'mediano' < 'grande' < 'muy_grande']"
      ]
     },
     "execution_count": 86,
     "metadata": {},
     "output_type": "execute_result"
    }
   ],
   "source": [
    "#Con qcut discretizo la columa surface_covered_in_m2\n",
    "serie_surfaces_category = pd.qcut(data.surface_covered_in_m2, 4,labels = [\"chico\",\"mediano\",\"grande\",\"muy_grande\"])\n",
    "serie_surfaces_category"
   ]
  },
  {
   "cell_type": "code",
   "execution_count": 87,
   "id": "519f97dc",
   "metadata": {},
   "outputs": [
    {
     "data": {
      "text/html": [
       "<div>\n",
       "<style scoped>\n",
       "    .dataframe tbody tr th:only-of-type {\n",
       "        vertical-align: middle;\n",
       "    }\n",
       "\n",
       "    .dataframe tbody tr th {\n",
       "        vertical-align: top;\n",
       "    }\n",
       "\n",
       "    .dataframe thead th {\n",
       "        text-align: right;\n",
       "    }\n",
       "</style>\n",
       "<table border=\"1\" class=\"dataframe\">\n",
       "  <thead>\n",
       "    <tr style=\"text-align: right;\">\n",
       "      <th></th>\n",
       "      <th>operation</th>\n",
       "      <th>property_type</th>\n",
       "      <th>country_name</th>\n",
       "      <th>state_name</th>\n",
       "      <th>city_name</th>\n",
       "      <th>neighborhood_name</th>\n",
       "      <th>geonames_id</th>\n",
       "      <th>lat</th>\n",
       "      <th>lon</th>\n",
       "      <th>price_aprox_usd</th>\n",
       "      <th>surface_total_in_m2</th>\n",
       "      <th>surface_covered_in_m2</th>\n",
       "      <th>surface_category</th>\n",
       "      <th>price_usd_per_m2</th>\n",
       "      <th>floor</th>\n",
       "      <th>rooms</th>\n",
       "      <th>expenses</th>\n",
       "      <th>description</th>\n",
       "      <th>title</th>\n",
       "    </tr>\n",
       "  </thead>\n",
       "  <tbody>\n",
       "    <tr>\n",
       "      <th>0</th>\n",
       "      <td>sell</td>\n",
       "      <td>PH</td>\n",
       "      <td>Argentina</td>\n",
       "      <td>Capital Federal</td>\n",
       "      <td>Mataderos</td>\n",
       "      <td>None</td>\n",
       "      <td>3430787.0</td>\n",
       "      <td>-34.661824</td>\n",
       "      <td>-58.508839</td>\n",
       "      <td>62000.0</td>\n",
       "      <td>55.0</td>\n",
       "      <td>40.0</td>\n",
       "      <td>chico</td>\n",
       "      <td>1127.272727</td>\n",
       "      <td>NaN</td>\n",
       "      <td>2.0</td>\n",
       "      <td>NaN</td>\n",
       "      <td>2 AMBIENTES TIPO CASA PLANTA BAJA POR PASILLO,...</td>\n",
       "      <td>2 AMB TIPO CASA SIN EXPENSAS EN PB</td>\n",
       "    </tr>\n",
       "    <tr>\n",
       "      <th>1</th>\n",
       "      <td>sell</td>\n",
       "      <td>apartment</td>\n",
       "      <td>Argentina</td>\n",
       "      <td>Bs.As. G.B.A. Zona Sur</td>\n",
       "      <td>La Plata</td>\n",
       "      <td>None</td>\n",
       "      <td>3432039.0</td>\n",
       "      <td>-34.903883</td>\n",
       "      <td>-57.964330</td>\n",
       "      <td>150000.0</td>\n",
       "      <td>NaN</td>\n",
       "      <td>NaN</td>\n",
       "      <td>NaN</td>\n",
       "      <td>NaN</td>\n",
       "      <td>NaN</td>\n",
       "      <td>NaN</td>\n",
       "      <td>NaN</td>\n",
       "      <td>Venta de departamento en décimo piso al frente...</td>\n",
       "      <td>VENTA Depto 2 dorm. a estrenar 7 e/ 36 y 37   ...</td>\n",
       "    </tr>\n",
       "    <tr>\n",
       "      <th>2</th>\n",
       "      <td>sell</td>\n",
       "      <td>apartment</td>\n",
       "      <td>Argentina</td>\n",
       "      <td>Capital Federal</td>\n",
       "      <td>Mataderos</td>\n",
       "      <td>None</td>\n",
       "      <td>3430787.0</td>\n",
       "      <td>-34.652262</td>\n",
       "      <td>-58.522982</td>\n",
       "      <td>72000.0</td>\n",
       "      <td>55.0</td>\n",
       "      <td>55.0</td>\n",
       "      <td>mediano</td>\n",
       "      <td>1309.090909</td>\n",
       "      <td>NaN</td>\n",
       "      <td>2.0</td>\n",
       "      <td>NaN</td>\n",
       "      <td>2 AMBIENTES 3ER PISO LATERAL LIVING COMEDOR AM...</td>\n",
       "      <td>2 AMB 3ER PISO CON ASCENSOR APTO CREDITO</td>\n",
       "    </tr>\n",
       "  </tbody>\n",
       "</table>\n",
       "</div>"
      ],
      "text/plain": [
       "  operation property_type country_name              state_name  city_name  \\\n",
       "0      sell            PH    Argentina         Capital Federal  Mataderos   \n",
       "1      sell     apartment    Argentina  Bs.As. G.B.A. Zona Sur   La Plata   \n",
       "2      sell     apartment    Argentina         Capital Federal  Mataderos   \n",
       "\n",
       "  neighborhood_name  geonames_id        lat        lon  price_aprox_usd  \\\n",
       "0              None    3430787.0 -34.661824 -58.508839          62000.0   \n",
       "1              None    3432039.0 -34.903883 -57.964330         150000.0   \n",
       "2              None    3430787.0 -34.652262 -58.522982          72000.0   \n",
       "\n",
       "   surface_total_in_m2  surface_covered_in_m2 surface_category  \\\n",
       "0                 55.0                   40.0            chico   \n",
       "1                  NaN                    NaN              NaN   \n",
       "2                 55.0                   55.0          mediano   \n",
       "\n",
       "   price_usd_per_m2  floor  rooms  expenses  \\\n",
       "0       1127.272727    NaN    2.0       NaN   \n",
       "1               NaN    NaN    NaN       NaN   \n",
       "2       1309.090909    NaN    2.0       NaN   \n",
       "\n",
       "                                         description  \\\n",
       "0  2 AMBIENTES TIPO CASA PLANTA BAJA POR PASILLO,...   \n",
       "1  Venta de departamento en décimo piso al frente...   \n",
       "2  2 AMBIENTES 3ER PISO LATERAL LIVING COMEDOR AM...   \n",
       "\n",
       "                                               title  \n",
       "0                 2 AMB TIPO CASA SIN EXPENSAS EN PB  \n",
       "1  VENTA Depto 2 dorm. a estrenar 7 e/ 36 y 37   ...  \n",
       "2           2 AMB 3ER PISO CON ASCENSOR APTO CREDITO  "
      ]
     },
     "execution_count": 87,
     "metadata": {},
     "output_type": "execute_result"
    }
   ],
   "source": [
    "#Creamos un dataset auxiliar y la instrtamos la serie obtenida anteriormente\n",
    "data_aux = data\n",
    "data_aux.insert(12,\"surface_category\",serie_surfaces_category)\n",
    "data_aux.head(3)"
   ]
  },
  {
   "cell_type": "code",
   "execution_count": 88,
   "id": "cbae702f",
   "metadata": {},
   "outputs": [
    {
     "data": {
      "text/html": [
       "<div>\n",
       "<style scoped>\n",
       "    .dataframe tbody tr th:only-of-type {\n",
       "        vertical-align: middle;\n",
       "    }\n",
       "\n",
       "    .dataframe tbody tr th {\n",
       "        vertical-align: top;\n",
       "    }\n",
       "\n",
       "    .dataframe thead th {\n",
       "        text-align: right;\n",
       "    }\n",
       "</style>\n",
       "<table border=\"1\" class=\"dataframe\">\n",
       "  <thead>\n",
       "    <tr style=\"text-align: right;\">\n",
       "      <th></th>\n",
       "      <th>operation</th>\n",
       "      <th>property_type</th>\n",
       "      <th>country_name</th>\n",
       "      <th>state_name</th>\n",
       "      <th>city_name</th>\n",
       "      <th>neighborhood_name</th>\n",
       "      <th>geonames_id</th>\n",
       "      <th>lat</th>\n",
       "      <th>lon</th>\n",
       "      <th>price_aprox_usd</th>\n",
       "      <th>surface_total_in_m2</th>\n",
       "      <th>surface_covered_in_m2</th>\n",
       "      <th>surface_category</th>\n",
       "      <th>price_usd_per_m2</th>\n",
       "      <th>floor</th>\n",
       "      <th>rooms</th>\n",
       "      <th>expenses</th>\n",
       "      <th>description</th>\n",
       "      <th>title</th>\n",
       "    </tr>\n",
       "  </thead>\n",
       "  <tbody>\n",
       "    <tr>\n",
       "      <th>0</th>\n",
       "      <td>sell</td>\n",
       "      <td>PH</td>\n",
       "      <td>Argentina</td>\n",
       "      <td>Capital Federal</td>\n",
       "      <td>Mataderos</td>\n",
       "      <td>None</td>\n",
       "      <td>3430787.0</td>\n",
       "      <td>-34.661824</td>\n",
       "      <td>-58.508839</td>\n",
       "      <td>62000.0</td>\n",
       "      <td>55.0</td>\n",
       "      <td>40.0</td>\n",
       "      <td>chico</td>\n",
       "      <td>1127.272727</td>\n",
       "      <td>NaN</td>\n",
       "      <td>2.0</td>\n",
       "      <td>NaN</td>\n",
       "      <td>2 AMBIENTES TIPO CASA PLANTA BAJA POR PASILLO,...</td>\n",
       "      <td>2 AMB TIPO CASA SIN EXPENSAS EN PB</td>\n",
       "    </tr>\n",
       "    <tr>\n",
       "      <th>2</th>\n",
       "      <td>sell</td>\n",
       "      <td>apartment</td>\n",
       "      <td>Argentina</td>\n",
       "      <td>Capital Federal</td>\n",
       "      <td>Mataderos</td>\n",
       "      <td>None</td>\n",
       "      <td>3430787.0</td>\n",
       "      <td>-34.652262</td>\n",
       "      <td>-58.522982</td>\n",
       "      <td>72000.0</td>\n",
       "      <td>55.0</td>\n",
       "      <td>55.0</td>\n",
       "      <td>mediano</td>\n",
       "      <td>1309.090909</td>\n",
       "      <td>NaN</td>\n",
       "      <td>2.0</td>\n",
       "      <td>NaN</td>\n",
       "      <td>2 AMBIENTES 3ER PISO LATERAL LIVING COMEDOR AM...</td>\n",
       "      <td>2 AMB 3ER PISO CON ASCENSOR APTO CREDITO</td>\n",
       "    </tr>\n",
       "    <tr>\n",
       "      <th>4</th>\n",
       "      <td>sell</td>\n",
       "      <td>apartment</td>\n",
       "      <td>Argentina</td>\n",
       "      <td>Buenos Aires Costa Atlántica</td>\n",
       "      <td>Mar del Plata</td>\n",
       "      <td>Centro</td>\n",
       "      <td>3435548.0</td>\n",
       "      <td>-38.002626</td>\n",
       "      <td>-57.549447</td>\n",
       "      <td>64000.0</td>\n",
       "      <td>35.0</td>\n",
       "      <td>35.0</td>\n",
       "      <td>chico</td>\n",
       "      <td>1828.571429</td>\n",
       "      <td>NaN</td>\n",
       "      <td>2.0</td>\n",
       "      <td>NaN</td>\n",
       "      <td>DEPARTAMENTO CON FANTÁSTICA ILUMINACIÓN NATURA...</td>\n",
       "      <td>DEPTO 2 AMB AL CONTRAFRENTE ZONA CENTRO/PLAZA ...</td>\n",
       "    </tr>\n",
       "  </tbody>\n",
       "</table>\n",
       "</div>"
      ],
      "text/plain": [
       "  operation property_type country_name                    state_name  \\\n",
       "0      sell            PH    Argentina               Capital Federal   \n",
       "2      sell     apartment    Argentina               Capital Federal   \n",
       "4      sell     apartment    Argentina  Buenos Aires Costa Atlántica   \n",
       "\n",
       "       city_name neighborhood_name  geonames_id        lat        lon  \\\n",
       "0      Mataderos              None    3430787.0 -34.661824 -58.508839   \n",
       "2      Mataderos              None    3430787.0 -34.652262 -58.522982   \n",
       "4  Mar del Plata            Centro    3435548.0 -38.002626 -57.549447   \n",
       "\n",
       "   price_aprox_usd  surface_total_in_m2  surface_covered_in_m2  \\\n",
       "0          62000.0                 55.0                   40.0   \n",
       "2          72000.0                 55.0                   55.0   \n",
       "4          64000.0                 35.0                   35.0   \n",
       "\n",
       "  surface_category  price_usd_per_m2  floor  rooms  expenses  \\\n",
       "0            chico       1127.272727    NaN    2.0       NaN   \n",
       "2          mediano       1309.090909    NaN    2.0       NaN   \n",
       "4            chico       1828.571429    NaN    2.0       NaN   \n",
       "\n",
       "                                         description  \\\n",
       "0  2 AMBIENTES TIPO CASA PLANTA BAJA POR PASILLO,...   \n",
       "2  2 AMBIENTES 3ER PISO LATERAL LIVING COMEDOR AM...   \n",
       "4  DEPARTAMENTO CON FANTÁSTICA ILUMINACIÓN NATURA...   \n",
       "\n",
       "                                               title  \n",
       "0                 2 AMB TIPO CASA SIN EXPENSAS EN PB  \n",
       "2           2 AMB 3ER PISO CON ASCENSOR APTO CREDITO  \n",
       "4  DEPTO 2 AMB AL CONTRAFRENTE ZONA CENTRO/PLAZA ...  "
      ]
     },
     "execution_count": 88,
     "metadata": {},
     "output_type": "execute_result"
    }
   ],
   "source": [
    "#Hago una mascara para ver las instancias con las que vamos a hacer el groupby, es decir, las instancias que tengan la surface_covered_in_m2 y las rooms\n",
    "data_rooms_imput = data_aux[data_aux.rooms.notnull() & data_aux.surface_covered_in_m2.notnull()]\n",
    "data_rooms_imput.head(3)"
   ]
  },
  {
   "cell_type": "code",
   "execution_count": 89,
   "id": "2dc56032",
   "metadata": {},
   "outputs": [
    {
     "data": {
      "text/plain": [
       "property_type  state_name                surface_category\n",
       "PH             Bs.As. G.B.A. Zona Norte  chico               2.623853\n",
       "                                         mediano             2.795122\n",
       "                                         grande              3.477966\n",
       "                                         muy_grande          4.578947\n",
       "               Bs.As. G.B.A. Zona Oeste  chico               2.591667\n",
       "                                                               ...   \n",
       "store          Córdoba                   muy_grande          4.833333\n",
       "               Santa Fe                  chico               2.000000\n",
       "                                         mediano                  NaN\n",
       "                                         grande                   NaN\n",
       "                                         muy_grande          8.000000\n",
       "Name: rooms, Length: 128, dtype: float64"
      ]
     },
     "execution_count": 89,
     "metadata": {},
     "output_type": "execute_result"
    }
   ],
   "source": [
    "data_rooms_imput_groupby = data_rooms_imput.groupby(by = [\"property_type\" , \"state_name\" , \"surface_category\" ])[\"rooms\"].mean()\n",
    "data_rooms_imput_groupby"
   ]
  },
  {
   "cell_type": "code",
   "execution_count": 90,
   "id": "9652cf3e",
   "metadata": {},
   "outputs": [],
   "source": [
    "# Aca debo imputarlo"
   ]
  },
  {
   "cell_type": "code",
   "execution_count": null,
   "id": "c3197198",
   "metadata": {},
   "outputs": [],
   "source": []
  }
 ],
 "metadata": {
  "kernelspec": {
   "display_name": "Python 3 (ipykernel)",
   "language": "python",
   "name": "python3"
  },
  "language_info": {
   "codemirror_mode": {
    "name": "ipython",
    "version": 3
   },
   "file_extension": ".py",
   "mimetype": "text/x-python",
   "name": "python",
   "nbconvert_exporter": "python",
   "pygments_lexer": "ipython3",
   "version": "3.8.13"
  }
 },
 "nbformat": 4,
 "nbformat_minor": 5
}
