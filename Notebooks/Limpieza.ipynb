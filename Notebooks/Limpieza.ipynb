{
 "cells": [
  {
   "cell_type": "markdown",
   "id": "62eedf46",
   "metadata": {},
   "source": [
    "# **Estandarizacion de nombres de mascaras, dataset y demas:**\n",
    "- Al aplicarle una mascara a un dataset seria conveniente primero definir la mascara y en otra linea de codigo aplicarsela al dataset. Esto para que podamos ver bien que le estamos aplicando y que condiciones tiene esa mascara.\n",
    "- Ojo con utilizar mascaras o alguna otra variable, dataframe y demas, definida mucho mas arriba. No vaya a ser que le cambiemos el nombre por x motivo y nos ollvidamos que mas abajo la usamos para otra cosa y se rompa todo\n",
    "- Los nombres para las cosas que sean en ingles, separando las palabras con \" _ \" y en lo posible que se pueda intuir mediante el nombre a que se refiere\n",
    "- Como practica totalmente arbitraria intentar que los nombres no tengan mas de 5 palabras. ej: \" mask_rooms_zeros \" , \" mask_rooms_surf_zeros \" y asi\n",
    "- Si le llamamos \" mask \" a algo, que realmente lo sea. No que sea ya una mascara aplicada a un dataset. Eso es el dataset data filtrado por la mascara\n",
    "- A estos nuevos dataset llamemosle igual que la mascara que le aplicamos solo que reemplazamos el nombre mask por data. ej:  \" mask_rooms_zeros \"=  \" data_rooms_zeros \";                   \" data_rooms_surf_zeros \" = \" data_rooms_surf_zeros \"\n",
    "- Cuando creemos un nuevo dataset, un array, una lista, una serie, mascara o lo que sea poner primero el nombre del tipo de objeto y despues lo que hace, para saber lo que es eso\n",
    "- Cuando hacemos una mascara para ver si algo es nulo o cero ponemos solo \" null \". Es para no alargar los nombres\n",
    "\n"
   ]
  },
  {
   "cell_type": "markdown",
   "id": "0413ce6c",
   "metadata": {},
   "source": [
    "## Hasta aca realizamos\n",
    "- Transformacion de todos los ceros a nulos\n",
    "- Limpieza de filas nulas\n",
    "- Eliminacion de columnas sin informacion relevante y con informacion redundante\n",
    "- Eliminacion de state_name que representen menos del 1% del total de instancias\n",
    "- Correccion en las variables surface_covered_in_m2 y surface_total_in_m2 en los casos que la primera era mayor que la segunda no siendo posible esto\n",
    "- Imputacion de nulos en la columna place_name (si hacemos el paso del split de place_with_parent_names ese paso hay que eliminarlo)\n",
    "- imputacion de datos de price_aprox_usd, surface_total_in_m2 y rooms mediante expresiones regulares de las columnas description y title\n",
    "- Imputacion de datos en surface_covered_in_m2 y surface_total_in_m2 cuando uno era nulo pero el otro no\n",
    "- Imputacion de las variables surface_total_in_m2, price_aprox_usd y price_usd_per_m2 mediante deduccion de otras variables conocidas\n",
    "- Definir si se desechan las instancias que representen menos del 1% en funcion del state_name. Este es un problema de granulacion, ya que con la actual nos quedamos con muy pocas instancias para el modelo, pero aumentando la granulacion (haciendo una agregacion de todas estas en una nueva categoria, ej: resto del pais), no desechamos las instancias y solo perdemos granularidad pero no toda la informacion.\n",
    "- Corregir el patron con el que se busca el precio, para encontrar valores en pesos tambien, haciendo dos grupos, de esta manera el que matchee el grupo dolar se imputa directamente y el que matchee el grupo pesos imputarlo haciendo una conversion del valor. Por facilidad de codigo se imputa el primer grupo que matchea. **GERA , BENKOS Y ERICK**\n",
    "- Sofisticar los patrones de las expresiones regulares para encontrar mas valores, especialmente en superficie. **GERA , BENKOS Y ERICK**\n",
    "- La columna operation y country_name contienen una unica variable, en el caso de operation es sell y en el caso de country_name es argentina. No tiene sentido mantener las columnas siendo que no aportan informacion. Definir su tratamiento **PREGUNTAR A FABRI**\n",
    "- Realizar una imputacion con media condicionada en rooms por superficie, y lugar. **GERA , BENKOS y ERICK** (falta la imputacion que no se bien como hacerla)\n",
    "- Realizar una imputacion por media condicionada en superficie por media condicionada en rooms y lugar **GERA , BENKOS y ERICK** (falta la imputacion que no se bien como hacerla)\n",
    "- Revisar si no hay otra forma de determinar el price y el price por metro cuadrado y si no lo hay tirar estas instancias que sean nulas **GERA , BENKOS y ERICK**\n",
    "- Darle un tratamiento a expensas y floor. En propiedades tipo casas esta bien que sean nulas pero en departamentos no. Igualmente hay informacion ahi, quizas no sea bueno tirarla. *Como propuesta podriamos buscarlo con expresiones regulares en description y title ya que no tenemos de donde mas sacarla* *Tambien se podria ver la correlacion entre las expensas y el lugar y la superficie y si se encuentra una correlacion imputarlo por media condicionada por ejemplo **GERA , BENKOS y ERICK** **PREGUNTAR A FABRI**\n",
    "## Falta realizar\n",
    "- Darle un tratamiento a lat y lon y geonames id **VIERNES GERA**\n",
    "- Creacion de nuevas columnas estilo **Cercania a un espacio verde** **Cercania a un subte** **Mapa de delito** **GERA, BENKOS y ERICK**\n",
    "- deteccion de outliers\n",
    "- Desechar las instancias que son outliers y que tienen nulos que no deberian tener\n",
    "- EDA:  y representacion de datos y medidas estadisticas **PABLO Y ALE**\n",
    "- Presentacion, formato revision de integridad de informacion **PABLO Y ALE**"
   ]
  },
  {
   "cell_type": "markdown",
   "id": "af2a5324",
   "metadata": {},
   "source": [
    "# Importacion de librerias utilizadas"
   ]
  },
  {
   "cell_type": "code",
   "execution_count": 1,
   "id": "fb7d9923",
   "metadata": {},
   "outputs": [],
   "source": [
    "import pandas as pd\n",
    "import numpy as np\n",
    "import re\n",
    "import seaborn as sns"
   ]
  },
  {
   "cell_type": "markdown",
   "id": "342b8fe3",
   "metadata": {},
   "source": [
    "# Funciones"
   ]
  },
  {
   "cell_type": "markdown",
   "id": "7f93aead",
   "metadata": {},
   "source": [
    "#### *Con conocimiento de negocio se validan los datos*\n",
    "1. price_aprox_usd  ==  mayor a usd10000 y menor a usd 10000000\n",
    "2. surface_total_in_m2 == mayor a 10 m2 y menor a 10000 m2\n",
    "3. surface_covered_in_m2 == mayor a 10m2 y menor a 100000 m2\n",
    "4. rooms == mayor a 0 y menor a 100 \n",
    "5. price_usd_per_m2 == mayor a 100 y menor a 2000"
   ]
  },
  {
   "cell_type": "markdown",
   "id": "a7da75e2",
   "metadata": {},
   "source": [
    "condition_validation_price = data.price_aprox_usd < 10000 | data.price_aprox_usd > 10000000\n",
    "condition_validation_price_usd_m2 = data.price_usd_per_m2 < 100 | data.price_usd_per_m2 > 20000\n",
    "condition_validation_surface_covered = data.surface_covered_in_m2 <10 | data.surface_covered_in_m2 > 10000\n",
    "condition_validation_surface_total = data.surface_covered_in_m2 <10 | data.surface_covered_in_m2 > 100000\n",
    "condition_validation_rooms = data.rooms < 1 | data.rooms > 100"
   ]
  },
  {
   "cell_type": "markdown",
   "id": "ac09d573",
   "metadata": {},
   "source": [
    "#### Funcion de validacion de datos"
   ]
  },
  {
   "cell_type": "code",
   "execution_count": 2,
   "id": "0cc67c42",
   "metadata": {},
   "outputs": [],
   "source": [
    "def data_validation(dataframe):\n",
    "   \n",
    "    mask_validation_price = (data.price_aprox_usd < 1000 ) | (data.price_aprox_usd > 10000000)\n",
    "    data_condition_validation_price = data[ mask_validation_price ]\n",
    "    data.loc[data_condition_validation_price.index,\"price_aprox_usd\"] = np.nan\n",
    "    \n",
    "    mask_validation_price_usd_m2 = (data.price_usd_per_m2 < 100) | (data.price_usd_per_m2 > 100000)\n",
    "    data_validation_price_usd_m2 = data[ mask_validation_price_usd_m2 ]\n",
    "    data.loc[data_validation_price_usd_m2.index,\"price_usd_per_m2\"] = np.nan\n",
    "    \n",
    "    mask_validation_surface_covered = (data.surface_covered_in_m2 <10) | (data.surface_covered_in_m2 > 10000)\n",
    "    data_validation_surface_covered = data[ mask_validation_surface_covered ]\n",
    "    data.loc[data_validation_surface_covered.index,\"surface_covered_in_m2\"] = np.nan\n",
    "    \n",
    "    mask_validation_surface_total = (data.surface_total_in_m2 <10) | (data.surface_total_in_m2 > 1000000) #100 hectareas\n",
    "    data_validation_surface_total = data[ mask_validation_surface_total ]\n",
    "    data.loc[data_validation_surface_total.index,\"surface_total_in_m2\"] = np.nan\n",
    "    \n",
    "    mask_validation_rooms = (data.rooms < 1) | (data.rooms > 100)\n",
    "    data_condition_validation_rooms = data[ mask_validation_rooms ]\n",
    "    data.loc[data_condition_validation_rooms.index,\"rooms\"] = np.nan\n",
    "   \n",
    "    return data.isnull().sum()"
   ]
  },
  {
   "cell_type": "markdown",
   "id": "82a9eba0",
   "metadata": {},
   "source": [
    "# Carga de la data de Properatti como un DataFrame de Pandas"
   ]
  },
  {
   "cell_type": "code",
   "execution_count": 3,
   "id": "f8649062",
   "metadata": {},
   "outputs": [
    {
     "data": {
      "text/html": [
       "<div>\n",
       "<style scoped>\n",
       "    .dataframe tbody tr th:only-of-type {\n",
       "        vertical-align: middle;\n",
       "    }\n",
       "\n",
       "    .dataframe tbody tr th {\n",
       "        vertical-align: top;\n",
       "    }\n",
       "\n",
       "    .dataframe thead th {\n",
       "        text-align: right;\n",
       "    }\n",
       "</style>\n",
       "<table border=\"1\" class=\"dataframe\">\n",
       "  <thead>\n",
       "    <tr style=\"text-align: right;\">\n",
       "      <th></th>\n",
       "      <th>operation</th>\n",
       "      <th>property_type</th>\n",
       "      <th>place_name</th>\n",
       "      <th>place_with_parent_names</th>\n",
       "      <th>country_name</th>\n",
       "      <th>state_name</th>\n",
       "      <th>geonames_id</th>\n",
       "      <th>lat-lon</th>\n",
       "      <th>lat</th>\n",
       "      <th>lon</th>\n",
       "      <th>...</th>\n",
       "      <th>surface_covered_in_m2</th>\n",
       "      <th>price_usd_per_m2</th>\n",
       "      <th>price_per_m2</th>\n",
       "      <th>floor</th>\n",
       "      <th>rooms</th>\n",
       "      <th>expenses</th>\n",
       "      <th>properati_url</th>\n",
       "      <th>description</th>\n",
       "      <th>title</th>\n",
       "      <th>image_thumbnail</th>\n",
       "    </tr>\n",
       "  </thead>\n",
       "  <tbody>\n",
       "    <tr>\n",
       "      <th>0</th>\n",
       "      <td>sell</td>\n",
       "      <td>PH</td>\n",
       "      <td>Mataderos</td>\n",
       "      <td>|Argentina|Capital Federal|Mataderos|</td>\n",
       "      <td>Argentina</td>\n",
       "      <td>Capital Federal</td>\n",
       "      <td>3430787.0</td>\n",
       "      <td>-34.6618237,-58.5088387</td>\n",
       "      <td>-34.661824</td>\n",
       "      <td>-58.508839</td>\n",
       "      <td>...</td>\n",
       "      <td>40.0</td>\n",
       "      <td>1127.272727</td>\n",
       "      <td>1550.000000</td>\n",
       "      <td>NaN</td>\n",
       "      <td>NaN</td>\n",
       "      <td>NaN</td>\n",
       "      <td>http://www.properati.com.ar/15bo8_venta_ph_mat...</td>\n",
       "      <td>2 AMBIENTES TIPO CASA PLANTA BAJA POR PASILLO,...</td>\n",
       "      <td>2 AMB TIPO CASA SIN EXPENSAS EN PB</td>\n",
       "      <td>https://thumbs4.properati.com/8/BluUYiHJLhgIIK...</td>\n",
       "    </tr>\n",
       "    <tr>\n",
       "      <th>1</th>\n",
       "      <td>sell</td>\n",
       "      <td>apartment</td>\n",
       "      <td>La Plata</td>\n",
       "      <td>|Argentina|Bs.As. G.B.A. Zona Sur|La Plata|</td>\n",
       "      <td>Argentina</td>\n",
       "      <td>Bs.As. G.B.A. Zona Sur</td>\n",
       "      <td>3432039.0</td>\n",
       "      <td>-34.9038831,-57.9643295</td>\n",
       "      <td>-34.903883</td>\n",
       "      <td>-57.964330</td>\n",
       "      <td>...</td>\n",
       "      <td>NaN</td>\n",
       "      <td>NaN</td>\n",
       "      <td>NaN</td>\n",
       "      <td>NaN</td>\n",
       "      <td>NaN</td>\n",
       "      <td>NaN</td>\n",
       "      <td>http://www.properati.com.ar/15bob_venta_depart...</td>\n",
       "      <td>Venta de departamento en décimo piso al frente...</td>\n",
       "      <td>VENTA Depto 2 dorm. a estrenar 7 e/ 36 y 37   ...</td>\n",
       "      <td>https://thumbs4.properati.com/7/ikpVBu2ztHA7jv...</td>\n",
       "    </tr>\n",
       "    <tr>\n",
       "      <th>2</th>\n",
       "      <td>sell</td>\n",
       "      <td>apartment</td>\n",
       "      <td>Mataderos</td>\n",
       "      <td>|Argentina|Capital Federal|Mataderos|</td>\n",
       "      <td>Argentina</td>\n",
       "      <td>Capital Federal</td>\n",
       "      <td>3430787.0</td>\n",
       "      <td>-34.6522615,-58.5229825</td>\n",
       "      <td>-34.652262</td>\n",
       "      <td>-58.522982</td>\n",
       "      <td>...</td>\n",
       "      <td>55.0</td>\n",
       "      <td>1309.090909</td>\n",
       "      <td>1309.090909</td>\n",
       "      <td>NaN</td>\n",
       "      <td>NaN</td>\n",
       "      <td>NaN</td>\n",
       "      <td>http://www.properati.com.ar/15bod_venta_depart...</td>\n",
       "      <td>2 AMBIENTES 3ER PISO LATERAL LIVING COMEDOR AM...</td>\n",
       "      <td>2 AMB 3ER PISO CON ASCENSOR APTO CREDITO</td>\n",
       "      <td>https://thumbs4.properati.com/5/SXKr34F_IwG3W_...</td>\n",
       "    </tr>\n",
       "  </tbody>\n",
       "</table>\n",
       "<p>3 rows × 25 columns</p>\n",
       "</div>"
      ],
      "text/plain": [
       "  operation property_type place_name  \\\n",
       "0      sell            PH  Mataderos   \n",
       "1      sell     apartment   La Plata   \n",
       "2      sell     apartment  Mataderos   \n",
       "\n",
       "                       place_with_parent_names country_name  \\\n",
       "0        |Argentina|Capital Federal|Mataderos|    Argentina   \n",
       "1  |Argentina|Bs.As. G.B.A. Zona Sur|La Plata|    Argentina   \n",
       "2        |Argentina|Capital Federal|Mataderos|    Argentina   \n",
       "\n",
       "               state_name  geonames_id                  lat-lon        lat  \\\n",
       "0         Capital Federal    3430787.0  -34.6618237,-58.5088387 -34.661824   \n",
       "1  Bs.As. G.B.A. Zona Sur    3432039.0  -34.9038831,-57.9643295 -34.903883   \n",
       "2         Capital Federal    3430787.0  -34.6522615,-58.5229825 -34.652262   \n",
       "\n",
       "         lon  ...  surface_covered_in_m2 price_usd_per_m2  price_per_m2  \\\n",
       "0 -58.508839  ...                   40.0      1127.272727   1550.000000   \n",
       "1 -57.964330  ...                    NaN              NaN           NaN   \n",
       "2 -58.522982  ...                   55.0      1309.090909   1309.090909   \n",
       "\n",
       "   floor  rooms  expenses                                      properati_url  \\\n",
       "0    NaN    NaN       NaN  http://www.properati.com.ar/15bo8_venta_ph_mat...   \n",
       "1    NaN    NaN       NaN  http://www.properati.com.ar/15bob_venta_depart...   \n",
       "2    NaN    NaN       NaN  http://www.properati.com.ar/15bod_venta_depart...   \n",
       "\n",
       "                                         description  \\\n",
       "0  2 AMBIENTES TIPO CASA PLANTA BAJA POR PASILLO,...   \n",
       "1  Venta de departamento en décimo piso al frente...   \n",
       "2  2 AMBIENTES 3ER PISO LATERAL LIVING COMEDOR AM...   \n",
       "\n",
       "                                               title  \\\n",
       "0                 2 AMB TIPO CASA SIN EXPENSAS EN PB   \n",
       "1  VENTA Depto 2 dorm. a estrenar 7 e/ 36 y 37   ...   \n",
       "2           2 AMB 3ER PISO CON ASCENSOR APTO CREDITO   \n",
       "\n",
       "                                     image_thumbnail  \n",
       "0  https://thumbs4.properati.com/8/BluUYiHJLhgIIK...  \n",
       "1  https://thumbs4.properati.com/7/ikpVBu2ztHA7jv...  \n",
       "2  https://thumbs4.properati.com/5/SXKr34F_IwG3W_...  \n",
       "\n",
       "[3 rows x 25 columns]"
      ]
     },
     "execution_count": 3,
     "metadata": {},
     "output_type": "execute_result"
    }
   ],
   "source": [
    "data_location = \"../Data/properatti.csv\"\n",
    "\n",
    "data = pd.read_csv(data_location, index_col=0)\n",
    "data.head(3)"
   ]
  },
  {
   "cell_type": "markdown",
   "id": "f9c4bcf6",
   "metadata": {},
   "source": [
    "# Analis preliminar del DataSet"
   ]
  },
  {
   "cell_type": "code",
   "execution_count": 4,
   "id": "49b758d9",
   "metadata": {},
   "outputs": [
    {
     "data": {
      "text/plain": [
       "operation                      object\n",
       "property_type                  object\n",
       "place_name                     object\n",
       "place_with_parent_names        object\n",
       "country_name                   object\n",
       "state_name                     object\n",
       "geonames_id                   float64\n",
       "lat-lon                        object\n",
       "lat                           float64\n",
       "lon                           float64\n",
       "price                         float64\n",
       "currency                       object\n",
       "price_aprox_local_currency    float64\n",
       "price_aprox_usd               float64\n",
       "surface_total_in_m2           float64\n",
       "surface_covered_in_m2         float64\n",
       "price_usd_per_m2              float64\n",
       "price_per_m2                  float64\n",
       "floor                         float64\n",
       "rooms                         float64\n",
       "expenses                      float64\n",
       "properati_url                  object\n",
       "description                    object\n",
       "title                          object\n",
       "image_thumbnail                object\n",
       "dtype: object"
      ]
     },
     "execution_count": 4,
     "metadata": {},
     "output_type": "execute_result"
    }
   ],
   "source": [
    "# Se utoliza dtypes para saber que tipo de datos se almacenan en el dataset\n",
    "data.dtypes"
   ]
  },
  {
   "cell_type": "code",
   "execution_count": 5,
   "id": "22e312b7",
   "metadata": {},
   "outputs": [
    {
     "name": "stdout",
     "output_type": "stream",
     "text": [
      "operation                          0\n",
      "property_type                      0\n",
      "place_name                        23\n",
      "place_with_parent_names            0\n",
      "country_name                       0\n",
      "state_name                         0\n",
      "geonames_id                    18717\n",
      "lat-lon                        51550\n",
      "lat                            51550\n",
      "lon                            51550\n",
      "price                          20410\n",
      "currency                       20411\n",
      "price_aprox_local_currency     20410\n",
      "price_aprox_usd                20410\n",
      "surface_total_in_m2            39328\n",
      "surface_covered_in_m2          19907\n",
      "price_usd_per_m2               52603\n",
      "price_per_m2                   33562\n",
      "floor                         113321\n",
      "rooms                          73830\n",
      "expenses                      106958\n",
      "properati_url                      0\n",
      "description                        2\n",
      "title                              0\n",
      "image_thumbnail                 3112\n",
      "dtype: int64\n"
     ]
    }
   ],
   "source": [
    "# Se ven cuantos valores nulos tenemos por columna\n",
    "is_null_result = data.isnull().sum()\n",
    "print(is_null_result)"
   ]
  },
  {
   "cell_type": "code",
   "execution_count": 6,
   "id": "34e479fd",
   "metadata": {},
   "outputs": [
    {
     "data": {
      "text/plain": [
       "operation                      0.000000\n",
       "property_type                  0.000000\n",
       "place_name                     0.018974\n",
       "place_with_parent_names        0.000000\n",
       "country_name                   0.000000\n",
       "state_name                     0.000000\n",
       "geonames_id                   15.440521\n",
       "lat-lon                       42.525986\n",
       "lat                           42.525986\n",
       "lon                           42.525986\n",
       "price                         16.837156\n",
       "currency                      16.837981\n",
       "price_aprox_local_currency    16.837156\n",
       "price_aprox_usd               16.837156\n",
       "surface_total_in_m2           32.443491\n",
       "surface_covered_in_m2         16.422208\n",
       "price_usd_per_m2              43.394654\n",
       "price_per_m2                  27.686850\n",
       "floor                         93.483749\n",
       "rooms                         60.905791\n",
       "expenses                      88.234615\n",
       "properati_url                  0.000000\n",
       "description                    0.001650\n",
       "title                          0.000000\n",
       "image_thumbnail                2.567233\n",
       "dtype: float64"
      ]
     },
     "execution_count": 6,
     "metadata": {},
     "output_type": "execute_result"
    }
   ],
   "source": [
    "# Se ve que porcentaje de nulos tiene cada columna\n",
    "percentage_null = 100*is_null_result/data.shape[0]\n",
    "percentage_null"
   ]
  },
  {
   "cell_type": "markdown",
   "id": "ac8ee5f5",
   "metadata": {},
   "source": [
    "## Renombrado de la columna lat-lon"
   ]
  },
  {
   "cell_type": "code",
   "execution_count": 7,
   "id": "f92a0aac",
   "metadata": {},
   "outputs": [],
   "source": [
    "# Se renombra la columna lat-lon para sortear inconvenientes\n",
    "data.rename(columns={'lat-lon': 'lat_lon'}, inplace=True)"
   ]
  },
  {
   "cell_type": "markdown",
   "id": "a079addd",
   "metadata": {},
   "source": [
    "## Verificacion de instancias nulas"
   ]
  },
  {
   "cell_type": "code",
   "execution_count": 8,
   "id": "862e8bd7",
   "metadata": {},
   "outputs": [
    {
     "name": "stdout",
     "output_type": "stream",
     "text": [
      "(121220, 25)\n",
      "(121220, 25)\n"
     ]
    }
   ],
   "source": [
    "# Se comprueban las instancias enteramente nulas y se las desecha \n",
    "data_clean_empty_row = data.dropna(axis = 0, how= 'all')\n",
    "print(data.shape)\n",
    "print(data_clean_empty_row.shape)\n",
    "#En este caso no hay ninguna fila con todos los valores nulos"
   ]
  },
  {
   "cell_type": "markdown",
   "id": "4d6dd6ee",
   "metadata": {},
   "source": [
    "### Reemplazo de valores iguales a cero por Nan"
   ]
  },
  {
   "cell_type": "markdown",
   "id": "886e75b9",
   "metadata": {},
   "source": [
    "##### *Se adopta este criterio ya que no existen variables que puedan tomar el valor cero, por lo que se los interpreta como nulos*"
   ]
  },
  {
   "cell_type": "code",
   "execution_count": 9,
   "id": "c54538c5",
   "metadata": {},
   "outputs": [
    {
     "data": {
      "text/plain": [
       "operation                     0\n",
       "property_type                 0\n",
       "place_name                    0\n",
       "place_with_parent_names       0\n",
       "country_name                  0\n",
       "state_name                    0\n",
       "geonames_id                   0\n",
       "lat_lon                       0\n",
       "lat                           0\n",
       "lon                           0\n",
       "price                         0\n",
       "currency                      0\n",
       "price_aprox_local_currency    0\n",
       "price_aprox_usd               0\n",
       "surface_total_in_m2           0\n",
       "surface_covered_in_m2         0\n",
       "price_usd_per_m2              0\n",
       "price_per_m2                  0\n",
       "floor                         0\n",
       "rooms                         0\n",
       "expenses                      0\n",
       "properati_url                 0\n",
       "description                   0\n",
       "title                         0\n",
       "image_thumbnail               0\n",
       "dtype: int64"
      ]
     },
     "execution_count": 9,
     "metadata": {},
     "output_type": "execute_result"
    }
   ],
   "source": [
    "# Se reemplazan los ceros por NaN\n",
    "data[data==0] = np.nan\n",
    "(data==0).sum()"
   ]
  },
  {
   "cell_type": "markdown",
   "id": "545fc734",
   "metadata": {},
   "source": [
    "# Tratamiento de columnas con informacion no util o con informacion redundante"
   ]
  },
  {
   "cell_type": "markdown",
   "id": "cc989534",
   "metadata": {},
   "source": [
    "## Tratamiento de columnas *properati_url* y *image_thumbnail*"
   ]
  },
  {
   "cell_type": "markdown",
   "id": "0460c362",
   "metadata": {},
   "source": [
    "#### Se desechan las columnas *properati_url* y *image_thumbnail* ya que no aportan informacion util"
   ]
  },
  {
   "cell_type": "code",
   "execution_count": 10,
   "id": "0ea41c6c",
   "metadata": {},
   "outputs": [
    {
     "name": "stdout",
     "output_type": "stream",
     "text": [
      "cantidad de columnas actuales= 23\n"
     ]
    }
   ],
   "source": [
    "# Se desechan las columnas properati_url y image_thumbnail de data\n",
    "data = data.drop(['properati_url', 'image_thumbnail'], axis=1)\n",
    "print(\"cantidad de columnas actuales=\",data.shape[1])"
   ]
  },
  {
   "cell_type": "markdown",
   "id": "45f19892",
   "metadata": {},
   "source": [
    "## Tratamiento de columnas *price* , *price_aprox_local_currency* y *price_aprox_usd* "
   ]
  },
  {
   "cell_type": "markdown",
   "id": "d607c87a",
   "metadata": {},
   "source": [
    "#### Como existe redundancia entre las columnas **price_aprox_usd**, **price** y **price_aprox_local_currency** se toma la decision de desechar  **price** y **price_aprox_local_currency**\n",
    "**Se asume igual fiabilidad de los datos en las tres variables**"
   ]
  },
  {
   "cell_type": "code",
   "execution_count": 11,
   "id": "211e7b30",
   "metadata": {},
   "outputs": [
    {
     "name": "stdout",
     "output_type": "stream",
     "text": [
      "Cantidad de nulos en price=  20411\n",
      "cantidad de nulos en price_aprox_local_currency=  20411\n",
      "Cantida de nulos en price_aprox_usd=  20411\n",
      "Cantidad de nulos en la interseccion de las mascaras=  20411\n",
      "True\n"
     ]
    }
   ],
   "source": [
    "# Primero se corrobora que no exista mas informacion en las columnas que se van a desechar que en la que va a quedar\n",
    "\n",
    "# Se hacen tres mascaras para encontrar las instancias que tienen un valor nulo en esa columna\n",
    "mask_price_null = data.price.isnull()\n",
    "mask_price_aprox_local_currency_null = data.price_aprox_local_currency.isnull()\n",
    "mask_price_aprox_usd_null = data.price_aprox_usd.isnull()\n",
    "\n",
    "# Se hace una interseccion de las tres mascaras\n",
    "mask_prices_null = mask_price_null & mask_price_aprox_local_currency_null & mask_price_aprox_usd_null\n",
    "\n",
    "# Si las tres mascaras tienen cada una la misma cantidad de elementos que la interseccion significa que los nulos se encuentran en las mismas instancias\n",
    "print(\"Cantidad de nulos en price= \" , mask_price_null.sum())\n",
    "print(\"cantidad de nulos en price_aprox_local_currency= \" , mask_price_aprox_local_currency_null.sum())\n",
    "print(\"Cantida de nulos en price_aprox_usd= \" , mask_price_aprox_usd_null.sum())\n",
    "print(\"Cantidad de nulos en la interseccion de las mascaras= \" , mask_prices_null.sum())\n",
    "\n",
    "# Devuelve un True si la cantidad de nulos es la misma en todas las mascaras por lo que la interseccion es perfecta\n",
    "print(mask_price_null.sum()==mask_price_aprox_local_currency_null.sum()==mask_price_aprox_usd_null.sum()==mask_prices_null.sum())"
   ]
  },
  {
   "cell_type": "code",
   "execution_count": 12,
   "id": "bb481370",
   "metadata": {},
   "outputs": [
    {
     "name": "stdout",
     "output_type": "stream",
     "text": [
      "cantidad de columnas actuales=  21\n"
     ]
    }
   ],
   "source": [
    "# Como se cumple la condicion, se desechan las columnas price, price_aprox_local_currency y currency \n",
    "data = data.drop(['price', 'price_aprox_local_currency'], axis=1)\n",
    "print(\"cantidad de columnas actuales= \",data.shape[1])"
   ]
  },
  {
   "cell_type": "markdown",
   "id": "57d0a812",
   "metadata": {},
   "source": [
    "## Tratamiento de columnas *price_usd_per_m2* y *price_per_m2*"
   ]
  },
  {
   "cell_type": "markdown",
   "id": "10884d22",
   "metadata": {},
   "source": [
    "#### Como existe redundancia entre las columnas *price_per_m2* y *price_usd_per_m2* se toma la decision de desechar la columna price_per_m2\n",
    "**Asumimos igual fiabilidad de datos en ambas variables**"
   ]
  },
  {
   "cell_type": "code",
   "execution_count": 13,
   "id": "7a3998b1",
   "metadata": {},
   "outputs": [
    {
     "name": "stdout",
     "output_type": "stream",
     "text": [
      "Cantidad de nulos en price_per_m2=  33562\n",
      "cantidad de nulos en price_usd_per_m2=  52603\n",
      "Cantidad de nulos en la interseccion de las mascaras=  28295\n",
      "False\n"
     ]
    }
   ],
   "source": [
    "# Primero se corrobora que no exista mas informacion en la columna que se va a desechar que en la que va a quedar\n",
    "\n",
    "# Se hacen dos mascaras para lencontrar las instancias que tienen un valor nulo en esa columna\n",
    "mask_price_per_m2_null = data.price_per_m2.isnull()\n",
    "mask_price_usd_per_m2_null = data.price_usd_per_m2.isnull()\n",
    "\n",
    "# Se hace una interseccion de las dos mascaras\n",
    "mask_prices_per_m2_null = mask_price_per_m2_null & mask_price_usd_per_m2_null \n",
    "\n",
    "# Si las tres mascaras tienen cada una la misma cantidad de elementos que la interseccion significa que los nulos se encuentran siempre en las mismas instancias\n",
    "print(\"Cantidad de nulos en price_per_m2= \" , mask_price_per_m2_null.sum())\n",
    "print(\"cantidad de nulos en price_usd_per_m2= \" , mask_price_usd_per_m2_null.sum())\n",
    "print(\"Cantidad de nulos en la interseccion de las mascaras= \" , mask_prices_per_m2_null.sum())\n",
    "\n",
    "# Devuelve un True si la cantidad de nulos es la misma en todas las mascaras por lo que la interseccion es perfecta\n",
    "print(mask_price_per_m2_null.sum()==mask_price_usd_per_m2_null.sum()==mask_prices_per_m2_null.sum())"
   ]
  },
  {
   "cell_type": "markdown",
   "id": "f5fbfed0",
   "metadata": {},
   "source": [
    "##### *Como hay mas informacion en una columna que en la otra, en las instancias en que price_usd_per_m2 es nulo pero no lo es price_per_m2, se imputa el valor haciendo una conversion de moneda*"
   ]
  },
  {
   "cell_type": "code",
   "execution_count": 14,
   "id": "9298a54d",
   "metadata": {},
   "outputs": [],
   "source": [
    "# Se obtienen dos dataframe con el price_usd_per_m2 nnulo y price_per_m2 no nulo diferenciados por la currency\n",
    "mask_prices_per_m2_USD = data.price_usd_per_m2.isnull() & data.price_per_m2.notnull() & (data.currency == \"USD\")\n",
    "data_prices_per_m2_USD = data [mask_prices_per_m2_USD]\n",
    "\n",
    "mask_prices_per_m2_ARS = data.price_usd_per_m2.isnull() & data.price_per_m2.notnull() & (data.currency == \"ARS\")\n",
    "data_prices_per_m2_ARS = data [mask_prices_per_m2_ARS]\n",
    "\n",
    "# Se define una variable que contenga el valor de conversion de pesos a dolar\n",
    "pesos = 1/200\n",
    "\n",
    "# Se imputa en price_usd_per_m2 el valor de price_per_m2 multiplicado por el valor de la conversion de pesos a dolar\n",
    "data.loc[data_prices_per_m2_USD.index,\"price_usd_per_m2\"] = data.loc[data_prices_per_m2_USD.index, \"price_per_m2\"]\n",
    "\n",
    "# Se imputa en price_usd_per_m2 el valor de price_per_m2 multiplicado por el valor de la conversion de pesos a dolar\n",
    "data.loc[data_prices_per_m2_ARS.index,\"price_usd_per_m2\"] = pesos *data.loc[data_prices_per_m2_ARS.index, \"price_per_m2\"]"
   ]
  },
  {
   "cell_type": "code",
   "execution_count": 15,
   "id": "95c504ed",
   "metadata": {},
   "outputs": [
    {
     "name": "stdout",
     "output_type": "stream",
     "text": [
      "cantidad de columnas actuales=  20\n"
     ]
    }
   ],
   "source": [
    "# Se desecha la columna price_per_m2\n",
    "data = data.drop(['price_per_m2'], axis=1)\n",
    "print(\"cantidad de columnas actuales= \",data.shape[1])"
   ]
  },
  {
   "cell_type": "markdown",
   "id": "9c1f0e72",
   "metadata": {},
   "source": [
    "## Tratamiento de columnas *lat-lon*, *lat* y *lon*"
   ]
  },
  {
   "cell_type": "markdown",
   "id": "d9e61756",
   "metadata": {},
   "source": [
    "#### Como existe redundancia entre las columnas *lat-lon*, *lat* y *lon* se toma la decision de desechar la columna *lat-lon*\n",
    "**Asumimos igual fiabilidad de datos en las tres variables**"
   ]
  },
  {
   "cell_type": "code",
   "execution_count": 16,
   "id": "e817fc01",
   "metadata": {},
   "outputs": [
    {
     "name": "stdout",
     "output_type": "stream",
     "text": [
      "Cantidad de nulos en lat-lon=  51550\n",
      "cantidad de nulos en lat=  51550\n",
      "Cantida de nulos en lon=  51550\n",
      "Cantidad de nulos en la interseccion de las mascaras=  51550\n",
      "True\n"
     ]
    }
   ],
   "source": [
    "# Primero se corrobora que no exista mas informacion en la columna que se va a desechar que en lsa que se van a quedar\n",
    "\n",
    "# Se hacen tres mascaras para encontrar las instancias de latitud y longitud que contengan los nulos de las mismas\n",
    "mask_lat_lon_null = data.lat_lon.isnull()\n",
    "mask_lat_null = data.lat.isnull()\n",
    "mask_lon_null = data.lon.isnull()\n",
    "\n",
    "# Se hace una interseccion de las tres mascaras\n",
    "mask_inter_lat_lon_null = mask_lat_lon_null & mask_lat_null & mask_lon_null\n",
    "\n",
    "# Si las tres mascaras tienen cada una la misma cantidad de elementos que la interseccion significa que los nulos se encuentran siempre en las mismas instancias\n",
    "print(\"Cantidad de nulos en lat-lon= \" , mask_lat_lon_null.sum())\n",
    "print(\"cantidad de nulos en lat= \" , mask_lat_null.sum())\n",
    "print(\"Cantida de nulos en lon= \" , mask_lon_null.sum())\n",
    "print(\"Cantidad de nulos en la interseccion de las mascaras= \" , mask_inter_lat_lon_null.sum())\n",
    "\n",
    "# Devuelve un True si la cantidad de nulos es la misma en todas las mascaras por lo que la interseccion es perfecta\n",
    "print(mask_lat_lon_null.sum()==mask_lat_null.sum()==mask_lon_null.sum()==mask_inter_lat_lon_null.sum())"
   ]
  },
  {
   "cell_type": "code",
   "execution_count": 17,
   "id": "b5e80492",
   "metadata": {},
   "outputs": [
    {
     "name": "stdout",
     "output_type": "stream",
     "text": [
      "cantidad de columnas actuales=  19\n"
     ]
    }
   ],
   "source": [
    "# Como la condicion se cumple, se desecha la columna lat_lon\n",
    "data = data.drop(['lat_lon'], axis=1)\n",
    "print(\"cantidad de columnas actuales= \",data.shape[1])"
   ]
  },
  {
   "cell_type": "markdown",
   "id": "97d984d0",
   "metadata": {},
   "source": [
    "# Analisis de instancias en funcion del state_name"
   ]
  },
  {
   "cell_type": "code",
   "execution_count": 18,
   "id": "db02ce48",
   "metadata": {},
   "outputs": [
    {
     "data": {
      "text/plain": [
       "array(['Capital Federal', 'Bs.As. G.B.A. Zona Sur',\n",
       "       'Buenos Aires Costa Atlántica', 'Entre Ríos',\n",
       "       'Bs.As. G.B.A. Zona Norte', 'Santa Fe', 'Córdoba',\n",
       "       'Bs.As. G.B.A. Zona Oeste', 'Misiones', 'Buenos Aires Interior',\n",
       "       'Salta', 'Neuquén', 'Río Negro', 'San Luis', 'Mendoza',\n",
       "       'Corrientes', 'Chubut', 'Tucumán', 'La Pampa', 'Chaco', 'San Juan',\n",
       "       'Santa Cruz', 'Tierra Del Fuego', 'Catamarca',\n",
       "       'Santiago Del Estero', 'Jujuy', 'La Rioja', 'Formosa'],\n",
       "      dtype=object)"
      ]
     },
     "execution_count": 18,
     "metadata": {},
     "output_type": "execute_result"
    }
   ],
   "source": [
    "# Se presentan todos los diferentes state_name que hay en el DataSet\n",
    "data.state_name.unique()"
   ]
  },
  {
   "cell_type": "code",
   "execution_count": 19,
   "id": "2859db4a",
   "metadata": {},
   "outputs": [
    {
     "data": {
      "text/plain": [
       "Capital Federal                 32316\n",
       "Bs.As. G.B.A. Zona Norte        25560\n",
       "Bs.As. G.B.A. Zona Sur          13952\n",
       "Córdoba                         12069\n",
       "Santa Fe                        10172\n",
       "Buenos Aires Costa Atlántica    10006\n",
       "Bs.As. G.B.A. Zona Oeste         9322\n",
       "Buenos Aires Interior            2291\n",
       "Río Negro                         808\n",
       "Neuquén                           733\n",
       "Mendoza                           681\n",
       "Tucumán                           674\n",
       "Corrientes                        583\n",
       "Misiones                          464\n",
       "Entre Ríos                        369\n",
       "Salta                             278\n",
       "Chubut                            259\n",
       "San Luis                          252\n",
       "La Pampa                          157\n",
       "Formosa                            65\n",
       "Chaco                              57\n",
       "San Juan                           40\n",
       "Tierra Del Fuego                   31\n",
       "Catamarca                          27\n",
       "Jujuy                              26\n",
       "Santa Cruz                         20\n",
       "Santiago Del Estero                 4\n",
       "La Rioja                            4\n",
       "Name: state_name, dtype: int64"
      ]
     },
     "execution_count": 19,
     "metadata": {},
     "output_type": "execute_result"
    }
   ],
   "source": [
    "# Se presentan la cantidad de instancias que acumula cada state_name\n",
    "state_name_distribution = pd.value_counts(data.state_name)\n",
    "state_name_distribution"
   ]
  },
  {
   "cell_type": "code",
   "execution_count": 20,
   "id": "6667c360",
   "metadata": {},
   "outputs": [
    {
     "data": {
      "text/plain": [
       "Capital Federal                 26.658967\n",
       "Bs.As. G.B.A. Zona Norte        21.085629\n",
       "Bs.As. G.B.A. Zona Sur          11.509652\n",
       "Córdoba                          9.956278\n",
       "Santa Fe                         8.391355\n",
       "Buenos Aires Costa Atlántica     8.254413\n",
       "Bs.As. G.B.A. Zona Oeste         7.690150\n",
       "Buenos Aires Interior            1.889952\n",
       "Río Negro                        0.666557\n",
       "Neuquén                          0.604686\n",
       "Mendoza                          0.561788\n",
       "Tucumán                          0.556014\n",
       "Corrientes                       0.480944\n",
       "Misiones                         0.382775\n",
       "Entre Ríos                       0.304405\n",
       "Salta                            0.229335\n",
       "Chubut                           0.213661\n",
       "San Luis                         0.207886\n",
       "La Pampa                         0.129517\n",
       "Formosa                          0.053622\n",
       "Chaco                            0.047022\n",
       "San Juan                         0.032998\n",
       "Tierra Del Fuego                 0.025573\n",
       "Catamarca                        0.022274\n",
       "Jujuy                            0.021449\n",
       "Santa Cruz                       0.016499\n",
       "Santiago Del Estero              0.003300\n",
       "La Rioja                         0.003300\n",
       "Name: state_name, dtype: float64"
      ]
     },
     "execution_count": 20,
     "metadata": {},
     "output_type": "execute_result"
    }
   ],
   "source": [
    "# Se presentan los porcentajes de la distribucion de los datos por state_name\n",
    "total_data = data.shape[0]\n",
    "percentage_state_name = 100*state_name_distribution/total_data\n",
    "percentage_state_name"
   ]
  },
  {
   "cell_type": "markdown",
   "id": "d48bc763",
   "metadata": {},
   "source": [
    "### Se toma la decision de desechar las instancias correspondientes a los *state_name* que representan < 1% del total de instancias."
   ]
  },
  {
   "cell_type": "markdown",
   "id": "04f72721",
   "metadata": {},
   "source": [
    "#### **Tomamos esta decision ya que consideramos que en estos state_names no contamos con las instancias suficientes como para realizar un analisis fiable**"
   ]
  },
  {
   "cell_type": "code",
   "execution_count": 21,
   "id": "452bbc8b",
   "metadata": {},
   "outputs": [
    {
     "name": "stdout",
     "output_type": "stream",
     "text": [
      "Se desecha el  4.56% del total de los datos\n"
     ]
    },
    {
     "data": {
      "text/plain": [
       "Capital Federal                 26.66\n",
       "Bs.As. G.B.A. Zona Norte        21.09\n",
       "Bs.As. G.B.A. Zona Sur          11.51\n",
       "Córdoba                          9.96\n",
       "Santa Fe                         8.39\n",
       "Buenos Aires Costa Atlántica     8.25\n",
       "Bs.As. G.B.A. Zona Oeste         7.69\n",
       "Buenos Aires Interior            1.89\n",
       "Name: state_name, dtype: float64"
      ]
     },
     "execution_count": 21,
     "metadata": {},
     "output_type": "execute_result"
    }
   ],
   "source": [
    "# Se le aplica una mascara a la serie percentage_state_name con la condicion de que el state_name sea mayor a 1%\n",
    "mask_1_percent = percentage_state_name > 1\n",
    "series_1_percent = percentage_state_name [mask_1_percent]\n",
    "print(f'Se desecha el  {round(100 - series_1_percent.sum(), 2)}% del total de los datos')\n",
    "round(series_1_percent, 2)"
   ]
  },
  {
   "cell_type": "code",
   "execution_count": 22,
   "id": "f14599f5",
   "metadata": {},
   "outputs": [],
   "source": [
    "# Se descartan las instancias en las que su state_name no este dentro del indice de la serie series_1_percent\n",
    "data = data[data.state_name.isin(series_1_percent.index)]"
   ]
  },
  {
   "cell_type": "markdown",
   "id": "9f57eb76",
   "metadata": {},
   "source": [
    "## Desagregacion de la columna place_with_parent_names"
   ]
  },
  {
   "cell_type": "markdown",
   "id": "0735917f",
   "metadata": {},
   "source": [
    "**Consideracion:** *Capital federal esta considerado como state_name, por lo que en city_name iran los barrios de la ciudad*"
   ]
  },
  {
   "cell_type": "markdown",
   "id": "23d8b1f7",
   "metadata": {},
   "source": [
    "##### **Para realizar esto se asume igual fiabilidad en los datos de las columnas place_name, country_name, state_name y place_with_parent_names**"
   ]
  },
  {
   "cell_type": "code",
   "execution_count": 23,
   "id": "1a727f26",
   "metadata": {},
   "outputs": [
    {
     "data": {
      "text/html": [
       "<div>\n",
       "<style scoped>\n",
       "    .dataframe tbody tr th:only-of-type {\n",
       "        vertical-align: middle;\n",
       "    }\n",
       "\n",
       "    .dataframe tbody tr th {\n",
       "        vertical-align: top;\n",
       "    }\n",
       "\n",
       "    .dataframe thead th {\n",
       "        text-align: right;\n",
       "    }\n",
       "</style>\n",
       "<table border=\"1\" class=\"dataframe\">\n",
       "  <thead>\n",
       "    <tr style=\"text-align: right;\">\n",
       "      <th></th>\n",
       "      <th>0</th>\n",
       "      <th>1</th>\n",
       "      <th>2</th>\n",
       "      <th>3</th>\n",
       "      <th>4</th>\n",
       "      <th>5</th>\n",
       "      <th>6</th>\n",
       "    </tr>\n",
       "  </thead>\n",
       "  <tbody>\n",
       "    <tr>\n",
       "      <th>0</th>\n",
       "      <td></td>\n",
       "      <td>Argentina</td>\n",
       "      <td>Capital Federal</td>\n",
       "      <td>Mataderos</td>\n",
       "      <td></td>\n",
       "      <td>None</td>\n",
       "      <td>None</td>\n",
       "    </tr>\n",
       "    <tr>\n",
       "      <th>1</th>\n",
       "      <td></td>\n",
       "      <td>Argentina</td>\n",
       "      <td>Bs.As. G.B.A. Zona Sur</td>\n",
       "      <td>La Plata</td>\n",
       "      <td></td>\n",
       "      <td>None</td>\n",
       "      <td>None</td>\n",
       "    </tr>\n",
       "    <tr>\n",
       "      <th>2</th>\n",
       "      <td></td>\n",
       "      <td>Argentina</td>\n",
       "      <td>Capital Federal</td>\n",
       "      <td>Mataderos</td>\n",
       "      <td></td>\n",
       "      <td>None</td>\n",
       "      <td>None</td>\n",
       "    </tr>\n",
       "  </tbody>\n",
       "</table>\n",
       "</div>"
      ],
      "text/plain": [
       "  0          1                       2          3 4     5     6\n",
       "0    Argentina         Capital Federal  Mataderos    None  None\n",
       "1    Argentina  Bs.As. G.B.A. Zona Sur   La Plata    None  None\n",
       "2    Argentina         Capital Federal  Mataderos    None  None"
      ]
     },
     "execution_count": 23,
     "metadata": {},
     "output_type": "execute_result"
    }
   ],
   "source": [
    "#  Se realiza un split a la columna place_with_parent_names\n",
    "data_place_with_parent_names = data[\"place_with_parent_names\"].str.split(\"|\", expand=True)\n",
    "data_place_with_parent_names.head(3)"
   ]
  },
  {
   "cell_type": "code",
   "execution_count": 24,
   "id": "311822d0",
   "metadata": {},
   "outputs": [],
   "source": [
    "# Se descartan las columnas 0, 5 y 6 ya que contienen no contienen informacion\n",
    "data_place_with_parent_names = data_place_with_parent_names.drop([0,5,6], axis=1)"
   ]
  },
  {
   "cell_type": "code",
   "execution_count": 25,
   "id": "e41e5bf1",
   "metadata": {},
   "outputs": [
    {
     "data": {
      "text/plain": [
       "Index(['country_name', 'state_name', 'city_name', 'neighborhood_name'], dtype='object')"
      ]
     },
     "execution_count": 25,
     "metadata": {},
     "output_type": "execute_result"
    }
   ],
   "source": [
    "# Se renombran las columnas\n",
    "data_place_with_parent_names.rename(columns={1: 'country_name' , 2 : 'state_name' , 3 : 'city_name' , 4 : 'neighborhood_name'}, inplace=True)\n",
    "data_place_with_parent_names.columns"
   ]
  },
  {
   "cell_type": "code",
   "execution_count": 26,
   "id": "4405383d",
   "metadata": {},
   "outputs": [
    {
     "name": "stdout",
     "output_type": "stream",
     "text": [
      "El total de strings vacios es= \n",
      " country_name            0\n",
      "state_name              0\n",
      "city_name               0\n",
      "neighborhood_name    4422\n",
      "dtype: int64\n",
      "El total de nulos es= \n",
      " country_name             0\n",
      "state_name               0\n",
      "city_name             4422\n",
      "neighborhood_name    71487\n",
      "dtype: int64\n"
     ]
    }
   ],
   "source": [
    "# Se visualiza el total de strings vacios \"\"\n",
    "print( \"El total de strings vacios es= \\n\" , data_place_with_parent_names.isnull().sum())\n",
    "# Se visualiza el total de nulos\n",
    "print( \"El total de nulos es= \\n\" , (data_place_with_parent_names=='').sum())"
   ]
  },
  {
   "cell_type": "code",
   "execution_count": 27,
   "id": "01ed238a",
   "metadata": {},
   "outputs": [],
   "source": [
    "# Se reemplazan las cadenas vacias en city_name a nulos\n",
    "data_city_name_empty = data_place_with_parent_names[data_place_with_parent_names.city_name==\"\"]\n",
    "data_place_with_parent_names.loc[data_city_name_empty.index,\"city_name\"] = None\n",
    "\n",
    "# Se reemplazan las cadenas vacias en neighborhood_name a nulos\n",
    "data_neighborhood_name_empty = data_place_with_parent_names[data_place_with_parent_names.neighborhood_name==\"\"]\n",
    "data_place_with_parent_names.loc[data_neighborhood_name_empty.index,\"neighborhood_name\"] = None"
   ]
  },
  {
   "cell_type": "code",
   "execution_count": 28,
   "id": "818b9f72",
   "metadata": {},
   "outputs": [
    {
     "name": "stdout",
     "output_type": "stream",
     "text": [
      "El total de nulos es= \n",
      " country_name             0\n",
      "state_name               0\n",
      "city_name             4422\n",
      "neighborhood_name    75909\n",
      "dtype: int64\n",
      "El total de strings vacios es= \n",
      " country_name         0\n",
      "state_name           0\n",
      "city_name            0\n",
      "neighborhood_name    0\n",
      "dtype: int64\n"
     ]
    }
   ],
   "source": [
    "# Se visualiza el total de strings vacios \"\"\n",
    "print( \"El total de nulos es= \\n\" , data_place_with_parent_names.isnull().sum())\n",
    "\n",
    "# Se visualiza el total de nulos\n",
    "print( \"El total de strings vacios es= \\n\" , (data_place_with_parent_names=='').sum())"
   ]
  },
  {
   "cell_type": "code",
   "execution_count": 29,
   "id": "b9aa8d2d",
   "metadata": {},
   "outputs": [],
   "source": [
    "# Se eliminan en data las columnas que se van a reemplazar\n",
    "data = data.drop([\"place_name\",\"place_with_parent_names\",\"country_name\",\"state_name\"], axis=1)"
   ]
  },
  {
   "cell_type": "code",
   "execution_count": 30,
   "id": "1d6116b8",
   "metadata": {},
   "outputs": [
    {
     "data": {
      "text/plain": [
       "Index(['operation', 'property_type', 'geonames_id', 'lat', 'lon', 'currency',\n",
       "       'price_aprox_usd', 'surface_total_in_m2', 'surface_covered_in_m2',\n",
       "       'price_usd_per_m2', 'floor', 'rooms', 'expenses', 'description',\n",
       "       'title', 'country_name', 'state_name', 'city_name',\n",
       "       'neighborhood_name'],\n",
       "      dtype='object')"
      ]
     },
     "execution_count": 30,
     "metadata": {},
     "output_type": "execute_result"
    }
   ],
   "source": [
    "# Se concatena data con data_place_with_parent_names. Se realiza con concat ya que tienen el mismo orden las instancias \n",
    "data = pd.concat([data, data_place_with_parent_names], axis=1)\n",
    "data.columns"
   ]
  },
  {
   "cell_type": "code",
   "execution_count": 31,
   "id": "ccd25f86",
   "metadata": {},
   "outputs": [],
   "source": [
    "# Se reordenan las columnas para que queden en el orden original\n",
    "data= data[['operation', 'property_type','country_name', 'state_name', 'city_name', \n",
    "            'neighborhood_name', 'geonames_id', 'lat', 'lon','price_aprox_usd', \n",
    "            'surface_total_in_m2', 'surface_covered_in_m2',\n",
    "       'price_usd_per_m2', 'floor', 'rooms', 'expenses', 'description',\n",
    "       'title',]]"
   ]
  },
  {
   "cell_type": "markdown",
   "id": "77d7de9d",
   "metadata": {},
   "source": [
    "# Validacion de datos"
   ]
  },
  {
   "cell_type": "code",
   "execution_count": 32,
   "id": "0ad39967",
   "metadata": {},
   "outputs": [
    {
     "data": {
      "text/plain": [
       "operation                     0\n",
       "property_type                 0\n",
       "country_name                  0\n",
       "state_name                    0\n",
       "city_name                  4422\n",
       "neighborhood_name         75909\n",
       "geonames_id               18527\n",
       "lat                       48639\n",
       "lon                       48639\n",
       "price_aprox_usd           17871\n",
       "surface_total_in_m2       37437\n",
       "surface_covered_in_m2     17746\n",
       "price_usd_per_m2          25390\n",
       "floor                    108073\n",
       "rooms                     69989\n",
       "expenses                 101758\n",
       "description                   2\n",
       "title                         0\n",
       "dtype: int64"
      ]
     },
     "execution_count": 32,
     "metadata": {},
     "output_type": "execute_result"
    }
   ],
   "source": [
    "data.isnull().sum()"
   ]
  },
  {
   "cell_type": "code",
   "execution_count": 33,
   "id": "8629db0e",
   "metadata": {},
   "outputs": [
    {
     "data": {
      "text/plain": [
       "operation                     0\n",
       "property_type                 0\n",
       "country_name                  0\n",
       "state_name                    0\n",
       "city_name                  4422\n",
       "neighborhood_name         75909\n",
       "geonames_id               18527\n",
       "lat                       48639\n",
       "lon                       48639\n",
       "price_aprox_usd           17882\n",
       "surface_total_in_m2       37437\n",
       "surface_covered_in_m2     18190\n",
       "price_usd_per_m2          26966\n",
       "floor                    108073\n",
       "rooms                     69989\n",
       "expenses                 101758\n",
       "description                   2\n",
       "title                         0\n",
       "dtype: int64"
      ]
     },
     "execution_count": 33,
     "metadata": {},
     "output_type": "execute_result"
    }
   ],
   "source": [
    "data_validation(data)"
   ]
  },
  {
   "cell_type": "markdown",
   "id": "2fb7da8e",
   "metadata": {},
   "source": [
    "## Correccion de instancias que tienen surface_total_in_m2 < surface_covered_in_m2"
   ]
  },
  {
   "cell_type": "code",
   "execution_count": 34,
   "id": "17f65fd4",
   "metadata": {},
   "outputs": [],
   "source": [
    "# Se corrobora en que casos el valor surface_total_in_m2 es menor que el valor surface_covered_in_m2\n",
    "mask_surface = data.surface_total_in_m2 < data.surface_covered_in_m2\n",
    "data_surface = data[mask_surface]\n",
    "\n",
    "# Se generan dos listas con los valores de surface_total_in_m2 y surface_covered_in_m2 en las instancias con el index de data_surface\n",
    "list_a = data_surface.surface_total_in_m2\n",
    "list_b = data_surface.surface_covered_in_m2\n",
    "\n",
    "# Se le asigna en funcion del index de data_surface, los valores de surface_total_in_m2 a surface_covered_in_m2 y viceversa\n",
    "data.loc[data_surface.index, \"surface_total_in_m2\"] = list_b\n",
    "data.loc[data_surface.index, \"surface_covered_in_m2\"] = list_a"
   ]
  },
  {
   "cell_type": "markdown",
   "id": "ce5e7500",
   "metadata": {},
   "source": [
    "# Imputacion de datos faltantes"
   ]
  },
  {
   "cell_type": "markdown",
   "id": "91d8f568",
   "metadata": {},
   "source": [
    "# Logica a seguir para la imputacion de datos faltantes\n",
    "1. Imputacion de datos obtenidos mediante expresiones regulares en las columnas description y title\n",
    "2. Imputacion directa mediante deduccion con valores de otras columnas\n",
    "3. Imputacion mediante media condicionada (esta metodologia no se aplica en columnas de precio)"
   ]
  },
  {
   "cell_type": "markdown",
   "id": "d2e99897",
   "metadata": {},
   "source": [
    "## Obtencion de datos con expresiones regulares de las columnas *description* y *title*"
   ]
  },
  {
   "cell_type": "markdown",
   "id": "4049f385",
   "metadata": {},
   "source": [
    "## Obtencion de rooms con expresiones regulares"
   ]
  },
  {
   "cell_type": "markdown",
   "id": "45c97279",
   "metadata": {},
   "source": [
    "##### *Se obtienen los rooms nulos en primera instancia con expresiones regulares. No se obtienen primero con una media condicionada de la superficie cubierta y el lugar ya que es mas preciso obtenerlos con un dato directo del dataset*"
   ]
  },
  {
   "cell_type": "markdown",
   "id": "2a0377f7",
   "metadata": {},
   "source": [
    "### Obtencion de rooms con expresion regular en *description*"
   ]
  },
  {
   "cell_type": "code",
   "execution_count": 35,
   "id": "c122728b",
   "metadata": {},
   "outputs": [
    {
     "name": "stdout",
     "output_type": "stream",
     "text": [
      "Cantidad de instancias en las que se va a aplicar la expresion regular=  69989\n"
     ]
    }
   ],
   "source": [
    "# Se obtiene a partir de data una serie que contenga las instancias con rooms nulos\n",
    "mask_rooms_null =  data.rooms.isnull()\n",
    "data_rooms_null = data [mask_rooms_null]\n",
    "series_rooms_null_description = data_rooms_null.description\n",
    "\n",
    "print(\"Cantidad de instancias en las que se va a aplicar la expresion regular= \",series_rooms_null_description.shape[0])"
   ]
  },
  {
   "cell_type": "code",
   "execution_count": 36,
   "id": "8088bd5d",
   "metadata": {},
   "outputs": [
    {
     "name": "stderr",
     "output_type": "stream",
     "text": [
      "C:\\Users\\gtoso\\AppData\\Local\\Temp\\ipykernel_12880\\3898365534.py:3: DeprecationWarning: Flags not at the start of the expression '(?P<rooms>\\\\d+)\\\\s+(?i' (truncated)\n",
      "  pattern_rooms_regex = re.compile(pattern)\n"
     ]
    }
   ],
   "source": [
    "# logica del patron: Toma un numero de un digito o mas,seguido o no de un espacio o mas y de las letras amb no distinguiendo entre mayusculas y minusculas\n",
    "pattern = \"(?P<rooms>\\d+)\\s+(?i)amb\"\n",
    "pattern_rooms_regex = re.compile(pattern)"
   ]
  },
  {
   "cell_type": "code",
   "execution_count": 37,
   "id": "27b2db7f",
   "metadata": {},
   "outputs": [
    {
     "name": "stdout",
     "output_type": "stream",
     "text": [
      "Rooms matcheados= 18608\n",
      "['2' nan '3' '1' '4' '7' '5' '6' '9' '2017' '103' '297' '072' '000' '11'\n",
      " '8' '085' '37' '800' '10' '12' '900' '0002' '400' '20174' '006' '17' '90'\n",
      " '0001' '772' '2004' '14' '24' '50' '20' '23' '65' '20173']\n"
     ]
    }
   ],
   "source": [
    "# Se aplica una funcion lamda para recorrer la serie series_rooms_null_description aplicando la expresion regular\n",
    "description_rooms_result = series_rooms_null_description.apply(lambda x: pattern_rooms_regex.search(str(x)))\n",
    "\n",
    "# Se extraen los datos que usaremos para la imputación\n",
    "description_rooms_match = description_rooms_result.apply(lambda x: np.nan if x is None else x.group('rooms'))\n",
    "\n",
    "print(\"Rooms matcheados=\",(description_rooms_match.notnull()).sum()) # Se ve la cantidad que pudo matchear\n",
    "print(description_rooms_match.unique()) # Se ven todos los rooms unicos que matcheo"
   ]
  },
  {
   "cell_type": "code",
   "execution_count": 38,
   "id": "556016f2",
   "metadata": {},
   "outputs": [],
   "source": [
    "# Se imputa la serie description_rooms_match con su index en data\n",
    "data.loc[description_rooms_match.index, \"rooms\"] = description_rooms_match "
   ]
  },
  {
   "cell_type": "markdown",
   "id": "c7fffd5b",
   "metadata": {},
   "source": [
    "### Obtencion de rooms con expresion regular en *title*"
   ]
  },
  {
   "cell_type": "code",
   "execution_count": 39,
   "id": "4baaf3a0",
   "metadata": {},
   "outputs": [
    {
     "name": "stdout",
     "output_type": "stream",
     "text": [
      "Cantidad de instancias en las que se va a aplicar la expresion regular=  51381\n"
     ]
    }
   ],
   "source": [
    "# Se obtiene a partir de data una serie que contenga las instancias con rooms nulos\n",
    "mask_rooms_null = data.rooms.isnull()\n",
    "data_rooms_null = data [mask_rooms_null]\n",
    "series_rooms_null_title = data_rooms_null.title\n",
    "\n",
    "print(\"Cantidad de instancias en las que se va a aplicar la expresion regular= \",series_rooms_null_title.shape[0])"
   ]
  },
  {
   "cell_type": "code",
   "execution_count": 40,
   "id": "6e155585",
   "metadata": {},
   "outputs": [
    {
     "name": "stdout",
     "output_type": "stream",
     "text": [
      "Rooms matcheados= 2505\n",
      "[nan '2' '6' '3' '4' '5' '9' '1' '7' '8' '15' '4000' '360' '12']\n"
     ]
    }
   ],
   "source": [
    "# Se aplica una funcion lamda para recorrer la serie series_rooms_null_title aplicando la expresion regular\n",
    "title_rooms_result = series_rooms_null_title.apply(lambda x: pattern_rooms_regex.search(str(x)))\n",
    "\n",
    "# Se extraen los datos que usaremos para la imputación\n",
    "title_rooms_match = title_rooms_result.apply(lambda x: np.nan if x is None else x.group('rooms'))\n",
    "\n",
    "print(\"Rooms matcheados=\",(title_rooms_match.notnull()).sum())  # Se ve la cantidad que pudo matchear\n",
    "print(title_rooms_match.unique()) # Se ven todos los rooms unicos que matcheo"
   ]
  },
  {
   "cell_type": "code",
   "execution_count": 41,
   "id": "a413c81c",
   "metadata": {},
   "outputs": [],
   "source": [
    "# Se imputa la serie title_rooms_match con su index en data\n",
    "data.loc[title_rooms_match.index, \"rooms\"] = title_rooms_match "
   ]
  },
  {
   "cell_type": "code",
   "execution_count": 42,
   "id": "aec38eca",
   "metadata": {},
   "outputs": [
    {
     "data": {
      "text/plain": [
       "dtype('float64')"
      ]
     },
     "execution_count": 42,
     "metadata": {},
     "output_type": "execute_result"
    }
   ],
   "source": [
    "# Se cambia el tipo de dato de object a float\n",
    "data[\"rooms\"] = data[\"rooms\"].astype(\"float\")\n",
    "data.rooms.dtypes"
   ]
  },
  {
   "cell_type": "markdown",
   "id": "54d32f93",
   "metadata": {},
   "source": [
    "#### Validacion de datos"
   ]
  },
  {
   "cell_type": "code",
   "execution_count": 43,
   "id": "1c6a8c6c",
   "metadata": {},
   "outputs": [
    {
     "data": {
      "text/plain": [
       "operation                     0\n",
       "property_type                 0\n",
       "country_name                  0\n",
       "state_name                    0\n",
       "city_name                  4422\n",
       "neighborhood_name         75909\n",
       "geonames_id               18527\n",
       "lat                       48639\n",
       "lon                       48639\n",
       "price_aprox_usd           17882\n",
       "surface_total_in_m2       37437\n",
       "surface_covered_in_m2     18190\n",
       "price_usd_per_m2          26966\n",
       "floor                    108073\n",
       "rooms                     48903\n",
       "expenses                 101758\n",
       "description                   2\n",
       "title                         0\n",
       "dtype: int64"
      ]
     },
     "execution_count": 43,
     "metadata": {},
     "output_type": "execute_result"
    }
   ],
   "source": [
    "data_validation(data)"
   ]
  },
  {
   "cell_type": "markdown",
   "id": "e05503ae",
   "metadata": {},
   "source": [
    "## Obtencion de surface_total_in_m2 con expresiones regulares"
   ]
  },
  {
   "cell_type": "markdown",
   "id": "2a69df3a",
   "metadata": {},
   "source": [
    "##### *Se obtienen la superficie en la que ambas superficies sean nulas y el precio y el precio por metro cuadrado es nulo. De esta manera sabemos que no podemos imputar una superficie con la otra y no podemos inferir la superficie mediante el precio y el precio por metro cuadrado*"
   ]
  },
  {
   "cell_type": "markdown",
   "id": "9dc8815d",
   "metadata": {},
   "source": [
    "### Obtencion de surface_total_in_m2 con expresion regular en *description*"
   ]
  },
  {
   "cell_type": "code",
   "execution_count": 44,
   "id": "763bd9df",
   "metadata": {},
   "outputs": [
    {
     "name": "stdout",
     "output_type": "stream",
     "text": [
      "Cantidad de instancias en las que se va a aplicar la expresion regular=  11627\n"
     ]
    }
   ],
   "source": [
    "# Se obtiene a partir de data una serie que contenga las instancias en las que se va a aplicar la expresion regular\n",
    "surfaces_condition = data.surface_total_in_m2.isnull() & data.surface_covered_in_m2.isnull()\n",
    "price_condition = data.price_aprox_usd.isnull()\n",
    "price_per_m2_condition = data.price_usd_per_m2.isnull()\n",
    "mask_surface_total_in_m2_null = surfaces_condition & (price_condition | price_per_m2_condition)\n",
    "data_surface_total_in_m2_null = data [mask_surface_total_in_m2_null]\n",
    "series_surface_total_in_m2_null_description = data_surface_total_in_m2_null.description\n",
    "\n",
    "print(\"Cantidad de instancias en las que se va a aplicar la expresion regular= \",series_surface_total_in_m2_null_description.shape[0])"
   ]
  },
  {
   "cell_type": "code",
   "execution_count": 45,
   "id": "03146ba7",
   "metadata": {},
   "outputs": [
    {
     "name": "stderr",
     "output_type": "stream",
     "text": [
      "C:\\Users\\gtoso\\AppData\\Local\\Temp\\ipykernel_12880\\786532533.py:3: DeprecationWarning: Flags not at the start of the expression '(?P<surface_total_in' (truncated)\n",
      "  pattern_surface_total_in_m2_regex = re.compile(pattern)\n"
     ]
    }
   ],
   "source": [
    "# logica del patron: Toma un numero de un digito o mas,seguido o no de un espacio o mas y de las letras [m2,mts,metro] no distinguiendo entre mayusculas y minusculas\n",
    "pattern = \"(?P<surface_total_in_m2>\\d+)\\s+(?i)[m2|mts|metro]\"\n",
    "pattern_surface_total_in_m2_regex = re.compile(pattern)"
   ]
  },
  {
   "cell_type": "code",
   "execution_count": 46,
   "id": "6691af34",
   "metadata": {},
   "outputs": [
    {
     "name": "stdout",
     "output_type": "stream",
     "text": [
      "surfaces matcheados= 4176\n"
     ]
    }
   ],
   "source": [
    "# Se aplica una funcion lamda para recorrer la serie series_surface_total_in_m2_null_description aplicando la expresion regular\n",
    "description_surface_total_in_m2_result = series_surface_total_in_m2_null_description.apply(lambda x: pattern_surface_total_in_m2_regex.search(str(x)))\n",
    "\n",
    "# Se extraen los datos que usaremos para la imputación\n",
    "description_surface_total_in_m2_match = description_surface_total_in_m2_result.apply(lambda x: np.nan if x is None else x.group('surface_total_in_m2'))\n",
    "\n",
    "print(\"surfaces matcheados=\",(description_surface_total_in_m2_match.notnull()).sum()) #aca veo que cantidad pudo matchear"
   ]
  },
  {
   "cell_type": "code",
   "execution_count": 47,
   "id": "2b76ce2d",
   "metadata": {},
   "outputs": [],
   "source": [
    "# Se imputa la serie description_surface_total_in_m2_match con su index en data\n",
    "data.loc[description_surface_total_in_m2_match.index, \"surface_total_in_m2\"] = description_surface_total_in_m2_match "
   ]
  },
  {
   "cell_type": "markdown",
   "id": "b7223c0d",
   "metadata": {},
   "source": [
    "### Obtencion de surface_total_in_m2 con expresion regular en *title*"
   ]
  },
  {
   "cell_type": "code",
   "execution_count": 48,
   "id": "0ecc4813",
   "metadata": {},
   "outputs": [
    {
     "name": "stdout",
     "output_type": "stream",
     "text": [
      "Cantidad de instancias en las que se va a aplicar la expresion regular=  11627\n"
     ]
    }
   ],
   "source": [
    "# Se obtiene a partir de data una serie que contenga las instancias en las que se va a aplicar la expresion regular\n",
    "surfaces_condition = data.surface_total_in_m2.isnull() & data.surface_covered_in_m2.isnull()\n",
    "price_condition = data.price_aprox_usd.isnull()\n",
    "price_per_m2_condition = data.price_usd_per_m2.isnull()\n",
    "mask_surface_total_in_m2_null = surfaces_condition & (price_condition | price_per_m2_condition)\n",
    "data_surface_total_in_m2_null = data [mask_surface_total_in_m2_null]\n",
    "series_surface_total_in_m2_null_title = data_surface_total_in_m2_null.title\n",
    "\n",
    "print(\"Cantidad de instancias en las que se va a aplicar la expresion regular= \",series_surface_total_in_m2_null_description.shape[0])"
   ]
  },
  {
   "cell_type": "code",
   "execution_count": 49,
   "id": "894e9038",
   "metadata": {},
   "outputs": [
    {
     "name": "stdout",
     "output_type": "stream",
     "text": [
      "surfaces matcheados=  115\n"
     ]
    }
   ],
   "source": [
    "# Se aplica una funcion lamda para recorrer la serie series_surface_total_in_m2_null_title aplicando la expresion regular\n",
    "title_surface_total_in_m2_result = series_surface_total_in_m2_null_title.apply(lambda x: pattern_surface_total_in_m2_regex.search(str(x)))\n",
    "\n",
    "# Se extraen los datos que usaremos para la imputación\n",
    "title_surface_total_in_m2_match = title_surface_total_in_m2_result.apply(lambda x: np.nan if x is None else x.group('surface_total_in_m2'))\n",
    "\n",
    "print(\"surfaces matcheados= \",(title_surface_total_in_m2_match.notnull()).sum()) #aca veo que cantidad pudo matchear"
   ]
  },
  {
   "cell_type": "code",
   "execution_count": 50,
   "id": "d1312aa1",
   "metadata": {},
   "outputs": [],
   "source": [
    "# Se imputa la serie title_surface_total_in_m2_match con su index en data\n",
    "data.loc[title_surface_total_in_m2_match.index, \"surface_total_in_m2\"] = title_surface_total_in_m2_match "
   ]
  },
  {
   "cell_type": "code",
   "execution_count": 51,
   "id": "b92f0ae4",
   "metadata": {},
   "outputs": [
    {
     "data": {
      "text/plain": [
       "dtype('float64')"
      ]
     },
     "execution_count": 51,
     "metadata": {},
     "output_type": "execute_result"
    }
   ],
   "source": [
    "# Se cambia el tipo de dato de object a float\n",
    "data[\"surface_total_in_m2\"] = data[\"surface_total_in_m2\"].astype(\"float\")\n",
    "data.surface_total_in_m2.dtypes"
   ]
  },
  {
   "cell_type": "markdown",
   "id": "5b64fed5",
   "metadata": {},
   "source": [
    "#### Validacion de datos"
   ]
  },
  {
   "cell_type": "code",
   "execution_count": 52,
   "id": "efa267b8",
   "metadata": {},
   "outputs": [
    {
     "data": {
      "text/plain": [
       "operation                     0\n",
       "property_type                 0\n",
       "country_name                  0\n",
       "state_name                    0\n",
       "city_name                  4422\n",
       "neighborhood_name         75909\n",
       "geonames_id               18527\n",
       "lat                       48639\n",
       "lon                       48639\n",
       "price_aprox_usd           17882\n",
       "surface_total_in_m2       34165\n",
       "surface_covered_in_m2     18190\n",
       "price_usd_per_m2          26966\n",
       "floor                    108073\n",
       "rooms                     48903\n",
       "expenses                 101758\n",
       "description                   2\n",
       "title                         0\n",
       "dtype: int64"
      ]
     },
     "execution_count": 52,
     "metadata": {},
     "output_type": "execute_result"
    }
   ],
   "source": [
    "data_validation(data)"
   ]
  },
  {
   "cell_type": "markdown",
   "id": "8ad1cb1e",
   "metadata": {},
   "source": [
    "#### Validacion de datos## Obtencion de price_aprox_usd mediante expresiones regulares"
   ]
  },
  {
   "cell_type": "markdown",
   "id": "806184f9",
   "metadata": {},
   "source": [
    "##### *Se quiere obtener el price_aprox_usd para las instancias en las que no tenemos price_aprox_usd y tampoco tenemos surface_total_in_m2 y surface_total_in_m2 o no tenemos price_usd_per_m2 y price_per_m2 *"
   ]
  },
  {
   "cell_type": "markdown",
   "id": "c91b62a6",
   "metadata": {},
   "source": [
    "### Obtencion de price con expresion regular en *description*"
   ]
  },
  {
   "cell_type": "code",
   "execution_count": 53,
   "id": "9d57a0be",
   "metadata": {},
   "outputs": [
    {
     "name": "stdout",
     "output_type": "stream",
     "text": [
      "Cantidad de instancias en las que se va a aplicar la expresion regular=  17877\n"
     ]
    }
   ],
   "source": [
    "# Se obtiene a partir de data una serie que contenga las instancias en las que se va a aplicar la expresion regular\n",
    "surface_condition = data.surface_total_in_m2.isnull() & data.surface_covered_in_m2.isnull()\n",
    "price_condition = data.price_aprox_usd.isnull()\n",
    "price_per_m2_condition = data.price_usd_per_m2.isnull()\n",
    "mask_price_null = price_condition & (price_per_m2_condition | surfaces_condition)\n",
    "data_price_null = data [mask_price_null]\n",
    "series_price_null_description = data_price_null.description\n",
    "\n",
    "print(\"Cantidad de instancias en las que se va a aplicar la expresion regular= \",series_price_null_description.shape[0])"
   ]
  },
  {
   "cell_type": "code",
   "execution_count": 54,
   "id": "16a76ef0",
   "metadata": {},
   "outputs": [],
   "source": [
    "# logica del patron: toma la combinacion de letras usd indistintamente de ser mayusculas o minusculas seguido o no de un espacio o mas y seguido de un numero de un numero de un digito o mas\n",
    "pattern = \"(?i)usd\\s{0,1}(?P<price_aprox_usd>\\d+)\"\n",
    "pattern_price_regex = re.compile(pattern)"
   ]
  },
  {
   "cell_type": "code",
   "execution_count": 55,
   "id": "7a1a7ba2",
   "metadata": {},
   "outputs": [
    {
     "name": "stdout",
     "output_type": "stream",
     "text": [
      "price matcheados=  406\n"
     ]
    }
   ],
   "source": [
    "# Se aplica una funcion lamda para recorrer la serie series_surface_total_in_m2_null_description aplicando la expresion regular\n",
    "description_price_result = series_price_null_description.apply(lambda x: pattern_price_regex.search(str(x)))\n",
    "\n",
    "# Se extraen los datos que usaremos para la imputación\n",
    "description_price_match = description_price_result.apply(lambda x: np.nan if x is None else x.group('price_aprox_usd'))\n",
    "\n",
    "print(\"price matcheados= \",(description_price_match.notnull()).sum()) #aca veo que cantidad pudo matchear"
   ]
  },
  {
   "cell_type": "code",
   "execution_count": 56,
   "id": "76dfdce5",
   "metadata": {},
   "outputs": [],
   "source": [
    "# Se imputa la serie description_price_match con su index en data\n",
    "data.loc[description_price_match.index, \"price_aprox_usd\"] = description_price_match "
   ]
  },
  {
   "cell_type": "markdown",
   "id": "62a43324",
   "metadata": {},
   "source": [
    "### Obtencion de price con expresion regular en *title*"
   ]
  },
  {
   "cell_type": "code",
   "execution_count": 57,
   "id": "54ea56ab",
   "metadata": {},
   "outputs": [
    {
     "name": "stdout",
     "output_type": "stream",
     "text": [
      "Cantidad de instancias en las que se va a aplicar la expresion regular=  17877\n"
     ]
    }
   ],
   "source": [
    "# Se obtiene a partir de data una serie que contenga las instancias en las que se va a aplicar la expresion regular\n",
    "surface_condition = data.surface_total_in_m2.isnull() & data.surface_covered_in_m2.isnull()\n",
    "price_condition = data.price_aprox_usd.isnull()\n",
    "price_per_m2_condition = data.price_usd_per_m2.isnull()\n",
    "mask_price_null = price_condition & (price_per_m2_condition | surfaces_condition)\n",
    "data_price_null = data [mask_price_null]\n",
    "series_price_null_title = data_price_null.title\n",
    "\n",
    "print(\"Cantidad de instancias en las que se va a aplicar la expresion regular= \",series_price_null_description.shape[0])"
   ]
  },
  {
   "cell_type": "code",
   "execution_count": 58,
   "id": "2e65d648",
   "metadata": {},
   "outputs": [
    {
     "name": "stdout",
     "output_type": "stream",
     "text": [
      "price matcheados=  1\n"
     ]
    }
   ],
   "source": [
    "# Se aplica una funcion lamda para recorrer la serie series_price_null_title aplicando la expresion regular\n",
    "title_price_result = series_price_null_title.apply(lambda x: pattern_price_regex.search(str(x)))\n",
    "\n",
    "# Se extraen los datos que usaremos para la imputación\n",
    "title_price_match = title_price_result.apply(lambda x: np.nan if x is None else x.group('price_aprox_usd'))\n",
    "\n",
    "print(\"price matcheados= \",(title_price_match.notnull()).sum()) #aca veo que cantidad pudo matchear"
   ]
  },
  {
   "cell_type": "code",
   "execution_count": 59,
   "id": "f6a8b6c0",
   "metadata": {},
   "outputs": [],
   "source": [
    "# Se imputa la serie title_price_match con su index en data\n",
    "data.loc[title_price_match.index, \"price_aprox_usd\"] = title_price_match "
   ]
  },
  {
   "cell_type": "code",
   "execution_count": 60,
   "id": "395bc9a5",
   "metadata": {},
   "outputs": [
    {
     "data": {
      "text/plain": [
       "dtype('float64')"
      ]
     },
     "execution_count": 60,
     "metadata": {},
     "output_type": "execute_result"
    }
   ],
   "source": [
    "# Se cambia el tipo de dato de object a float\n",
    "data[\"price_aprox_usd\"] = data[\"price_aprox_usd\"].astype(\"float\")\n",
    "data.price_aprox_usd.dtypes"
   ]
  },
  {
   "cell_type": "markdown",
   "id": "a806bdf0",
   "metadata": {},
   "source": [
    "#### Validacion de datos"
   ]
  },
  {
   "cell_type": "code",
   "execution_count": 61,
   "id": "c3a3701c",
   "metadata": {},
   "outputs": [
    {
     "data": {
      "text/plain": [
       "operation                     0\n",
       "property_type                 0\n",
       "country_name                  0\n",
       "state_name                    0\n",
       "city_name                  4422\n",
       "neighborhood_name         75909\n",
       "geonames_id               18527\n",
       "lat                       48639\n",
       "lon                       48639\n",
       "price_aprox_usd           17862\n",
       "surface_total_in_m2       34165\n",
       "surface_covered_in_m2     18190\n",
       "price_usd_per_m2          26966\n",
       "floor                    108073\n",
       "rooms                     48903\n",
       "expenses                 101758\n",
       "description                   2\n",
       "title                         0\n",
       "dtype: int64"
      ]
     },
     "execution_count": 61,
     "metadata": {},
     "output_type": "execute_result"
    }
   ],
   "source": [
    "data_validation(data)"
   ]
  },
  {
   "cell_type": "markdown",
   "id": "58857155",
   "metadata": {},
   "source": [
    "## Obtencion de floor mediante expresiones regulares"
   ]
  },
  {
   "cell_type": "markdown",
   "id": "edb8192f",
   "metadata": {},
   "source": [
    "##### *Se quiere obtener el floor para las instancias en las que es nulo*"
   ]
  },
  {
   "cell_type": "markdown",
   "id": "836b88ef",
   "metadata": {},
   "source": [
    "### Obtencion de floor con expresion regular en *description*"
   ]
  },
  {
   "cell_type": "code",
   "execution_count": 62,
   "id": "d663c36d",
   "metadata": {},
   "outputs": [
    {
     "name": "stdout",
     "output_type": "stream",
     "text": [
      "Cantidad de instancias en las que se va a aplicar la expresion regular=  108073\n"
     ]
    }
   ],
   "source": [
    "# Se obtiene a partir de data una serie que contenga las instancias en las que se va a aplicar la expresion regular\n",
    "data_floor_null = data [data.floor.isnull()]\n",
    "series_floor_null_description = data_floor_null.description\n",
    "\n",
    "print(\"Cantidad de instancias en las que se va a aplicar la expresion regular= \",series_floor_null_description.shape[0])"
   ]
  },
  {
   "cell_type": "code",
   "execution_count": 63,
   "id": "93946f79",
   "metadata": {},
   "outputs": [
    {
     "name": "stderr",
     "output_type": "stream",
     "text": [
      "C:\\Users\\gtoso\\AppData\\Local\\Temp\\ipykernel_12880\\2505478835.py:3: DeprecationWarning: Flags not at the start of the expression '(?P<floor>\\\\d+)\\\\s+(?i' (truncated)\n",
      "  pattern_floor_regex = re.compile(pattern)\n"
     ]
    }
   ],
   "source": [
    "# logica del patron: Toma un valor numerico o mas, seguido de un espacio o mas o ninguno, seguido de la palabra piso indistintamente que sean mayusculas o minusculas\n",
    "pattern = \"(?P<floor>\\d+)\\s+(?i)piso\" \n",
    "pattern_floor_regex = re.compile(pattern)"
   ]
  },
  {
   "cell_type": "code",
   "execution_count": 64,
   "id": "61ec1ec0",
   "metadata": {},
   "outputs": [
    {
     "name": "stdout",
     "output_type": "stream",
     "text": [
      "floor matcheados=  6842\n"
     ]
    }
   ],
   "source": [
    "# Se aplica una funcion lamda para recorrer la serie series_floor_null_description aplicando la expresion regular\n",
    "description_floor_result = series_floor_null_description.apply(lambda x: pattern_floor_regex.search(str(x)))\n",
    "\n",
    "# Se extraen los datos que usaremos para la imputación\n",
    "description_floor_match = description_floor_result.apply(lambda x: np.nan if x is None else x.group('floor'))\n",
    "\n",
    "print(\"floor matcheados= \",(description_floor_match.notnull()).sum()) #aca veo que cantidad pudo matchear"
   ]
  },
  {
   "cell_type": "code",
   "execution_count": 65,
   "id": "c21cb34a",
   "metadata": {},
   "outputs": [],
   "source": [
    "# Se imputa la serie description_floor_match con su index en data\n",
    "data.loc[description_floor_match.index, \"floor\"] = description_floor_match "
   ]
  },
  {
   "cell_type": "markdown",
   "id": "bb44b941",
   "metadata": {},
   "source": [
    "### Obtencion de floor con expresion regular en *title*"
   ]
  },
  {
   "cell_type": "code",
   "execution_count": 66,
   "id": "fc1fcac5",
   "metadata": {},
   "outputs": [
    {
     "name": "stdout",
     "output_type": "stream",
     "text": [
      "Cantidad de instancias en las que se va a aplicar la expresion regular=  101231\n"
     ]
    }
   ],
   "source": [
    "# Se obtiene a partir de data una serie que contenga las instancias en las que se va a aplicar la expresion regular\n",
    "data_floor_null = data [data.floor.isnull()]\n",
    "series_floor_null_title = data_floor_null.title\n",
    "\n",
    "print(\"Cantidad de instancias en las que se va a aplicar la expresion regular= \",series_floor_null_title.shape[0])"
   ]
  },
  {
   "cell_type": "code",
   "execution_count": 67,
   "id": "5408a234",
   "metadata": {},
   "outputs": [
    {
     "name": "stdout",
     "output_type": "stream",
     "text": [
      "floor matcheados=  113\n"
     ]
    }
   ],
   "source": [
    "# Se aplica una funcion lamda para recorrer la serie series_floor_null_title aplicando la expresion regular\n",
    "title_floor_result = series_floor_null_title.apply(lambda x: pattern_floor_regex.search(str(x)))\n",
    "\n",
    "# Se extraen los datos que usaremos para la imputación\n",
    "title_floor_match = title_floor_result.apply(lambda x: np.nan if x is None else x.group('floor'))\n",
    "\n",
    "print(\"floor matcheados= \",(title_floor_match.notnull()).sum()) #aca veo que cantidad pudo matchear"
   ]
  },
  {
   "cell_type": "code",
   "execution_count": 68,
   "id": "c9aa4684",
   "metadata": {},
   "outputs": [],
   "source": [
    "# Se imputa la serie title_floor_match con su index en data\n",
    "data.loc[title_floor_match.index, \"floor\"] = title_floor_match "
   ]
  },
  {
   "cell_type": "code",
   "execution_count": 69,
   "id": "d41b56e3",
   "metadata": {},
   "outputs": [
    {
     "data": {
      "text/plain": [
       "dtype('float64')"
      ]
     },
     "execution_count": 69,
     "metadata": {},
     "output_type": "execute_result"
    }
   ],
   "source": [
    "# Se cambia el tipo de dato de object a float\n",
    "data[\"floor\"] = data[\"floor\"].astype(\"float\")\n",
    "data.floor.dtypes"
   ]
  },
  {
   "cell_type": "markdown",
   "id": "816bcfd2",
   "metadata": {},
   "source": [
    "## Obtencion de expenses mediante expresiones regulares"
   ]
  },
  {
   "cell_type": "markdown",
   "id": "4205b92e",
   "metadata": {},
   "source": [
    "##### *Se quiere obtener el expensas para las instancias en las que es nulo"
   ]
  },
  {
   "cell_type": "markdown",
   "id": "ce144555",
   "metadata": {},
   "source": [
    "### Obtencion de expenses con expresion regular en *description*"
   ]
  },
  {
   "cell_type": "code",
   "execution_count": 70,
   "id": "bce4229d",
   "metadata": {},
   "outputs": [
    {
     "name": "stdout",
     "output_type": "stream",
     "text": [
      "Cantidad de instancias en las que se va a aplicar la expresion regular=  101758\n"
     ]
    }
   ],
   "source": [
    "# Se obtiene a partir de data una serie que contenga las instancias en las que se va a aplicar la expresion regular\n",
    "data_expenses_null = data [data.expenses.isnull()]\n",
    "series_expenses_null_description = data_expenses_null.description\n",
    "\n",
    "print(\"Cantidad de instancias en las que se va a aplicar la expresion regular= \",series_expenses_null_description.shape[0])"
   ]
  },
  {
   "cell_type": "code",
   "execution_count": 71,
   "id": "9e204124",
   "metadata": {},
   "outputs": [
    {
     "name": "stderr",
     "output_type": "stream",
     "text": [
      "C:\\Users\\gtoso\\AppData\\Local\\Temp\\ipykernel_12880\\2993959463.py:3: DeprecationWarning: Flags not at the start of the expression '(?P<expenses>\\\\d+)\\\\s+' (truncated)\n",
      "  pattern_expenses_regex = re.compile(pattern)\n"
     ]
    }
   ],
   "source": [
    "# logica del patron: Toma un valor numerico o mas, seguido de un espacio o mas o ninguno, seguido de la palabra exp indistintamente que sean mayusculas o minusculas\n",
    "pattern = \"(?P<expenses>\\d+)\\s+(?i)exp\"\n",
    "pattern_expenses_regex = re.compile(pattern)"
   ]
  },
  {
   "cell_type": "code",
   "execution_count": 72,
   "id": "7097d923",
   "metadata": {},
   "outputs": [
    {
     "name": "stdout",
     "output_type": "stream",
     "text": [
      "expenses matcheados=  153\n"
     ]
    }
   ],
   "source": [
    "# Se aplica una funcion lamda para recorrer la serie series_expenses_null_description aplicando la expresion regular\n",
    "description_expenses_result = series_expenses_null_description.apply(lambda x: pattern_expenses_regex.search(str(x)))\n",
    "\n",
    "# Se extraen los datos que usaremos para la imputación\n",
    "description_expenses_match = description_expenses_result.apply(lambda x: np.nan if x is None else x.group('expenses'))\n",
    "\n",
    "print(\"expenses matcheados= \",(description_expenses_match.notnull()).sum()) #aca veo que cantidad pudo matchear"
   ]
  },
  {
   "cell_type": "code",
   "execution_count": 73,
   "id": "53e18181",
   "metadata": {},
   "outputs": [],
   "source": [
    "# Se imputa la serie description_expenses_match con su index en data\n",
    "data.loc[description_expenses_match.index, \"floor\"] = description_expenses_match "
   ]
  },
  {
   "cell_type": "markdown",
   "id": "b0e540ed",
   "metadata": {},
   "source": [
    "### Obtencion de expenses con expresion regular en *title*"
   ]
  },
  {
   "cell_type": "code",
   "execution_count": 74,
   "id": "aac66a96",
   "metadata": {},
   "outputs": [
    {
     "name": "stdout",
     "output_type": "stream",
     "text": [
      "Cantidad de instancias en las que se va a aplicar la expresion regular=  101758\n"
     ]
    }
   ],
   "source": [
    "# Se obtiene a partir de data una serie que contenga las instancias en las que se va a aplicar la expresion regular\n",
    "data_expenses_null = data [data.expenses.isnull()]\n",
    "series_expenses_null_title = data_expenses_null.title\n",
    "\n",
    "print(\"Cantidad de instancias en las que se va a aplicar la expresion regular= \",series_expenses_null_title.shape[0])"
   ]
  },
  {
   "cell_type": "code",
   "execution_count": 75,
   "id": "01de368c",
   "metadata": {},
   "outputs": [
    {
     "name": "stdout",
     "output_type": "stream",
     "text": [
      "expenses matcheados=  6\n"
     ]
    }
   ],
   "source": [
    "# Se aplica una funcion lamda para recorrer la serie series_expenses_null_title aplicando la expresion regular\n",
    "title_expenses_result = series_expenses_null_title.apply(lambda x: pattern_expenses_regex.search(str(x)))\n",
    "\n",
    "# Se extraen los datos que usaremos para la imputación\n",
    "title_expenses_match = title_expenses_result.apply(lambda x: np.nan if x is None else x.group(\"expenses\"))\n",
    "\n",
    "print(\"expenses matcheados= \",(title_expenses_match.notnull()).sum()) #aca veo que cantidad pudo matchear"
   ]
  },
  {
   "cell_type": "code",
   "execution_count": 76,
   "id": "70c22401",
   "metadata": {},
   "outputs": [],
   "source": [
    "# Se imputa la serie title_expenses_match con su index en data\n",
    "data.loc[title_expenses_match.index, \"expenses\"] = title_expenses_match "
   ]
  },
  {
   "cell_type": "code",
   "execution_count": 77,
   "id": "0dacc5b6",
   "metadata": {},
   "outputs": [
    {
     "data": {
      "text/plain": [
       "dtype('float64')"
      ]
     },
     "execution_count": 77,
     "metadata": {},
     "output_type": "execute_result"
    }
   ],
   "source": [
    "# Se cambia el tipo de dato de object a float\n",
    "data[\"expenses\"] = data[\"expenses\"].astype(\"float\")\n",
    "data.expenses.dtypes"
   ]
  },
  {
   "cell_type": "markdown",
   "id": "025162d3",
   "metadata": {},
   "source": [
    "# Obtencion de datos mediante imputacion directa"
   ]
  },
  {
   "cell_type": "markdown",
   "id": "2b34d36f",
   "metadata": {},
   "source": [
    "## Obtencion de surface_total_in_m2 y surface_covered_in_m2 mediante imputacion directa"
   ]
  },
  {
   "cell_type": "markdown",
   "id": "4017ca84",
   "metadata": {},
   "source": [
    "### Imputacion de surface_total_in_m2 y surface_covered_in_m2"
   ]
  },
  {
   "cell_type": "markdown",
   "id": "9095cda1",
   "metadata": {},
   "source": [
    "#### *Cuando una sea nula y la otra no se imputara en la nula el valor de la no nula*"
   ]
  },
  {
   "cell_type": "code",
   "execution_count": 78,
   "id": "d8e3cdf8",
   "metadata": {},
   "outputs": [
    {
     "name": "stdout",
     "output_type": "stream",
     "text": [
      "Cantidad de instancias de surface_covered_in_m2 a imputar en surface_total_in_m2=  25709\n",
      "Cantidad de instancias de surface_total_in_m2 a imputar en surface_covered_in_m2=  9734\n"
     ]
    }
   ],
   "source": [
    "# Se obtiene un dataframe con los valores no nulos de surface_covered_in_m2 y nulos de surface_total_in_m2\n",
    "mask_surface_total_in_m2_null = data.surface_total_in_m2.isnull() & data.surface_covered_in_m2.notnull()\n",
    "data_surface_total_in_m2_null = data[mask_surface_total_in_m2_null]\n",
    "\n",
    "# Se obtiene un dataframe con los valores nulos de surface_covered_in_m2 y no nulos de surface_total_in_m2\n",
    "mask_surface_covered_in_m2_null =  data.surface_total_in_m2.notnull() & data.surface_covered_in_m2.isnull()\n",
    "data_surface_covered_in_m2_null = data[mask_surface_covered_in_m2_null]\n",
    "\n",
    "\n",
    "print (\"Cantidad de instancias de surface_covered_in_m2 a imputar en surface_total_in_m2= \", data_surface_total_in_m2_null.shape[0])\n",
    "print (\"Cantidad de instancias de surface_total_in_m2 a imputar en surface_covered_in_m2= \", data_surface_covered_in_m2_null.shape[0])"
   ]
  },
  {
   "cell_type": "code",
   "execution_count": 79,
   "id": "c5fa0695",
   "metadata": {},
   "outputs": [],
   "source": [
    "# Imputacion de valores nulos de surface_total_in_m2 con valores no nulos de surface_covered_in_m2\n",
    "data.loc[data_surface_total_in_m2_null.index, \"surface_total_in_m2\"] = data_surface_total_in_m2_null.loc[data_surface_total_in_m2_null.index, \"surface_covered_in_m2\"]\n",
    "\n",
    "# Imputacion de valores nulos de surface_covered_in_m2 con valores no nulos de surface_total_in_m2\n",
    "data.loc[data_surface_covered_in_m2_null.index, \"surface_covered_in_m2\"] = data_surface_covered_in_m2_null.loc[data_surface_covered_in_m2_null.index, \"surface_total_in_m2\"]"
   ]
  },
  {
   "cell_type": "markdown",
   "id": "1589365a",
   "metadata": {},
   "source": [
    "### Obtención de las surface_total_in_m2 y surface_covered_in_m2 nulas en funcion del price_aprox_usd y de price_usd_per_m2"
   ]
  },
  {
   "cell_type": "markdown",
   "id": "c1301c3d",
   "metadata": {},
   "source": [
    "##### El valor de surface_total_in_m2 y surface_covered_in_m2 se obtiene mediante la formula **surface_total_in_m2 = price_aprox_usd / price_usd_per_m2**"
   ]
  },
  {
   "cell_type": "code",
   "execution_count": 80,
   "id": "f2a89565",
   "metadata": {},
   "outputs": [
    {
     "name": "stdout",
     "output_type": "stream",
     "text": [
      "Cantidad de instancias de surface_total_in_m2 a imputar=  101\n"
     ]
    }
   ],
   "source": [
    "# Se obtiene un dataframe con los valores nulos de ambas variables de surfaces, no nulos de price_aprox_usd y no nulos de price_usd_per_m2\n",
    "condition_surfaces_null = data.surface_total_in_m2.isnull() & data.surface_covered_in_m2.isnull()\n",
    "condition_price_notnull = data.price_aprox_usd.notnull()\n",
    "condition_price_per_m2_notnull = data.price_usd_per_m2.notnull()\n",
    "mask_surfaces_imput = condition_surfaces_null & condition_price_notnull & condition_price_per_m2_notnull\n",
    "data_surfaces_imput = data[mask_surfaces_imput]\n",
    "\n",
    "print (\"Cantidad de instancias de surface_total_in_m2 a imputar= \", data_surfaces_imput.shape[0])"
   ]
  },
  {
   "cell_type": "code",
   "execution_count": 81,
   "id": "529bb2ca",
   "metadata": {},
   "outputs": [],
   "source": [
    "# Se imputa el valor de surface_covered_in_m2 y surface_total_in_m2 como surface_total_in_m2 = price_aprox_usd / price_usd_per_m2\n",
    "data.loc[data_surfaces_imput.index,[\"surface_covered_in_m2\" , \"surface_total_in_m2\"]] = data.loc[data_surfaces_imput.index, \"price_aprox_usd\"] / data.loc[data_surfaces_imput.index, \"price_usd_per_m2\"]"
   ]
  },
  {
   "cell_type": "markdown",
   "id": "8e0b291d",
   "metadata": {},
   "source": [
    "### Obtencion de price_aprox_usd mediante imputacion directa en funcion de prices_usd_per_m2 y surface_total_in_m2"
   ]
  },
  {
   "cell_type": "markdown",
   "id": "952ce121",
   "metadata": {},
   "source": [
    "##### El valor de price_aprox_usd se obtiene mediante la formula **price_aprox_usd = price_usd_per_m2 * surface_total_in_m2**"
   ]
  },
  {
   "cell_type": "code",
   "execution_count": 82,
   "id": "89f22625",
   "metadata": {},
   "outputs": [
    {
     "name": "stdout",
     "output_type": "stream",
     "text": [
      "Cantidad de instancias de price_aprox_usd a imputar=  101\n"
     ]
    }
   ],
   "source": [
    "# Se obtiene un dataframe con los valores no nulos de cualquiera de las dos surfaces, nulos de price_aprox_usd y no nulos de price_usd_per_m2\n",
    "condition_surfaces_notnull = data.surface_total_in_m2.notnull() | data.surface_covered_in_m2.notnull()\n",
    "condition_price_null =  data.price_aprox_usd.isnull()\n",
    "condition_price_per_m2_notnull = data.price_usd_per_m2.notnull()\n",
    "mask_prices_imput = condition_surfaces_null & condition_price_notnull & condition_price_per_m2_notnull\n",
    "data_prices_imput = data[mask_prices_imput]\n",
    "\n",
    "print (\"Cantidad de instancias de price_aprox_usd a imputar= \", data_prices_imput.shape[0])"
   ]
  },
  {
   "cell_type": "code",
   "execution_count": 83,
   "id": "8e56e3b5",
   "metadata": {},
   "outputs": [],
   "source": [
    "# Se imputa el valor de price_aprox_usd como price_aprox_usd = price_usd_per_m2 / surface_total_in_m2\n",
    "data.loc[data_prices_imput.index,\"price_aprox_usd\"] = data.loc[data_prices_imput.index, \"price_usd_per_m2\"] * data.loc[data_prices_imput.index, \"surface_total_in_m2\"]"
   ]
  },
  {
   "cell_type": "markdown",
   "id": "58e222ff",
   "metadata": {},
   "source": [
    "### Obtencion de price_usd_per_m2 mediante imputacion directa en funcion de surface y price"
   ]
  },
  {
   "cell_type": "markdown",
   "id": "2c1e9c93",
   "metadata": {},
   "source": [
    "##### El valor de price_usd_per_m2 se obtiene mediante la formula **price_usd_per_m2 = price_aprox_in_usd / surface_total_in_m2**"
   ]
  },
  {
   "cell_type": "code",
   "execution_count": 84,
   "id": "7ce3001f",
   "metadata": {},
   "outputs": [
    {
     "name": "stdout",
     "output_type": "stream",
     "text": [
      "Cantidad de instancias de price_usd_per_m2 a imputar=  3332\n"
     ]
    }
   ],
   "source": [
    "# Se obtiene un dataframe con los valores no nulos de cualquiera de las dos surfaces, no nulos de price_aprox_usd y nulos de price_usd_per_m2\n",
    "condition_surfaces_notnull = data.surface_total_in_m2.notnull() | data.surface_covered_in_m2.notnull()\n",
    "condition_price_notnull = data.price_aprox_usd.notnull()\n",
    "condition_price_per_m2_null = data.price_usd_per_m2.isnull()\n",
    "mask_prices_per_m2_imput = condition_surfaces_notnull & condition_price_notnull & condition_price_per_m2_null\n",
    "data_prices_per_m2_imput = data[mask_prices_per_m2_imput]\n",
    "\n",
    "print (\"Cantidad de instancias de price_usd_per_m2 a imputar= \", data_prices_per_m2_imput.shape[0])"
   ]
  },
  {
   "cell_type": "code",
   "execution_count": 85,
   "id": "034eca07",
   "metadata": {},
   "outputs": [],
   "source": [
    "# Se imputa el valor de price_usd_per_m2 como price_usd_per_m2 = price_aprox_usd / surface_total_in_m2\n",
    "data.loc[data_prices_per_m2_imput.index,\"price_usd_per_m2\"] = data.loc[data_prices_per_m2_imput.index, \"price_aprox_usd\"] / data.loc[data_prices_per_m2_imput.index, \"surface_total_in_m2\"]"
   ]
  },
  {
   "cell_type": "markdown",
   "id": "5f9fa37a",
   "metadata": {},
   "source": [
    "#### Validacion de datos"
   ]
  },
  {
   "cell_type": "code",
   "execution_count": 86,
   "id": "47e5f131",
   "metadata": {},
   "outputs": [
    {
     "data": {
      "text/plain": [
       "operation                     0\n",
       "property_type                 0\n",
       "country_name                  0\n",
       "state_name                    0\n",
       "city_name                  4422\n",
       "neighborhood_name         75909\n",
       "geonames_id               18527\n",
       "lat                       48639\n",
       "lon                       48639\n",
       "price_aprox_usd           17862\n",
       "surface_total_in_m2        8448\n",
       "surface_covered_in_m2      8613\n",
       "price_usd_per_m2          24371\n",
       "floor                    113622\n",
       "rooms                     48903\n",
       "expenses                 101752\n",
       "description                   2\n",
       "title                         0\n",
       "dtype: int64"
      ]
     },
     "execution_count": 86,
     "metadata": {},
     "output_type": "execute_result"
    }
   ],
   "source": [
    "data_validation(data)"
   ]
  },
  {
   "cell_type": "markdown",
   "id": "c9dee2d9",
   "metadata": {},
   "source": [
    "# Creacion de variable rooms/metro2"
   ]
  },
  {
   "cell_type": "code",
   "execution_count": 87,
   "id": "52872843",
   "metadata": {},
   "outputs": [],
   "source": [
    "rooms_per_m2 = data.rooms / data.surface_covered_in_m2\n",
    "data.insert(14,\"rooms_per_m2\",rooms_per_m2)"
   ]
  },
  {
   "cell_type": "markdown",
   "id": "dba287f5",
   "metadata": {},
   "source": [
    "# Deteccion de outliers"
   ]
  },
  {
   "cell_type": "code",
   "execution_count": 88,
   "id": "533c9d6a",
   "metadata": {},
   "outputs": [
    {
     "data": {
      "text/html": [
       "<div>\n",
       "<style scoped>\n",
       "    .dataframe tbody tr th:only-of-type {\n",
       "        vertical-align: middle;\n",
       "    }\n",
       "\n",
       "    .dataframe tbody tr th {\n",
       "        vertical-align: top;\n",
       "    }\n",
       "\n",
       "    .dataframe thead th {\n",
       "        text-align: right;\n",
       "    }\n",
       "</style>\n",
       "<table border=\"1\" class=\"dataframe\">\n",
       "  <thead>\n",
       "    <tr style=\"text-align: right;\">\n",
       "      <th></th>\n",
       "      <th>operation</th>\n",
       "      <th>property_type</th>\n",
       "      <th>country_name</th>\n",
       "      <th>state_name</th>\n",
       "      <th>city_name</th>\n",
       "      <th>neighborhood_name</th>\n",
       "      <th>geonames_id</th>\n",
       "      <th>lat</th>\n",
       "      <th>lon</th>\n",
       "      <th>price_aprox_usd</th>\n",
       "      <th>surface_total_in_m2</th>\n",
       "      <th>surface_covered_in_m2</th>\n",
       "      <th>price_usd_per_m2</th>\n",
       "      <th>floor</th>\n",
       "      <th>rooms_per_m2</th>\n",
       "      <th>rooms</th>\n",
       "      <th>expenses</th>\n",
       "      <th>description</th>\n",
       "      <th>title</th>\n",
       "    </tr>\n",
       "  </thead>\n",
       "  <tbody>\n",
       "  </tbody>\n",
       "</table>\n",
       "</div>"
      ],
      "text/plain": [
       "Empty DataFrame\n",
       "Columns: [operation, property_type, country_name, state_name, city_name, neighborhood_name, geonames_id, lat, lon, price_aprox_usd, surface_total_in_m2, surface_covered_in_m2, price_usd_per_m2, floor, rooms_per_m2, rooms, expenses, description, title]\n",
       "Index: []"
      ]
     },
     "execution_count": 88,
     "metadata": {},
     "output_type": "execute_result"
    }
   ],
   "source": [
    "data_outliers = pd.DataFrame(columns=data.columns)\n",
    "data_outliers"
   ]
  },
  {
   "cell_type": "markdown",
   "id": "7f07e569",
   "metadata": {},
   "source": [
    "## Deteccion de outliers en surface_covered_in_m2"
   ]
  },
  {
   "cell_type": "code",
   "execution_count": 89,
   "id": "d412d5e9",
   "metadata": {},
   "outputs": [],
   "source": [
    "data_aux = data.copy()\n",
    "data_aux = data_aux[data_aux.surface_covered_in_m2.notnull()]"
   ]
  },
  {
   "cell_type": "code",
   "execution_count": 90,
   "id": "bc3ca8d9",
   "metadata": {},
   "outputs": [],
   "source": [
    "# Se crea una serie con los valores de surface_covered_in_m2 y luego se la ordena de menor a mayor\n",
    "data_surface_covered_in_m2 = data_aux.surface_covered_in_m2\n",
    "data_surface_covered_in_m2_sort = np.sort(data_surface_covered_in_m2) "
   ]
  },
  {
   "cell_type": "code",
   "execution_count": 91,
   "id": "caafe31d",
   "metadata": {},
   "outputs": [
    {
     "name": "stdout",
     "output_type": "stream",
     "text": [
      "Q1 25 percentile of the given data_surface_covered_in_m2_sort is,  45.0\n",
      "Q2 50 percentile of the given data_surface_covered_in_m2_sort is,  74.0\n",
      "Q3 75 percentile of the given data_surface_covered_in_m2_sort is,  150.0\n",
      "Interquartile range is 105.0\n"
     ]
    }
   ],
   "source": [
    "Q1 = np.percentile(data_surface_covered_in_m2_sort, 25, interpolation = 'midpoint')  \n",
    "Q2 = np.percentile(data_surface_covered_in_m2_sort, 50, interpolation = 'midpoint')  \n",
    "Q3 = np.percentile(data_surface_covered_in_m2_sort, 75, interpolation = 'midpoint')  \n",
    "  \n",
    "print('Q1 25 percentile of the given data_surface_covered_in_m2_sort is, ', Q1) \n",
    "print('Q2 50 percentile of the given data_surface_covered_in_m2_sort is, ', Q2) \n",
    "print('Q3 75 percentile of the given data_surface_covered_in_m2_sort is, ', Q3) \n",
    "  \n",
    "IQR = Q3 - Q1  \n",
    "print('Interquartile range is', IQR) "
   ]
  },
  {
   "cell_type": "code",
   "execution_count": 92,
   "id": "a8f77213",
   "metadata": {},
   "outputs": [
    {
     "name": "stdout",
     "output_type": "stream",
     "text": [
      "low_limit is -112.5\n",
      "up_limit is 307.5\n"
     ]
    }
   ],
   "source": [
    "low_lim = Q1 - 1.5 * IQR \n",
    "up_lim = Q3 + 1.5 * IQR \n",
    "print('low_limit is', low_lim) \n",
    "print('up_limit is', up_lim) "
   ]
  },
  {
   "cell_type": "markdown",
   "id": "bb8f98ab",
   "metadata": {},
   "source": [
    "##### *El limite inferior se determina por condicion logica de tamaño minimo de departamento*"
   ]
  },
  {
   "cell_type": "code",
   "execution_count": 93,
   "id": "972e8e97",
   "metadata": {},
   "outputs": [],
   "source": [
    "# Eliminacion de instancias en las que surface_covered_in_m2 es menor que 10 mts2\n",
    "data = data[(data.surface_covered_in_m2>10)]"
   ]
  },
  {
   "cell_type": "code",
   "execution_count": 94,
   "id": "35d1a28b",
   "metadata": {},
   "outputs": [
    {
     "name": "stdout",
     "output_type": "stream",
     "text": [
      "La cantidad de outliers detectados es:  7923\n"
     ]
    }
   ],
   "source": [
    "# Se crea una lista donde se van imputando los valores de surface_covered_in_m2 considerados outliers\n",
    "outlier_sup =[] \n",
    "for x in data_surface_covered_in_m2_sort: \n",
    "    if (x> up_lim): \n",
    "         outlier_sup.append(x) \n",
    "print(\"La cantidad de outliers detectados es: \",len(outlier_sup))"
   ]
  },
  {
   "cell_type": "code",
   "execution_count": 95,
   "id": "bfec6a8e",
   "metadata": {},
   "outputs": [],
   "source": [
    "# Se descartan de data los outliers de surface_covered_in_m2\n",
    "mask_surface_covered_in_m2_sup = data.surface_covered_in_m2 < min(outlier_sup)\n",
    "mask_outliers_surface_covered_in_m2_sup = data.surface_covered_in_m2 >= min(outlier_sup)\n",
    "\n",
    "# Se imputan los outliers en data_outliers\n",
    "data_outliers = data[mask_outliers_surface_covered_in_m2_sup]"
   ]
  },
  {
   "cell_type": "markdown",
   "id": "2c888034",
   "metadata": {},
   "source": [
    "## Deteccion de outliers en surface_total_in_m2"
   ]
  },
  {
   "cell_type": "code",
   "execution_count": 96,
   "id": "5f5ac3a4",
   "metadata": {},
   "outputs": [],
   "source": [
    "data_aux = data.copy()\n",
    "data_aux = data_aux[data_aux.surface_total_in_m2.notnull()]"
   ]
  },
  {
   "cell_type": "code",
   "execution_count": 97,
   "id": "f542ebf9",
   "metadata": {},
   "outputs": [],
   "source": [
    "# Se crea una serie con los valores de surface_total_in_m2 y luego se la ordena de menor a mayor\n",
    "data_surface_total_in_m2 = data_aux.surface_total_in_m2\n",
    "data_surface_total_in_m2_sort = np.sort(data_surface_total_in_m2) "
   ]
  },
  {
   "cell_type": "code",
   "execution_count": 98,
   "id": "1e4bac26",
   "metadata": {},
   "outputs": [
    {
     "name": "stdout",
     "output_type": "stream",
     "text": [
      "Q1 25 percentile of the given data_surface_total_in_m2_sort is,  50.0\n",
      "Q2 50 percentile of the given data_surface_total_in_m2_sort is,  83.0\n",
      "Q3 75 percentile of the given data_surface_total_in_m2_sort is,  193.0\n",
      "Interquartile range is 143.0\n"
     ]
    }
   ],
   "source": [
    "Q1 = np.percentile(data_surface_total_in_m2_sort, 25, interpolation = 'midpoint')  \n",
    "Q2 = np.percentile(data_surface_total_in_m2_sort, 50, interpolation = 'midpoint')  \n",
    "Q3 = np.percentile(data_surface_total_in_m2_sort, 75, interpolation = 'midpoint')  \n",
    "  \n",
    "print('Q1 25 percentile of the given data_surface_total_in_m2_sort is, ', Q1) \n",
    "print('Q2 50 percentile of the given data_surface_total_in_m2_sort is, ', Q2) \n",
    "print('Q3 75 percentile of the given data_surface_total_in_m2_sort is, ', Q3) \n",
    "  \n",
    "IQR = Q3 - Q1  \n",
    "print('Interquartile range is', IQR) "
   ]
  },
  {
   "cell_type": "code",
   "execution_count": 99,
   "id": "63dd7c41",
   "metadata": {},
   "outputs": [
    {
     "name": "stdout",
     "output_type": "stream",
     "text": [
      "low_limit is -164.5\n",
      "up_limit is 407.5\n"
     ]
    }
   ],
   "source": [
    "low_lim = Q1 - 1.5 * IQR \n",
    "up_lim = Q3 + 1.5 * IQR \n",
    "print('low_limit is', low_lim) \n",
    "print('up_limit is', up_lim) "
   ]
  },
  {
   "cell_type": "markdown",
   "id": "3e0ab31b",
   "metadata": {},
   "source": [
    "##### *El limite inferior se determina por condicion logica de tamaño minimo de departamento*"
   ]
  },
  {
   "cell_type": "code",
   "execution_count": 100,
   "id": "caa33655",
   "metadata": {},
   "outputs": [],
   "source": [
    "# Eliminacion de instancias en las que surface_total_in_m2 es menor que 10 mts2\n",
    "data = data[data.surface_total_in_m2 > 10]"
   ]
  },
  {
   "cell_type": "code",
   "execution_count": 101,
   "id": "3297116a",
   "metadata": {},
   "outputs": [
    {
     "name": "stdout",
     "output_type": "stream",
     "text": [
      "La cantidad de outliers detectados es:  9564\n"
     ]
    }
   ],
   "source": [
    "# Se crea una lista donde se van imputando los valores de surface_total_in_m2 considerados outliers\n",
    "outlier_sup =[] \n",
    "for x in data_surface_total_in_m2_sort: \n",
    "    if (x> up_lim): \n",
    "         outlier_sup.append(x) \n",
    "print(\"La cantidad de outliers detectados es: \",len(outlier_sup))"
   ]
  },
  {
   "cell_type": "code",
   "execution_count": 102,
   "id": "b8196a72",
   "metadata": {},
   "outputs": [],
   "source": [
    "# Se descartan de data los outliers de surface_total_in_m2\n",
    "mask_surface_total_in_m2_sup = data.surface_total_in_m2 < min(outlier_sup)\n",
    "mask_outliers_surface_total_in_m2_sup = data.surface_total_in_m2 >= min(outlier_sup)\n",
    "\n",
    "# Se imputan los outliers en data_outliers\n",
    "data_outliers = pd.concat([data_outliers,data[mask_outliers_surface_total_in_m2_sup]]) "
   ]
  },
  {
   "cell_type": "markdown",
   "id": "75b3f9fd",
   "metadata": {},
   "source": [
    "## Deteccion de outliers en rooms"
   ]
  },
  {
   "cell_type": "code",
   "execution_count": 103,
   "id": "de827678",
   "metadata": {},
   "outputs": [],
   "source": [
    "# Se genera un dataframe auxiliar con surface_covered_in_m2 y rooms no nulos de forma que el metodo pueda calcular el rango intercuartil\n",
    "data_aux = data.copy()\n",
    "data_aux = data_aux[ (data.rooms.notnull())]"
   ]
  },
  {
   "cell_type": "code",
   "execution_count": 104,
   "id": "d30c0d00",
   "metadata": {},
   "outputs": [
    {
     "data": {
      "text/plain": [
       "0         2.0\n",
       "2         2.0\n",
       "4         2.0\n",
       "12        2.0\n",
       "13        1.0\n",
       "         ... \n",
       "121138    2.0\n",
       "121139    3.0\n",
       "121153    3.0\n",
       "121215    3.0\n",
       "121218    2.0\n",
       "Name: rooms, Length: 62584, dtype: float64"
      ]
     },
     "execution_count": 104,
     "metadata": {},
     "output_type": "execute_result"
    }
   ],
   "source": [
    "series_rooms = data_aux.rooms\n",
    "series_rooms"
   ]
  },
  {
   "cell_type": "code",
   "execution_count": 105,
   "id": "28327a22",
   "metadata": {},
   "outputs": [],
   "source": [
    "series_rooms_sort = np.sort(series_rooms) "
   ]
  },
  {
   "cell_type": "code",
   "execution_count": 106,
   "id": "27023774",
   "metadata": {},
   "outputs": [
    {
     "name": "stdout",
     "output_type": "stream",
     "text": [
      "Q1 25 percentile of the given rooms is,  2.0\n",
      "Q2 50 percentile of the given rooms is,  3.0\n",
      "Q3 75 percentile of the given rooms is,  4.0\n",
      "Interquartile range is 2.0\n"
     ]
    }
   ],
   "source": [
    "Q1 = np.percentile(series_rooms_sort, 25, interpolation = 'midpoint')  \n",
    "Q2 = np.percentile(series_rooms_sort, 50, interpolation = 'midpoint')  \n",
    "Q3 = np.percentile(series_rooms_sort, 75, interpolation = 'midpoint')  \n",
    "  \n",
    "print('Q1 25 percentile of the given rooms is, ', Q1) \n",
    "print('Q2 50 percentile of the given rooms is, ', Q2) \n",
    "print('Q3 75 percentile of the given rooms is, ', Q3) \n",
    "  \n",
    "IQR = Q3 - Q1  \n",
    "print('Interquartile range is', IQR) "
   ]
  },
  {
   "cell_type": "code",
   "execution_count": 107,
   "id": "c4dead0b",
   "metadata": {},
   "outputs": [
    {
     "name": "stdout",
     "output_type": "stream",
     "text": [
      "low_limit is -1.0\n",
      "up_limit is 7.0\n"
     ]
    }
   ],
   "source": [
    "low_lim = Q1 - 1.5 * IQR \n",
    "up_lim = Q3 + 1.5 * IQR \n",
    "print('low_limit is', low_lim) \n",
    "print('up_limit is', up_lim) "
   ]
  },
  {
   "cell_type": "code",
   "execution_count": 108,
   "id": "6f8428ad",
   "metadata": {},
   "outputs": [
    {
     "name": "stdout",
     "output_type": "stream",
     "text": [
      " outlier_sup in the dataset is 986\n",
      " outlier_inf in the dataset is 0\n"
     ]
    },
    {
     "data": {
      "text/plain": [
       "0"
      ]
     },
     "execution_count": 108,
     "metadata": {},
     "output_type": "execute_result"
    }
   ],
   "source": [
    "outlier_sup =[] \n",
    "for x in series_rooms_sort: \n",
    "    if (x> up_lim): \n",
    "         outlier_sup.append(x) \n",
    "print(' outlier_sup in the dataset is', len(outlier_sup))\n",
    "len(outlier_sup)\n",
    "\n",
    "outlier_inf =[] \n",
    "for x in series_rooms_sort: \n",
    "    if (x<low_lim): \n",
    "         outlier_inf.append(x) \n",
    "print(' outlier_inf in the dataset is', len(outlier_inf))\n",
    "len(outlier_inf)"
   ]
  },
  {
   "cell_type": "code",
   "execution_count": 109,
   "id": "6d3f23b5",
   "metadata": {},
   "outputs": [],
   "source": [
    "# Se descartan de data los outliers de surface_total_in_m2\n",
    "mask_rooms = data.rooms < min(outlier_sup) # mascara a aplicar cuando se desechan outliers de data\n",
    "mask_outlier_rooms_sup = data.rooms >= min(outlier_sup)\n",
    "\n",
    "data_outliers = pd.concat([data_outliers,data[mask_outlier_rooms_sup]]) "
   ]
  },
  {
   "cell_type": "markdown",
   "id": "e5a59347",
   "metadata": {},
   "source": [
    "## Deteccion de outliers en rooms_per_m2"
   ]
  },
  {
   "cell_type": "code",
   "execution_count": 110,
   "id": "27d4512a",
   "metadata": {},
   "outputs": [],
   "source": [
    "# Se genera un dataframe auxiliar con surface_covered_in_m2 y rooms no nulos de forma que el metodo pueda calcular el rango intercuartil\n",
    "data_aux = data.copy()\n",
    "data_aux = data_aux[ (data.rooms_per_m2.notnull())]"
   ]
  },
  {
   "cell_type": "code",
   "execution_count": 111,
   "id": "0d70eb2b",
   "metadata": {},
   "outputs": [
    {
     "data": {
      "text/plain": [
       "0         0.050000\n",
       "2         0.036364\n",
       "4         0.057143\n",
       "12        0.055556\n",
       "13        0.033333\n",
       "            ...   \n",
       "121138    0.033333\n",
       "121139    0.081081\n",
       "121153    0.046154\n",
       "121215    0.032258\n",
       "121218    0.041667\n",
       "Name: rooms_per_m2, Length: 62584, dtype: float64"
      ]
     },
     "execution_count": 111,
     "metadata": {},
     "output_type": "execute_result"
    }
   ],
   "source": [
    "series_rooms_surf = data_aux.rooms_per_m2\n",
    "series_rooms_surf"
   ]
  },
  {
   "cell_type": "code",
   "execution_count": 112,
   "id": "aa742480",
   "metadata": {},
   "outputs": [],
   "source": [
    "series_rooms_sort = np.sort(series_rooms_surf) "
   ]
  },
  {
   "cell_type": "code",
   "execution_count": 113,
   "id": "9b872e6e",
   "metadata": {},
   "outputs": [
    {
     "name": "stdout",
     "output_type": "stream",
     "text": [
      "Q1 25 percentile of the given room/m2 is,  0.027450980392156862\n",
      "Q2 50 percentile of the given room/m2 is,  0.03773584905660377\n",
      "Q3 75 percentile of the given room/m2 is,  0.047619047619047616\n",
      "Interquartile range is 0.020168067226890754\n"
     ]
    }
   ],
   "source": [
    "Q1 = np.percentile(series_rooms_sort, 25, interpolation = 'midpoint')  \n",
    "Q2 = np.percentile(series_rooms_sort, 50, interpolation = 'midpoint')  \n",
    "Q3 = np.percentile(series_rooms_sort, 75, interpolation = 'midpoint')  \n",
    "  \n",
    "print('Q1 25 percentile of the given room/m2 is, ', Q1) \n",
    "print('Q2 50 percentile of the given room/m2 is, ', Q2) \n",
    "print('Q3 75 percentile of the given room/m2 is, ', Q3) \n",
    "  \n",
    "IQR = Q3 - Q1  \n",
    "print('Interquartile range is', IQR) "
   ]
  },
  {
   "cell_type": "code",
   "execution_count": 114,
   "id": "12193d18",
   "metadata": {},
   "outputs": [
    {
     "name": "stdout",
     "output_type": "stream",
     "text": [
      "low_limit is -0.0028011204481792687\n",
      "up_limit is 0.07787114845938375\n"
     ]
    }
   ],
   "source": [
    "low_lim = Q1 - 1.5 * IQR \n",
    "up_lim = Q3 + 1.5 * IQR \n",
    "print('low_limit is', low_lim) \n",
    "print('up_limit is', up_lim) "
   ]
  },
  {
   "cell_type": "code",
   "execution_count": 115,
   "id": "e1ad06be",
   "metadata": {},
   "outputs": [
    {
     "name": "stdout",
     "output_type": "stream",
     "text": [
      " outlier_sup in the dataset is 2378\n",
      " outlier_inf in the dataset is 0\n"
     ]
    },
    {
     "data": {
      "text/plain": [
       "0"
      ]
     },
     "execution_count": 115,
     "metadata": {},
     "output_type": "execute_result"
    }
   ],
   "source": [
    "outlier_sup =[] \n",
    "for x in series_rooms_sort: \n",
    "    if (x> up_lim): \n",
    "         outlier_sup.append(x) \n",
    "print(' outlier_sup in the dataset is', len(outlier_sup))\n",
    "len(outlier_sup)\n",
    "\n",
    "outlier_inf =[] \n",
    "for x in series_rooms_sort: \n",
    "    if (x<low_lim): \n",
    "         outlier_inf.append(x) \n",
    "print(' outlier_inf in the dataset is', len(outlier_inf))\n",
    "len(outlier_inf)"
   ]
  },
  {
   "cell_type": "code",
   "execution_count": 116,
   "id": "3b171875",
   "metadata": {},
   "outputs": [],
   "source": [
    "# Se descartan de data los outliers de surface_total_in_m2\n",
    "mask_rooms_surf = data.rooms_per_m2 < min(outlier_sup) # mascara a aplicar cuando se desechan outliers de data\n",
    "mask_outlier_rooms_surf_sup = data.rooms_per_m2 >= min(outlier_sup)\n",
    "\n",
    "data_outliers = pd.concat([data_outliers,data[mask_outlier_rooms_surf_sup]]) "
   ]
  },
  {
   "cell_type": "markdown",
   "id": "e5c89b15",
   "metadata": {},
   "source": [
    "## Deteccion de outliers en price_aprox_usd"
   ]
  },
  {
   "cell_type": "code",
   "execution_count": 117,
   "id": "5fe8b22a",
   "metadata": {},
   "outputs": [],
   "source": [
    "# Se genera un dataframe auxiliar con surface_covered_in_m2 y rooms no nulos de forma que el metodo pueda calcular el rango intercuartil\n",
    "data_aux = data.copy()\n",
    "data_aux = data_aux[(data_aux.price_aprox_usd.notnull())]"
   ]
  },
  {
   "cell_type": "code",
   "execution_count": 118,
   "id": "347e310e",
   "metadata": {},
   "outputs": [
    {
     "data": {
      "text/plain": [
       "0          62000.0\n",
       "2          72000.0\n",
       "4          64000.0\n",
       "6         130000.0\n",
       "7         138000.0\n",
       "            ...   \n",
       "121215    870000.0\n",
       "121216    498000.0\n",
       "121217    131500.0\n",
       "121218     95900.0\n",
       "121219    129000.0\n",
       "Name: price_aprox_usd, Length: 91835, dtype: float64"
      ]
     },
     "execution_count": 118,
     "metadata": {},
     "output_type": "execute_result"
    }
   ],
   "source": [
    "series_price = data_aux.price_aprox_usd\n",
    "series_price"
   ]
  },
  {
   "cell_type": "code",
   "execution_count": 119,
   "id": "0c556afb",
   "metadata": {},
   "outputs": [],
   "source": [
    "series_price_sort = np.sort(series_price) "
   ]
  },
  {
   "cell_type": "code",
   "execution_count": 120,
   "id": "56d13271",
   "metadata": {},
   "outputs": [
    {
     "name": "stdout",
     "output_type": "stream",
     "text": [
      "Q1 25 percentile of the given price_aprox_usd is,  90687.3\n",
      "Q2 50 percentile of the given price_aprox_usd is,  150000.0\n",
      "Q3 75 percentile of the given price_aprox_usd is,  274000.0\n",
      "Interquartile range is 183312.7\n"
     ]
    }
   ],
   "source": [
    "Q1 = np.percentile(series_price_sort, 25, interpolation = 'midpoint')  \n",
    "Q2 = np.percentile(series_price_sort, 50, interpolation = 'midpoint')  \n",
    "Q3 = np.percentile(series_price_sort, 75, interpolation = 'midpoint')  \n",
    "  \n",
    "print('Q1 25 percentile of the given price_aprox_usd is, ', Q1) \n",
    "print('Q2 50 percentile of the given price_aprox_usd is, ', Q2) \n",
    "print('Q3 75 percentile of the given price_aprox_usd is, ', Q3) \n",
    "  \n",
    "IQR = Q3 - Q1  \n",
    "print('Interquartile range is', IQR) "
   ]
  },
  {
   "cell_type": "code",
   "execution_count": 121,
   "id": "09408975",
   "metadata": {},
   "outputs": [
    {
     "name": "stdout",
     "output_type": "stream",
     "text": [
      "low_limit is -184281.75000000006\n",
      "up_limit is 548969.05\n"
     ]
    }
   ],
   "source": [
    "low_lim = Q1 - 1.5 * IQR \n",
    "up_lim = Q3 + 1.5 * IQR \n",
    "print('low_limit is', low_lim) \n",
    "print('up_limit is', up_lim) "
   ]
  },
  {
   "cell_type": "code",
   "execution_count": 122,
   "id": "d4f4453f",
   "metadata": {},
   "outputs": [
    {
     "name": "stdout",
     "output_type": "stream",
     "text": [
      " outlier_sup in the dataset is 7565\n",
      " outlier_inf in the dataset is 0\n"
     ]
    },
    {
     "data": {
      "text/plain": [
       "0"
      ]
     },
     "execution_count": 122,
     "metadata": {},
     "output_type": "execute_result"
    }
   ],
   "source": [
    "outlier_sup =[] \n",
    "for x in series_price: \n",
    "    if (x> up_lim): \n",
    "         outlier_sup.append(x) \n",
    "print(' outlier_sup in the dataset is', len(outlier_sup))\n",
    "len(outlier_sup)\n",
    "\n",
    "outlier_inf =[] \n",
    "for x in series_price: \n",
    "    if (x<low_lim): \n",
    "         outlier_inf.append(x) \n",
    "print(' outlier_inf in the dataset is', len(outlier_inf))\n",
    "len(outlier_inf)"
   ]
  },
  {
   "cell_type": "code",
   "execution_count": 123,
   "id": "9569b0ba",
   "metadata": {},
   "outputs": [],
   "source": [
    "# Se descartan de data los outliers de surface_total_in_m2\n",
    "mask_price_sup = data.price_aprox_usd < min(outlier_sup) # mascara a aplicar cuando se desechan outliers de data\n",
    "mask_outlier_price_sup = data.price_aprox_usd >= min(outlier_sup)\n",
    "\n",
    "data_outliers = pd.concat([data_outliers,data[mask_outlier_price_sup]]) "
   ]
  },
  {
   "cell_type": "markdown",
   "id": "01d9be6d",
   "metadata": {},
   "source": [
    "## Deteccion de outliers en price_usd_per_m2"
   ]
  },
  {
   "cell_type": "code",
   "execution_count": 124,
   "id": "101ac0d4",
   "metadata": {},
   "outputs": [],
   "source": [
    "# Se genera un dataframe auxiliar con surface_covered_in_m2 y rooms no nulos de forma que el metodo pueda calcular el rango intercuartil\n",
    "data_aux = data.copy()\n",
    "data_aux = data_aux[(data_aux.price_usd_per_m2.notnull())]"
   ]
  },
  {
   "cell_type": "code",
   "execution_count": 125,
   "id": "693ae5d6",
   "metadata": {},
   "outputs": [
    {
     "data": {
      "text/plain": [
       "0         1127.272727\n",
       "2         1309.090909\n",
       "4         1828.571429\n",
       "6         1226.415094\n",
       "7         3066.666667\n",
       "             ...     \n",
       "121215    7699.115044\n",
       "121216    1383.333333\n",
       "121217    2858.695652\n",
       "121218    1997.916667\n",
       "121219    1675.324675\n",
       "Name: price_usd_per_m2, Length: 91128, dtype: float64"
      ]
     },
     "execution_count": 125,
     "metadata": {},
     "output_type": "execute_result"
    }
   ],
   "source": [
    "series_price_usd_per_m2 = data_aux.price_usd_per_m2\n",
    "series_price_usd_per_m2"
   ]
  },
  {
   "cell_type": "code",
   "execution_count": 126,
   "id": "61229bba",
   "metadata": {},
   "outputs": [],
   "source": [
    "series_price_usd_per_m2_sort = np.sort(series_price_usd_per_m2) "
   ]
  },
  {
   "cell_type": "code",
   "execution_count": 127,
   "id": "87a0e816",
   "metadata": {},
   "outputs": [
    {
     "name": "stdout",
     "output_type": "stream",
     "text": [
      "Q1 25 percentile of the given price_usd_per_m2 is,  1209.3023255813953\n",
      "Q2 50 percentile of the given price_usd_per_m2 is,  1800.0\n",
      "Q3 75 percentile of the given price_usd_per_m2 is,  2480.0222222222224\n",
      "Interquartile range is 1270.719896640827\n"
     ]
    }
   ],
   "source": [
    "Q1 = np.percentile(series_price_usd_per_m2_sort, 25, interpolation = 'midpoint')  \n",
    "Q2 = np.percentile(series_price_usd_per_m2_sort, 50, interpolation = 'midpoint')  \n",
    "Q3 = np.percentile(series_price_usd_per_m2_sort, 75, interpolation = 'midpoint')  \n",
    "  \n",
    "print('Q1 25 percentile of the given price_usd_per_m2 is, ', Q1) \n",
    "print('Q2 50 percentile of the given price_usd_per_m2 is, ', Q2) \n",
    "print('Q3 75 percentile of the given price_usd_per_m2 is, ', Q3) \n",
    "  \n",
    "IQR = Q3 - Q1  \n",
    "print('Interquartile range is', IQR) "
   ]
  },
  {
   "cell_type": "code",
   "execution_count": 128,
   "id": "5931b740",
   "metadata": {},
   "outputs": [
    {
     "name": "stdout",
     "output_type": "stream",
     "text": [
      "low_limit is -696.7775193798454\n",
      "up_limit is 4386.102067183463\n"
     ]
    }
   ],
   "source": [
    "low_lim = Q1 - 1.5 * IQR \n",
    "up_lim = Q3 + 1.5 * IQR \n",
    "print('low_limit is', low_lim) \n",
    "print('up_limit is', up_lim) "
   ]
  },
  {
   "cell_type": "code",
   "execution_count": 129,
   "id": "72edccde",
   "metadata": {},
   "outputs": [
    {
     "name": "stdout",
     "output_type": "stream",
     "text": [
      " outlier_sup in the dataset is 4613\n",
      " outlier_inf in the dataset is 0\n"
     ]
    },
    {
     "data": {
      "text/plain": [
       "0"
      ]
     },
     "execution_count": 129,
     "metadata": {},
     "output_type": "execute_result"
    }
   ],
   "source": [
    "outlier_sup =[] \n",
    "for x in series_price_usd_per_m2: \n",
    "    if (x> up_lim): \n",
    "         outlier_sup.append(x) \n",
    "print(' outlier_sup in the dataset is', len(outlier_sup))\n",
    "len(outlier_sup)\n",
    "\n",
    "outlier_inf =[] \n",
    "for x in series_price_usd_per_m2: \n",
    "    if (x<low_lim): \n",
    "         outlier_inf.append(x) \n",
    "print(' outlier_inf in the dataset is', len(outlier_inf))\n",
    "len(outlier_inf)"
   ]
  },
  {
   "cell_type": "code",
   "execution_count": 130,
   "id": "6cdc9b6b",
   "metadata": {},
   "outputs": [],
   "source": [
    "# Se descartan de data los outliers de surface_total_in_m2\n",
    "mask_price_m2_surf = data.price_usd_per_m2 < min(outlier_sup) # mascara a aplicar cuando se desechan outliers de data\n",
    "mask_outlier_price_usd_per_m2_sup = data.price_usd_per_m2 >= min(outlier_sup)\n",
    "\n",
    "data_outliers = pd.concat([data_outliers,data[mask_outlier_price_usd_per_m2_sup]]) "
   ]
  },
  {
   "cell_type": "markdown",
   "id": "3c7c0940",
   "metadata": {},
   "source": [
    "## Descartado de outliers"
   ]
  },
  {
   "cell_type": "code",
   "execution_count": 131,
   "id": "2650bc26",
   "metadata": {},
   "outputs": [],
   "source": [
    "data = data[mask_surface_covered_in_m2_sup & mask_surface_total_in_m2_sup & mask_rooms & mask_rooms_surf & mask_price_sup & mask_price_m2_surf]"
   ]
  },
  {
   "cell_type": "markdown",
   "id": "5f1d0997",
   "metadata": {},
   "source": [
    "# Imputacion por medias condicionadas"
   ]
  },
  {
   "cell_type": "markdown",
   "id": "3f513fc0",
   "metadata": {},
   "source": [
    "## Obtencion de latitud, longitud por media condicionada"
   ]
  },
  {
   "cell_type": "markdown",
   "id": "9774bbf0",
   "metadata": {},
   "source": [
    "##### *Se van a realizar tres groupby por cada variable, ya que hay instancias en las que la variable neighborhood_name y otras en las que city_name tambien es nula. Realizandolo de esta forma se obtiene la maxima precision posible* "
   ]
  },
  {
   "cell_type": "code",
   "execution_count": 132,
   "id": "bf439d44",
   "metadata": {},
   "outputs": [],
   "source": [
    "# Se obtienen tres dataframe con las instancias con las que se van a realizar los groupby\n",
    "data_city_neig_groupby = data[ data.city_name.notnull() & data.neighborhood_name.notnull()]\n",
    "data_city_groupby = data[ data.city_name.notnull() & data.neighborhood_name.isnull()]\n",
    "data_groupby = data[data.city_name.isnull() & data.neighborhood_name.isnull()]"
   ]
  },
  {
   "cell_type": "code",
   "execution_count": 133,
   "id": "af35212a",
   "metadata": {},
   "outputs": [
    {
     "name": "stderr",
     "output_type": "stream",
     "text": [
      "C:\\Users\\gtoso\\AppData\\Local\\Temp\\ipykernel_12880\\3561664568.py:3: SettingWithCopyWarning: \n",
      "A value is trying to be set on a copy of a slice from a DataFrame.\n",
      "Try using .loc[row_indexer,col_indexer] = value instead\n",
      "\n",
      "See the caveats in the documentation: https://pandas.pydata.org/pandas-docs/stable/user_guide/indexing.html#returning-a-view-versus-a-copy\n",
      "  data_city_neig_groupby['lat'] = data_city_neig_groupby.groupby([\"state_name\" , \"city_name\" , \"neighborhood_name\"], sort=False)[\"lat\"].apply(lambda x: x.fillna(x.mean()))\n",
      "C:\\Users\\gtoso\\AppData\\Local\\Temp\\ipykernel_12880\\3561664568.py:4: SettingWithCopyWarning: \n",
      "A value is trying to be set on a copy of a slice from a DataFrame.\n",
      "Try using .loc[row_indexer,col_indexer] = value instead\n",
      "\n",
      "See the caveats in the documentation: https://pandas.pydata.org/pandas-docs/stable/user_guide/indexing.html#returning-a-view-versus-a-copy\n",
      "  data_city_groupby['lat'] = data_city_groupby.groupby([\"state_name\" , \"city_name\"], sort=False)[\"lat\"].apply(lambda x: x.fillna(x.mean()))\n",
      "C:\\Users\\gtoso\\AppData\\Local\\Temp\\ipykernel_12880\\3561664568.py:5: SettingWithCopyWarning: \n",
      "A value is trying to be set on a copy of a slice from a DataFrame.\n",
      "Try using .loc[row_indexer,col_indexer] = value instead\n",
      "\n",
      "See the caveats in the documentation: https://pandas.pydata.org/pandas-docs/stable/user_guide/indexing.html#returning-a-view-versus-a-copy\n",
      "  data_groupby['lat'] = data_groupby.groupby([\"state_name\"], sort=False)[\"lat\"].apply(lambda x: x.fillna(x.mean()))\n",
      "C:\\Users\\gtoso\\AppData\\Local\\Temp\\ipykernel_12880\\3561664568.py:9: SettingWithCopyWarning: \n",
      "A value is trying to be set on a copy of a slice from a DataFrame.\n",
      "Try using .loc[row_indexer,col_indexer] = value instead\n",
      "\n",
      "See the caveats in the documentation: https://pandas.pydata.org/pandas-docs/stable/user_guide/indexing.html#returning-a-view-versus-a-copy\n",
      "  data_city_neig_groupby['lon'] = data_city_neig_groupby.groupby([\"state_name\" , \"city_name\" , \"neighborhood_name\"], sort=False)[\"lon\"].apply(lambda x: x.fillna(x.mean()))\n",
      "C:\\Users\\gtoso\\AppData\\Local\\Temp\\ipykernel_12880\\3561664568.py:10: SettingWithCopyWarning: \n",
      "A value is trying to be set on a copy of a slice from a DataFrame.\n",
      "Try using .loc[row_indexer,col_indexer] = value instead\n",
      "\n",
      "See the caveats in the documentation: https://pandas.pydata.org/pandas-docs/stable/user_guide/indexing.html#returning-a-view-versus-a-copy\n",
      "  data_city_groupby['lon'] = data_city_groupby.groupby([\"state_name\" , \"city_name\"], sort=False)[\"lon\"].apply(lambda x: x.fillna(x.mean()))\n",
      "C:\\Users\\gtoso\\AppData\\Local\\Temp\\ipykernel_12880\\3561664568.py:11: SettingWithCopyWarning: \n",
      "A value is trying to be set on a copy of a slice from a DataFrame.\n",
      "Try using .loc[row_indexer,col_indexer] = value instead\n",
      "\n",
      "See the caveats in the documentation: https://pandas.pydata.org/pandas-docs/stable/user_guide/indexing.html#returning-a-view-versus-a-copy\n",
      "  data_groupby['lon'] = data_groupby.groupby([\"state_name\"], sort=False)[\"lon\"].apply(lambda x: x.fillna(x.mean()))\n"
     ]
    }
   ],
   "source": [
    "# Se realizan los tres groupby para obtener la media lat en funcion de state_name , city_name y neighborhood_name (segun sea el caso)...\n",
    "# ... imputandolo en los nulos de lat de los dataframes data_city_neig_groupby, data_city_groupby, data_groupby, segun corresponda \n",
    "data_city_neig_groupby['lat'] = data_city_neig_groupby.groupby([\"state_name\" , \"city_name\" , \"neighborhood_name\"], sort=False)[\"lat\"].apply(lambda x: x.fillna(x.mean()))\n",
    "data_city_groupby['lat'] = data_city_groupby.groupby([\"state_name\" , \"city_name\"], sort=False)[\"lat\"].apply(lambda x: x.fillna(x.mean()))\n",
    "data_groupby['lat'] = data_groupby.groupby([\"state_name\"], sort=False)[\"lat\"].apply(lambda x: x.fillna(x.mean()))\n",
    "\n",
    "# Se realizan los tres groupby para obtener la media lon en funcion de state_name , city_name y neighborhood_name (segun sea el caso)...\n",
    "# ... imputandolo en los nulos de lon de los dataframes data_city_neig_groupby, data_city_groupby, data_groupby, segun corresponda \n",
    "data_city_neig_groupby['lon'] = data_city_neig_groupby.groupby([\"state_name\" , \"city_name\" , \"neighborhood_name\"], sort=False)[\"lon\"].apply(lambda x: x.fillna(x.mean()))\n",
    "data_city_groupby['lon'] = data_city_groupby.groupby([\"state_name\" , \"city_name\"], sort=False)[\"lon\"].apply(lambda x: x.fillna(x.mean()))\n",
    "data_groupby['lon'] = data_groupby.groupby([\"state_name\"], sort=False)[\"lon\"].apply(lambda x: x.fillna(x.mean()))"
   ]
  },
  {
   "cell_type": "code",
   "execution_count": 134,
   "id": "fb1b4a7e",
   "metadata": {},
   "outputs": [],
   "source": [
    "# Imputacion en data de lat de los dataframe data_city_neig_groupby, data_city_groupby, data_groupby\n",
    "data.loc[data_city_neig_groupby.index,\"lat\"] = data_city_neig_groupby.loc[data_city_neig_groupby.index,\"lat\"]\n",
    "data.loc[data_city_groupby.index,\"lat\"] = data_city_groupby.loc[data_city_groupby.index,\"lat\"]\n",
    "data.loc[data_groupby.index,\"lat\"] = data_groupby.loc[data_groupby.index,\"lat\"]\n",
    "\n",
    "# Imputacion en data de lon de los dataframe data_city_neig_groupby, data_city_groupby, data_groupby\n",
    "data.loc[data_city_neig_groupby.index,\"lon\"] = data_city_neig_groupby.loc[data_city_neig_groupby.index,\"lon\"]\n",
    "data.loc[data_city_groupby.index,\"lon\"] = data_city_groupby.loc[data_city_groupby.index,\"lon\"]\n",
    "data.loc[data_groupby.index,\"lon\"] = data_groupby.loc[data_groupby.index,\"lon\"]"
   ]
  },
  {
   "cell_type": "markdown",
   "id": "fade7099",
   "metadata": {},
   "source": [
    "#### *Se creara un nuevo dataframe vacio, para imputar los valores obtenidos por media condicionada, de forma que data sera una dataframe con datos unicamente obtenidos por imputacion directa o por expresiones regulares*"
   ]
  },
  {
   "cell_type": "code",
   "execution_count": 135,
   "id": "b4dadf70",
   "metadata": {},
   "outputs": [],
   "source": [
    "data_clean = data[data.surface_covered_in_m2.notnull() & data.surface_total_in_m2.notnull() & data.rooms.notnull() & data.price_aprox_usd.notnull() & data.price_usd_per_m2.notnull()]"
   ]
  },
  {
   "cell_type": "markdown",
   "id": "783d2a32",
   "metadata": {},
   "source": [
    "## Obtencion de surface_covered_in_m2 y surface_total-in_m2 por medias condicionadas en funcion de las rooms, del state_name y del property_type"
   ]
  },
  {
   "cell_type": "code",
   "execution_count": 136,
   "id": "5441f361",
   "metadata": {},
   "outputs": [
    {
     "name": "stdout",
     "output_type": "stream",
     "text": [
      "Cantidad de instancias con las que se va a hacer el groupby=  46285\n",
      "Cantiedad de nulos en surface_covered_in_m2 (en data_surfaces_imput) =  0\n",
      "Cantiedad de nulos en surface_total_in_m2 (en data_surfaces_imput)=  0\n"
     ]
    }
   ],
   "source": [
    "#Obtengo un dataframe con las instancias que tengan las rooms no nulos, state_name no nulo y property_type no nulo\n",
    "data_surfaces_imput = data[data.rooms.notnull() & data.state_name.notnull() & data.property_type.notnull()]\n",
    "\n",
    "print(\"Cantidad de instancias con las que se va a hacer el groupby= \", data_surfaces_imput.shape[0])\n",
    "print(\"Cantiedad de nulos en surface_covered_in_m2 (en data_surfaces_imput) = \", data_surfaces_imput.surface_covered_in_m2.isnull().sum())\n",
    "print(\"Cantiedad de nulos en surface_total_in_m2 (en data_surfaces_imput)= \", data_surfaces_imput.surface_total_in_m2.isnull().sum())"
   ]
  },
  {
   "cell_type": "code",
   "execution_count": 137,
   "id": "69dcf1c4",
   "metadata": {},
   "outputs": [
    {
     "data": {
      "text/plain": [
       "property_type  state_name                    rooms\n",
       "PH             Capital Federal               2.0       51.242678\n",
       "apartment      Capital Federal               2.0       46.505190\n",
       "               Buenos Aires Costa Atlántica  2.0       47.465338\n",
       "               Bs.As. G.B.A. Zona Norte      2.0       51.917984\n",
       "               Capital Federal               1.0       35.172168\n",
       "                                                         ...    \n",
       "store          Bs.As. G.B.A. Zona Norte      4.0       94.666667\n",
       "               Córdoba                       2.0      102.000000\n",
       "                                             4.0       85.000000\n",
       "                                             3.0      125.000000\n",
       "PH             Buenos Aires Interior         6.0      170.000000\n",
       "Name: surface_covered_in_m2, Length: 185, dtype: float64"
      ]
     },
     "execution_count": 137,
     "metadata": {},
     "output_type": "execute_result"
    }
   ],
   "source": [
    "# Se realiza un groupby para obtener la media de surface_covered_in_m2 en funcion de property_type , state_name y rooms\n",
    "data_surfaces_imput_groupby = data_surfaces_imput.groupby(by = [\"property_type\" , \"state_name\" ,\"rooms\"], sort=False)[\"surface_covered_in_m2\"].mean()\n",
    "data_surfaces_imput_groupby"
   ]
  },
  {
   "cell_type": "code",
   "execution_count": 138,
   "id": "82d325f2",
   "metadata": {},
   "outputs": [
    {
     "name": "stdout",
     "output_type": "stream",
     "text": [
      "Cantiedad de nulos en surface_covered_in_m2 (en data_surfaces_imput) =  0\n"
     ]
    }
   ],
   "source": [
    "# Se realiza un groupby para obtener la media de surface_covered_in_m2 en funcion de property_type , state_name y rooms, imputandolo en los nulos de surface_covered_in_m2 del dataframe data_surfaces_imput\n",
    "data_surfaces_imput[\"surface_covered_in_m2\"] = data_surfaces_imput.groupby([\"property_type\" , \"state_name\" ,\"rooms\"], sort=False)[\"surface_covered_in_m2\"].apply(lambda x: x.fillna(x.mean()))\n",
    "print(\"Cantiedad de nulos en surface_covered_in_m2 (en data_surfaces_imput) = \", data_surfaces_imput.surface_covered_in_m2.isnull().sum())"
   ]
  },
  {
   "cell_type": "markdown",
   "id": "e8308bb3",
   "metadata": {},
   "source": [
    "## Obtencion de rooms por medias condicionadas en funcion de la surface_covered_in_m2 y del state_name"
   ]
  },
  {
   "cell_type": "markdown",
   "id": "69ff4214",
   "metadata": {},
   "source": [
    "##### Primero se discretiza la variable surface_covered_in_m2 en cuatro categorias"
   ]
  },
  {
   "cell_type": "code",
   "execution_count": 139,
   "id": "3cfc17c3",
   "metadata": {},
   "outputs": [],
   "source": [
    "# Con qcut se discretiza la columa surface_covered_in_m2, creando una serie\n",
    "serie_surfaces_category = pd.qcut(data.surface_covered_in_m2, 4,labels = [\"chico\",\"mediano\",\"grande\",\"muy_grande\"])"
   ]
  },
  {
   "cell_type": "code",
   "execution_count": 140,
   "id": "7c8e3abb",
   "metadata": {},
   "outputs": [],
   "source": [
    "# Se crea un dataframe auxiliar y se le inserta la serie serie_surfaces_category\n",
    "data_aux = data.copy()\n",
    "data_aux.insert(12,\"surface_category\",serie_surfaces_category)"
   ]
  },
  {
   "cell_type": "code",
   "execution_count": 141,
   "id": "fb8e834e",
   "metadata": {},
   "outputs": [
    {
     "name": "stdout",
     "output_type": "stream",
     "text": [
      "Cantidad de instancias con las que se va a hacer el groupby=  46285\n",
      "Cantidad de nulos en rooms (en data_rooms_imput)=  0\n"
     ]
    }
   ],
   "source": [
    "# Se obtiene un dataframe con las instancias donde surface_category sea no nulo, state_name no nulo y property_type no nulo\n",
    "data_rooms_imput = data_aux[data_aux.surface_category.notnull() & data_aux.state_name.notnull() & data_aux.property_type.notnull()]\n",
    "\n",
    "print(\"Cantidad de instancias con las que se va a hacer el groupby= \", data_rooms_imput.shape[0])\n",
    "print(\"Cantidad de nulos en rooms (en data_rooms_imput)= \", data_rooms_imput.rooms.isnull().sum())"
   ]
  },
  {
   "cell_type": "code",
   "execution_count": 142,
   "id": "8996aa09",
   "metadata": {},
   "outputs": [
    {
     "data": {
      "text/plain": [
       "property_type  state_name                surface_category\n",
       "PH             Bs.As. G.B.A. Zona Norte  chico               2.076923\n",
       "                                         mediano             2.663866\n",
       "                                         grande              3.150862\n",
       "                                         muy_grande          3.804348\n",
       "               Bs.As. G.B.A. Zona Oeste  chico               2.000000\n",
       "                                                               ...   \n",
       "store          Córdoba                   muy_grande          2.000000\n",
       "               Santa Fe                  chico                    NaN\n",
       "                                         mediano                  NaN\n",
       "                                         grande                   NaN\n",
       "                                         muy_grande               NaN\n",
       "Name: rooms, Length: 128, dtype: float64"
      ]
     },
     "execution_count": 142,
     "metadata": {},
     "output_type": "execute_result"
    }
   ],
   "source": [
    "# Se realiza un groupby para obtener la media de rooms en funcion de property_type , state_name y surface_category\n",
    "data_rooms_imput_groupby = data_rooms_imput.groupby(by = [\"property_type\" , \"state_name\" , \"surface_category\" ], sort=False)[\"rooms\"].mean()\n",
    "data_rooms_imput_groupby"
   ]
  },
  {
   "cell_type": "code",
   "execution_count": 143,
   "id": "ebf39e94",
   "metadata": {},
   "outputs": [
    {
     "name": "stdout",
     "output_type": "stream",
     "text": [
      "Cantiedad de nulos en rooms (en data_rooms_imput) =  0\n"
     ]
    }
   ],
   "source": [
    "# Se realiza un groupby para obtener la media de rooms en funcion de property_type , state_name y surface_category, imputandolo en los nulos de rooms del dataframe data_rooms_imput\n",
    "data_rooms_imput['rooms'] = data_rooms_imput.groupby([\"property_type\" , \"state_name\" , \"surface_category\"], sort=False)[\"rooms\"].apply(lambda x: x.fillna(x.mean()))\n",
    "print(\"Cantiedad de nulos en rooms (en data_rooms_imput) = \", data_surfaces_imput.surface_covered_in_m2.isnull().sum())"
   ]
  },
  {
   "cell_type": "markdown",
   "id": "ba3a3f01",
   "metadata": {},
   "source": [
    "### Imputacion en data de rooms y surface_covered_in_m2 provenientes de los dataframe data_rooms_imput y data_surfaces_imput"
   ]
  },
  {
   "cell_type": "code",
   "execution_count": 144,
   "id": "75a42cc2",
   "metadata": {},
   "outputs": [
    {
     "data": {
      "text/plain": [
       "operation                    0\n",
       "property_type                0\n",
       "country_name                 0\n",
       "state_name                   0\n",
       "city_name                  404\n",
       "neighborhood_name        29946\n",
       "geonames_id               7612\n",
       "lat                        129\n",
       "lon                        129\n",
       "price_aprox_usd              0\n",
       "surface_total_in_m2          0\n",
       "surface_covered_in_m2        0\n",
       "price_usd_per_m2             0\n",
       "floor                    44823\n",
       "rooms_per_m2                 0\n",
       "rooms                        0\n",
       "expenses                 40088\n",
       "description                  0\n",
       "title                        0\n",
       "dtype: int64"
      ]
     },
     "execution_count": 144,
     "metadata": {},
     "output_type": "execute_result"
    }
   ],
   "source": [
    "# Imputacion en data de rooms y surface_covered_in_m2 de los dataframe data_rooms_imput y data_surfaces_imput\n",
    "data.loc[data_rooms_imput.index,\"rooms\"] = data_rooms_imput.loc[data_rooms_imput.index,\"rooms\"]\n",
    "data.loc[data_surfaces_imput.index,[\"surface_covered_in_m2\",\"surface_total_in_m2\"]] = data_surfaces_imput.loc[data_surfaces_imput.index,\"surface_covered_in_m2\"]\n",
    "data.isnull().sum()"
   ]
  },
  {
   "cell_type": "markdown",
   "id": "63faafdc",
   "metadata": {},
   "source": [
    "### Obtencion de price_aprox_usd mediante imputacion directa en funcion de prices_usd_per_m2 y surface_total_in_m2"
   ]
  },
  {
   "cell_type": "markdown",
   "id": "deb3a51a",
   "metadata": {},
   "source": [
    "##### El valor de price_aprox_usd se obtiene mediante la formula **price_aprox_usd = price_usd_per_m2 * surface_total_in_m2**"
   ]
  },
  {
   "cell_type": "code",
   "execution_count": 145,
   "id": "c1856286",
   "metadata": {},
   "outputs": [
    {
     "name": "stdout",
     "output_type": "stream",
     "text": [
      "Cantidad de instancias de price_aprox_usd a imputar=  0\n"
     ]
    },
    {
     "name": "stderr",
     "output_type": "stream",
     "text": [
      "C:\\Users\\gtoso\\AppData\\Local\\Temp\\ipykernel_12880\\3032786079.py:6: UserWarning: Boolean Series key will be reindexed to match DataFrame index.\n",
      "  data_prices_imput = data[mask_prices_imput]\n"
     ]
    }
   ],
   "source": [
    "# Se obtiene un dataframe con los valores no nulos de cualquiera de las dos surfaces, nulos de price_aprox_usd y no nulos de price_usd_per_m2\n",
    "condition_surfaces_notnull = data.surface_total_in_m2.notnull() | data.surface_covered_in_m2.notnull()\n",
    "condition_price_null =  data.price_aprox_usd.isnull()\n",
    "condition_price_per_m2_notnull = data.price_usd_per_m2.notnull()\n",
    "mask_prices_imput = condition_surfaces_null & condition_price_notnull & condition_price_per_m2_notnull\n",
    "data_prices_imput = data[mask_prices_imput]\n",
    "\n",
    "print (\"Cantidad de instancias de price_aprox_usd a imputar= \", data_prices_imput.shape[0])"
   ]
  },
  {
   "cell_type": "code",
   "execution_count": 146,
   "id": "0fbbb119",
   "metadata": {},
   "outputs": [],
   "source": [
    "# Se imputa el valor de price_aprox_usd como price_aprox_usd = price_usd_per_m2 / surface_total_in_m2\n",
    "data.loc[data_prices_imput.index,\"price_aprox_usd\"] = data.loc[data_prices_imput.index, \"price_usd_per_m2\"] * data.loc[data_prices_imput.index, \"surface_total_in_m2\"]"
   ]
  },
  {
   "cell_type": "markdown",
   "id": "02b0e9fa",
   "metadata": {},
   "source": [
    "### Obtencion de price_usd_per_m2 mediante imputacion directa en funcion de surface y price"
   ]
  },
  {
   "cell_type": "markdown",
   "id": "2793166c",
   "metadata": {},
   "source": [
    "##### El valor de price_usd_per_m2 se obtiene mediante la formula **price_usd_per_m2 = price_aprox_in_usd / surface_total_in_m2**"
   ]
  },
  {
   "cell_type": "code",
   "execution_count": 147,
   "id": "1f440daa",
   "metadata": {},
   "outputs": [
    {
     "name": "stdout",
     "output_type": "stream",
     "text": [
      "Cantidad de instancias de price_usd_per_m2 a imputar=  0\n"
     ]
    }
   ],
   "source": [
    "# Se obtiene un dataframe con los valores no nulos de cualquiera de las dos surfaces, no nulos de price_aprox_usd y nulos de price_usd_per_m2\n",
    "condition_surfaces_notnull = data.surface_total_in_m2.notnull() | data.surface_covered_in_m2.notnull()\n",
    "condition_price_notnull = data.price_aprox_usd.notnull()\n",
    "condition_price_per_m2_null = data.price_usd_per_m2.isnull()\n",
    "mask_prices_per_m2_imput = condition_surfaces_notnull & condition_price_notnull & condition_price_per_m2_null\n",
    "data_prices_per_m2_imput = data[mask_prices_per_m2_imput]\n",
    "\n",
    "print (\"Cantidad de instancias de price_usd_per_m2 a imputar= \", data_prices_per_m2_imput.shape[0])"
   ]
  },
  {
   "cell_type": "code",
   "execution_count": 148,
   "id": "58193a5f",
   "metadata": {},
   "outputs": [],
   "source": [
    "# Se imputa el valor de price_usd_per_m2 como price_usd_per_m2 = price_aprox_usd / surface_total_in_m2\n",
    "data.loc[data_prices_per_m2_imput.index,\"price_usd_per_m2\"] = data.loc[data_prices_per_m2_imput.index, \"price_aprox_usd\"] / data.loc[data_prices_per_m2_imput.index, \"surface_total_in_m2\"]"
   ]
  },
  {
   "cell_type": "markdown",
   "id": "f2507f18",
   "metadata": {},
   "source": [
    "### Obtencion de rooms_per_m2 en funcion de rooms y surface_covered_in_m2"
   ]
  },
  {
   "cell_type": "code",
   "execution_count": 149,
   "id": "578fc933",
   "metadata": {},
   "outputs": [],
   "source": [
    "#Se obtiene un dataframe con los valores no nulos de surface_covereD_in_m2, no nulos de rooms y nulos de rooms_per_m2\n",
    "data_rooms_per_m2 = data[data.rooms.notnull() & data.surface_covered_in_m2.notnull() & data.rooms_per_m2.isnull()]\n",
    "\n",
    "data.loc[data_rooms_per_m2.index,\"rooms_per_m2\"] = data.loc[data_rooms_per_m2.index,\"rooms\"] / data.loc[data_rooms_per_m2.index,\"surface_covered_in_m2\"]"
   ]
  },
  {
   "cell_type": "markdown",
   "id": "7feb6ce1",
   "metadata": {},
   "source": [
    "#### Validacion de datos"
   ]
  },
  {
   "cell_type": "code",
   "execution_count": 150,
   "id": "ab2d3234",
   "metadata": {},
   "outputs": [
    {
     "data": {
      "text/plain": [
       "operation                    0\n",
       "property_type                0\n",
       "country_name                 0\n",
       "state_name                   0\n",
       "city_name                  404\n",
       "neighborhood_name        29946\n",
       "geonames_id               7612\n",
       "lat                        129\n",
       "lon                        129\n",
       "price_aprox_usd              0\n",
       "surface_total_in_m2          0\n",
       "surface_covered_in_m2        0\n",
       "price_usd_per_m2             0\n",
       "floor                    44823\n",
       "rooms_per_m2                 0\n",
       "rooms                        0\n",
       "expenses                 40088\n",
       "description                  0\n",
       "title                        0\n",
       "dtype: int64"
      ]
     },
     "execution_count": 150,
     "metadata": {},
     "output_type": "execute_result"
    }
   ],
   "source": [
    "data_validation(data)"
   ]
  },
  {
   "cell_type": "code",
   "execution_count": 151,
   "id": "d0628c26",
   "metadata": {},
   "outputs": [
    {
     "data": {
      "text/html": [
       "<div>\n",
       "<style scoped>\n",
       "    .dataframe tbody tr th:only-of-type {\n",
       "        vertical-align: middle;\n",
       "    }\n",
       "\n",
       "    .dataframe tbody tr th {\n",
       "        vertical-align: top;\n",
       "    }\n",
       "\n",
       "    .dataframe thead th {\n",
       "        text-align: right;\n",
       "    }\n",
       "</style>\n",
       "<table border=\"1\" class=\"dataframe\">\n",
       "  <thead>\n",
       "    <tr style=\"text-align: right;\">\n",
       "      <th></th>\n",
       "      <th>operation</th>\n",
       "      <th>property_type</th>\n",
       "      <th>country_name</th>\n",
       "      <th>state_name</th>\n",
       "      <th>city_name</th>\n",
       "      <th>neighborhood_name</th>\n",
       "      <th>geonames_id</th>\n",
       "      <th>lat</th>\n",
       "      <th>lon</th>\n",
       "      <th>price_aprox_usd</th>\n",
       "      <th>surface_total_in_m2</th>\n",
       "      <th>surface_covered_in_m2</th>\n",
       "      <th>price_usd_per_m2</th>\n",
       "      <th>floor</th>\n",
       "      <th>rooms_per_m2</th>\n",
       "      <th>rooms</th>\n",
       "      <th>expenses</th>\n",
       "      <th>description</th>\n",
       "      <th>title</th>\n",
       "    </tr>\n",
       "  </thead>\n",
       "  <tbody>\n",
       "    <tr>\n",
       "      <th>0</th>\n",
       "      <td>sell</td>\n",
       "      <td>PH</td>\n",
       "      <td>Argentina</td>\n",
       "      <td>Capital Federal</td>\n",
       "      <td>Mataderos</td>\n",
       "      <td>None</td>\n",
       "      <td>3430787.0</td>\n",
       "      <td>-34.661824</td>\n",
       "      <td>-58.508839</td>\n",
       "      <td>62000.0</td>\n",
       "      <td>40.0</td>\n",
       "      <td>40.0</td>\n",
       "      <td>1127.272727</td>\n",
       "      <td>NaN</td>\n",
       "      <td>0.050000</td>\n",
       "      <td>2.0</td>\n",
       "      <td>NaN</td>\n",
       "      <td>2 AMBIENTES TIPO CASA PLANTA BAJA POR PASILLO,...</td>\n",
       "      <td>2 AMB TIPO CASA SIN EXPENSAS EN PB</td>\n",
       "    </tr>\n",
       "    <tr>\n",
       "      <th>2</th>\n",
       "      <td>sell</td>\n",
       "      <td>apartment</td>\n",
       "      <td>Argentina</td>\n",
       "      <td>Capital Federal</td>\n",
       "      <td>Mataderos</td>\n",
       "      <td>None</td>\n",
       "      <td>3430787.0</td>\n",
       "      <td>-34.652262</td>\n",
       "      <td>-58.522982</td>\n",
       "      <td>72000.0</td>\n",
       "      <td>55.0</td>\n",
       "      <td>55.0</td>\n",
       "      <td>1309.090909</td>\n",
       "      <td>NaN</td>\n",
       "      <td>0.036364</td>\n",
       "      <td>2.0</td>\n",
       "      <td>NaN</td>\n",
       "      <td>2 AMBIENTES 3ER PISO LATERAL LIVING COMEDOR AM...</td>\n",
       "      <td>2 AMB 3ER PISO CON ASCENSOR APTO CREDITO</td>\n",
       "    </tr>\n",
       "    <tr>\n",
       "      <th>4</th>\n",
       "      <td>sell</td>\n",
       "      <td>apartment</td>\n",
       "      <td>Argentina</td>\n",
       "      <td>Buenos Aires Costa Atlántica</td>\n",
       "      <td>Mar del Plata</td>\n",
       "      <td>Centro</td>\n",
       "      <td>3435548.0</td>\n",
       "      <td>-38.002626</td>\n",
       "      <td>-57.549447</td>\n",
       "      <td>64000.0</td>\n",
       "      <td>35.0</td>\n",
       "      <td>35.0</td>\n",
       "      <td>1828.571429</td>\n",
       "      <td>NaN</td>\n",
       "      <td>0.057143</td>\n",
       "      <td>2.0</td>\n",
       "      <td>NaN</td>\n",
       "      <td>DEPARTAMENTO CON FANTÁSTICA ILUMINACIÓN NATURA...</td>\n",
       "      <td>DEPTO 2 AMB AL CONTRAFRENTE ZONA CENTRO/PLAZA ...</td>\n",
       "    </tr>\n",
       "    <tr>\n",
       "      <th>12</th>\n",
       "      <td>sell</td>\n",
       "      <td>apartment</td>\n",
       "      <td>Argentina</td>\n",
       "      <td>Bs.As. G.B.A. Zona Norte</td>\n",
       "      <td>San Isidro</td>\n",
       "      <td>Martínez</td>\n",
       "      <td>3430813.0</td>\n",
       "      <td>-34.486019</td>\n",
       "      <td>-58.503814</td>\n",
       "      <td>115000.0</td>\n",
       "      <td>36.0</td>\n",
       "      <td>36.0</td>\n",
       "      <td>2948.717949</td>\n",
       "      <td>NaN</td>\n",
       "      <td>0.055556</td>\n",
       "      <td>2.0</td>\n",
       "      <td>NaN</td>\n",
       "      <td>EXCELENTE DEPARTAMENTO 2 AMBIENTES CONTRAFRENT...</td>\n",
       "      <td>EXCELENTE DEPARTAMENTO 2 AMBIENTES CONTRAFRENT...</td>\n",
       "    </tr>\n",
       "    <tr>\n",
       "      <th>13</th>\n",
       "      <td>sell</td>\n",
       "      <td>apartment</td>\n",
       "      <td>Argentina</td>\n",
       "      <td>Capital Federal</td>\n",
       "      <td>Palermo</td>\n",
       "      <td>Palermo Soho</td>\n",
       "      <td>3430234.0</td>\n",
       "      <td>-34.588119</td>\n",
       "      <td>-58.426075</td>\n",
       "      <td>111700.0</td>\n",
       "      <td>30.0</td>\n",
       "      <td>30.0</td>\n",
       "      <td>2234.000000</td>\n",
       "      <td>NaN</td>\n",
       "      <td>0.033333</td>\n",
       "      <td>1.0</td>\n",
       "      <td>NaN</td>\n",
       "      <td>Torre I Mondrian. 3 ambientes con terraza y d...</td>\n",
       "      <td>Vitraux Palermo</td>\n",
       "    </tr>\n",
       "    <tr>\n",
       "      <th>...</th>\n",
       "      <td>...</td>\n",
       "      <td>...</td>\n",
       "      <td>...</td>\n",
       "      <td>...</td>\n",
       "      <td>...</td>\n",
       "      <td>...</td>\n",
       "      <td>...</td>\n",
       "      <td>...</td>\n",
       "      <td>...</td>\n",
       "      <td>...</td>\n",
       "      <td>...</td>\n",
       "      <td>...</td>\n",
       "      <td>...</td>\n",
       "      <td>...</td>\n",
       "      <td>...</td>\n",
       "      <td>...</td>\n",
       "      <td>...</td>\n",
       "      <td>...</td>\n",
       "      <td>...</td>\n",
       "    </tr>\n",
       "    <tr>\n",
       "      <th>121124</th>\n",
       "      <td>sell</td>\n",
       "      <td>apartment</td>\n",
       "      <td>Argentina</td>\n",
       "      <td>Capital Federal</td>\n",
       "      <td>None</td>\n",
       "      <td>None</td>\n",
       "      <td>3433955.0</td>\n",
       "      <td>-34.620669</td>\n",
       "      <td>-58.449887</td>\n",
       "      <td>16100.0</td>\n",
       "      <td>62.0</td>\n",
       "      <td>62.0</td>\n",
       "      <td>140.000000</td>\n",
       "      <td>NaN</td>\n",
       "      <td>0.048387</td>\n",
       "      <td>3.0</td>\n",
       "      <td>NaN</td>\n",
       "      <td>Departamentos Semipisos en Venta de 3 ambiente...</td>\n",
       "      <td>Departamento - P.Avellaneda</td>\n",
       "    </tr>\n",
       "    <tr>\n",
       "      <th>121131</th>\n",
       "      <td>sell</td>\n",
       "      <td>apartment</td>\n",
       "      <td>Argentina</td>\n",
       "      <td>Capital Federal</td>\n",
       "      <td>Recoleta</td>\n",
       "      <td>None</td>\n",
       "      <td>3429595.0</td>\n",
       "      <td>-34.590628</td>\n",
       "      <td>-58.397539</td>\n",
       "      <td>325000.0</td>\n",
       "      <td>113.0</td>\n",
       "      <td>113.0</td>\n",
       "      <td>2876.106195</td>\n",
       "      <td>NaN</td>\n",
       "      <td>0.035398</td>\n",
       "      <td>4.0</td>\n",
       "      <td>5100.0</td>\n",
       "      <td>Excelente semipiso al frente de 4 ambientes. E...</td>\n",
       "      <td>Venta departamento Recoleta, departamento 3 am...</td>\n",
       "    </tr>\n",
       "    <tr>\n",
       "      <th>121138</th>\n",
       "      <td>sell</td>\n",
       "      <td>apartment</td>\n",
       "      <td>Argentina</td>\n",
       "      <td>Capital Federal</td>\n",
       "      <td>Saavedra</td>\n",
       "      <td>None</td>\n",
       "      <td>3429422.0</td>\n",
       "      <td>-34.551583</td>\n",
       "      <td>-58.483477</td>\n",
       "      <td>208000.0</td>\n",
       "      <td>60.0</td>\n",
       "      <td>60.0</td>\n",
       "      <td>3014.492754</td>\n",
       "      <td>NaN</td>\n",
       "      <td>0.033333</td>\n",
       "      <td>2.0</td>\n",
       "      <td>2152.0</td>\n",
       "      <td>VENTA CON RENTA DEPARTAMENTO DE 2 AMBIENTES A ...</td>\n",
       "      <td>VENTA CON RENTA DEPARTAMENTO DE 2 AMBIENTES A ...</td>\n",
       "    </tr>\n",
       "    <tr>\n",
       "      <th>121153</th>\n",
       "      <td>sell</td>\n",
       "      <td>apartment</td>\n",
       "      <td>Argentina</td>\n",
       "      <td>Capital Federal</td>\n",
       "      <td>Barrio Norte</td>\n",
       "      <td>None</td>\n",
       "      <td>3436109.0</td>\n",
       "      <td>-34.599214</td>\n",
       "      <td>-58.402519</td>\n",
       "      <td>165000.0</td>\n",
       "      <td>65.0</td>\n",
       "      <td>65.0</td>\n",
       "      <td>1813.186813</td>\n",
       "      <td>NaN</td>\n",
       "      <td>0.046154</td>\n",
       "      <td>3.0</td>\n",
       "      <td>NaN</td>\n",
       "      <td>EXCELENTE DEPARTAMENTO CON TERRAZA PROPIA Y PA...</td>\n",
       "      <td>EXCELENTE DEPARTAMENTO DE 3 AMBIENTES CON TERR...</td>\n",
       "    </tr>\n",
       "    <tr>\n",
       "      <th>121218</th>\n",
       "      <td>sell</td>\n",
       "      <td>apartment</td>\n",
       "      <td>Argentina</td>\n",
       "      <td>Buenos Aires Costa Atlántica</td>\n",
       "      <td>Mar del Plata</td>\n",
       "      <td>Plaza Colón</td>\n",
       "      <td>NaN</td>\n",
       "      <td>-38.007122</td>\n",
       "      <td>-57.544079</td>\n",
       "      <td>95900.0</td>\n",
       "      <td>48.0</td>\n",
       "      <td>48.0</td>\n",
       "      <td>1997.916667</td>\n",
       "      <td>NaN</td>\n",
       "      <td>0.041667</td>\n",
       "      <td>2.0</td>\n",
       "      <td>NaN</td>\n",
       "      <td>2 Amb al contrafrente,  luminoso. El departame...</td>\n",
       "      <td>2 amb. C/ dep. de servicio al contrafrente| Re...</td>\n",
       "    </tr>\n",
       "  </tbody>\n",
       "</table>\n",
       "<p>46285 rows × 19 columns</p>\n",
       "</div>"
      ],
      "text/plain": [
       "       operation property_type country_name                    state_name  \\\n",
       "0           sell            PH    Argentina               Capital Federal   \n",
       "2           sell     apartment    Argentina               Capital Federal   \n",
       "4           sell     apartment    Argentina  Buenos Aires Costa Atlántica   \n",
       "12          sell     apartment    Argentina      Bs.As. G.B.A. Zona Norte   \n",
       "13          sell     apartment    Argentina               Capital Federal   \n",
       "...          ...           ...          ...                           ...   \n",
       "121124      sell     apartment    Argentina               Capital Federal   \n",
       "121131      sell     apartment    Argentina               Capital Federal   \n",
       "121138      sell     apartment    Argentina               Capital Federal   \n",
       "121153      sell     apartment    Argentina               Capital Federal   \n",
       "121218      sell     apartment    Argentina  Buenos Aires Costa Atlántica   \n",
       "\n",
       "            city_name neighborhood_name  geonames_id        lat        lon  \\\n",
       "0           Mataderos              None    3430787.0 -34.661824 -58.508839   \n",
       "2           Mataderos              None    3430787.0 -34.652262 -58.522982   \n",
       "4       Mar del Plata            Centro    3435548.0 -38.002626 -57.549447   \n",
       "12         San Isidro          Martínez    3430813.0 -34.486019 -58.503814   \n",
       "13            Palermo      Palermo Soho    3430234.0 -34.588119 -58.426075   \n",
       "...               ...               ...          ...        ...        ...   \n",
       "121124           None              None    3433955.0 -34.620669 -58.449887   \n",
       "121131       Recoleta              None    3429595.0 -34.590628 -58.397539   \n",
       "121138       Saavedra              None    3429422.0 -34.551583 -58.483477   \n",
       "121153   Barrio Norte              None    3436109.0 -34.599214 -58.402519   \n",
       "121218  Mar del Plata       Plaza Colón          NaN -38.007122 -57.544079   \n",
       "\n",
       "        price_aprox_usd  surface_total_in_m2  surface_covered_in_m2  \\\n",
       "0               62000.0                 40.0                   40.0   \n",
       "2               72000.0                 55.0                   55.0   \n",
       "4               64000.0                 35.0                   35.0   \n",
       "12             115000.0                 36.0                   36.0   \n",
       "13             111700.0                 30.0                   30.0   \n",
       "...                 ...                  ...                    ...   \n",
       "121124          16100.0                 62.0                   62.0   \n",
       "121131         325000.0                113.0                  113.0   \n",
       "121138         208000.0                 60.0                   60.0   \n",
       "121153         165000.0                 65.0                   65.0   \n",
       "121218          95900.0                 48.0                   48.0   \n",
       "\n",
       "        price_usd_per_m2 floor  rooms_per_m2  rooms  expenses  \\\n",
       "0            1127.272727   NaN      0.050000    2.0       NaN   \n",
       "2            1309.090909   NaN      0.036364    2.0       NaN   \n",
       "4            1828.571429   NaN      0.057143    2.0       NaN   \n",
       "12           2948.717949   NaN      0.055556    2.0       NaN   \n",
       "13           2234.000000   NaN      0.033333    1.0       NaN   \n",
       "...                  ...   ...           ...    ...       ...   \n",
       "121124        140.000000   NaN      0.048387    3.0       NaN   \n",
       "121131       2876.106195   NaN      0.035398    4.0    5100.0   \n",
       "121138       3014.492754   NaN      0.033333    2.0    2152.0   \n",
       "121153       1813.186813   NaN      0.046154    3.0       NaN   \n",
       "121218       1997.916667   NaN      0.041667    2.0       NaN   \n",
       "\n",
       "                                              description  \\\n",
       "0       2 AMBIENTES TIPO CASA PLANTA BAJA POR PASILLO,...   \n",
       "2       2 AMBIENTES 3ER PISO LATERAL LIVING COMEDOR AM...   \n",
       "4       DEPARTAMENTO CON FANTÁSTICA ILUMINACIÓN NATURA...   \n",
       "12      EXCELENTE DEPARTAMENTO 2 AMBIENTES CONTRAFRENT...   \n",
       "13       Torre I Mondrian. 3 ambientes con terraza y d...   \n",
       "...                                                   ...   \n",
       "121124  Departamentos Semipisos en Venta de 3 ambiente...   \n",
       "121131  Excelente semipiso al frente de 4 ambientes. E...   \n",
       "121138  VENTA CON RENTA DEPARTAMENTO DE 2 AMBIENTES A ...   \n",
       "121153  EXCELENTE DEPARTAMENTO CON TERRAZA PROPIA Y PA...   \n",
       "121218  2 Amb al contrafrente,  luminoso. El departame...   \n",
       "\n",
       "                                                    title  \n",
       "0                      2 AMB TIPO CASA SIN EXPENSAS EN PB  \n",
       "2                2 AMB 3ER PISO CON ASCENSOR APTO CREDITO  \n",
       "4       DEPTO 2 AMB AL CONTRAFRENTE ZONA CENTRO/PLAZA ...  \n",
       "12      EXCELENTE DEPARTAMENTO 2 AMBIENTES CONTRAFRENT...  \n",
       "13                                        Vitraux Palermo  \n",
       "...                                                   ...  \n",
       "121124                        Departamento - P.Avellaneda  \n",
       "121131  Venta departamento Recoleta, departamento 3 am...  \n",
       "121138  VENTA CON RENTA DEPARTAMENTO DE 2 AMBIENTES A ...  \n",
       "121153  EXCELENTE DEPARTAMENTO DE 3 AMBIENTES CON TERR...  \n",
       "121218  2 amb. C/ dep. de servicio al contrafrente| Re...  \n",
       "\n",
       "[46285 rows x 19 columns]"
      ]
     },
     "execution_count": 151,
     "metadata": {},
     "output_type": "execute_result"
    }
   ],
   "source": [
    "data"
   ]
  },
  {
   "cell_type": "code",
   "execution_count": 152,
   "id": "96ff64ab",
   "metadata": {},
   "outputs": [
    {
     "data": {
      "text/html": [
       "<div>\n",
       "<style scoped>\n",
       "    .dataframe tbody tr th:only-of-type {\n",
       "        vertical-align: middle;\n",
       "    }\n",
       "\n",
       "    .dataframe tbody tr th {\n",
       "        vertical-align: top;\n",
       "    }\n",
       "\n",
       "    .dataframe thead th {\n",
       "        text-align: right;\n",
       "    }\n",
       "</style>\n",
       "<table border=\"1\" class=\"dataframe\">\n",
       "  <thead>\n",
       "    <tr style=\"text-align: right;\">\n",
       "      <th></th>\n",
       "      <th>operation</th>\n",
       "      <th>property_type</th>\n",
       "      <th>country_name</th>\n",
       "      <th>state_name</th>\n",
       "      <th>city_name</th>\n",
       "      <th>neighborhood_name</th>\n",
       "      <th>geonames_id</th>\n",
       "      <th>lat</th>\n",
       "      <th>lon</th>\n",
       "      <th>price_aprox_usd</th>\n",
       "      <th>surface_total_in_m2</th>\n",
       "      <th>surface_covered_in_m2</th>\n",
       "      <th>price_usd_per_m2</th>\n",
       "      <th>floor</th>\n",
       "      <th>rooms_per_m2</th>\n",
       "      <th>rooms</th>\n",
       "      <th>expenses</th>\n",
       "      <th>description</th>\n",
       "      <th>title</th>\n",
       "    </tr>\n",
       "  </thead>\n",
       "  <tbody>\n",
       "    <tr>\n",
       "      <th>9</th>\n",
       "      <td>sell</td>\n",
       "      <td>house</td>\n",
       "      <td>Argentina</td>\n",
       "      <td>Santa Fe</td>\n",
       "      <td>Rosario</td>\n",
       "      <td>None</td>\n",
       "      <td>3838574.0</td>\n",
       "      <td>-32.942031</td>\n",
       "      <td>-60.725919</td>\n",
       "      <td>25798.49</td>\n",
       "      <td>7637.0</td>\n",
       "      <td>7637.0</td>\n",
       "      <td>NaN</td>\n",
       "      <td>NaN</td>\n",
       "      <td>NaN</td>\n",
       "      <td>NaN</td>\n",
       "      <td>NaN</td>\n",
       "      <td>MEDNOZA AL 7600A UNA CUADRA DE CALLE MENDOZAWH...</td>\n",
       "      <td>WHITE 7637 - 2 DORMITORIOS CON PATIO</td>\n",
       "    </tr>\n",
       "    <tr>\n",
       "      <th>10</th>\n",
       "      <td>sell</td>\n",
       "      <td>house</td>\n",
       "      <td>Argentina</td>\n",
       "      <td>Córdoba</td>\n",
       "      <td>Córdoba</td>\n",
       "      <td>None</td>\n",
       "      <td>3860259.0</td>\n",
       "      <td>-31.420083</td>\n",
       "      <td>-64.188776</td>\n",
       "      <td>70000.00</td>\n",
       "      <td>1514.0</td>\n",
       "      <td>1514.0</td>\n",
       "      <td>NaN</td>\n",
       "      <td>NaN</td>\n",
       "      <td>NaN</td>\n",
       "      <td>NaN</td>\n",
       "      <td>NaN</td>\n",
       "      <td>Hermosa casa sin terminar de 3 dormitorios, ba...</td>\n",
       "      <td>Casa sin terminar en Falda de Cañete.         ...</td>\n",
       "    </tr>\n",
       "    <tr>\n",
       "      <th>27</th>\n",
       "      <td>sell</td>\n",
       "      <td>house</td>\n",
       "      <td>Argentina</td>\n",
       "      <td>Bs.As. G.B.A. Zona Norte</td>\n",
       "      <td>Pilar</td>\n",
       "      <td>Estancias del Pilar</td>\n",
       "      <td>NaN</td>\n",
       "      <td>-34.479486</td>\n",
       "      <td>-58.984541</td>\n",
       "      <td>650000.00</td>\n",
       "      <td>425.0</td>\n",
       "      <td>425.0</td>\n",
       "      <td>1529.411765</td>\n",
       "      <td>NaN</td>\n",
       "      <td>NaN</td>\n",
       "      <td>NaN</td>\n",
       "      <td>NaN</td>\n",
       "      <td>Estancias propone vivir rodeados de naturaleza...</td>\n",
       "      <td>Excelente Propiedad!!!! en Estancias del Pilar</td>\n",
       "    </tr>\n",
       "    <tr>\n",
       "      <th>36</th>\n",
       "      <td>sell</td>\n",
       "      <td>house</td>\n",
       "      <td>Argentina</td>\n",
       "      <td>Bs.As. G.B.A. Zona Norte</td>\n",
       "      <td>Pilar</td>\n",
       "      <td>Pilar</td>\n",
       "      <td>NaN</td>\n",
       "      <td>-34.463098</td>\n",
       "      <td>-58.902199</td>\n",
       "      <td>400000.00</td>\n",
       "      <td>400.0</td>\n",
       "      <td>400.0</td>\n",
       "      <td>1000.000000</td>\n",
       "      <td>NaN</td>\n",
       "      <td>NaN</td>\n",
       "      <td>NaN</td>\n",
       "      <td>NaN</td>\n",
       "      <td>Casa en Pilar centro ,a pocas cuadras de la pl...</td>\n",
       "      <td>Casa en Pilar Centro-Excelente Estado</td>\n",
       "    </tr>\n",
       "    <tr>\n",
       "      <th>51</th>\n",
       "      <td>sell</td>\n",
       "      <td>house</td>\n",
       "      <td>Argentina</td>\n",
       "      <td>Capital Federal</td>\n",
       "      <td>Boedo</td>\n",
       "      <td>None</td>\n",
       "      <td>3436003.0</td>\n",
       "      <td>-34.636321</td>\n",
       "      <td>-58.410702</td>\n",
       "      <td>550000.00</td>\n",
       "      <td>504.0</td>\n",
       "      <td>324.0</td>\n",
       "      <td>1091.269841</td>\n",
       "      <td>NaN</td>\n",
       "      <td>0.018519</td>\n",
       "      <td>6.0</td>\n",
       "      <td>NaN</td>\n",
       "      <td>Se encuentra dentro del Distrito Tecnológico. ...</td>\n",
       "      <td>Casa impecable refaccionada! 6 ambientes.</td>\n",
       "    </tr>\n",
       "    <tr>\n",
       "      <th>...</th>\n",
       "      <td>...</td>\n",
       "      <td>...</td>\n",
       "      <td>...</td>\n",
       "      <td>...</td>\n",
       "      <td>...</td>\n",
       "      <td>...</td>\n",
       "      <td>...</td>\n",
       "      <td>...</td>\n",
       "      <td>...</td>\n",
       "      <td>...</td>\n",
       "      <td>...</td>\n",
       "      <td>...</td>\n",
       "      <td>...</td>\n",
       "      <td>...</td>\n",
       "      <td>...</td>\n",
       "      <td>...</td>\n",
       "      <td>...</td>\n",
       "      <td>...</td>\n",
       "      <td>...</td>\n",
       "    </tr>\n",
       "    <tr>\n",
       "      <th>120124</th>\n",
       "      <td>sell</td>\n",
       "      <td>apartment</td>\n",
       "      <td>Argentina</td>\n",
       "      <td>Buenos Aires Costa Atlántica</td>\n",
       "      <td>Pinamar</td>\n",
       "      <td>None</td>\n",
       "      <td>3429971.0</td>\n",
       "      <td>-37.114345</td>\n",
       "      <td>-56.862492</td>\n",
       "      <td>235000.00</td>\n",
       "      <td>120.0</td>\n",
       "      <td>20.0</td>\n",
       "      <td>11750.000000</td>\n",
       "      <td>NaN</td>\n",
       "      <td>0.200000</td>\n",
       "      <td>4.0</td>\n",
       "      <td>NaN</td>\n",
       "      <td>EL EDIFICIO CUENTA CON ENCARGADO PERMANENTE , ...</td>\n",
       "      <td>CENTRICO SEMIPISO DE CATEGORIA</td>\n",
       "    </tr>\n",
       "    <tr>\n",
       "      <th>121093</th>\n",
       "      <td>sell</td>\n",
       "      <td>apartment</td>\n",
       "      <td>Argentina</td>\n",
       "      <td>Capital Federal</td>\n",
       "      <td>Palermo</td>\n",
       "      <td>None</td>\n",
       "      <td>3430234.0</td>\n",
       "      <td>-34.570179</td>\n",
       "      <td>-58.432229</td>\n",
       "      <td>620000.00</td>\n",
       "      <td>90.0</td>\n",
       "      <td>85.0</td>\n",
       "      <td>6888.888889</td>\n",
       "      <td>NaN</td>\n",
       "      <td>0.035294</td>\n",
       "      <td>3.0</td>\n",
       "      <td>8000.0</td>\n",
       "      <td>EXCELENTE DEPTO IMPECABLE ESTADO, PISO ALTO VI...</td>\n",
       "      <td>TORRE ARCE 555 3 AMB VISTA RIO</td>\n",
       "    </tr>\n",
       "    <tr>\n",
       "      <th>121100</th>\n",
       "      <td>sell</td>\n",
       "      <td>apartment</td>\n",
       "      <td>Argentina</td>\n",
       "      <td>Capital Federal</td>\n",
       "      <td>Palermo</td>\n",
       "      <td>None</td>\n",
       "      <td>3430234.0</td>\n",
       "      <td>-34.570179</td>\n",
       "      <td>-58.432229</td>\n",
       "      <td>620000.00</td>\n",
       "      <td>90.0</td>\n",
       "      <td>85.0</td>\n",
       "      <td>6888.888889</td>\n",
       "      <td>NaN</td>\n",
       "      <td>0.035294</td>\n",
       "      <td>3.0</td>\n",
       "      <td>8000.0</td>\n",
       "      <td>EXCELENTE DEPTO IMPECABLE ESTADO, PISO ALTO VI...</td>\n",
       "      <td>TORRE ARCE 555 3 AMB VISTA RIO</td>\n",
       "    </tr>\n",
       "    <tr>\n",
       "      <th>121130</th>\n",
       "      <td>sell</td>\n",
       "      <td>PH</td>\n",
       "      <td>Argentina</td>\n",
       "      <td>Bs.As. G.B.A. Zona Sur</td>\n",
       "      <td>Lomas de Zamora</td>\n",
       "      <td>Banfield</td>\n",
       "      <td>3436152.0</td>\n",
       "      <td>NaN</td>\n",
       "      <td>NaN</td>\n",
       "      <td>95000.00</td>\n",
       "      <td>12.0</td>\n",
       "      <td>12.0</td>\n",
       "      <td>7916.666667</td>\n",
       "      <td>NaN</td>\n",
       "      <td>NaN</td>\n",
       "      <td>NaN</td>\n",
       "      <td>NaN</td>\n",
       "      <td>DEPARTAMENTO A REFRACCIONADO . A ESTRENARPH IN...</td>\n",
       "      <td>PH - Banfield</td>\n",
       "    </tr>\n",
       "    <tr>\n",
       "      <th>121215</th>\n",
       "      <td>sell</td>\n",
       "      <td>apartment</td>\n",
       "      <td>Argentina</td>\n",
       "      <td>Capital Federal</td>\n",
       "      <td>Belgrano</td>\n",
       "      <td>None</td>\n",
       "      <td>3436077.0</td>\n",
       "      <td>NaN</td>\n",
       "      <td>NaN</td>\n",
       "      <td>870000.00</td>\n",
       "      <td>113.0</td>\n",
       "      <td>93.0</td>\n",
       "      <td>7699.115044</td>\n",
       "      <td>NaN</td>\n",
       "      <td>0.032258</td>\n",
       "      <td>3.0</td>\n",
       "      <td>10000.0</td>\n",
       "      <td>TORRE FORUM ALCORTA - MÁXIMA CATEGORÍA.Impecab...</td>\n",
       "      <td>Torre Forum Alcorta- Impecable 3 ambientes</td>\n",
       "    </tr>\n",
       "  </tbody>\n",
       "</table>\n",
       "<p>33029 rows × 19 columns</p>\n",
       "</div>"
      ],
      "text/plain": [
       "       operation property_type country_name                    state_name  \\\n",
       "9           sell         house    Argentina                      Santa Fe   \n",
       "10          sell         house    Argentina                       Córdoba   \n",
       "27          sell         house    Argentina      Bs.As. G.B.A. Zona Norte   \n",
       "36          sell         house    Argentina      Bs.As. G.B.A. Zona Norte   \n",
       "51          sell         house    Argentina               Capital Federal   \n",
       "...          ...           ...          ...                           ...   \n",
       "120124      sell     apartment    Argentina  Buenos Aires Costa Atlántica   \n",
       "121093      sell     apartment    Argentina               Capital Federal   \n",
       "121100      sell     apartment    Argentina               Capital Federal   \n",
       "121130      sell            PH    Argentina        Bs.As. G.B.A. Zona Sur   \n",
       "121215      sell     apartment    Argentina               Capital Federal   \n",
       "\n",
       "              city_name    neighborhood_name  geonames_id        lat  \\\n",
       "9               Rosario                 None    3838574.0 -32.942031   \n",
       "10              Córdoba                 None    3860259.0 -31.420083   \n",
       "27                Pilar  Estancias del Pilar          NaN -34.479486   \n",
       "36                Pilar                Pilar          NaN -34.463098   \n",
       "51                Boedo                 None    3436003.0 -34.636321   \n",
       "...                 ...                  ...          ...        ...   \n",
       "120124          Pinamar                 None    3429971.0 -37.114345   \n",
       "121093          Palermo                 None    3430234.0 -34.570179   \n",
       "121100          Palermo                 None    3430234.0 -34.570179   \n",
       "121130  Lomas de Zamora             Banfield    3436152.0        NaN   \n",
       "121215         Belgrano                 None    3436077.0        NaN   \n",
       "\n",
       "              lon  price_aprox_usd  surface_total_in_m2  \\\n",
       "9      -60.725919         25798.49               7637.0   \n",
       "10     -64.188776         70000.00               1514.0   \n",
       "27     -58.984541        650000.00                425.0   \n",
       "36     -58.902199        400000.00                400.0   \n",
       "51     -58.410702        550000.00                504.0   \n",
       "...           ...              ...                  ...   \n",
       "120124 -56.862492        235000.00                120.0   \n",
       "121093 -58.432229        620000.00                 90.0   \n",
       "121100 -58.432229        620000.00                 90.0   \n",
       "121130        NaN         95000.00                 12.0   \n",
       "121215        NaN        870000.00                113.0   \n",
       "\n",
       "        surface_covered_in_m2  price_usd_per_m2 floor  rooms_per_m2  rooms  \\\n",
       "9                      7637.0               NaN   NaN           NaN    NaN   \n",
       "10                     1514.0               NaN   NaN           NaN    NaN   \n",
       "27                      425.0       1529.411765   NaN           NaN    NaN   \n",
       "36                      400.0       1000.000000   NaN           NaN    NaN   \n",
       "51                      324.0       1091.269841   NaN      0.018519    6.0   \n",
       "...                       ...               ...   ...           ...    ...   \n",
       "120124                   20.0      11750.000000   NaN      0.200000    4.0   \n",
       "121093                   85.0       6888.888889   NaN      0.035294    3.0   \n",
       "121100                   85.0       6888.888889   NaN      0.035294    3.0   \n",
       "121130                   12.0       7916.666667   NaN           NaN    NaN   \n",
       "121215                   93.0       7699.115044   NaN      0.032258    3.0   \n",
       "\n",
       "        expenses                                        description  \\\n",
       "9            NaN  MEDNOZA AL 7600A UNA CUADRA DE CALLE MENDOZAWH...   \n",
       "10           NaN  Hermosa casa sin terminar de 3 dormitorios, ba...   \n",
       "27           NaN  Estancias propone vivir rodeados de naturaleza...   \n",
       "36           NaN  Casa en Pilar centro ,a pocas cuadras de la pl...   \n",
       "51           NaN  Se encuentra dentro del Distrito Tecnológico. ...   \n",
       "...          ...                                                ...   \n",
       "120124       NaN  EL EDIFICIO CUENTA CON ENCARGADO PERMANENTE , ...   \n",
       "121093    8000.0  EXCELENTE DEPTO IMPECABLE ESTADO, PISO ALTO VI...   \n",
       "121100    8000.0  EXCELENTE DEPTO IMPECABLE ESTADO, PISO ALTO VI...   \n",
       "121130       NaN  DEPARTAMENTO A REFRACCIONADO . A ESTRENARPH IN...   \n",
       "121215   10000.0  TORRE FORUM ALCORTA - MÁXIMA CATEGORÍA.Impecab...   \n",
       "\n",
       "                                                    title  \n",
       "9              WHITE 7637 - 2 DORMITORIOS CON PATIO        \n",
       "10      Casa sin terminar en Falda de Cañete.         ...  \n",
       "27         Excelente Propiedad!!!! en Estancias del Pilar  \n",
       "36                  Casa en Pilar Centro-Excelente Estado  \n",
       "51              Casa impecable refaccionada! 6 ambientes.  \n",
       "...                                                   ...  \n",
       "120124                     CENTRICO SEMIPISO DE CATEGORIA  \n",
       "121093                     TORRE ARCE 555 3 AMB VISTA RIO  \n",
       "121100                     TORRE ARCE 555 3 AMB VISTA RIO  \n",
       "121130                                      PH - Banfield  \n",
       "121215         Torre Forum Alcorta- Impecable 3 ambientes  \n",
       "\n",
       "[33029 rows x 19 columns]"
      ]
     },
     "execution_count": 152,
     "metadata": {},
     "output_type": "execute_result"
    }
   ],
   "source": [
    "data_outliers"
   ]
  }
 ],
 "metadata": {
  "kernelspec": {
   "display_name": "Python 3 (ipykernel)",
   "language": "python",
   "name": "python3"
  },
  "language_info": {
   "codemirror_mode": {
    "name": "ipython",
    "version": 3
   },
   "file_extension": ".py",
   "mimetype": "text/x-python",
   "name": "python",
   "nbconvert_exporter": "python",
   "pygments_lexer": "ipython3",
   "version": "3.8.13"
  }
 },
 "nbformat": 4,
 "nbformat_minor": 5
}
